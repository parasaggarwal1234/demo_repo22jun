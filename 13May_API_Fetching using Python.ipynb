{
 "cells": [
  {
   "cell_type": "code",
   "execution_count": 8,
   "id": "3240a78e",
   "metadata": {},
   "outputs": [],
   "source": [
    "import requests\n",
    "import pandas as pd"
   ]
  },
  {
   "cell_type": "code",
   "execution_count": 6,
   "id": "894b3293",
   "metadata": {},
   "outputs": [],
   "source": [
    "url = \"https://jsonplaceholder.typicode.com/posts\""
   ]
  },
  {
   "cell_type": "code",
   "execution_count": 9,
   "id": "1d624277",
   "metadata": {},
   "outputs": [
    {
     "name": "stdout",
     "output_type": "stream",
     "text": [
      "<Response [200]>\n"
     ]
    }
   ],
   "source": [
    "r = requests.get(url)\n",
    "print(r)"
   ]
  },
  {
   "cell_type": "code",
   "execution_count": 10,
   "id": "e7f96019",
   "metadata": {},
   "outputs": [
    {
     "name": "stdout",
     "output_type": "stream",
     "text": [
      "[{'userId': 1, 'id': 1, 'title': 'sunt aut facere repellat provident occaecati excepturi optio reprehenderit', 'body': 'quia et suscipit\\nsuscipit recusandae consequuntur expedita et cum\\nreprehenderit molestiae ut ut quas totam\\nnostrum rerum est autem sunt rem eveniet architecto'}, {'userId': 1, 'id': 2, 'title': 'qui est esse', 'body': 'est rerum tempore vitae\\nsequi sint nihil reprehenderit dolor beatae ea dolores neque\\nfugiat blanditiis voluptate porro vel nihil molestiae ut reiciendis\\nqui aperiam non debitis possimus qui neque nisi nulla'}, {'userId': 1, 'id': 3, 'title': 'ea molestias quasi exercitationem repellat qui ipsa sit aut', 'body': 'et iusto sed quo iure\\nvoluptatem occaecati omnis eligendi aut ad\\nvoluptatem doloribus vel accusantium quis pariatur\\nmolestiae porro eius odio et labore et velit aut'}, {'userId': 1, 'id': 4, 'title': 'eum et est occaecati', 'body': 'ullam et saepe reiciendis voluptatem adipisci\\nsit amet autem assumenda provident rerum culpa\\nquis hic commodi nesciunt rem tenetur doloremque ipsam iure\\nquis sunt voluptatem rerum illo velit'}, {'userId': 1, 'id': 5, 'title': 'nesciunt quas odio', 'body': 'repudiandae veniam quaerat sunt sed\\nalias aut fugiat sit autem sed est\\nvoluptatem omnis possimus esse voluptatibus quis\\nest aut tenetur dolor neque'}, {'userId': 1, 'id': 6, 'title': 'dolorem eum magni eos aperiam quia', 'body': 'ut aspernatur corporis harum nihil quis provident sequi\\nmollitia nobis aliquid molestiae\\nperspiciatis et ea nemo ab reprehenderit accusantium quas\\nvoluptate dolores velit et doloremque molestiae'}, {'userId': 1, 'id': 7, 'title': 'magnam facilis autem', 'body': 'dolore placeat quibusdam ea quo vitae\\nmagni quis enim qui quis quo nemo aut saepe\\nquidem repellat excepturi ut quia\\nsunt ut sequi eos ea sed quas'}, {'userId': 1, 'id': 8, 'title': 'dolorem dolore est ipsam', 'body': 'dignissimos aperiam dolorem qui eum\\nfacilis quibusdam animi sint suscipit qui sint possimus cum\\nquaerat magni maiores excepturi\\nipsam ut commodi dolor voluptatum modi aut vitae'}, {'userId': 1, 'id': 9, 'title': 'nesciunt iure omnis dolorem tempora et accusantium', 'body': 'consectetur animi nesciunt iure dolore\\nenim quia ad\\nveniam autem ut quam aut nobis\\net est aut quod aut provident voluptas autem voluptas'}, {'userId': 1, 'id': 10, 'title': 'optio molestias id quia eum', 'body': 'quo et expedita modi cum officia vel magni\\ndoloribus qui repudiandae\\nvero nisi sit\\nquos veniam quod sed accusamus veritatis error'}, {'userId': 2, 'id': 11, 'title': 'et ea vero quia laudantium autem', 'body': 'delectus reiciendis molestiae occaecati non minima eveniet qui voluptatibus\\naccusamus in eum beatae sit\\nvel qui neque voluptates ut commodi qui incidunt\\nut animi commodi'}, {'userId': 2, 'id': 12, 'title': 'in quibusdam tempore odit est dolorem', 'body': 'itaque id aut magnam\\npraesentium quia et ea odit et ea voluptas et\\nsapiente quia nihil amet occaecati quia id voluptatem\\nincidunt ea est distinctio odio'}, {'userId': 2, 'id': 13, 'title': 'dolorum ut in voluptas mollitia et saepe quo animi', 'body': 'aut dicta possimus sint mollitia voluptas commodi quo doloremque\\niste corrupti reiciendis voluptatem eius rerum\\nsit cumque quod eligendi laborum minima\\nperferendis recusandae assumenda consectetur porro architecto ipsum ipsam'}, {'userId': 2, 'id': 14, 'title': 'voluptatem eligendi optio', 'body': 'fuga et accusamus dolorum perferendis illo voluptas\\nnon doloremque neque facere\\nad qui dolorum molestiae beatae\\nsed aut voluptas totam sit illum'}, {'userId': 2, 'id': 15, 'title': 'eveniet quod temporibus', 'body': 'reprehenderit quos placeat\\nvelit minima officia dolores impedit repudiandae molestiae nam\\nvoluptas recusandae quis delectus\\nofficiis harum fugiat vitae'}, {'userId': 2, 'id': 16, 'title': 'sint suscipit perspiciatis velit dolorum rerum ipsa laboriosam odio', 'body': 'suscipit nam nisi quo aperiam aut\\nasperiores eos fugit maiores voluptatibus quia\\nvoluptatem quis ullam qui in alias quia est\\nconsequatur magni mollitia accusamus ea nisi voluptate dicta'}, {'userId': 2, 'id': 17, 'title': 'fugit voluptas sed molestias voluptatem provident', 'body': 'eos voluptas et aut odit natus earum\\naspernatur fuga molestiae ullam\\ndeserunt ratione qui eos\\nqui nihil ratione nemo velit ut aut id quo'}, {'userId': 2, 'id': 18, 'title': 'voluptate et itaque vero tempora molestiae', 'body': 'eveniet quo quis\\nlaborum totam consequatur non dolor\\nut et est repudiandae\\nest voluptatem vel debitis et magnam'}, {'userId': 2, 'id': 19, 'title': 'adipisci placeat illum aut reiciendis qui', 'body': 'illum quis cupiditate provident sit magnam\\nea sed aut omnis\\nveniam maiores ullam consequatur atque\\nadipisci quo iste expedita sit quos voluptas'}, {'userId': 2, 'id': 20, 'title': 'doloribus ad provident suscipit at', 'body': 'qui consequuntur ducimus possimus quisquam amet similique\\nsuscipit porro ipsam amet\\neos veritatis officiis exercitationem vel fugit aut necessitatibus totam\\nomnis rerum consequatur expedita quidem cumque explicabo'}, {'userId': 3, 'id': 21, 'title': 'asperiores ea ipsam voluptatibus modi minima quia sint', 'body': 'repellat aliquid praesentium dolorem quo\\nsed totam minus non itaque\\nnihil labore molestiae sunt dolor eveniet hic recusandae veniam\\ntempora et tenetur expedita sunt'}, {'userId': 3, 'id': 22, 'title': 'dolor sint quo a velit explicabo quia nam', 'body': 'eos qui et ipsum ipsam suscipit aut\\nsed omnis non odio\\nexpedita earum mollitia molestiae aut atque rem suscipit\\nnam impedit esse'}, {'userId': 3, 'id': 23, 'title': 'maxime id vitae nihil numquam', 'body': 'veritatis unde neque eligendi\\nquae quod architecto quo neque vitae\\nest illo sit tempora doloremque fugit quod\\net et vel beatae sequi ullam sed tenetur perspiciatis'}, {'userId': 3, 'id': 24, 'title': 'autem hic labore sunt dolores incidunt', 'body': 'enim et ex nulla\\nomnis voluptas quia qui\\nvoluptatem consequatur numquam aliquam sunt\\ntotam recusandae id dignissimos aut sed asperiores deserunt'}, {'userId': 3, 'id': 25, 'title': 'rem alias distinctio quo quis', 'body': 'ullam consequatur ut\\nomnis quis sit vel consequuntur\\nipsa eligendi ipsum molestiae et omnis error nostrum\\nmolestiae illo tempore quia et distinctio'}, {'userId': 3, 'id': 26, 'title': 'est et quae odit qui non', 'body': 'similique esse doloribus nihil accusamus\\nomnis dolorem fuga consequuntur reprehenderit fugit recusandae temporibus\\nperspiciatis cum ut laudantium\\nomnis aut molestiae vel vero'}, {'userId': 3, 'id': 27, 'title': 'quasi id et eos tenetur aut quo autem', 'body': 'eum sed dolores ipsam sint possimus debitis occaecati\\ndebitis qui qui et\\nut placeat enim earum aut odit facilis\\nconsequatur suscipit necessitatibus rerum sed inventore temporibus consequatur'}, {'userId': 3, 'id': 28, 'title': 'delectus ullam et corporis nulla voluptas sequi', 'body': 'non et quaerat ex quae ad maiores\\nmaiores recusandae totam aut blanditiis mollitia quas illo\\nut voluptatibus voluptatem\\nsimilique nostrum eum'}, {'userId': 3, 'id': 29, 'title': 'iusto eius quod necessitatibus culpa ea', 'body': 'odit magnam ut saepe sed non qui\\ntempora atque nihil\\naccusamus illum doloribus illo dolor\\neligendi repudiandae odit magni similique sed cum maiores'}, {'userId': 3, 'id': 30, 'title': 'a quo magni similique perferendis', 'body': 'alias dolor cumque\\nimpedit blanditiis non eveniet odio maxime\\nblanditiis amet eius quis tempora quia autem rem\\na provident perspiciatis quia'}, {'userId': 4, 'id': 31, 'title': 'ullam ut quidem id aut vel consequuntur', 'body': 'debitis eius sed quibusdam non quis consectetur vitae\\nimpedit ut qui consequatur sed aut in\\nquidem sit nostrum et maiores adipisci atque\\nquaerat voluptatem adipisci repudiandae'}, {'userId': 4, 'id': 32, 'title': 'doloremque illum aliquid sunt', 'body': 'deserunt eos nobis asperiores et hic\\nest debitis repellat molestiae optio\\nnihil ratione ut eos beatae quibusdam distinctio maiores\\nearum voluptates et aut adipisci ea maiores voluptas maxime'}, {'userId': 4, 'id': 33, 'title': 'qui explicabo molestiae dolorem', 'body': 'rerum ut et numquam laborum odit est sit\\nid qui sint in\\nquasi tenetur tempore aperiam et quaerat qui in\\nrerum officiis sequi cumque quod'}, {'userId': 4, 'id': 34, 'title': 'magnam ut rerum iure', 'body': 'ea velit perferendis earum ut voluptatem voluptate itaque iusto\\ntotam pariatur in\\nnemo voluptatem voluptatem autem magni tempora minima in\\nest distinctio qui assumenda accusamus dignissimos officia nesciunt nobis'}, {'userId': 4, 'id': 35, 'title': 'id nihil consequatur molestias animi provident', 'body': 'nisi error delectus possimus ut eligendi vitae\\nplaceat eos harum cupiditate facilis reprehenderit voluptatem beatae\\nmodi ducimus quo illum voluptas eligendi\\net nobis quia fugit'}, {'userId': 4, 'id': 36, 'title': 'fuga nam accusamus voluptas reiciendis itaque', 'body': 'ad mollitia et omnis minus architecto odit\\nvoluptas doloremque maxime aut non ipsa qui alias veniam\\nblanditiis culpa aut quia nihil cumque facere et occaecati\\nqui aspernatur quia eaque ut aperiam inventore'}, {'userId': 4, 'id': 37, 'title': 'provident vel ut sit ratione est', 'body': 'debitis et eaque non officia sed nesciunt pariatur vel\\nvoluptatem iste vero et ea\\nnumquam aut expedita ipsum nulla in\\nvoluptates omnis consequatur aut enim officiis in quam qui'}, {'userId': 4, 'id': 38, 'title': 'explicabo et eos deleniti nostrum ab id repellendus', 'body': 'animi esse sit aut sit nesciunt assumenda eum voluptas\\nquia voluptatibus provident quia necessitatibus ea\\nrerum repudiandae quia voluptatem delectus fugit aut id quia\\nratione optio eos iusto veniam iure'}, {'userId': 4, 'id': 39, 'title': 'eos dolorem iste accusantium est eaque quam', 'body': 'corporis rerum ducimus vel eum accusantium\\nmaxime aspernatur a porro possimus iste omnis\\nest in deleniti asperiores fuga aut\\nvoluptas sapiente vel dolore minus voluptatem incidunt ex'}, {'userId': 4, 'id': 40, 'title': 'enim quo cumque', 'body': 'ut voluptatum aliquid illo tenetur nemo sequi quo facilis\\nipsum rem optio mollitia quas\\nvoluptatem eum voluptas qui\\nunde omnis voluptatem iure quasi maxime voluptas nam'}, {'userId': 5, 'id': 41, 'title': 'non est facere', 'body': 'molestias id nostrum\\nexcepturi molestiae dolore omnis repellendus quaerat saepe\\nconsectetur iste quaerat tenetur asperiores accusamus ex ut\\nnam quidem est ducimus sunt debitis saepe'}, {'userId': 5, 'id': 42, 'title': 'commodi ullam sint et excepturi error explicabo praesentium voluptas', 'body': 'odio fugit voluptatum ducimus earum autem est incidunt voluptatem\\nodit reiciendis aliquam sunt sequi nulla dolorem\\nnon facere repellendus voluptates quia\\nratione harum vitae ut'}, {'userId': 5, 'id': 43, 'title': 'eligendi iste nostrum consequuntur adipisci praesentium sit beatae perferendis', 'body': 'similique fugit est\\nillum et dolorum harum et voluptate eaque quidem\\nexercitationem quos nam commodi possimus cum odio nihil nulla\\ndolorum exercitationem magnam ex et a et distinctio debitis'}, {'userId': 5, 'id': 44, 'title': 'optio dolor molestias sit', 'body': 'temporibus est consectetur dolore\\net libero debitis vel velit laboriosam quia\\nipsum quibusdam qui itaque fuga rem aut\\nea et iure quam sed maxime ut distinctio quae'}, {'userId': 5, 'id': 45, 'title': 'ut numquam possimus omnis eius suscipit laudantium iure', 'body': 'est natus reiciendis nihil possimus aut provident\\nex et dolor\\nrepellat pariatur est\\nnobis rerum repellendus dolorem autem'}, {'userId': 5, 'id': 46, 'title': 'aut quo modi neque nostrum ducimus', 'body': 'voluptatem quisquam iste\\nvoluptatibus natus officiis facilis dolorem\\nquis quas ipsam\\nvel et voluptatum in aliquid'}, {'userId': 5, 'id': 47, 'title': 'quibusdam cumque rem aut deserunt', 'body': 'voluptatem assumenda ut qui ut cupiditate aut impedit veniam\\noccaecati nemo illum voluptatem laudantium\\nmolestiae beatae rerum ea iure soluta nostrum\\neligendi et voluptate'}, {'userId': 5, 'id': 48, 'title': 'ut voluptatem illum ea doloribus itaque eos', 'body': 'voluptates quo voluptatem facilis iure occaecati\\nvel assumenda rerum officia et\\nillum perspiciatis ab deleniti\\nlaudantium repellat ad ut et autem reprehenderit'}, {'userId': 5, 'id': 49, 'title': 'laborum non sunt aut ut assumenda perspiciatis voluptas', 'body': 'inventore ab sint\\nnatus fugit id nulla sequi architecto nihil quaerat\\neos tenetur in in eum veritatis non\\nquibusdam officiis aspernatur cumque aut commodi aut'}, {'userId': 5, 'id': 50, 'title': 'repellendus qui recusandae incidunt voluptates tenetur qui omnis exercitationem', 'body': 'error suscipit maxime adipisci consequuntur recusandae\\nvoluptas eligendi et est et voluptates\\nquia distinctio ab amet quaerat molestiae et vitae\\nadipisci impedit sequi nesciunt quis consectetur'}, {'userId': 6, 'id': 51, 'title': 'soluta aliquam aperiam consequatur illo quis voluptas', 'body': 'sunt dolores aut doloribus\\ndolore doloribus voluptates tempora et\\ndoloremque et quo\\ncum asperiores sit consectetur dolorem'}, {'userId': 6, 'id': 52, 'title': 'qui enim et consequuntur quia animi quis voluptate quibusdam', 'body': 'iusto est quibusdam fuga quas quaerat molestias\\na enim ut sit accusamus enim\\ntemporibus iusto accusantium provident architecto\\nsoluta esse reprehenderit qui laborum'}, {'userId': 6, 'id': 53, 'title': 'ut quo aut ducimus alias', 'body': 'minima harum praesentium eum rerum illo dolore\\nquasi exercitationem rerum nam\\nporro quis neque quo\\nconsequatur minus dolor quidem veritatis sunt non explicabo similique'}, {'userId': 6, 'id': 54, 'title': 'sit asperiores ipsam eveniet odio non quia', 'body': 'totam corporis dignissimos\\nvitae dolorem ut occaecati accusamus\\nex velit deserunt\\net exercitationem vero incidunt corrupti mollitia'}, {'userId': 6, 'id': 55, 'title': 'sit vel voluptatem et non libero', 'body': 'debitis excepturi ea perferendis harum libero optio\\neos accusamus cum fuga ut sapiente repudiandae\\net ut incidunt omnis molestiae\\nnihil ut eum odit'}, {'userId': 6, 'id': 56, 'title': 'qui et at rerum necessitatibus', 'body': 'aut est omnis dolores\\nneque rerum quod ea rerum velit pariatur beatae excepturi\\net provident voluptas corrupti\\ncorporis harum reprehenderit dolores eligendi'}, {'userId': 6, 'id': 57, 'title': 'sed ab est est', 'body': 'at pariatur consequuntur earum quidem\\nquo est laudantium soluta voluptatem\\nqui ullam et est\\net cum voluptas voluptatum repellat est'}, {'userId': 6, 'id': 58, 'title': 'voluptatum itaque dolores nisi et quasi', 'body': 'veniam voluptatum quae adipisci id\\net id quia eos ad et dolorem\\naliquam quo nisi sunt eos impedit error\\nad similique veniam'}, {'userId': 6, 'id': 59, 'title': 'qui commodi dolor at maiores et quis id accusantium', 'body': 'perspiciatis et quam ea autem temporibus non voluptatibus qui\\nbeatae a earum officia nesciunt dolores suscipit voluptas et\\nanimi doloribus cum rerum quas et magni\\net hic ut ut commodi expedita sunt'}, {'userId': 6, 'id': 60, 'title': 'consequatur placeat omnis quisquam quia reprehenderit fugit veritatis facere', 'body': 'asperiores sunt ab assumenda cumque modi velit\\nqui esse omnis\\nvoluptate et fuga perferendis voluptas\\nillo ratione amet aut et omnis'}, {'userId': 7, 'id': 61, 'title': 'voluptatem doloribus consectetur est ut ducimus', 'body': 'ab nemo optio odio\\ndelectus tenetur corporis similique nobis repellendus rerum omnis facilis\\nvero blanditiis debitis in nesciunt doloribus dicta dolores\\nmagnam minus velit'}, {'userId': 7, 'id': 62, 'title': 'beatae enim quia vel', 'body': 'enim aspernatur illo distinctio quae praesentium\\nbeatae alias amet delectus qui voluptate distinctio\\nodit sint accusantium autem omnis\\nquo molestiae omnis ea eveniet optio'}, {'userId': 7, 'id': 63, 'title': 'voluptas blanditiis repellendus animi ducimus error sapiente et suscipit', 'body': 'enim adipisci aspernatur nemo\\nnumquam omnis facere dolorem dolor ex quis temporibus incidunt\\nab delectus culpa quo reprehenderit blanditiis asperiores\\naccusantium ut quam in voluptatibus voluptas ipsam dicta'}, {'userId': 7, 'id': 64, 'title': 'et fugit quas eum in in aperiam quod', 'body': 'id velit blanditiis\\neum ea voluptatem\\nmolestiae sint occaecati est eos perspiciatis\\nincidunt a error provident eaque aut aut qui'}, {'userId': 7, 'id': 65, 'title': 'consequatur id enim sunt et et', 'body': 'voluptatibus ex esse\\nsint explicabo est aliquid cumque adipisci fuga repellat labore\\nmolestiae corrupti ex saepe at asperiores et perferendis\\nnatus id esse incidunt pariatur'}, {'userId': 7, 'id': 66, 'title': 'repudiandae ea animi iusto', 'body': 'officia veritatis tenetur vero qui itaque\\nsint non ratione\\nsed et ut asperiores iusto eos molestiae nostrum\\nveritatis quibusdam et nemo iusto saepe'}, {'userId': 7, 'id': 67, 'title': 'aliquid eos sed fuga est maxime repellendus', 'body': 'reprehenderit id nostrum\\nvoluptas doloremque pariatur sint et accusantium quia quod aspernatur\\net fugiat amet\\nnon sapiente et consequatur necessitatibus molestiae'}, {'userId': 7, 'id': 68, 'title': 'odio quis facere architecto reiciendis optio', 'body': 'magnam molestiae perferendis quisquam\\nqui cum reiciendis\\nquaerat animi amet hic inventore\\nea quia deleniti quidem saepe porro velit'}, {'userId': 7, 'id': 69, 'title': 'fugiat quod pariatur odit minima', 'body': 'officiis error culpa consequatur modi asperiores et\\ndolorum assumenda voluptas et vel qui aut vel rerum\\nvoluptatum quisquam perspiciatis quia rerum consequatur totam quas\\nsequi commodi repudiandae asperiores et saepe a'}, {'userId': 7, 'id': 70, 'title': 'voluptatem laborum magni', 'body': 'sunt repellendus quae\\nest asperiores aut deleniti esse accusamus repellendus quia aut\\nquia dolorem unde\\neum tempora esse dolore'}, {'userId': 8, 'id': 71, 'title': 'et iusto veniam et illum aut fuga', 'body': 'occaecati a doloribus\\niste saepe consectetur placeat eum voluptate dolorem et\\nqui quo quia voluptas\\nrerum ut id enim velit est perferendis'}, {'userId': 8, 'id': 72, 'title': 'sint hic doloribus consequatur eos non id', 'body': 'quam occaecati qui deleniti consectetur\\nconsequatur aut facere quas exercitationem aliquam hic voluptas\\nneque id sunt ut aut accusamus\\nsunt consectetur expedita inventore velit'}, {'userId': 8, 'id': 73, 'title': 'consequuntur deleniti eos quia temporibus ab aliquid at', 'body': 'voluptatem cumque tenetur consequatur expedita ipsum nemo quia explicabo\\naut eum minima consequatur\\ntempore cumque quae est et\\net in consequuntur voluptatem voluptates aut'}, {'userId': 8, 'id': 74, 'title': 'enim unde ratione doloribus quas enim ut sit sapiente', 'body': 'odit qui et et necessitatibus sint veniam\\nmollitia amet doloremque molestiae commodi similique magnam et quam\\nblanditiis est itaque\\nquo et tenetur ratione occaecati molestiae tempora'}, {'userId': 8, 'id': 75, 'title': 'dignissimos eum dolor ut enim et delectus in', 'body': 'commodi non non omnis et voluptas sit\\nautem aut nobis magnam et sapiente voluptatem\\net laborum repellat qui delectus facilis temporibus\\nrerum amet et nemo voluptate expedita adipisci error dolorem'}, {'userId': 8, 'id': 76, 'title': 'doloremque officiis ad et non perferendis', 'body': 'ut animi facere\\ntotam iusto tempore\\nmolestiae eum aut et dolorem aperiam\\nquaerat recusandae totam odio'}, {'userId': 8, 'id': 77, 'title': 'necessitatibus quasi exercitationem odio', 'body': 'modi ut in nulla repudiandae dolorum nostrum eos\\naut consequatur omnis\\nut incidunt est omnis iste et quam\\nvoluptates sapiente aliquam asperiores nobis amet corrupti repudiandae provident'}, {'userId': 8, 'id': 78, 'title': 'quam voluptatibus rerum veritatis', 'body': 'nobis facilis odit tempore cupiditate quia\\nassumenda doloribus rerum qui ea\\nillum et qui totam\\naut veniam repellendus'}, {'userId': 8, 'id': 79, 'title': 'pariatur consequatur quia magnam autem omnis non amet', 'body': 'libero accusantium et et facere incidunt sit dolorem\\nnon excepturi qui quia sed laudantium\\nquisquam molestiae ducimus est\\nofficiis esse molestiae iste et quos'}, {'userId': 8, 'id': 80, 'title': 'labore in ex et explicabo corporis aut quas', 'body': 'ex quod dolorem ea eum iure qui provident amet\\nquia qui facere excepturi et repudiandae\\nasperiores molestias provident\\nminus incidunt vero fugit rerum sint sunt excepturi provident'}, {'userId': 9, 'id': 81, 'title': 'tempora rem veritatis voluptas quo dolores vero', 'body': 'facere qui nesciunt est voluptatum voluptatem nisi\\nsequi eligendi necessitatibus ea at rerum itaque\\nharum non ratione velit laboriosam quis consequuntur\\nex officiis minima doloremque voluptas ut aut'}, {'userId': 9, 'id': 82, 'title': 'laudantium voluptate suscipit sunt enim enim', 'body': 'ut libero sit aut totam inventore sunt\\nporro sint qui sunt molestiae\\nconsequatur cupiditate qui iste ducimus adipisci\\ndolor enim assumenda soluta laboriosam amet iste delectus hic'}, {'userId': 9, 'id': 83, 'title': 'odit et voluptates doloribus alias odio et', 'body': 'est molestiae facilis quis tempora numquam nihil qui\\nvoluptate sapiente consequatur est qui\\nnecessitatibus autem aut ipsa aperiam modi dolore numquam\\nreprehenderit eius rem quibusdam'}, {'userId': 9, 'id': 84, 'title': 'optio ipsam molestias necessitatibus occaecati facilis veritatis dolores aut', 'body': 'sint molestiae magni a et quos\\neaque et quasi\\nut rerum debitis similique veniam\\nrecusandae dignissimos dolor incidunt consequatur odio'}, {'userId': 9, 'id': 85, 'title': 'dolore veritatis porro provident adipisci blanditiis et sunt', 'body': 'similique sed nisi voluptas iusto omnis\\nmollitia et quo\\nassumenda suscipit officia magnam sint sed tempora\\nenim provident pariatur praesentium atque animi amet ratione'}, {'userId': 9, 'id': 86, 'title': 'placeat quia et porro iste', 'body': 'quasi excepturi consequatur iste autem temporibus sed molestiae beatae\\net quaerat et esse ut\\nvoluptatem occaecati et vel explicabo autem\\nasperiores pariatur deserunt optio'}, {'userId': 9, 'id': 87, 'title': 'nostrum quis quasi placeat', 'body': 'eos et molestiae\\nnesciunt ut a\\ndolores perspiciatis repellendus repellat aliquid\\nmagnam sint rem ipsum est'}, {'userId': 9, 'id': 88, 'title': 'sapiente omnis fugit eos', 'body': 'consequatur omnis est praesentium\\nducimus non iste\\nneque hic deserunt\\nvoluptatibus veniam cum et rerum sed'}, {'userId': 9, 'id': 89, 'title': 'sint soluta et vel magnam aut ut sed qui', 'body': 'repellat aut aperiam totam temporibus autem et\\narchitecto magnam ut\\nconsequatur qui cupiditate rerum quia soluta dignissimos nihil iure\\ntempore quas est'}, {'userId': 9, 'id': 90, 'title': 'ad iusto omnis odit dolor voluptatibus', 'body': 'minus omnis soluta quia\\nqui sed adipisci voluptates illum ipsam voluptatem\\neligendi officia ut in\\neos soluta similique molestias praesentium blanditiis'}, {'userId': 10, 'id': 91, 'title': 'aut amet sed', 'body': 'libero voluptate eveniet aperiam sed\\nsunt placeat suscipit molestias\\nsimilique fugit nam natus\\nexpedita consequatur consequatur dolores quia eos et placeat'}, {'userId': 10, 'id': 92, 'title': 'ratione ex tenetur perferendis', 'body': 'aut et excepturi dicta laudantium sint rerum nihil\\nlaudantium et at\\na neque minima officia et similique libero et\\ncommodi voluptate qui'}, {'userId': 10, 'id': 93, 'title': 'beatae soluta recusandae', 'body': 'dolorem quibusdam ducimus consequuntur dicta aut quo laboriosam\\nvoluptatem quis enim recusandae ut sed sunt\\nnostrum est odit totam\\nsit error sed sunt eveniet provident qui nulla'}, {'userId': 10, 'id': 94, 'title': 'qui qui voluptates illo iste minima', 'body': 'aspernatur expedita soluta quo ab ut similique\\nexpedita dolores amet\\nsed temporibus distinctio magnam saepe deleniti\\nomnis facilis nam ipsum natus sint similique omnis'}, {'userId': 10, 'id': 95, 'title': 'id minus libero illum nam ad officiis', 'body': 'earum voluptatem facere provident blanditiis velit laboriosam\\npariatur accusamus odio saepe\\ncumque dolor qui a dicta ab doloribus consequatur omnis\\ncorporis cupiditate eaque assumenda ad nesciunt'}, {'userId': 10, 'id': 96, 'title': 'quaerat velit veniam amet cupiditate aut numquam ut sequi', 'body': 'in non odio excepturi sint eum\\nlabore voluptates vitae quia qui et\\ninventore itaque rerum\\nveniam non exercitationem delectus aut'}, {'userId': 10, 'id': 97, 'title': 'quas fugiat ut perspiciatis vero provident', 'body': 'eum non blanditiis soluta porro quibusdam voluptas\\nvel voluptatem qui placeat dolores qui velit aut\\nvel inventore aut cumque culpa explicabo aliquid at\\nperspiciatis est et voluptatem dignissimos dolor itaque sit nam'}, {'userId': 10, 'id': 98, 'title': 'laboriosam dolor voluptates', 'body': 'doloremque ex facilis sit sint culpa\\nsoluta assumenda eligendi non ut eius\\nsequi ducimus vel quasi\\nveritatis est dolores'}, {'userId': 10, 'id': 99, 'title': 'temporibus sit alias delectus eligendi possimus magni', 'body': 'quo deleniti praesentium dicta non quod\\naut est molestias\\nmolestias et officia quis nihil\\nitaque dolorem quia'}, {'userId': 10, 'id': 100, 'title': 'at nam consequatur ea labore ea harum', 'body': 'cupiditate quo est a modi nesciunt soluta\\nipsa voluptas error itaque dicta in\\nautem qui minus magnam et distinctio eum\\naccusamus ratione error aut'}]\n"
     ]
    }
   ],
   "source": [
    "res = r.json()\n",
    "print(res)"
   ]
  },
  {
   "cell_type": "code",
   "execution_count": 11,
   "id": "2b18c89e",
   "metadata": {},
   "outputs": [],
   "source": [
    "userID, ID = [], []\n",
    "title,body = [], []\n",
    "for i in res:     # i corresponds to each and every dictionary\n",
    "    userID.append(i['userId'])\n",
    "    ID.append(i['id'])\n",
    "    title.append(i['title'])\n",
    "    body.append(i['body'])"
   ]
  },
  {
   "cell_type": "code",
   "execution_count": 13,
   "id": "ce2cdb4a",
   "metadata": {},
   "outputs": [
    {
     "name": "stdout",
     "output_type": "stream",
     "text": [
      "100\n",
      "[1, 1, 1, 1, 1, 1, 1, 1, 1, 1, 2, 2, 2, 2, 2, 2, 2, 2, 2, 2, 3, 3, 3, 3, 3, 3, 3, 3, 3, 3, 4, 4, 4, 4, 4, 4, 4, 4, 4, 4, 5, 5, 5, 5, 5, 5, 5, 5, 5, 5, 6, 6, 6, 6, 6, 6, 6, 6, 6, 6, 7, 7, 7, 7, 7, 7, 7, 7, 7, 7, 8, 8, 8, 8, 8, 8, 8, 8, 8, 8, 9, 9, 9, 9, 9, 9, 9, 9, 9, 9, 10, 10, 10, 10, 10, 10, 10, 10, 10, 10]\n"
     ]
    }
   ],
   "source": [
    "print(len(userID))\n",
    "print(userID)"
   ]
  },
  {
   "cell_type": "code",
   "execution_count": 18,
   "id": "4571d15b",
   "metadata": {},
   "outputs": [
    {
     "name": "stdout",
     "output_type": "stream",
     "text": [
      "[1, 1, 1, 1, 1, 1, 1, 1, 1, 1, 2, 2, 2, 2, 2, 2, 2, 2, 2, 2, 3, 3, 3, 3, 3, 3, 3, 3, 3, 3, 4, 4, 4, 4, 4, 4, 4, 4, 4, 4, 5, 5, 5, 5, 5, 5, 5, 5, 5, 5, 6, 6, 6, 6, 6, 6, 6, 6, 6, 6, 7, 7, 7, 7, 7, 7, 7, 7, 7, 7, 8, 8, 8, 8, 8, 8, 8, 8, 8, 8, 9, 9, 9, 9, 9, 9, 9, 9, 9, 9, 10, 10, 10, 10, 10, 10, 10, 10, 10, 10]\n"
     ]
    }
   ],
   "source": [
    "Uid = [res[i]['userId'] for i in range(len(res))]  # i is the index\n",
    "print(Uid)"
   ]
  },
  {
   "cell_type": "code",
   "execution_count": 19,
   "id": "898ab795",
   "metadata": {},
   "outputs": [
    {
     "data": {
      "text/html": [
       "<div>\n",
       "<style scoped>\n",
       "    .dataframe tbody tr th:only-of-type {\n",
       "        vertical-align: middle;\n",
       "    }\n",
       "\n",
       "    .dataframe tbody tr th {\n",
       "        vertical-align: top;\n",
       "    }\n",
       "\n",
       "    .dataframe thead th {\n",
       "        text-align: right;\n",
       "    }\n",
       "</style>\n",
       "<table border=\"1\" class=\"dataframe\">\n",
       "  <thead>\n",
       "    <tr style=\"text-align: right;\">\n",
       "      <th></th>\n",
       "      <th>UserId</th>\n",
       "      <th>ID</th>\n",
       "      <th>title</th>\n",
       "      <th>body</th>\n",
       "    </tr>\n",
       "  </thead>\n",
       "  <tbody>\n",
       "    <tr>\n",
       "      <th>0</th>\n",
       "      <td>1</td>\n",
       "      <td>1</td>\n",
       "      <td>sunt aut facere repellat provident occaecati e...</td>\n",
       "      <td>quia et suscipit\\nsuscipit recusandae consequu...</td>\n",
       "    </tr>\n",
       "    <tr>\n",
       "      <th>1</th>\n",
       "      <td>1</td>\n",
       "      <td>2</td>\n",
       "      <td>qui est esse</td>\n",
       "      <td>est rerum tempore vitae\\nsequi sint nihil repr...</td>\n",
       "    </tr>\n",
       "    <tr>\n",
       "      <th>2</th>\n",
       "      <td>1</td>\n",
       "      <td>3</td>\n",
       "      <td>ea molestias quasi exercitationem repellat qui...</td>\n",
       "      <td>et iusto sed quo iure\\nvoluptatem occaecati om...</td>\n",
       "    </tr>\n",
       "    <tr>\n",
       "      <th>3</th>\n",
       "      <td>1</td>\n",
       "      <td>4</td>\n",
       "      <td>eum et est occaecati</td>\n",
       "      <td>ullam et saepe reiciendis voluptatem adipisci\\...</td>\n",
       "    </tr>\n",
       "    <tr>\n",
       "      <th>4</th>\n",
       "      <td>1</td>\n",
       "      <td>5</td>\n",
       "      <td>nesciunt quas odio</td>\n",
       "      <td>repudiandae veniam quaerat sunt sed\\nalias aut...</td>\n",
       "    </tr>\n",
       "  </tbody>\n",
       "</table>\n",
       "</div>"
      ],
      "text/plain": [
       "   UserId  ID                                              title  \\\n",
       "0       1   1  sunt aut facere repellat provident occaecati e...   \n",
       "1       1   2                                       qui est esse   \n",
       "2       1   3  ea molestias quasi exercitationem repellat qui...   \n",
       "3       1   4                               eum et est occaecati   \n",
       "4       1   5                                 nesciunt quas odio   \n",
       "\n",
       "                                                body  \n",
       "0  quia et suscipit\\nsuscipit recusandae consequu...  \n",
       "1  est rerum tempore vitae\\nsequi sint nihil repr...  \n",
       "2  et iusto sed quo iure\\nvoluptatem occaecati om...  \n",
       "3  ullam et saepe reiciendis voluptatem adipisci\\...  \n",
       "4  repudiandae veniam quaerat sunt sed\\nalias aut...  "
      ]
     },
     "execution_count": 19,
     "metadata": {},
     "output_type": "execute_result"
    }
   ],
   "source": [
    "df = pd.DataFrame({'UserId':userID,'ID':ID,'title':title,'body':body})\n",
    "df.head()"
   ]
  },
  {
   "cell_type": "code",
   "execution_count": 20,
   "id": "615834d0",
   "metadata": {},
   "outputs": [
    {
     "data": {
      "text/plain": [
       "(100, 4)"
      ]
     },
     "execution_count": 20,
     "metadata": {},
     "output_type": "execute_result"
    }
   ],
   "source": [
    "df.shape"
   ]
  },
  {
   "cell_type": "code",
   "execution_count": 21,
   "id": "b5e98849",
   "metadata": {},
   "outputs": [],
   "source": [
    "df.to_csv('13may_f1.csv')"
   ]
  },
  {
   "cell_type": "code",
   "execution_count": 22,
   "id": "d7d40cbb",
   "metadata": {},
   "outputs": [],
   "source": [
    "df.to_csv('C:\\\\Users\\\\Dell\\\\Downloads\\\\Imarticus\\\\EDA\\\\13may_f1.csv')"
   ]
  },
  {
   "cell_type": "code",
   "execution_count": null,
   "id": "f00a0be7",
   "metadata": {},
   "outputs": [],
   "source": [
    "#### Reading\n",
    "# df.read_csv('a.csv')\n",
    "# df.read_excel('b.xlsx')\n",
    "\n",
    "# Writing \n",
    "# df.to_csv('a.csv')\n",
    "# df.to_excel('b.xlsx')\n"
   ]
  },
  {
   "cell_type": "markdown",
   "id": "8547a5fe",
   "metadata": {},
   "source": [
    "### Pokemon API"
   ]
  },
  {
   "cell_type": "code",
   "execution_count": 27,
   "id": "1dead4b9",
   "metadata": {},
   "outputs": [],
   "source": [
    "url = \"https://pokeapi.co/api/v2/pokemon?limit=100&offset=200\""
   ]
  },
  {
   "cell_type": "code",
   "execution_count": 28,
   "id": "7277518a",
   "metadata": {},
   "outputs": [
    {
     "name": "stdout",
     "output_type": "stream",
     "text": [
      "{'count': 1126, 'next': 'https://pokeapi.co/api/v2/pokemon?offset=300&limit=100', 'previous': 'https://pokeapi.co/api/v2/pokemon?offset=100&limit=100', 'results': [{'name': 'unown', 'url': 'https://pokeapi.co/api/v2/pokemon/201/'}, {'name': 'wobbuffet', 'url': 'https://pokeapi.co/api/v2/pokemon/202/'}, {'name': 'girafarig', 'url': 'https://pokeapi.co/api/v2/pokemon/203/'}, {'name': 'pineco', 'url': 'https://pokeapi.co/api/v2/pokemon/204/'}, {'name': 'forretress', 'url': 'https://pokeapi.co/api/v2/pokemon/205/'}, {'name': 'dunsparce', 'url': 'https://pokeapi.co/api/v2/pokemon/206/'}, {'name': 'gligar', 'url': 'https://pokeapi.co/api/v2/pokemon/207/'}, {'name': 'steelix', 'url': 'https://pokeapi.co/api/v2/pokemon/208/'}, {'name': 'snubbull', 'url': 'https://pokeapi.co/api/v2/pokemon/209/'}, {'name': 'granbull', 'url': 'https://pokeapi.co/api/v2/pokemon/210/'}, {'name': 'qwilfish', 'url': 'https://pokeapi.co/api/v2/pokemon/211/'}, {'name': 'scizor', 'url': 'https://pokeapi.co/api/v2/pokemon/212/'}, {'name': 'shuckle', 'url': 'https://pokeapi.co/api/v2/pokemon/213/'}, {'name': 'heracross', 'url': 'https://pokeapi.co/api/v2/pokemon/214/'}, {'name': 'sneasel', 'url': 'https://pokeapi.co/api/v2/pokemon/215/'}, {'name': 'teddiursa', 'url': 'https://pokeapi.co/api/v2/pokemon/216/'}, {'name': 'ursaring', 'url': 'https://pokeapi.co/api/v2/pokemon/217/'}, {'name': 'slugma', 'url': 'https://pokeapi.co/api/v2/pokemon/218/'}, {'name': 'magcargo', 'url': 'https://pokeapi.co/api/v2/pokemon/219/'}, {'name': 'swinub', 'url': 'https://pokeapi.co/api/v2/pokemon/220/'}, {'name': 'piloswine', 'url': 'https://pokeapi.co/api/v2/pokemon/221/'}, {'name': 'corsola', 'url': 'https://pokeapi.co/api/v2/pokemon/222/'}, {'name': 'remoraid', 'url': 'https://pokeapi.co/api/v2/pokemon/223/'}, {'name': 'octillery', 'url': 'https://pokeapi.co/api/v2/pokemon/224/'}, {'name': 'delibird', 'url': 'https://pokeapi.co/api/v2/pokemon/225/'}, {'name': 'mantine', 'url': 'https://pokeapi.co/api/v2/pokemon/226/'}, {'name': 'skarmory', 'url': 'https://pokeapi.co/api/v2/pokemon/227/'}, {'name': 'houndour', 'url': 'https://pokeapi.co/api/v2/pokemon/228/'}, {'name': 'houndoom', 'url': 'https://pokeapi.co/api/v2/pokemon/229/'}, {'name': 'kingdra', 'url': 'https://pokeapi.co/api/v2/pokemon/230/'}, {'name': 'phanpy', 'url': 'https://pokeapi.co/api/v2/pokemon/231/'}, {'name': 'donphan', 'url': 'https://pokeapi.co/api/v2/pokemon/232/'}, {'name': 'porygon2', 'url': 'https://pokeapi.co/api/v2/pokemon/233/'}, {'name': 'stantler', 'url': 'https://pokeapi.co/api/v2/pokemon/234/'}, {'name': 'smeargle', 'url': 'https://pokeapi.co/api/v2/pokemon/235/'}, {'name': 'tyrogue', 'url': 'https://pokeapi.co/api/v2/pokemon/236/'}, {'name': 'hitmontop', 'url': 'https://pokeapi.co/api/v2/pokemon/237/'}, {'name': 'smoochum', 'url': 'https://pokeapi.co/api/v2/pokemon/238/'}, {'name': 'elekid', 'url': 'https://pokeapi.co/api/v2/pokemon/239/'}, {'name': 'magby', 'url': 'https://pokeapi.co/api/v2/pokemon/240/'}, {'name': 'miltank', 'url': 'https://pokeapi.co/api/v2/pokemon/241/'}, {'name': 'blissey', 'url': 'https://pokeapi.co/api/v2/pokemon/242/'}, {'name': 'raikou', 'url': 'https://pokeapi.co/api/v2/pokemon/243/'}, {'name': 'entei', 'url': 'https://pokeapi.co/api/v2/pokemon/244/'}, {'name': 'suicune', 'url': 'https://pokeapi.co/api/v2/pokemon/245/'}, {'name': 'larvitar', 'url': 'https://pokeapi.co/api/v2/pokemon/246/'}, {'name': 'pupitar', 'url': 'https://pokeapi.co/api/v2/pokemon/247/'}, {'name': 'tyranitar', 'url': 'https://pokeapi.co/api/v2/pokemon/248/'}, {'name': 'lugia', 'url': 'https://pokeapi.co/api/v2/pokemon/249/'}, {'name': 'ho-oh', 'url': 'https://pokeapi.co/api/v2/pokemon/250/'}, {'name': 'celebi', 'url': 'https://pokeapi.co/api/v2/pokemon/251/'}, {'name': 'treecko', 'url': 'https://pokeapi.co/api/v2/pokemon/252/'}, {'name': 'grovyle', 'url': 'https://pokeapi.co/api/v2/pokemon/253/'}, {'name': 'sceptile', 'url': 'https://pokeapi.co/api/v2/pokemon/254/'}, {'name': 'torchic', 'url': 'https://pokeapi.co/api/v2/pokemon/255/'}, {'name': 'combusken', 'url': 'https://pokeapi.co/api/v2/pokemon/256/'}, {'name': 'blaziken', 'url': 'https://pokeapi.co/api/v2/pokemon/257/'}, {'name': 'mudkip', 'url': 'https://pokeapi.co/api/v2/pokemon/258/'}, {'name': 'marshtomp', 'url': 'https://pokeapi.co/api/v2/pokemon/259/'}, {'name': 'swampert', 'url': 'https://pokeapi.co/api/v2/pokemon/260/'}, {'name': 'poochyena', 'url': 'https://pokeapi.co/api/v2/pokemon/261/'}, {'name': 'mightyena', 'url': 'https://pokeapi.co/api/v2/pokemon/262/'}, {'name': 'zigzagoon', 'url': 'https://pokeapi.co/api/v2/pokemon/263/'}, {'name': 'linoone', 'url': 'https://pokeapi.co/api/v2/pokemon/264/'}, {'name': 'wurmple', 'url': 'https://pokeapi.co/api/v2/pokemon/265/'}, {'name': 'silcoon', 'url': 'https://pokeapi.co/api/v2/pokemon/266/'}, {'name': 'beautifly', 'url': 'https://pokeapi.co/api/v2/pokemon/267/'}, {'name': 'cascoon', 'url': 'https://pokeapi.co/api/v2/pokemon/268/'}, {'name': 'dustox', 'url': 'https://pokeapi.co/api/v2/pokemon/269/'}, {'name': 'lotad', 'url': 'https://pokeapi.co/api/v2/pokemon/270/'}, {'name': 'lombre', 'url': 'https://pokeapi.co/api/v2/pokemon/271/'}, {'name': 'ludicolo', 'url': 'https://pokeapi.co/api/v2/pokemon/272/'}, {'name': 'seedot', 'url': 'https://pokeapi.co/api/v2/pokemon/273/'}, {'name': 'nuzleaf', 'url': 'https://pokeapi.co/api/v2/pokemon/274/'}, {'name': 'shiftry', 'url': 'https://pokeapi.co/api/v2/pokemon/275/'}, {'name': 'taillow', 'url': 'https://pokeapi.co/api/v2/pokemon/276/'}, {'name': 'swellow', 'url': 'https://pokeapi.co/api/v2/pokemon/277/'}, {'name': 'wingull', 'url': 'https://pokeapi.co/api/v2/pokemon/278/'}, {'name': 'pelipper', 'url': 'https://pokeapi.co/api/v2/pokemon/279/'}, {'name': 'ralts', 'url': 'https://pokeapi.co/api/v2/pokemon/280/'}, {'name': 'kirlia', 'url': 'https://pokeapi.co/api/v2/pokemon/281/'}, {'name': 'gardevoir', 'url': 'https://pokeapi.co/api/v2/pokemon/282/'}, {'name': 'surskit', 'url': 'https://pokeapi.co/api/v2/pokemon/283/'}, {'name': 'masquerain', 'url': 'https://pokeapi.co/api/v2/pokemon/284/'}, {'name': 'shroomish', 'url': 'https://pokeapi.co/api/v2/pokemon/285/'}, {'name': 'breloom', 'url': 'https://pokeapi.co/api/v2/pokemon/286/'}, {'name': 'slakoth', 'url': 'https://pokeapi.co/api/v2/pokemon/287/'}, {'name': 'vigoroth', 'url': 'https://pokeapi.co/api/v2/pokemon/288/'}, {'name': 'slaking', 'url': 'https://pokeapi.co/api/v2/pokemon/289/'}, {'name': 'nincada', 'url': 'https://pokeapi.co/api/v2/pokemon/290/'}, {'name': 'ninjask', 'url': 'https://pokeapi.co/api/v2/pokemon/291/'}, {'name': 'shedinja', 'url': 'https://pokeapi.co/api/v2/pokemon/292/'}, {'name': 'whismur', 'url': 'https://pokeapi.co/api/v2/pokemon/293/'}, {'name': 'loudred', 'url': 'https://pokeapi.co/api/v2/pokemon/294/'}, {'name': 'exploud', 'url': 'https://pokeapi.co/api/v2/pokemon/295/'}, {'name': 'makuhita', 'url': 'https://pokeapi.co/api/v2/pokemon/296/'}, {'name': 'hariyama', 'url': 'https://pokeapi.co/api/v2/pokemon/297/'}, {'name': 'azurill', 'url': 'https://pokeapi.co/api/v2/pokemon/298/'}, {'name': 'nosepass', 'url': 'https://pokeapi.co/api/v2/pokemon/299/'}, {'name': 'skitty', 'url': 'https://pokeapi.co/api/v2/pokemon/300/'}]}\n"
     ]
    }
   ],
   "source": [
    "w = requests.get(url)\n",
    "res = w.json()\n",
    "print(res)"
   ]
  },
  {
   "cell_type": "code",
   "execution_count": 30,
   "id": "d1a81b88",
   "metadata": {},
   "outputs": [
    {
     "name": "stdout",
     "output_type": "stream",
     "text": [
      "100\n",
      "100\n"
     ]
    }
   ],
   "source": [
    "name,url = [],[]\n",
    "for i in res['results']:\n",
    "    name.append(i['name'])\n",
    "    url.append(i['url'])\n",
    "print(len(name))\n",
    "print(len(url))"
   ]
  },
  {
   "cell_type": "code",
   "execution_count": 32,
   "id": "10f6c3b8",
   "metadata": {},
   "outputs": [
    {
     "data": {
      "text/html": [
       "<div>\n",
       "<style scoped>\n",
       "    .dataframe tbody tr th:only-of-type {\n",
       "        vertical-align: middle;\n",
       "    }\n",
       "\n",
       "    .dataframe tbody tr th {\n",
       "        vertical-align: top;\n",
       "    }\n",
       "\n",
       "    .dataframe thead th {\n",
       "        text-align: right;\n",
       "    }\n",
       "</style>\n",
       "<table border=\"1\" class=\"dataframe\">\n",
       "  <thead>\n",
       "    <tr style=\"text-align: right;\">\n",
       "      <th></th>\n",
       "      <th>Name</th>\n",
       "      <th>URL</th>\n",
       "    </tr>\n",
       "  </thead>\n",
       "  <tbody>\n",
       "    <tr>\n",
       "      <th>0</th>\n",
       "      <td>unown</td>\n",
       "      <td>https://pokeapi.co/api/v2/pokemon/201/</td>\n",
       "    </tr>\n",
       "    <tr>\n",
       "      <th>1</th>\n",
       "      <td>wobbuffet</td>\n",
       "      <td>https://pokeapi.co/api/v2/pokemon/202/</td>\n",
       "    </tr>\n",
       "    <tr>\n",
       "      <th>2</th>\n",
       "      <td>girafarig</td>\n",
       "      <td>https://pokeapi.co/api/v2/pokemon/203/</td>\n",
       "    </tr>\n",
       "    <tr>\n",
       "      <th>3</th>\n",
       "      <td>pineco</td>\n",
       "      <td>https://pokeapi.co/api/v2/pokemon/204/</td>\n",
       "    </tr>\n",
       "    <tr>\n",
       "      <th>4</th>\n",
       "      <td>forretress</td>\n",
       "      <td>https://pokeapi.co/api/v2/pokemon/205/</td>\n",
       "    </tr>\n",
       "  </tbody>\n",
       "</table>\n",
       "</div>"
      ],
      "text/plain": [
       "         Name                                     URL\n",
       "0       unown  https://pokeapi.co/api/v2/pokemon/201/\n",
       "1   wobbuffet  https://pokeapi.co/api/v2/pokemon/202/\n",
       "2   girafarig  https://pokeapi.co/api/v2/pokemon/203/\n",
       "3      pineco  https://pokeapi.co/api/v2/pokemon/204/\n",
       "4  forretress  https://pokeapi.co/api/v2/pokemon/205/"
      ]
     },
     "execution_count": 32,
     "metadata": {},
     "output_type": "execute_result"
    }
   ],
   "source": [
    "df1 = pd.DataFrame({'Name':name,'URL':url})\n",
    "df1.head()"
   ]
  },
  {
   "cell_type": "code",
   "execution_count": 36,
   "id": "4c2bf4bb",
   "metadata": {},
   "outputs": [
    {
     "name": "stdout",
     "output_type": "stream",
     "text": [
      "dict_keys(['abilities', 'base_experience', 'forms', 'game_indices', 'height', 'held_items', 'id', 'is_default', 'location_area_encounters', 'moves', 'name', 'order', 'past_types', 'species', 'sprites', 'stats', 'types', 'weight'])\n",
      "118\n",
      "5\n",
      "50\n"
     ]
    }
   ],
   "source": [
    "a = df1['URL'][0]\n",
    "w1 = requests.get(a)\n",
    "w2 = w1.json()\n",
    "print(w2.keys())\n",
    "print(w2['base_experience'])\n",
    "print(w2['height'])\n",
    "print(w2['weight'])"
   ]
  },
  {
   "cell_type": "code",
   "execution_count": 37,
   "id": "cb9ce37e",
   "metadata": {},
   "outputs": [],
   "source": [
    "bs,ht,wt = [],[],[]\n",
    "for i in df1['URL']:\n",
    "    d = requests.get(i).json()\n",
    "    bs.append(d['base_experience'])\n",
    "    ht.append(d['height'])\n",
    "    wt.append(d['weight'])"
   ]
  },
  {
   "cell_type": "code",
   "execution_count": 40,
   "id": "b110081d",
   "metadata": {},
   "outputs": [
    {
     "name": "stdout",
     "output_type": "stream",
     "text": [
      "[118, 142, 159, 58, 163, 145, 86, 179, 60, 158, 88, 175, 177, 175, 86, 66, 175, 50, 151, 50, 158, 144, 60, 168, 116, 170, 163, 66, 175, 270, 66, 175, 180, 163, 88, 42, 159, 61, 72, 73, 172, 635, 290, 290, 290, 60, 144, 300, 340, 340, 300, 62, 142, 265, 62, 142, 265, 62, 142, 268, 56, 147, 56, 147, 56, 72, 178, 72, 173, 44, 119, 240, 44, 119, 240, 54, 159, 54, 154, 40, 97, 259, 54, 159, 59, 161, 56, 154, 252, 53, 160, 83, 48, 126, 245, 47, 166, 38, 75, 52]\n",
      "[50, 285, 415, 72, 1258, 140, 648, 4000, 78, 487, 39, 1180, 205, 540, 280, 88, 1258, 350, 550, 65, 558, 50, 120, 285, 160, 2200, 505, 108, 350, 1520, 335, 1200, 325, 712, 580, 210, 480, 60, 235, 214, 755, 468, 1780, 1980, 1870, 720, 1520, 2020, 2160, 1990, 50, 50, 216, 522, 25, 195, 520, 76, 280, 819, 136, 370, 175, 325, 36, 100, 284, 115, 316, 26, 325, 550, 40, 280, 596, 23, 198, 95, 280, 66, 202, 484, 17, 36, 45, 392, 240, 465, 1305, 55, 120, 12, 163, 405, 840, 864, 2538, 20, 970, 110]\n",
      "[5, 13, 15, 6, 12, 15, 11, 92, 6, 14, 5, 18, 6, 15, 9, 6, 18, 7, 8, 4, 11, 6, 6, 9, 9, 21, 17, 6, 14, 18, 5, 11, 6, 14, 12, 7, 14, 4, 6, 7, 12, 15, 19, 21, 20, 6, 12, 20, 52, 38, 6, 5, 9, 17, 4, 9, 19, 4, 7, 15, 5, 10, 4, 5, 3, 6, 10, 7, 12, 5, 12, 15, 5, 10, 13, 3, 7, 6, 12, 4, 8, 16, 5, 8, 4, 12, 8, 14, 20, 5, 8, 8, 6, 10, 15, 10, 23, 2, 10, 6]\n"
     ]
    }
   ],
   "source": [
    "print(bs)\n",
    "print(wt)\n",
    "print(ht)"
   ]
  },
  {
   "cell_type": "code",
   "execution_count": 41,
   "id": "af57e3d4",
   "metadata": {},
   "outputs": [
    {
     "data": {
      "text/html": [
       "<div>\n",
       "<style scoped>\n",
       "    .dataframe tbody tr th:only-of-type {\n",
       "        vertical-align: middle;\n",
       "    }\n",
       "\n",
       "    .dataframe tbody tr th {\n",
       "        vertical-align: top;\n",
       "    }\n",
       "\n",
       "    .dataframe thead th {\n",
       "        text-align: right;\n",
       "    }\n",
       "</style>\n",
       "<table border=\"1\" class=\"dataframe\">\n",
       "  <thead>\n",
       "    <tr style=\"text-align: right;\">\n",
       "      <th></th>\n",
       "      <th>Name</th>\n",
       "      <th>URL</th>\n",
       "    </tr>\n",
       "  </thead>\n",
       "  <tbody>\n",
       "    <tr>\n",
       "      <th>0</th>\n",
       "      <td>unown</td>\n",
       "      <td>https://pokeapi.co/api/v2/pokemon/201/</td>\n",
       "    </tr>\n",
       "    <tr>\n",
       "      <th>1</th>\n",
       "      <td>wobbuffet</td>\n",
       "      <td>https://pokeapi.co/api/v2/pokemon/202/</td>\n",
       "    </tr>\n",
       "    <tr>\n",
       "      <th>2</th>\n",
       "      <td>girafarig</td>\n",
       "      <td>https://pokeapi.co/api/v2/pokemon/203/</td>\n",
       "    </tr>\n",
       "    <tr>\n",
       "      <th>3</th>\n",
       "      <td>pineco</td>\n",
       "      <td>https://pokeapi.co/api/v2/pokemon/204/</td>\n",
       "    </tr>\n",
       "    <tr>\n",
       "      <th>4</th>\n",
       "      <td>forretress</td>\n",
       "      <td>https://pokeapi.co/api/v2/pokemon/205/</td>\n",
       "    </tr>\n",
       "  </tbody>\n",
       "</table>\n",
       "</div>"
      ],
      "text/plain": [
       "         Name                                     URL\n",
       "0       unown  https://pokeapi.co/api/v2/pokemon/201/\n",
       "1   wobbuffet  https://pokeapi.co/api/v2/pokemon/202/\n",
       "2   girafarig  https://pokeapi.co/api/v2/pokemon/203/\n",
       "3      pineco  https://pokeapi.co/api/v2/pokemon/204/\n",
       "4  forretress  https://pokeapi.co/api/v2/pokemon/205/"
      ]
     },
     "execution_count": 41,
     "metadata": {},
     "output_type": "execute_result"
    }
   ],
   "source": [
    "df1.head()"
   ]
  },
  {
   "cell_type": "code",
   "execution_count": 42,
   "id": "e32b3512",
   "metadata": {},
   "outputs": [
    {
     "data": {
      "text/html": [
       "<div>\n",
       "<style scoped>\n",
       "    .dataframe tbody tr th:only-of-type {\n",
       "        vertical-align: middle;\n",
       "    }\n",
       "\n",
       "    .dataframe tbody tr th {\n",
       "        vertical-align: top;\n",
       "    }\n",
       "\n",
       "    .dataframe thead th {\n",
       "        text-align: right;\n",
       "    }\n",
       "</style>\n",
       "<table border=\"1\" class=\"dataframe\">\n",
       "  <thead>\n",
       "    <tr style=\"text-align: right;\">\n",
       "      <th></th>\n",
       "      <th>Name</th>\n",
       "      <th>URL</th>\n",
       "      <th>Base_Experience</th>\n",
       "      <th>Height</th>\n",
       "      <th>Weight</th>\n",
       "    </tr>\n",
       "  </thead>\n",
       "  <tbody>\n",
       "    <tr>\n",
       "      <th>0</th>\n",
       "      <td>unown</td>\n",
       "      <td>https://pokeapi.co/api/v2/pokemon/201/</td>\n",
       "      <td>118</td>\n",
       "      <td>5</td>\n",
       "      <td>50</td>\n",
       "    </tr>\n",
       "    <tr>\n",
       "      <th>1</th>\n",
       "      <td>wobbuffet</td>\n",
       "      <td>https://pokeapi.co/api/v2/pokemon/202/</td>\n",
       "      <td>142</td>\n",
       "      <td>13</td>\n",
       "      <td>285</td>\n",
       "    </tr>\n",
       "    <tr>\n",
       "      <th>2</th>\n",
       "      <td>girafarig</td>\n",
       "      <td>https://pokeapi.co/api/v2/pokemon/203/</td>\n",
       "      <td>159</td>\n",
       "      <td>15</td>\n",
       "      <td>415</td>\n",
       "    </tr>\n",
       "    <tr>\n",
       "      <th>3</th>\n",
       "      <td>pineco</td>\n",
       "      <td>https://pokeapi.co/api/v2/pokemon/204/</td>\n",
       "      <td>58</td>\n",
       "      <td>6</td>\n",
       "      <td>72</td>\n",
       "    </tr>\n",
       "    <tr>\n",
       "      <th>4</th>\n",
       "      <td>forretress</td>\n",
       "      <td>https://pokeapi.co/api/v2/pokemon/205/</td>\n",
       "      <td>163</td>\n",
       "      <td>12</td>\n",
       "      <td>1258</td>\n",
       "    </tr>\n",
       "  </tbody>\n",
       "</table>\n",
       "</div>"
      ],
      "text/plain": [
       "         Name                                     URL  Base_Experience  \\\n",
       "0       unown  https://pokeapi.co/api/v2/pokemon/201/              118   \n",
       "1   wobbuffet  https://pokeapi.co/api/v2/pokemon/202/              142   \n",
       "2   girafarig  https://pokeapi.co/api/v2/pokemon/203/              159   \n",
       "3      pineco  https://pokeapi.co/api/v2/pokemon/204/               58   \n",
       "4  forretress  https://pokeapi.co/api/v2/pokemon/205/              163   \n",
       "\n",
       "   Height  Weight  \n",
       "0       5      50  \n",
       "1      13     285  \n",
       "2      15     415  \n",
       "3       6      72  \n",
       "4      12    1258  "
      ]
     },
     "execution_count": 42,
     "metadata": {},
     "output_type": "execute_result"
    }
   ],
   "source": [
    "df1['Base_Experience'] = bs\n",
    "df1['Height'] = ht\n",
    "df1['Weight'] = wt\n",
    "df1.head()"
   ]
  },
  {
   "cell_type": "code",
   "execution_count": 44,
   "id": "008ee9d6",
   "metadata": {},
   "outputs": [
    {
     "data": {
      "text/plain": [
       "(100, 5)"
      ]
     },
     "execution_count": 44,
     "metadata": {},
     "output_type": "execute_result"
    }
   ],
   "source": [
    "df1.shape"
   ]
  },
  {
   "cell_type": "code",
   "execution_count": 48,
   "id": "6c3656e8",
   "metadata": {},
   "outputs": [
    {
     "data": {
      "text/html": [
       "<div>\n",
       "<style scoped>\n",
       "    .dataframe tbody tr th:only-of-type {\n",
       "        vertical-align: middle;\n",
       "    }\n",
       "\n",
       "    .dataframe tbody tr th {\n",
       "        vertical-align: top;\n",
       "    }\n",
       "\n",
       "    .dataframe thead th {\n",
       "        text-align: right;\n",
       "    }\n",
       "</style>\n",
       "<table border=\"1\" class=\"dataframe\">\n",
       "  <thead>\n",
       "    <tr style=\"text-align: right;\">\n",
       "      <th></th>\n",
       "      <th>Name</th>\n",
       "      <th>URL</th>\n",
       "      <th>Base_Experience</th>\n",
       "      <th>Height</th>\n",
       "      <th>Weight</th>\n",
       "    </tr>\n",
       "  </thead>\n",
       "  <tbody>\n",
       "    <tr>\n",
       "      <th>0</th>\n",
       "      <td>unown</td>\n",
       "      <td>https://pokeapi.co/api/v2/pokemon/201/</td>\n",
       "      <td>118</td>\n",
       "      <td>5</td>\n",
       "      <td>50</td>\n",
       "    </tr>\n",
       "    <tr>\n",
       "      <th>1</th>\n",
       "      <td>wobbuffet</td>\n",
       "      <td>https://pokeapi.co/api/v2/pokemon/202/</td>\n",
       "      <td>142</td>\n",
       "      <td>13</td>\n",
       "      <td>285</td>\n",
       "    </tr>\n",
       "    <tr>\n",
       "      <th>2</th>\n",
       "      <td>girafarig</td>\n",
       "      <td>https://pokeapi.co/api/v2/pokemon/203/</td>\n",
       "      <td>159</td>\n",
       "      <td>15</td>\n",
       "      <td>415</td>\n",
       "    </tr>\n",
       "  </tbody>\n",
       "</table>\n",
       "</div>"
      ],
      "text/plain": [
       "        Name                                     URL  Base_Experience  Height  \\\n",
       "0      unown  https://pokeapi.co/api/v2/pokemon/201/              118       5   \n",
       "1  wobbuffet  https://pokeapi.co/api/v2/pokemon/202/              142      13   \n",
       "2  girafarig  https://pokeapi.co/api/v2/pokemon/203/              159      15   \n",
       "\n",
       "   Weight  \n",
       "0      50  \n",
       "1     285  \n",
       "2     415  "
      ]
     },
     "execution_count": 48,
     "metadata": {},
     "output_type": "execute_result"
    }
   ],
   "source": [
    "df1.head(3)"
   ]
  },
  {
   "cell_type": "markdown",
   "id": "e2dfee38",
   "metadata": {},
   "source": [
    "### Display Names, Base, Experience, Height and Weight of pokemons where \n",
    "a) Base Experience>200 and Weight>200<br>\n",
    "b) Base Experience<70 or height>50"
   ]
  },
  {
   "cell_type": "code",
   "execution_count": 53,
   "id": "0fbc6174",
   "metadata": {},
   "outputs": [
    {
     "data": {
      "text/plain": [
       "(16, 5)"
      ]
     },
     "execution_count": 53,
     "metadata": {},
     "output_type": "execute_result"
    }
   ],
   "source": [
    "#a)\n",
    "# Method-1\n",
    "da1 = df1.query('Base_Experience>200 and Weight>200')\n",
    "# da1.shape\n",
    "#\n",
    "# Method-2\n",
    "da2 = df1[(df1['Base_Experience']>200) & (df1['Weight']>200)]\n",
    "# da2.shape\n",
    "\n",
    "# Method-3\n",
    "da3 = df1.loc[(df1['Base_Experience']>200) & (df1['Weight']>200)]\n",
    "da3.shape"
   ]
  },
  {
   "cell_type": "code",
   "execution_count": null,
   "id": "938a7f7f",
   "metadata": {},
   "outputs": [],
   "source": []
  }
 ],
 "metadata": {
  "kernelspec": {
   "display_name": "Python 3",
   "language": "python",
   "name": "python3"
  },
  "language_info": {
   "codemirror_mode": {
    "name": "ipython",
    "version": 3
   },
   "file_extension": ".py",
   "mimetype": "text/x-python",
   "name": "python",
   "nbconvert_exporter": "python",
   "pygments_lexer": "ipython3",
   "version": "3.8.8"
  }
 },
 "nbformat": 4,
 "nbformat_minor": 5
}
