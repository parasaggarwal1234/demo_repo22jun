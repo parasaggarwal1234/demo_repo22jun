{
 "cells": [
  {
   "cell_type": "markdown",
   "id": "5c60a994",
   "metadata": {},
   "source": [
    "### Decorators\n",
    "Concepts behind Decorators<br>\n",
    "1) A function can be called inside another function<br>\n",
    "2) A function can accept another function as an argument<br>"
   ]
  },
  {
   "cell_type": "markdown",
   "id": "dae557c5",
   "metadata": {},
   "source": [
    "#### Calling a function inside another function"
   ]
  },
  {
   "cell_type": "code",
   "execution_count": 1,
   "id": "639aa6d5",
   "metadata": {},
   "outputs": [
    {
     "name": "stdout",
     "output_type": "stream",
     "text": [
      "Hello World\n"
     ]
    }
   ],
   "source": [
    "def outer():\n",
    "    def inner():\n",
    "        print('Printed inside inner function')\n",
    "    print('Hello World')\n",
    "    \n",
    "outer()"
   ]
  },
  {
   "cell_type": "code",
   "execution_count": 2,
   "id": "b20367c8",
   "metadata": {},
   "outputs": [
    {
     "name": "stdout",
     "output_type": "stream",
     "text": [
      "Printed inside inner function\n",
      "Hello World\n"
     ]
    }
   ],
   "source": [
    "def outer():\n",
    "    def inner():\n",
    "        print('Printed inside inner function')\n",
    "    inner()\n",
    "    print('Hello World')\n",
    "    \n",
    "outer()"
   ]
  },
  {
   "cell_type": "code",
   "execution_count": 3,
   "id": "89f2aaae",
   "metadata": {},
   "outputs": [
    {
     "name": "stdout",
     "output_type": "stream",
     "text": [
      "Hello World\n",
      "Printed inside inner function\n"
     ]
    }
   ],
   "source": [
    "def outer():\n",
    "    def inner():\n",
    "        print('Printed inside inner function')\n",
    "    print('Hello World')\n",
    "    inner()\n",
    "\n",
    "outer()"
   ]
  },
  {
   "cell_type": "markdown",
   "id": "b6742975",
   "metadata": {},
   "source": [
    "#### Scenario 1 - Returning Function"
   ]
  },
  {
   "cell_type": "code",
   "execution_count": 36,
   "id": "ecffbbbf",
   "metadata": {},
   "outputs": [
    {
     "name": "stdout",
     "output_type": "stream",
     "text": [
      "Printed inside inner function\n"
     ]
    }
   ],
   "source": [
    "# Method-1\n",
    "def outer():\n",
    "    def inner():\n",
    "        print('Printed inside inner function')\n",
    "    return inner\n",
    "\n",
    "r = outer()\n",
    "r()    # inner()"
   ]
  },
  {
   "cell_type": "code",
   "execution_count": 37,
   "id": "e2ac047d",
   "metadata": {},
   "outputs": [
    {
     "name": "stdout",
     "output_type": "stream",
     "text": [
      "Printed inside inner function\n"
     ]
    }
   ],
   "source": [
    "# Method-2\n",
    "def outer():\n",
    "    def inner():\n",
    "        print('Printed inside inner function')\n",
    "    return inner\n",
    "\n",
    "outer()()"
   ]
  },
  {
   "cell_type": "markdown",
   "id": "85db4fcd",
   "metadata": {},
   "source": [
    "#### Scenario 2 - Returning Function Call"
   ]
  },
  {
   "cell_type": "code",
   "execution_count": 38,
   "id": "3432d5b9",
   "metadata": {},
   "outputs": [
    {
     "name": "stdout",
     "output_type": "stream",
     "text": [
      "Printed inside inner function\n"
     ]
    }
   ],
   "source": [
    "# Method-1\n",
    "def outer():\n",
    "    def inner():\n",
    "        print('Printed inside inner function')\n",
    "    return inner()\n",
    "\n",
    "r = outer()\n",
    "r"
   ]
  },
  {
   "cell_type": "code",
   "execution_count": 39,
   "id": "1d4d8a83",
   "metadata": {},
   "outputs": [
    {
     "name": "stdout",
     "output_type": "stream",
     "text": [
      "Printed inside inner function\n"
     ]
    }
   ],
   "source": [
    "# Method-2\n",
    "def outer():\n",
    "    def inner():\n",
    "        print('Printed inside inner function')\n",
    "    return inner()\n",
    "\n",
    "outer()"
   ]
  },
  {
   "cell_type": "markdown",
   "id": "a267e050",
   "metadata": {},
   "source": [
    "### Decorators Example"
   ]
  },
  {
   "cell_type": "markdown",
   "id": "14f53fc7",
   "metadata": {},
   "source": [
    "#### Scenario1 - Decorated function is called, wrapper function is returned"
   ]
  },
  {
   "cell_type": "code",
   "execution_count": 32,
   "id": "1744dab8",
   "metadata": {},
   "outputs": [
    {
     "name": "stdout",
     "output_type": "stream",
     "text": [
      "Understanding Decorators\n"
     ]
    }
   ],
   "source": [
    "def decor(org_fun):\n",
    "    def wrapper():\n",
    "        return org_fun()\n",
    "    return wrapper\n",
    "\n",
    "def sample():\n",
    "    print('Understanding Decorators')\n",
    "    \n",
    "a = decor(sample)\n",
    "a()"
   ]
  },
  {
   "cell_type": "markdown",
   "id": "35ea6e6b",
   "metadata": {},
   "source": [
    "#### Scenario2 - Decorated function is called, wrapper function is called"
   ]
  },
  {
   "cell_type": "code",
   "execution_count": 48,
   "id": "85177608",
   "metadata": {},
   "outputs": [
    {
     "name": "stdout",
     "output_type": "stream",
     "text": [
      "Understanding Decorators\n"
     ]
    }
   ],
   "source": [
    "def decor(org_fun):\n",
    "    def wrapper():\n",
    "        return org_fun()\n",
    "    return wrapper()\n",
    "\n",
    "def sample():\n",
    "    print('Understanding Decorators')\n",
    "    \n",
    "r = decor(sample)\n",
    "r"
   ]
  },
  {
   "cell_type": "markdown",
   "id": "7adc421f",
   "metadata": {},
   "source": [
    "#### Scenario3 - Decorated function is returned, wrapper function is returned"
   ]
  },
  {
   "cell_type": "code",
   "execution_count": 45,
   "id": "61f0f508",
   "metadata": {},
   "outputs": [
    {
     "name": "stdout",
     "output_type": "stream",
     "text": [
      "Understanding Decorators\n"
     ]
    }
   ],
   "source": [
    "def decor(org_fun):\n",
    "    def wrapper():\n",
    "        return org_fun\n",
    "    return wrapper\n",
    "\n",
    "def sample():\n",
    "    print('Understanding Decorators')\n",
    "    \n",
    "a = decor(sample)\n",
    "a()()"
   ]
  },
  {
   "cell_type": "markdown",
   "id": "c27f60ed",
   "metadata": {},
   "source": [
    "#### Scenario4 - Decorated function is returned, wrapper function is called"
   ]
  },
  {
   "cell_type": "code",
   "execution_count": 47,
   "id": "6cf82e85",
   "metadata": {},
   "outputs": [
    {
     "name": "stdout",
     "output_type": "stream",
     "text": [
      "Understanding Decorators\n"
     ]
    }
   ],
   "source": [
    "def decor(org_fun):\n",
    "    def wrapper():\n",
    "        return org_fun\n",
    "    return wrapper()\n",
    "\n",
    "def sample():\n",
    "    print('Understanding Decorators')\n",
    "    \n",
    "a = decor(sample)\n",
    "a()"
   ]
  },
  {
   "cell_type": "markdown",
   "id": "9c097f51",
   "metadata": {},
   "source": [
    "### Decorating the functions"
   ]
  },
  {
   "cell_type": "markdown",
   "id": "fd46c64e",
   "metadata": {},
   "source": [
    "#### Ex1"
   ]
  },
  {
   "cell_type": "code",
   "execution_count": 51,
   "id": "c51aff3a",
   "metadata": {},
   "outputs": [
    {
     "name": "stdout",
     "output_type": "stream",
     "text": [
      "Welcome to Python\n",
      "Understanding Decorators\n"
     ]
    }
   ],
   "source": [
    "def decor(org_fun):\n",
    "    def wrapper():\n",
    "        print('Welcome to Python')\n",
    "        return org_fun()\n",
    "    return wrapper\n",
    "\n",
    "def sample():\n",
    "    print('Understanding Decorators')\n",
    "    \n",
    "a = decor(sample)\n",
    "a()"
   ]
  },
  {
   "cell_type": "markdown",
   "id": "1fd7698e",
   "metadata": {},
   "source": [
    "#### Ex2"
   ]
  },
  {
   "cell_type": "code",
   "execution_count": 52,
   "id": "4f63056e",
   "metadata": {},
   "outputs": [
    {
     "name": "stdout",
     "output_type": "stream",
     "text": [
      "Understanding Decorators\n"
     ]
    }
   ],
   "source": [
    "def decor(org_fun):\n",
    "    def wrapper():\n",
    "        return org_fun()\n",
    "        print('Welcome to Python')   # will not get executed\n",
    "    return wrapper\n",
    "\n",
    "def sample():\n",
    "    print('Understanding Decorators')\n",
    "    \n",
    "a = decor(sample)\n",
    "a()"
   ]
  },
  {
   "cell_type": "markdown",
   "id": "6ad1673a",
   "metadata": {},
   "source": [
    "#### Ex3"
   ]
  },
  {
   "cell_type": "code",
   "execution_count": 55,
   "id": "9f228031",
   "metadata": {},
   "outputs": [
    {
     "name": "stdout",
     "output_type": "stream",
     "text": [
      "Text2\n",
      "Text1\n",
      "Understanding Decorators\n"
     ]
    }
   ],
   "source": [
    "def decor(org_fun):\n",
    "    def wrapper():\n",
    "        print('Text1')\n",
    "        return org_fun()\n",
    "    \n",
    "    print('Text2')   \n",
    "    return wrapper\n",
    "\n",
    "def sample():\n",
    "    print('Understanding Decorators')\n",
    "    \n",
    "a = decor(sample)\n",
    "a()"
   ]
  },
  {
   "cell_type": "markdown",
   "id": "5bc0f33f",
   "metadata": {},
   "source": [
    "### How to actually Call Decorators"
   ]
  },
  {
   "cell_type": "code",
   "execution_count": 58,
   "id": "b64f4ab0",
   "metadata": {},
   "outputs": [
    {
     "name": "stdout",
     "output_type": "stream",
     "text": [
      "Hello\n",
      "Understanding Decorators- Part1\n",
      "Hello\n",
      "Understanding Decorators- Part2\n"
     ]
    }
   ],
   "source": [
    "def imarticus(org_fun):\n",
    "    def wrapper():\n",
    "        print('Hello')\n",
    "        return org_fun()   \n",
    "    return wrapper\n",
    "\n",
    "@imarticus\n",
    "def sample1():\n",
    "    print('Understanding Decorators- Part1')\n",
    "\n",
    "@imarticus\n",
    "def sample2():\n",
    "    print('Understanding Decorators- Part2')\n",
    "\n",
    "sample1()\n",
    "# w1 = decor(sample1)\n",
    "# w1()\n",
    "\n",
    "sample2()\n",
    "# w2 = decor(sample2)\n",
    "# w2()"
   ]
  },
  {
   "cell_type": "markdown",
   "id": "9466457b",
   "metadata": {},
   "source": [
    "### How to handle arugments in the decorated function?"
   ]
  },
  {
   "cell_type": "code",
   "execution_count": 62,
   "id": "7db0d27c",
   "metadata": {},
   "outputs": [
    {
     "ename": "TypeError",
     "evalue": "wrapper() takes 0 positional arguments but 3 were given",
     "output_type": "error",
     "traceback": [
      "\u001b[1;31m---------------------------------------------------------------------------\u001b[0m",
      "\u001b[1;31mTypeError\u001b[0m                                 Traceback (most recent call last)",
      "\u001b[1;32m<ipython-input-62-58eccdadc4a1>\u001b[0m in \u001b[0;36m<module>\u001b[1;34m\u001b[0m\n\u001b[0;32m     15\u001b[0m \u001b[1;33m\u001b[0m\u001b[0m\n\u001b[0;32m     16\u001b[0m \u001b[1;31m# details1('Ankit',22)\u001b[0m\u001b[1;33m\u001b[0m\u001b[1;33m\u001b[0m\u001b[1;33m\u001b[0m\u001b[0m\n\u001b[1;32m---> 17\u001b[1;33m \u001b[0mdetails2\u001b[0m\u001b[1;33m(\u001b[0m\u001b[1;34m'Rohit'\u001b[0m\u001b[1;33m,\u001b[0m\u001b[1;36m20\u001b[0m\u001b[1;33m,\u001b[0m\u001b[1;36m21342343\u001b[0m\u001b[1;33m)\u001b[0m\u001b[1;33m\u001b[0m\u001b[1;33m\u001b[0m\u001b[0m\n\u001b[0m",
      "\u001b[1;31mTypeError\u001b[0m: wrapper() takes 0 positional arguments but 3 were given"
     ]
    }
   ],
   "source": [
    "def decor(org_fun):\n",
    "    def wrapper():\n",
    "        print('Welcome to Python')\n",
    "        return org_fun()\n",
    "    return wrapper\n",
    "\n",
    "@decor\n",
    "def details1(name,age):\n",
    "    print(f'{name} is {age} yrs old')\n",
    "    \n",
    "@decor\n",
    "def details2(name,age,pin):\n",
    "    print(f'{name} is {age} yrs old. Pin is {pin}')\n",
    "    \n",
    "    \n",
    "# details1('Ankit',22)\n",
    "details2('Rohit',20,21342343)"
   ]
  },
  {
   "cell_type": "markdown",
   "id": "6fc5db54",
   "metadata": {},
   "source": [
    "### Handling Variable length arguments with decorators"
   ]
  },
  {
   "cell_type": "code",
   "execution_count": 65,
   "id": "07abfcaf",
   "metadata": {},
   "outputs": [
    {
     "name": "stdout",
     "output_type": "stream",
     "text": [
      "Welcome to Python\n",
      "Ankit is 22 yrs old\n",
      "Welcome to Python\n",
      "Rohit is 20 yrs old. Pin is 21342343\n"
     ]
    }
   ],
   "source": [
    "def decor(org_fun):\n",
    "    def wrapper(*x):\n",
    "        print('Welcome to Python')\n",
    "        return org_fun(*x)\n",
    "    return wrapper\n",
    "\n",
    "@decor\n",
    "def details1(name,age):\n",
    "    print(f'{name} is {age} yrs old')\n",
    "    \n",
    "@decor\n",
    "def details2(name,age,pin):\n",
    "    print(f'{name} is {age} yrs old. Pin is {pin}')\n",
    "    \n",
    "    \n",
    "details1('Ankit',22)\n",
    "details2('Rohit',20,21342343)"
   ]
  },
  {
   "cell_type": "markdown",
   "id": "aa7aede4",
   "metadata": {},
   "source": [
    "### Handling variable length of keyword arguments"
   ]
  },
  {
   "cell_type": "code",
   "execution_count": 68,
   "id": "1069dbf2",
   "metadata": {},
   "outputs": [
    {
     "name": "stdout",
     "output_type": "stream",
     "text": [
      "Welcome to Python\n",
      "Function with no argument\n"
     ]
    }
   ],
   "source": [
    "def decor(org_fun):\n",
    "    def wrapper(*args,**kwargs):\n",
    "        print('Welcome to Python')\n",
    "        return org_fun(*args,**kwargs)\n",
    "    return wrapper\n",
    "\n",
    "@decor\n",
    "def details1():\n",
    "    print(f'Function with no argument')\n",
    "    \n",
    "@decor\n",
    "def details2(name,age,pin):\n",
    "    print(f'{name} is {age} yrs old. Pin is {pin}')\n",
    "    \n",
    "@decor\n",
    "def details3(name,age,city='Delhi',course='BCA'):\n",
    "    print(f'{name} is {age} yrs old. Lives in {city}')\n",
    "    print(f'Enrolled in {course}')\n",
    "    \n",
    "    \n",
    "details1()"
   ]
  },
  {
   "cell_type": "code",
   "execution_count": 71,
   "id": "6894c7ea",
   "metadata": {},
   "outputs": [
    {
     "name": "stdout",
     "output_type": "stream",
     "text": [
      "Welcome to Python\n",
      "Ankit is 25 yrs old. Pin is 234233\n"
     ]
    }
   ],
   "source": [
    "details2('Ankit',25,234233)"
   ]
  },
  {
   "cell_type": "code",
   "execution_count": 72,
   "id": "1e5a91bc",
   "metadata": {},
   "outputs": [
    {
     "name": "stdout",
     "output_type": "stream",
     "text": [
      "Welcome to Python\n",
      "Virat is 31 yrs old. Lives in Mumbai\n",
      "Enrolled in Cricket\n"
     ]
    }
   ],
   "source": [
    "details3('Virat',31,'Mumbai','Cricket')"
   ]
  },
  {
   "cell_type": "markdown",
   "id": "17661872",
   "metadata": {},
   "source": [
    "### Decorators\n",
    "\n",
    "It is a function that takes another function as an argument and the decorates the function passed as an argument without changing its functionlaty using a wrapper function. The decorator function returns the wrapper function"
   ]
  },
  {
   "cell_type": "code",
   "execution_count": null,
   "id": "79ff1234",
   "metadata": {},
   "outputs": [],
   "source": []
  }
 ],
 "metadata": {
  "kernelspec": {
   "display_name": "Python 3",
   "language": "python",
   "name": "python3"
  },
  "language_info": {
   "codemirror_mode": {
    "name": "ipython",
    "version": 3
   },
   "file_extension": ".py",
   "mimetype": "text/x-python",
   "name": "python",
   "nbconvert_exporter": "python",
   "pygments_lexer": "ipython3",
   "version": "3.8.8"
  }
 },
 "nbformat": 4,
 "nbformat_minor": 5
}
