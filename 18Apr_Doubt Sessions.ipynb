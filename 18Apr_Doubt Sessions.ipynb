{
 "cells": [
  {
   "cell_type": "markdown",
   "id": "b8b06a12",
   "metadata": {},
   "source": [
    "#### Q) Using Dict comprehension\n",
    "\n",
    "1) Populate a dict with the lower case vowels as the keys and \n",
    "the corresponding ACSII number of the upper case vowels using dict comprehension\n",
    "\n",
    "Q2) d = [12,23,34,23,12,12,45,34,45,56,34,34,23,12,56]\n",
    "Count the elements of the list using a dict where the keys are list elements,\n",
    "and the count should be their values.\n",
    "The result should be like:\n",
    "{12:4,23:3,34:4,45:2,56:2}\n",
    "\n",
    "Q3) names = ['A','B','C','B','D','A','C','B','D','D','B','A','C','B','D]<br>\n",
    "marks = [87,95,80,72,68,83,57,64,89,95,91,80,70,74,73]\n",
    "Find the sum of marks of the students and display them as a dict.<br>\n",
    "{'A':sum_of_A_marks ,'B':sum_of_B_marks,'C':sum_of_C_marks, 'D':sum_of_D_marks}"
   ]
  },
  {
   "cell_type": "code",
   "execution_count": 1,
   "id": "5edf6f48",
   "metadata": {},
   "outputs": [
    {
     "name": "stdout",
     "output_type": "stream",
     "text": [
      "A\n",
      "65\n"
     ]
    }
   ],
   "source": [
    "# A-Z = 65-90\n",
    "# a-z = 97-122\n",
    "print(chr(65))\n",
    "print(ord('A'))"
   ]
  },
  {
   "cell_type": "markdown",
   "id": "839b8663",
   "metadata": {},
   "source": [
    "#### 1) Populate a dict with the lower case vowels as the keys and the corresponding ACSII number of the upper case vowels using dict comprehension"
   ]
  },
  {
   "cell_type": "code",
   "execution_count": 6,
   "id": "ce297ad0",
   "metadata": {},
   "outputs": [
    {
     "name": "stdout",
     "output_type": "stream",
     "text": [
      "{'a': 65, 'e': 69, 'i': 73, 'o': 79, 'u': 85}\n",
      "{'A': 65, 'E': 69, 'I': 73, 'O': 79, 'U': 85}\n",
      "{'a': 65, 'e': 69, 'i': 73, 'o': 79, 'u': 85}\n"
     ]
    }
   ],
   "source": [
    "d = {i : ord(i.upper())  for i in \"aeiou\"}\n",
    "print(d)\n",
    "d1 = {i.upper(): ord(i.upper()) for i in \"aeiou\"}\n",
    "print(d1)\n",
    "d2 = {i.lower(): ord(i) for i in \"AEIOU\"}\n",
    "print(d2)"
   ]
  },
  {
   "cell_type": "markdown",
   "id": "756c62bc",
   "metadata": {},
   "source": [
    "#### Q2) d = [12,23,34,23,12,12,45,34,45,56,34,34,23,12,56] Count the elements of the list using a dict where the keys are list elements, and the count should be their values. The result should be like: {12:4,23:3,34:4,45:2,56:2}"
   ]
  },
  {
   "cell_type": "code",
   "execution_count": 8,
   "id": "bc5b94ed",
   "metadata": {},
   "outputs": [
    {
     "name": "stdout",
     "output_type": "stream",
     "text": [
      "{12: 4, 23: 3, 34: 4, 45: 2, 56: 2}\n"
     ]
    }
   ],
   "source": [
    "d = [12,23,34,23,12,12,45,34,45,56,34,34,23,12,56]\n",
    "# Method-1\n",
    "res1 = {i : d.count(i) for i in d}\n",
    "print(res1)"
   ]
  },
  {
   "cell_type": "code",
   "execution_count": 10,
   "id": "4afe7bb7",
   "metadata": {},
   "outputs": [
    {
     "name": "stdout",
     "output_type": "stream",
     "text": [
      "{'a1': 10, 'a2': 20}\n",
      "{'a1': 10, 'a2': 20, 'a3': 30}\n"
     ]
    }
   ],
   "source": [
    "w = {'a1':10,'a2':20}\n",
    "print(w)\n",
    "w['a3'] = 30\n",
    "print(w)"
   ]
  },
  {
   "cell_type": "code",
   "execution_count": 11,
   "id": "90affcdf",
   "metadata": {},
   "outputs": [
    {
     "name": "stdout",
     "output_type": "stream",
     "text": [
      "{12: 4, 23: 3, 34: 4, 45: 2, 56: 2}\n"
     ]
    }
   ],
   "source": [
    "# Method-2\n",
    "d = [12,23,34,23,12,12,45,34,45,56,34,34,23,12,56]\n",
    "res2 = {}\n",
    "for i in range(len(d)): #  i corresponds to the index of each element of dict\n",
    "    res2[d[i]] = d.count(d[i])\n",
    "print(res2)\n",
    "\n",
    "# res2 = {}\n",
    "# i=0, res[12] = 4 => res2 = {12:4}\n",
    "# i=1, res[23] = 3 => res2 = {12:4,23:3}\n",
    "# i=2, res[34] = 4 => res2 = {12:4,23:3,34:4}\n",
    "# i=3, res[23] = 3 => res2 = {12:4,23:3,34:4}"
   ]
  },
  {
   "cell_type": "code",
   "execution_count": 13,
   "id": "b792b54a",
   "metadata": {},
   "outputs": [
    {
     "name": "stdout",
     "output_type": "stream",
     "text": [
      "{12: 4, 23: 3, 34: 4, 45: 2, 56: 2}\n"
     ]
    }
   ],
   "source": [
    "# Method-3\n",
    "d = [12,23,34,23,12,12,45,34,45,56,34,34,23,12,56]\n",
    "res3 = {}\n",
    "for i in d:  # i is the element of the list d\n",
    "    if i not in res3.keys():\n",
    "        res3[i] = 1\n",
    "    else:\n",
    "        res3[i] += 1\n",
    "print(res3)\n",
    "\n",
    "# i=12, res3[12] = 1 => res3 = {12:1}\n",
    "# i=23, res3[23] = 1 => res3 = {12:1,23:1}\n",
    "# i=34, res3[34] = 1 => res3 = {12:1,23:1,34:1}\n",
    "# i=23, res3[23] = 2 => res3 = {12:1,23:2,34:1}\n",
    "# i=12, res3[12] = 2 => res3 = {12:2,23:2,34:1}\n",
    "# i=12, res3[12] = 3 => res3 = {12:3,23:2,34:1}\n",
    "# i=45, res3[45] = 1 => res3 = {12:3,23:2,34:1,45:1}\n",
    "# i=34, res3[34] = 2 => res3 = {12:3,23:2,34:2,45:1}\n",
    "# i=45, res3[45] = 2 => res3 = {12:3,23:2,34:2,45:2}\n",
    "# i=56, res3[56] = 1 => res3 = {12:3,23:2,34:2,45:2,56:1}\n",
    "# i=34, res3[34] = 3 => res3 = {12:3,23:2,34:3,45:2,56:1}\n",
    "# i=34, res3[34] = 4 => res3 = {12:3,23:2,34:4,45:2,56:1}\n",
    "# i=23, res3[23] = 3 => res3 = {12:3,23:3,34:4,45:2,56:1}\n",
    "# i=12, res3[12] = 4 => res3 = {12:4,23:3,34:4,45:2,56:1}\n",
    "# i=56, res3[56] = 2 => res3 = {12:4,23:3,34:4,45:2,56:2}"
   ]
  },
  {
   "cell_type": "code",
   "execution_count": 14,
   "id": "f34ec725",
   "metadata": {},
   "outputs": [
    {
     "name": "stdout",
     "output_type": "stream",
     "text": [
      "{12: 4, 23: 3, 34: 4, 45: 2, 56: 2}\n"
     ]
    }
   ],
   "source": [
    "d = [12,23,34,23,12,12,45,34,45,56,34,34,23,12,56]\n",
    "res3 = {}\n",
    "for i in range(len(d)):  # i is the index of each element of the list d\n",
    "    if d[i] not in res3.keys():\n",
    "        res3[d[i]] = 1\n",
    "    else:\n",
    "        res3[d[i]] += 1\n",
    "print(res3)"
   ]
  },
  {
   "cell_type": "markdown",
   "id": "8ed8a162",
   "metadata": {},
   "source": [
    "#### Q3)\n",
    "names = ['A','B','C','B','D','A','C','B','D','D','B','A','C','B','D]<br>\n",
    "marks = [87,95,80,72,68,83,57,64,89,95,91,80,70,74,73]<br> \n",
    "Find the sum of marks of the students and display them as a dict.<br>\n",
    "{'A':sum_of_A_marks ,'B':sum_of_B_marks,'C':sum_of_C_marks, 'D':sum_of_D_marks}"
   ]
  },
  {
   "cell_type": "code",
   "execution_count": 17,
   "id": "3e8d05aa",
   "metadata": {},
   "outputs": [
    {
     "name": "stdout",
     "output_type": "stream",
     "text": [
      "15 15\n",
      "{'A': 250, 'B': 396, 'C': 207, 'D': 325}\n"
     ]
    }
   ],
   "source": [
    "names = ['A','B','C','B','D','A','C','B','D','D','B','A','C','B','D']\n",
    "marks = [87,95,80,72,68,83,57,64,89,95,91,80,70,74,73]\n",
    "print(len(names),len(marks))\n",
    "res = {}\n",
    "for i in range(len(names)):\n",
    "    if names[i] not in res.keys():\n",
    "        res[names[i]] = marks[i]\n",
    "    else:\n",
    "        res[names[i]] += marks[i]\n",
    "print(res)\n",
    "# i=0, res['A'] = 87 => res ={'A':87}\n",
    "# i=1, res['B'] = 95 => res ={'A':87,'B':95}\n",
    "# i=2, res['C'] = 80 => res ={'A':87,'B':95,'C':80}\n",
    "# i=3, res['B'] = 95+72 = 167 => res ={'A':87,'B':167,'C':80}\n",
    "# ..."
   ]
  },
  {
   "cell_type": "markdown",
   "id": "3298c138",
   "metadata": {},
   "source": [
    "#### Nested if -> if-inside-if"
   ]
  },
  {
   "cell_type": "code",
   "execution_count": 21,
   "id": "6a40987a",
   "metadata": {},
   "outputs": [
    {
     "name": "stdout",
     "output_type": "stream",
     "text": [
      "59 is not divisible by 4\n"
     ]
    }
   ],
   "source": [
    "n = 59\n",
    "if n%4==0:\n",
    "    if n%7==0:\n",
    "        print(n,'is divisible by 4 and 7')\n",
    "    else:\n",
    "        print(n,'is not divisible by 7')\n",
    "else:\n",
    "    print(n,'is not divisible by 4')"
   ]
  },
  {
   "cell_type": "markdown",
   "id": "17145ede",
   "metadata": {},
   "source": [
    "#### Elif"
   ]
  },
  {
   "cell_type": "code",
   "execution_count": 25,
   "id": "0b688633",
   "metadata": {},
   "outputs": [
    {
     "name": "stdout",
     "output_type": "stream",
     "text": [
      "a is div by 2 or b is div by 3\n"
     ]
    }
   ],
   "source": [
    "a,b=10,5\n",
    "if a>8 and b>6:\n",
    "    print('a>8 and b>6')\n",
    "elif a%2==0 or b%3==0:\n",
    "    print('a is div by 2 or b is div by 3')\n",
    "elif a%5==0 and b%5==0:\n",
    "    print(f'{a} and {b} are div by 5')\n",
    "else:\n",
    "    print('None of the above')"
   ]
  },
  {
   "cell_type": "markdown",
   "id": "28b1e290",
   "metadata": {},
   "source": [
    "#### List Comprehension\n",
    "It is shorthand syntax to create a list"
   ]
  },
  {
   "cell_type": "code",
   "execution_count": 27,
   "id": "16aca562",
   "metadata": {},
   "outputs": [
    {
     "name": "stdout",
     "output_type": "stream",
     "text": [
      "[2, 4, 6, 8]\n",
      "[2, 4, 6, 8]\n"
     ]
    }
   ],
   "source": [
    "r = [i for i in range(2,10,2)] # start=2,end=10,step=2\n",
    "print(r)\n",
    "r1 = [i for i in [2,4,6,8]]\n",
    "print(r1)"
   ]
  },
  {
   "cell_type": "code",
   "execution_count": 28,
   "id": "b7460ce5",
   "metadata": {},
   "outputs": [
    {
     "name": "stdout",
     "output_type": "stream",
     "text": [
      "[-2, 9, 2, 15, -6, 15, -2, 25, -10, 21, -6, 35]\n"
     ]
    }
   ],
   "source": [
    "res = [i*j if (i+j)%2==0 else (j-i)*2 for i in range(3,9,2) for j in range(2,6)]\n",
    "print(res)\n",
    "\n",
    "# i = 3,5,7, j=2,3,4,5\n",
    "# i=3, j=2 => (i+j)%2==0 => False => -2\n",
    "# i=3, j=3 => (i+j)%2==0 => True => 9\n",
    "# i=3, j=4 => (i+j)%2==0 => F => 2\n",
    "# i=3, j=5 => (i+j)%2==0 => T => 15\n",
    "\n",
    "# i=5, j=2 => (i+j)%2==0 => False => -6\n",
    "# i=5, j=3 => (i+j)%2==0 => True => 15\n",
    "# i=5, j=4 => (i+j)%2==0 => F => -2\n",
    "# i=5, j=5 => (i+j)%2==0 => T => 25\n"
   ]
  },
  {
   "cell_type": "code",
   "execution_count": null,
   "id": "ea96d8f2",
   "metadata": {},
   "outputs": [],
   "source": []
  },
  {
   "cell_type": "markdown",
   "id": "f3d2ac60",
   "metadata": {},
   "source": [
    "#### Function cant return a sequence \n",
    "Return keyword cant return a sequence"
   ]
  },
  {
   "cell_type": "code",
   "execution_count": 31,
   "id": "22ab1808",
   "metadata": {},
   "outputs": [
    {
     "name": "stdout",
     "output_type": "stream",
     "text": [
      "1\n",
      "2\n",
      "3\n",
      "4\n"
     ]
    }
   ],
   "source": [
    "def hello():\n",
    "    for i in range(1,5):\n",
    "        print(i)\n",
    "\n",
    "hello()"
   ]
  },
  {
   "cell_type": "code",
   "execution_count": 33,
   "id": "ba4eafdd",
   "metadata": {},
   "outputs": [
    {
     "name": "stdout",
     "output_type": "stream",
     "text": [
      "1\n"
     ]
    }
   ],
   "source": [
    "def hello():\n",
    "    for i in range(1,5):  # i=1,2,3,4\n",
    "        return i\n",
    "\n",
    "r = hello()\n",
    "print(r)"
   ]
  },
  {
   "cell_type": "markdown",
   "id": "315e7754",
   "metadata": {},
   "source": [
    "#### Accpet user input() as list"
   ]
  },
  {
   "cell_type": "code",
   "execution_count": 43,
   "id": "fb4ffb43",
   "metadata": {},
   "outputs": [
    {
     "name": "stdout",
     "output_type": "stream",
     "text": [
      "10\n",
      "20\n",
      "30\n",
      "40\n",
      "50\n",
      "[10, 20, 30, 40, 50]\n"
     ]
    }
   ],
   "source": [
    "r = [int(input()) for i in range(5)]\n",
    "print(r)"
   ]
  },
  {
   "cell_type": "code",
   "execution_count": 36,
   "id": "ec253196",
   "metadata": {},
   "outputs": [
    {
     "name": "stdout",
     "output_type": "stream",
     "text": [
      "64\n"
     ]
    }
   ],
   "source": [
    "d = [10,12,13,14,15]\n",
    "res = sum(d)\n",
    "print(res)"
   ]
  },
  {
   "cell_type": "markdown",
   "id": "5f889a34",
   "metadata": {},
   "source": [
    "#### break - Used to break out of the loop"
   ]
  },
  {
   "cell_type": "code",
   "execution_count": 38,
   "id": "ab8f89f6",
   "metadata": {},
   "outputs": [
    {
     "name": "stdout",
     "output_type": "stream",
     "text": [
      "15\n",
      "16\n",
      "17\n",
      "18\n",
      "19\n",
      "20\n",
      "21\n"
     ]
    }
   ],
   "source": [
    "for i in range(15,55):\n",
    "    if i%7==0:\n",
    "        print(i)\n",
    "        break\n",
    "    else:\n",
    "        print(i)\n"
   ]
  },
  {
   "cell_type": "code",
   "execution_count": 40,
   "id": "a051f339",
   "metadata": {},
   "outputs": [],
   "source": [
    "for i in range(21,55):\n",
    "    if i%7==0:\n",
    "        break\n",
    "        print(i)\n",
    "    else:\n",
    "        print(i)\n"
   ]
  },
  {
   "cell_type": "markdown",
   "id": "358edc51",
   "metadata": {},
   "source": [
    "#### Table of Numbers"
   ]
  },
  {
   "cell_type": "code",
   "execution_count": 41,
   "id": "cf0319a3",
   "metadata": {},
   "outputs": [
    {
     "name": "stdout",
     "output_type": "stream",
     "text": [
      "15 * 1= 15\n",
      "15 * 2= 30\n",
      "15 * 3= 45\n",
      "15 * 4= 60\n",
      "15 * 5= 75\n",
      "15 * 6= 90\n",
      "15 * 7= 105\n",
      "15 * 8= 120\n",
      "15 * 9= 135\n",
      "15 * 10= 150\n"
     ]
    }
   ],
   "source": [
    "def print_table(n):\n",
    "    for i in range(1,11):\n",
    "        print(f'{n} * {i}= {n*i}')\n",
    "        \n",
    "print_table(15)"
   ]
  },
  {
   "cell_type": "markdown",
   "id": "f6e3cd13",
   "metadata": {},
   "source": [
    "#### Recursion"
   ]
  },
  {
   "cell_type": "code",
   "execution_count": 42,
   "id": "68d7e4fd",
   "metadata": {},
   "outputs": [
    {
     "data": {
      "text/plain": [
       "112"
      ]
     },
     "execution_count": 42,
     "metadata": {},
     "output_type": "execute_result"
    }
   ],
   "source": [
    "def google(n):\n",
    "    if n<5:\n",
    "        return n+3\n",
    "    else:\n",
    "        return 3*n + google(n-1)\n",
    "    \n",
    "google(9)\n",
    "# 3*9 + google(8) = 27 + (3*8 + google(7)) = 27 + 24 + google(7) = 51 + (3*7 + google(6))\n",
    "# 51+ 21 + google(6)  = 72 + (3*6 +google(5)) = 72+18 + google(5)\n",
    "# 90 + google(5) = 90 + (3*5+ google(4)) = 90+15 + google(4)\n",
    "# 105 + google(4) = 105 + (4+3) = 105+7 = 112"
   ]
  },
  {
   "cell_type": "markdown",
   "id": "5f22896b",
   "metadata": {},
   "source": [
    "#### Exercise on Functions, List and dict\n",
    "<ol>\n",
    "<li>WAF to compute SI given P,R and T as arguments<br>\n",
    "<li>For a given dict . d1 ={'a':34,'b':15,'c':78,'d':50,'e':67}. Find difference between largest and smallest values and find their corresponding keys. </li>\n",
    "<li>Assume any given list of marks(all integers between 1 to 100), find the second highest marks obtained from a list of marks.</li>\n",
    "<li>Create a function to generate a list containing common elements of two given lists. <br>\n",
    "w1 = [1,2,3,4,67,78]<br>\n",
    "w2 = [45,78,3,11,109]</li>\n",
    "<li>Write a program that takes a list of words and returns the length of longest word and \n",
    "   print the longest word as well. Assume any list of words</li>\n",
    "<li>Sort even-placed elements (according to thier index) in decreasing and odd-placed in increasing order and store them in a separate list and display them as output. \n",
    " Assume any list of numbers</li>\n",
    "<li>Find the pair of numbers from a list which sum upto 20.\n",
    "Given list -[3,8,17,8,19,12,11,2,4,1]</li>\n",
    "<li>WAF to count the number of vowels in a given string. String is passed as an argument</li>\n",
    "</ol>"
   ]
  },
  {
   "cell_type": "markdown",
   "id": "e2db8b4d",
   "metadata": {},
   "source": [
    "#### 3) Assume any given list of marks(all integers between 1 to 100), find the second highest marks obtained from a list of marks.\n"
   ]
  },
  {
   "cell_type": "code",
   "execution_count": 44,
   "id": "f7f681f9",
   "metadata": {},
   "outputs": [
    {
     "name": "stdout",
     "output_type": "stream",
     "text": [
      "78\n",
      "89\n",
      "67\n",
      "73\n",
      "85\n",
      "93\n",
      "56\n",
      "64\n",
      "68\n",
      "88\n"
     ]
    }
   ],
   "source": [
    "marks = [int(input()) for i in range(10)]\n"
   ]
  },
  {
   "cell_type": "markdown",
   "id": "72ac2631",
   "metadata": {},
   "source": [
    "#### 5) Write a program that takes a list of words and returns the length of longest word and print the longest word as well. Assume any list of words"
   ]
  },
  {
   "cell_type": "code",
   "execution_count": 48,
   "id": "88e707e8",
   "metadata": {},
   "outputs": [
    {
     "name": "stdout",
     "output_type": "stream",
     "text": [
      "[6, 15, 3, 7, 7, 12, 5]\n",
      "Word of max length is 15\n",
      "Index of longest word 1\n",
      "Lonesgt word is MachineLearning\n"
     ]
    }
   ],
   "source": [
    "words = ['Python','MachineLearning','SQL','Tableau','PowerBI','DeepLearning','Excel']\n",
    "word_len = [len(i) for i in words]\n",
    "# print(word_len)\n",
    "max_word_len = max(word_len)\n",
    "print('Word of max length is',max_word_len)\n",
    "idx_longest_word = word_len.index(max_word_len)\n",
    "# print('Index of longest word',idx_longest_word)\n",
    "print('Lonesgt word is',words[idx_longest_word])"
   ]
  },
  {
   "cell_type": "code",
   "execution_count": 50,
   "id": "564e348a",
   "metadata": {},
   "outputs": [
    {
     "name": "stdout",
     "output_type": "stream",
     "text": [
      "Longest word is MachineLearning and its length is 15\n"
     ]
    }
   ],
   "source": [
    "words = ['Python','MachineLearning','SQL','Tableau','PowerBI','DeepLearning','Excel']\n",
    "word_len = [len(i) for i in words]\n",
    "res = words[word_len.index(max(word_len))]\n",
    "print('Longest word is',res, 'and its length is',max(word_len))"
   ]
  },
  {
   "cell_type": "code",
   "execution_count": null,
   "id": "166c67e4",
   "metadata": {},
   "outputs": [],
   "source": []
  }
 ],
 "metadata": {
  "kernelspec": {
   "display_name": "Python 3",
   "language": "python",
   "name": "python3"
  },
  "language_info": {
   "codemirror_mode": {
    "name": "ipython",
    "version": 3
   },
   "file_extension": ".py",
   "mimetype": "text/x-python",
   "name": "python",
   "nbconvert_exporter": "python",
   "pygments_lexer": "ipython3",
   "version": "3.8.8"
  }
 },
 "nbformat": 4,
 "nbformat_minor": 5
}
