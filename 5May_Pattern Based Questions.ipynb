{
 "cells": [
  {
   "cell_type": "code",
   "execution_count": 1,
   "id": "4c764c62",
   "metadata": {},
   "outputs": [],
   "source": [
    "# i will be used to represent rows\n",
    "# j will be used to represent columns"
   ]
  },
  {
   "cell_type": "markdown",
   "id": "c0818a57",
   "metadata": {},
   "source": [
    "<img src=\"pattern1.png\">"
   ]
  },
  {
   "cell_type": "code",
   "execution_count": 9,
   "id": "abba166a",
   "metadata": {},
   "outputs": [
    {
     "name": "stdout",
     "output_type": "stream",
     "text": [
      "Enter number: 5\n",
      "1 1 1 1 1 \n",
      "2 2 2 2 2 \n",
      "3 3 3 3 3 \n",
      "4 4 4 4 4 \n",
      "5 5 5 5 5 \n"
     ]
    }
   ],
   "source": [
    "n = int(input('Enter number: '))\n",
    "for i in range(1,n+1):      # i=1,2,3,4,5\n",
    "    for j in range(1,n+1):  # j=1,2,3,4,5\n",
    "        print(i,end=\" \")\n",
    "    print() # end='\\n'"
   ]
  },
  {
   "cell_type": "code",
   "execution_count": 12,
   "id": "cbffe094",
   "metadata": {},
   "outputs": [
    {
     "name": "stdout",
     "output_type": "stream",
     "text": [
      "Enter number: 5\n",
      "1 2 3 4 5 \n",
      "1 2 3 4 5 \n",
      "1 2 3 4 5 \n",
      "1 2 3 4 5 \n",
      "1 2 3 4 5 \n"
     ]
    }
   ],
   "source": [
    "n = int(input('Enter number: '))\n",
    "for i in range(1,n+1):      # i=1,2,3,4,5\n",
    "    for j in range(1,n+1):  # j=1,2,3,4,5\n",
    "        print(j,end=\" \")\n",
    "    print() # end='\\n'"
   ]
  },
  {
   "cell_type": "code",
   "execution_count": 13,
   "id": "7a92723b",
   "metadata": {},
   "outputs": [
    {
     "name": "stdout",
     "output_type": "stream",
     "text": [
      "Enter number: 5\n",
      "5 5 5 5 5 \n",
      "4 4 4 4 4 \n",
      "3 3 3 3 3 \n",
      "2 2 2 2 2 \n",
      "1 1 1 1 1 \n"
     ]
    }
   ],
   "source": [
    "n = int(input('Enter number: '))\n",
    "for i in range(n,0,-1):      # i=5,4,3,2,1\n",
    "    for j in range(1,n+1):  # j=1,2,3,4,5\n",
    "        print(i,end=\" \")\n",
    "    print() # end='\\n'"
   ]
  },
  {
   "cell_type": "code",
   "execution_count": 17,
   "id": "149634e1",
   "metadata": {},
   "outputs": [
    {
     "name": "stdout",
     "output_type": "stream",
     "text": [
      "Enter number: 5\n",
      "1 0 0 0 0 \n",
      "0 2 0 0 0 \n",
      "0 0 3 0 0 \n",
      "0 0 0 4 0 \n",
      "0 0 0 0 5 \n"
     ]
    }
   ],
   "source": [
    "n = int(input('Enter number: '))\n",
    "for i in range(1,n+1):      # i=1,2,3,4,5\n",
    "    for j in range(1,n+1):  # j=1,2,3,4,5\n",
    "        if i==j:\n",
    "            print(j,end=\" \")\n",
    "        else:\n",
    "            print(0,end=\" \")\n",
    "    print() # end='\\n'"
   ]
  },
  {
   "cell_type": "code",
   "execution_count": 18,
   "id": "43072ff3",
   "metadata": {},
   "outputs": [
    {
     "name": "stdout",
     "output_type": "stream",
     "text": [
      "Enter number: 5\n",
      "0 0 0 0 1 \n",
      "0 0 0 2 0 \n",
      "0 0 3 0 0 \n",
      "0 4 0 0 0 \n",
      "5 0 0 0 0 \n"
     ]
    }
   ],
   "source": [
    "n = int(input('Enter number: '))\n",
    "for i in range(1,n+1):      # i=1,2,3,4,5\n",
    "    for j in range(1,n+1):  # j=1,2,3,4,5\n",
    "        if i+j==(n+1):\n",
    "            print(i,end=\" \")\n",
    "        else:\n",
    "            print(0,end=\" \")\n",
    "    print() # end='\\n'"
   ]
  },
  {
   "cell_type": "code",
   "execution_count": null,
   "id": "b11e5a59",
   "metadata": {},
   "outputs": [],
   "source": []
  }
 ],
 "metadata": {
  "kernelspec": {
   "display_name": "Python 3",
   "language": "python",
   "name": "python3"
  },
  "language_info": {
   "codemirror_mode": {
    "name": "ipython",
    "version": 3
   },
   "file_extension": ".py",
   "mimetype": "text/x-python",
   "name": "python",
   "nbconvert_exporter": "python",
   "pygments_lexer": "ipython3",
   "version": "3.8.8"
  }
 },
 "nbformat": 4,
 "nbformat_minor": 5
}
