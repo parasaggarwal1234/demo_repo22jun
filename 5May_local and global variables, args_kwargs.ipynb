{
 "cells": [
  {
   "cell_type": "markdown",
   "id": "5a3e8970",
   "metadata": {},
   "source": [
    "### Local and Global variables"
   ]
  },
  {
   "cell_type": "markdown",
   "id": "18d3315c",
   "metadata": {},
   "source": [
    "#### Ex1"
   ]
  },
  {
   "cell_type": "code",
   "execution_count": 1,
   "id": "6017701b",
   "metadata": {},
   "outputs": [
    {
     "name": "stdout",
     "output_type": "stream",
     "text": [
      "10\n",
      "10\n",
      "10\n"
     ]
    }
   ],
   "source": [
    "x = 10                # x is a global variable\n",
    "print(x)              # 10\n",
    "\n",
    "def f1():\n",
    "    print(x)           \n",
    "    \n",
    "f1()                  # 10\n",
    "print(x)              # 10"
   ]
  },
  {
   "cell_type": "markdown",
   "id": "143cd99c",
   "metadata": {},
   "source": [
    "#### Ex2"
   ]
  },
  {
   "cell_type": "code",
   "execution_count": 3,
   "id": "10271e13",
   "metadata": {},
   "outputs": [
    {
     "name": "stdout",
     "output_type": "stream",
     "text": [
      "5\n",
      "7\n",
      "5\n"
     ]
    }
   ],
   "source": [
    "y = 5\n",
    "print(y)              # 5\n",
    "\n",
    "def f2():\n",
    "    y = 7             # y is a local varaible\n",
    "    print(y)           \n",
    "    \n",
    "f2()                  # 7\n",
    "print(y)              # 5"
   ]
  },
  {
   "cell_type": "markdown",
   "id": "bdaf9dbd",
   "metadata": {},
   "source": [
    "#### global\n",
    "1) global keyword is used to create global variable<br>\n",
    "2) They are declared in one line and intialized in the next line\n",
    "\n",
    "Synatx:\n",
    "\n",
    "    global h\n",
    "    h = \"Python\""
   ]
  },
  {
   "cell_type": "code",
   "execution_count": 5,
   "id": "dfbd59ee",
   "metadata": {},
   "outputs": [
    {
     "name": "stdout",
     "output_type": "stream",
     "text": [
      "Python\n",
      "Stats\n",
      "Stats\n"
     ]
    }
   ],
   "source": [
    "w = \"Python\"\n",
    "print(w)          # Python \n",
    "\n",
    "def f3():\n",
    "    global w\n",
    "    w = \"Stats\"\n",
    "    print(w)\n",
    "    \n",
    "f3()             # Stats\n",
    "print(w)         # Stats"
   ]
  },
  {
   "cell_type": "code",
   "execution_count": 1,
   "id": "50145694",
   "metadata": {},
   "outputs": [
    {
     "name": "stdout",
     "output_type": "stream",
     "text": [
      "Python\n",
      "Stats\n",
      "SQL\n"
     ]
    }
   ],
   "source": [
    "w = \"Python\"\n",
    "print(w)          # Python \n",
    "\n",
    "def f3():\n",
    "    global w\n",
    "    w = \"Stats\"\n",
    "    print(w)\n",
    "    w = \"SQL\"\n",
    "    \n",
    "f3()             # Stats\n",
    "print(w)         # SQL"
   ]
  },
  {
   "cell_type": "code",
   "execution_count": 2,
   "id": "683efc02",
   "metadata": {},
   "outputs": [
    {
     "name": "stdout",
     "output_type": "stream",
     "text": [
      "Python\n",
      "Python\n",
      "Stats\n"
     ]
    }
   ],
   "source": [
    "w = \"Python\"\n",
    "print(w)          # Python \n",
    "\n",
    "def f3():\n",
    "    global w\n",
    "    w = \"Stats\"\n",
    "    print(w)\n",
    "    w = \"SQL\"\n",
    "    \n",
    "print(w)         # Python\n",
    "f3()             # Stats"
   ]
  },
  {
   "cell_type": "code",
   "execution_count": 4,
   "id": "1d1f8de5",
   "metadata": {},
   "outputs": [
    {
     "name": "stdout",
     "output_type": "stream",
     "text": [
      "Python\n",
      "Python\n",
      "Stats\n",
      "Data Science\n",
      "Stats\n"
     ]
    }
   ],
   "source": [
    "w = \"Python\"\n",
    "print(w)          # Python \n",
    "\n",
    "def f3():\n",
    "    global w\n",
    "    w = \"Stats\"\n",
    "    print(w)\n",
    "    w = \"SQL\"\n",
    "    \n",
    "print(w)         # Python\n",
    "f3()             # Stats\n",
    "w = \"Data Science\"\n",
    "print(w)\n",
    "f3()"
   ]
  },
  {
   "cell_type": "code",
   "execution_count": 10,
   "id": "08e401e2",
   "metadata": {},
   "outputs": [
    {
     "name": "stdout",
     "output_type": "stream",
     "text": [
      "Python\n",
      "45\n",
      "Stats\n",
      "SQL\n"
     ]
    }
   ],
   "source": [
    "w = \"Python\"\n",
    "print(w)          # Python \n",
    "\n",
    "def f4():\n",
    "    global w\n",
    "    w = \"Stats\"\n",
    "    print(w)\n",
    "    w = \"SQL\"\n",
    "    \n",
    "w = 45\n",
    "print(w)          #  45\n",
    "f4()              #  Stats\n",
    "print(w)          #  SQL"
   ]
  },
  {
   "cell_type": "markdown",
   "id": "7f3b42f5",
   "metadata": {},
   "source": [
    "### args and kwargs\n",
    "\n",
    "<b>args:</b> It is used to pass variable number of arguments to a function. <br>\n",
    "The data type of args is tuple. Any name can be used instead of args<br>\n",
    "Syntax<br>\n",
    "\n",
    "    def f1(*args)\n",
    "\n",
    "<b>kwargs:</b> It is used to pass variable number of kewyword arguments to a function\n",
    "The data type of kwargs is dictionary. Any name can be used instead of args<br>\n",
    "Syntax<br>\n",
    "    \n",
    "    def f1(**kwargs)\n"
   ]
  },
  {
   "cell_type": "code",
   "execution_count": 5,
   "id": "dc4639c0",
   "metadata": {},
   "outputs": [
    {
     "name": "stdout",
     "output_type": "stream",
     "text": [
      "12\n"
     ]
    }
   ],
   "source": [
    "def sum2(x,y):\n",
    "    print(x+y)\n",
    "    \n",
    "sum2(5,7)"
   ]
  },
  {
   "cell_type": "code",
   "execution_count": 6,
   "id": "d28f065f",
   "metadata": {},
   "outputs": [
    {
     "name": "stdout",
     "output_type": "stream",
     "text": [
      "15\n",
      "40\n",
      "94\n",
      "109\n"
     ]
    }
   ],
   "source": [
    "def sum_n(*args):\n",
    "#     print(type(args)) # tuple\n",
    "    print(sum(args))\n",
    "    \n",
    "sum_n(4,5,6)\n",
    "sum_n(4,5,6,7,8,10)\n",
    "sum_n(4,5,6,23,56)\n",
    "sum_n(4,5,6,7,12,13,14,15,16,17)"
   ]
  },
  {
   "cell_type": "code",
   "execution_count": 7,
   "id": "d50aec5b",
   "metadata": {},
   "outputs": [
    {
     "name": "stdout",
     "output_type": "stream",
     "text": [
      "15\n",
      "40\n",
      "94\n",
      "109\n"
     ]
    }
   ],
   "source": [
    "def sum_n(*x):\n",
    "#     print(type(x)) # tuple\n",
    "    print(sum(x))\n",
    "    \n",
    "sum_n(4,5,6)\n",
    "sum_n(4,5,6,7,8,10)\n",
    "sum_n(4,5,6,23,56)\n",
    "sum_n(4,5,6,7,12,13,14,15,16,17)"
   ]
  },
  {
   "cell_type": "code",
   "execution_count": 11,
   "id": "609f8015",
   "metadata": {},
   "outputs": [
    {
     "name": "stdout",
     "output_type": "stream",
     "text": [
      "Ankit has score total of 213 with an avg of 53.25\n",
      "Mohit has score total of 575 with an avg of 82.14285714285714\n"
     ]
    }
   ],
   "source": [
    "def marks_student(name, *marks):\n",
    "    sum_marks = sum(marks)\n",
    "    avg_marks = sum(marks)/len(marks)\n",
    "    print(f'{name} has score total of {sum_marks} with an avg of {avg_marks}')\n",
    "    \n",
    "    \n",
    "marks_student('Ankit',34,45,56,78)\n",
    "marks_student('Mohit',78,89,93,68,72,85,90)"
   ]
  },
  {
   "cell_type": "markdown",
   "id": "423cb390",
   "metadata": {},
   "source": [
    "#### kwargs"
   ]
  },
  {
   "cell_type": "code",
   "execution_count": 7,
   "id": "6b5701ab",
   "metadata": {},
   "outputs": [
    {
     "name": "stdout",
     "output_type": "stream",
     "text": [
      "{'name': 'Ankit', 'age': 20, 'city': 'Delhi'}\n",
      "<class 'dict'>\n"
     ]
    }
   ],
   "source": [
    "def descr(**kwargs):\n",
    "    print(kwargs)\n",
    "    print(type(kwargs))\n",
    "    \n",
    "descr(name='Ankit',age=20,city='Delhi')"
   ]
  },
  {
   "cell_type": "code",
   "execution_count": null,
   "id": "a989b4f7",
   "metadata": {},
   "outputs": [],
   "source": [
    "def descr(**x):\n",
    "    print(x)\n",
    "    print(type(x))\n",
    "    \n",
    "descr(name='Ankit',age=20,city='Delhi')"
   ]
  },
  {
   "cell_type": "code",
   "execution_count": 16,
   "id": "595b87b2",
   "metadata": {},
   "outputs": [
    {
     "name": "stdout",
     "output_type": "stream",
     "text": [
      "{'name': 'Ankit', 'age': 20, 'city': 'Delhi', 'course': 'SQL', 'education': 'BTECH'}\n",
      "<class 'dict'>\n"
     ]
    }
   ],
   "source": [
    "def descr(**x):\n",
    "    print(x)\n",
    "    print(type(x))\n",
    "    \n",
    "descr(name='Ankit',age=20,city='Delhi',course=\"SQL\",education='BTECH')"
   ]
  },
  {
   "cell_type": "markdown",
   "id": "5a8711ee",
   "metadata": {},
   "source": [
    "### Destructuring "
   ]
  },
  {
   "cell_type": "code",
   "execution_count": 12,
   "id": "46cff157",
   "metadata": {},
   "outputs": [
    {
     "name": "stdout",
     "output_type": "stream",
     "text": [
      "[12, 13, 14, 15, 17, 20, 23]\n",
      "12\n",
      "13\n",
      "[14, 15, 17, 20, 23]\n",
      "12\n",
      "[13, 14, 15, 17, 20]\n",
      "23\n"
     ]
    }
   ],
   "source": [
    "r = [12,13,14,15,17,20,23]\n",
    "print(r)\n",
    "a,b,*c = r\n",
    "print(a)\n",
    "print(b)\n",
    "print(c)\n",
    "n1,*n2,n3 = r\n",
    "print(n1)\n",
    "print(n2)\n",
    "print(n3)"
   ]
  },
  {
   "cell_type": "code",
   "execution_count": 14,
   "id": "9a31215c",
   "metadata": {},
   "outputs": [
    {
     "name": "stdout",
     "output_type": "stream",
     "text": [
      "[5, 10, 15, 1, 2, 3, 20]\n",
      "[5, 10, 15, [1, 2, 3], 20]\n"
     ]
    }
   ],
   "source": [
    "r = [1,2,3]\n",
    "d1 = [5,10,15,*r,20]\n",
    "d2 = [5,10,15,r,20]\n",
    "print(d1)\n",
    "print(d2)"
   ]
  },
  {
   "cell_type": "code",
   "execution_count": 20,
   "id": "5de9b98a",
   "metadata": {},
   "outputs": [
    {
     "name": "stdout",
     "output_type": "stream",
     "text": [
      "{'a1': 'hello', 'a2': 20, 'a3': 40, 'a4': 50}\n",
      "{'k1': 20, 'k2': 30, 'k3': {'a1': 'hello', 'a2': 20, 'a3': 40, 'a4': 50}}\n",
      "{'k1': 20, 'k2': 30, 'a1': 'hello', 'a2': 20, 'a3': 40, 'a4': 50}\n"
     ]
    }
   ],
   "source": [
    "d1 = {'a1':'hello','a2':20,'a3':40,'a4':50}\n",
    "print(d1)\n",
    "d2 = {'k1':20,'k2':30,'k3':d1}\n",
    "d3 = {'k1':20,'k2':30,**d1}\n",
    "print(d2)\n",
    "print(d3)"
   ]
  },
  {
   "cell_type": "code",
   "execution_count": null,
   "id": "5b856793",
   "metadata": {},
   "outputs": [],
   "source": []
  },
  {
   "cell_type": "markdown",
   "id": "95a62f56",
   "metadata": {},
   "source": [
    "### Generators\n",
    "1) It is function where yield keyword is used instead of return.<br>\n",
    "2) It is used ot overcome the limitations of a function with return.\n",
    "\n",
    "#### yield\n",
    "1) It can return a sequence of values<br>\n",
    "2) It can be used multiple times in a function<br>"
   ]
  },
  {
   "cell_type": "code",
   "execution_count": 19,
   "id": "e1c61fe7",
   "metadata": {},
   "outputs": [
    {
     "name": "stdout",
     "output_type": "stream",
     "text": [
      "1\n",
      "2\n",
      "3\n",
      "4\n"
     ]
    }
   ],
   "source": [
    "def gen1():\n",
    "    for i in range(1,5):\n",
    "        yield i\n",
    "\n",
    "a = gen1()\n",
    "for i in a:\n",
    "    print(i)"
   ]
  },
  {
   "cell_type": "code",
   "execution_count": 21,
   "id": "93476626",
   "metadata": {},
   "outputs": [
    {
     "name": "stdout",
     "output_type": "stream",
     "text": [
      "[[4, 7, 10], 'Hello world']\n"
     ]
    }
   ],
   "source": [
    "def gen2():\n",
    "    yield [x+2 for x in range(2,10,3)]   # [4,7,10]\n",
    "    yield \"Hello world\"\n",
    "    \n",
    "\n",
    "b = gen2()\n",
    "res = [i for i in b]\n",
    "print(res)"
   ]
  },
  {
   "cell_type": "markdown",
   "id": "943d49ac",
   "metadata": {},
   "source": [
    "### Decorators"
   ]
  },
  {
   "cell_type": "code",
   "execution_count": null,
   "id": "1ef93bdd",
   "metadata": {},
   "outputs": [],
   "source": []
  }
 ],
 "metadata": {
  "kernelspec": {
   "display_name": "Python 3",
   "language": "python",
   "name": "python3"
  },
  "language_info": {
   "codemirror_mode": {
    "name": "ipython",
    "version": 3
   },
   "file_extension": ".py",
   "mimetype": "text/x-python",
   "name": "python",
   "nbconvert_exporter": "python",
   "pygments_lexer": "ipython3",
   "version": "3.8.8"
  }
 },
 "nbformat": 4,
 "nbformat_minor": 5
}
