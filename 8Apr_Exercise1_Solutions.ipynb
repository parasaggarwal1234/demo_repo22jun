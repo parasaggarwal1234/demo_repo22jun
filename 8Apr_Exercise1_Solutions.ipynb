{
 "cells": [
  {
   "cell_type": "markdown",
   "id": "f051885d",
   "metadata": {},
   "source": [
    "### Questions on If-elif-else, For and While Loop\n",
    "\n",
    "1) Accept marks as integer as user input. Generate the following output based on marks<br>\n",
    "a) If marks<=50, grade is Poor.<br>\n",
    "b) If marks>=51 and marks<=65, grade is Average.<br>\n",
    "c) if marks>66 and marks<=80, grade is Good.<br>\n",
    "d) if marks>81 and marks<=100, grade is Excellent.<br>\n",
    "e) Othewise print Invalid Marks<br>\n",
    "\n",
    "2) Accpet two numbers from user, compute the difference between the two numbers. Print the max and min value of the two numbers.\n",
    "\n",
    "3) Write the code to print sum of <br>\n",
    "a) 10 odd numbers starting from 1 using for loop<br>\n",
    "b) 15 even numbers starting from 2 using while loop<br>\n",
    "\n",
    "4) Accpet a number from the user and print <br>\n",
    "a) All the factors of the numbers.<br>\n",
    "b) Print even or odd depending on the number.<br>\n",
    "<b>Sample Input</b><br>\n",
    "12<br>\n",
    "<b>Sample Output:</b><br>\n",
    "1 2 3 4 6 12<br>\n",
    "Even<br>\n",
    "\n",
    "5) Accept a number k from the user and print<br>\n",
    "a) Whether k is positive or negative number.<br>\n",
    "b) If k is positive then print all the squares of the number starting from 1 upto k<br>\n",
    "c) If k is neqative then print the avgerage of all numbers from k upto -1<br>\n",
    "<b>Sample Input</b><br>\n",
    "7<br>\n",
    "<b>Sample Output:</b><br>\n",
    "Positive<br>\n",
    "1 4 9 16 25 36 49<br>\n",
    "\n",
    "<b>Sample Input</b><br>\n",
    "-5<br>\n",
    "<b>Sample Output:</b><br>\n",
    "Negative<br>\n",
    "-3.0\n",
    "\n",
    "\n",
    "6) Accpet a number from the user. Compute its factorial using:<br>\n",
    "a) For loop<br>\n",
    "b) While loop<br>\n",
    "\n",
    "7) Accpet a sentence as user input. Count and print the number of uppercase alphabets, lowercase alphabets, digits, space charaters and special characters.\n",
    "\n",
    "8) Write a program to count the total number of digits in a number accpeted as user input.<br>\n",
    "<b>Sample Input:</b><br>\n",
    "46783<br>\n",
    "<b>Sample Output:</b><br>\n",
    "5\n",
    "\n",
    "9) Accpet full name as user input. Display the initials of the name.<br>\n",
    "<b>Sample Input:</b><br>\n",
    "Elon Musk<br>\n",
    "<b>Sample Output:</b><br>\n",
    "E.M\n",
    "\n",
    "10) Accpet an input from the user in the range 1-26. Generate the corresponding <br>\n",
    "a) upper case alphabets for all the multiple of 3 less than equal to that number<br>\n",
    "<b>Sample Input:</b><br>\n",
    "12<br>\n",
    "<b>Sample Output:</b><br>\n",
    "C F I L<br>\n",
    "\n"
   ]
  },
  {
   "cell_type": "code",
   "execution_count": null,
   "id": "4ec24dfb",
   "metadata": {},
   "outputs": [],
   "source": []
  },
  {
   "cell_type": "markdown",
   "id": "de7c43c5",
   "metadata": {},
   "source": [
    "#### 1) Accept marks as integer as user input. Generate the following output based on marks\n",
    "a) If marks<=50, grade is Poor.<br>\n",
    "b) If marks>=51 and marks<=65, grade is Average.<br>\n",
    "c) if marks>66 and marks<=80, grade is Good.<br>\n",
    "d) if marks>81 and marks<=100, grade is Excellent.<br>\n",
    "e) Othewise print Invalid Marks"
   ]
  },
  {
   "cell_type": "code",
   "execution_count": 6,
   "id": "82ff12d8",
   "metadata": {},
   "outputs": [
    {
     "name": "stdout",
     "output_type": "stream",
     "text": [
      "Enter Marks: -324\n",
      "Invalid Marks\n"
     ]
    }
   ],
   "source": [
    "marks = int(input('Enter Marks: '))\n",
    "if marks>=0 and marks<=50:\n",
    "    print('Poor')\n",
    "elif marks>=51 and marks<=65:\n",
    "    print('Average')\n",
    "elif marks>66 and marks<=80:\n",
    "    print('Good')\n",
    "elif marks>81 and marks<=100:\n",
    "    print('Excellent')\n",
    "else:\n",
    "    print('Invalid Marks')"
   ]
  },
  {
   "cell_type": "code",
   "execution_count": 11,
   "id": "ff293d59",
   "metadata": {},
   "outputs": [
    {
     "name": "stdout",
     "output_type": "stream",
     "text": [
      "Enter Marks: -23\n",
      "Average\n"
     ]
    }
   ],
   "source": [
    "# marks = int(input('Enter Marks: '))\n",
    "# if marks>=0 and marks<=50:\n",
    "#     print('Poor')\n",
    "# elif marks<=65:\n",
    "#     print('Average')\n",
    "# elif marks<=80:\n",
    "#     print('Good')\n",
    "# elif marks<=100:\n",
    "#     print('Excellent')\n",
    "# else:\n",
    "#     print('Invalid Marks')"
   ]
  },
  {
   "cell_type": "markdown",
   "id": "f6f09559",
   "metadata": {},
   "source": [
    "#### 2) Accpet two numbers from user, compute the difference between the two numbers. Print the max and min value of the two numbers."
   ]
  },
  {
   "cell_type": "code",
   "execution_count": 15,
   "id": "b93319d6",
   "metadata": {},
   "outputs": [
    {
     "name": "stdout",
     "output_type": "stream",
     "text": [
      "Enter 1st num: 3\n",
      "Enter 2nd num: 7\n",
      "Laregest number is 7 and smallest number is 3\n",
      "Difference between 7 and 3 is 4\n",
      "difference between 7 and 3 is 4\n"
     ]
    }
   ],
   "source": [
    "a = int(input('Enter 1st num: '))\n",
    "b = int(input('Enter 2nd num: '))\n",
    "if a>b:\n",
    "    lar=a\n",
    "    sm=b\n",
    "else:\n",
    "    lar=b\n",
    "    sm=a\n",
    "print(f'Laregest number is {lar} and smallest number is {sm}')\n",
    "print(f'Difference between {lar} and {sm} is {lar-sm}')\n",
    "print('difference between',lar,'and',sm, 'is',lar-sm)"
   ]
  },
  {
   "cell_type": "markdown",
   "id": "4bd327af",
   "metadata": {},
   "source": [
    "#### 3) Write the code to print sum of\n",
    "a) 10 odd numbers starting from 1 using for loop<br>\n",
    "b) 15 even numbers starting from 2 using while loop"
   ]
  },
  {
   "cell_type": "code",
   "execution_count": 18,
   "id": "7e085f81",
   "metadata": {},
   "outputs": [
    {
     "name": "stdout",
     "output_type": "stream",
     "text": [
      "Sum of 10 odd numbers starting from 1 is 100\n"
     ]
    }
   ],
   "source": [
    "# a) \n",
    "s = 0\n",
    "for i in range(1,20,2): # start=1, end=20, step=2\n",
    "    s += i\n",
    "print('Sum of 10 odd numbers starting from 1 is',s)"
   ]
  },
  {
   "cell_type": "code",
   "execution_count": 19,
   "id": "c409f085",
   "metadata": {},
   "outputs": [
    {
     "name": "stdout",
     "output_type": "stream",
     "text": [
      "Sum of 10 odd numbers starting from 1 is 100\n"
     ]
    }
   ],
   "source": [
    "s = 0\n",
    "for i in range(1,20):\n",
    "    if i%2!=0:\n",
    "        s += i\n",
    "print('Sum of 10 odd numbers starting from 1 is',s)"
   ]
  },
  {
   "cell_type": "code",
   "execution_count": 20,
   "id": "5a524f60",
   "metadata": {},
   "outputs": [
    {
     "data": {
      "text/plain": [
       "100"
      ]
     },
     "execution_count": 20,
     "metadata": {},
     "output_type": "execute_result"
    }
   ],
   "source": [
    "1+3+5+7+9+11+13+15+17+19"
   ]
  },
  {
   "cell_type": "code",
   "execution_count": 24,
   "id": "0def8794",
   "metadata": {},
   "outputs": [
    {
     "name": "stdout",
     "output_type": "stream",
     "text": [
      "Sum of 15 even numbers starting from 2 is 240\n"
     ]
    }
   ],
   "source": [
    "# b) \n",
    "i=2\n",
    "s=0\n",
    "while i<=30:\n",
    "    s += i  # s=s+i\n",
    "    i += 2\n",
    "print('Sum of 15 even numbers starting from 2 is',s)\n",
    "\n",
    "# i=2, 2<30, s=0+2=2, i=2+2=4\n",
    "# i=4, 4<30, s=2+4=6, i=4+2=6\n",
    "# i=6, 6<30, s=6+6=12,i=6+2=8\n",
    "# i=8, 8<30, s=12+8=20,i=8+2=10\n",
    "# i=10,10<30, s=20+10=30,i=10+2=12\n",
    "# ...\n"
   ]
  },
  {
   "cell_type": "code",
   "execution_count": 23,
   "id": "b776c51a",
   "metadata": {},
   "outputs": [
    {
     "data": {
      "text/plain": [
       "240"
      ]
     },
     "execution_count": 23,
     "metadata": {},
     "output_type": "execute_result"
    }
   ],
   "source": [
    "2+4+6+8+10+12+14+16+18+20+22+24+26+28+30"
   ]
  },
  {
   "cell_type": "markdown",
   "id": "26cc82b1",
   "metadata": {},
   "source": [
    "#### 4) Accpet a number from the user and print\n",
    "a) All the factors of the numbers.<br>\n",
    "b) Print even or odd depending on the number.<br>\n",
    "<b>Sample Input</b><br>\n",
    "12<br>\n",
    "<b>Sample Output:</b><br>\n",
    "1 2 3 4 6 12<br>\n",
    "Even<br>\n"
   ]
  },
  {
   "cell_type": "code",
   "execution_count": 32,
   "id": "44ebddae",
   "metadata": {},
   "outputs": [
    {
     "name": "stdout",
     "output_type": "stream",
     "text": [
      "Enter a num: 15\n",
      "1 3 5 15 \n",
      "Odd\n"
     ]
    }
   ],
   "source": [
    "n = int(input('Enter a num: '))\n",
    "for i in range(1,n+1):  # 12, i=1,2,3,4,...12\n",
    "    if n%i==0:\n",
    "        print(i,end=\" \")\n",
    "if n%2==0:\n",
    "    print('\\nEven')\n",
    "else:\n",
    "    print('\\nOdd')\n"
   ]
  },
  {
   "cell_type": "markdown",
   "id": "f289f187",
   "metadata": {},
   "source": [
    "#### 5) Accept a number k from the user and print\n",
    "a) Whether k is positive or negative number.<br>\n",
    "b) If k is positive then print all the squares of the number starting from 1 upto k<br>\n",
    "c) If k is neqative then print the avgerage of all numbers from k upto -1<br>\n",
    "<b>Sample Input</b><br>\n",
    "7<br>\n",
    "<b>Sample Output:</b><br>\n",
    "Positive<br>\n",
    "1 4 9 16 25 36 49<br>\n",
    "\n",
    "<b>Sample Input</b><br>\n",
    "-5<br>\n",
    "<b>Sample Output:</b><br>\n",
    "Negative<br>\n",
    "-3.0\n"
   ]
  },
  {
   "cell_type": "code",
   "execution_count": 45,
   "id": "8596b339",
   "metadata": {},
   "outputs": [
    {
     "name": "stdout",
     "output_type": "stream",
     "text": [
      "Enter a num: -3\n",
      "Negative\n",
      "-2.0\n"
     ]
    }
   ],
   "source": [
    "k = int(input('Enter a num: '))\n",
    "if k>=0:\n",
    "    print('Positive') \n",
    "    for i in range(1,k+1): # i=1,2,3,4,5,6,7\n",
    "        print(i**2,end=\" \")\n",
    "else:\n",
    "    print('Negative')\n",
    "    s=0  # s is used for sum\n",
    "    c=0  # c is used for count\n",
    "    for i in range(k,0,1): # k =-4,-3,-2,-1, sum=-10,avg=-10/4=-2.5\n",
    "        s += i  # sum\n",
    "        c += 1  # count\n",
    "    avg = s/c\n",
    "    print(avg)"
   ]
  },
  {
   "cell_type": "code",
   "execution_count": 50,
   "id": "cee79141",
   "metadata": {},
   "outputs": [
    {
     "name": "stdout",
     "output_type": "stream",
     "text": [
      "Enter a num: -4\n",
      "Negative\n",
      "-2.5\n"
     ]
    }
   ],
   "source": [
    "k = int(input('Enter a num: '))\n",
    "if k>=0:\n",
    "    print('Positive') \n",
    "    for i in range(1,k+1): # i=1,2,3,4,5,6,7\n",
    "        print(i**2,end=\" \")\n",
    "else:\n",
    "    print('Negative')\n",
    "    s=0  # s is used for sum\n",
    "    for i in range(k,0,1):\n",
    "        s += i  # sum\n",
    "    avg = s/(-k)\n",
    "    print(avg)\n",
    "# -4-3-2-1"
   ]
  },
  {
   "cell_type": "code",
   "execution_count": 60,
   "id": "2ce6e12e",
   "metadata": {},
   "outputs": [
    {
     "name": "stdout",
     "output_type": "stream",
     "text": [
      "Enter a num: -8\n",
      "Negative\n",
      "-4.5\n"
     ]
    }
   ],
   "source": [
    "k = int(input('Enter a num: '))\n",
    "if k>=0:\n",
    "    print('Positive') \n",
    "    i=1\n",
    "    while i<k+1:\n",
    "        print(i**2,end=\" \")\n",
    "        i+=1\n",
    "else:\n",
    "    print('Negative')\n",
    "    i=k # -4\n",
    "    s=0 # for sum\n",
    "    while i<0:\n",
    "        s += i\n",
    "        i += 1\n",
    "    avg = s/(-k)\n",
    "    print(avg)"
   ]
  },
  {
   "cell_type": "markdown",
   "id": "bffb82b0",
   "metadata": {},
   "source": [
    "#### 6) Accpet a number from user and compute its factorial using\n",
    "a) for loop<br>\n",
    "b) while loop<br>"
   ]
  },
  {
   "cell_type": "code",
   "execution_count": 63,
   "id": "5e81470f",
   "metadata": {},
   "outputs": [
    {
     "name": "stdout",
     "output_type": "stream",
     "text": [
      "Enter a num: 5\n",
      "Factorial of 5 is 120\n"
     ]
    }
   ],
   "source": [
    "n = int(input('Enter a num: '))\n",
    "f = 1\n",
    "for i in range(1,n+1): # start=1, end=n+1, step=1\n",
    "    f = f*i\n",
    "print(f'Factorial of {n} is {f}')\n",
    "\n",
    "# i=1, f=1\n",
    "# i=1, f=f*i = f=1*1 = 1\n",
    "# i=2, f=f*i = f=1*2 = 2\n",
    "# i=3, f=f*i = f=2*3 = 6\n",
    "# i=4, f=f*i = f=6*4 = 24 \n",
    "# i=5, f=f*i = f=24*5 = 120"
   ]
  },
  {
   "cell_type": "code",
   "execution_count": 64,
   "id": "cc7bd6d8",
   "metadata": {},
   "outputs": [
    {
     "name": "stdout",
     "output_type": "stream",
     "text": [
      "Enter a num: 5\n",
      "Factorial of 5 is 120\n"
     ]
    }
   ],
   "source": [
    "n = int(input('Enter a num: '))\n",
    "f = 1\n",
    "i = 1 # start\n",
    "while i<n+1:  # end\n",
    "    f = f*i\n",
    "    i += 1   # step\n",
    "print(f'Factorial of {n} is {f}')"
   ]
  },
  {
   "cell_type": "markdown",
   "id": "c7c5f7bf",
   "metadata": {},
   "source": [
    "#### 7) Accpet a sentence as user input. Count and print the number of uppercase alphabets, lowercase alphabets, digits, space charaters and special characters."
   ]
  },
  {
   "cell_type": "code",
   "execution_count": 67,
   "id": "9f62b338",
   "metadata": {},
   "outputs": [
    {
     "name": "stdout",
     "output_type": "stream",
     "text": [
      "Enter a sentence: Welcome to Python @ 10AM\n",
      "Upper char 4, lower char 13, dig 2, space char 4 and special chars 1\n"
     ]
    }
   ],
   "source": [
    "s = input('Enter a sentence: ')\n",
    "uc,lc,sp,spcl,dig=0,0,0,0,0\n",
    "for i in s:  # i is each and every character of the string s\n",
    "    if i.isupper():\n",
    "        uc += 1\n",
    "    elif i.islower():\n",
    "        lc += 1\n",
    "    elif i.isdigit():\n",
    "        dig += 1\n",
    "    elif i.isspace():\n",
    "        sp += 1\n",
    "    else:\n",
    "        spcl += 1\n",
    "print(f'Upper char {uc}, lower char {lc}, dig {dig}, space char {sp} and special chars {spcl}')"
   ]
  },
  {
   "cell_type": "markdown",
   "id": "07b8679f",
   "metadata": {},
   "source": [
    "#### Q8) Write a program to count the total number of digits in a number accpeted as user input.\n",
    "Sample Input:<br>\n",
    "46783<br>\n",
    "Sample Output:<br>\n",
    "5"
   ]
  },
  {
   "cell_type": "code",
   "execution_count": 68,
   "id": "20e38fb0",
   "metadata": {},
   "outputs": [
    {
     "name": "stdout",
     "output_type": "stream",
     "text": [
      "Enter a num: 23434\n",
      "Count 5\n"
     ]
    }
   ],
   "source": [
    "n = input('Enter a num: ')\n",
    "c =0\n",
    "for i in n:\n",
    "    if i.isdigit():\n",
    "        c += 1\n",
    "print('Count',c)"
   ]
  },
  {
   "cell_type": "code",
   "execution_count": 69,
   "id": "180dbf76",
   "metadata": {},
   "outputs": [
    {
     "name": "stdout",
     "output_type": "stream",
     "text": [
      "Enter a num: 12314\n",
      "5\n"
     ]
    }
   ],
   "source": [
    "n = int(input('Enter a num: '))\n",
    "print(len(str(n)))"
   ]
  },
  {
   "cell_type": "code",
   "execution_count": 72,
   "id": "74ba111f",
   "metadata": {},
   "outputs": [
    {
     "name": "stdout",
     "output_type": "stream",
     "text": [
      "Enter a num: 345678\n",
      "Count of digits in 0 is 6\n"
     ]
    }
   ],
   "source": [
    "n = int(input('Enter a num: '))\n",
    "c = 0\n",
    "while n>0:\n",
    "    c += 1\n",
    "    n //= 10\n",
    "print(f'Count of digits in {n} is {c}')"
   ]
  },
  {
   "cell_type": "code",
   "execution_count": 73,
   "id": "ed57b043",
   "metadata": {},
   "outputs": [
    {
     "name": "stdout",
     "output_type": "stream",
     "text": [
      "Enter a num: 32415\n",
      "Count of digits in 32415 is 5\n"
     ]
    }
   ],
   "source": [
    "n = int(input('Enter a num: '))\n",
    "c = 0\n",
    "temp = n\n",
    "while temp>0:\n",
    "    c += 1\n",
    "    temp //= 10\n",
    "print(f'Count of digits in {n} is {c}')"
   ]
  },
  {
   "cell_type": "code",
   "execution_count": null,
   "id": "6af3a8ac",
   "metadata": {},
   "outputs": [],
   "source": [
    "# temp= 32415\n",
    "# temp=32415, c=0+1=1, temp= 32415//10 = 3241\n",
    "# temp=3241, c=1+1=2, temp=3241//10 = 324\n",
    "# temp=324, c=2+1=3, temp=324//10 = 32\n",
    "# temp=32, c=3+1=4, temp=32//10 = 3\n",
    "# temp=3, c=4+1=5, temp=3//10 = 0"
   ]
  },
  {
   "cell_type": "markdown",
   "id": "252d8964",
   "metadata": {},
   "source": [
    "#### 9) Accpet full name as user input. Display the initials of the name.\n",
    "Sample Input:<br>\n",
    "Elon Musk<br>\n",
    "Sample Output:<br>\n",
    "E.M<br>"
   ]
  },
  {
   "cell_type": "code",
   "execution_count": 76,
   "id": "65403bb0",
   "metadata": {},
   "outputs": [
    {
     "name": "stdout",
     "output_type": "stream",
     "text": [
      "Enter your name: elon musk\n",
      "['elon', 'musk']\n",
      "E.M\n",
      "E.M\n"
     ]
    }
   ],
   "source": [
    "name = input('Enter your name: ')\n",
    "r = name.split(' ')\n",
    "print(r)\n",
    "print(r[0][0].upper()+\".\"+r[1][0].upper())\n",
    "print(f'{r[0][0].upper()}.{r[1][0].upper()}')"
   ]
  },
  {
   "cell_type": "markdown",
   "id": "1fcc505e",
   "metadata": {},
   "source": [
    "#### 10) Accpet an input from the user in the range 1-26. \n",
    "Generate the corresponding\n",
    "a) upper case alphabets for all the multiple of 3 less than equal to that number<br>\n",
    "<b>Sample Input:</b><br>\n",
    "12<br>\n",
    "<b>Sample Output:</b><br>\n",
    "C F I L<br>\n"
   ]
  },
  {
   "cell_type": "code",
   "execution_count": 83,
   "id": "f17ca3ce",
   "metadata": {},
   "outputs": [
    {
     "name": "stdout",
     "output_type": "stream",
     "text": [
      "Enter a number between 1 to 26: 17\n",
      "C F I L O "
     ]
    }
   ],
   "source": [
    "n = int(input('Enter a number between 1 to 26: '))\n",
    "for i in range(1,n+1):\n",
    "    if i%3==0:\n",
    "        print(chr(64+i),end=\" \")\n",
    "    \n",
    "# A=1, B=2, C=3, D=4, E=5, F=6,"
   ]
  },
  {
   "cell_type": "code",
   "execution_count": null,
   "id": "d4b39839",
   "metadata": {},
   "outputs": [],
   "source": []
  }
 ],
 "metadata": {
  "kernelspec": {
   "display_name": "Python 3",
   "language": "python",
   "name": "python3"
  },
  "language_info": {
   "codemirror_mode": {
    "name": "ipython",
    "version": 3
   },
   "file_extension": ".py",
   "mimetype": "text/x-python",
   "name": "python",
   "nbconvert_exporter": "python",
   "pygments_lexer": "ipython3",
   "version": "3.8.8"
  }
 },
 "nbformat": 4,
 "nbformat_minor": 5
}
