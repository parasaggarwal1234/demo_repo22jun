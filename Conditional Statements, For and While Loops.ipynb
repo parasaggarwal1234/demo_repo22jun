{
 "cells": [
  {
   "cell_type": "markdown",
   "id": "77d7fc79",
   "metadata": {},
   "source": [
    "### Print formatting methods"
   ]
  },
  {
   "cell_type": "code",
   "execution_count": 5,
   "id": "0f7c4fed",
   "metadata": {},
   "outputs": [
    {
     "name": "stdout",
     "output_type": "stream",
     "text": [
      "Mohit 22 aspires to be a Data Scientist\n",
      "Mohit 22 aspires to be a Data Scientist\n",
      "Mohit 22 aspires to be a Data Scientist\n",
      "Data Scientist Mohit aspires to be a 22\n"
     ]
    }
   ],
   "source": [
    "name = \"Mohit\"\n",
    "age = 22\n",
    "role = \"Data Scientist\"\n",
    "print(name,age,'aspires to be a',role) # comma separated method\n",
    "print(f'{name} {age} aspires to be a {role}')  # f-formatting\n",
    "print('{} {} aspires to be a {}'.format(name,age,role)) # using format function\n",
    "print('{} {} aspires to be a {}'.format(role,name,age))"
   ]
  },
  {
   "cell_type": "code",
   "execution_count": null,
   "id": "659c3198",
   "metadata": {},
   "outputs": [],
   "source": []
  },
  {
   "cell_type": "markdown",
   "id": "c2e43c7f",
   "metadata": {},
   "source": [
    "#### Indentation\n",
    "1) 1 tab space is referred to as indentation<br>\n",
    "2) Indentation is used in conditional statements, for and while loops, functions etc"
   ]
  },
  {
   "cell_type": "markdown",
   "id": "5f470454",
   "metadata": {},
   "source": [
    "### If-elif-else"
   ]
  },
  {
   "cell_type": "markdown",
   "id": "e04f5394",
   "metadata": {},
   "source": [
    "#### 1) if"
   ]
  },
  {
   "cell_type": "code",
   "execution_count": 12,
   "id": "47a9bc8d",
   "metadata": {},
   "outputs": [],
   "source": [
    "n = 45\n",
    "if n%7==0 :\n",
    "    print(n,'is divisible by 7')"
   ]
  },
  {
   "cell_type": "code",
   "execution_count": 13,
   "id": "ea01da04",
   "metadata": {},
   "outputs": [
    {
     "name": "stdout",
     "output_type": "stream",
     "text": [
      "45 is divisble by 5\n"
     ]
    }
   ],
   "source": [
    "n = 45\n",
    "if n%5==0 :\n",
    "    print(n,'is divisble by 5')"
   ]
  },
  {
   "cell_type": "markdown",
   "id": "5a9b91b2",
   "metadata": {},
   "source": [
    "#### 2) if-else"
   ]
  },
  {
   "cell_type": "code",
   "execution_count": 21,
   "id": "33d98b06",
   "metadata": {},
   "outputs": [
    {
     "name": "stdout",
     "output_type": "stream",
     "text": [
      "45 is divisble by 9\n"
     ]
    }
   ],
   "source": [
    "n = 45\n",
    "if n%9==0 :\n",
    "    print(n,'is divisble by 9')\n",
    "else:\n",
    "    print('False')"
   ]
  },
  {
   "cell_type": "markdown",
   "id": "5d730289",
   "metadata": {},
   "source": [
    "#### Q) Accept a user input as int. Print if it is even or odd"
   ]
  },
  {
   "cell_type": "code",
   "execution_count": 26,
   "id": "01acfde0",
   "metadata": {},
   "outputs": [
    {
     "name": "stdout",
     "output_type": "stream",
     "text": [
      "Enter a number:23\n",
      "23 is odd\n"
     ]
    }
   ],
   "source": [
    "a = int(input('Enter a number:'))\n",
    "if a%2==0:\n",
    "    print(f'{a} is even')\n",
    "else:\n",
    "    print(f'{a} is odd')"
   ]
  },
  {
   "cell_type": "markdown",
   "id": "11a96b3f",
   "metadata": {},
   "source": [
    "#### 3) if-elif\n",
    "Multiple(more than 2) conditions checking"
   ]
  },
  {
   "cell_type": "code",
   "execution_count": 31,
   "id": "d629210b",
   "metadata": {},
   "outputs": [],
   "source": [
    "lang = \"Python\"\n",
    "if lang==\"Java\":\n",
    "    print('Java Developer')\n",
    "elif lang == \"Ruby\":\n",
    "    print('Ruby Developer')\n",
    "elif lang == \"Golang\":\n",
    "    print('Golang Developer')\n",
    "elif lang == \"K8\":\n",
    "    print('Kubernetes Dev')\n",
    "elif lang == \"React\":\n",
    "    print('React Developer')\n",
    "elif lang == \"Angular\":\n",
    "    print('Angular Developer')"
   ]
  },
  {
   "cell_type": "code",
   "execution_count": 33,
   "id": "ca1d4a70",
   "metadata": {},
   "outputs": [
    {
     "name": "stdout",
     "output_type": "stream",
     "text": [
      "Java Developer\n",
      "Hello world\n"
     ]
    }
   ],
   "source": [
    "lang = \"Java\"\n",
    "if lang==\"Rust\":\n",
    "    print('Rust Developer')\n",
    "elif lang == \"Ruby\":\n",
    "    print('Ruby Developer')\n",
    "elif lang == \"Java\":\n",
    "    print('Java Developer')\n",
    "elif lang == \"Python\":\n",
    "    print('Python Developer')\n",
    "elif lang == \"Java\":\n",
    "    print('Java2 Developer')\n",
    "elif lang == \"Angular\":\n",
    "    print('Angular Developer')\n",
    "print('Hello world')"
   ]
  },
  {
   "cell_type": "markdown",
   "id": "367f3f83",
   "metadata": {},
   "source": [
    "#### 4) if-elif-else"
   ]
  },
  {
   "cell_type": "code",
   "execution_count": 34,
   "id": "721a2bbb",
   "metadata": {},
   "outputs": [
    {
     "name": "stdout",
     "output_type": "stream",
     "text": [
      "None of the above\n"
     ]
    }
   ],
   "source": [
    "lang = \"Python\"\n",
    "if lang==\"Java\":\n",
    "    print('Java Developer')\n",
    "elif lang == \"Ruby\":\n",
    "    print('Ruby Developer')\n",
    "elif lang == \"Golang\":\n",
    "    print('Golang Developer')\n",
    "elif lang == \"Node\":\n",
    "    print('Node Developer')\n",
    "elif lang == \"React\":\n",
    "    print('React Developer')\n",
    "elif lang == \"Angular\":\n",
    "    print('Angular Developer')\n",
    "else:\n",
    "    print('None of the above')"
   ]
  },
  {
   "cell_type": "markdown",
   "id": "f40431f9",
   "metadata": {},
   "source": [
    "#### 5) Nested If - if inside if n number of times"
   ]
  },
  {
   "cell_type": "code",
   "execution_count": 42,
   "id": "70ad9e8f",
   "metadata": {},
   "outputs": [
    {
     "name": "stdout",
     "output_type": "stream",
     "text": [
      "26 is divisible by 13\n"
     ]
    }
   ],
   "source": [
    "n = 26\n",
    "if n%5==0:  # False\n",
    "    if n%3==0: # \n",
    "        print(f'{n} is divisible by 15')         # C1\n",
    "    else:\n",
    "        print('{} is divisible by 5'.format(n))  # C2\n",
    "else:\n",
    "    if n%13==0:\n",
    "        print(f'{n} is divisible by 13')  # C3\n",
    "    else:\n",
    "        print(n,'is not divisible by 5')  # C4"
   ]
  },
  {
   "cell_type": "markdown",
   "id": "a894549b",
   "metadata": {},
   "source": [
    "#### Notes\n",
    "1) if has to be the first statement<br>\n",
    "2) else has to be the last statement.<br>\n",
    "3) Between if and else there can be multiple elif statements<br>"
   ]
  },
  {
   "cell_type": "markdown",
   "id": "6639a3e2",
   "metadata": {},
   "source": [
    "#### Q) Which one of them will definitely return an output ? \n",
    "1) if<br>\n",
    "2) if-else<br>\n",
    "3) if-elif<br>\n",
    "4) if-elif-else<br>"
   ]
  },
  {
   "cell_type": "markdown",
   "id": "e7cbb3d2",
   "metadata": {},
   "source": [
    "### For Loops\n",
    "In range() method\n",
    "1) In ascending order, iteration proceeds from start till end-1, step size is positive<br>\n",
    "2) In descending order, iteration proceeds from start till end+1, step size is negative<br>\n",
    "3) Default step value = +1<br>\n",
    "4) range() works only on int"
   ]
  },
  {
   "cell_type": "code",
   "execution_count": 43,
   "id": "8e0beb23",
   "metadata": {},
   "outputs": [
    {
     "name": "stdout",
     "output_type": "stream",
     "text": [
      "0\n",
      "1\n",
      "2\n",
      "3\n",
      "4\n",
      "5\n"
     ]
    }
   ],
   "source": [
    "print(0)\n",
    "print(1)\n",
    "print(2)\n",
    "print(3)\n",
    "print(4)\n",
    "print(5)"
   ]
  },
  {
   "cell_type": "code",
   "execution_count": 47,
   "id": "ba81ec85",
   "metadata": {},
   "outputs": [
    {
     "name": "stdout",
     "output_type": "stream",
     "text": [
      "0\n",
      "1\n",
      "2\n",
      "3\n",
      "4\n",
      "5\n"
     ]
    }
   ],
   "source": [
    "for game in range(6): # start=0,end=6,step=+1\n",
    "    print(game)"
   ]
  },
  {
   "cell_type": "code",
   "execution_count": 50,
   "id": "0d6463a4",
   "metadata": {},
   "outputs": [
    {
     "name": "stdout",
     "output_type": "stream",
     "text": [
      "0\n",
      "1\n",
      "2\n",
      "3\n"
     ]
    }
   ],
   "source": [
    "for i in range(4): # start=0, end=4, step=1\n",
    "    print(i)"
   ]
  },
  {
   "cell_type": "code",
   "execution_count": 52,
   "id": "dbdb350a",
   "metadata": {},
   "outputs": [
    {
     "name": "stdout",
     "output_type": "stream",
     "text": [
      "3\n",
      "4\n",
      "5\n",
      "6\n",
      "7\n",
      "8\n",
      "9\n"
     ]
    }
   ],
   "source": [
    "for g in range(3,10): # start=3, end=10, step=1\n",
    "    print(g)"
   ]
  },
  {
   "cell_type": "code",
   "execution_count": 53,
   "id": "ffc7b629",
   "metadata": {},
   "outputs": [
    {
     "name": "stdout",
     "output_type": "stream",
     "text": [
      "25\n",
      "26\n",
      "27\n",
      "28\n",
      "29\n",
      "30\n",
      "31\n"
     ]
    }
   ],
   "source": [
    "for r in range(25,32): # start=25, end=32, step=1\n",
    "    print(r)"
   ]
  },
  {
   "cell_type": "code",
   "execution_count": 55,
   "id": "4a08470b",
   "metadata": {},
   "outputs": [
    {
     "name": "stdout",
     "output_type": "stream",
     "text": [
      "0\n",
      "1\n",
      "2\n",
      "3\n",
      "4\n"
     ]
    }
   ],
   "source": [
    "for i in range(5): # start=0,end=5,step=+1\n",
    "    print(i)"
   ]
  },
  {
   "cell_type": "code",
   "execution_count": 57,
   "id": "24169643",
   "metadata": {},
   "outputs": [
    {
     "ename": "SyntaxError",
     "evalue": "invalid syntax (<ipython-input-57-f14f6d17a263>, line 1)",
     "output_type": "error",
     "traceback": [
      "\u001b[1;36m  File \u001b[1;32m\"<ipython-input-57-f14f6d17a263>\"\u001b[1;36m, line \u001b[1;32m1\u001b[0m\n\u001b[1;33m    for i in range(,4):\u001b[0m\n\u001b[1;37m                   ^\u001b[0m\n\u001b[1;31mSyntaxError\u001b[0m\u001b[1;31m:\u001b[0m invalid syntax\n"
     ]
    }
   ],
   "source": [
    "for i in range(,4):\n",
    "    print(i)"
   ]
  },
  {
   "cell_type": "code",
   "execution_count": 56,
   "id": "5fa609cc",
   "metadata": {},
   "outputs": [
    {
     "name": "stdout",
     "output_type": "stream",
     "text": [
      "10\n",
      "12\n",
      "14\n",
      "16\n",
      "18\n"
     ]
    }
   ],
   "source": [
    "for h in range(10,20,2): # start=10,end=20,step=2\n",
    "    print(h)\n",
    "# h = 10\n",
    "# h+2 = 12\n",
    "# h+2 = 14\n",
    "# h+2 = 16\n",
    "# h+2 = 18"
   ]
  },
  {
   "cell_type": "code",
   "execution_count": 58,
   "id": "a3e8caab",
   "metadata": {},
   "outputs": [
    {
     "name": "stdout",
     "output_type": "stream",
     "text": [
      "9\n",
      "16\n",
      "23\n",
      "30\n",
      "37\n",
      "44\n",
      "51\n",
      "58\n"
     ]
    }
   ],
   "source": [
    "for i in range(9,63,7): # start=9,end=63,step=7\n",
    "    print(i)"
   ]
  },
  {
   "cell_type": "code",
   "execution_count": 60,
   "id": "1ed2ff0c",
   "metadata": {},
   "outputs": [
    {
     "name": "stdout",
     "output_type": "stream",
     "text": [
      "34 38 42 46 "
     ]
    }
   ],
   "source": [
    "for i in range(34,50,4):\n",
    "    print(i,end=\" \")"
   ]
  },
  {
   "cell_type": "code",
   "execution_count": 64,
   "id": "1606f39d",
   "metadata": {},
   "outputs": [
    {
     "name": "stdout",
     "output_type": "stream",
     "text": [
      "34 38 42 46 "
     ]
    }
   ],
   "source": [
    "for i in range(34,50,4):\n",
    "    print(i,end=\" \")"
   ]
  },
  {
   "cell_type": "code",
   "execution_count": 65,
   "id": "e4ec35e6",
   "metadata": {},
   "outputs": [],
   "source": [
    "for i in range(14,5): # start=14, end=5, step=1\n",
    "    print(i)"
   ]
  },
  {
   "cell_type": "code",
   "execution_count": 66,
   "id": "3d5b9dcb",
   "metadata": {},
   "outputs": [
    {
     "name": "stdout",
     "output_type": "stream",
     "text": [
      "14 13 12 11 10 9 8 7 6 "
     ]
    }
   ],
   "source": [
    "for i in range(14,5,-1): # start=14, end=5, step=-1\n",
    "    print(i,end=\" \")"
   ]
  },
  {
   "cell_type": "code",
   "execution_count": 69,
   "id": "56de848c",
   "metadata": {},
   "outputs": [
    {
     "name": "stdout",
     "output_type": "stream",
     "text": [
      "60 55 50 45 40 35 30 25 20 15 "
     ]
    }
   ],
   "source": [
    "for i in range(60,10,-5): # start=60, end=10, step=-5\n",
    "    print(i,end=\" \")"
   ]
  },
  {
   "cell_type": "code",
   "execution_count": 19,
   "id": "b009461e",
   "metadata": {},
   "outputs": [
    {
     "name": "stdout",
     "output_type": "stream",
     "text": [
      "0\n"
     ]
    }
   ],
   "source": [
    "for i in range(1): # start=0,end=1,step=1\n",
    "    print(i)"
   ]
  },
  {
   "cell_type": "markdown",
   "id": "c71a774a",
   "metadata": {},
   "source": [
    "#### Print the table of 15 in the format: 15 * 1 = 15\n",
    "\n",
    "a) From 1 to 10<br>\n",
    "b) From 10 to 1 in reverse order<br>\n",
    "c) For odd multiples between 1 to 14<br>\n",
    "d) For even multiples between 5 to 17<br>\n",
    "e) For even multiples between 30 to 20 in reverse order.<br>\n",
    "f) For odd multiples between 25 to 15 in reverse order.<br>"
   ]
  },
  {
   "cell_type": "code",
   "execution_count": 99,
   "id": "e88c4a7e",
   "metadata": {},
   "outputs": [
    {
     "name": "stdout",
     "output_type": "stream",
     "text": [
      "15 * 1 = 15\n",
      "15 * 2 = 30\n",
      "15 * 3 = 45\n",
      "15 * 4 = 60\n",
      "15 * 5 = 75\n",
      "15 * 6 = 90\n",
      "15 * 7 = 105\n",
      "15 * 8 = 120\n",
      "15 * 9 = 135\n",
      "15 * 10 = 150\n"
     ]
    }
   ],
   "source": [
    "n = 15\n",
    "for i in range(1,11): \n",
    "#     print(f'{n} * {i} = {n*i}')\n",
    "    print(n,'*',i,'=',n*i)"
   ]
  },
  {
   "cell_type": "code",
   "execution_count": 101,
   "id": "c71fd4cd",
   "metadata": {},
   "outputs": [
    {
     "name": "stdout",
     "output_type": "stream",
     "text": [
      "15 * 10 = 150\n",
      "15 * 9 = 135\n",
      "15 * 8 = 120\n",
      "15 * 7 = 105\n",
      "15 * 6 = 90\n",
      "15 * 5 = 75\n",
      "15 * 4 = 60\n",
      "15 * 3 = 45\n",
      "15 * 2 = 30\n",
      "15 * 1 = 15\n"
     ]
    }
   ],
   "source": [
    "n = 15\n",
    "for i in range(10,0,-1): \n",
    "    print(f'{n} * {i} = {n*i}')"
   ]
  },
  {
   "cell_type": "code",
   "execution_count": 86,
   "id": "27faf0ec",
   "metadata": {},
   "outputs": [
    {
     "name": "stdout",
     "output_type": "stream",
     "text": [
      "15 * 1 = 15\n",
      "15 * 3 = 45\n",
      "15 * 5 = 75\n",
      "15 * 7 = 105\n",
      "15 * 9 = 135\n",
      "15 * 11 = 165\n",
      "15 * 13 = 195\n"
     ]
    }
   ],
   "source": [
    "n = 15\n",
    "for i in range(1,14,2): \n",
    "    print(f'{n} * {i} = {n*i}')"
   ]
  },
  {
   "cell_type": "code",
   "execution_count": 87,
   "id": "020f54a2",
   "metadata": {},
   "outputs": [
    {
     "name": "stdout",
     "output_type": "stream",
     "text": [
      "15 * 6 = 90\n",
      "15 * 8 = 120\n",
      "15 * 10 = 150\n",
      "15 * 12 = 180\n",
      "15 * 14 = 210\n",
      "15 * 16 = 240\n"
     ]
    }
   ],
   "source": [
    "n = 15\n",
    "for i in range(6,17,2): \n",
    "    print(f'{n} * {i} = {n*i}')"
   ]
  },
  {
   "cell_type": "code",
   "execution_count": 92,
   "id": "3301d733",
   "metadata": {},
   "outputs": [
    {
     "name": "stdout",
     "output_type": "stream",
     "text": [
      "15 * 30 = 450\n",
      "15 * 28 = 420\n",
      "15 * 26 = 390\n",
      "15 * 24 = 360\n",
      "15 * 22 = 330\n",
      "15 * 20 = 300\n"
     ]
    }
   ],
   "source": [
    "n = 15\n",
    "for i in range(30,19,-2): \n",
    "    print(f'{n} * {i} = {n*i}')"
   ]
  },
  {
   "cell_type": "code",
   "execution_count": 104,
   "id": "b134bcb5",
   "metadata": {},
   "outputs": [
    {
     "name": "stdout",
     "output_type": "stream",
     "text": [
      "15 * 25 = 375\n",
      "15 * 23 = 345\n",
      "15 * 21 = 315\n",
      "15 * 19 = 285\n",
      "15 * 17 = 255\n",
      "15 * 15 = 225\n"
     ]
    }
   ],
   "source": [
    "n = 15\n",
    "for i in range(25,14,-2): \n",
    "    print(f'{n} * {i} = {n*i}')"
   ]
  },
  {
   "cell_type": "code",
   "execution_count": 94,
   "id": "46f15ed5",
   "metadata": {},
   "outputs": [],
   "source": [
    "for i in range(7,7): # start=7,end=7,step=1\n",
    "    print(i)"
   ]
  },
  {
   "cell_type": "code",
   "execution_count": 97,
   "id": "49959037",
   "metadata": {},
   "outputs": [],
   "source": [
    "for i in range(0):\n",
    "    print(i)"
   ]
  },
  {
   "cell_type": "code",
   "execution_count": 98,
   "id": "d0be341f",
   "metadata": {},
   "outputs": [
    {
     "ename": "TypeError",
     "evalue": "'float' object cannot be interpreted as an integer",
     "output_type": "error",
     "traceback": [
      "\u001b[1;31m---------------------------------------------------------------------------\u001b[0m",
      "\u001b[1;31mTypeError\u001b[0m                                 Traceback (most recent call last)",
      "\u001b[1;32m<ipython-input-98-032dd2743064>\u001b[0m in \u001b[0;36m<module>\u001b[1;34m\u001b[0m\n\u001b[1;32m----> 1\u001b[1;33m \u001b[1;32mfor\u001b[0m \u001b[0mi\u001b[0m \u001b[1;32min\u001b[0m \u001b[0mrange\u001b[0m\u001b[1;33m(\u001b[0m\u001b[1;36m3.2\u001b[0m\u001b[1;33m,\u001b[0m\u001b[1;36m4.9\u001b[0m\u001b[1;33m,\u001b[0m\u001b[1;36m0.3\u001b[0m\u001b[1;33m)\u001b[0m\u001b[1;33m:\u001b[0m\u001b[1;33m\u001b[0m\u001b[1;33m\u001b[0m\u001b[0m\n\u001b[0m\u001b[0;32m      2\u001b[0m     \u001b[0mprint\u001b[0m\u001b[1;33m(\u001b[0m\u001b[0mi\u001b[0m\u001b[1;33m)\u001b[0m\u001b[1;33m\u001b[0m\u001b[1;33m\u001b[0m\u001b[0m\n",
      "\u001b[1;31mTypeError\u001b[0m: 'float' object cannot be interpreted as an integer"
     ]
    }
   ],
   "source": [
    "for i in range(3.2,4.9,0.3):\n",
    "    print(i)"
   ]
  },
  {
   "cell_type": "markdown",
   "id": "dca2a312",
   "metadata": {},
   "source": [
    "#### Iterate on Strings\n",
    "1) Positive indexes start from 0 and move from left to right in increasing order<br>\n",
    "2) Nagative indexes start from -1 and move from right to left in decreasing order"
   ]
  },
  {
   "cell_type": "code",
   "execution_count": 105,
   "id": "eee214ac",
   "metadata": {},
   "outputs": [
    {
     "name": "stdout",
     "output_type": "stream",
     "text": [
      "5\n",
      "India\n"
     ]
    }
   ],
   "source": [
    "w = \"India\"\n",
    "print(len(w))\n",
    "print(w)"
   ]
  },
  {
   "cell_type": "code",
   "execution_count": 36,
   "id": "1b94ccc0",
   "metadata": {},
   "outputs": [
    {
     "name": "stdout",
     "output_type": "stream",
     "text": [
      "I\n",
      "d\n",
      "n\n",
      "a\n"
     ]
    }
   ],
   "source": [
    "print(w[0])\n",
    "print(w[2])\n",
    "print(w[-4])\n",
    "print(w[-1])"
   ]
  },
  {
   "cell_type": "code",
   "execution_count": 106,
   "id": "89881d71",
   "metadata": {},
   "outputs": [
    {
     "name": "stdout",
     "output_type": "stream",
     "text": [
      "T o d a y "
     ]
    }
   ],
   "source": [
    "# Method-1 - Character wise iteration\n",
    "s = \"Today\"\n",
    "for i in s:  # i corresponds to each and very character of thee string s\n",
    "    print(i,end=\" \")"
   ]
  },
  {
   "cell_type": "code",
   "execution_count": 110,
   "id": "3b496de6",
   "metadata": {},
   "outputs": [
    {
     "name": "stdout",
     "output_type": "stream",
     "text": [
      "0 T\n",
      "1 o\n",
      "2 d\n",
      "3 a\n",
      "4 y\n"
     ]
    }
   ],
   "source": [
    "# Method-2 - Index wise iteration\n",
    "s = \"Today\"\n",
    "for i in range(len(s)): # i corresponds to the index of each character in the string s\n",
    "    print(i,s[i])\n",
    "    \n",
    "# start=0,end=len(s)=5,step=+1\n",
    "\n",
    "# i=0, s[0]=T\n",
    "# i=1, s[1]=o\n",
    "# i=2, s[2]=d\n",
    "# i=3, s[3]=a\n",
    "# i=4, s[4]=y"
   ]
  },
  {
   "cell_type": "markdown",
   "id": "782a2d3b",
   "metadata": {},
   "source": [
    "#### Printing Reverse string using positive indexes"
   ]
  },
  {
   "cell_type": "code",
   "execution_count": 123,
   "id": "7e2c4956",
   "metadata": {},
   "outputs": [
    {
     "name": "stdout",
     "output_type": "stream",
     "text": [
      "y a d o T "
     ]
    }
   ],
   "source": [
    "s = \"Today\"\n",
    "for i in range(len(s)-1,-1,-1):   # start=5-1, end=-1,step=-1\n",
    "    print(s[i],end=\" \")\n",
    "\n",
    "# i=4, s[4] = y\n",
    "# i=3, s[3] = a\n",
    "# i=2, s[2] = d\n",
    "# i=1, s[1] = o\n",
    "# i=0, s[0] = T"
   ]
  },
  {
   "cell_type": "code",
   "execution_count": 120,
   "id": "5d303187",
   "metadata": {},
   "outputs": [
    {
     "name": "stdout",
     "output_type": "stream",
     "text": [
      "Enter a string: Welcome\n",
      "e m o c l e W "
     ]
    }
   ],
   "source": [
    "s = input('Enter a string: ')\n",
    "for i in range(len(s)-1,-1,-1):   # start=6, end=-1,step=-1\n",
    "    print(s[i],end=\" \")"
   ]
  },
  {
   "cell_type": "markdown",
   "id": "1ad409d1",
   "metadata": {},
   "source": [
    "### While Loops"
   ]
  },
  {
   "cell_type": "code",
   "execution_count": 127,
   "id": "73d0a356",
   "metadata": {},
   "outputs": [
    {
     "name": "stdout",
     "output_type": "stream",
     "text": [
      "0\n",
      "1\n",
      "2\n",
      "3\n",
      "4\n"
     ]
    }
   ],
   "source": [
    "i = 0\n",
    "while i<5:\n",
    "    print(i)\n",
    "    i += 1"
   ]
  },
  {
   "cell_type": "code",
   "execution_count": 128,
   "id": "df6f0429",
   "metadata": {},
   "outputs": [
    {
     "name": "stdout",
     "output_type": "stream",
     "text": [
      "1\n",
      "2\n",
      "3\n",
      "4\n",
      "5\n"
     ]
    }
   ],
   "source": [
    "i = 0\n",
    "while i<5:\n",
    "    i += 1\n",
    "    print(i)  "
   ]
  },
  {
   "cell_type": "code",
   "execution_count": 131,
   "id": "2d0a23dd",
   "metadata": {},
   "outputs": [
    {
     "name": "stdout",
     "output_type": "stream",
     "text": [
      "14\n",
      "12\n",
      "10\n",
      "8\n",
      "6\n",
      "4\n"
     ]
    }
   ],
   "source": [
    "i = 14\n",
    "while i>=4:\n",
    "    print(i)\n",
    "    i -= 2"
   ]
  },
  {
   "cell_type": "code",
   "execution_count": null,
   "id": "9cdca071",
   "metadata": {},
   "outputs": [],
   "source": []
  },
  {
   "cell_type": "code",
   "execution_count": null,
   "id": "ccecb830",
   "metadata": {},
   "outputs": [],
   "source": []
  },
  {
   "cell_type": "code",
   "execution_count": 136,
   "id": "3c5d5c46",
   "metadata": {},
   "outputs": [
    {
     "name": "stdout",
     "output_type": "stream",
     "text": [
      "17 15 13 11 9 7 5 "
     ]
    }
   ],
   "source": [
    "d = 17\n",
    "while d>4:\n",
    "    print(d,end=\" \")\n",
    "    d -= 2"
   ]
  },
  {
   "cell_type": "code",
   "execution_count": 138,
   "id": "39b46008",
   "metadata": {},
   "outputs": [
    {
     "name": "stdout",
     "output_type": "stream",
     "text": [
      "1203 243 51 12 "
     ]
    }
   ],
   "source": [
    "w = 1200\n",
    "while w > 5:\n",
    "    print(w+3,end=\" \")\n",
    "    w //= 5\n",
    "    \n",
    "# w=1200\n",
    "# step1 -> 1200>5, print(1200+3)=1203 , w=1200//5 = 240\n",
    "# Step2 -> 240>5, print(240+3)= 243, w=240//5= 48\n",
    "# Step3 -> 48>5, print(48+3)= 51, w=48//5= 9\n",
    "# Step4 -> 9>5, print(9+3)= 12, w=9//5= 1"
   ]
  },
  {
   "cell_type": "code",
   "execution_count": 140,
   "id": "3fbf4c26",
   "metadata": {},
   "outputs": [
    {
     "name": "stdout",
     "output_type": "stream",
     "text": [
      "243 51 12 4 "
     ]
    }
   ],
   "source": [
    "w = 1200\n",
    "while w > 5:\n",
    "    w //= 5\n",
    "    print(w+3,end=\" \")\n",
    "    "
   ]
  },
  {
   "cell_type": "markdown",
   "id": "2027a564",
   "metadata": {},
   "source": [
    "#### Iterate on Strings"
   ]
  },
  {
   "cell_type": "code",
   "execution_count": 144,
   "id": "6910542d",
   "metadata": {},
   "outputs": [
    {
     "name": "stdout",
     "output_type": "stream",
     "text": [
      "W\n",
      "l\n",
      "o\n",
      "e\n"
     ]
    }
   ],
   "source": [
    "s = \"Welcome\"\n",
    "i = 0\n",
    "while i<len(s):   # 0<7\n",
    "    print(s[i])\n",
    "    i += 2\n",
    "    \n",
    "# i=0, 0<7, s[0]=W\n",
    "# i=2, 2<7, s[2]=l\n",
    "# i=4, 4<7, s[4]=o\n",
    "# i=6, 6<7, s[6]=e"
   ]
  },
  {
   "cell_type": "code",
   "execution_count": 48,
   "id": "416f1853",
   "metadata": {},
   "outputs": [
    {
     "name": "stdout",
     "output_type": "stream",
     "text": [
      "ython"
     ]
    },
    {
     "ename": "IndexError",
     "evalue": "string index out of range",
     "output_type": "error",
     "traceback": [
      "\u001b[1;31m---------------------------------------------------------------------------\u001b[0m",
      "\u001b[1;31mIndexError\u001b[0m                                Traceback (most recent call last)",
      "\u001b[1;32m<ipython-input-48-a3bfae86793a>\u001b[0m in \u001b[0;36m<module>\u001b[1;34m\u001b[0m\n\u001b[0;32m      3\u001b[0m \u001b[1;32mwhile\u001b[0m \u001b[0mi\u001b[0m\u001b[1;33m<\u001b[0m\u001b[0mlen\u001b[0m\u001b[1;33m(\u001b[0m\u001b[0ms\u001b[0m\u001b[1;33m)\u001b[0m\u001b[1;33m:\u001b[0m \u001b[1;31m# i<6\u001b[0m\u001b[1;33m\u001b[0m\u001b[1;33m\u001b[0m\u001b[0m\n\u001b[0;32m      4\u001b[0m     \u001b[0mi\u001b[0m \u001b[1;33m+=\u001b[0m \u001b[1;36m1\u001b[0m\u001b[1;33m\u001b[0m\u001b[1;33m\u001b[0m\u001b[0m\n\u001b[1;32m----> 5\u001b[1;33m     \u001b[0mprint\u001b[0m\u001b[1;33m(\u001b[0m\u001b[0ms\u001b[0m\u001b[1;33m[\u001b[0m\u001b[0mi\u001b[0m\u001b[1;33m]\u001b[0m\u001b[1;33m,\u001b[0m\u001b[0mend\u001b[0m\u001b[1;33m=\u001b[0m\u001b[1;34m\"\"\u001b[0m\u001b[1;33m)\u001b[0m\u001b[1;33m\u001b[0m\u001b[1;33m\u001b[0m\u001b[0m\n\u001b[0m",
      "\u001b[1;31mIndexError\u001b[0m: string index out of range"
     ]
    }
   ],
   "source": [
    "s = \"Python\"\n",
    "i=0\n",
    "while i<len(s): # i<6\n",
    "    i += 1\n",
    "    print(s[i],end=\"\")\n",
    "    \n",
    "# i<6,i=1, s[1]=y\n",
    "# 1<6,i=2, s[2]=t\n",
    "# 2<6,i=3, s[3]=h\n",
    "# 3<6,i=4, s[4]=o\n",
    "# 4<6,i=5, s[5]=n\n",
    "# 5<6, i=6, s[6] = ? =>  Error"
   ]
  },
  {
   "cell_type": "code",
   "execution_count": 148,
   "id": "2ae114a1",
   "metadata": {},
   "outputs": [
    {
     "name": "stdout",
     "output_type": "stream",
     "text": [
      "Python"
     ]
    },
    {
     "ename": "IndexError",
     "evalue": "string index out of range",
     "output_type": "error",
     "traceback": [
      "\u001b[1;31m---------------------------------------------------------------------------\u001b[0m",
      "\u001b[1;31mIndexError\u001b[0m                                Traceback (most recent call last)",
      "\u001b[1;32m<ipython-input-148-5de365d77c7b>\u001b[0m in \u001b[0;36m<module>\u001b[1;34m\u001b[0m\n\u001b[0;32m      3\u001b[0m \u001b[1;32mwhile\u001b[0m \u001b[0mi\u001b[0m\u001b[1;33m<\u001b[0m\u001b[0mlen\u001b[0m\u001b[1;33m(\u001b[0m\u001b[0ms\u001b[0m\u001b[1;33m)\u001b[0m\u001b[1;33m:\u001b[0m \u001b[1;31m# i<5\u001b[0m\u001b[1;33m\u001b[0m\u001b[1;33m\u001b[0m\u001b[0m\n\u001b[0;32m      4\u001b[0m     \u001b[0mi\u001b[0m \u001b[1;33m+=\u001b[0m \u001b[1;36m1\u001b[0m\u001b[1;33m\u001b[0m\u001b[1;33m\u001b[0m\u001b[0m\n\u001b[1;32m----> 5\u001b[1;33m     \u001b[0mprint\u001b[0m\u001b[1;33m(\u001b[0m\u001b[0ms\u001b[0m\u001b[1;33m[\u001b[0m\u001b[0mi\u001b[0m\u001b[1;33m]\u001b[0m\u001b[1;33m,\u001b[0m\u001b[0mend\u001b[0m\u001b[1;33m=\u001b[0m\u001b[1;34m\"\"\u001b[0m\u001b[1;33m)\u001b[0m\u001b[1;33m\u001b[0m\u001b[1;33m\u001b[0m\u001b[0m\n\u001b[0m\u001b[0;32m      6\u001b[0m \u001b[1;33m\u001b[0m\u001b[0m\n\u001b[0;32m      7\u001b[0m \u001b[1;31m# i=-1, while i<6-1 => i<5\u001b[0m\u001b[1;33m\u001b[0m\u001b[1;33m\u001b[0m\u001b[1;33m\u001b[0m\u001b[0m\n",
      "\u001b[1;31mIndexError\u001b[0m: string index out of range"
     ]
    }
   ],
   "source": [
    "s = \"Python\"\n",
    "i=-1\n",
    "while i<len(s)-1: # i<5\n",
    "    i += 1\n",
    "    print(s[i],end=\"\")\n",
    "    \n",
    "# i=-1, while i<6-1 => i<5\n",
    "# S1 => i+=1=> i=-1+1=0,s[0]=P\n",
    "# S2 => i+=1=> i=0+1=1,s[1]=y\n",
    "# S3 => i+=1=> i=1+1=2,s[2]=t\n",
    "# S4 => i+=1=> i=2+1=3,s[3]=h\n",
    "# S5 => i+=1=> i=3+1=4,s[4]=o\n",
    "# S6 => i+=1=> i=4+1=5,s[5]=n"
   ]
  },
  {
   "cell_type": "markdown",
   "id": "faa77b07",
   "metadata": {},
   "source": [
    "#### Q) Accept a string as user input and print it in reverse order using while loop"
   ]
  },
  {
   "cell_type": "code",
   "execution_count": 153,
   "id": "fc68e930",
   "metadata": {},
   "outputs": [
    {
     "name": "stdout",
     "output_type": "stream",
     "text": [
      "Enter a string: Python\n",
      "nohtyP"
     ]
    }
   ],
   "source": [
    "s = input('Enter a string: ')\n",
    "i = len(s)-1  # 6\n",
    "while i>=0:\n",
    "    print(s[i],end=\"\")\n",
    "    i -= 1\n",
    "    \n",
    "# i=5, i>=0, s[5]=n\n",
    "# i-=1, i=4, i>=0, s[4]=o\n",
    "# i-=1, i=3, i>=0, s[3]=h\n",
    "# i-=1, i=2, i>=0, s[2]=t\n",
    "# i-=1, i=1, i>=0, s[1]=y\n",
    "# i-=1, i=0, i>=0, s[0]=P"
   ]
  },
  {
   "cell_type": "code",
   "execution_count": null,
   "id": "89be4ccb",
   "metadata": {},
   "outputs": [],
   "source": []
  },
  {
   "cell_type": "markdown",
   "id": "f2bec90a",
   "metadata": {},
   "source": [
    "#### break - The moment break keyword in encountered, it takes program control out of the loop"
   ]
  },
  {
   "cell_type": "code",
   "execution_count": 52,
   "id": "9be7dbd8",
   "metadata": {},
   "outputs": [
    {
     "name": "stdout",
     "output_type": "stream",
     "text": [
      "10\n",
      "11\n"
     ]
    }
   ],
   "source": [
    "for i in range(10,20):\n",
    "    if i%3==0:\n",
    "        break\n",
    "    else:\n",
    "        print(i)\n"
   ]
  },
  {
   "cell_type": "code",
   "execution_count": 53,
   "id": "e9a75489",
   "metadata": {},
   "outputs": [
    {
     "name": "stdout",
     "output_type": "stream",
     "text": [
      "10\n",
      "11\n",
      "12\n"
     ]
    }
   ],
   "source": [
    "for i in range(10,20):\n",
    "    if i%3==0:\n",
    "        print(i)\n",
    "        break\n",
    "    else:\n",
    "        print(i)"
   ]
  },
  {
   "cell_type": "code",
   "execution_count": 54,
   "id": "ba269e4e",
   "metadata": {},
   "outputs": [
    {
     "name": "stdout",
     "output_type": "stream",
     "text": [
      "10\n"
     ]
    }
   ],
   "source": [
    "for i in range(10,20):\n",
    "    if i%3==0:\n",
    "        print(i)\n",
    "    else:\n",
    "        print(i)\n",
    "        break"
   ]
  },
  {
   "cell_type": "code",
   "execution_count": 55,
   "id": "41b65210",
   "metadata": {},
   "outputs": [],
   "source": [
    "for i in range(10,20):\n",
    "    if i%3==0:\n",
    "        print(i)\n",
    "    else:\n",
    "        break"
   ]
  },
  {
   "cell_type": "code",
   "execution_count": 58,
   "id": "a95d353c",
   "metadata": {},
   "outputs": [
    {
     "name": "stdout",
     "output_type": "stream",
     "text": [
      "1\n",
      "2\n",
      "3\n"
     ]
    }
   ],
   "source": [
    "i = 1\n",
    "while i<7:\n",
    "    print(i)\n",
    "    if i%3==0:\n",
    "        break\n",
    "    i+=1"
   ]
  },
  {
   "cell_type": "code",
   "execution_count": 60,
   "id": "05914323",
   "metadata": {},
   "outputs": [
    {
     "name": "stdout",
     "output_type": "stream",
     "text": [
      "30\n",
      "35\n",
      "40\n",
      "45\n",
      "50\n"
     ]
    }
   ],
   "source": [
    "i = 30\n",
    "while i<70:\n",
    "    print(i)\n",
    "    if i>45:\n",
    "        break\n",
    "    i+=5"
   ]
  },
  {
   "cell_type": "markdown",
   "id": "f2ab6f0b",
   "metadata": {},
   "source": [
    "#### continue - The moment continue is encountered, it takes the progranm control to the beggining of the loop"
   ]
  },
  {
   "cell_type": "code",
   "execution_count": 62,
   "id": "3df46cef",
   "metadata": {},
   "outputs": [
    {
     "name": "stdout",
     "output_type": "stream",
     "text": [
      "10\n",
      "11\n",
      "13\n",
      "14\n",
      "16\n",
      "17\n",
      "19\n"
     ]
    }
   ],
   "source": [
    "for i in range(10,20):\n",
    "    if i%3==0:  # 12, 15, 18\n",
    "        continue\n",
    "    else:\n",
    "        print(i)"
   ]
  },
  {
   "cell_type": "code",
   "execution_count": 63,
   "id": "1a3e3f3f",
   "metadata": {},
   "outputs": [
    {
     "name": "stdout",
     "output_type": "stream",
     "text": [
      "10\n",
      "11\n",
      "12\n",
      "13\n",
      "14\n",
      "15\n",
      "16\n",
      "17\n",
      "18\n",
      "19\n"
     ]
    }
   ],
   "source": [
    "for i in range(10,20):\n",
    "    if i%3==0:  # 12, 15, 18\n",
    "        print(i)\n",
    "        continue\n",
    "    else:\n",
    "        print(i)"
   ]
  },
  {
   "cell_type": "code",
   "execution_count": 1,
   "id": "9c8160cb",
   "metadata": {},
   "outputs": [
    {
     "name": "stdout",
     "output_type": "stream",
     "text": [
      "12\n",
      "15\n",
      "18\n"
     ]
    }
   ],
   "source": [
    "for i in range(10,20):\n",
    "    if i%3==0:  # 12, 15, 18\n",
    "        print(i)\n",
    "    else:\n",
    "        continue"
   ]
  },
  {
   "cell_type": "code",
   "execution_count": 1,
   "id": "c473863b",
   "metadata": {},
   "outputs": [
    {
     "name": "stdout",
     "output_type": "stream",
     "text": [
      "9\n",
      "7\n",
      "5\n",
      "3\n"
     ]
    }
   ],
   "source": [
    "i = 10 \n",
    "while i>3:\n",
    "    i -= 1\n",
    "    if i%2==0:\n",
    "        continue\n",
    "    print(i)"
   ]
  },
  {
   "cell_type": "code",
   "execution_count": null,
   "id": "fb1ed54b",
   "metadata": {},
   "outputs": [],
   "source": []
  }
 ],
 "metadata": {
  "kernelspec": {
   "display_name": "Python 3",
   "language": "python",
   "name": "python3"
  },
  "language_info": {
   "codemirror_mode": {
    "name": "ipython",
    "version": 3
   },
   "file_extension": ".py",
   "mimetype": "text/x-python",
   "name": "python",
   "nbconvert_exporter": "python",
   "pygments_lexer": "ipython3",
   "version": "3.8.8"
  }
 },
 "nbformat": 4,
 "nbformat_minor": 5
}
