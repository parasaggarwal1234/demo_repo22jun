{
 "cells": [
  {
   "cell_type": "markdown",
   "metadata": {},
   "source": [
    "## Coffee Dataset EDA Project"
   ]
  },
  {
   "cell_type": "markdown",
   "metadata": {},
   "source": [
    "#### Coffee_EDA_Questions\n",
    "\n",
    "1) Read the dataset<br>\n",
    "2) Remove/handle the null values<br>\n",
    "3) Depict different Market types and their count on a bar chart<br>\n",
    "4) Depict different Product types and their count on a line chart<br>\n",
    "5) Depict different State and their count on a pie chart<br>\n",
    "6) Depict Market wise sum of Profit and depict the result on bar chart.<br>\n",
    "7) Depict Product wise mean of Sales and depict the result on bar chart and line chart superimposed<br>\n",
    "8) Depcit Profit vs Sales on a Scatter Chart where Product is 'Regular Espresso'<br>\n",
    "9) Depcit Budget Profit vs Budget Sales on a Scatter Chart where State is California and Product is 'Earl Grey'<br>\n",
    "10) Depcit Market wise mean of Budget Sales and mean of Sales in a stacked bar chart<br>\n",
    "11) Plot the Frequency distribution of Total Expenses<br>\n",
    "12) Compare Frequency Distribution of Profit and Budget Profit on a histogram for the Oregon State<br>\n",
    "13) Compare Frequency of COGS and Budget COGS on a histogram for the Eastern Market for the Product Cafe Mocha<br>\n",
    "14) Compare Sales vs Profit on a histogram for the Eastern or Central Market and for Decaf Type<br>\n",
    "15) Depict the quartile distribution of COGS where Sales is greater than 400<br>\n",
    "16) Depict the quartile distribution of Budget Profit for Decaf Espresso<br>\n",
    "17) Find the Market, Product and Type where Sales is maximum<br>\n",
    "18) Find State and Market with Maximum Profit or Maximum Budget Profit<br>\n",
    "19) Find Product, State and Market where Total Exepnses are minimum<br>\n",
    "20) Statisically infer the State, Product and Market chosen to further expnad/invest into the Coffee Business based on Sales, Profit and Total Expenses<br>\n",
    "21) Statisically infer the State, Product and Market chosen to further withhold the Coffee Business based on Sales, Profit and Total Expenses.\n",
    "\n",
    "<b>Pandas Plots</b>\n",
    "\n",
    "22) Depict Market and Type wise sum of Budget Profit on a bar chart<br>\n",
    "23) Depict Product Type and State wise mean of Sales on a area chart<br>\n",
    "24) Depict Product and Type wise sum of Budget COGS on a line Chart<br>\n",
    "25) Depict Product and Type wise sum of Budget Profit and Budget Sales on a line Chart<br>\n",
    "26) Depict Market and Product Type based mean of Sales on abar chart and on a stacked bar chart separately<br>\n",
    "27) Find State and Market Size based mean of Sales and COGS where Market is not Central and Profit is over 350. Depict the result on a line chart, stacked bar and area chart separately<br>\n",
    "28) Find Product and Market Size based mean of Budget COGS and Inventory where Type is Regular and neither product or its Type is Espresso. Depict the result on a line chart, stacked bar and area chart separately <br>\n",
    "\n",
    "\n",
    "<b>Seaborn EDA</b><br>\n",
    "\n",
    "1) Depict Product based on Market Size on a count plot<br>\n",
    "2) Depict State based on Market on a count plot<br>\n",
    "3) Depict the Product Type vs Total Expenses on a Violin Plot based on Market<br>\n",
    "4) Depict Market vs Budget COGS on a boxplot<br>\n",
    "5) Depict Product vs Margin on a boxplot based on Market Size<br>\n",
    "6) Depict the Market vs Budget Sales on a Violin Plot based on Product Type where product is Colombina or Darjeeling<br>\n",
    "7) Depict the Product vs Inventory on a Box Plot based on Product Type where State is California or Nevada<br>\n",
    "8) Generate Pairplot for the Coffee dataset where Type is Regular including fields- Budget Sales, Budget Profit, Budget COGS, Sales, Proift and COGS<br>\n",
    "9)  Generate Pairplot for the Coffee dataset where Profit is over 250 based on Type including fields- Budget Sales, Budget Profit, Budget COGS, Sales, Proift and COGS<br>\n",
    "10) Generate Pairplot for the Coffee dataset where Market is Western or Central based and Product Line is beans based on Type including fields- COGS, Sales, Proift and Total Expenses<br>\n",
    "11) Depict Product vs Sales based on Market on a Strip Plot where Type is Decaf and Market is not Central<br>\n",
    "12) Depict State vs Budget Profit based on Product Type on a Strip Plot where Market is not Western and Sales >300<br>\n",
    "13) Depict Market vs Total Expenses based on Type on a Swarm Plot where Sales is over 200 and Market Size is Small<br>\n",
    "14) Depict correlation values on a heatmap<br>\n",
    "15) Depict Budget Sales vs Sales on a Joint Plot<br>\n",
    "16) Depict Total Expenses on Joint plot where Sales>300 or Profit>300 where joint plot kind is scatter<br>\n",
    "17)  Depict Budget COGS on Joint plot where Market is Eastern and Type is Regular where joint plot kind is hex"
   ]
  },
  {
   "cell_type": "code",
   "execution_count": null,
   "metadata": {},
   "outputs": [],
   "source": []
  }
 ],
 "metadata": {
  "kernelspec": {
   "display_name": "Python 3",
   "language": "python",
   "name": "python3"
  },
  "language_info": {
   "codemirror_mode": {
    "name": "ipython",
    "version": 3
   },
   "file_extension": ".py",
   "mimetype": "text/x-python",
   "name": "python",
   "nbconvert_exporter": "python",
   "pygments_lexer": "ipython3",
   "version": "3.8.8"
  }
 },
 "nbformat": 4,
 "nbformat_minor": 2
}
