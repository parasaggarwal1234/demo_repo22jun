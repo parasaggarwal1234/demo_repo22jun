{
 "cells": [
  {
   "cell_type": "code",
   "execution_count": 1,
   "id": "bf5e0045",
   "metadata": {},
   "outputs": [],
   "source": [
    "import matplotlib.pyplot as plt\n",
    "import pandas as pd\n",
    "import numpy as np\n",
    "# plt is the alias name"
   ]
  },
  {
   "cell_type": "code",
   "execution_count": 2,
   "id": "1e245d51",
   "metadata": {},
   "outputs": [
    {
     "name": "stdout",
     "output_type": "stream",
     "text": [
      "10\n",
      "10\n"
     ]
    }
   ],
   "source": [
    "s1 = [1,2,3,4,5,6,7,8,9,10]  # list(range(1,11))\n",
    "s2 = [12,17,16,19,20,15,11,9,13,14]\n",
    "\n",
    "print(len(s1))\n",
    "print(len(s2))"
   ]
  },
  {
   "cell_type": "markdown",
   "id": "4f29b542",
   "metadata": {},
   "source": [
    "### Bar Chart\n",
    "1) We represent numerical values with respect to categorical data on a Bar Chart<br>\n",
    "2) It is used to compare different categories of categorical data<br>\n",
    "3) One axis displays the categorical variable. The other axis displays the value for each category<br>"
   ]
  },
  {
   "cell_type": "code",
   "execution_count": 4,
   "id": "649e4878",
   "metadata": {},
   "outputs": [
    {
     "data": {
      "image/png": "[encoded data removed]",
      "text/plain": [
       "<Figure size 432x288 with 1 Axes>"
      ]
     },
     "metadata": {
      "needs_background": "light"
     },
     "output_type": "display_data"
    }
   ],
   "source": [
    "# s1 is represented on x-axis, s2 is represented on y-axis\n",
    "plt.bar(s1,s2)\n",
    "plt.show()  # removes unnecessary info"
   ]
  },
  {
   "cell_type": "code",
   "execution_count": 4,
   "id": "4c7112a4",
   "metadata": {},
   "outputs": [
    {
     "name": "stdout",
     "output_type": "stream",
     "text": [
      "[1, 2, 3, 4, 5, 6, 7, 8, 9, 10]\n",
      "[12, 17, 16, 19, 20, 15, 11, 9, 13, 14]\n"
     ]
    }
   ],
   "source": [
    "print(s1)\n",
    "print(s2)"
   ]
  },
  {
   "cell_type": "code",
   "execution_count": 9,
   "id": "a979ca2f",
   "metadata": {},
   "outputs": [
    {
     "data": {
      "image/png": "[encoded data removed]",
      "text/plain": [
       "<Figure size 432x288 with 1 Axes>"
      ]
     },
     "metadata": {
      "needs_background": "light"
     },
     "output_type": "display_data"
    }
   ],
   "source": [
    "plt.bar(s1,s2,color='green',label='s1 vs s2')\n",
    "plt.xlabel('S1')\n",
    "plt.ylabel('S2')\n",
    "plt.title('S1 vs S2 - Bar Chart')\n",
    "# plt.legend(['s1 vs s2'])\n",
    "plt.legend()\n",
    "plt.grid()\n",
    "# plt.savefig('21Apr_barchart.png')\n",
    "plt.show()"
   ]
  },
  {
   "cell_type": "code",
   "execution_count": 10,
   "id": "28e8d702",
   "metadata": {},
   "outputs": [
    {
     "name": "stdout",
     "output_type": "stream",
     "text": [
      "[1, 2, 3, 4, 5, 6, 7, 8, 9, 10]\n",
      "[12, 17, 16, 19, 20, 15, 11, 9, 13, 14]\n"
     ]
    }
   ],
   "source": [
    "print(s1)\n",
    "print(s2)"
   ]
  },
  {
   "cell_type": "code",
   "execution_count": 14,
   "id": "08426b80",
   "metadata": {},
   "outputs": [
    {
     "name": "stdout",
     "output_type": "stream",
     "text": [
      "[12, 17, 16, 19, 20, 15, 11, 9, 13, 14]\n",
      "20 9\n",
      "4 7\n",
      "5 8\n",
      "5 8\n"
     ]
    }
   ],
   "source": [
    "print(s2)\n",
    "print(max(s2),min(s2))\n",
    "print(s2.index(max(s2)),s2.index(min(s2)))\n",
    "print(s1[4],s1[7])\n",
    "print(s1[s2.index(max(s2))],s1[s2.index(min(s2))])"
   ]
  },
  {
   "cell_type": "code",
   "execution_count": 15,
   "id": "19ef0798",
   "metadata": {},
   "outputs": [
    {
     "data": {
      "image/png": "[encoded data removed]",
      "text/plain": [
       "<Figure size 432x288 with 1 Axes>"
      ]
     },
     "metadata": {
      "needs_background": "light"
     },
     "output_type": "display_data"
    }
   ],
   "source": [
    "plt.bar(s1,s2,color='green',label='s1 vs s2')\n",
    "# plt.bar(5,20)\n",
    "# plt.bar(8,9)\n",
    "plt.bar(s1[s2.index(max(s2))],max(s2),color='maroon',label='Highest')\n",
    "plt.bar(s1[s2.index(min(s2))],min(s2),color='orange',label='Lowest')\n",
    "plt.xlabel('S1')\n",
    "plt.ylabel('S2')\n",
    "plt.title('S1 vs S2 - Bar Chart')\n",
    "plt.legend()\n",
    "plt.grid()\n",
    "plt.show()"
   ]
  },
  {
   "cell_type": "code",
   "execution_count": 23,
   "id": "ddb8a805",
   "metadata": {},
   "outputs": [
    {
     "data": {
      "text/html": [
       "<div>\n",
       "<style scoped>\n",
       "    .dataframe tbody tr th:only-of-type {\n",
       "        vertical-align: middle;\n",
       "    }\n",
       "\n",
       "    .dataframe tbody tr th {\n",
       "        vertical-align: top;\n",
       "    }\n",
       "\n",
       "    .dataframe thead th {\n",
       "        text-align: right;\n",
       "    }\n",
       "</style>\n",
       "<table border=\"1\" class=\"dataframe\">\n",
       "  <thead>\n",
       "    <tr style=\"text-align: right;\">\n",
       "      <th></th>\n",
       "      <th>Region</th>\n",
       "      <th>Sales</th>\n",
       "      <th>Profit</th>\n",
       "    </tr>\n",
       "  </thead>\n",
       "  <tbody>\n",
       "    <tr>\n",
       "      <th>0</th>\n",
       "      <td>USA</td>\n",
       "      <td>13.08</td>\n",
       "      <td>4.56</td>\n",
       "    </tr>\n",
       "    <tr>\n",
       "      <th>1</th>\n",
       "      <td>UK</td>\n",
       "      <td>252.16</td>\n",
       "      <td>90.72</td>\n",
       "    </tr>\n",
       "    <tr>\n",
       "      <th>2</th>\n",
       "      <td>UK</td>\n",
       "      <td>193.28</td>\n",
       "      <td>54.08</td>\n",
       "    </tr>\n",
       "    <tr>\n",
       "      <th>3</th>\n",
       "      <td>UK</td>\n",
       "      <td>35.44</td>\n",
       "      <td>4.96</td>\n",
       "    </tr>\n",
       "    <tr>\n",
       "      <th>4</th>\n",
       "      <td>UK</td>\n",
       "      <td>71.60</td>\n",
       "      <td>11.44</td>\n",
       "    </tr>\n",
       "  </tbody>\n",
       "</table>\n",
       "</div>"
      ],
      "text/plain": [
       "  Region    Sales    Profit\n",
       "0    USA      13.08    4.56\n",
       "1     UK     252.16   90.72\n",
       "2     UK     193.28   54.08\n",
       "3     UK      35.44    4.96\n",
       "4     UK      71.60   11.44"
      ]
     },
     "execution_count": 23,
     "metadata": {},
     "output_type": "execute_result"
    }
   ],
   "source": [
    "df = pd.read_csv('SalesRetails.csv')\n",
    "df.head()"
   ]
  },
  {
   "cell_type": "code",
   "execution_count": 27,
   "id": "de017ec6",
   "metadata": {},
   "outputs": [
    {
     "data": {
      "text/html": [
       "<div>\n",
       "<style scoped>\n",
       "    .dataframe tbody tr th:only-of-type {\n",
       "        vertical-align: middle;\n",
       "    }\n",
       "\n",
       "    .dataframe tbody tr th {\n",
       "        vertical-align: top;\n",
       "    }\n",
       "\n",
       "    .dataframe thead th {\n",
       "        text-align: right;\n",
       "    }\n",
       "</style>\n",
       "<table border=\"1\" class=\"dataframe\">\n",
       "  <thead>\n",
       "    <tr style=\"text-align: right;\">\n",
       "      <th></th>\n",
       "      <th>Region</th>\n",
       "      <th>Sales</th>\n",
       "      <th>Profit</th>\n",
       "    </tr>\n",
       "  </thead>\n",
       "  <tbody>\n",
       "    <tr>\n",
       "      <th>0</th>\n",
       "      <td>USA</td>\n",
       "      <td>13.08</td>\n",
       "      <td>4.56</td>\n",
       "    </tr>\n",
       "    <tr>\n",
       "      <th>1</th>\n",
       "      <td>UK</td>\n",
       "      <td>252.16</td>\n",
       "      <td>90.72</td>\n",
       "    </tr>\n",
       "    <tr>\n",
       "      <th>2</th>\n",
       "      <td>UK</td>\n",
       "      <td>193.28</td>\n",
       "      <td>54.08</td>\n",
       "    </tr>\n",
       "    <tr>\n",
       "      <th>3</th>\n",
       "      <td>UK</td>\n",
       "      <td>35.44</td>\n",
       "      <td>4.96</td>\n",
       "    </tr>\n",
       "    <tr>\n",
       "      <th>4</th>\n",
       "      <td>UK</td>\n",
       "      <td>71.60</td>\n",
       "      <td>11.44</td>\n",
       "    </tr>\n",
       "  </tbody>\n",
       "</table>\n",
       "</div>"
      ],
      "text/plain": [
       "  Region   Sales  Profit\n",
       "0    USA   13.08    4.56\n",
       "1     UK  252.16   90.72\n",
       "2     UK  193.28   54.08\n",
       "3     UK   35.44    4.96\n",
       "4     UK   71.60   11.44"
      ]
     },
     "execution_count": 27,
     "metadata": {},
     "output_type": "execute_result"
    }
   ],
   "source": [
    "df.columns = ['Region','Sales','Profit']\n",
    "df.head()"
   ]
  },
  {
   "cell_type": "markdown",
   "id": "fad28a65",
   "metadata": {},
   "source": [
    "#### Q) Depict Region wise Sum of Sales on a Bar Chart"
   ]
  },
  {
   "cell_type": "code",
   "execution_count": 29,
   "id": "f78e8fc8",
   "metadata": {},
   "outputs": [
    {
     "data": {
      "text/plain": [
       "Region\n",
       "India    12862.18\n",
       "UK       25101.12\n",
       "USA      41239.83\n",
       "Name: Sales, dtype: float64"
      ]
     },
     "execution_count": 29,
     "metadata": {},
     "output_type": "execute_result"
    }
   ],
   "source": [
    "r1 = df.groupby(['Region'])['Sales'].sum()\n",
    "r1"
   ]
  },
  {
   "cell_type": "code",
   "execution_count": 30,
   "id": "9f7dc39b",
   "metadata": {},
   "outputs": [
    {
     "name": "stdout",
     "output_type": "stream",
     "text": [
      "[12862.18 25101.12 41239.83]\n",
      "Index(['India', 'UK', 'USA'], dtype='object', name='Region')\n"
     ]
    }
   ],
   "source": [
    "print(r1.values)\n",
    "print(r1.index)"
   ]
  },
  {
   "cell_type": "code",
   "execution_count": 31,
   "id": "c4e99cc4",
   "metadata": {},
   "outputs": [
    {
     "data": {
      "image/png": "[encoded data removed]",
      "text/plain": [
       "<Figure size 432x288 with 1 Axes>"
      ]
     },
     "metadata": {
      "needs_background": "light"
     },
     "output_type": "display_data"
    }
   ],
   "source": [
    "plt.bar(r1.index,r1.values,color='orange',label='Sales sum')\n",
    "plt.xlabel('Region')\n",
    "plt.ylabel('Sum of Sales')\n",
    "plt.title('Region wise Sum of Sales')\n",
    "plt.legend()\n",
    "plt.grid()\n",
    "plt.show()"
   ]
  },
  {
   "cell_type": "markdown",
   "id": "cf333e19",
   "metadata": {},
   "source": [
    "#### Q) Depict Region wise Sum of Sales and Profit on a Bar Chart"
   ]
  },
  {
   "cell_type": "code",
   "execution_count": 32,
   "id": "584d97a9",
   "metadata": {},
   "outputs": [
    {
     "name": "stderr",
     "output_type": "stream",
     "text": [
      "<ipython-input-32-1d43e3ef93c2>:1: FutureWarning: Indexing with multiple keys (implicitly converted to a tuple of keys) will be deprecated, use a list instead.\n",
      "  r2 = df.groupby(['Region'])['Sales','Profit'].sum()\n"
     ]
    },
    {
     "data": {
      "text/html": [
       "<div>\n",
       "<style scoped>\n",
       "    .dataframe tbody tr th:only-of-type {\n",
       "        vertical-align: middle;\n",
       "    }\n",
       "\n",
       "    .dataframe tbody tr th {\n",
       "        vertical-align: top;\n",
       "    }\n",
       "\n",
       "    .dataframe thead th {\n",
       "        text-align: right;\n",
       "    }\n",
       "</style>\n",
       "<table border=\"1\" class=\"dataframe\">\n",
       "  <thead>\n",
       "    <tr style=\"text-align: right;\">\n",
       "      <th></th>\n",
       "      <th>Sales</th>\n",
       "      <th>Profit</th>\n",
       "    </tr>\n",
       "    <tr>\n",
       "      <th>Region</th>\n",
       "      <th></th>\n",
       "      <th></th>\n",
       "    </tr>\n",
       "  </thead>\n",
       "  <tbody>\n",
       "    <tr>\n",
       "      <th>India</th>\n",
       "      <td>12862.18</td>\n",
       "      <td>949.66</td>\n",
       "    </tr>\n",
       "    <tr>\n",
       "      <th>UK</th>\n",
       "      <td>25101.12</td>\n",
       "      <td>2128.68</td>\n",
       "    </tr>\n",
       "    <tr>\n",
       "      <th>USA</th>\n",
       "      <td>41239.83</td>\n",
       "      <td>4442.65</td>\n",
       "    </tr>\n",
       "  </tbody>\n",
       "</table>\n",
       "</div>"
      ],
      "text/plain": [
       "           Sales   Profit\n",
       "Region                   \n",
       "India   12862.18   949.66\n",
       "UK      25101.12  2128.68\n",
       "USA     41239.83  4442.65"
      ]
     },
     "execution_count": 32,
     "metadata": {},
     "output_type": "execute_result"
    }
   ],
   "source": [
    "r2 = df.groupby(['Region'])['Sales','Profit'].sum()\n",
    "r2"
   ]
  },
  {
   "cell_type": "code",
   "execution_count": 33,
   "id": "1edd0c15",
   "metadata": {},
   "outputs": [
    {
     "name": "stdout",
     "output_type": "stream",
     "text": [
      "<class 'pandas.core.frame.DataFrame'>\n"
     ]
    }
   ],
   "source": [
    "print(type(r2))"
   ]
  },
  {
   "cell_type": "code",
   "execution_count": 34,
   "id": "82218324",
   "metadata": {},
   "outputs": [
    {
     "name": "stdout",
     "output_type": "stream",
     "text": [
      "Index(['India', 'UK', 'USA'], dtype='object', name='Region')\n",
      "[[12862.18   949.66]\n",
      " [25101.12  2128.68]\n",
      " [41239.83  4442.65]]\n",
      "Index(['Sales', 'Profit'], dtype='object')\n"
     ]
    }
   ],
   "source": [
    "print(r2.index)\n",
    "print(r2.values)\n",
    "print(r2.columns)"
   ]
  },
  {
   "cell_type": "markdown",
   "id": "2c3eb12d",
   "metadata": {},
   "source": [
    "### Stacked Bar Chart"
   ]
  },
  {
   "cell_type": "code",
   "execution_count": 35,
   "id": "7ef77870",
   "metadata": {},
   "outputs": [
    {
     "data": {
      "image/png": "[encoded data removed]",
      "text/plain": [
       "<Figure size 432x288 with 1 Axes>"
      ]
     },
     "metadata": {
      "needs_background": "light"
     },
     "output_type": "display_data"
    }
   ],
   "source": [
    "plt.bar(r2.index,r2['Sales'],color='cyan',label='Sum of Sales')\n",
    "plt.bar(r2.index,r2['Profit'],color='orange',label='Sum of Profit')\n",
    "plt.xlabel('Region')\n",
    "plt.legend()\n",
    "plt.title('Region wise Sales and Profit')\n",
    "plt.show()"
   ]
  },
  {
   "cell_type": "markdown",
   "id": "53f63846",
   "metadata": {},
   "source": [
    "### Grouped Bar Chart"
   ]
  },
  {
   "cell_type": "code",
   "execution_count": 79,
   "id": "d4ef25c9",
   "metadata": {},
   "outputs": [
    {
     "data": {
      "image/png": "[encoded data removed]",
      "text/plain": [
       "<Figure size 432x288 with 1 Axes>"
      ]
     },
     "metadata": {
      "needs_background": "light"
     },
     "output_type": "display_data"
    }
   ],
   "source": [
    "python = [86,77,90,82,95]\n",
    "sql = [75,84,93,89,80]\n",
    "idx = np.arange(5) # [0,1,2,3,4]\n",
    "\n",
    "plt.bar(idx-0.20,python,color='lightgreen',label='Python Marks',width=0.35,edgecolor='black')\n",
    "plt.bar(idx+0.2,sql,color='pink',label='SQL Marks',width=0.35,edgecolor='blue')\n",
    "plt.legend(loc=5)\n",
    "\n",
    "plt.show()"
   ]
  },
  {
   "cell_type": "code",
   "execution_count": 41,
   "id": "00563f10",
   "metadata": {},
   "outputs": [
    {
     "data": {
      "image/png": "[encoded data removed]",
      "text/plain": [
       "<Figure size 432x288 with 1 Axes>"
      ]
     },
     "metadata": {
      "needs_background": "light"
     },
     "output_type": "display_data"
    }
   ],
   "source": [
    "python = [86,77,90,82,95]\n",
    "sql = [75,84,93,89,80]\n",
    "idx = np.arange(5)\n",
    "\n",
    "plt.bar(idx,python,color='lightgreen',label='Python Marks',width=0.5)\n",
    "plt.bar(idx,sql,color='pink',alpha=0.7,label='SQL Marks',width=0.5)\n",
    "\n",
    "plt.show()"
   ]
  },
  {
   "cell_type": "code",
   "execution_count": null,
   "id": "8dd1f7ea",
   "metadata": {},
   "outputs": [],
   "source": []
  },
  {
   "cell_type": "markdown",
   "id": "e62bdb28",
   "metadata": {},
   "source": [
    "### Line Chart/Plot\n",
    "1) A line chart is a type of chart used to show information that changes over time.<br>"
   ]
  },
  {
   "cell_type": "code",
   "execution_count": 81,
   "id": "a9ff7321",
   "metadata": {},
   "outputs": [
    {
     "data": {
      "image/png": "[encoded data removed]",
      "text/plain": [
       "<Figure size 432x288 with 1 Axes>"
      ]
     },
     "metadata": {
      "needs_background": "light"
     },
     "output_type": "display_data"
    }
   ],
   "source": [
    "plt.plot(s1,s2,color='maroon',label='Line Chart',marker='o',markersize=10)\n",
    "plt.bar(s1,s2,color='lightblue',label='Bar Chart')\n",
    "plt.xlabel('S1')\n",
    "plt.ylabel('S2')\n",
    "plt.title('S1 vs S2 - Line Chart')\n",
    "plt.legend()\n",
    "plt.grid()\n",
    "plt.show()"
   ]
  },
  {
   "cell_type": "code",
   "execution_count": 75,
   "id": "b250057c",
   "metadata": {},
   "outputs": [
    {
     "data": {
      "image/png": "[encoded data removed]",
      "text/plain": [
       "<Figure size 432x288 with 1 Axes>"
      ]
     },
     "metadata": {
      "needs_background": "light"
     },
     "output_type": "display_data"
    }
   ],
   "source": [
    "sales1 = [100,120,150,80,125]\n",
    "sales2 = [85,95,70,120,145]\n",
    "sales3 = [90,70,100,60,55]\n",
    "idx = np.arange(5)\n",
    "# lw = linewidth\n",
    "# marker = '*','o','d','1','2','3' \n",
    "plt.plot(idx,sales1,color='red',label='Sales1',marker='*',lw=3,linestyle=':',markersize=10)\n",
    "plt.plot(idx,sales2,color='blue',label='Sales2',marker='d',lw=2,linestyle='-.')\n",
    "plt.plot(idx,sales3,color='green',label='Sales3',marker='o',lw=1,linestyle='--')\n",
    "plt.ylabel('Sales')\n",
    "plt.grid()\n",
    "plt.legend()\n",
    "plt.show()\n"
   ]
  },
  {
   "cell_type": "markdown",
   "id": "d7b79aaf",
   "metadata": {},
   "source": [
    "### Scatter Chart\n",
    "1) It is used to display relationship between 2 numerical variables<br>\n",
    "2) Used to detect extreme points in the data<br>\n",
    "3) It represents correlation between two variables<br>"
   ]
  },
  {
   "cell_type": "code",
   "execution_count": 72,
   "id": "654096da",
   "metadata": {},
   "outputs": [
    {
     "data": {
      "image/png": "[encoded data removed]",
      "text/plain": [
       "<Figure size 432x288 with 1 Axes>"
      ]
     },
     "metadata": {
      "needs_background": "light"
     },
     "output_type": "display_data"
    }
   ],
   "source": [
    "# s = size of marker\n",
    "plt.scatter(s1,s2,color='red',marker='>',label='s1 vs s2',s=100)\n",
    "plt.xlabel('S1')\n",
    "plt.ylabel('S2')\n",
    "plt.title('S1 vs S2 - Scatter chart')\n",
    "plt.show()"
   ]
  },
  {
   "cell_type": "code",
   "execution_count": null,
   "id": "da83cd44",
   "metadata": {},
   "outputs": [],
   "source": []
  },
  {
   "cell_type": "markdown",
   "id": "a9ecfb0b",
   "metadata": {},
   "source": [
    "### Pie Chart\n",
    "1) It is used to represent percentage distribution<br>\n",
    "2) It is used for univariate data<br>"
   ]
  },
  {
   "cell_type": "code",
   "execution_count": 87,
   "id": "417412e6",
   "metadata": {},
   "outputs": [
    {
     "name": "stdout",
     "output_type": "stream",
     "text": [
      "20.0\n"
     ]
    }
   ],
   "source": [
    "marks = [86,77,90,82,95]\n",
    "sub = ['Python','SQL','Stats','ML','Tableau']\n",
    "\n",
    "py_per = 86*100/sum(marks)\n",
    "print(py_per)"
   ]
  },
  {
   "cell_type": "code",
   "execution_count": 88,
   "id": "44c6fe21",
   "metadata": {},
   "outputs": [
    {
     "data": {
      "image/png": "[encoded data removed]",
      "text/plain": [
       "<Figure size 432x288 with 1 Axes>"
      ]
     },
     "metadata": {},
     "output_type": "display_data"
    }
   ],
   "source": [
    "plt.pie(marks,labels=sub,autopct='%.3f%%')\n",
    "plt.show()"
   ]
  },
  {
   "cell_type": "code",
   "execution_count": 102,
   "id": "a6b70322",
   "metadata": {},
   "outputs": [
    {
     "data": {
      "image/png": "[encoded data removed]",
      "text/plain": [
       "<Figure size 504x504 with 1 Axes>"
      ]
     },
     "metadata": {},
     "output_type": "display_data"
    }
   ],
   "source": [
    "plt.figure(figsize=(7,7))\n",
    "plt.pie(marks,labels=sub,colors=['lightblue','orange','tan','cyan','pink'],\n",
    "        autopct='%.0f%%',shadow=True,explode=(0.2,0,0,0,0.1),counterclock=False)\n",
    "plt.show()"
   ]
  },
  {
   "cell_type": "code",
   "execution_count": null,
   "id": "45101638",
   "metadata": {},
   "outputs": [],
   "source": []
  },
  {
   "cell_type": "markdown",
   "id": "d86a7212",
   "metadata": {},
   "source": [
    "### Histogram\n",
    "1) It is used to represent frequency distrbution<br>\n",
    "2) There are no gaps between the bars of histogram<br>\n",
    "3) One axis represents variable in form of bars, the other represents frequency of each bar<br>\n",
    "\n",
    "A histogram displays numerical data by grouping data into \"bins\" of equal width. Bins are also sometimes called \"intervals\", \"classes\", or \"buckets\". Bins divide the entire range of values into a series of intervals — and then count how many values fall into each interval\n",
    "\n",
    "If bins is a sequence. All but the last (righthand-most) bin is half-open.\n",
    "In other words, if bins is:[1, 2, 3, 4] then the first bin is [1, 2) (including 1, but excluding 2) and the second [2, 3). The last bin, however, is [3, 4], which includes 4."
   ]
  },
  {
   "cell_type": "code",
   "execution_count": 109,
   "id": "7c71e701",
   "metadata": {},
   "outputs": [
    {
     "name": "stdout",
     "output_type": "stream",
     "text": [
      "[1, 2, 3, 2, 4, 2, 3, 1, 5, 6, 4, 4, 3, 5, 7, 3, 6, 7, 2, 3, 4, 7]\n"
     ]
    }
   ],
   "source": [
    "x = [1,2,3,2,4,2,3,1,5,6,4,4,3,5,7,3,6,7,2,3,4,7]\n",
    "print(x)"
   ]
  },
  {
   "cell_type": "code",
   "execution_count": 110,
   "id": "2dba4bf5",
   "metadata": {},
   "outputs": [
    {
     "name": "stdout",
     "output_type": "stream",
     "text": [
      "Counter({3: 5, 2: 4, 4: 4, 7: 3, 1: 2, 5: 2, 6: 2})\n"
     ]
    }
   ],
   "source": [
    "from collections import Counter\n",
    "c = Counter(x)\n",
    "print(c)"
   ]
  },
  {
   "cell_type": "code",
   "execution_count": 112,
   "id": "6790aa24",
   "metadata": {},
   "outputs": [
    {
     "data": {
      "image/png": "[encoded data removed]",
      "text/plain": [
       "<Figure size 432x288 with 1 Axes>"
      ]
     },
     "metadata": {
      "needs_background": "light"
     },
     "output_type": "display_data"
    }
   ],
   "source": [
    "plt.hist(x,color='orange')\n",
    "plt.show()"
   ]
  },
  {
   "cell_type": "code",
   "execution_count": 116,
   "id": "39f875be",
   "metadata": {},
   "outputs": [
    {
     "name": "stdout",
     "output_type": "stream",
     "text": [
      "Counter({3: 5, 2: 4, 4: 4, 7: 3, 1: 2, 5: 2, 6: 2})\n"
     ]
    },
    {
     "data": {
      "image/png": "[encoded data removed]",
      "text/plain": [
       "<Figure size 432x288 with 1 Axes>"
      ]
     },
     "metadata": {
      "needs_background": "light"
     },
     "output_type": "display_data"
    }
   ],
   "source": [
    "print(c)\n",
    "plt.hist(x,bins=[1,2,3,4,5,6,7],color='lightgreen')\n",
    "plt.show()\n",
    "# 1st bin -> [1,2) => Including count of 1,exlcluding count of 2 => 2\n",
    "# 2nd bin -> [2,3) => Including count of 2,exlcluding count of 3 => 4\n",
    "# 3rd bin -> [3,4) => Including count of 3,exlcluding count of 4 => 5\n",
    "# 4th bin -> [4,5) => Including count of 4,exlcluding count of 5 => 4\n",
    "# 5th bin -> [5,6) => Including count of 5,exlcluding count of 6 => 2\n",
    "# 6th bin -> [6,7] => Including count of 6,including count of 7 => 2+3= 5"
   ]
  },
  {
   "cell_type": "code",
   "execution_count": 117,
   "id": "edb43970",
   "metadata": {},
   "outputs": [
    {
     "name": "stdout",
     "output_type": "stream",
     "text": [
      "Counter({3: 5, 2: 4, 4: 4, 7: 3, 1: 2, 5: 2, 6: 2})\n"
     ]
    },
    {
     "data": {
      "image/png": "[encoded data removed]",
      "text/plain": [
       "<Figure size 432x288 with 1 Axes>"
      ]
     },
     "metadata": {
      "needs_background": "light"
     },
     "output_type": "display_data"
    }
   ],
   "source": [
    "print(c)\n",
    "plt.hist(x,bins=[1,2,3,4,5,6,7,8],color='lightgreen')\n",
    "plt.show()\n",
    "# 1st bin -> [1,2) => Including count of 1,exlcluding count of 2 => 2\n",
    "# 2nd bin -> [2,3) => Including count of 2,exlcluding count of 3 => 4\n",
    "# 3rd bin -> [3,4) => Including count of 3,exlcluding count of 4 => 5\n",
    "# 4th bin -> [4,5) => Including count of 4,exlcluding count of 5 => 4\n",
    "# 5th bin -> [5,6) => Including count of 5,exlcluding count of 6 => 2\n",
    "# 6th bin -> [6,7) => Including count of 6,excluding count of 7 => 2\n",
    "# 7th bin -> [7,8] => Including count of 7,including count of 8 => 3"
   ]
  },
  {
   "cell_type": "code",
   "execution_count": null,
   "id": "33e9fb7d",
   "metadata": {},
   "outputs": [],
   "source": []
  },
  {
   "cell_type": "markdown",
   "id": "b9ecf8d5",
   "metadata": {},
   "source": [
    "### BoxPlot\n",
    "1) It is used to represent percentile/quartile distrubution<br>\n",
    "2) It is used to visualize distribution of numerical data<br>\n",
    "3) It represnets a 5 number summary<br>\n",
    "\n",
    "i) Q1 - 25 percentile (median of min and Q2)<br>\n",
    "ii) Q2 - 50 percentile (median)<br>\n",
    "iii) Q3 - 75 percentile (median of max and Q2)<br>\n",
    "iv) IQR (Inter Quartile Range) = Q3-Q1<br>\n",
    "v) min = Q1 - 1.5 * IQR<br>\n",
    "vi) max = Q3 +  1.5 * IQR<br>\n",
    "vii) Outliers = >max or <min"
   ]
  },
  {
   "cell_type": "markdown",
   "id": "6eee9d02",
   "metadata": {},
   "source": [
    "<img src=\"boxplot.png\" height=\"350\" width=\"600\">"
   ]
  },
  {
   "cell_type": "code",
   "execution_count": 118,
   "id": "a158c71a",
   "metadata": {},
   "outputs": [],
   "source": [
    "# x = [12,34,45,56,67,78,89,90,100,27,58,49,40,60,80,76,70,37,83,94]"
   ]
  },
  {
   "cell_type": "code",
   "execution_count": 122,
   "id": "5f69ddad",
   "metadata": {},
   "outputs": [
    {
     "name": "stdout",
     "output_type": "stream",
     "text": [
      "[12, 14, 16, 15, 14, 25, 12, 11, 9, 10, 13, 15, 2, 17, 9, 16]\n",
      "16\n"
     ]
    }
   ],
   "source": [
    "x = [12,14, 16, 15, 14,25, 12, 11, 9,10,13,15,2,17,9,16]\n",
    "print(x)\n",
    "print(len(x))"
   ]
  },
  {
   "cell_type": "code",
   "execution_count": 127,
   "id": "219c08da",
   "metadata": {},
   "outputs": [
    {
     "data": {
      "image/png": "[encoded data removed]",
      "text/plain": [
       "<Figure size 432x288 with 1 Axes>"
      ]
     },
     "metadata": {
      "needs_background": "light"
     },
     "output_type": "display_data"
    }
   ],
   "source": [
    "plt.boxplot(x)\n",
    "plt.grid()\n",
    "plt.show()"
   ]
  },
  {
   "cell_type": "code",
   "execution_count": 126,
   "id": "63210614",
   "metadata": {},
   "outputs": [
    {
     "name": "stdout",
     "output_type": "stream",
     "text": [
      "Q1 10.75\n",
      "Q2 13.5\n",
      "Q3 15.25\n",
      "IQR 4.5\n",
      "Max 22.0\n",
      "Min 4.0\n",
      "[2, 9, 9, 10, 11, 12, 12, 13, 14, 14, 15, 15, 16, 16, 17, 25]\n"
     ]
    }
   ],
   "source": [
    "q1 = np.percentile(x,25)\n",
    "q2 = np.percentile(x,50) # Median\n",
    "q3 = np.percentile(x,75)\n",
    "iqr = q3-q1    # Inter Quartile Range\n",
    "print('Q1',q1)\n",
    "print('Q2',q2)\n",
    "print('Q3',q3)\n",
    "print('IQR',iqr)\n",
    "bmax = q3 + 1.5*iqr \n",
    "bmin = q1 - 1.5*iqr\n",
    "print('Max',bmax)\n",
    "print('Min',bmin)\n",
    "x.sort()\n",
    "print(x)"
   ]
  },
  {
   "cell_type": "code",
   "execution_count": 130,
   "id": "d4154613",
   "metadata": {},
   "outputs": [
    {
     "name": "stdout",
     "output_type": "stream",
     "text": [
      "Q0 2.0\n",
      "Q4 25.0\n"
     ]
    }
   ],
   "source": [
    "q0 = np.percentile(x,0)\n",
    "q4 = np.percentile(x,100)\n",
    "print('Q0',q0)\n",
    "print('Q4',q4)"
   ]
  },
  {
   "cell_type": "code",
   "execution_count": null,
   "id": "bc842ee9",
   "metadata": {},
   "outputs": [],
   "source": []
  },
  {
   "cell_type": "code",
   "execution_count": 81,
   "id": "363fabd0",
   "metadata": {},
   "outputs": [],
   "source": [
    "# data = [32, 36, 46, 47, 56, 61, 75, 79, 79, 88, 89, 91, 92, 93, 96, 97,  \n",
    "#         101, 105, 112, 116] \n",
    "# print(len(data))"
   ]
  },
  {
   "cell_type": "code",
   "execution_count": null,
   "id": "347d5787",
   "metadata": {},
   "outputs": [],
   "source": []
  },
  {
   "cell_type": "code",
   "execution_count": null,
   "id": "78ca17f7",
   "metadata": {},
   "outputs": [],
   "source": []
  },
  {
   "cell_type": "markdown",
   "id": "7c4e668b",
   "metadata": {},
   "source": [
    "### Subplots\n",
    "\n",
    "1) Facilitates to plot multiple subplots (charts) for a single figure<br>"
   ]
  },
  {
   "cell_type": "code",
   "execution_count": 146,
   "id": "d7d7d30a",
   "metadata": {},
   "outputs": [
    {
     "name": "stdout",
     "output_type": "stream",
     "text": [
      "7 7 7\n"
     ]
    }
   ],
   "source": [
    "day = [1,2,3,4,5,6,7]\n",
    "sales = [6,4,3,5,8,4,7]\n",
    "r = ['Delhi','Noida','Mumbai','Kolkata','Chennai','Bangalore','Pune']\n",
    "print(len(day),len(sales),len(r))"
   ]
  },
  {
   "cell_type": "code",
   "execution_count": 152,
   "id": "5aea45e3",
   "metadata": {},
   "outputs": [
    {
     "data": {
      "image/png": "[encoded data removed]",
      "text/plain": [
       "<Figure size 720x360 with 2 Axes>"
      ]
     },
     "metadata": {
      "needs_background": "light"
     },
     "output_type": "display_data"
    }
   ],
   "source": [
    "fig, (ax1,ax2) = plt.subplots(1,2,figsize=(10,5))\n",
    "ax1.bar(r,sales,color='green')\n",
    "# ax1.tick_params(axis='both',rotation=60)\n",
    "ax1.tick_params(axis='x',rotation=60)\n",
    "\n",
    "ax2.plot(r,sales,color='red',marker='*')\n",
    "ax2.tick_params(axis='x',rotation=45)\n",
    "\n",
    "plt.show()"
   ]
  },
  {
   "cell_type": "code",
   "execution_count": 147,
   "id": "27183086",
   "metadata": {},
   "outputs": [
    {
     "data": {
      "image/png": "[encoded data removed]",
      "text/plain": [
       "<Figure size 504x360 with 2 Axes>"
      ]
     },
     "metadata": {
      "needs_background": "light"
     },
     "output_type": "display_data"
    }
   ],
   "source": [
    "fig, (ax1,ax2) = plt.subplots(2,1,figsize=(7,5))\n",
    "ax1.bar(r,sales,color='green')\n",
    "# ax1.tick_params(axis='x',rotation=90)\n",
    "\n",
    "ax2.plot(r,sales,color='red',marker='*')\n",
    "# ax2.tick_params(axis='x',rotation=90)\n",
    "\n",
    "plt.show()"
   ]
  },
  {
   "cell_type": "code",
   "execution_count": null,
   "id": "c9144de0",
   "metadata": {},
   "outputs": [],
   "source": [
    "df = pd.read_excel('a.xlsx')\n",
    "df.head()"
   ]
  }
 ],
 "metadata": {
  "kernelspec": {
   "display_name": "Python 3",
   "language": "python",
   "name": "python3"
  },
  "language_info": {
   "codemirror_mode": {
    "name": "ipython",
    "version": 3
   },
   "file_extension": ".py",
   "mimetype": "text/x-python",
   "name": "python",
   "nbconvert_exporter": "python",
   "pygments_lexer": "ipython3",
   "version": "3.8.8"
  }
 },
 "nbformat": 4,
 "nbformat_minor": 5
}
