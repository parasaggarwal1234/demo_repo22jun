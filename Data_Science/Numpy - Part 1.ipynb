{
 "cells": [
  {
   "cell_type": "markdown",
   "id": "24781374",
   "metadata": {},
   "source": [
    "### Numpy (Numerical Python)\n",
    "\n",
    "1) NumPy is the fundamental package for scientific computing in Python<br>\n",
    "2) It is used for fast operations on arrays, including mathematical, logical, shape manipulation, sorting, selecting, basic linear algebra, basic statistical operations and much more.<br>\n",
    "3) The NumPy library contains multidimensional array and matrix data structures<br>\n",
    "4) It provides ndarray, a homogeneous n-dimensional array object, with wide variety of methods to efficiently operate on it."
   ]
  },
  {
   "cell_type": "markdown",
   "id": "710f48d2",
   "metadata": {},
   "source": [
    "#### Numpy Array\n",
    "1) An array is a central data structure of the NumPy library.<br>\n",
    "\n",
    "2) An array is a grid of values and it contains information about the raw data, how to locate an element, and how to interpret an element. It has a grid of elements that can be indexed in various ways. The elements are all of the same type, referred to as the array dtype."
   ]
  },
  {
   "cell_type": "markdown",
   "id": "ab31aeb3",
   "metadata": {},
   "source": [
    "#### Difference between list and Numpy arrays\n",
    "\n",
    "#### List\n",
    "1) It is an ordered collection of elements of same or different data types\n",
    "\n",
    "\n",
    "#### Numpy Array\n",
    "1) It is an ordered collection of elements of same data type. Elements in numpy array are homogeneous.<br>\n",
    "2) Numpy arrays are faster than list<br>"
   ]
  },
  {
   "cell_type": "markdown",
   "id": "04fad52f",
   "metadata": {},
   "source": [
    "### Creating Numpy Arrays\n",
    "1) np.array()<br>\n",
    "2) np.arange()\n",
    "\n",
    "Other methods<br>\n",
    "\n",
    "3) np.zeros()<br>\n",
    "4) np.ones()<br>\n",
    "5) np.linspace()<br>"
   ]
  },
  {
   "cell_type": "code",
   "execution_count": null,
   "id": "8adbb0a3",
   "metadata": {},
   "outputs": [],
   "source": [
    "# !pip install numpy"
   ]
  },
  {
   "cell_type": "code",
   "execution_count": 2,
   "id": "14835b17",
   "metadata": {},
   "outputs": [],
   "source": [
    "import numpy as np\n",
    "\n",
    "# np is the alias name"
   ]
  },
  {
   "cell_type": "markdown",
   "id": "289817c0",
   "metadata": {},
   "source": [
    "### 1) np.array()\n",
    "1) The data type of the numpy array is <b>np.ndarray</b><br>\n",
    "2) An array is usually a fixed-size container of items of the same type and size. The number of dimensions and items in an array is defined by its shape \n",
    "    "
   ]
  },
  {
   "cell_type": "code",
   "execution_count": 4,
   "id": "1a57006d",
   "metadata": {},
   "outputs": [
    {
     "name": "stdout",
     "output_type": "stream",
     "text": [
      "[ 5  7  8  3 17]\n",
      "<class 'numpy.ndarray'>\n"
     ]
    }
   ],
   "source": [
    "n1 = np.array([5,7,8,3,17])\n",
    "print(n1)\n",
    "print(type(n1))"
   ]
  },
  {
   "cell_type": "code",
   "execution_count": 7,
   "id": "335b8699",
   "metadata": {},
   "outputs": [
    {
     "name": "stdout",
     "output_type": "stream",
     "text": [
      "[10 20 30 40]\n",
      "<class 'numpy.ndarray'>\n",
      "[5 7 3 8]\n",
      "<class 'numpy.ndarray'>\n"
     ]
    }
   ],
   "source": [
    "# Creating numpy arrays using List and Tuple\n",
    "a1 = [10,20,30,40]   # list\n",
    "a2 = (5,7,3,8)       # tuple\n",
    "w1 = np.array(a1)\n",
    "w2 = np.array(a2)\n",
    "print(w1)\n",
    "print(type(w1))\n",
    "print(w2)\n",
    "print(type(w2))"
   ]
  },
  {
   "cell_type": "markdown",
   "id": "cc7ad741",
   "metadata": {},
   "source": [
    "#### Attributes of numpy array\n",
    "\n",
    "1) dtype - Returns data type of ndarray<br>\n",
    "2) size - Returns size(number of elements) of ndarray<br>\n",
    "3) shape - Returns shape(in terms of rows and columns,starting from 2 dimensions, and onwards) of ndarray<br>\n",
    "4) ndim - Returns number of dimensions of ndarray<br>"
   ]
  },
  {
   "cell_type": "code",
   "execution_count": 12,
   "id": "250f80ee",
   "metadata": {},
   "outputs": [
    {
     "name": "stdout",
     "output_type": "stream",
     "text": [
      "[  7   8   6   5   4   3   5   6   7 823]\n",
      "int32\n",
      "10\n",
      "(10,)\n",
      "1\n"
     ]
    }
   ],
   "source": [
    "s1 = np.array([7,8,6,5,4,3,5,6,7,823])\n",
    "print(s1)\n",
    "print(s1.dtype)\n",
    "print(s1.size)\n",
    "print(s1.shape)\n",
    "print(s1.ndim)"
   ]
  },
  {
   "cell_type": "code",
   "execution_count": 11,
   "id": "1cb9a28b",
   "metadata": {},
   "outputs": [
    {
     "name": "stdout",
     "output_type": "stream",
     "text": [
      "[[5, 10, 15], [20, 30, 35]]\n"
     ]
    }
   ],
   "source": [
    "r = [[5,10,15],[20,30,35]]\n",
    "print(r)"
   ]
  },
  {
   "cell_type": "code",
   "execution_count": 14,
   "id": "b2845825",
   "metadata": {},
   "outputs": [
    {
     "name": "stdout",
     "output_type": "stream",
     "text": [
      "[[ 5 10 15]\n",
      " [20 30 35]]\n",
      "int32\n",
      "6\n",
      "(2, 3)\n",
      "2\n"
     ]
    }
   ],
   "source": [
    "s2 = np.array([[5,10,15],[20,30,35]])\n",
    "print(s2)\n",
    "print(s2.dtype)\n",
    "print(s2.size)\n",
    "print(s2.shape)\n",
    "print(s2.ndim)"
   ]
  },
  {
   "cell_type": "code",
   "execution_count": 17,
   "id": "90ee9483",
   "metadata": {},
   "outputs": [
    {
     "name": "stdout",
     "output_type": "stream",
     "text": [
      "[[[  5  10  15]\n",
      "  [ 20  30 354]]\n",
      "\n",
      " [[  1   2   3]\n",
      "  [  4   5   6]]]\n",
      "int32\n",
      "12\n",
      "(2, 2, 3)\n",
      "3\n"
     ]
    }
   ],
   "source": [
    "s3 = np.array([[[5,10,15],[20,30,354]],[[1,2,3],[4,5,6]]])\n",
    "print(s3)\n",
    "print(s3.dtype)\n",
    "print(s3.size)\n",
    "print(s3.shape) # (2,2,3) => (3rd dimension,Rows,Columns)\n",
    "print(s3.ndim)"
   ]
  },
  {
   "cell_type": "code",
   "execution_count": 20,
   "id": "bff60f0b",
   "metadata": {},
   "outputs": [
    {
     "name": "stdout",
     "output_type": "stream",
     "text": [
      "30\n",
      "int32\n",
      "1\n",
      "()\n",
      "0\n"
     ]
    }
   ],
   "source": [
    "s0 = np.array(30)\n",
    "print(s0)\n",
    "print(s0.dtype)\n",
    "print(s0.size)\n",
    "print(s0.shape)\n",
    "print(s0.ndim)"
   ]
  },
  {
   "cell_type": "markdown",
   "id": "abe05abd",
   "metadata": {},
   "source": [
    "### 2) np.arange()\n",
    "\n"
   ]
  },
  {
   "cell_type": "code",
   "execution_count": 22,
   "id": "e46e6685",
   "metadata": {},
   "outputs": [
    {
     "name": "stdout",
     "output_type": "stream",
     "text": [
      "[10 11 12 13 14 15 16 17 18 19]\n"
     ]
    }
   ],
   "source": [
    "w1 = np.arange(10,20) # start=10,end=20, step=+1\n",
    "print(w1)"
   ]
  },
  {
   "cell_type": "code",
   "execution_count": 25,
   "id": "03a7e2e9",
   "metadata": {},
   "outputs": [
    {
     "name": "stdout",
     "output_type": "stream",
     "text": [
      "[ 5  9 13 17 21]\n",
      "[30 25 20 15]\n"
     ]
    }
   ],
   "source": [
    "w2 = np.arange(5,25,4)  # start=5, end=25, step=4\n",
    "print(w2)\n",
    "w3 = np.arange(30,10,-5) # start=30,end=10,step=-5\n",
    "print(w3)"
   ]
  },
  {
   "cell_type": "markdown",
   "id": "a51bd0fc",
   "metadata": {},
   "source": [
    "### 3) np.linspace()\n",
    "Generates linearly spaced elements"
   ]
  },
  {
   "cell_type": "code",
   "execution_count": 29,
   "id": "305a31c4",
   "metadata": {},
   "outputs": [
    {
     "name": "stdout",
     "output_type": "stream",
     "text": [
      "[ 2.  4.  6.  8. 10.]\n",
      "[ 2  6 10]\n",
      "[ 5.   7.5 10.  12.5 15.  17.5 20. ]\n",
      "[ 5  7 10 12 15 17 20]\n"
     ]
    }
   ],
   "source": [
    "z1 = np.linspace(2,10,5)\n",
    "print(z1)\n",
    "z2 = np.linspace(2,10,3,dtype='int')\n",
    "print(z2)\n",
    "s1 = np.linspace(5,20,7)\n",
    "print(s1)\n",
    "s1 = np.linspace(5,20,7,dtype=int)\n",
    "print(s1)"
   ]
  },
  {
   "cell_type": "code",
   "execution_count": 30,
   "id": "779e0705",
   "metadata": {},
   "outputs": [
    {
     "name": "stdout",
     "output_type": "stream",
     "text": [
      "[ 2.          3.33333333  4.66666667  6.          7.33333333  8.66666667\n",
      " 10.        ]\n"
     ]
    }
   ],
   "source": [
    "z1 = np.linspace(2,10,7)\n",
    "print(z1)"
   ]
  },
  {
   "cell_type": "code",
   "execution_count": 31,
   "id": "64cbe854",
   "metadata": {},
   "outputs": [
    {
     "name": "stdout",
     "output_type": "stream",
     "text": [
      "[ 4.   6.6  9.2 11.8 14.4 17. ]\n"
     ]
    }
   ],
   "source": [
    "z3 = np.linspace(4,17,6)\n",
    "print(z3)"
   ]
  },
  {
   "cell_type": "code",
   "execution_count": 38,
   "id": "7138616d",
   "metadata": {},
   "outputs": [
    {
     "name": "stdout",
     "output_type": "stream",
     "text": [
      "[ 2.          2.36734694  2.73469388  3.10204082  3.46938776  3.83673469\n",
      "  4.20408163  4.57142857  4.93877551  5.30612245  5.67346939  6.04081633\n",
      "  6.40816327  6.7755102   7.14285714  7.51020408  7.87755102  8.24489796\n",
      "  8.6122449   8.97959184  9.34693878  9.71428571 10.08163265 10.44897959\n",
      " 10.81632653 11.18367347 11.55102041 11.91836735 12.28571429 12.65306122\n",
      " 13.02040816 13.3877551  13.75510204 14.12244898 14.48979592 14.85714286\n",
      " 15.2244898  15.59183673 15.95918367 16.32653061 16.69387755 17.06122449\n",
      " 17.42857143 17.79591837 18.16326531 18.53061224 18.89795918 19.26530612\n",
      " 19.63265306 20.        ]\n",
      "<class 'numpy.ndarray'>\n",
      "50\n"
     ]
    }
   ],
   "source": [
    "z4 = np.linspace(2,20)\n",
    "print(z4)\n",
    "print(type(z4))\n",
    "print(len(z4))"
   ]
  },
  {
   "cell_type": "code",
   "execution_count": null,
   "id": "194d29e2",
   "metadata": {},
   "outputs": [],
   "source": [
    "d1 = np.linspace()"
   ]
  },
  {
   "cell_type": "markdown",
   "id": "a5aa8cae",
   "metadata": {},
   "source": [
    "#### np.zeros() - Generates an array of zeros\n",
    "#### np.ones() - Generates an array of ones"
   ]
  },
  {
   "cell_type": "code",
   "execution_count": 42,
   "id": "b73eb5dd",
   "metadata": {},
   "outputs": [
    {
     "name": "stdout",
     "output_type": "stream",
     "text": [
      "[[0. 0. 0. 0.]\n",
      " [0. 0. 0. 0.]\n",
      " [0. 0. 0. 0.]]\n",
      "[[1 1 1 1 1]\n",
      " [1 1 1 1 1]\n",
      " [1 1 1 1 1]\n",
      " [1 1 1 1 1]]\n"
     ]
    }
   ],
   "source": [
    "d1 = np.zeros((3,4)) # default dtype=float\n",
    "print(d1)\n",
    "d2 = np.ones((4,5),dtype=int)\n",
    "print(d2)"
   ]
  },
  {
   "cell_type": "code",
   "execution_count": 44,
   "id": "fec17596",
   "metadata": {},
   "outputs": [
    {
     "name": "stdout",
     "output_type": "stream",
     "text": [
      "[[0 0]\n",
      " [0 0]\n",
      " [0 0]\n",
      " [0 0]]\n"
     ]
    }
   ],
   "source": [
    "d3 = np.zeros([4,2],dtype='int')\n",
    "print(d3)"
   ]
  },
  {
   "cell_type": "markdown",
   "id": "2d17fad0",
   "metadata": {},
   "source": [
    "### Reshape and shape()\n",
    "Array can be reshaped into its product of its factors"
   ]
  },
  {
   "cell_type": "code",
   "execution_count": 54,
   "id": "452dda8a",
   "metadata": {},
   "outputs": [
    {
     "name": "stdout",
     "output_type": "stream",
     "text": [
      "[ 3  4  5  6  7  8  9 10 11 12 13 14]\n",
      "(12,)\n",
      "1\n",
      "[[ 3  4  5  6]\n",
      " [ 7  8  9 10]\n",
      " [11 12 13 14]]\n",
      "(3, 4)\n",
      "2\n"
     ]
    }
   ],
   "source": [
    "b1 = np.array([3,4,5,6,7,8,9,10,11,12,13,14])\n",
    "print(b1)\n",
    "print(b1.shape)\n",
    "print(b1.ndim)\n",
    "b2 = np.array([3,4,5,6,7,8,9,10,11,12,13,14]).reshape(3,4) \n",
    "# (2,6),(1,12),(4,3),(6,2),(12,1)\n",
    "print(b2)\n",
    "print(b2.shape)\n",
    "print(b2.ndim)"
   ]
  },
  {
   "cell_type": "code",
   "execution_count": 60,
   "id": "198794fe",
   "metadata": {},
   "outputs": [
    {
     "name": "stdout",
     "output_type": "stream",
     "text": [
      "[[ 3  4  5  6  7  8]\n",
      " [ 9 10 11 12 13 14]]\n"
     ]
    }
   ],
   "source": [
    "print(b2.reshape(2,6))  #rows=2, columns=6"
   ]
  },
  {
   "cell_type": "code",
   "execution_count": 62,
   "id": "0de79fd4",
   "metadata": {},
   "outputs": [
    {
     "name": "stdout",
     "output_type": "stream",
     "text": [
      "[[ 3  4  5  6]\n",
      " [ 7  8  9 10]\n",
      " [11 12 13 14]]\n",
      "(3, 4)\n"
     ]
    }
   ],
   "source": [
    "print(b2)\n",
    "print(b2.shape)"
   ]
  },
  {
   "cell_type": "code",
   "execution_count": 63,
   "id": "7361fd72",
   "metadata": {},
   "outputs": [
    {
     "name": "stdout",
     "output_type": "stream",
     "text": [
      "(3, 4)\n"
     ]
    }
   ],
   "source": [
    "print(b2.shape)"
   ]
  },
  {
   "cell_type": "code",
   "execution_count": 66,
   "id": "0a26d659",
   "metadata": {},
   "outputs": [
    {
     "name": "stdout",
     "output_type": "stream",
     "text": [
      "[[ 1  2  3]\n",
      " [ 4  5  6]\n",
      " [ 7  8  9]\n",
      " [10 11 12]\n",
      " [13 14 15]\n",
      " [16 17 18]]\n",
      "(6, 3)\n"
     ]
    }
   ],
   "source": [
    "b4 = np.arange(1,19).reshape(6,3)\n",
    "print(b4)\n",
    "print(b4.shape)"
   ]
  },
  {
   "cell_type": "code",
   "execution_count": 68,
   "id": "e1e733b2",
   "metadata": {},
   "outputs": [
    {
     "data": {
      "text/plain": [
       "array([[[ 1,  2,  3],\n",
       "        [ 4,  5,  6],\n",
       "        [ 7,  8,  9]],\n",
       "\n",
       "       [[10, 11, 12],\n",
       "        [13, 14, 15],\n",
       "        [16, 17, 18]]])"
      ]
     },
     "execution_count": 68,
     "metadata": {},
     "output_type": "execute_result"
    }
   ],
   "source": [
    "b4.reshape(2,3,3)"
   ]
  },
  {
   "cell_type": "code",
   "execution_count": 69,
   "id": "18ce4606",
   "metadata": {},
   "outputs": [
    {
     "name": "stdout",
     "output_type": "stream",
     "text": [
      "(6, 3)\n"
     ]
    }
   ],
   "source": [
    "print(b4.shape)"
   ]
  },
  {
   "cell_type": "code",
   "execution_count": 73,
   "id": "645b3e5c",
   "metadata": {},
   "outputs": [
    {
     "name": "stdout",
     "output_type": "stream",
     "text": [
      "[[ 1  2]\n",
      " [ 3  4]\n",
      " [ 5  6]\n",
      " [ 7  8]\n",
      " [ 9 10]\n",
      " [11 12]\n",
      " [13 14]\n",
      " [15 16]\n",
      " [17 18]]\n",
      "(9, 2)\n",
      "(6, 3)\n"
     ]
    }
   ],
   "source": [
    "h1 = b4.reshape(9,2)\n",
    "print(h1)\n",
    "print(h1.shape)\n",
    "print(b4.shape)"
   ]
  },
  {
   "cell_type": "code",
   "execution_count": 75,
   "id": "4ed834e7",
   "metadata": {},
   "outputs": [
    {
     "name": "stdout",
     "output_type": "stream",
     "text": [
      "[[[ 1  2  3]\n",
      "  [ 4  5  6]]\n",
      "\n",
      " [[ 7  8  9]\n",
      "  [10 11 12]]\n",
      "\n",
      " [[13 14 15]\n",
      "  [16 17 18]]]\n",
      "(3, 2, 3)\n"
     ]
    }
   ],
   "source": [
    "b4.shape = (3,2,3)\n",
    "print(b4)\n",
    "print(b4.shape)"
   ]
  },
  {
   "cell_type": "code",
   "execution_count": 76,
   "id": "b9aefbd1",
   "metadata": {},
   "outputs": [
    {
     "name": "stdout",
     "output_type": "stream",
     "text": [
      "[[[ 1  2]\n",
      "  [ 3  4]\n",
      "  [ 5  6]]\n",
      "\n",
      " [[ 7  8]\n",
      "  [ 9 10]\n",
      "  [11 12]]\n",
      "\n",
      " [[13 14]\n",
      "  [15 16]\n",
      "  [17 18]]]\n",
      "(3, 3, 2)\n"
     ]
    }
   ],
   "source": [
    "b4.shape = (3,3,2)\n",
    "print(b4)\n",
    "print(b4.shape)"
   ]
  },
  {
   "cell_type": "code",
   "execution_count": 90,
   "id": "aa21ccbd",
   "metadata": {},
   "outputs": [
    {
     "name": "stdout",
     "output_type": "stream",
     "text": [
      "[[[ 2]\n",
      "  [ 3]\n",
      "  [ 4]\n",
      "  [ 5]]\n",
      "\n",
      " [[ 6]\n",
      "  [ 7]\n",
      "  [ 8]\n",
      "  [ 9]]\n",
      "\n",
      " [[10]\n",
      "  [11]\n",
      "  [12]\n",
      "  [13]]]\n",
      "12\n",
      "(3, 4, 1)\n"
     ]
    }
   ],
   "source": [
    "# start=2,end=14,step=+1\n",
    "g1 = np.arange(2,14).reshape(3,4,1)\n",
    "print(g1)\n",
    "print(g1.size)\n",
    "print(g1.shape)"
   ]
  },
  {
   "cell_type": "code",
   "execution_count": null,
   "id": "ee542296",
   "metadata": {},
   "outputs": [],
   "source": []
  },
  {
   "cell_type": "markdown",
   "id": "ee6df7b6",
   "metadata": {},
   "source": [
    "### Numpy Random numbers"
   ]
  },
  {
   "cell_type": "markdown",
   "id": "adb6efea",
   "metadata": {},
   "source": [
    "#### 1) np.random.random()\n",
    "Return random floats in the half-open interval [0.0, 1.0)."
   ]
  },
  {
   "cell_type": "code",
   "execution_count": 99,
   "id": "097ecdf8",
   "metadata": {},
   "outputs": [
    {
     "name": "stdout",
     "output_type": "stream",
     "text": [
      "[0.55448144 0.75693054 0.12113331 0.00221774 0.0143285 ]\n",
      "[[0.10060629 0.94429267 0.52172658 0.58118992]\n",
      " [0.29244374 0.63002634 0.74761885 0.46337566]\n",
      " [0.88455617 0.3657981  0.42174514 0.98073619]]\n"
     ]
    }
   ],
   "source": [
    "a1 = np.random.random(5)\n",
    "print(a1)\n",
    "a2 = np.random.random((3,4))\n",
    "print(a2)"
   ]
  },
  {
   "cell_type": "markdown",
   "id": "18fe1759",
   "metadata": {},
   "source": [
    "#### 2) np.random.randint(low,high,size)\n",
    "Return random integers from `low` (inclusive) to `high` (exclusive).<br>\n",
    "low<high"
   ]
  },
  {
   "cell_type": "code",
   "execution_count": 120,
   "id": "1746dafb",
   "metadata": {},
   "outputs": [
    {
     "name": "stdout",
     "output_type": "stream",
     "text": [
      "[5 8 6 6]\n",
      "[93 70 81 79 94 69 69 91]\n"
     ]
    },
    {
     "ename": "ValueError",
     "evalue": "low >= high",
     "output_type": "error",
     "traceback": [
      "\u001b[1;31m---------------------------------------------------------------------------\u001b[0m",
      "\u001b[1;31mValueError\u001b[0m                                Traceback (most recent call last)",
      "\u001b[1;32m<ipython-input-120-4d8a9dd1135a>\u001b[0m in \u001b[0;36m<module>\u001b[1;34m\u001b[0m\n\u001b[0;32m      3\u001b[0m \u001b[0ma4\u001b[0m \u001b[1;33m=\u001b[0m \u001b[0mnp\u001b[0m\u001b[1;33m.\u001b[0m\u001b[0mrandom\u001b[0m\u001b[1;33m.\u001b[0m\u001b[0mrandint\u001b[0m\u001b[1;33m(\u001b[0m\u001b[1;36m50\u001b[0m\u001b[1;33m,\u001b[0m\u001b[1;36m100\u001b[0m\u001b[1;33m,\u001b[0m\u001b[1;36m8\u001b[0m\u001b[1;33m)\u001b[0m\u001b[1;33m\u001b[0m\u001b[1;33m\u001b[0m\u001b[0m\n\u001b[0;32m      4\u001b[0m \u001b[0mprint\u001b[0m\u001b[1;33m(\u001b[0m\u001b[0ma4\u001b[0m\u001b[1;33m)\u001b[0m\u001b[1;33m\u001b[0m\u001b[1;33m\u001b[0m\u001b[0m\n\u001b[1;32m----> 5\u001b[1;33m \u001b[0ma5\u001b[0m \u001b[1;33m=\u001b[0m \u001b[0mnp\u001b[0m\u001b[1;33m.\u001b[0m\u001b[0mrandom\u001b[0m\u001b[1;33m.\u001b[0m\u001b[0mrandint\u001b[0m\u001b[1;33m(\u001b[0m\u001b[1;36m20\u001b[0m\u001b[1;33m,\u001b[0m\u001b[1;36m5\u001b[0m\u001b[1;33m,\u001b[0m\u001b[1;36m4\u001b[0m\u001b[1;33m)\u001b[0m  \u001b[1;31m# Error, low<high\u001b[0m\u001b[1;33m\u001b[0m\u001b[1;33m\u001b[0m\u001b[0m\n\u001b[0m\u001b[0;32m      6\u001b[0m \u001b[0mprint\u001b[0m\u001b[1;33m(\u001b[0m\u001b[0ma5\u001b[0m\u001b[1;33m)\u001b[0m\u001b[1;33m\u001b[0m\u001b[1;33m\u001b[0m\u001b[0m\n",
      "\u001b[1;32mmtrand.pyx\u001b[0m in \u001b[0;36mnumpy.random.mtrand.RandomState.randint\u001b[1;34m()\u001b[0m\n",
      "\u001b[1;32m_bounded_integers.pyx\u001b[0m in \u001b[0;36mnumpy.random._bounded_integers._rand_int32\u001b[1;34m()\u001b[0m\n",
      "\u001b[1;31mValueError\u001b[0m: low >= high"
     ]
    }
   ],
   "source": [
    "a3 = np.random.randint(3,15,4)\n",
    "print(a3)\n",
    "a4 = np.random.randint(50,100,8)\n",
    "print(a4)\n",
    "a5 = np.random.randint(20,5,4)  # Error, low<high\n",
    "print(a5)"
   ]
  },
  {
   "cell_type": "markdown",
   "id": "9b201c90",
   "metadata": {},
   "source": [
    "#### 3) np.random.rand()\n",
    "Generates random values between [0, 1) in the given shape."
   ]
  },
  {
   "cell_type": "code",
   "execution_count": 125,
   "id": "778abd9a",
   "metadata": {},
   "outputs": [
    {
     "name": "stdout",
     "output_type": "stream",
     "text": [
      "[0.02669905 0.58751726 0.77483221 0.49472868 0.15754507]\n",
      "[[0.28153614 0.63547076]\n",
      " [0.58693073 0.8183821 ]\n",
      " [0.46992466 0.11801287]\n",
      " [0.87980122 0.58266   ]]\n",
      "[[0.95791169 0.44992162]\n",
      " [0.02935194 0.51311311]\n",
      " [0.85871365 0.57735988]\n",
      " [0.95351448 0.26064665]]\n"
     ]
    }
   ],
   "source": [
    "w1 = np.random.rand(5)\n",
    "print(w1)\n",
    "w2 = np.random.rand(4,2)\n",
    "print(w2)\n",
    "w3 = np.random.random((4,2))\n",
    "print(w3)"
   ]
  },
  {
   "cell_type": "code",
   "execution_count": 126,
   "id": "df59d25d",
   "metadata": {},
   "outputs": [],
   "source": [
    "import numpy as np"
   ]
  },
  {
   "cell_type": "code",
   "execution_count": 129,
   "id": "733f02a3",
   "metadata": {},
   "outputs": [
    {
     "name": "stdout",
     "output_type": "stream",
     "text": [
      "[[2.42766151e+01 4.19131124e+00 1.94008044e+01 2.07236123e+01\n",
      "  3.85037869e+01 2.31630917e+01 4.31661199e+01 2.29948896e+01\n",
      "  3.39507225e+00 3.95464842e+01]\n",
      " [4.72831753e+01 4.98623266e+01 4.95098798e+01 2.92299756e+00\n",
      "  3.35784643e+01 1.61542010e+01 1.81376978e+01 1.79637318e+01\n",
      "  1.92883454e+01 1.91718484e+01]\n",
      " [1.73546183e-01 1.22600549e+01 4.11865490e+01 2.39666623e+01\n",
      "  1.47374020e+01 2.93305558e+01 3.84803552e+01 4.40195667e+01\n",
      "  1.07496419e+01 3.61106775e+01]\n",
      " [4.63872920e+01 1.93279963e+01 4.63863125e+01 3.26471690e+01\n",
      "  4.29304095e+01 3.20588762e+01 2.70348101e-02 3.52421774e+01\n",
      "  4.55822527e+01 3.48473393e+01]\n",
      " [2.13991685e+01 4.66739869e+01 1.43356460e+01 3.22506169e+01\n",
      "  1.17818815e+01 1.00154304e+01 2.62325681e+01 6.53031990e+00\n",
      "  4.50080094e+01 1.89746707e+01]]\n"
     ]
    }
   ],
   "source": [
    "print(np.random.random((5,10))*50)"
   ]
  },
  {
   "cell_type": "code",
   "execution_count": null,
   "id": "6fa71286",
   "metadata": {},
   "outputs": [],
   "source": []
  }
 ],
 "metadata": {
  "kernelspec": {
   "display_name": "Python 3",
   "language": "python",
   "name": "python3"
  },
  "language_info": {
   "codemirror_mode": {
    "name": "ipython",
    "version": 3
   },
   "file_extension": ".py",
   "mimetype": "text/x-python",
   "name": "python",
   "nbconvert_exporter": "python",
   "pygments_lexer": "ipython3",
   "version": "3.8.8"
  }
 },
 "nbformat": 4,
 "nbformat_minor": 5
}
