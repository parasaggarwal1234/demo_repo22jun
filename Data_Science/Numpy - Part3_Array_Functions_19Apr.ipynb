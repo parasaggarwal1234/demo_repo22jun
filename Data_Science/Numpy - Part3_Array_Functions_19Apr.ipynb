{
 "cells": [
  {
   "cell_type": "code",
   "execution_count": 6,
   "metadata": {},
   "outputs": [
    {
     "name": "stdout",
     "output_type": "stream",
     "text": [
      "1.19.5\n"
     ]
    }
   ],
   "source": [
    "import numpy as np\n",
    "print(np.__version__)"
   ]
  },
  {
   "cell_type": "code",
   "execution_count": 7,
   "metadata": {},
   "outputs": [
    {
     "name": "stdout",
     "output_type": "stream",
     "text": [
      "618\n"
     ]
    }
   ],
   "source": [
    "print(len(dir(np)))"
   ]
  },
  {
   "cell_type": "markdown",
   "metadata": {},
   "source": [
    "## Numpy array functions"
   ]
  },
  {
   "cell_type": "code",
   "execution_count": 11,
   "metadata": {},
   "outputs": [
    {
     "name": "stdout",
     "output_type": "stream",
     "text": [
      "[[12 13  4]\n",
      " [15 17 16]\n",
      " [18 19 11]\n",
      " [16 22 20]]\n",
      "(4, 3)\n",
      "2\n"
     ]
    }
   ],
   "source": [
    "r1 = [[12,13,4],[15,17,16],[18,19,11],[16,22,20]]\n",
    "a1 = np.array(r1)\n",
    "print(a1)\n",
    "print(a1.shape)\n",
    "print(a1.ndim)"
   ]
  },
  {
   "cell_type": "markdown",
   "metadata": {},
   "source": [
    "### a) np.sum()"
   ]
  },
  {
   "cell_type": "code",
   "execution_count": 12,
   "metadata": {},
   "outputs": [
    {
     "name": "stdout",
     "output_type": "stream",
     "text": [
      "[[12 13  4]\n",
      " [15 17 16]\n",
      " [18 19 11]\n",
      " [16 22 20]]\n"
     ]
    }
   ],
   "source": [
    "print(a1)"
   ]
  },
  {
   "cell_type": "code",
   "execution_count": 17,
   "metadata": {},
   "outputs": [
    {
     "data": {
      "text/plain": [
       "183"
      ]
     },
     "execution_count": 17,
     "metadata": {},
     "output_type": "execute_result"
    }
   ],
   "source": [
    "a1.sum()"
   ]
  },
  {
   "cell_type": "code",
   "execution_count": 18,
   "metadata": {},
   "outputs": [
    {
     "name": "stdout",
     "output_type": "stream",
     "text": [
      "[[12 13  4]\n",
      " [15 17 16]\n",
      " [18 19 11]\n",
      " [16 22 20]]\n"
     ]
    }
   ],
   "source": [
    "print(a1)"
   ]
  },
  {
   "cell_type": "code",
   "execution_count": 21,
   "metadata": {},
   "outputs": [
    {
     "name": "stdout",
     "output_type": "stream",
     "text": [
      "[29 48 48 58]\n",
      "[61 71 51]\n"
     ]
    }
   ],
   "source": [
    "# Row wise addition, axis=1\n",
    "print(a1.sum(axis=1))\n",
    "# Column wise addition, axis=0\n",
    "print(a1.sum(axis=0))"
   ]
  },
  {
   "cell_type": "markdown",
   "metadata": {},
   "source": [
    "### b) np.max() and np.min()"
   ]
  },
  {
   "cell_type": "code",
   "execution_count": 22,
   "metadata": {},
   "outputs": [
    {
     "name": "stdout",
     "output_type": "stream",
     "text": [
      "[[12 13  4]\n",
      " [15 17 16]\n",
      " [18 19 11]\n",
      " [16 22 20]]\n"
     ]
    }
   ],
   "source": [
    "print(a1)"
   ]
  },
  {
   "cell_type": "code",
   "execution_count": 24,
   "metadata": {},
   "outputs": [
    {
     "name": "stdout",
     "output_type": "stream",
     "text": [
      "22\n",
      "4\n",
      "[[12 13  4]\n",
      " [15 17 16]\n",
      " [18 19 11]\n",
      " [16 22 20]]\n"
     ]
    }
   ],
   "source": [
    "print(np.max(a1))\n",
    "print(np.min(a1))\n",
    "print(a1)"
   ]
  },
  {
   "cell_type": "code",
   "execution_count": 151,
   "metadata": {},
   "outputs": [
    {
     "name": "stdout",
     "output_type": "stream",
     "text": [
      "[18 22 20]\n",
      "[13 17 19 22]\n",
      "[12 13  4]\n",
      "[ 4 15 11 16]\n"
     ]
    }
   ],
   "source": [
    "# axis=1 => Rows\n",
    "# axis=0 => Columns\n",
    "print(np.max(a1,axis=0))\n",
    "print(np.max(a1,axis=1))\n",
    "print(np.min(a1,axis=0))\n",
    "print(np.min(a1,axis=1))"
   ]
  },
  {
   "cell_type": "markdown",
   "metadata": {},
   "source": [
    "### c) np.argmax() and np.argmin()\n",
    "<b>np.argmax()</b> - Returns the indices of the maximum values along an axis <br>  \n",
    "<b>np.argmin() </b>- Returns the indices of the minimum values along an axis "
   ]
  },
  {
   "cell_type": "code",
   "execution_count": 25,
   "metadata": {},
   "outputs": [
    {
     "name": "stdout",
     "output_type": "stream",
     "text": [
      "[12 14  7 79 32 45 28  4 17]\n"
     ]
    }
   ],
   "source": [
    "p1 = np.array([12,14,7,79,32,45,28,4,17])\n",
    "print(p1)"
   ]
  },
  {
   "cell_type": "code",
   "execution_count": 26,
   "metadata": {},
   "outputs": [
    {
     "name": "stdout",
     "output_type": "stream",
     "text": [
      "79\n",
      "4\n"
     ]
    }
   ],
   "source": [
    "print(np.max(p1))\n",
    "print(np.min(p1))"
   ]
  },
  {
   "cell_type": "code",
   "execution_count": 28,
   "metadata": {},
   "outputs": [
    {
     "name": "stdout",
     "output_type": "stream",
     "text": [
      "3\n",
      "7\n"
     ]
    }
   ],
   "source": [
    "print(np.argmax(p1))\n",
    "print(np.argmin(p1))"
   ]
  },
  {
   "cell_type": "code",
   "execution_count": 33,
   "metadata": {},
   "outputs": [
    {
     "name": "stdout",
     "output_type": "stream",
     "text": [
      "[12 14  7 79 32 45 28  4 17]\n",
      "79\n",
      "Max_value is  79\n",
      "Min_value is  4\n"
     ]
    }
   ],
   "source": [
    "print(p1)\n",
    "print(p1[3])\n",
    "max_value = p1[np.argmax(p1)]\n",
    "min_value = p1[np.argmin(p1)]\n",
    "print('Max_value is ',max_value)\n",
    "print('Min_value is ',min_value)"
   ]
  },
  {
   "cell_type": "code",
   "execution_count": 34,
   "metadata": {},
   "outputs": [
    {
     "name": "stdout",
     "output_type": "stream",
     "text": [
      "[[16 15 21]\n",
      " [15 16  8]\n",
      " [19  2 18]\n",
      " [ 9 12 13]]\n"
     ]
    }
   ],
   "source": [
    "r2 = [[16,15,21],[15,16,8],[19,2,18],[9,12,13]]\n",
    "p2 = np.array(r2)\n",
    "print(p2)"
   ]
  },
  {
   "cell_type": "code",
   "execution_count": 36,
   "metadata": {},
   "outputs": [
    {
     "name": "stdout",
     "output_type": "stream",
     "text": [
      "[2 1 0]\n",
      "[3 2 1]\n",
      "[2 1 0 2]\n",
      "[1 2 1 0]\n"
     ]
    }
   ],
   "source": [
    "print(np.argmax(p2,axis=0))  # column wise\n",
    "print(np.argmin(p2,axis=0))  # column wise\n",
    "print(np.argmax(p2,axis=1))  # row wise\n",
    "print(np.argmin(p2,axis=1))  # row wise"
   ]
  },
  {
   "cell_type": "markdown",
   "metadata": {},
   "source": [
    "### d) np.sort"
   ]
  },
  {
   "cell_type": "code",
   "execution_count": 39,
   "metadata": {},
   "outputs": [
    {
     "name": "stdout",
     "output_type": "stream",
     "text": [
      "[34 23 56 12 39]\n"
     ]
    }
   ],
   "source": [
    "r1 = np.array([34,23,56,12,39])\n",
    "print(r1)          "
   ]
  },
  {
   "cell_type": "code",
   "execution_count": 41,
   "metadata": {},
   "outputs": [
    {
     "name": "stdout",
     "output_type": "stream",
     "text": [
      "[12 23 34 39 56]\n",
      "[56 39 34 23 12]\n"
     ]
    }
   ],
   "source": [
    "r2 = np.sort(r1) # ascending order\n",
    "print(r2)\n",
    "r2 = np.sort(r1)[::-1] # descending order\n",
    "print(r2)"
   ]
  },
  {
   "cell_type": "code",
   "execution_count": 44,
   "metadata": {},
   "outputs": [
    {
     "name": "stdout",
     "output_type": "stream",
     "text": [
      "[12 23 34 39 56]\n"
     ]
    }
   ],
   "source": [
    "r1 = np.sort(r1)\n",
    "print(r1)"
   ]
  },
  {
   "cell_type": "code",
   "execution_count": 45,
   "metadata": {},
   "outputs": [
    {
     "name": "stdout",
     "output_type": "stream",
     "text": [
      "[[11 21 18]\n",
      " [24 35 16]\n",
      " [ 7 14  3]]\n"
     ]
    }
   ],
   "source": [
    "r3 = np.array([[11,21,18],[24,35,16],[7,14,3]])\n",
    "print(r3)"
   ]
  },
  {
   "cell_type": "code",
   "execution_count": 46,
   "metadata": {},
   "outputs": [
    {
     "name": "stdout",
     "output_type": "stream",
     "text": [
      "[[11 18 21]\n",
      " [16 24 35]\n",
      " [ 3  7 14]]\n",
      "[[ 7 14  3]\n",
      " [11 21 16]\n",
      " [24 35 18]]\n"
     ]
    }
   ],
   "source": [
    "# sorts row wise\n",
    "r4 = np.sort(r3,axis=1)\n",
    "print(r4)\n",
    "# sorts column wise\n",
    "r5 = np.sort(r3,axis=0)\n",
    "print(r5)"
   ]
  },
  {
   "cell_type": "code",
   "execution_count": 47,
   "metadata": {},
   "outputs": [
    {
     "name": "stdout",
     "output_type": "stream",
     "text": [
      "[[11 18 21]\n",
      " [16 24 35]\n",
      " [ 3  7 14]]\n"
     ]
    }
   ],
   "source": [
    "r6 = np.sort(r3) # default sort order is row wise\n",
    "print(r6)"
   ]
  },
  {
   "cell_type": "markdown",
   "metadata": {},
   "source": [
    "### e) np.where() - returns index position for the matching conditions"
   ]
  },
  {
   "cell_type": "code",
   "execution_count": 48,
   "metadata": {},
   "outputs": [
    {
     "name": "stdout",
     "output_type": "stream",
     "text": [
      "[12 14  7 79 32 45 28  4 17]\n"
     ]
    }
   ],
   "source": [
    "p1 = np.array([12,14,7,79,32,45,28,4,17])\n",
    "print(p1)"
   ]
  },
  {
   "cell_type": "code",
   "execution_count": 51,
   "metadata": {},
   "outputs": [
    {
     "name": "stdout",
     "output_type": "stream",
     "text": [
      "(array([0, 5], dtype=int64),)\n",
      "[12 45]\n"
     ]
    }
   ],
   "source": [
    "n2 = np.where(p1%3==0)\n",
    "print(n2)\n",
    "print(p1[np.where(p1%3==0)])"
   ]
  },
  {
   "cell_type": "code",
   "execution_count": 52,
   "metadata": {},
   "outputs": [
    {
     "name": "stdout",
     "output_type": "stream",
     "text": [
      "[12 14  7 79 32 45 28  4 17]\n",
      "(array([0, 1, 2, 7, 8], dtype=int64),)\n",
      "[12 14  7  4 17]\n"
     ]
    }
   ],
   "source": [
    "print(p1)\n",
    "print(np.where(p1 < 20))\n",
    "print(p1[np.where(p1 < 20)])"
   ]
  },
  {
   "cell_type": "markdown",
   "metadata": {},
   "source": [
    "#### Type-2"
   ]
  },
  {
   "cell_type": "code",
   "execution_count": 54,
   "metadata": {},
   "outputs": [
    {
     "name": "stdout",
     "output_type": "stream",
     "text": [
      "[12 14  7 79 32 45 28  4 17]\n",
      "[ 17  19  12 158  64  90  56   9  22]\n",
      "[22 24  0 72 42 38 38 14 10]\n"
     ]
    }
   ],
   "source": [
    "print(p1)\n",
    "t1 = np.where(p1 < 20, p1+5, p1*2)\n",
    "# if p1<20, then add 5 to those values, else multiply them by 2\n",
    "print(t1)\n",
    "t2 = np.where(p1%2==0, p1+10, p1-7)\n",
    "# if p1%2==0, then add 10 to those values, else subtract 7 from them\n",
    "print(t2)"
   ]
  },
  {
   "cell_type": "code",
   "execution_count": 55,
   "metadata": {},
   "outputs": [
    {
     "name": "stdout",
     "output_type": "stream",
     "text": [
      "[[ 1  2  7]\n",
      " [ 3  4 -8]\n",
      " [ 5  6  0]]\n"
     ]
    }
   ],
   "source": [
    "w1 = np.array([[1,2,7],[3,4,-8],[5,6,0]])\n",
    "print(w1)"
   ]
  },
  {
   "cell_type": "code",
   "execution_count": 56,
   "metadata": {},
   "outputs": [
    {
     "name": "stdout",
     "output_type": "stream",
     "text": [
      "(array([0, 1, 1, 2, 2], dtype=int64), array([1, 1, 2, 1, 2], dtype=int64))\n",
      "[ 2  4 -8  6  0]\n"
     ]
    }
   ],
   "source": [
    "print(np.where(w1%2==0))\n",
    "print(w1[np.where(w1%2==0)])"
   ]
  },
  {
   "cell_type": "code",
   "execution_count": 59,
   "metadata": {},
   "outputs": [
    {
     "name": "stdout",
     "output_type": "stream",
     "text": [
      "[[ 1  2  7]\n",
      " [ 3  4 -8]\n",
      " [ 5  6  0]]\n",
      "[[-4  7  2]\n",
      " [-2  9 -3]\n",
      " [ 0 11  5]]\n"
     ]
    }
   ],
   "source": [
    "print(w1)\n",
    "t1 = np.where(w1%2==0,w1+5,w1-5)\n",
    "print(t1)"
   ]
  },
  {
   "cell_type": "markdown",
   "metadata": {},
   "source": [
    "### f) np.extract() - \n",
    "Directly returns the values on which conditions are applied,using the second parameter as array name"
   ]
  },
  {
   "cell_type": "code",
   "execution_count": 60,
   "metadata": {},
   "outputs": [
    {
     "name": "stdout",
     "output_type": "stream",
     "text": [
      "[12 14  7 79 32 45 28  4 17]\n",
      "[79 32 45 28]\n",
      "[14  7 79 32 28  4 17]\n"
     ]
    }
   ],
   "source": [
    "print(p1)\n",
    "t1 = np.extract(p1>20, p1)\n",
    "print(t1)\n",
    "t2 = np.extract(p1%3!=0,p1)\n",
    "print(t2)"
   ]
  },
  {
   "cell_type": "code",
   "execution_count": 61,
   "metadata": {},
   "outputs": [
    {
     "name": "stdout",
     "output_type": "stream",
     "text": [
      "[[ 1  2  7]\n",
      " [ 3  4  8]\n",
      " [ 5  6 13]]\n"
     ]
    }
   ],
   "source": [
    "w1 = np.array([[1,2,7],[3,4,8],[5,6,13]])\n",
    "print(w1)"
   ]
  },
  {
   "cell_type": "code",
   "execution_count": 62,
   "metadata": {},
   "outputs": [
    {
     "name": "stdout",
     "output_type": "stream",
     "text": [
      "[ 1  2  7  4  8  5 13]\n"
     ]
    }
   ],
   "source": [
    "w2 = np.extract(w1%3!=0,w1)\n",
    "print(w2)"
   ]
  },
  {
   "cell_type": "code",
   "execution_count": 64,
   "metadata": {},
   "outputs": [
    {
     "name": "stdout",
     "output_type": "stream",
     "text": [
      "[ 1  2  7  4  8  5 13]\n"
     ]
    }
   ],
   "source": [
    "res = w1[w1%3!=0]\n",
    "print(res)"
   ]
  },
  {
   "cell_type": "markdown",
   "metadata": {},
   "source": [
    "### g) np.concatenate()\n",
    "Join a sequence of arrays along an existing axis."
   ]
  },
  {
   "cell_type": "code",
   "execution_count": 66,
   "metadata": {},
   "outputs": [
    {
     "name": "stdout",
     "output_type": "stream",
     "text": [
      "[12 13 14 15]\n",
      "[18 19 20 21 22]\n"
     ]
    }
   ],
   "source": [
    "w1 = np.array([12,13,14,15])\n",
    "w2 = np.array([18,19,20,21,22])\n",
    "print(w1)\n",
    "print(w2)"
   ]
  },
  {
   "cell_type": "code",
   "execution_count": 71,
   "metadata": {},
   "outputs": [
    {
     "name": "stdout",
     "output_type": "stream",
     "text": [
      "[12 13 14 15 18 19 20 21 22]\n",
      "[18 19 20 21 22 12 13 14 15]\n"
     ]
    }
   ],
   "source": [
    "r1 = np.concatenate([w1,w2])\n",
    "print(r1)\n",
    "r2 = np.concatenate([w2,w1])\n",
    "print(r2)"
   ]
  },
  {
   "cell_type": "code",
   "execution_count": 74,
   "metadata": {},
   "outputs": [
    {
     "name": "stdout",
     "output_type": "stream",
     "text": [
      "[[1 2 3]\n",
      " [4 5 6]]\n",
      "[[ 7  8  9]\n",
      " [10 11 13]]\n",
      "(2, 3) (2, 3)\n"
     ]
    }
   ],
   "source": [
    "d1 = np.array([[1,2,3],[4,5,6]])\n",
    "d2 = np.array([[7,8,9],[10,11,13]])\n",
    "print(d1)\n",
    "print(d2)\n",
    "print(d1.shape,d2.shape)"
   ]
  },
  {
   "cell_type": "code",
   "execution_count": 76,
   "metadata": {},
   "outputs": [
    {
     "name": "stdout",
     "output_type": "stream",
     "text": [
      "[[ 1  2  3]\n",
      " [ 4  5  6]\n",
      " [ 7  8  9]\n",
      " [10 11 13]]\n",
      "[[ 1  2  3  7  8  9]\n",
      " [ 4  5  6 10 11 13]]\n"
     ]
    }
   ],
   "source": [
    "r2 = np.concatenate([d1,d2],axis=0)  # column wise (Column wise append)\n",
    "print(r2)\n",
    "r3 = np.concatenate([d1,d2],axis=1) # row wise (row wise append)\n",
    "print(r3)"
   ]
  },
  {
   "cell_type": "markdown",
   "metadata": {},
   "source": [
    "### Iterating over numpy array - np.nditer()"
   ]
  },
  {
   "cell_type": "code",
   "execution_count": 78,
   "metadata": {},
   "outputs": [
    {
     "name": "stdout",
     "output_type": "stream",
     "text": [
      "[12 14  7 79 32 45]\n"
     ]
    },
    {
     "data": {
      "text/plain": [
       "numpy.ndarray"
      ]
     },
     "execution_count": 78,
     "metadata": {},
     "output_type": "execute_result"
    }
   ],
   "source": [
    "p1 = np.array([12, 14,  7, 79, 32, 45])\n",
    "print(p1)\n",
    "type(p1)"
   ]
  },
  {
   "cell_type": "code",
   "execution_count": 82,
   "metadata": {},
   "outputs": [
    {
     "name": "stdout",
     "output_type": "stream",
     "text": [
      "12\n",
      "14\n",
      "7\n",
      "79\n",
      "32\n",
      "45\n"
     ]
    }
   ],
   "source": [
    "for i in p1:\n",
    "    print(i)"
   ]
  },
  {
   "cell_type": "code",
   "execution_count": 83,
   "metadata": {},
   "outputs": [
    {
     "name": "stdout",
     "output_type": "stream",
     "text": [
      "12\n",
      "14\n",
      "7\n",
      "79\n",
      "32\n",
      "45\n"
     ]
    }
   ],
   "source": [
    "for i in np.nditer(p1):\n",
    "    print(i)"
   ]
  },
  {
   "cell_type": "code",
   "execution_count": 84,
   "metadata": {},
   "outputs": [
    {
     "name": "stdout",
     "output_type": "stream",
     "text": [
      "[[ 2 10 18]\n",
      " [26 34 42]\n",
      " [50 58 66]]\n"
     ]
    }
   ],
   "source": [
    "n1 = np.arange(2,70,8).reshape(3,3)\n",
    "print(n1)"
   ]
  },
  {
   "cell_type": "code",
   "execution_count": 87,
   "metadata": {},
   "outputs": [
    {
     "name": "stdout",
     "output_type": "stream",
     "text": [
      "[ 2 10 18]\n",
      "[26 34 42]\n",
      "[50 58 66]\n"
     ]
    }
   ],
   "source": [
    "# Row wise Iteration\n",
    "for i in n1:\n",
    "    print(i)"
   ]
  },
  {
   "cell_type": "code",
   "execution_count": 89,
   "metadata": {},
   "outputs": [
    {
     "name": "stdout",
     "output_type": "stream",
     "text": [
      "2 10 18 26 34 42 50 58 66 "
     ]
    }
   ],
   "source": [
    "# Element wise Iteration\n",
    "for i in np.nditer(n1):\n",
    "    print(i,end=' ')"
   ]
  },
  {
   "cell_type": "code",
   "execution_count": 90,
   "metadata": {},
   "outputs": [
    {
     "name": "stdout",
     "output_type": "stream",
     "text": [
      "[[ 2 10 18]\n",
      " [26 34 42]\n",
      " [50 58 66]]\n"
     ]
    }
   ],
   "source": [
    "print(n1)"
   ]
  },
  {
   "cell_type": "code",
   "execution_count": 182,
   "metadata": {},
   "outputs": [
    {
     "name": "stdout",
     "output_type": "stream",
     "text": [
      "2 10 18 26 34 42 50 58 66 "
     ]
    }
   ],
   "source": [
    "for i in np.nditer(n1):  \n",
    "    print(i,end=' ')"
   ]
  },
  {
   "cell_type": "code",
   "execution_count": 96,
   "metadata": {},
   "outputs": [
    {
     "name": "stdout",
     "output_type": "stream",
     "text": [
      "[[ 2 10 18]\n",
      " [26 34 42]\n",
      " [50 58 66]]\n",
      "2 10 18 26 34 42 50 58 66 "
     ]
    }
   ],
   "source": [
    "print(n1)\n",
    "for i in np.nditer(n1,order='K'):  # order= 'C', iterates element row wise\n",
    "    print(i,end=' ')\n",
    "    \n",
    "# order='A','K'"
   ]
  },
  {
   "cell_type": "code",
   "execution_count": 92,
   "metadata": {},
   "outputs": [
    {
     "name": "stdout",
     "output_type": "stream",
     "text": [
      "[[ 2 10 18]\n",
      " [26 34 42]\n",
      " [50 58 66]]\n",
      "2 26 50 10 34 58 18 42 66 "
     ]
    }
   ],
   "source": [
    "print(n1)\n",
    "for i in np.nditer(n1,order='F'):  # order= 'F', print element column wise\n",
    "    print(i,end=' ')"
   ]
  },
  {
   "cell_type": "code",
   "execution_count": 98,
   "metadata": {},
   "outputs": [
    {
     "name": "stdout",
     "output_type": "stream",
     "text": [
      "[[100 101 102]\n",
      " [103 104 105]\n",
      " [106 107 108]]\n",
      "[[ 2 10 18]\n",
      " [26 34 42]\n",
      " [50 58 66]]\n"
     ]
    }
   ],
   "source": [
    "n2 = np.arange(100,109).reshape(3,3)\n",
    "print(n2)\n",
    "print(n1)"
   ]
  },
  {
   "cell_type": "code",
   "execution_count": 101,
   "metadata": {},
   "outputs": [
    {
     "name": "stdout",
     "output_type": "stream",
     "text": [
      "2 100\n",
      "10 101\n",
      "18 102\n",
      "26 103\n",
      "34 104\n",
      "42 105\n",
      "50 106\n",
      "58 107\n",
      "66 108\n"
     ]
    }
   ],
   "source": [
    "for x,y in np.nditer([n1,n2]):  # row wise\n",
    "    print(x,y)"
   ]
  },
  {
   "cell_type": "code",
   "execution_count": 102,
   "metadata": {},
   "outputs": [
    {
     "name": "stdout",
     "output_type": "stream",
     "text": [
      "2 100\n",
      "26 103\n",
      "50 106\n",
      "10 101\n",
      "34 104\n",
      "58 107\n",
      "18 102\n",
      "42 105\n",
      "66 108\n"
     ]
    }
   ],
   "source": [
    "for x,y in np.nditer([n1,n2],order='F'):  # column wise\n",
    "    print(x,y)"
   ]
  },
  {
   "cell_type": "code",
   "execution_count": null,
   "metadata": {},
   "outputs": [],
   "source": []
  },
  {
   "cell_type": "markdown",
   "metadata": {},
   "source": [
    "## Matrix related Operations  - Multiply, Transpose, Flatten"
   ]
  },
  {
   "cell_type": "code",
   "execution_count": 104,
   "metadata": {},
   "outputs": [
    {
     "name": "stdout",
     "output_type": "stream",
     "text": [
      "[[ 2  4  6]\n",
      " [ 8 10 12]\n",
      " [14 16 18]]\n"
     ]
    }
   ],
   "source": [
    "r1 = np.arange(2,20,2).reshape(3,3)\n",
    "print(r1)  "
   ]
  },
  {
   "cell_type": "code",
   "execution_count": 108,
   "metadata": {},
   "outputs": [
    {
     "name": "stdout",
     "output_type": "stream",
     "text": [
      "[[ 2  8 14]\n",
      " [ 4 10 16]\n",
      " [ 6 12 18]]\n",
      "[[ 2  8 14]\n",
      " [ 4 10 16]\n",
      " [ 6 12 18]]\n",
      "[[ 2  8 14]\n",
      " [ 4 10 16]\n",
      " [ 6 12 18]]\n"
     ]
    }
   ],
   "source": [
    "print(r1.T) # T = Transpose\n",
    "print(r1.transpose())\n",
    "print(np.transpose(r1))"
   ]
  },
  {
   "cell_type": "code",
   "execution_count": 110,
   "metadata": {},
   "outputs": [
    {
     "name": "stdout",
     "output_type": "stream",
     "text": [
      "[[ 2  4  6]\n",
      " [ 8 10 12]\n",
      " [14 16 18]]\n",
      "[ 2  4  6  8 10 12 14 16 18]\n",
      "[ 2  8 14  4 10 16  6 12 18]\n"
     ]
    }
   ],
   "source": [
    "print(r1)\n",
    "print(r1.flatten())           # Flatten the row wise\n",
    "print(r1.flatten(order='F'))  # Flatten the column wise "
   ]
  },
  {
   "cell_type": "code",
   "execution_count": 114,
   "metadata": {},
   "outputs": [
    {
     "name": "stdout",
     "output_type": "stream",
     "text": [
      "[[8 5 0]\n",
      " [2 9 6]\n",
      " [4 1 7]]\n",
      "[[3 7 9]\n",
      " [4 1 0]\n",
      " [5 6 2]]\n",
      "(3, 3)\n",
      "(3, 3)\n"
     ]
    }
   ],
   "source": [
    "a1 = np.array([8,5,0,2,9,6,4,1,7]).reshape(3,3)\n",
    "a2 = np.array([3,7,9,4,1,0,5,6,2]).reshape(3,3)\n",
    "print(a1)\n",
    "print(a2)\n",
    "print(a1.shape)\n",
    "print(a2.shape)"
   ]
  },
  {
   "cell_type": "markdown",
   "metadata": {},
   "source": [
    "### Matrix Multiplication"
   ]
  },
  {
   "cell_type": "code",
   "execution_count": 116,
   "metadata": {},
   "outputs": [
    {
     "name": "stdout",
     "output_type": "stream",
     "text": [
      "[[44 61 72]\n",
      " [72 59 30]\n",
      " [51 71 50]]\n"
     ]
    }
   ],
   "source": [
    "# Actual Matrix multiplication\n",
    "r2 = np.matmul(a1,a2)\n",
    "print(r2)"
   ]
  },
  {
   "cell_type": "code",
   "execution_count": 117,
   "metadata": {},
   "outputs": [
    {
     "name": "stdout",
     "output_type": "stream",
     "text": [
      "[[44 61 72]\n",
      " [72 59 30]\n",
      " [51 71 50]]\n"
     ]
    }
   ],
   "source": [
    "# Actual Matrix multiplication\n",
    "r2 = np.dot(a1,a2)\n",
    "print(r2)"
   ]
  },
  {
   "cell_type": "code",
   "execution_count": 128,
   "metadata": {},
   "outputs": [
    {
     "name": "stdout",
     "output_type": "stream",
     "text": [
      "[[2 3 4]\n",
      " [5 6 7]]\n",
      "[[10 11]\n",
      " [12 13]\n",
      " [14 15]]\n",
      "[[112 121]\n",
      " [220 238]]\n"
     ]
    }
   ],
   "source": [
    "w1 = np.arange(2,8).reshape(2,3)  # (2,3)   # w1(3,2) w2(2,3) => res(3,3)\n",
    "print(w1)\n",
    "w2 = np.arange(10,16).reshape(3,2) # (3,2)\n",
    "print(w2)\n",
    "res1 = np.dot(w1,w2)\n",
    "print(res1)\n",
    "\n",
    "# a1(n,m), a2(p,q)\n",
    "# => if m=p\n",
    "# => resultant shape => (n,q)"
   ]
  },
  {
   "cell_type": "code",
   "execution_count": 127,
   "metadata": {},
   "outputs": [
    {
     "name": "stdout",
     "output_type": "stream",
     "text": [
      "[[ 1  2  3]\n",
      " [ 4  5  6]\n",
      " [ 7  8  9]\n",
      " [10 11 12]\n",
      " [13 14 15]]\n",
      "[[10 11]\n",
      " [12 13]\n",
      " [14 15]]\n",
      "[[ 76  82]\n",
      " [184 199]\n",
      " [292 316]\n",
      " [400 433]\n",
      " [508 550]]\n"
     ]
    }
   ],
   "source": [
    "w1 = np.arange(1,16).reshape(5,3)  # (5,3)\n",
    "print(w1)\n",
    "w2 = np.arange(10,16).reshape(3,2) # (3,2)\n",
    "print(w2)\n",
    "res1 = np.dot(w1,w2)\n",
    "print(res1)\n",
    "\n",
    "# a1(n,m), a2(p,q)\n",
    "# => if m=p\n",
    "# => resultant shape => (n,q)"
   ]
  },
  {
   "cell_type": "code",
   "execution_count": 129,
   "metadata": {},
   "outputs": [
    {
     "name": "stdout",
     "output_type": "stream",
     "text": [
      "[[8 5 0]\n",
      " [2 9 6]\n",
      " [4 1 7]]\n",
      "[[3 7 9]\n",
      " [4 1 0]\n",
      " [5 6 2]]\n"
     ]
    }
   ],
   "source": [
    "print(a1)\n",
    "print(a2)"
   ]
  },
  {
   "cell_type": "code",
   "execution_count": 130,
   "metadata": {},
   "outputs": [
    {
     "name": "stdout",
     "output_type": "stream",
     "text": [
      "[[24 35  0]\n",
      " [ 8  9  0]\n",
      " [20  6 14]]\n"
     ]
    }
   ],
   "source": [
    "# Element wise multiplication\n",
    "r3 = np.multiply(a1,a2)\n",
    "print(r3)"
   ]
  },
  {
   "cell_type": "markdown",
   "metadata": {},
   "source": [
    "### Trignometric, Statistical functions"
   ]
  },
  {
   "cell_type": "markdown",
   "metadata": {},
   "source": [
    "<img src=\"trigno_table.png\">"
   ]
  },
  {
   "cell_type": "code",
   "execution_count": 142,
   "metadata": {},
   "outputs": [
    {
     "name": "stdout",
     "output_type": "stream",
     "text": [
      "0.7071067811865476\n",
      "0\n",
      "2.718281828459045\n"
     ]
    }
   ],
   "source": [
    "a1 = np.sin(45*(np.pi/180))\n",
    "a2 = int(np.cos(np.pi/2))\n",
    "a3 = np.exp(1)\n",
    "print(a1)\n",
    "print(a2)\n",
    "print(a3)"
   ]
  },
  {
   "cell_type": "code",
   "execution_count": 139,
   "metadata": {},
   "outputs": [
    {
     "name": "stdout",
     "output_type": "stream",
     "text": [
      "0.6931471805599453\n",
      "0.3010299956639812\n",
      "1.0\n"
     ]
    }
   ],
   "source": [
    "n1 = np.log(2)\n",
    "n2 = np.log10(2)\n",
    "n3 = np.log2(2)\n",
    "print(n1)\n",
    "print(n2)\n",
    "print(n3)"
   ]
  },
  {
   "cell_type": "code",
   "execution_count": null,
   "metadata": {},
   "outputs": [],
   "source": []
  },
  {
   "cell_type": "code",
   "execution_count": null,
   "metadata": {},
   "outputs": [],
   "source": []
  }
 ],
 "metadata": {
  "kernelspec": {
   "display_name": "Python 3",
   "language": "python",
   "name": "python3"
  },
  "language_info": {
   "codemirror_mode": {
    "name": "ipython",
    "version": 3
   },
   "file_extension": ".py",
   "mimetype": "text/x-python",
   "name": "python",
   "nbconvert_exporter": "python",
   "pygments_lexer": "ipython3",
   "version": "3.8.8"
  }
 },
 "nbformat": 4,
 "nbformat_minor": 2
}
