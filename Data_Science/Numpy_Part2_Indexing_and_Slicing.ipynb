{
 "cells": [
  {
   "cell_type": "code",
   "execution_count": 1,
   "metadata": {},
   "outputs": [],
   "source": [
    "import numpy as np"
   ]
  },
  {
   "cell_type": "markdown",
   "metadata": {},
   "source": [
    "<img src=\"2d_indexing_slicing.png\">"
   ]
  },
  {
   "cell_type": "markdown",
   "metadata": {},
   "source": [
    "### 1D Indexing and Slicing"
   ]
  },
  {
   "cell_type": "code",
   "execution_count": 4,
   "metadata": {},
   "outputs": [
    {
     "name": "stdout",
     "output_type": "stream",
     "text": [
      "[12 13 14 15 16 17 18 19 20 21 22 23 24 25]\n",
      "14\n",
      "1\n",
      "(14,)\n"
     ]
    }
   ],
   "source": [
    "a = np.array([12,13,14,15,16,17,18,19,20,21,22,23,24,25])\n",
    "print(a)\n",
    "print(len(a))\n",
    "print(a.ndim)\n",
    "print(a.shape)"
   ]
  },
  {
   "cell_type": "markdown",
   "metadata": {},
   "source": [
    "### 1D Indexing"
   ]
  },
  {
   "cell_type": "code",
   "execution_count": 6,
   "metadata": {},
   "outputs": [
    {
     "name": "stdout",
     "output_type": "stream",
     "text": [
      "[12 13 14 15 16 17 18 19 20 21 22 23 24 25]\n",
      "12\n",
      "16\n",
      "20\n",
      "24\n",
      "19\n",
      "21\n"
     ]
    }
   ],
   "source": [
    "# Indexing in 1D array\n",
    "print(a)\n",
    "print(a[0]) # 12\n",
    "print(a[4]) # 16\n",
    "print(a[8]) # 20 \n",
    "print(a[-2]) # 24 \n",
    "print(a[-7]) # 19\n",
    "print(a[-5]) # 21"
   ]
  },
  {
   "cell_type": "markdown",
   "metadata": {},
   "source": [
    "### 1D Slicing\n",
    "Syntax - array_name[start : end : step]"
   ]
  },
  {
   "cell_type": "code",
   "execution_count": 7,
   "metadata": {},
   "outputs": [
    {
     "name": "stdout",
     "output_type": "stream",
     "text": [
      "[12 13 14 15 16 17 18 19 20 21 22 23 24 25]\n",
      "[14 15 16]\n",
      "[15 16 17 18 19 20 21 22 23 24 25]\n",
      "[12 13 14 15 16 17]\n",
      "[22 23 24 25]\n",
      "[12 13 14 15 16 17 18 19]\n",
      "[12 13 14 15 16 17 18 19 20 21 22 23 24 25]\n",
      "[13 15 17 19]\n",
      "[15 16 17 18]\n",
      "[15 17]\n",
      "[24 22 20]\n",
      "[24 21 18]\n",
      "[15 18]\n"
     ]
    }
   ],
   "source": [
    "print(a)\n",
    "print(a[2:5])\n",
    "print(a[3:])\n",
    "print(a[:6])\n",
    "print(a[-4:])\n",
    "print(a[:-6])\n",
    "print(a[:])\n",
    "print(a[1:8:2])\n",
    "print(a[3:-7])\n",
    "print(a[3:-7:2])\n",
    "print(a[-2:-8:-2])\n",
    "print(a[-2:3:-3])\n",
    "print(a[3:8:3])"
   ]
  },
  {
   "cell_type": "markdown",
   "metadata": {},
   "source": [
    "### 2D Indexing and Slicing"
   ]
  },
  {
   "cell_type": "code",
   "execution_count": 11,
   "metadata": {},
   "outputs": [
    {
     "name": "stdout",
     "output_type": "stream",
     "text": [
      "[[31 32 33 34]\n",
      " [35 36 37 38]\n",
      " [39 40 41 42]\n",
      " [43 44 45 46]]\n",
      "2\n",
      "(4, 4)\n"
     ]
    }
   ],
   "source": [
    "b = np.array([[31,32,33,34],[35,36,37,38],\n",
    "              [39,40,41,42],[43,44,45,46]])\n",
    "print(b)\n",
    "print(b.ndim)\n",
    "print(b.shape)"
   ]
  },
  {
   "cell_type": "markdown",
   "metadata": {},
   "source": [
    "### 2D Indexing\n",
    "In rows<br>\n",
    "a) Left to Right traversal is equivalent to Top to bottom<br>\n",
    "b) Right to Left traversal is equivalent to Bottom to Top<br>"
   ]
  },
  {
   "cell_type": "markdown",
   "metadata": {},
   "source": [
    "<img src=\"2d_indexing_slicing.png\">"
   ]
  },
  {
   "cell_type": "code",
   "execution_count": 13,
   "metadata": {},
   "outputs": [
    {
     "name": "stdout",
     "output_type": "stream",
     "text": [
      "39\n",
      "45\n",
      "40\n",
      "46\n",
      "37\n",
      "34\n",
      "36\n"
     ]
    }
   ],
   "source": [
    "print(b[2][0])    # 39\n",
    "print(b[-1][-2])  # 45\n",
    "print(b[2][-3])   # 40\n",
    "print(b[-1][3])   # 46 \n",
    "print(b[1,2])     # 37\n",
    "print(b[0,3])     # 34\n",
    "print(b[-3,-3])   # 36"
   ]
  },
  {
   "cell_type": "markdown",
   "metadata": {},
   "source": [
    "### 2D Slicing\n",
    "<b>Syntax - array_name[start_row : end_row : step_row , start_col : end_col :step_col]</b>"
   ]
  },
  {
   "cell_type": "code",
   "execution_count": 19,
   "metadata": {},
   "outputs": [
    {
     "name": "stdout",
     "output_type": "stream",
     "text": [
      "[12, 13, 14, 15]\n"
     ]
    }
   ],
   "source": [
    "r = [12,13,14,15,16]\n",
    "print(r[:-1])"
   ]
  },
  {
   "cell_type": "markdown",
   "metadata": {},
   "source": [
    "<img src=\"2d_indexing_slicing.png\">"
   ]
  },
  {
   "cell_type": "code",
   "execution_count": 20,
   "metadata": {},
   "outputs": [
    {
     "name": "stdout",
     "output_type": "stream",
     "text": [
      "[43 44 45 46]\n",
      "[[31 32 33 34]\n",
      " [35 36 37 38]\n",
      " [39 40 41 42]]\n",
      "[34 38 42 46]\n",
      "[39 40]\n"
     ]
    }
   ],
   "source": [
    "print(b[-1])\n",
    "# print('--------')\n",
    "print(b[:-1]) # all columns are sliced\n",
    "# print('--------')\n",
    "print(b[:,-1])\n",
    "# print('--------')\n",
    "print(b[-2,:-2])"
   ]
  },
  {
   "cell_type": "markdown",
   "metadata": {},
   "source": [
    "<img src=\"2d_indexing_slicing.png\">"
   ]
  },
  {
   "cell_type": "code",
   "execution_count": 27,
   "metadata": {},
   "outputs": [
    {
     "name": "stdout",
     "output_type": "stream",
     "text": [
      "[[38]\n",
      " [42]\n",
      " [46]]\n",
      "[[39 40 41]\n",
      " [43 44 45]]\n",
      "[[37 38]\n",
      " [41 42]\n",
      " [45 46]]\n",
      "[[31 32 33 34]\n",
      " [35 36 37 38]]\n",
      "[[31 32 33 34]\n",
      " [39 40 41 42]]\n"
     ]
    }
   ],
   "source": [
    "print(b[1:, 3:])\n",
    "print(b[-2:,:-1])\n",
    "print(b[1:,2:])\n",
    "print(b[:2,0:])\n",
    "print(b[::2,:])"
   ]
  },
  {
   "cell_type": "markdown",
   "metadata": {},
   "source": [
    "<img src=\"2d_indexing_slicing.png\">"
   ]
  },
  {
   "cell_type": "code",
   "execution_count": 31,
   "metadata": {},
   "outputs": [
    {
     "name": "stdout",
     "output_type": "stream",
     "text": [
      "[[31 33]\n",
      " [35 37]]\n",
      "[[36 38]\n",
      " [44 46]]\n",
      "[[31 34]\n",
      " [39 42]]\n",
      "[36 32]\n"
     ]
    }
   ],
   "source": [
    "print(b[:2,::2])\n",
    "print(b[1::2,1::2])\n",
    "print(b[0::2,0::3])\n",
    "print(b[-3::-1,-3])"
   ]
  },
  {
   "cell_type": "markdown",
   "metadata": {},
   "source": [
    "<img src=\"2d_indexing_slicing.png\">"
   ]
  },
  {
   "cell_type": "code",
   "execution_count": 38,
   "metadata": {},
   "outputs": [
    {
     "name": "stdout",
     "output_type": "stream",
     "text": [
      "[[45 46]]\n",
      "[[43 44 45 46]\n",
      " [39 40 41 42]]\n",
      "[[43 44 45]\n",
      " [39 40 41]]\n",
      "[[45 43]\n",
      " [41 39]]\n",
      "[[45 43]]\n",
      "[[31 34]\n",
      " [43 46]]\n",
      "[[46 43]\n",
      " [34 31]]\n"
     ]
    }
   ],
   "source": [
    "print(b[:2:-1,2::])\n",
    "print(b[:1:-1])\n",
    "print(b[:1:-1,:3])\n",
    "print(b[:1:-1,2::-2])\n",
    "print(b[:1:-2,2::-2])\n",
    "print(b[0::3,0::3]) \n",
    "print(b[-1::-3,-1::-3])"
   ]
  },
  {
   "cell_type": "markdown",
   "metadata": {},
   "source": [
    "<img src=\"2d_indexing_slicing.png\">"
   ]
  },
  {
   "cell_type": "code",
   "execution_count": 53,
   "metadata": {},
   "outputs": [
    {
     "name": "stdout",
     "output_type": "stream",
     "text": [
      "[[36 37]\n",
      " [40 41]]\n",
      "[[42 39]\n",
      " [38 35]]\n",
      "[[41 40]\n",
      " [33 32]]\n",
      "[[41 40]\n",
      " [33 32]]\n"
     ]
    }
   ],
   "source": [
    "print(b[1:3,1:3])\n",
    "print(b[-2:-4:-1,-1::-3])\n",
    "print(b[-2::-2,-2:-4:-1])\n",
    "print(b[-2::-2,-2:0:-1])"
   ]
  },
  {
   "cell_type": "markdown",
   "metadata": {},
   "source": [
    "### 2D Advanced Indexing and Slicing"
   ]
  },
  {
   "cell_type": "markdown",
   "metadata": {},
   "source": [
    "<img src=\"2d_indexing_slicing.png\">"
   ]
  },
  {
   "cell_type": "code",
   "execution_count": 57,
   "metadata": {},
   "outputs": [
    {
     "name": "stdout",
     "output_type": "stream",
     "text": [
      "[31 36 41]\n",
      "[31 36 41 46 33 45]\n",
      "[34 37 40 43]\n",
      "[35 40 45 39]\n"
     ]
    }
   ],
   "source": [
    "print(b[[0,1,2],[0,1,2]])\n",
    "print(b[[0,1,2,3,0,3],[0,1,2,3,2,2]])\n",
    "print(b[[0,1,2,3],[3,2,1,0]])\n",
    "print(b[[1,2,-1,-2],[0,1,-2,-4]])"
   ]
  },
  {
   "cell_type": "markdown",
   "metadata": {},
   "source": [
    "### 3D Indexing and Slicing"
   ]
  },
  {
   "cell_type": "code",
   "execution_count": 64,
   "metadata": {},
   "outputs": [
    {
     "name": "stdout",
     "output_type": "stream",
     "text": [
      "[[[ 0  1  2  3]\n",
      "  [ 4  5  6  7]\n",
      "  [ 8  9 10 11]\n",
      "  [12 13 14 15]]\n",
      "\n",
      " [[16 17 18 19]\n",
      "  [20 21 22 23]\n",
      "  [24 25 26 27]\n",
      "  [28 29 30 31]]]\n"
     ]
    }
   ],
   "source": [
    "a = np.arange(32).reshape(2,4,4)\n",
    "print(a)"
   ]
  },
  {
   "cell_type": "markdown",
   "metadata": {},
   "source": [
    "### 3D Indexing"
   ]
  },
  {
   "cell_type": "markdown",
   "metadata": {},
   "source": [
    "<img src=\"3d_indexing_slicing.png\">"
   ]
  },
  {
   "cell_type": "code",
   "execution_count": 68,
   "metadata": {},
   "outputs": [
    {
     "name": "stdout",
     "output_type": "stream",
     "text": [
      "[[ 0  1  2  3]\n",
      " [ 4  5  6  7]\n",
      " [ 8  9 10 11]\n",
      " [12 13 14 15]]\n",
      "[24 25 26 27]\n",
      "25\n",
      "26\n",
      "3\n",
      "30\n"
     ]
    }
   ],
   "source": [
    "print(a[-2])\n",
    "print(a[-1][-2])\n",
    "print(a[-1][-2][-3]) # 25 \n",
    "print(a[-1,2,2])     # 26\n",
    "print(a[-2][0][-1])  # 3\n",
    "print(a[1,3,2])      # 30"
   ]
  },
  {
   "cell_type": "markdown",
   "metadata": {},
   "source": [
    "### 3D Slicing\n",
    "array_Name[set, row, col]<br>\n",
    "array_name[start_set : end_set : step_set , start_row : end_row : step_row, start_col : end_col : step_col]"
   ]
  },
  {
   "cell_type": "markdown",
   "metadata": {},
   "source": [
    "<img src=\"3d_indexing_slicing.png\">"
   ]
  },
  {
   "cell_type": "code",
   "execution_count": 71,
   "metadata": {},
   "outputs": [
    {
     "name": "stdout",
     "output_type": "stream",
     "text": [
      "[[[22 23]\n",
      "  [26 27]\n",
      "  [30 31]]]\n",
      "[[[16 17]\n",
      "  [20 21]]]\n",
      "[[[13 14 15]]]\n"
     ]
    }
   ],
   "source": [
    "print(a[1:,1:,2:])\n",
    "# print('----------')\n",
    "print(a[1:,:2,:2])\n",
    "# print('----------')\n",
    "print(a[0:1,3:,1:])"
   ]
  },
  {
   "cell_type": "markdown",
   "metadata": {},
   "source": [
    "<img src=\"3d_indexing_slicing.png\">"
   ]
  },
  {
   "cell_type": "code",
   "execution_count": 77,
   "metadata": {},
   "outputs": [
    {
     "name": "stdout",
     "output_type": "stream",
     "text": [
      "[[[ 4  5]\n",
      "  [12 13]]\n",
      "\n",
      " [[20 21]\n",
      "  [28 29]]]\n",
      "[[[20 21]\n",
      "  [28 29]]]\n",
      "[[[16 17 18 19]\n",
      "  [20 21 22 23]\n",
      "  [24 25 26 27]\n",
      "  [28 29 30 31]]]\n",
      "[[[ 0  1  2  3]\n",
      "  [ 4  5  6  7]\n",
      "  [ 8  9 10 11]\n",
      "  [12 13 14 15]]]\n"
     ]
    }
   ],
   "source": [
    "print(a[0:,1::2,:2])\n",
    "print(a[1:,1::2,:2])\n",
    "# # Negative slicing in 3d array\n",
    "print(a[-1:,:,:])\n",
    "print(a[:-1,:,:])"
   ]
  },
  {
   "cell_type": "markdown",
   "metadata": {},
   "source": [
    "<img src=\"3d_indexing_slicing.png\">"
   ]
  },
  {
   "cell_type": "code",
   "execution_count": 81,
   "metadata": {},
   "outputs": [
    {
     "name": "stdout",
     "output_type": "stream",
     "text": [
      "[[15 13]\n",
      " [ 7  5]]\n",
      "[[[11  9]\n",
      "  [ 3  1]]\n",
      "\n",
      " [[27 25]\n",
      "  [19 17]]]\n",
      "[[13  5]\n",
      " [29 21]]\n",
      "[[[15 13]\n",
      "  [ 3  1]]\n",
      "\n",
      " [[31 29]\n",
      "  [19 17]]]\n"
     ]
    }
   ],
   "source": [
    "print(a[-2,-1::-2,-1::-2])\n",
    "print(a[-2:,-2::-2,-1::-2])\n",
    "print(a[-2:,-1::-2,1])\n",
    "print(a[-2:,-1::-3,-1::-2])"
   ]
  },
  {
   "cell_type": "markdown",
   "metadata": {},
   "source": [
    "<img src=\"3d_indexing_slicing.png\">"
   ]
  },
  {
   "cell_type": "code",
   "execution_count": 85,
   "metadata": {},
   "outputs": [
    {
     "name": "stdout",
     "output_type": "stream",
     "text": [
      "[[[13 14]\n",
      "  [ 5  6]]\n",
      "\n",
      " [[29 30]\n",
      "  [21 22]]]\n",
      "[[[ 0  2]\n",
      "  [12 14]]\n",
      "\n",
      " [[16 18]\n",
      "  [28 30]]]\n",
      "[[[ 1  3]\n",
      "  [13 15]]\n",
      "\n",
      " [[17 19]\n",
      "  [29 31]]]\n",
      "[[ 5  9]\n",
      " [21 25]]\n"
     ]
    }
   ],
   "source": [
    "print(a[-2:,-1::-2,1:3])\n",
    "print(a[:,::3,::2])\n",
    "print(a[-2::,-4::3,-3::2])\n",
    "print(a[-2::,-3:-1,1])"
   ]
  },
  {
   "cell_type": "markdown",
   "metadata": {},
   "source": [
    "<img src=\"3d_indexing_slicing.png\">"
   ]
  },
  {
   "cell_type": "code",
   "execution_count": 86,
   "metadata": {},
   "outputs": [
    {
     "name": "stdout",
     "output_type": "stream",
     "text": [
      "[[[27 25]\n",
      "  [23 21]]\n",
      "\n",
      " [[11  9]\n",
      "  [ 7  5]]]\n"
     ]
    }
   ],
   "source": [
    "print(a[::-1,-2:-4:-1,-1::-2])\n",
    "# print(a[0:,1:3,1:2])\n",
    "# print(a[0:,::3,::2])\n",
    "# print(a[-2:, -1::-3,-1::-2])"
   ]
  },
  {
   "cell_type": "markdown",
   "metadata": {},
   "source": [
    "<img src=\"3d_indexing_slicing.png\">"
   ]
  },
  {
   "cell_type": "code",
   "execution_count": 89,
   "metadata": {},
   "outputs": [
    {
     "name": "stdout",
     "output_type": "stream",
     "text": [
      "[[[30 29]\n",
      "  [18 17]]\n",
      "\n",
      " [[14 13]\n",
      "  [ 2  1]]]\n",
      "[[[16 19]\n",
      "  [28 31]]\n",
      "\n",
      " [[ 0  3]\n",
      "  [12 15]]]\n"
     ]
    }
   ],
   "source": [
    "print(a[::-1,-1::-3,-2:-4:-1])\n",
    "print(a[::-1,0::3,0::3])"
   ]
  },
  {
   "cell_type": "markdown",
   "metadata": {},
   "source": [
    "### 3D Advanced Indexing and Slicing"
   ]
  },
  {
   "cell_type": "markdown",
   "metadata": {},
   "source": [
    "<img src=\"3d_indexing_slicing.png\">"
   ]
  },
  {
   "cell_type": "code",
   "execution_count": 92,
   "metadata": {},
   "outputs": [
    {
     "name": "stdout",
     "output_type": "stream",
     "text": [
      "[ 5  3  9 14]\n",
      "[ 6 24 13 18]\n",
      "[ 0  5 10 14 25]\n"
     ]
    }
   ],
   "source": [
    "print(a[[0,0,0,0],[1,0,2,3],[1,3,1,2]])\n",
    "print(a[[0,1,0,1],[1,2,3,0],[2,0,1,2]])\n",
    "print(a[[0,0,0,0,1],[0,1,2,3,2],[0,1,2,2,1]])"
   ]
  },
  {
   "cell_type": "code",
   "execution_count": 93,
   "metadata": {},
   "outputs": [
    {
     "name": "stdout",
     "output_type": "stream",
     "text": [
      "[10 11 12 13 14 15 16 17 18 19 20 21 22 23 24 25 26 27 28 29 30 31]\n"
     ]
    }
   ],
   "source": [
    "x1 = a[a>9]\n",
    "print(x1)"
   ]
  },
  {
   "cell_type": "code",
   "execution_count": 94,
   "metadata": {},
   "outputs": [
    {
     "name": "stdout",
     "output_type": "stream",
     "text": [
      "[ 1  2  4  5  7  8 10 11 13 14 16 17 19 20 22 23 25 26 28 29 31]\n"
     ]
    }
   ],
   "source": [
    "x2 = a[a%3!=0]\n",
    "print(x2)"
   ]
  },
  {
   "cell_type": "markdown",
   "metadata": {},
   "source": [
    "#### Exercise"
   ]
  },
  {
   "cell_type": "code",
   "execution_count": 95,
   "metadata": {},
   "outputs": [
    {
     "name": "stdout",
     "output_type": "stream",
     "text": [
      "[[[ 2  3  4  5  6]\n",
      "  [ 7  8  9 10 11]\n",
      "  [12 13 14 15 16]\n",
      "  [17 18 19 20 21]\n",
      "  [22 23 24 25 26]]\n",
      "\n",
      " [[27 28 29 30 31]\n",
      "  [32 33 34 35 36]\n",
      "  [37 38 39 40 41]\n",
      "  [42 43 44 45 46]\n",
      "  [47 48 49 50 51]]\n",
      "\n",
      " [[52 53 54 55 56]\n",
      "  [57 58 59 60 61]\n",
      "  [62 63 64 65 66]\n",
      "  [67 68 69 70 71]\n",
      "  [72 73 74 75 76]]]\n"
     ]
    }
   ],
   "source": [
    "r = np.arange(2,77).reshape(3,5,5)\n",
    "print(r)"
   ]
  },
  {
   "cell_type": "markdown",
   "metadata": {},
   "source": [
    "<img src=\"3d_indexing_slicing2.png\">"
   ]
  },
  {
   "cell_type": "code",
   "execution_count": null,
   "metadata": {},
   "outputs": [],
   "source": []
  }
 ],
 "metadata": {
  "kernelspec": {
   "display_name": "Python 3",
   "language": "python",
   "name": "python3"
  },
  "language_info": {
   "codemirror_mode": {
    "name": "ipython",
    "version": 3
   },
   "file_extension": ".py",
   "mimetype": "text/x-python",
   "name": "python",
   "nbconvert_exporter": "python",
   "pygments_lexer": "ipython3",
   "version": "3.8.8"
  }
 },
 "nbformat": 4,
 "nbformat_minor": 2
}
