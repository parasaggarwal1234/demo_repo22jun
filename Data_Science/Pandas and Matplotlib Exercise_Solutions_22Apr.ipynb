{
 "cells": [
  {
   "cell_type": "code",
   "execution_count": 1,
   "id": "fc2b1dbe",
   "metadata": {},
   "outputs": [],
   "source": [
    "import pandas as pd\n",
    "import numpy as np\n",
    "import matplotlib.pyplot as plt"
   ]
  },
  {
   "cell_type": "code",
   "execution_count": 2,
   "id": "5927efe6",
   "metadata": {},
   "outputs": [
    {
     "data": {
      "text/html": [
       "<div>\n",
       "<style scoped>\n",
       "    .dataframe tbody tr th:only-of-type {\n",
       "        vertical-align: middle;\n",
       "    }\n",
       "\n",
       "    .dataframe tbody tr th {\n",
       "        vertical-align: top;\n",
       "    }\n",
       "\n",
       "    .dataframe thead th {\n",
       "        text-align: right;\n",
       "    }\n",
       "</style>\n",
       "<table border=\"1\" class=\"dataframe\">\n",
       "  <thead>\n",
       "    <tr style=\"text-align: right;\">\n",
       "      <th></th>\n",
       "      <th>Name</th>\n",
       "      <th>City</th>\n",
       "      <th>Math_Score</th>\n",
       "      <th>Co_Curr_Score</th>\n",
       "      <th>Fee_Discount(%age)</th>\n",
       "      <th>Opted_Bus</th>\n",
       "      <th>Personality_Score</th>\n",
       "      <th>Fee</th>\n",
       "      <th>Age</th>\n",
       "    </tr>\n",
       "  </thead>\n",
       "  <tbody>\n",
       "    <tr>\n",
       "      <th>0</th>\n",
       "      <td>Ankit</td>\n",
       "      <td>Mumbai</td>\n",
       "      <td>78</td>\n",
       "      <td>6.7</td>\n",
       "      <td>5</td>\n",
       "      <td>1</td>\n",
       "      <td>3.2</td>\n",
       "      <td>P</td>\n",
       "      <td>23.0</td>\n",
       "    </tr>\n",
       "    <tr>\n",
       "      <th>1</th>\n",
       "      <td>Shreya</td>\n",
       "      <td>Delhi</td>\n",
       "      <td>67</td>\n",
       "      <td>NaN</td>\n",
       "      <td>0</td>\n",
       "      <td>0</td>\n",
       "      <td>1.9</td>\n",
       "      <td>R</td>\n",
       "      <td>19.0</td>\n",
       "    </tr>\n",
       "    <tr>\n",
       "      <th>2</th>\n",
       "      <td>Akansha</td>\n",
       "      <td>Pune</td>\n",
       "      <td>56</td>\n",
       "      <td>7.0</td>\n",
       "      <td>0</td>\n",
       "      <td>0</td>\n",
       "      <td>4.1</td>\n",
       "      <td>P</td>\n",
       "      <td>22.0</td>\n",
       "    </tr>\n",
       "    <tr>\n",
       "      <th>3</th>\n",
       "      <td>Riddhi</td>\n",
       "      <td>Mumbai</td>\n",
       "      <td>45</td>\n",
       "      <td>9.0</td>\n",
       "      <td>10</td>\n",
       "      <td>1</td>\n",
       "      <td>4.2</td>\n",
       "      <td>R</td>\n",
       "      <td>20.0</td>\n",
       "    </tr>\n",
       "    <tr>\n",
       "      <th>4</th>\n",
       "      <td>Shubham</td>\n",
       "      <td>Mumbai</td>\n",
       "      <td>34</td>\n",
       "      <td>8.1</td>\n",
       "      <td>5</td>\n",
       "      <td>1</td>\n",
       "      <td>3.9</td>\n",
       "      <td>P</td>\n",
       "      <td>21.0</td>\n",
       "    </tr>\n",
       "    <tr>\n",
       "      <th>5</th>\n",
       "      <td>Rahul</td>\n",
       "      <td>Delhi</td>\n",
       "      <td>89</td>\n",
       "      <td>3.8</td>\n",
       "      <td>15</td>\n",
       "      <td>1</td>\n",
       "      <td>NaN</td>\n",
       "      <td>P</td>\n",
       "      <td>23.0</td>\n",
       "    </tr>\n",
       "    <tr>\n",
       "      <th>6</th>\n",
       "      <td>Mridul</td>\n",
       "      <td>Lucknow</td>\n",
       "      <td>32</td>\n",
       "      <td>2.3</td>\n",
       "      <td>20</td>\n",
       "      <td>1</td>\n",
       "      <td>3.5</td>\n",
       "      <td>R</td>\n",
       "      <td>24.0</td>\n",
       "    </tr>\n",
       "    <tr>\n",
       "      <th>7</th>\n",
       "      <td>Harsh</td>\n",
       "      <td>Pune</td>\n",
       "      <td>93</td>\n",
       "      <td>5.1</td>\n",
       "      <td>10</td>\n",
       "      <td>0</td>\n",
       "      <td>2.4</td>\n",
       "      <td>R</td>\n",
       "      <td>20.0</td>\n",
       "    </tr>\n",
       "    <tr>\n",
       "      <th>8</th>\n",
       "      <td>Yashika</td>\n",
       "      <td>Delhi</td>\n",
       "      <td>78</td>\n",
       "      <td>6.3</td>\n",
       "      <td>10</td>\n",
       "      <td>0</td>\n",
       "      <td>4.4</td>\n",
       "      <td>R</td>\n",
       "      <td>19.0</td>\n",
       "    </tr>\n",
       "    <tr>\n",
       "      <th>9</th>\n",
       "      <td>Ritwik</td>\n",
       "      <td>Kolkata</td>\n",
       "      <td>82</td>\n",
       "      <td>7.5</td>\n",
       "      <td>20</td>\n",
       "      <td>1</td>\n",
       "      <td>3.6</td>\n",
       "      <td>P</td>\n",
       "      <td>23.0</td>\n",
       "    </tr>\n",
       "    <tr>\n",
       "      <th>10</th>\n",
       "      <td>Sharvil</td>\n",
       "      <td>Pune</td>\n",
       "      <td>90</td>\n",
       "      <td>3.4</td>\n",
       "      <td>0</td>\n",
       "      <td>0</td>\n",
       "      <td>4.0</td>\n",
       "      <td>P</td>\n",
       "      <td>22.0</td>\n",
       "    </tr>\n",
       "    <tr>\n",
       "      <th>11</th>\n",
       "      <td>Ritesh</td>\n",
       "      <td>Pune</td>\n",
       "      <td>81</td>\n",
       "      <td>5.1</td>\n",
       "      <td>10</td>\n",
       "      <td>1</td>\n",
       "      <td>3.2</td>\n",
       "      <td>R</td>\n",
       "      <td>20.0</td>\n",
       "    </tr>\n",
       "    <tr>\n",
       "      <th>12</th>\n",
       "      <td>Saurav</td>\n",
       "      <td>Kolkata</td>\n",
       "      <td>74</td>\n",
       "      <td>7.8</td>\n",
       "      <td>15</td>\n",
       "      <td>0</td>\n",
       "      <td>3.6</td>\n",
       "      <td>P</td>\n",
       "      <td>19.0</td>\n",
       "    </tr>\n",
       "    <tr>\n",
       "      <th>13</th>\n",
       "      <td>Pankaj</td>\n",
       "      <td>Delhi</td>\n",
       "      <td>65</td>\n",
       "      <td>9.1</td>\n",
       "      <td>20</td>\n",
       "      <td>0</td>\n",
       "      <td>4.4</td>\n",
       "      <td>R</td>\n",
       "      <td>18.0</td>\n",
       "    </tr>\n",
       "    <tr>\n",
       "      <th>14</th>\n",
       "      <td>Prashant</td>\n",
       "      <td>Lucknow</td>\n",
       "      <td>56</td>\n",
       "      <td>6.7</td>\n",
       "      <td>5</td>\n",
       "      <td>1</td>\n",
       "      <td>4.0</td>\n",
       "      <td>P</td>\n",
       "      <td>NaN</td>\n",
       "    </tr>\n",
       "  </tbody>\n",
       "</table>\n",
       "</div>"
      ],
      "text/plain": [
       "        Name     City  Math_Score  Co_Curr_Score  Fee_Discount(%age)  \\\n",
       "0      Ankit   Mumbai          78            6.7                   5   \n",
       "1     Shreya    Delhi          67            NaN                   0   \n",
       "2    Akansha     Pune          56            7.0                   0   \n",
       "3     Riddhi   Mumbai          45            9.0                  10   \n",
       "4    Shubham   Mumbai          34            8.1                   5   \n",
       "5      Rahul    Delhi          89            3.8                  15   \n",
       "6     Mridul  Lucknow          32            2.3                  20   \n",
       "7      Harsh     Pune          93            5.1                  10   \n",
       "8    Yashika    Delhi          78            6.3                  10   \n",
       "9     Ritwik  Kolkata          82            7.5                  20   \n",
       "10   Sharvil     Pune          90            3.4                   0   \n",
       "11    Ritesh     Pune          81            5.1                  10   \n",
       "12    Saurav  Kolkata          74            7.8                  15   \n",
       "13    Pankaj    Delhi          65            9.1                  20   \n",
       "14  Prashant  Lucknow          56            6.7                   5   \n",
       "\n",
       "    Opted_Bus  Personality_Score Fee   Age  \n",
       "0           1                3.2   P  23.0  \n",
       "1           0                1.9   R  19.0  \n",
       "2           0                4.1   P  22.0  \n",
       "3           1                4.2   R  20.0  \n",
       "4           1                3.9   P  21.0  \n",
       "5           1                NaN   P  23.0  \n",
       "6           1                3.5   R  24.0  \n",
       "7           0                2.4   R  20.0  \n",
       "8           0                4.4   R  19.0  \n",
       "9           1                3.6   P  23.0  \n",
       "10          0                4.0   P  22.0  \n",
       "11          1                3.2   R  20.0  \n",
       "12          0                3.6   P  19.0  \n",
       "13          0                4.4   R  18.0  \n",
       "14          1                4.0   P   NaN  "
      ]
     },
     "execution_count": 2,
     "metadata": {},
     "output_type": "execute_result"
    }
   ],
   "source": [
    "d = {'Name':['Ankit','Shreya','Akansha','Riddhi','Shubham','Rahul',\n",
    "            'Mridul','Harsh','Yashika','Ritwik','Sharvil','Ritesh',\n",
    "            'Saurav','Pankaj','Prashant','Ritu'],\n",
    "     'City':['Mumbai','Delhi','Pune','Mumbai','Mumbai','Delhi','Lucknow',\n",
    "            'Pune','Delhi','Kolkata','Pune','Pune','Kolkata','Delhi','Lucknow','Delhi'],\n",
    "    'Math_Score':[78,67,56,45,34,89,32,93,78,82,90,81,74,65,56,85],\n",
    "     'Co_Curr_Score':[6.7,np.nan,7.0,9.0,8.1,3.8,2.3,5.1,6.3,7.5,3.4,5.1,7.8,9.1,6.7,8.0],\n",
    "    'Fee_Discount(%age)':[5,0,0,10,5,15,20,10,10,20,0,10,15,20,5,0],\n",
    "    'Opted_Bus':[1,0,0,1,1,1,1,0,0,1,0,1,0,0,1,1],\n",
    "    'Personality_Score':[3.2,1.9,4.1,4.2,3.9,np.nan,3.5,2.4,4.4,3.6,4.0,3.2,3.6,4.4,4.0,3.8],\n",
    "     'Fee':['P','R','P','R','P','P','R','R','R','P','P','R','P','R','P','P'],\n",
    "    'Age':[23,19,22,20,21,23,24,20,19,23,22,20,19,18,np.nan,24]}\n",
    "\n",
    "# Fee = 'P' = pending, 'R'= Recieved\n",
    "# Opted Bus = 1- opted for bus, 0- not opted for bus\n",
    "df = pd.DataFrame(d)\n",
    "df.head(15)"
   ]
  },
  {
   "cell_type": "code",
   "execution_count": 3,
   "id": "60ab7a49",
   "metadata": {},
   "outputs": [
    {
     "data": {
      "text/plain": [
       "(16, 9)"
      ]
     },
     "execution_count": 3,
     "metadata": {},
     "output_type": "execute_result"
    }
   ],
   "source": [
    "df.shape"
   ]
  },
  {
   "cell_type": "code",
   "execution_count": 4,
   "id": "004852bb",
   "metadata": {},
   "outputs": [],
   "source": [
    "\n",
    "# Questions\n",
    "\n",
    "# 1) Read the dataset\n",
    "# 2) Remove/ Handle null values if any\n",
    "# 3) Find the description of the dataset\n",
    "# 4) Depict different city count on a bar chart and a line chart separately\n",
    "# 5) Depict quartile distribution of Personality Score\n",
    "# 6) Depict frequency distribution of Age\n",
    "# 7) For all those students with personality score>3.0 depict percentage distribution of Maths score obtained of all the students on a chart\n",
    "# 8) For all those students opted for Bus, find the Avg Co_Curr_Score\n",
    "# 9) Depict the Personality_Score vs Co_Curr_Score on a scatter plot\n",
    "# 10) Depict mean of Math score based on City on a bar and a line chart superimposed\n",
    "# 11) For all those students who fees is pending(P) or who have opted for bus, find mean of Personality Score and Co_Curr Score\n",
    "\n",
    " \n",
    "\n"
   ]
  },
  {
   "cell_type": "code",
   "execution_count": 5,
   "id": "ae78f858",
   "metadata": {},
   "outputs": [
    {
     "data": {
      "text/plain": [
       "(16, 9)"
      ]
     },
     "execution_count": 5,
     "metadata": {},
     "output_type": "execute_result"
    }
   ],
   "source": [
    "df.shape"
   ]
  },
  {
   "cell_type": "code",
   "execution_count": 6,
   "id": "dd1480f0",
   "metadata": {},
   "outputs": [
    {
     "data": {
      "text/html": [
       "<div>\n",
       "<style scoped>\n",
       "    .dataframe tbody tr th:only-of-type {\n",
       "        vertical-align: middle;\n",
       "    }\n",
       "\n",
       "    .dataframe tbody tr th {\n",
       "        vertical-align: top;\n",
       "    }\n",
       "\n",
       "    .dataframe thead th {\n",
       "        text-align: right;\n",
       "    }\n",
       "</style>\n",
       "<table border=\"1\" class=\"dataframe\">\n",
       "  <thead>\n",
       "    <tr style=\"text-align: right;\">\n",
       "      <th></th>\n",
       "      <th>Name</th>\n",
       "      <th>City</th>\n",
       "      <th>Math_Score</th>\n",
       "      <th>Co_Curr_Score</th>\n",
       "      <th>Fee_Discount(%age)</th>\n",
       "      <th>Opted_Bus</th>\n",
       "      <th>Personality_Score</th>\n",
       "      <th>Fee</th>\n",
       "      <th>Age</th>\n",
       "    </tr>\n",
       "  </thead>\n",
       "  <tbody>\n",
       "    <tr>\n",
       "      <th>0</th>\n",
       "      <td>Ankit</td>\n",
       "      <td>Mumbai</td>\n",
       "      <td>78</td>\n",
       "      <td>6.7</td>\n",
       "      <td>5</td>\n",
       "      <td>1</td>\n",
       "      <td>3.2</td>\n",
       "      <td>P</td>\n",
       "      <td>23.0</td>\n",
       "    </tr>\n",
       "    <tr>\n",
       "      <th>1</th>\n",
       "      <td>Shreya</td>\n",
       "      <td>Delhi</td>\n",
       "      <td>67</td>\n",
       "      <td>NaN</td>\n",
       "      <td>0</td>\n",
       "      <td>0</td>\n",
       "      <td>1.9</td>\n",
       "      <td>R</td>\n",
       "      <td>19.0</td>\n",
       "    </tr>\n",
       "    <tr>\n",
       "      <th>2</th>\n",
       "      <td>Akansha</td>\n",
       "      <td>Pune</td>\n",
       "      <td>56</td>\n",
       "      <td>7.0</td>\n",
       "      <td>0</td>\n",
       "      <td>0</td>\n",
       "      <td>4.1</td>\n",
       "      <td>P</td>\n",
       "      <td>22.0</td>\n",
       "    </tr>\n",
       "    <tr>\n",
       "      <th>3</th>\n",
       "      <td>Riddhi</td>\n",
       "      <td>Mumbai</td>\n",
       "      <td>45</td>\n",
       "      <td>9.0</td>\n",
       "      <td>10</td>\n",
       "      <td>1</td>\n",
       "      <td>4.2</td>\n",
       "      <td>R</td>\n",
       "      <td>20.0</td>\n",
       "    </tr>\n",
       "    <tr>\n",
       "      <th>4</th>\n",
       "      <td>Shubham</td>\n",
       "      <td>Mumbai</td>\n",
       "      <td>34</td>\n",
       "      <td>8.1</td>\n",
       "      <td>5</td>\n",
       "      <td>1</td>\n",
       "      <td>3.9</td>\n",
       "      <td>P</td>\n",
       "      <td>21.0</td>\n",
       "    </tr>\n",
       "  </tbody>\n",
       "</table>\n",
       "</div>"
      ],
      "text/plain": [
       "      Name    City  Math_Score  Co_Curr_Score  Fee_Discount(%age)  Opted_Bus  \\\n",
       "0    Ankit  Mumbai          78            6.7                   5          1   \n",
       "1   Shreya   Delhi          67            NaN                   0          0   \n",
       "2  Akansha    Pune          56            7.0                   0          0   \n",
       "3   Riddhi  Mumbai          45            9.0                  10          1   \n",
       "4  Shubham  Mumbai          34            8.1                   5          1   \n",
       "\n",
       "   Personality_Score Fee   Age  \n",
       "0                3.2   P  23.0  \n",
       "1                1.9   R  19.0  \n",
       "2                4.1   P  22.0  \n",
       "3                4.2   R  20.0  \n",
       "4                3.9   P  21.0  "
      ]
     },
     "execution_count": 6,
     "metadata": {},
     "output_type": "execute_result"
    }
   ],
   "source": [
    "df.head()"
   ]
  },
  {
   "cell_type": "code",
   "execution_count": 7,
   "id": "139634bb",
   "metadata": {},
   "outputs": [
    {
     "data": {
      "text/plain": [
       "Name                  0\n",
       "City                  0\n",
       "Math_Score            0\n",
       "Co_Curr_Score         1\n",
       "Fee_Discount(%age)    0\n",
       "Opted_Bus             0\n",
       "Personality_Score     1\n",
       "Fee                   0\n",
       "Age                   1\n",
       "dtype: int64"
      ]
     },
     "execution_count": 7,
     "metadata": {},
     "output_type": "execute_result"
    }
   ],
   "source": [
    "df.isnull().sum()"
   ]
  },
  {
   "cell_type": "code",
   "execution_count": 9,
   "id": "00640049",
   "metadata": {},
   "outputs": [],
   "source": [
    "df['Co_Curr_Score'].fillna(df['Co_Curr_Score'].mean(),inplace=True)\n",
    "df['Personality_Score'].fillna(df['Personality_Score'].mean(),inplace=True)\n",
    "df['Age'].fillna(df['Age'].mean(),inplace=True)"
   ]
  },
  {
   "cell_type": "code",
   "execution_count": 10,
   "id": "4f3c37ac",
   "metadata": {},
   "outputs": [
    {
     "data": {
      "text/plain": [
       "Name                  0\n",
       "City                  0\n",
       "Math_Score            0\n",
       "Co_Curr_Score         0\n",
       "Fee_Discount(%age)    0\n",
       "Opted_Bus             0\n",
       "Personality_Score     0\n",
       "Fee                   0\n",
       "Age                   0\n",
       "dtype: int64"
      ]
     },
     "execution_count": 10,
     "metadata": {},
     "output_type": "execute_result"
    }
   ],
   "source": [
    "df.isnull().sum()"
   ]
  },
  {
   "cell_type": "code",
   "execution_count": 8,
   "id": "72b099af",
   "metadata": {},
   "outputs": [
    {
     "data": {
      "text/html": [
       "<div>\n",
       "<style scoped>\n",
       "    .dataframe tbody tr th:only-of-type {\n",
       "        vertical-align: middle;\n",
       "    }\n",
       "\n",
       "    .dataframe tbody tr th {\n",
       "        vertical-align: top;\n",
       "    }\n",
       "\n",
       "    .dataframe thead th {\n",
       "        text-align: right;\n",
       "    }\n",
       "</style>\n",
       "<table border=\"1\" class=\"dataframe\">\n",
       "  <thead>\n",
       "    <tr style=\"text-align: right;\">\n",
       "      <th></th>\n",
       "      <th>Math_Score</th>\n",
       "      <th>Co_Curr_Score</th>\n",
       "      <th>Fee_Discount(%age)</th>\n",
       "      <th>Opted_Bus</th>\n",
       "      <th>Personality_Score</th>\n",
       "      <th>Age</th>\n",
       "    </tr>\n",
       "  </thead>\n",
       "  <tbody>\n",
       "    <tr>\n",
       "      <th>count</th>\n",
       "      <td>16.000000</td>\n",
       "      <td>15.000000</td>\n",
       "      <td>16.000000</td>\n",
       "      <td>16.000000</td>\n",
       "      <td>15.000000</td>\n",
       "      <td>15.000000</td>\n",
       "    </tr>\n",
       "    <tr>\n",
       "      <th>mean</th>\n",
       "      <td>69.062500</td>\n",
       "      <td>6.393333</td>\n",
       "      <td>9.062500</td>\n",
       "      <td>0.562500</td>\n",
       "      <td>3.613333</td>\n",
       "      <td>21.133333</td>\n",
       "    </tr>\n",
       "    <tr>\n",
       "      <th>std</th>\n",
       "      <td>19.495192</td>\n",
       "      <td>2.055816</td>\n",
       "      <td>7.352721</td>\n",
       "      <td>0.512348</td>\n",
       "      <td>0.706972</td>\n",
       "      <td>1.995232</td>\n",
       "    </tr>\n",
       "    <tr>\n",
       "      <th>min</th>\n",
       "      <td>32.000000</td>\n",
       "      <td>2.300000</td>\n",
       "      <td>0.000000</td>\n",
       "      <td>0.000000</td>\n",
       "      <td>1.900000</td>\n",
       "      <td>18.000000</td>\n",
       "    </tr>\n",
       "    <tr>\n",
       "      <th>25%</th>\n",
       "      <td>56.000000</td>\n",
       "      <td>5.100000</td>\n",
       "      <td>3.750000</td>\n",
       "      <td>0.000000</td>\n",
       "      <td>3.350000</td>\n",
       "      <td>19.500000</td>\n",
       "    </tr>\n",
       "    <tr>\n",
       "      <th>50%</th>\n",
       "      <td>76.000000</td>\n",
       "      <td>6.700000</td>\n",
       "      <td>10.000000</td>\n",
       "      <td>1.000000</td>\n",
       "      <td>3.800000</td>\n",
       "      <td>21.000000</td>\n",
       "    </tr>\n",
       "    <tr>\n",
       "      <th>75%</th>\n",
       "      <td>82.750000</td>\n",
       "      <td>7.900000</td>\n",
       "      <td>15.000000</td>\n",
       "      <td>1.000000</td>\n",
       "      <td>4.050000</td>\n",
       "      <td>23.000000</td>\n",
       "    </tr>\n",
       "    <tr>\n",
       "      <th>max</th>\n",
       "      <td>93.000000</td>\n",
       "      <td>9.100000</td>\n",
       "      <td>20.000000</td>\n",
       "      <td>1.000000</td>\n",
       "      <td>4.400000</td>\n",
       "      <td>24.000000</td>\n",
       "    </tr>\n",
       "  </tbody>\n",
       "</table>\n",
       "</div>"
      ],
      "text/plain": [
       "       Math_Score  Co_Curr_Score  Fee_Discount(%age)  Opted_Bus  \\\n",
       "count   16.000000      15.000000           16.000000  16.000000   \n",
       "mean    69.062500       6.393333            9.062500   0.562500   \n",
       "std     19.495192       2.055816            7.352721   0.512348   \n",
       "min     32.000000       2.300000            0.000000   0.000000   \n",
       "25%     56.000000       5.100000            3.750000   0.000000   \n",
       "50%     76.000000       6.700000           10.000000   1.000000   \n",
       "75%     82.750000       7.900000           15.000000   1.000000   \n",
       "max     93.000000       9.100000           20.000000   1.000000   \n",
       "\n",
       "       Personality_Score        Age  \n",
       "count          15.000000  15.000000  \n",
       "mean            3.613333  21.133333  \n",
       "std             0.706972   1.995232  \n",
       "min             1.900000  18.000000  \n",
       "25%             3.350000  19.500000  \n",
       "50%             3.800000  21.000000  \n",
       "75%             4.050000  23.000000  \n",
       "max             4.400000  24.000000  "
      ]
     },
     "execution_count": 8,
     "metadata": {},
     "output_type": "execute_result"
    }
   ],
   "source": [
    "df.describe()"
   ]
  },
  {
   "cell_type": "markdown",
   "id": "f381e287",
   "metadata": {},
   "source": [
    "### 4) Depict different city count on a bar chart and a line chart separately"
   ]
  },
  {
   "cell_type": "code",
   "execution_count": 11,
   "id": "19f590c4",
   "metadata": {},
   "outputs": [
    {
     "data": {
      "text/plain": [
       "Delhi      5\n",
       "Pune       4\n",
       "Mumbai     3\n",
       "Lucknow    2\n",
       "Kolkata    2\n",
       "Name: City, dtype: int64"
      ]
     },
     "execution_count": 11,
     "metadata": {},
     "output_type": "execute_result"
    }
   ],
   "source": [
    "r4 = df['City'].value_counts()\n",
    "r4"
   ]
  },
  {
   "cell_type": "code",
   "execution_count": 13,
   "id": "20fa8cd5",
   "metadata": {},
   "outputs": [
    {
     "data": {
      "image/png": "[encoded data removed]",
      "text/plain": [
       "<Figure size 432x288 with 1 Axes>"
      ]
     },
     "metadata": {
      "needs_background": "light"
     },
     "output_type": "display_data"
    }
   ],
   "source": [
    "plt.bar(r4.index,r4.values,color='green')\n",
    "plt.xlabel('City')\n",
    "plt.ylabel('Count')\n",
    "plt.show()"
   ]
  },
  {
   "cell_type": "code",
   "execution_count": 16,
   "id": "8ae7f666",
   "metadata": {},
   "outputs": [
    {
     "data": {
      "image/png": "[encoded data removed]",
      "text/plain": [
       "<Figure size 432x288 with 1 Axes>"
      ]
     },
     "metadata": {
      "needs_background": "light"
     },
     "output_type": "display_data"
    }
   ],
   "source": [
    "plt.plot(r4.index,r4.values,color='maroon',marker='*')\n",
    "plt.xlabel('City')\n",
    "plt.ylabel('Count')\n",
    "plt.show()"
   ]
  },
  {
   "cell_type": "markdown",
   "id": "b36b3c0d",
   "metadata": {},
   "source": [
    "### 5) Depict quartile distribution of Personality Score"
   ]
  },
  {
   "cell_type": "code",
   "execution_count": 17,
   "id": "99b83b27",
   "metadata": {},
   "outputs": [
    {
     "data": {
      "text/plain": [
       "Index(['Name', 'City', 'Math_Score', 'Co_Curr_Score', 'Fee_Discount(%age)',\n",
       "       'Opted_Bus', 'Personality_Score', 'Fee', 'Age'],\n",
       "      dtype='object')"
      ]
     },
     "execution_count": 17,
     "metadata": {},
     "output_type": "execute_result"
    }
   ],
   "source": [
    "df.columns"
   ]
  },
  {
   "cell_type": "code",
   "execution_count": 18,
   "id": "2b13e161",
   "metadata": {},
   "outputs": [
    {
     "data": {
      "image/png": "[encoded data removed]",
      "text/plain": [
       "<Figure size 432x288 with 1 Axes>"
      ]
     },
     "metadata": {
      "needs_background": "light"
     },
     "output_type": "display_data"
    }
   ],
   "source": [
    "plt.boxplot(df['Personality_Score'])\n",
    "plt.show()"
   ]
  },
  {
   "cell_type": "markdown",
   "id": "3ef00140",
   "metadata": {},
   "source": [
    "### 6) Depict frequency distribution of Age"
   ]
  },
  {
   "cell_type": "code",
   "execution_count": 20,
   "id": "a8cfdfdf",
   "metadata": {},
   "outputs": [
    {
     "data": {
      "text/plain": [
       "20.000000    3\n",
       "23.000000    3\n",
       "19.000000    3\n",
       "22.000000    2\n",
       "24.000000    2\n",
       "18.000000    1\n",
       "21.000000    1\n",
       "21.133333    1\n",
       "Name: Age, dtype: int64"
      ]
     },
     "execution_count": 20,
     "metadata": {},
     "output_type": "execute_result"
    }
   ],
   "source": [
    "df['Age'].value_counts()"
   ]
  },
  {
   "cell_type": "code",
   "execution_count": 21,
   "id": "98ee4c98",
   "metadata": {},
   "outputs": [
    {
     "data": {
      "image/png": "[encoded data removed]",
      "text/plain": [
       "<Figure size 432x288 with 1 Axes>"
      ]
     },
     "metadata": {
      "needs_background": "light"
     },
     "output_type": "display_data"
    }
   ],
   "source": [
    "plt.hist(df['Age'],bins=list(range(18,24)))\n",
    "plt.show()"
   ]
  },
  {
   "cell_type": "markdown",
   "id": "598d7165",
   "metadata": {},
   "source": [
    "### 7) For all those students with personality score>3.0 depict percentage distribution of Maths score obtained of all the students on a chart\n"
   ]
  },
  {
   "cell_type": "code",
   "execution_count": 23,
   "id": "58a4aeee",
   "metadata": {},
   "outputs": [
    {
     "data": {
      "text/plain": [
       "Index(['Name', 'City', 'Math_Score', 'Co_Curr_Score', 'Fee_Discount(%age)',\n",
       "       'Opted_Bus', 'Personality_Score', 'Fee', 'Age'],\n",
       "      dtype='object')"
      ]
     },
     "execution_count": 23,
     "metadata": {},
     "output_type": "execute_result"
    }
   ],
   "source": [
    "df.columns"
   ]
  },
  {
   "cell_type": "code",
   "execution_count": 25,
   "id": "6467de60",
   "metadata": {},
   "outputs": [
    {
     "data": {
      "text/plain": [
       "(14, 9)"
      ]
     },
     "execution_count": 25,
     "metadata": {},
     "output_type": "execute_result"
    }
   ],
   "source": [
    "r7 = df[df['Personality_Score']>3.0]\n",
    "r7.shape"
   ]
  },
  {
   "cell_type": "code",
   "execution_count": 36,
   "id": "2cb81f10",
   "metadata": {},
   "outputs": [
    {
     "data": {
      "image/png": "[encoded data removed]",
      "text/plain": [
       "<Figure size 720x720 with 1 Axes>"
      ]
     },
     "metadata": {},
     "output_type": "display_data"
    }
   ],
   "source": [
    "plt.figure(figsize=(10,10))\n",
    "plt.pie(r7['Math_Score'],labels=r7['Name'],autopct='%.2f%%')\n",
    "plt.show()"
   ]
  },
  {
   "cell_type": "code",
   "execution_count": null,
   "id": "d1455b94",
   "metadata": {},
   "outputs": [],
   "source": [
    "# 8) For all those students opted for Bus, find the Avg Co_Curr_Score\n",
    "# 9) Depict the Personality_Score vs Co_Curr_Score on a scatter plot\n",
    "# 10) Depict mean of Math score based on City on a bar and a line chart superimposed\n",
    "# 11) For all those students who fees is pending(P) or who have opted for bus, find mean of Personality Score and Co_Curr Score\n"
   ]
  },
  {
   "cell_type": "code",
   "execution_count": 37,
   "id": "e97efae7",
   "metadata": {},
   "outputs": [
    {
     "data": {
      "text/plain": [
       "Index(['Name', 'City', 'Math_Score', 'Co_Curr_Score', 'Fee_Discount(%age)',\n",
       "       'Opted_Bus', 'Personality_Score', 'Fee', 'Age'],\n",
       "      dtype='object')"
      ]
     },
     "execution_count": 37,
     "metadata": {},
     "output_type": "execute_result"
    }
   ],
   "source": [
    "df.columns"
   ]
  },
  {
   "cell_type": "code",
   "execution_count": 38,
   "id": "904bf05c",
   "metadata": {},
   "outputs": [
    {
     "data": {
      "text/plain": [
       "(9, 9)"
      ]
     },
     "execution_count": 38,
     "metadata": {},
     "output_type": "execute_result"
    }
   ],
   "source": [
    "r8 = df[df['Opted_Bus']==1]\n",
    "r8.shape"
   ]
  },
  {
   "cell_type": "code",
   "execution_count": 39,
   "id": "8ee6eb5b",
   "metadata": {},
   "outputs": [
    {
     "data": {
      "text/plain": [
       "6.355555555555556"
      ]
     },
     "execution_count": 39,
     "metadata": {},
     "output_type": "execute_result"
    }
   ],
   "source": [
    "r8['Co_Curr_Score'].mean()"
   ]
  },
  {
   "cell_type": "code",
   "execution_count": null,
   "id": "8de1154a",
   "metadata": {},
   "outputs": [],
   "source": []
  }
 ],
 "metadata": {
  "kernelspec": {
   "display_name": "Python 3",
   "language": "python",
   "name": "python3"
  },
  "language_info": {
   "codemirror_mode": {
    "name": "ipython",
    "version": 3
   },
   "file_extension": ".py",
   "mimetype": "text/x-python",
   "name": "python",
   "nbconvert_exporter": "python",
   "pygments_lexer": "ipython3",
   "version": "3.8.8"
  }
 },
 "nbformat": 4,
 "nbformat_minor": 5
}
