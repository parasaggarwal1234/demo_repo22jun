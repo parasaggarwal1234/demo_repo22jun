{
 "cells": [
  {
   "cell_type": "markdown",
   "id": "d4761a01",
   "metadata": {},
   "source": [
    "#### Jupyter Shortcuts\n",
    "\n",
    "1) Execute/Run the cell -> Shift + Enter<br>\n",
    "2) Add a new cell on top of a cell -> A<br>\n",
    "3) Add a new cell on below a cell -> B<br>\n",
    "4) Delete a cell -> double D<br>\n",
    "5) Undo delete -> Z<br>\n",
    "6) Shortcuts -> H"
   ]
  },
  {
   "cell_type": "markdown",
   "id": "0bfd3170",
   "metadata": {},
   "source": [
    "# Heading 1\n",
    "\n",
    "## Heading 2\n",
    "\n",
    "### Heading 3\n",
    "\n",
    "#### Heading 4\n",
    "\n",
    "##### Heading 5\n",
    "\n",
    "###### Heading 6\n",
    "\n",
    "Text in normal size"
   ]
  },
  {
   "cell_type": "markdown",
   "id": "6a951230",
   "metadata": {},
   "source": [
    "#### Different IDEs for Python\n",
    "\n",
    "IDE (Integerated Developmenet Environment)\n",
    "\n",
    "1) Jupyter<br>\n",
    "2) Google Colab<br>\n",
    "3) VS Code<br>\n",
    "4) PyCharm<br>\n",
    "5) Spyder<br>\n",
    "6) Pythhon IDLE<br>\n",
    "7) Notepad<br>\n",
    "8) Notepad ++<br>\n",
    "9) Sublime<br>\n",
    "10) Atom<br>\n",
    "11) Thonny<br>\n",
    "12) Eclipse<br>"
   ]
  },
  {
   "cell_type": "markdown",
   "id": "f6adebd3",
   "metadata": {},
   "source": [
    "#### Notes\n",
    "1) () are called as parenthesis"
   ]
  },
  {
   "cell_type": "markdown",
   "id": "4383a0bb",
   "metadata": {},
   "source": [
    "### Comments\n",
    "1) Meant for internal documentation<br>\n",
    "2) They are not executed. Only meant explaination purpose<br>\n",
    "3) Comments are written in Code cell starting with #<br>"
   ]
  },
  {
   "cell_type": "markdown",
   "id": "e8a92663",
   "metadata": {},
   "source": [
    "### Variables\n",
    "1) Reserved memory that stores data<br>\n",
    "2) Variable is a container that can store any data. Data can be of any data types<br>\n",
    "3) Can be reassigned and reinitialized<br>\n",
    "4) Multiple variables can be created in the same line<br>"
   ]
  },
  {
   "cell_type": "code",
   "execution_count": 5,
   "id": "2ea059bd",
   "metadata": {},
   "outputs": [
    {
     "name": "stdout",
     "output_type": "stream",
     "text": [
      "10\n"
     ]
    }
   ],
   "source": [
    "a = 10\n",
    "print(a)\n",
    "\n",
    "# 1) The value of 10 is stored in variable a\n",
    "# 2) The value of 10 is assigned to variable a\n",
    "# 3) The variable a has been initialized with the value of 10"
   ]
  },
  {
   "cell_type": "code",
   "execution_count": 7,
   "id": "5db8e260",
   "metadata": {},
   "outputs": [
    {
     "name": "stdout",
     "output_type": "stream",
     "text": [
      "17\n"
     ]
    }
   ],
   "source": [
    "a = 17\n",
    "print(a)"
   ]
  },
  {
   "cell_type": "code",
   "execution_count": 9,
   "id": "149b1994",
   "metadata": {},
   "outputs": [
    {
     "name": "stdout",
     "output_type": "stream",
     "text": [
      "17\n"
     ]
    }
   ],
   "source": [
    "print(a)"
   ]
  },
  {
   "cell_type": "code",
   "execution_count": 12,
   "id": "ada4d3c1",
   "metadata": {},
   "outputs": [
    {
     "name": "stdout",
     "output_type": "stream",
     "text": [
      "Hello\n",
      "56\n"
     ]
    }
   ],
   "source": [
    "a1 = \"Hello\"\n",
    "a2 = 56\n",
    "print(a1)\n",
    "print(a2)"
   ]
  },
  {
   "cell_type": "code",
   "execution_count": 14,
   "id": "4faa24c9",
   "metadata": {},
   "outputs": [
    {
     "name": "stdout",
     "output_type": "stream",
     "text": [
      "Welcome\n",
      "34\n",
      "True\n"
     ]
    }
   ],
   "source": [
    "# Initializing Multiple variables in the same line\n",
    "b1, b2, b3 = \"Welcome\", 34, True\n",
    "print(b1)\n",
    "print(b2)\n",
    "print(b3)"
   ]
  },
  {
   "cell_type": "code",
   "execution_count": 17,
   "id": "8c43e0c4",
   "metadata": {},
   "outputs": [
    {
     "name": "stdout",
     "output_type": "stream",
     "text": [
      "Welcome 34\n",
      "Hello world Python\n"
     ]
    }
   ],
   "source": [
    "print(b1,b2)\n",
    "print('Hello','world','Python')"
   ]
  },
  {
   "cell_type": "markdown",
   "id": "3269ce46",
   "metadata": {},
   "source": [
    "### Rules of naming  a variable\n",
    "\n",
    "1) Should start with A-Z, a-z or _(underscore)<br>\n",
    "2) Should not start with numbers.<br>\n",
    "3) Should not contain special characters.<br>\n",
    "4) Should not contain space in between<br>\n",
    "5) Python keywords should be avoided in variable name<br>"
   ]
  },
  {
   "cell_type": "markdown",
   "id": "1b7a40c9",
   "metadata": {},
   "source": [
    "#### Valid variable names"
   ]
  },
  {
   "cell_type": "code",
   "execution_count": 18,
   "id": "3d6fbc52",
   "metadata": {},
   "outputs": [
    {
     "name": "stdout",
     "output_type": "stream",
     "text": [
      "3400\n",
      "8.5\n",
      "Python\n"
     ]
    }
   ],
   "source": [
    "Sales_mar = 3400\n",
    "prof_2022 = 8.5\n",
    "_course = \"Python\"\n",
    "print(Sales_mar)\n",
    "print(prof_2022)\n",
    "print(_course)"
   ]
  },
  {
   "cell_type": "code",
   "execution_count": 23,
   "id": "f298ad19",
   "metadata": {},
   "outputs": [
    {
     "name": "stdout",
     "output_type": "stream",
     "text": [
      "Harsh\n"
     ]
    }
   ],
   "source": [
    "name34 = \"Harsh\"\n",
    "print(name34)"
   ]
  },
  {
   "cell_type": "code",
   "execution_count": 24,
   "id": "1c2d8c8e",
   "metadata": {},
   "outputs": [
    {
     "ename": "SyntaxError",
     "evalue": "invalid syntax (<ipython-input-24-e056fbd66ff3>, line 1)",
     "output_type": "error",
     "traceback": [
      "\u001b[1;36m  File \u001b[1;32m\"<ipython-input-24-e056fbd66ff3>\"\u001b[1;36m, line \u001b[1;32m1\u001b[0m\n\u001b[1;33m    23name = \"Ankit\"\u001b[0m\n\u001b[1;37m      ^\u001b[0m\n\u001b[1;31mSyntaxError\u001b[0m\u001b[1;31m:\u001b[0m invalid syntax\n"
     ]
    }
   ],
   "source": [
    "23name = \"Ankit\"\n",
    "print(23name)"
   ]
  },
  {
   "cell_type": "code",
   "execution_count": 25,
   "id": "4e703d6e",
   "metadata": {},
   "outputs": [
    {
     "ename": "SyntaxError",
     "evalue": "cannot assign to operator (<ipython-input-25-8ad3240758b2>, line 1)",
     "output_type": "error",
     "traceback": [
      "\u001b[1;36m  File \u001b[1;32m\"<ipython-input-25-8ad3240758b2>\"\u001b[1;36m, line \u001b[1;32m1\u001b[0m\n\u001b[1;33m    city@india = \"Delhi\"\u001b[0m\n\u001b[1;37m    ^\u001b[0m\n\u001b[1;31mSyntaxError\u001b[0m\u001b[1;31m:\u001b[0m cannot assign to operator\n"
     ]
    }
   ],
   "source": [
    "city@india = \"Delhi\"\n",
    "print(city@india)"
   ]
  },
  {
   "cell_type": "code",
   "execution_count": 26,
   "id": "32a26984",
   "metadata": {},
   "outputs": [
    {
     "ename": "SyntaxError",
     "evalue": "invalid syntax (<ipython-input-26-716b90ab2b2e>, line 1)",
     "output_type": "error",
     "traceback": [
      "\u001b[1;36m  File \u001b[1;32m\"<ipython-input-26-716b90ab2b2e>\"\u001b[1;36m, line \u001b[1;32m1\u001b[0m\n\u001b[1;33m    dwc dsd = \"Noida\"\u001b[0m\n\u001b[1;37m        ^\u001b[0m\n\u001b[1;31mSyntaxError\u001b[0m\u001b[1;31m:\u001b[0m invalid syntax\n"
     ]
    }
   ],
   "source": [
    "dwc dsd = \"Noida\"\n",
    "print(dwc dsd)"
   ]
  },
  {
   "cell_type": "code",
   "execution_count": 27,
   "id": "8861cae3",
   "metadata": {},
   "outputs": [
    {
     "name": "stdout",
     "output_type": "stream",
     "text": [
      "Google\n"
     ]
    }
   ],
   "source": [
    "_234rtbef = \"Google\"\n",
    "print(_234rtbef)"
   ]
  },
  {
   "cell_type": "markdown",
   "id": "89a4560a",
   "metadata": {},
   "source": [
    "### Data Types\n",
    "\n",
    "Data types are the different categories of data that we can store in a variable.<br>\n",
    "Examples - int, float, bool, str, None,complex etc\n",
    "\n",
    "type() - type function returns the data type"
   ]
  },
  {
   "cell_type": "code",
   "execution_count": 38,
   "id": "2d475b25",
   "metadata": {},
   "outputs": [
    {
     "name": "stdout",
     "output_type": "stream",
     "text": [
      "Hello\n"
     ]
    }
   ],
   "source": [
    "x = 45\n",
    "x\n",
    "print('Hello')"
   ]
  },
  {
   "cell_type": "code",
   "execution_count": 34,
   "id": "a9500ab0",
   "metadata": {},
   "outputs": [
    {
     "name": "stdout",
     "output_type": "stream",
     "text": [
      "48\n"
     ]
    }
   ],
   "source": [
    "x = 45\n",
    "x   # not get executed\n",
    "print(x+3)"
   ]
  },
  {
   "cell_type": "code",
   "execution_count": 35,
   "id": "5fa81171",
   "metadata": {},
   "outputs": [
    {
     "name": "stdout",
     "output_type": "stream",
     "text": [
      "10\n"
     ]
    },
    {
     "data": {
      "text/plain": [
       "int"
      ]
     },
     "execution_count": 35,
     "metadata": {},
     "output_type": "execute_result"
    }
   ],
   "source": [
    "v1 = 10\n",
    "print(v1)\n",
    "type(v1)"
   ]
  },
  {
   "cell_type": "code",
   "execution_count": 28,
   "id": "162a4954",
   "metadata": {},
   "outputs": [
    {
     "name": "stdout",
     "output_type": "stream",
     "text": [
      "10\n",
      "<class 'int'>\n"
     ]
    }
   ],
   "source": [
    "v1 = 10\n",
    "print(v1)\n",
    "print(type(v1))"
   ]
  },
  {
   "cell_type": "code",
   "execution_count": 39,
   "id": "46ee1a9b",
   "metadata": {},
   "outputs": [
    {
     "name": "stdout",
     "output_type": "stream",
     "text": [
      "23.45\n",
      "<class 'float'>\n"
     ]
    }
   ],
   "source": [
    "v2 = 23.45\n",
    "print(v2)\n",
    "print(type(v2))"
   ]
  },
  {
   "cell_type": "code",
   "execution_count": 40,
   "id": "58b8e45e",
   "metadata": {},
   "outputs": [
    {
     "name": "stdout",
     "output_type": "stream",
     "text": [
      "False\n",
      "<class 'bool'>\n"
     ]
    }
   ],
   "source": [
    "v3 = False\n",
    "print(v3)\n",
    "print(type(v3))"
   ]
  },
  {
   "cell_type": "code",
   "execution_count": 45,
   "id": "e4b4706b",
   "metadata": {},
   "outputs": [
    {
     "name": "stdout",
     "output_type": "stream",
     "text": [
      "True\n",
      "<class 'bool'>\n"
     ]
    }
   ],
   "source": [
    "v3 = True\n",
    "print(v3)\n",
    "print(type(v3))"
   ]
  },
  {
   "cell_type": "code",
   "execution_count": 46,
   "id": "c6b1bffe",
   "metadata": {},
   "outputs": [
    {
     "name": "stdout",
     "output_type": "stream",
     "text": [
      "None\n",
      "<class 'NoneType'>\n"
     ]
    }
   ],
   "source": [
    "v4 = None\n",
    "print(v4)\n",
    "print(type(v4))"
   ]
  },
  {
   "cell_type": "code",
   "execution_count": 48,
   "id": "8700b13a",
   "metadata": {},
   "outputs": [
    {
     "name": "stdout",
     "output_type": "stream",
     "text": [
      "(5+2j)\n",
      "<class 'complex'>\n"
     ]
    }
   ],
   "source": [
    "v5 = 5 + 2j\n",
    "print(v5)\n",
    "print(type(v5))\n",
    "# m + nj => m is the real part, n is the imaginary part,\n",
    "# j is squareroot of -1"
   ]
  },
  {
   "cell_type": "markdown",
   "id": "7c4893c7",
   "metadata": {},
   "source": [
    "#### Notes\n",
    "1) Strings can be enclosed in single, double or triple quotes<br>\n",
    "2) Strings can include alphabets(upper or lower case, numbers, special chars, space and everything else)"
   ]
  },
  {
   "cell_type": "code",
   "execution_count": 63,
   "id": "8e083c19",
   "metadata": {},
   "outputs": [
    {
     "name": "stdout",
     "output_type": "stream",
     "text": [
      "Welcome to Python\n",
      "<class 'str'>\n"
     ]
    }
   ],
   "source": [
    "v5 = \"Welcome to Python\"\n",
    "print(v5)\n",
    "print(type(v5))"
   ]
  },
  {
   "cell_type": "code",
   "execution_count": 64,
   "id": "ab0d9d62",
   "metadata": {},
   "outputs": [
    {
     "name": "stdout",
     "output_type": "stream",
     "text": [
      "3242342\n",
      "<class 'str'>\n"
     ]
    }
   ],
   "source": [
    "f = \"3242342\"\n",
    "print(f)\n",
    "print(type(f))"
   ]
  },
  {
   "cell_type": "code",
   "execution_count": 66,
   "id": "cdbde1c5",
   "metadata": {},
   "outputs": [
    {
     "name": "stdout",
     "output_type": "stream",
     "text": [
      "23.345\n",
      "<class 'str'>\n"
     ]
    }
   ],
   "source": [
    "f = '23.345'\n",
    "print(f)\n",
    "print(type(f))"
   ]
  },
  {
   "cell_type": "code",
   "execution_count": 68,
   "id": "e2ab86f9",
   "metadata": {},
   "outputs": [
    {
     "name": "stdout",
     "output_type": "stream",
     "text": [
      "WelComE to #%$#@%^&**&^%$# 632184230\n",
      "<class 'str'>\n"
     ]
    }
   ],
   "source": [
    "f = \"WelComE to #%$#@%^&**&^%$# 632184230\"\n",
    "print(f)\n",
    "print(type(f))"
   ]
  },
  {
   "cell_type": "code",
   "execution_count": 50,
   "id": "f1e95685",
   "metadata": {},
   "outputs": [
    {
     "name": "stdout",
     "output_type": "stream",
     "text": [
      "Learning Python is fun\n",
      "<class 'str'>\n"
     ]
    }
   ],
   "source": [
    "v6 = 'Learning Python is fun'\n",
    "print(v6)\n",
    "print(type(v6))"
   ]
  },
  {
   "cell_type": "code",
   "execution_count": 69,
   "id": "c9858010",
   "metadata": {},
   "outputs": [
    {
     "name": "stdout",
     "output_type": "stream",
     "text": [
      "Learning \n",
      "Python\n"
     ]
    }
   ],
   "source": [
    "v7 = '''Learning \n",
    "Python'''\n",
    "print(v7)"
   ]
  },
  {
   "cell_type": "code",
   "execution_count": 70,
   "id": "e4bfbb97",
   "metadata": {},
   "outputs": [
    {
     "name": "stdout",
     "output_type": "stream",
     "text": [
      "Learning Python with \n",
      "hands on examples\n",
      "\n",
      "<class 'str'>\n"
     ]
    }
   ],
   "source": [
    "v7 = \"\"\"Learning Python with \n",
    "hands on examples\n",
    "\"\"\"\n",
    "print(v7)\n",
    "print(type(v7))"
   ]
  },
  {
   "cell_type": "code",
   "execution_count": 72,
   "id": "8ea8062f",
   "metadata": {},
   "outputs": [
    {
     "name": "stdout",
     "output_type": "stream",
     "text": [
      "welcome to India\n"
     ]
    }
   ],
   "source": [
    "d = \"\"\"welcome to India\"\"\"\n",
    "print(d)"
   ]
  },
  {
   "cell_type": "code",
   "execution_count": 57,
   "id": "26fdb377",
   "metadata": {},
   "outputs": [
    {
     "name": "stdout",
     "output_type": "stream",
     "text": [
      "5000.0\n"
     ]
    },
    {
     "data": {
      "text/plain": [
       "float"
      ]
     },
     "execution_count": 57,
     "metadata": {},
     "output_type": "execute_result"
    }
   ],
   "source": [
    "r = 5e3  # 5*10^3\n",
    "print(r)\n",
    "type(r)"
   ]
  },
  {
   "cell_type": "code",
   "execution_count": 62,
   "id": "13a2ef22",
   "metadata": {},
   "outputs": [
    {
     "name": "stdout",
     "output_type": "stream",
     "text": [
      "0.0003\n"
     ]
    },
    {
     "data": {
      "text/plain": [
       "float"
      ]
     },
     "execution_count": 62,
     "metadata": {},
     "output_type": "execute_result"
    }
   ],
   "source": [
    "r1 = 3e-4  \n",
    "print(r1)\n",
    "type(r1)"
   ]
  },
  {
   "cell_type": "markdown",
   "id": "571361f1",
   "metadata": {},
   "source": [
    "### Operators\n",
    "Entities using which we can perform mathematical operations"
   ]
  },
  {
   "cell_type": "markdown",
   "id": "8a739694",
   "metadata": {},
   "source": [
    "### 1) Arithmetic Operators "
   ]
  },
  {
   "cell_type": "code",
   "execution_count": 76,
   "id": "b60748ae",
   "metadata": {},
   "outputs": [
    {
     "name": "stdout",
     "output_type": "stream",
     "text": [
      "7\n",
      "3\n",
      "10\n",
      "2.5\n",
      "25\n",
      "32\n",
      "2\n",
      "1\n"
     ]
    }
   ],
   "source": [
    "a,b = 5,2\n",
    "print(a+b)\n",
    "print(a-b)\n",
    "print(a*b)\n",
    "print(a/b)  # Always Returns float\n",
    "print(a**b) # Power Operator ( a raised to power of b)\n",
    "print(b**a)\n",
    "print(a//b) # Integer Division\n",
    "print(a%b)  # Modulo Operator (returns remainder)"
   ]
  },
  {
   "cell_type": "markdown",
   "id": "16c1769b",
   "metadata": {},
   "source": [
    "#### Difference between / and //"
   ]
  },
  {
   "cell_type": "code",
   "execution_count": 77,
   "id": "2cd87537",
   "metadata": {},
   "outputs": [
    {
     "name": "stdout",
     "output_type": "stream",
     "text": [
      "2.0\n",
      "2\n"
     ]
    }
   ],
   "source": [
    "print(4/2) # always returns float\n",
    "print(4//2)"
   ]
  },
  {
   "cell_type": "code",
   "execution_count": 80,
   "id": "bf61b97a",
   "metadata": {},
   "outputs": [
    {
     "name": "stdout",
     "output_type": "stream",
     "text": [
      "2.25\n",
      "2.0\n",
      "1.0\n"
     ]
    }
   ],
   "source": [
    "print(4.5/2) # always returns float\n",
    "print(4.5//2)\n",
    "print(7.5//4)"
   ]
  },
  {
   "cell_type": "markdown",
   "id": "f9f2a7ad",
   "metadata": {},
   "source": [
    "### 2) Assignment Operator "
   ]
  },
  {
   "cell_type": "code",
   "execution_count": 85,
   "id": "f99f0751",
   "metadata": {},
   "outputs": [
    {
     "name": "stdout",
     "output_type": "stream",
     "text": [
      "2 5\n",
      "---------\n",
      "2 7\n",
      "---------\n",
      "2 5\n",
      "---------\n",
      "10 5\n",
      "---------\n",
      "10 0.5\n"
     ]
    }
   ],
   "source": [
    "a,b = 2,5\n",
    "print(a,b)\n",
    "b += a   # (b = b+a) \n",
    "print('---------')   # Meant to separate outputs\n",
    "print(a,b) # a=2, b=7\n",
    "b -= a   # (b = b-a)\n",
    "print('---------')\n",
    "print(a,b) # a=2,b=5\n",
    "a *= b   # (a = a*b)\n",
    "print('---------')\n",
    "print(a,b) # a=10, b=5\n",
    "b /= a   # (b = b/a)\n",
    "print('---------')\n",
    "print(a,b) # a=10, b=0.5"
   ]
  },
  {
   "cell_type": "code",
   "execution_count": 88,
   "id": "41fa30c3",
   "metadata": {},
   "outputs": [
    {
     "name": "stdout",
     "output_type": "stream",
     "text": [
      "2 5\n",
      "---------\n",
      "2 25\n",
      "---------\n",
      "2 12\n",
      "---------\n",
      "2 0\n"
     ]
    }
   ],
   "source": [
    "a,b = 2,5\n",
    "print(a,b)\n",
    "b **= a   # (b = b**a) \n",
    "print('---------')\n",
    "print(a,b) # a=2, b=25 \n",
    "b //= a   # (b = b//a)\n",
    "print('---------')\n",
    "print(a,b) # a=2, b=12\n",
    "b %= a   # (b = b%a)\n",
    "print('---------')\n",
    "print(a,b) # a=2,b=0\n"
   ]
  },
  {
   "cell_type": "code",
   "execution_count": 98,
   "id": "62dba3ae",
   "metadata": {},
   "outputs": [
    {
     "name": "stdout",
     "output_type": "stream",
     "text": [
      "2 5\n",
      "7 5\n",
      "12 5\n"
     ]
    }
   ],
   "source": [
    "a,b=2,5\n",
    "print(a,b)\n",
    "a  = a+b\n",
    "print(a,b)\n",
    "a += b\n",
    "print(a,b)"
   ]
  },
  {
   "cell_type": "markdown",
   "id": "5f852500",
   "metadata": {},
   "source": [
    "### 3) Relational/Comparison Operator \n",
    "Returns True or False"
   ]
  },
  {
   "cell_type": "code",
   "execution_count": 94,
   "id": "96d87a32",
   "metadata": {},
   "outputs": [
    {
     "name": "stdout",
     "output_type": "stream",
     "text": [
      "False\n",
      "True\n",
      "False\n",
      "True\n",
      "True\n",
      "False\n"
     ]
    }
   ],
   "source": [
    "a,b =  20,25\n",
    "print(a>b)  # F\n",
    "print(a<b)  # T\n",
    "print(a>=b) # F\n",
    "print(a<=b) # T\n",
    "print(a!=b) # Not Equal to\n",
    "print(a==b) # Equal to (Comparison)"
   ]
  },
  {
   "cell_type": "code",
   "execution_count": 91,
   "id": "d6d31681",
   "metadata": {},
   "outputs": [
    {
     "ename": "TypeError",
     "evalue": "'a' is an invalid keyword argument for print()",
     "output_type": "error",
     "traceback": [
      "\u001b[1;31m---------------------------------------------------------------------------\u001b[0m",
      "\u001b[1;31mTypeError\u001b[0m                                 Traceback (most recent call last)",
      "\u001b[1;32m<ipython-input-91-b51a0910f26b>\u001b[0m in \u001b[0;36m<module>\u001b[1;34m\u001b[0m\n\u001b[0;32m      1\u001b[0m \u001b[0ma\u001b[0m\u001b[1;33m=\u001b[0m\u001b[1;36m4\u001b[0m\u001b[1;33m\u001b[0m\u001b[1;33m\u001b[0m\u001b[0m\n\u001b[0;32m      2\u001b[0m \u001b[0mb\u001b[0m\u001b[1;33m=\u001b[0m\u001b[1;36m3\u001b[0m\u001b[1;33m\u001b[0m\u001b[1;33m\u001b[0m\u001b[0m\n\u001b[1;32m----> 3\u001b[1;33m \u001b[0mprint\u001b[0m\u001b[1;33m(\u001b[0m\u001b[0ma\u001b[0m\u001b[1;33m=\u001b[0m\u001b[0mb\u001b[0m\u001b[1;33m)\u001b[0m\u001b[1;33m\u001b[0m\u001b[1;33m\u001b[0m\u001b[0m\n\u001b[0m",
      "\u001b[1;31mTypeError\u001b[0m: 'a' is an invalid keyword argument for print()"
     ]
    }
   ],
   "source": [
    "a=4\n",
    "b=3\n",
    "print(a=b)"
   ]
  },
  {
   "cell_type": "markdown",
   "id": "b232f2f3",
   "metadata": {},
   "source": [
    "### 4) Logical Operators\n",
    "and - Returns True when both conditions are True, otherwise False<br>\n",
    "or - Returns True when either of the condition is True, otherwise False"
   ]
  },
  {
   "cell_type": "code",
   "execution_count": 95,
   "id": "c865f672",
   "metadata": {},
   "outputs": [
    {
     "name": "stdout",
     "output_type": "stream",
     "text": [
      "False\n",
      "False\n",
      "True\n",
      "True\n",
      "False\n"
     ]
    }
   ],
   "source": [
    "a,b,c = 10,15,20\n",
    "print(a>b and c>b) #F\n",
    "print(a<b and a>c) #F\n",
    "print(a<b and b<c) #T\n",
    "print(a>b or c>b)  #T\n",
    "print(a>c or b>c)  #F"
   ]
  },
  {
   "cell_type": "markdown",
   "id": "70c92aca",
   "metadata": {},
   "source": [
    "### 5) Membership Operators\n",
    "Retunrs True or False<br>\n",
    "Applied on str only(as of now)"
   ]
  },
  {
   "cell_type": "code",
   "execution_count": 107,
   "id": "5628d226",
   "metadata": {},
   "outputs": [
    {
     "name": "stdout",
     "output_type": "stream",
     "text": [
      "True\n",
      "True\n",
      "True\n",
      "False\n",
      "False\n",
      "True\n",
      "False\n",
      "True\n",
      "False\n"
     ]
    }
   ],
   "source": [
    "a = \"Welcome to python Learning\"\n",
    "print(\"me\" in a)\n",
    "print('python' in a)  # case sensitive\n",
    "print(\"n Le\" in a)\n",
    "print(\"m Le\" in a)\n",
    "print('very' in a)\n",
    "print(\"m Le\" in a or \"n Le\" in a)\n",
    "print(\"m Le\" in a and \"n Le\" in a)\n",
    "\n",
    "print('hello' not in a)\n",
    "print('ning' not in a)"
   ]
  },
  {
   "cell_type": "code",
   "execution_count": null,
   "id": "471ef777",
   "metadata": {},
   "outputs": [],
   "source": []
  },
  {
   "cell_type": "markdown",
   "id": "67ec815d",
   "metadata": {},
   "source": [
    "### end and sep arguments of print()"
   ]
  },
  {
   "cell_type": "code",
   "execution_count": 112,
   "id": "eb80e5e7",
   "metadata": {},
   "outputs": [
    {
     "name": "stdout",
     "output_type": "stream",
     "text": [
      "Welcome to \n",
      "Python Learning\n"
     ]
    }
   ],
   "source": [
    "print(\"Welcome to \\nPython Learning\")"
   ]
  },
  {
   "cell_type": "code",
   "execution_count": 114,
   "id": "091f2a06",
   "metadata": {},
   "outputs": [
    {
     "name": "stdout",
     "output_type": "stream",
     "text": [
      "MySQL installation\n",
      "Anaconda installation\n"
     ]
    }
   ],
   "source": [
    "print('MySQL installation')\n",
    "print('Anaconda installation')"
   ]
  },
  {
   "cell_type": "code",
   "execution_count": 116,
   "id": "827efb8c",
   "metadata": {},
   "outputs": [
    {
     "name": "stdout",
     "output_type": "stream",
     "text": [
      "MySQL installation Anaconda installation\n"
     ]
    }
   ],
   "source": [
    "print('MySQL installation', end=\" \")\n",
    "print('Anaconda installation')"
   ]
  },
  {
   "cell_type": "code",
   "execution_count": 117,
   "id": "41ad69c2",
   "metadata": {},
   "outputs": [
    {
     "name": "stdout",
     "output_type": "stream",
     "text": [
      "Hello World Python\n",
      "Hello World PythonHi"
     ]
    }
   ],
   "source": [
    "a = \"Hello\"\n",
    "b = \"World\"\n",
    "c = \"Python\"\n",
    "print(a,b,c)\n",
    "print(a,b,c,end=\"Hi\")"
   ]
  },
  {
   "cell_type": "code",
   "execution_count": 118,
   "id": "f899081f",
   "metadata": {},
   "outputs": [
    {
     "name": "stdout",
     "output_type": "stream",
     "text": [
      "Hello World Python Hi "
     ]
    }
   ],
   "source": [
    "print(a,b,c,end=\" Hi \")"
   ]
  },
  {
   "cell_type": "code",
   "execution_count": 119,
   "id": "c8826f68",
   "metadata": {},
   "outputs": [
    {
     "name": "stdout",
     "output_type": "stream",
     "text": [
      "Hello World Hi "
     ]
    }
   ],
   "source": [
    "print(a,b,end=\" Hi \")"
   ]
  },
  {
   "cell_type": "code",
   "execution_count": 38,
   "id": "9de2b86e",
   "metadata": {},
   "outputs": [
    {
     "name": "stdout",
     "output_type": "stream",
     "text": [
      "Hello World Python ** "
     ]
    }
   ],
   "source": [
    "print(a,b,c,end=\" ** \")"
   ]
  },
  {
   "cell_type": "code",
   "execution_count": 123,
   "id": "68422c65",
   "metadata": {},
   "outputs": [
    {
     "name": "stdout",
     "output_type": "stream",
     "text": [
      "Hello World Python\n",
      "Hello ** World ** Python\n",
      "Hello**World**Python\n",
      "Hello Google World Google Python\n"
     ]
    }
   ],
   "source": [
    "print(a,b,c)\n",
    "print(a,b,c,sep=\" ** \")\n",
    "print(a,b,c,sep=\"**\")\n",
    "print(a,b,c,sep=\" Google \")"
   ]
  },
  {
   "cell_type": "code",
   "execution_count": 124,
   "id": "e2a9917e",
   "metadata": {},
   "outputs": [
    {
     "name": "stdout",
     "output_type": "stream",
     "text": [
      "Hello $$ World $$ Python Ends here"
     ]
    }
   ],
   "source": [
    "print(a,b,c,sep=\" $$ \",end=\" Ends here\")"
   ]
  },
  {
   "cell_type": "code",
   "execution_count": 125,
   "id": "4f6e2d91",
   "metadata": {},
   "outputs": [
    {
     "name": "stdout",
     "output_type": "stream",
     "text": [
      "Mobile Phone"
     ]
    }
   ],
   "source": [
    "a = \"Mobile\"\n",
    "print(a,end=\" Phone\")"
   ]
  },
  {
   "cell_type": "code",
   "execution_count": 126,
   "id": "ca85d9cc",
   "metadata": {},
   "outputs": [
    {
     "name": "stdout",
     "output_type": "stream",
     "text": [
      "Mobile\n"
     ]
    }
   ],
   "source": [
    "a = \"Mobile\"\n",
    "print(a,sep=\" Phone\")"
   ]
  },
  {
   "cell_type": "markdown",
   "id": "fc87c9a5",
   "metadata": {},
   "source": [
    "### Accepting input from the user\n",
    "input() - Accept input from the user"
   ]
  },
  {
   "cell_type": "code",
   "execution_count": 129,
   "id": "50764631",
   "metadata": {},
   "outputs": [
    {
     "name": "stdout",
     "output_type": "stream",
     "text": [
      "Hello\n",
      "Hello\n"
     ]
    },
    {
     "data": {
      "text/plain": [
       "str"
      ]
     },
     "execution_count": 129,
     "metadata": {},
     "output_type": "execute_result"
    }
   ],
   "source": [
    "n = input()\n",
    "print(n)\n",
    "type(n)"
   ]
  },
  {
   "cell_type": "code",
   "execution_count": 131,
   "id": "144b569d",
   "metadata": {},
   "outputs": [
    {
     "name": "stdout",
     "output_type": "stream",
     "text": [
      "Enter a name: Harsh\n",
      "Hello Harsh Welcome to Python session\n"
     ]
    }
   ],
   "source": [
    "m = input('Enter a name: ')\n",
    "print('Hello',m,'Welcome to Python session')"
   ]
  },
  {
   "cell_type": "code",
   "execution_count": 141,
   "id": "861ededb",
   "metadata": {},
   "outputs": [
    {
     "name": "stdout",
     "output_type": "stream",
     "text": [
      "Hello\n",
      "Hello\n"
     ]
    },
    {
     "data": {
      "text/plain": [
       "str"
      ]
     },
     "execution_count": 141,
     "metadata": {},
     "output_type": "execute_result"
    }
   ],
   "source": [
    "a = input()\n",
    "print(a)\n",
    "type(a)"
   ]
  },
  {
   "cell_type": "markdown",
   "id": "32844ced",
   "metadata": {},
   "source": [
    "### Notes\n",
    "1) The return type of input function is string (str).<br>\n",
    "2)<b> Typecasting </b> - Changing from one data type to another is called typecasting.\n",
    "    It ensures that data of only a specified data type can be accepted by the program\n",
    "    and any other data type if entered by the user will throw an error."
   ]
  },
  {
   "cell_type": "code",
   "execution_count": 143,
   "id": "10c8c81a",
   "metadata": {},
   "outputs": [
    {
     "name": "stdout",
     "output_type": "stream",
     "text": [
      "Enter your name Aman\n",
      "Aman\n"
     ]
    },
    {
     "data": {
      "text/plain": [
       "str"
      ]
     },
     "execution_count": 143,
     "metadata": {},
     "output_type": "execute_result"
    }
   ],
   "source": [
    "text = input('Enter your name ')\n",
    "print(text)\n",
    "type(text)"
   ]
  },
  {
   "cell_type": "markdown",
   "id": "e4acc25f",
   "metadata": {},
   "source": [
    "#### Accept only int from user"
   ]
  },
  {
   "cell_type": "code",
   "execution_count": 148,
   "id": "1fe5bf3e",
   "metadata": {},
   "outputs": [
    {
     "name": "stdout",
     "output_type": "stream",
     "text": [
      "Enter a name: 32423\n",
      "32423\n"
     ]
    },
    {
     "data": {
      "text/plain": [
       "int"
      ]
     },
     "execution_count": 148,
     "metadata": {},
     "output_type": "execute_result"
    }
   ],
   "source": [
    "text = int(input('Enter a name: '))\n",
    "print(text)\n",
    "type(text)"
   ]
  },
  {
   "cell_type": "code",
   "execution_count": 149,
   "id": "b71a4ccf",
   "metadata": {},
   "outputs": [
    {
     "name": "stdout",
     "output_type": "stream",
     "text": [
      "Enter a number Rahul\n"
     ]
    },
    {
     "ename": "ValueError",
     "evalue": "invalid literal for int() with base 10: 'Rahul'",
     "output_type": "error",
     "traceback": [
      "\u001b[1;31m---------------------------------------------------------------------------\u001b[0m",
      "\u001b[1;31mValueError\u001b[0m                                Traceback (most recent call last)",
      "\u001b[1;32m<ipython-input-149-0bcb494cf2af>\u001b[0m in \u001b[0;36m<module>\u001b[1;34m\u001b[0m\n\u001b[1;32m----> 1\u001b[1;33m \u001b[0mtext\u001b[0m \u001b[1;33m=\u001b[0m \u001b[0mint\u001b[0m\u001b[1;33m(\u001b[0m\u001b[0minput\u001b[0m\u001b[1;33m(\u001b[0m\u001b[1;34m'Enter a number '\u001b[0m\u001b[1;33m)\u001b[0m\u001b[1;33m)\u001b[0m\u001b[1;33m\u001b[0m\u001b[1;33m\u001b[0m\u001b[0m\n\u001b[0m\u001b[0;32m      2\u001b[0m \u001b[0mprint\u001b[0m\u001b[1;33m(\u001b[0m\u001b[0mtext\u001b[0m\u001b[1;33m)\u001b[0m\u001b[1;33m\u001b[0m\u001b[1;33m\u001b[0m\u001b[0m\n\u001b[0;32m      3\u001b[0m \u001b[0mprint\u001b[0m\u001b[1;33m(\u001b[0m\u001b[0mtype\u001b[0m\u001b[1;33m(\u001b[0m\u001b[0mtext\u001b[0m\u001b[1;33m)\u001b[0m\u001b[1;33m)\u001b[0m\u001b[1;33m\u001b[0m\u001b[1;33m\u001b[0m\u001b[0m\n",
      "\u001b[1;31mValueError\u001b[0m: invalid literal for int() with base 10: 'Rahul'"
     ]
    }
   ],
   "source": [
    "text = int(input('Enter a number '))\n",
    "print(text)\n",
    "print(type(text))"
   ]
  },
  {
   "cell_type": "code",
   "execution_count": 150,
   "id": "9630fbb0",
   "metadata": {},
   "outputs": [
    {
     "name": "stdout",
     "output_type": "stream",
     "text": [
      "Enter a number 6.245\n"
     ]
    },
    {
     "ename": "ValueError",
     "evalue": "invalid literal for int() with base 10: '6.245'",
     "output_type": "error",
     "traceback": [
      "\u001b[1;31m---------------------------------------------------------------------------\u001b[0m",
      "\u001b[1;31mValueError\u001b[0m                                Traceback (most recent call last)",
      "\u001b[1;32m<ipython-input-150-0bcb494cf2af>\u001b[0m in \u001b[0;36m<module>\u001b[1;34m\u001b[0m\n\u001b[1;32m----> 1\u001b[1;33m \u001b[0mtext\u001b[0m \u001b[1;33m=\u001b[0m \u001b[0mint\u001b[0m\u001b[1;33m(\u001b[0m\u001b[0minput\u001b[0m\u001b[1;33m(\u001b[0m\u001b[1;34m'Enter a number '\u001b[0m\u001b[1;33m)\u001b[0m\u001b[1;33m)\u001b[0m\u001b[1;33m\u001b[0m\u001b[1;33m\u001b[0m\u001b[0m\n\u001b[0m\u001b[0;32m      2\u001b[0m \u001b[0mprint\u001b[0m\u001b[1;33m(\u001b[0m\u001b[0mtext\u001b[0m\u001b[1;33m)\u001b[0m\u001b[1;33m\u001b[0m\u001b[1;33m\u001b[0m\u001b[0m\n\u001b[0;32m      3\u001b[0m \u001b[0mprint\u001b[0m\u001b[1;33m(\u001b[0m\u001b[0mtype\u001b[0m\u001b[1;33m(\u001b[0m\u001b[0mtext\u001b[0m\u001b[1;33m)\u001b[0m\u001b[1;33m)\u001b[0m\u001b[1;33m\u001b[0m\u001b[1;33m\u001b[0m\u001b[0m\n",
      "\u001b[1;31mValueError\u001b[0m: invalid literal for int() with base 10: '6.245'"
     ]
    }
   ],
   "source": [
    "text = int(input('Enter a number '))\n",
    "print(text)\n",
    "print(type(text))"
   ]
  },
  {
   "cell_type": "code",
   "execution_count": 162,
   "id": "79486912",
   "metadata": {},
   "outputs": [
    {
     "name": "stdout",
     "output_type": "stream",
     "text": [
      "98535\n",
      "<class 'str'>\n",
      "98535\n",
      "<class 'int'>\n"
     ]
    }
   ],
   "source": [
    "s1 = \"98535\"\n",
    "print(s1)\n",
    "print(type(s1))\n",
    "s1_int = int(s1)\n",
    "print(s1_int)\n",
    "print(type(s1_int))"
   ]
  },
  {
   "cell_type": "code",
   "execution_count": 160,
   "id": "6523e983",
   "metadata": {},
   "outputs": [
    {
     "name": "stdout",
     "output_type": "stream",
     "text": [
      "Welcome 345\n",
      "<class 'str'>\n"
     ]
    },
    {
     "ename": "ValueError",
     "evalue": "invalid literal for int() with base 10: 'Welcome 345'",
     "output_type": "error",
     "traceback": [
      "\u001b[1;31m---------------------------------------------------------------------------\u001b[0m",
      "\u001b[1;31mValueError\u001b[0m                                Traceback (most recent call last)",
      "\u001b[1;32m<ipython-input-160-1e9ea86a09a9>\u001b[0m in \u001b[0;36m<module>\u001b[1;34m\u001b[0m\n\u001b[0;32m      2\u001b[0m \u001b[0mprint\u001b[0m\u001b[1;33m(\u001b[0m\u001b[0ms1\u001b[0m\u001b[1;33m)\u001b[0m\u001b[1;33m\u001b[0m\u001b[1;33m\u001b[0m\u001b[0m\n\u001b[0;32m      3\u001b[0m \u001b[0mprint\u001b[0m\u001b[1;33m(\u001b[0m\u001b[0mtype\u001b[0m\u001b[1;33m(\u001b[0m\u001b[0ms1\u001b[0m\u001b[1;33m)\u001b[0m\u001b[1;33m)\u001b[0m\u001b[1;33m\u001b[0m\u001b[1;33m\u001b[0m\u001b[0m\n\u001b[1;32m----> 4\u001b[1;33m \u001b[0ms1_int\u001b[0m \u001b[1;33m=\u001b[0m \u001b[0mint\u001b[0m\u001b[1;33m(\u001b[0m\u001b[0ms1\u001b[0m\u001b[1;33m)\u001b[0m\u001b[1;33m\u001b[0m\u001b[1;33m\u001b[0m\u001b[0m\n\u001b[0m\u001b[0;32m      5\u001b[0m \u001b[0mprint\u001b[0m\u001b[1;33m(\u001b[0m\u001b[0ms1_int\u001b[0m\u001b[1;33m)\u001b[0m\u001b[1;33m\u001b[0m\u001b[1;33m\u001b[0m\u001b[0m\n\u001b[0;32m      6\u001b[0m \u001b[0mprint\u001b[0m\u001b[1;33m(\u001b[0m\u001b[0mtype\u001b[0m\u001b[1;33m(\u001b[0m\u001b[0ms1_int\u001b[0m\u001b[1;33m)\u001b[0m\u001b[1;33m)\u001b[0m\u001b[1;33m\u001b[0m\u001b[1;33m\u001b[0m\u001b[0m\n",
      "\u001b[1;31mValueError\u001b[0m: invalid literal for int() with base 10: 'Welcome 345'"
     ]
    }
   ],
   "source": [
    "s1 = \"Welcome 345\"\n",
    "print(s1)\n",
    "print(type(s1))\n",
    "s1_int = int(s1)\n",
    "print(s1_int)\n",
    "print(type(s1_int))"
   ]
  },
  {
   "cell_type": "code",
   "execution_count": 166,
   "id": "4c5fc664",
   "metadata": {},
   "outputs": [
    {
     "name": "stdout",
     "output_type": "stream",
     "text": [
      "Enter a number 3.23\n",
      "3.23\n",
      "<class 'float'>\n"
     ]
    }
   ],
   "source": [
    "g = float(input('Enter a number '))\n",
    "print(g)\n",
    "print(type(g))"
   ]
  },
  {
   "cell_type": "code",
   "execution_count": 167,
   "id": "4f46008e",
   "metadata": {},
   "outputs": [
    {
     "name": "stdout",
     "output_type": "stream",
     "text": [
      "Enter a number 87\n",
      "87.0\n",
      "<class 'float'>\n"
     ]
    }
   ],
   "source": [
    "# float accpets int as input but int cant accpet float as integer using input()\n",
    "g = float(input('Enter a number '))\n",
    "print(g)\n",
    "print(type(g))"
   ]
  },
  {
   "cell_type": "markdown",
   "id": "8a12b227",
   "metadata": {},
   "source": [
    "#### Q) Accpet a number from the user and print  -> 64\n",
    "a) 50% of that number<br>\n",
    "b) square root of that number<br>\n",
    "c) cube root of that number<br>"
   ]
  },
  {
   "cell_type": "code",
   "execution_count": 181,
   "id": "cc359bb2",
   "metadata": {},
   "outputs": [
    {
     "name": "stdout",
     "output_type": "stream",
     "text": [
      "Enter a number: 64\n",
      "32\n",
      "8.0\n",
      "3.994458664404116\n"
     ]
    }
   ],
   "source": [
    "num = int(input('Enter a number: '))\n",
    "num_a = num//2\n",
    "print(num_a)\n",
    "num_b = num**0.5\n",
    "print(num_b)\n",
    "num_c = num**(0.333)\n",
    "print(num_c)"
   ]
  },
  {
   "cell_type": "code",
   "execution_count": 184,
   "id": "b83cda67",
   "metadata": {},
   "outputs": [
    {
     "name": "stdout",
     "output_type": "stream",
     "text": [
      "Enter a number 64\n",
      "32\n",
      "8.0\n",
      "3.9999999999999996\n"
     ]
    }
   ],
   "source": [
    "num = int(input('Enter a number '))\n",
    "print(num//2)\n",
    "print(num**0.5)\n",
    "print(num**(1/3))"
   ]
  },
  {
   "cell_type": "code",
   "execution_count": 176,
   "id": "a354dc7e",
   "metadata": {},
   "outputs": [],
   "source": [
    "import math"
   ]
  },
  {
   "cell_type": "code",
   "execution_count": 177,
   "id": "02a098fb",
   "metadata": {},
   "outputs": [
    {
     "name": "stdout",
     "output_type": "stream",
     "text": [
      "Enter a number: 64\n",
      "32\n",
      "8.0\n",
      "4\n"
     ]
    }
   ],
   "source": [
    "num = int(input('Enter a number: '))\n",
    "num_a = num//2\n",
    "print(num_a)\n",
    "num_b = num**0.5\n",
    "print(num_b)\n",
    "num_c = math.ceil(num**(1/3))\n",
    "print(num_c)"
   ]
  },
  {
   "cell_type": "code",
   "execution_count": 192,
   "id": "b549718c",
   "metadata": {},
   "outputs": [
    {
     "name": "stdout",
     "output_type": "stream",
     "text": [
      "23.45\n",
      "<class 'str'>\n",
      "23.45\n",
      "<class 'float'>\n",
      "23\n",
      "<class 'int'>\n"
     ]
    }
   ],
   "source": [
    "w = \"23.45\"\n",
    "print(w)\n",
    "print(type(w))\n",
    "w = float(w)\n",
    "print(w)\n",
    "print(type(w))\n",
    "w = int(w)\n",
    "print(w)\n",
    "print(type(w))"
   ]
  },
  {
   "cell_type": "code",
   "execution_count": 191,
   "id": "96956588",
   "metadata": {},
   "outputs": [
    {
     "name": "stdout",
     "output_type": "stream",
     "text": [
      "Enter a number: 78\n",
      "78\n"
     ]
    }
   ],
   "source": [
    "r = int(input('Enter a number: '))\n",
    "print(r)"
   ]
  },
  {
   "cell_type": "code",
   "execution_count": null,
   "id": "ed243bda",
   "metadata": {},
   "outputs": [],
   "source": [
    "#\n",
    "1) variables\n",
    "2) data types\n",
    "3) operators\n",
    "4) print()- end and sep\n",
    "5) input()\n",
    "6) Typecasting"
   ]
  }
 ],
 "metadata": {
  "kernelspec": {
   "display_name": "Python 3",
   "language": "python",
   "name": "python3"
  },
  "language_info": {
   "codemirror_mode": {
    "name": "ipython",
    "version": 3
   },
   "file_extension": ".py",
   "mimetype": "text/x-python",
   "name": "python",
   "nbconvert_exporter": "python",
   "pygments_lexer": "ipython3",
   "version": "3.8.8"
  }
 },
 "nbformat": 4,
 "nbformat_minor": 5
}
