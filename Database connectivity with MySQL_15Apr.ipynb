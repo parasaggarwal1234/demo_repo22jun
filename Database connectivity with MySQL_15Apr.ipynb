{
 "cells": [
  {
   "cell_type": "code",
   "execution_count": 2,
   "id": "c1a4f716",
   "metadata": {},
   "outputs": [],
   "source": [
    "import pymysql"
   ]
  },
  {
   "cell_type": "code",
   "execution_count": 3,
   "id": "042729a7",
   "metadata": {},
   "outputs": [],
   "source": [
    "db = pymysql.connect(user=\"root\",password=\"sql753\",database=\"mar30\")"
   ]
  },
  {
   "cell_type": "code",
   "execution_count": 4,
   "id": "590f31b4",
   "metadata": {},
   "outputs": [],
   "source": [
    "cr = db.cursor()"
   ]
  },
  {
   "cell_type": "markdown",
   "id": "014de962",
   "metadata": {},
   "source": [
    "#### Read the data from the table"
   ]
  },
  {
   "cell_type": "code",
   "execution_count": 5,
   "id": "2548ea95",
   "metadata": {},
   "outputs": [
    {
     "name": "stdout",
     "output_type": "stream",
     "text": [
      "(121, 'SQL', datetime.date(2022, 4, 15))\n",
      "(122, 'ML', datetime.date(2022, 5, 1))\n",
      "(123, 'DL', datetime.date(2022, 3, 20))\n",
      "(124, 'DS', datetime.date(2022, 3, 1))\n",
      "(125, 'Tableau', datetime.date(2022, 6, 20))\n",
      "(126, 'Excel', datetime.date(2022, 6, 1))\n",
      "(127, 'Power BI', datetime.date(2022, 7, 1))\n"
     ]
    }
   ],
   "source": [
    "q1 = \"select * from course\"\n",
    "cr.execute(q1)\n",
    "\n",
    "for i in cr:\n",
    "    print(i)"
   ]
  },
  {
   "cell_type": "markdown",
   "id": "f9bbc426",
   "metadata": {},
   "source": [
    "#### Insert data into table"
   ]
  },
  {
   "cell_type": "code",
   "execution_count": 7,
   "id": "c0a20319",
   "metadata": {},
   "outputs": [],
   "source": [
    "q2 = \"insert into course values (128,'R Programming','2022-08-01')\"\n",
    "cr.execute(q2)\n",
    "db.commit()"
   ]
  },
  {
   "cell_type": "code",
   "execution_count": 9,
   "id": "d0ded361",
   "metadata": {},
   "outputs": [
    {
     "name": "stdout",
     "output_type": "stream",
     "text": [
      "(121, 'SQL', datetime.date(2022, 4, 15))\n",
      "(122, 'ML', datetime.date(2022, 5, 1))\n",
      "(123, 'DL', datetime.date(2022, 3, 20))\n",
      "(124, 'DS', datetime.date(2022, 3, 1))\n",
      "(125, 'Tableau', datetime.date(2022, 6, 20))\n",
      "(126, 'Excel', datetime.date(2022, 6, 1))\n",
      "(127, 'Power BI', datetime.date(2022, 7, 1))\n",
      "(128, 'R Programming', datetime.date(2022, 8, 1))\n"
     ]
    }
   ],
   "source": [
    "q1 = \"select * from course\"\n",
    "cr.execute(q1)\n",
    "\n",
    "for i in cr:\n",
    "    print(i)"
   ]
  },
  {
   "cell_type": "markdown",
   "id": "1067fc61",
   "metadata": {},
   "source": [
    "#### Update Query"
   ]
  },
  {
   "cell_type": "code",
   "execution_count": 10,
   "id": "a645ed4b",
   "metadata": {},
   "outputs": [],
   "source": [
    "q3 = \"update course set CName='R for Data Science' where CID=128\"\n",
    "cr.execute(q3)\n",
    "db.commit()"
   ]
  },
  {
   "cell_type": "code",
   "execution_count": 11,
   "id": "97baa7bd",
   "metadata": {},
   "outputs": [
    {
     "name": "stdout",
     "output_type": "stream",
     "text": [
      "(121, 'SQL', datetime.date(2022, 4, 15))\n",
      "(122, 'ML', datetime.date(2022, 5, 1))\n",
      "(123, 'DL', datetime.date(2022, 3, 20))\n",
      "(124, 'DS', datetime.date(2022, 3, 1))\n",
      "(125, 'Tableau', datetime.date(2022, 6, 20))\n",
      "(126, 'Excel', datetime.date(2022, 6, 1))\n",
      "(127, 'Power BI', datetime.date(2022, 7, 1))\n",
      "(128, 'R for Data Science', datetime.date(2022, 8, 1))\n"
     ]
    }
   ],
   "source": [
    "q1 = \"select * from course\"\n",
    "cr.execute(q1)\n",
    "\n",
    "for i in cr:\n",
    "    print(i)"
   ]
  },
  {
   "cell_type": "markdown",
   "id": "93630b97",
   "metadata": {},
   "source": [
    "#### delete"
   ]
  },
  {
   "cell_type": "code",
   "execution_count": 12,
   "id": "f9e8aaeb",
   "metadata": {},
   "outputs": [],
   "source": [
    "q4 = \"delete from course where CID=128\"\n",
    "cr.execute(q4)\n",
    "db.commit()"
   ]
  },
  {
   "cell_type": "code",
   "execution_count": 13,
   "id": "7add5975",
   "metadata": {},
   "outputs": [
    {
     "name": "stdout",
     "output_type": "stream",
     "text": [
      "(121, 'SQL', datetime.date(2022, 4, 15))\n",
      "(122, 'ML', datetime.date(2022, 5, 1))\n",
      "(123, 'DL', datetime.date(2022, 3, 20))\n",
      "(124, 'DS', datetime.date(2022, 3, 1))\n",
      "(125, 'Tableau', datetime.date(2022, 6, 20))\n",
      "(126, 'Excel', datetime.date(2022, 6, 1))\n",
      "(127, 'Power BI', datetime.date(2022, 7, 1))\n"
     ]
    }
   ],
   "source": [
    "q1 = \"select * from course\"\n",
    "cr.execute(q1)\n",
    "\n",
    "for i in cr:\n",
    "    print(i)"
   ]
  },
  {
   "cell_type": "markdown",
   "id": "cadffb80",
   "metadata": {},
   "source": [
    "#### Join Query"
   ]
  },
  {
   "cell_type": "code",
   "execution_count": 14,
   "id": "42186dfb",
   "metadata": {},
   "outputs": [
    {
     "data": {
      "text/plain": [
       "8"
      ]
     },
     "execution_count": 14,
     "metadata": {},
     "output_type": "execute_result"
    }
   ],
   "source": [
    "q5 = \"\"\"\n",
    "select e.eid,e.ename, e.c_id,e.marks,c.cname\n",
    "from emp e\n",
    "join course c\n",
    "on e.c_id = c.cid\n",
    "where e.marks>75\n",
    "\"\"\"\n",
    "\n",
    "cr.execute(q5)"
   ]
  },
  {
   "cell_type": "code",
   "execution_count": 16,
   "id": "9e695b1d",
   "metadata": {},
   "outputs": [
    {
     "name": "stdout",
     "output_type": "stream",
     "text": [
      "(10, 'Ankush', 121, 78, 'SQL')\n",
      "(11, 'Shikha', 121, 91, 'SQL')\n",
      "(12, 'Shreyash', 123, 84, 'DL')\n",
      "(14, 'Mohit', 125, 76, 'Tableau')\n",
      "(15, 'Ankit', 125, 89, 'Tableau')\n",
      "(17, 'Menaakshi', 122, 93, 'ML')\n",
      "(20, 'Prateek', 126, 81, 'Excel')\n",
      "(21, 'abc', 126, 83, 'Excel')\n"
     ]
    }
   ],
   "source": [
    "cr.execute(q5)\n",
    "\n",
    "for i in cr:\n",
    "    print(i)"
   ]
  },
  {
   "cell_type": "code",
   "execution_count": null,
   "id": "0d6f65d8",
   "metadata": {},
   "outputs": [],
   "source": []
  },
  {
   "cell_type": "code",
   "execution_count": 20,
   "id": "66d0f73d",
   "metadata": {},
   "outputs": [],
   "source": [
    "db1 = pymysql.connect(user=\"root\",password=\"sql753\")"
   ]
  },
  {
   "cell_type": "code",
   "execution_count": 24,
   "id": "d18edf97",
   "metadata": {},
   "outputs": [],
   "source": [
    "cr1 = db.cursor()"
   ]
  },
  {
   "cell_type": "code",
   "execution_count": 25,
   "id": "645c97f1",
   "metadata": {},
   "outputs": [
    {
     "data": {
      "text/plain": [
       "1"
      ]
     },
     "execution_count": 25,
     "metadata": {},
     "output_type": "execute_result"
    }
   ],
   "source": [
    "q7 = \"create database Apr15\"\n",
    "cr1.execute(q7)"
   ]
  },
  {
   "cell_type": "code",
   "execution_count": 26,
   "id": "7fa3d4b4",
   "metadata": {},
   "outputs": [
    {
     "data": {
      "text/plain": [
       "0"
      ]
     },
     "execution_count": 26,
     "metadata": {},
     "output_type": "execute_result"
    }
   ],
   "source": [
    "q8 = \"use Apr15\"\n",
    "cr1.execute(q8)"
   ]
  },
  {
   "cell_type": "code",
   "execution_count": 28,
   "id": "a342282b",
   "metadata": {},
   "outputs": [],
   "source": [
    "q9 = \"\"\"\n",
    "create table t1(ID int primary key, name varchar(20) not null,city varchar(20))\n",
    "\"\"\"\n",
    "\n",
    "cr1.execute(q9)\n",
    "db.commit()"
   ]
  },
  {
   "cell_type": "code",
   "execution_count": null,
   "id": "e18e645b",
   "metadata": {},
   "outputs": [],
   "source": []
  }
 ],
 "metadata": {
  "kernelspec": {
   "display_name": "Python 3",
   "language": "python",
   "name": "python3"
  },
  "language_info": {
   "codemirror_mode": {
    "name": "ipython",
    "version": 3
   },
   "file_extension": ".py",
   "mimetype": "text/x-python",
   "name": "python",
   "nbconvert_exporter": "python",
   "pygments_lexer": "ipython3",
   "version": "3.8.8"
  }
 },
 "nbformat": 4,
 "nbformat_minor": 5
}
