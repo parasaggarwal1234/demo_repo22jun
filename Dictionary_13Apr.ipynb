{
 "cells": [
  {
   "cell_type": "markdown",
   "id": "f5edba22",
   "metadata": {},
   "source": [
    "### Dictionary\n",
    "\n",
    "1) Dictionary elements are stored in key:value pair format.<br>\n",
    "2) Dictionary elements are enclosed in {} and are separated by comma<br>\n",
    "3) Dictionary is unordered.<br> \n",
    "4) Dictionary can be indexed based on its keys<br>\n",
    "5) All the keys in the dictionary must be unique. Values may be duplicate<br>\n",
    "6) Dictionary is mutable (It can be changed)<br>\n",
    "7) The key,value pair is called item in dictionary and each item is stored in form of tuple<br>"
   ]
  },
  {
   "cell_type": "markdown",
   "id": "ccbabe93",
   "metadata": {},
   "source": [
    "#### Empty Dictionary"
   ]
  },
  {
   "cell_type": "code",
   "execution_count": 3,
   "id": "6e402493",
   "metadata": {},
   "outputs": [
    {
     "name": "stdout",
     "output_type": "stream",
     "text": [
      "{}\n",
      "{}\n",
      "<class 'dict'>\n",
      "<class 'dict'>\n"
     ]
    }
   ],
   "source": [
    "d1 = {}      # Method-1\n",
    "d2 = dict()  # Method-2\n",
    "print(d1)\n",
    "print(d2)\n",
    "print(type(d1))\n",
    "print(type(d2))"
   ]
  },
  {
   "cell_type": "markdown",
   "id": "3dced1fa",
   "metadata": {},
   "source": [
    "#### Examples of Dictionary"
   ]
  },
  {
   "cell_type": "code",
   "execution_count": 7,
   "id": "1128c8f3",
   "metadata": {},
   "outputs": [
    {
     "name": "stdout",
     "output_type": "stream",
     "text": [
      "{'Name': 'Harsh', 'Age': 20, 'City': 'Mumbai'}\n",
      "3\n",
      "<class 'dict'>\n"
     ]
    }
   ],
   "source": [
    "w1 = {'Name':'Harsh','Age':20,'City':'Mumbai'}\n",
    "print(w1)\n",
    "print(len(w1))\n",
    "print(type(w1))"
   ]
  },
  {
   "cell_type": "markdown",
   "id": "6e660cc1",
   "metadata": {},
   "source": [
    "#### Fetch values corresponding to a given key\n",
    "Dict keys are used as index to fetch the corresponding values"
   ]
  },
  {
   "cell_type": "code",
   "execution_count": 10,
   "id": "60f00b08",
   "metadata": {},
   "outputs": [
    {
     "name": "stdout",
     "output_type": "stream",
     "text": [
      "{'Name': 'Harsh', 'Age': 20, 'City': 'Mumbai'}\n",
      "Harsh\n",
      "20\n",
      "Mumbai\n"
     ]
    }
   ],
   "source": [
    "print(w1)\n",
    "print(w1['Name'])\n",
    "print(w1['Age'])\n",
    "print(w1['City'])"
   ]
  },
  {
   "cell_type": "code",
   "execution_count": 22,
   "id": "31ad4bf0",
   "metadata": {},
   "outputs": [
    {
     "name": "stdout",
     "output_type": "stream",
     "text": [
      "20\n",
      "Delhi\n",
      "Python\n",
      "India\n",
      "Google\n"
     ]
    }
   ],
   "source": [
    "r = {23:'India',True:'Google','City':'Delhi',10:20,34.5:'Python'}\n",
    "print(r[10])\n",
    "print(r[\"City\"])\n",
    "print(r[34.5])\n",
    "print(r[23])\n",
    "print(r[True])"
   ]
  },
  {
   "cell_type": "markdown",
   "id": "e4f77534",
   "metadata": {},
   "source": [
    "#### Indexing in dict using 0 based indexes is not allowed\n",
    "Slicing is also not allowed based on 0 based index"
   ]
  },
  {
   "cell_type": "code",
   "execution_count": 19,
   "id": "6ee03467",
   "metadata": {},
   "outputs": [
    {
     "ename": "KeyError",
     "evalue": "2",
     "output_type": "error",
     "traceback": [
      "\u001b[1;31m---------------------------------------------------------------------------\u001b[0m",
      "\u001b[1;31mKeyError\u001b[0m                                  Traceback (most recent call last)",
      "\u001b[1;32m<ipython-input-19-79126e7f1465>\u001b[0m in \u001b[0;36m<module>\u001b[1;34m\u001b[0m\n\u001b[0;32m      1\u001b[0m \u001b[0mdata\u001b[0m \u001b[1;33m=\u001b[0m \u001b[1;33m{\u001b[0m\u001b[1;34m'Name'\u001b[0m\u001b[1;33m:\u001b[0m\u001b[1;34m'Shweta'\u001b[0m\u001b[1;33m,\u001b[0m\u001b[1;34m'Age'\u001b[0m\u001b[1;33m:\u001b[0m\u001b[1;36m23\u001b[0m\u001b[1;33m,\u001b[0m\u001b[1;34m'City'\u001b[0m\u001b[1;33m:\u001b[0m\u001b[1;34m'Noida'\u001b[0m\u001b[1;33m,\u001b[0m\u001b[1;34m'Subject'\u001b[0m\u001b[1;33m:\u001b[0m\u001b[1;34m'SQL'\u001b[0m\u001b[1;33m,\u001b[0m\u001b[1;34m'Marks'\u001b[0m\u001b[1;33m:\u001b[0m\u001b[1;36m87\u001b[0m\u001b[1;33m}\u001b[0m\u001b[1;33m\u001b[0m\u001b[1;33m\u001b[0m\u001b[0m\n\u001b[1;32m----> 2\u001b[1;33m \u001b[0mprint\u001b[0m\u001b[1;33m(\u001b[0m\u001b[0mdata\u001b[0m\u001b[1;33m[\u001b[0m\u001b[1;36m2\u001b[0m\u001b[1;33m]\u001b[0m\u001b[1;33m)\u001b[0m\u001b[1;33m\u001b[0m\u001b[1;33m\u001b[0m\u001b[0m\n\u001b[0m",
      "\u001b[1;31mKeyError\u001b[0m: 2"
     ]
    }
   ],
   "source": [
    "data = {'Name':'Shweta','Age':23,'City':'Noida','Subject':'SQL','Marks':87}\n",
    "print(data[2])"
   ]
  },
  {
   "cell_type": "code",
   "execution_count": 20,
   "id": "e25e1b3f",
   "metadata": {},
   "outputs": [
    {
     "ename": "TypeError",
     "evalue": "unhashable type: 'slice'",
     "output_type": "error",
     "traceback": [
      "\u001b[1;31m---------------------------------------------------------------------------\u001b[0m",
      "\u001b[1;31mTypeError\u001b[0m                                 Traceback (most recent call last)",
      "\u001b[1;32m<ipython-input-20-3bb08ac1453f>\u001b[0m in \u001b[0;36m<module>\u001b[1;34m\u001b[0m\n\u001b[0;32m      1\u001b[0m \u001b[0mdata\u001b[0m \u001b[1;33m=\u001b[0m \u001b[1;33m{\u001b[0m\u001b[1;34m'Name'\u001b[0m\u001b[1;33m:\u001b[0m\u001b[1;34m'Shweta'\u001b[0m\u001b[1;33m,\u001b[0m\u001b[1;34m'Age'\u001b[0m\u001b[1;33m:\u001b[0m\u001b[1;36m23\u001b[0m\u001b[1;33m,\u001b[0m\u001b[1;34m'City'\u001b[0m\u001b[1;33m:\u001b[0m\u001b[1;34m'Noida'\u001b[0m\u001b[1;33m,\u001b[0m\u001b[1;34m'Subject'\u001b[0m\u001b[1;33m:\u001b[0m\u001b[1;34m'SQL'\u001b[0m\u001b[1;33m,\u001b[0m\u001b[1;34m'Marks'\u001b[0m\u001b[1;33m:\u001b[0m\u001b[1;36m87\u001b[0m\u001b[1;33m}\u001b[0m\u001b[1;33m\u001b[0m\u001b[1;33m\u001b[0m\u001b[0m\n\u001b[1;32m----> 2\u001b[1;33m \u001b[0mprint\u001b[0m\u001b[1;33m(\u001b[0m\u001b[0mdata\u001b[0m\u001b[1;33m[\u001b[0m\u001b[1;36m1\u001b[0m\u001b[1;33m:\u001b[0m\u001b[1;36m3\u001b[0m\u001b[1;33m]\u001b[0m\u001b[1;33m)\u001b[0m\u001b[1;33m\u001b[0m\u001b[1;33m\u001b[0m\u001b[0m\n\u001b[0m",
      "\u001b[1;31mTypeError\u001b[0m: unhashable type: 'slice'"
     ]
    }
   ],
   "source": [
    "data = {'Name':'Shweta','Age':23,'City':'Noida','Subject':'SQL','Marks':87}\n",
    "print(data[1:3]) # start=1, end=3, step=1"
   ]
  },
  {
   "cell_type": "code",
   "execution_count": 21,
   "id": "3b3caefd",
   "metadata": {},
   "outputs": [
    {
     "name": "stdout",
     "output_type": "stream",
     "text": [
      "Meta\n"
     ]
    }
   ],
   "source": [
    "data = {'Name':'Shweta','Age':23,'City':'Noida',0:'Meta','Marks':87}\n",
    "print(data[0]) # 0 over here is the name of the key"
   ]
  },
  {
   "cell_type": "markdown",
   "id": "4ad689f3",
   "metadata": {},
   "source": [
    "#### Add New key:value pair to the dict\n",
    "=> Dict is mutable"
   ]
  },
  {
   "cell_type": "code",
   "execution_count": 23,
   "id": "ece9c585",
   "metadata": {},
   "outputs": [
    {
     "name": "stdout",
     "output_type": "stream",
     "text": [
      "{'a1': 10, 'a2': 20, 'a3': 30, 'a4': 40}\n",
      "{'a1': 10, 'a2': 20, 'a3': 30, 'a4': 40, 'k1': 15}\n",
      "{'a1': 10, 'a2': 20, 'a3': 30, 'a4': 40, 'k1': 15, 'k2': 'Functions'}\n",
      "{'a1': 10, 'a2': 20, 'a3': 30, 'a4': 40, 'k1': 15, 'k2': 'Functions', 23: 'Hello'}\n"
     ]
    }
   ],
   "source": [
    "d1 = {'a1':10,'a2':20,'a3':30,'a4':40}\n",
    "print(d1)\n",
    "d1['k1'] = 15   # k1 is the key, 15 is the corresponding value\n",
    "print(d1)\n",
    "d1['k2'] = 'Functions'\n",
    "print(d1)\n",
    "d1[23] = 'Hello'\n",
    "print(d1)"
   ]
  },
  {
   "cell_type": "code",
   "execution_count": 27,
   "id": "164b216b",
   "metadata": {},
   "outputs": [
    {
     "name": "stdout",
     "output_type": "stream",
     "text": [
      "10\n",
      "Functions\n",
      "30\n",
      "Hello\n"
     ]
    }
   ],
   "source": [
    "print(d1['a1'])\n",
    "print(d1['k2'])\n",
    "print(d1['a3'])\n",
    "print(d1[23])"
   ]
  },
  {
   "cell_type": "markdown",
   "id": "7aa8d92a",
   "metadata": {},
   "source": [
    "#### Change value for a given key"
   ]
  },
  {
   "cell_type": "code",
   "execution_count": 31,
   "id": "27d34426",
   "metadata": {},
   "outputs": [
    {
     "name": "stdout",
     "output_type": "stream",
     "text": [
      "{'a1': 10, 'a2': 20, 'a3': 30, 'a4': 40}\n",
      "{'a1': 10, 'a2': 'Dictionary', 'a3': 30, 'a4': 'List'}\n"
     ]
    }
   ],
   "source": [
    "d1 = {'a1':10,'a2':20,'a3':30,'a4':40}\n",
    "print(d1)\n",
    "d1['a2'] = 'Dictionary'\n",
    "d1['a4'] = 'List'\n",
    "print(d1)"
   ]
  },
  {
   "cell_type": "markdown",
   "id": "9e1a28c0",
   "metadata": {},
   "source": [
    "#### All the keys in the dict must be unique. Values can be dupliacted"
   ]
  },
  {
   "cell_type": "code",
   "execution_count": 36,
   "id": "57e579f3",
   "metadata": {},
   "outputs": [
    {
     "name": "stdout",
     "output_type": "stream",
     "text": [
      "{'k1': 5, 'k2': True, 'k3': 15, 'k4': 50, 'k5': 15}\n"
     ]
    }
   ],
   "source": [
    "g1 = {'k1':5,'k2':10,'k3':15,'k2':5,'k4':50,'k5':15,'k2':True}\n",
    "print(g1)"
   ]
  },
  {
   "cell_type": "markdown",
   "id": "2aa7bc0c",
   "metadata": {},
   "source": [
    "#### What all data types can be used as keys in dict"
   ]
  },
  {
   "cell_type": "code",
   "execution_count": 49,
   "id": "bab27bee",
   "metadata": {},
   "outputs": [
    {
     "name": "stdout",
     "output_type": "stream",
     "text": [
      "{'Name': 'str', 10: 'int', True: 'bool', 36.98: 'float', (11, 12, 13): 'Tuple', None: 'NoneType', (5+7j): 'complex'}\n"
     ]
    }
   ],
   "source": [
    "# Allowed data types for keys:- str,int,bool,float,None,complex,tuple\n",
    "d1 = {'Name':'str',10:'int',True:'bool',36.98:'float',(11,12,13):'Tuple',\n",
    "     None:'NoneType',5+7j:'complex'}\n",
    "print(d1)"
   ]
  },
  {
   "cell_type": "code",
   "execution_count": 45,
   "id": "53dbf211",
   "metadata": {},
   "outputs": [
    {
     "ename": "TypeError",
     "evalue": "unhashable type: 'list'",
     "output_type": "error",
     "traceback": [
      "\u001b[1;31m---------------------------------------------------------------------------\u001b[0m",
      "\u001b[1;31mTypeError\u001b[0m                                 Traceback (most recent call last)",
      "\u001b[1;32m<ipython-input-45-3242976c5b60>\u001b[0m in \u001b[0;36m<module>\u001b[1;34m\u001b[0m\n\u001b[1;32m----> 1\u001b[1;33m \u001b[0md2\u001b[0m \u001b[1;33m=\u001b[0m \u001b[1;33m{\u001b[0m\u001b[1;33m[\u001b[0m\u001b[1;36m1\u001b[0m\u001b[1;33m,\u001b[0m\u001b[1;36m2\u001b[0m\u001b[1;33m,\u001b[0m\u001b[1;36m3\u001b[0m\u001b[1;33m]\u001b[0m\u001b[1;33m:\u001b[0m\u001b[1;34m'Hello'\u001b[0m\u001b[1;33m}\u001b[0m\u001b[1;33m\u001b[0m\u001b[1;33m\u001b[0m\u001b[0m\n\u001b[0m\u001b[0;32m      2\u001b[0m \u001b[0mprint\u001b[0m\u001b[1;33m(\u001b[0m\u001b[0md2\u001b[0m\u001b[1;33m)\u001b[0m\u001b[1;33m\u001b[0m\u001b[1;33m\u001b[0m\u001b[0m\n",
      "\u001b[1;31mTypeError\u001b[0m: unhashable type: 'list'"
     ]
    }
   ],
   "source": [
    "d2 = {[1,2,3]:'Hello'}\n",
    "print(d2)"
   ]
  },
  {
   "cell_type": "code",
   "execution_count": 46,
   "id": "56bb0481",
   "metadata": {},
   "outputs": [
    {
     "ename": "TypeError",
     "evalue": "unhashable type: 'dict'",
     "output_type": "error",
     "traceback": [
      "\u001b[1;31m---------------------------------------------------------------------------\u001b[0m",
      "\u001b[1;31mTypeError\u001b[0m                                 Traceback (most recent call last)",
      "\u001b[1;32m<ipython-input-46-a5e52cf943f3>\u001b[0m in \u001b[0;36m<module>\u001b[1;34m\u001b[0m\n\u001b[1;32m----> 1\u001b[1;33m \u001b[0md2\u001b[0m \u001b[1;33m=\u001b[0m \u001b[1;33m{\u001b[0m\u001b[1;33m{\u001b[0m\u001b[1;34m'a1'\u001b[0m\u001b[1;33m:\u001b[0m\u001b[1;36m10\u001b[0m\u001b[1;33m}\u001b[0m\u001b[1;33m:\u001b[0m\u001b[1;34m'Hello'\u001b[0m\u001b[1;33m}\u001b[0m\u001b[1;33m\u001b[0m\u001b[1;33m\u001b[0m\u001b[0m\n\u001b[0m\u001b[0;32m      2\u001b[0m \u001b[0mprint\u001b[0m\u001b[1;33m(\u001b[0m\u001b[0md2\u001b[0m\u001b[1;33m)\u001b[0m\u001b[1;33m\u001b[0m\u001b[1;33m\u001b[0m\u001b[0m\n",
      "\u001b[1;31mTypeError\u001b[0m: unhashable type: 'dict'"
     ]
    }
   ],
   "source": [
    "d2 = {{'a1':10}:'Hello'}\n",
    "print(d2)"
   ]
  },
  {
   "cell_type": "markdown",
   "id": "50d1b3e7",
   "metadata": {},
   "source": [
    "#### What are allowed data types for values in a dict"
   ]
  },
  {
   "cell_type": "code",
   "execution_count": 51,
   "id": "2d4b61c3",
   "metadata": {},
   "outputs": [
    {
     "name": "stdout",
     "output_type": "stream",
     "text": [
      "{'Int': 22, 'Float': 14.35, 'Bool': False, 'Str': 'Welcome', 'None': None, 'Complex': (2+3j), 'List': [10, 12], 'Tuple': (7, 8, 9), 'Set': {4, 5, 6}, 'Dict': {'a1': 10, 'a2': 20}}\n"
     ]
    }
   ],
   "source": [
    "# Allowed data types for values - \n",
    "# int,str,bool,float,complex,None,list,tuple, set,dict\n",
    "d2 = {'Int':22,'Float':14.35,'Bool':False,'Str':'Welcome','None':None,\n",
    "     'Complex':2+3j,'List':[10,12],'Tuple':(7,8,9),'Set':{4,5,6},\n",
    "     'Dict':{'a1':10,'a2':20}}\n",
    "print(d2)"
   ]
  },
  {
   "cell_type": "markdown",
   "id": "83a0a7ce",
   "metadata": {},
   "source": [
    "### Methods of Dict"
   ]
  },
  {
   "cell_type": "markdown",
   "id": "895f2620",
   "metadata": {},
   "source": [
    "#### 1) get(key)\n",
    "It is used to fetch value for a given key"
   ]
  },
  {
   "cell_type": "code",
   "execution_count": 128,
   "id": "10cb8fdd",
   "metadata": {},
   "outputs": [
    {
     "name": "stdout",
     "output_type": "stream",
     "text": [
      "34\n",
      "34\n",
      "50\n",
      "50\n",
      "None\n"
     ]
    },
    {
     "ename": "KeyError",
     "evalue": "'k7'",
     "output_type": "error",
     "traceback": [
      "\u001b[1;31m---------------------------------------------------------------------------\u001b[0m",
      "\u001b[1;31mKeyError\u001b[0m                                  Traceback (most recent call last)",
      "\u001b[1;32m<ipython-input-128-5bf5b58e0484>\u001b[0m in \u001b[0;36m<module>\u001b[1;34m\u001b[0m\n\u001b[0;32m      5\u001b[0m \u001b[0mprint\u001b[0m\u001b[1;33m(\u001b[0m\u001b[0mr\u001b[0m\u001b[1;33m[\u001b[0m\u001b[1;34m'k4'\u001b[0m\u001b[1;33m]\u001b[0m\u001b[1;33m)\u001b[0m\u001b[1;33m\u001b[0m\u001b[1;33m\u001b[0m\u001b[0m\n\u001b[0;32m      6\u001b[0m \u001b[0mprint\u001b[0m\u001b[1;33m(\u001b[0m\u001b[0mr\u001b[0m\u001b[1;33m.\u001b[0m\u001b[0mget\u001b[0m\u001b[1;33m(\u001b[0m\u001b[1;34m'k7'\u001b[0m\u001b[1;33m)\u001b[0m\u001b[1;33m)\u001b[0m\u001b[1;33m\u001b[0m\u001b[1;33m\u001b[0m\u001b[0m\n\u001b[1;32m----> 7\u001b[1;33m \u001b[0mprint\u001b[0m\u001b[1;33m(\u001b[0m\u001b[0mr\u001b[0m\u001b[1;33m[\u001b[0m\u001b[1;34m'k7'\u001b[0m\u001b[1;33m]\u001b[0m\u001b[1;33m)\u001b[0m\u001b[1;33m\u001b[0m\u001b[1;33m\u001b[0m\u001b[0m\n\u001b[0m",
      "\u001b[1;31mKeyError\u001b[0m: 'k7'"
     ]
    }
   ],
   "source": [
    "r = {'k1': 5, 'k2': 65, 'k3': 15, 'k4': 50, 'k5': 15,'k1':34}\n",
    "print(r.get('k1'))\n",
    "print(r['k1'])\n",
    "print(r.get('k4'))\n",
    "print(r['k4'])\n",
    "print(r.get('k7'))\n",
    "print(r['k7'])"
   ]
  },
  {
   "cell_type": "markdown",
   "id": "071aa336",
   "metadata": {},
   "source": [
    "#### 2) update()\n",
    "It is used to update a dict with another dict. It can be used to merge 2 dict into one dict"
   ]
  },
  {
   "cell_type": "code",
   "execution_count": 57,
   "id": "d95a4cca",
   "metadata": {},
   "outputs": [
    {
     "name": "stdout",
     "output_type": "stream",
     "text": [
      "{'a1': 3, 'a2': 7, 'a3': 9}\n",
      "{'a5': 4, 'a4': 6, 'a6': 8}\n",
      "{'a1': 3, 'a2': 7, 'a3': 9, 'a5': 4, 'a4': 6, 'a6': 8}\n",
      "{'a5': 4, 'a4': 6, 'a6': 8}\n"
     ]
    }
   ],
   "source": [
    "w1 = {'a1':3,'a2':7,'a3':9}\n",
    "w2 = {'a5':4,'a4':6,'a6':8}\n",
    "print(w1)\n",
    "print(w2)\n",
    "w1.update(w2)  # w1 will get updated\n",
    "print(w1)\n",
    "print(w2)"
   ]
  },
  {
   "cell_type": "code",
   "execution_count": 58,
   "id": "f0dfb220",
   "metadata": {},
   "outputs": [
    {
     "name": "stdout",
     "output_type": "stream",
     "text": [
      "{'a1': 3, 'a2': 7, 'a5': 9}\n",
      "{'a2': 4, 'a5': 6, 'a6': 8}\n",
      "{'a1': 3, 'a2': 4, 'a5': 6, 'a6': 8}\n",
      "{'a2': 4, 'a5': 6, 'a6': 8}\n"
     ]
    }
   ],
   "source": [
    "w1 = {'a1':3,'a2':7,'a5':9}\n",
    "w2 = {'a2':4,'a5':6,'a6':8}\n",
    "print(w1)\n",
    "print(w2)\n",
    "w1.update(w2)\n",
    "print(w1)\n",
    "print(w2)"
   ]
  },
  {
   "cell_type": "code",
   "execution_count": 62,
   "id": "bb82be95",
   "metadata": {},
   "outputs": [
    {
     "name": "stdout",
     "output_type": "stream",
     "text": [
      "{'a1': 3, 'a2': 7, 'a5': 9}\n",
      "{'a2': 4, 'a5': 6, 'a6': 8}\n",
      "{'a2': 4, 'a5': 6, 'a6': 8, 'k1': 10, 'k2': 20}\n"
     ]
    }
   ],
   "source": [
    "w1 = {'a1':3,'a2':7,'a5':9}\n",
    "w2 = {'a2':4,'a5':6,'a6':8}\n",
    "print(w1)\n",
    "print(w2)\n",
    "w2.update(w1)  # w2 gets updated\n",
    "print(w1)\n",
    "print(w2)"
   ]
  },
  {
   "cell_type": "code",
   "execution_count": 60,
   "id": "6dccec82",
   "metadata": {},
   "outputs": [
    {
     "name": "stdout",
     "output_type": "stream",
     "text": [
      "{'a1': 3, 'a2': 7, 'a5': 9}\n"
     ]
    },
    {
     "ename": "TypeError",
     "evalue": "update expected at most 1 argument, got 2",
     "output_type": "error",
     "traceback": [
      "\u001b[1;31m---------------------------------------------------------------------------\u001b[0m",
      "\u001b[1;31mTypeError\u001b[0m                                 Traceback (most recent call last)",
      "\u001b[1;32m<ipython-input-60-79a753005341>\u001b[0m in \u001b[0;36m<module>\u001b[1;34m\u001b[0m\n\u001b[0;32m      3\u001b[0m \u001b[0mw3\u001b[0m \u001b[1;33m=\u001b[0m \u001b[1;33m{\u001b[0m\u001b[1;34m'a7'\u001b[0m\u001b[1;33m:\u001b[0m\u001b[1;36m78\u001b[0m\u001b[1;33m,\u001b[0m\u001b[1;34m'a8'\u001b[0m\u001b[1;33m:\u001b[0m\u001b[1;36m30\u001b[0m\u001b[1;33m}\u001b[0m\u001b[1;33m\u001b[0m\u001b[1;33m\u001b[0m\u001b[0m\n\u001b[0;32m      4\u001b[0m \u001b[0mprint\u001b[0m\u001b[1;33m(\u001b[0m\u001b[0mw1\u001b[0m\u001b[1;33m)\u001b[0m\u001b[1;33m\u001b[0m\u001b[1;33m\u001b[0m\u001b[0m\n\u001b[1;32m----> 5\u001b[1;33m \u001b[0mw1\u001b[0m\u001b[1;33m.\u001b[0m\u001b[0mupdate\u001b[0m\u001b[1;33m(\u001b[0m\u001b[0mw2\u001b[0m\u001b[1;33m,\u001b[0m\u001b[0mw3\u001b[0m\u001b[1;33m)\u001b[0m\u001b[1;33m\u001b[0m\u001b[1;33m\u001b[0m\u001b[0m\n\u001b[0m\u001b[0;32m      6\u001b[0m \u001b[0mprint\u001b[0m\u001b[1;33m(\u001b[0m\u001b[0mw1\u001b[0m\u001b[1;33m)\u001b[0m\u001b[1;33m\u001b[0m\u001b[1;33m\u001b[0m\u001b[0m\n\u001b[0;32m      7\u001b[0m \u001b[0mprint\u001b[0m\u001b[1;33m(\u001b[0m\u001b[0mw2\u001b[0m\u001b[1;33m)\u001b[0m\u001b[1;33m\u001b[0m\u001b[1;33m\u001b[0m\u001b[0m\n",
      "\u001b[1;31mTypeError\u001b[0m: update expected at most 1 argument, got 2"
     ]
    }
   ],
   "source": [
    "w1 = {'a1':3,'a2':7,'a5':9}\n",
    "w2 = {'a2':4,'a5':6,'a6':8}\n",
    "w3 = {'a7':78,'a8':30}\n",
    "print(w1)\n",
    "w1.update(w2,w3)\n",
    "print(w1)\n",
    "print(w2)\n",
    "print(w3)"
   ]
  },
  {
   "cell_type": "code",
   "execution_count": 63,
   "id": "a69c8174",
   "metadata": {},
   "outputs": [
    {
     "name": "stdout",
     "output_type": "stream",
     "text": [
      "{'a1': 3, 'a2': 7, 'a5': 9}\n",
      "{'a1': 3, 'a2': 7, 'a5': 9, 'k1': 17, 'k2': 18}\n"
     ]
    }
   ],
   "source": [
    "w1 = {'a1':3,'a2':7,'a5':9}\n",
    "w2 = {'a2':4,'a5':6,'a6':8}\n",
    "w3 = {'a7':78,'a8':30}\n",
    "print(w1)\n",
    "w1.update({'k1':17,'k2':18})\n",
    "print(w1)"
   ]
  },
  {
   "cell_type": "code",
   "execution_count": 65,
   "id": "61ef2ac2",
   "metadata": {},
   "outputs": [
    {
     "name": "stdout",
     "output_type": "stream",
     "text": [
      "{'a1': 3, 'a2': 7, 'a5': 9}\n",
      "{'a1': 3, 'a2': 4, 'a5': 6, 'a6': 8}\n",
      "{'a1': 3, 'a2': 4, 'a5': 6, 'a6': 8, 'a7': 78, 'a8': 30}\n"
     ]
    }
   ],
   "source": [
    "w1 = {'a1':3,'a2':7,'a5':9}\n",
    "w2 = {'a2':4,'a5':6,'a6':8}\n",
    "w3 = {'a7':78,'a8':30}\n",
    "print(w1)\n",
    "w1.update(w2)  # updating w1 with w2\n",
    "print(w1)\n",
    "w1.update(w3)  # updating w1 with w3\n",
    "print(w1)"
   ]
  },
  {
   "cell_type": "markdown",
   "id": "762dc33d",
   "metadata": {},
   "source": [
    "#### 3) clear()\n",
    "It empties the dict"
   ]
  },
  {
   "cell_type": "code",
   "execution_count": 67,
   "id": "6a224e9f",
   "metadata": {},
   "outputs": [
    {
     "name": "stdout",
     "output_type": "stream",
     "text": [
      "{'a1': 3, 'a2': 7, 'a5': 9}\n",
      "{}\n"
     ]
    }
   ],
   "source": [
    "q1 = {'a1': 3, 'a2': 7, 'a5': 9}\n",
    "print(q1)\n",
    "q1.clear()\n",
    "print(q1)"
   ]
  },
  {
   "cell_type": "markdown",
   "id": "d7f1b99d",
   "metadata": {},
   "source": [
    "#### 4) pop(key)\n",
    "Remove the key-value pair from the dict based on key passed as an argument"
   ]
  },
  {
   "cell_type": "code",
   "execution_count": 68,
   "id": "7b9eee00",
   "metadata": {},
   "outputs": [
    {
     "name": "stdout",
     "output_type": "stream",
     "text": [
      "{'a2': 7, 'a5': 9, 'a6': 10, 'a1': 3}\n",
      "{'a2': 7, 'a6': 10, 'a1': 3}\n",
      "{'a2': 7, 'a6': 10}\n"
     ]
    }
   ],
   "source": [
    "s1 = {'a2': 7, 'a5': 9, 'a6': 8, 'a1': 3,'a6':10}\n",
    "print(s1)\n",
    "s1.pop('a5')\n",
    "print(s1)\n",
    "s1.pop('a1')\n",
    "print(s1)"
   ]
  },
  {
   "cell_type": "code",
   "execution_count": 69,
   "id": "ad8af9fe",
   "metadata": {},
   "outputs": [
    {
     "ename": "TypeError",
     "evalue": "pop expected at least 1 argument, got 0",
     "output_type": "error",
     "traceback": [
      "\u001b[1;31m---------------------------------------------------------------------------\u001b[0m",
      "\u001b[1;31mTypeError\u001b[0m                                 Traceback (most recent call last)",
      "\u001b[1;32m<ipython-input-69-1a5ad8bcd55f>\u001b[0m in \u001b[0;36m<module>\u001b[1;34m\u001b[0m\n\u001b[1;32m----> 1\u001b[1;33m \u001b[0ms1\u001b[0m\u001b[1;33m.\u001b[0m\u001b[0mpop\u001b[0m\u001b[1;33m(\u001b[0m\u001b[1;33m)\u001b[0m\u001b[1;33m\u001b[0m\u001b[1;33m\u001b[0m\u001b[0m\n\u001b[0m\u001b[0;32m      2\u001b[0m \u001b[0mprint\u001b[0m\u001b[1;33m(\u001b[0m\u001b[0ms1\u001b[0m\u001b[1;33m)\u001b[0m\u001b[1;33m\u001b[0m\u001b[1;33m\u001b[0m\u001b[0m\n",
      "\u001b[1;31mTypeError\u001b[0m: pop expected at least 1 argument, got 0"
     ]
    }
   ],
   "source": [
    "s1.pop()\n",
    "print(s1)"
   ]
  },
  {
   "cell_type": "code",
   "execution_count": 71,
   "id": "808bf1e5",
   "metadata": {},
   "outputs": [
    {
     "name": "stdout",
     "output_type": "stream",
     "text": [
      "{'a2': 7, 'a6': 10}\n"
     ]
    },
    {
     "ename": "KeyError",
     "evalue": "'a8'",
     "output_type": "error",
     "traceback": [
      "\u001b[1;31m---------------------------------------------------------------------------\u001b[0m",
      "\u001b[1;31mKeyError\u001b[0m                                  Traceback (most recent call last)",
      "\u001b[1;32m<ipython-input-71-46a684c2acef>\u001b[0m in \u001b[0;36m<module>\u001b[1;34m\u001b[0m\n\u001b[0;32m      1\u001b[0m \u001b[0mprint\u001b[0m\u001b[1;33m(\u001b[0m\u001b[0ms1\u001b[0m\u001b[1;33m)\u001b[0m\u001b[1;33m\u001b[0m\u001b[1;33m\u001b[0m\u001b[0m\n\u001b[1;32m----> 2\u001b[1;33m \u001b[0ms1\u001b[0m\u001b[1;33m.\u001b[0m\u001b[0mpop\u001b[0m\u001b[1;33m(\u001b[0m\u001b[1;34m'a8'\u001b[0m\u001b[1;33m)\u001b[0m\u001b[1;33m\u001b[0m\u001b[1;33m\u001b[0m\u001b[0m\n\u001b[0m\u001b[0;32m      3\u001b[0m \u001b[0mprint\u001b[0m\u001b[1;33m(\u001b[0m\u001b[0ms1\u001b[0m\u001b[1;33m)\u001b[0m\u001b[1;33m\u001b[0m\u001b[1;33m\u001b[0m\u001b[0m\n",
      "\u001b[1;31mKeyError\u001b[0m: 'a8'"
     ]
    }
   ],
   "source": [
    "print(s1)\n",
    "s1.pop('a8')\n",
    "print(s1)"
   ]
  },
  {
   "cell_type": "markdown",
   "id": "eb39a0b7",
   "metadata": {},
   "source": [
    "#### 5) popitem()\n",
    "Revoves the key-value pair from the dict in LIFO(Last In First Out) order"
   ]
  },
  {
   "cell_type": "code",
   "execution_count": 73,
   "id": "5e33ea4e",
   "metadata": {},
   "outputs": [
    {
     "name": "stdout",
     "output_type": "stream",
     "text": [
      "{'k1': 5, 'k2': 7, 'k3': 12, 'k4': 10}\n"
     ]
    }
   ],
   "source": [
    "w = {'k1':5,'k2':7,'k3':8,'k4':10,'k3':12}\n",
    "print(w)"
   ]
  },
  {
   "cell_type": "code",
   "execution_count": 74,
   "id": "ac2482c2",
   "metadata": {},
   "outputs": [
    {
     "name": "stdout",
     "output_type": "stream",
     "text": [
      "{'a2': 7, 'a5': 9, 'a6': 10, 'a1': 3}\n",
      "{'a2': 7, 'a5': 9, 'a6': 10}\n",
      "{'a2': 7, 'a5': 9}\n",
      "{'a2': 7}\n"
     ]
    }
   ],
   "source": [
    "s1 = {'a2': 7, 'a5': 9, 'a6': 8, 'a1': 3,'a6':10}\n",
    "print(s1)\n",
    "s1.popitem()\n",
    "print(s1)\n",
    "s1.popitem()\n",
    "print(s1)\n",
    "s1.popitem()\n",
    "print(s1)"
   ]
  },
  {
   "cell_type": "markdown",
   "id": "3e2671e3",
   "metadata": {},
   "source": [
    "#### 6) setdeafult(key,value)\n",
    "It is used to add a new key:value pair to the dict. If no value is passed, then the value will be updated as None"
   ]
  },
  {
   "cell_type": "code",
   "execution_count": 78,
   "id": "fa4a225f",
   "metadata": {},
   "outputs": [
    {
     "name": "stdout",
     "output_type": "stream",
     "text": [
      "{'a2': 7, 'a5': 9, 'a6': 10, 'a1': 3}\n",
      "{'a2': 7, 'a5': 9, 'a6': 10, 'a1': 3, 'Name': 'Ankit'}\n",
      "{'a2': 7, 'a5': 9, 'a6': 10, 'a1': 3, 'Name': 'Ankit', 'Age': None}\n",
      "{'a2': 7, 'a5': 9, 'a6': 10, 'a1': 3, 'Name': 'Ankit', 'Age': 22}\n"
     ]
    }
   ],
   "source": [
    "f1 =  {'a2': 7, 'a5': 9, 'a6': 10, 'a1': 3}\n",
    "print(f1)\n",
    "f1.setdefault('Name','Ankit')\n",
    "print(f1)\n",
    "f1.setdefault('Age')  # the default value will be None\n",
    "print(f1)\n",
    "f1['Age'] = 22\n",
    "print(f1)"
   ]
  },
  {
   "cell_type": "markdown",
   "id": "fb2ec1e5",
   "metadata": {},
   "source": [
    "#### 7) fromkeys()\n",
    "Create a new dictionary with keys from iterable and values set to value.\n",
    "It is not applied to an exiting dict. It can be used as <br>\n",
    "dict.fromkeys(iterable,value)"
   ]
  },
  {
   "cell_type": "code",
   "execution_count": 83,
   "id": "0d328975",
   "metadata": {},
   "outputs": [
    {
     "name": "stdout",
     "output_type": "stream",
     "text": [
      "['a', 'b', 'c', 'd']\n",
      "{'a': 5, 'b': 5, 'c': 5, 'd': 5}\n",
      "{'a': None, 'b': None, 'c': None, 'd': None}\n",
      "{'a': [10, 20, 30, 40], 'b': [10, 20, 30, 40], 'c': [10, 20, 30, 40], 'd': [10, 20, 30, 40]}\n"
     ]
    }
   ],
   "source": [
    "r = ['a','b','c','d']\n",
    "r1 = dict.fromkeys(r,5)\n",
    "r2 = dict.fromkeys(r)\n",
    "r3 = dict.fromkeys(r,[10,20,30,40])\n",
    "print(r)\n",
    "print(r1)\n",
    "print(r2)\n",
    "print(r3)"
   ]
  },
  {
   "cell_type": "code",
   "execution_count": 91,
   "id": "d4a13970",
   "metadata": {},
   "outputs": [
    {
     "name": "stdout",
     "output_type": "stream",
     "text": [
      "{'a': 5, 'b': 5, 'c': 5, 'd': 5}\n",
      "{'a': 7}\n",
      "{10: 3, 11: 3, 12: 3}\n",
      "{12: 'Hello', 14: 'Hello', 16: 'Hello'}\n"
     ]
    }
   ],
   "source": [
    "r = ['a','b','c','d']\n",
    "r1 = dict.fromkeys('abcd',5)   # str\n",
    "r2 = dict.fromkeys('a',7)      # str\n",
    "r3 = dict.fromkeys(range(10,13),3)  # range\n",
    "r4 = dict.fromkeys((12,14,16),'Hello') # tuple\n",
    "print(r1)\n",
    "print(r2)\n",
    "print(r3)\n",
    "print(r4)"
   ]
  },
  {
   "cell_type": "code",
   "execution_count": 92,
   "id": "28d6aa4a",
   "metadata": {},
   "outputs": [
    {
     "name": "stdout",
     "output_type": "stream",
     "text": [
      "{'a1': 'Meta', 'a2': 'Meta'}\n"
     ]
    }
   ],
   "source": [
    "w = {'a1':10,'a2':20}\n",
    "t1 = dict.fromkeys(w,'Meta')  # dict\n",
    "print(t1)"
   ]
  },
  {
   "cell_type": "code",
   "execution_count": 94,
   "id": "88afb6af",
   "metadata": {},
   "outputs": [
    {
     "name": "stdout",
     "output_type": "stream",
     "text": [
      "Enter the value: Sahil\n",
      "{12: 'Sahil', 13: 'Sahil', 4: 'Sahil'}\n"
     ]
    }
   ],
   "source": [
    "val = input('Enter the value: ')\n",
    "r = dict.fromkeys([12,13,4],val)\n",
    "print(r)"
   ]
  },
  {
   "cell_type": "code",
   "execution_count": null,
   "id": "51fd6c21",
   "metadata": {},
   "outputs": [],
   "source": []
  },
  {
   "cell_type": "markdown",
   "id": "5bc3f775",
   "metadata": {},
   "source": [
    "#### 8),9) and 10) keys, values and items\n",
    "keys()- Returns keys of the dict<br>\n",
    "values()- Returns values of the dict<br>\n",
    "items()- Returns keys,values of the dict in tuple format"
   ]
  },
  {
   "cell_type": "code",
   "execution_count": 96,
   "id": "eae01524",
   "metadata": {},
   "outputs": [
    {
     "name": "stdout",
     "output_type": "stream",
     "text": [
      "dict_keys(['a1', 'a2', 'a3', 'a4'])\n",
      "dict_values([7, 12, 19, 25])\n",
      "dict_items([('a1', 7), ('a2', 12), ('a3', 19), ('a4', 25)])\n"
     ]
    }
   ],
   "source": [
    "d = {'a1':7,'a2':12,'a3':19,'a4':25}\n",
    "print(d.keys())\n",
    "print(d.values())\n",
    "print(d.items())"
   ]
  },
  {
   "cell_type": "code",
   "execution_count": 98,
   "id": "5639c258",
   "metadata": {},
   "outputs": [
    {
     "name": "stdout",
     "output_type": "stream",
     "text": [
      "<class 'dict_keys'>\n",
      "<class 'dict_values'>\n",
      "<class 'dict_items'>\n"
     ]
    }
   ],
   "source": [
    "print(type(d.keys()))\n",
    "print(type(d.values()))\n",
    "print(type(d.items()))"
   ]
  },
  {
   "cell_type": "code",
   "execution_count": 102,
   "id": "b0cd07ba",
   "metadata": {},
   "outputs": [
    {
     "name": "stdout",
     "output_type": "stream",
     "text": [
      "Keys ['a1', 'a2', 'a3', 'a4']\n",
      "Values [7, 12, 19, 25]\n",
      "Items [('a1', 7), ('a2', 12), ('a3', 19), ('a4', 25)]\n"
     ]
    }
   ],
   "source": [
    "d = {'a1':7,'a2':12,'a3':19,'a4':25}\n",
    "k = list(d.keys())\n",
    "v = list(d.values())\n",
    "it = list(d.items())\n",
    "\n",
    "print('Keys',k) # list of keys\n",
    "print('Values',v) # list of values\n",
    "print('Items',it) # list of tuples containing key,value"
   ]
  },
  {
   "cell_type": "markdown",
   "id": "4a6f462f",
   "metadata": {},
   "source": [
    "### Iteration in Dict\n",
    "By default dict allows iteration only on its keys"
   ]
  },
  {
   "cell_type": "code",
   "execution_count": 106,
   "id": "e072062a",
   "metadata": {},
   "outputs": [
    {
     "name": "stdout",
     "output_type": "stream",
     "text": [
      "a1 7 7\n",
      "a2 12 12\n",
      "a3 19 19\n",
      "a4 25 25\n"
     ]
    }
   ],
   "source": [
    "# Method-1\n",
    "d = {'a1':7,'a2':12,'a3':19,'a4':25}\n",
    "for i in d: # i corresponds to each and every key of the dict\n",
    "    print(i,d[i],d.get(i))"
   ]
  },
  {
   "cell_type": "code",
   "execution_count": 107,
   "id": "30280a6f",
   "metadata": {},
   "outputs": [
    {
     "name": "stdout",
     "output_type": "stream",
     "text": [
      "a1 7 7\n",
      "a2 12 12\n",
      "a3 19 19\n",
      "a4 25 25\n"
     ]
    }
   ],
   "source": [
    "# Method-2\n",
    "d = {'a1':7,'a2':12,'a3':19,'a4':25}\n",
    "for i in d.keys(): # i corresponds to each and every key of the dict\n",
    "    print(i,d[i],d.get(i))"
   ]
  },
  {
   "cell_type": "code",
   "execution_count": 110,
   "id": "6124f322",
   "metadata": {},
   "outputs": [
    {
     "name": "stdout",
     "output_type": "stream",
     "text": [
      "7 None\n",
      "12 None\n",
      "19 None\n",
      "25 None\n"
     ]
    }
   ],
   "source": [
    "# Method-3\n",
    "d = {'a1':7,'a2':12,'a3':19,'a4':25}\n",
    "for i in d.values(): # i corresponds to each and every values of the dict\n",
    "    print(i,d.get(i))"
   ]
  },
  {
   "cell_type": "code",
   "execution_count": 111,
   "id": "ab8397e5",
   "metadata": {},
   "outputs": [
    {
     "name": "stdout",
     "output_type": "stream",
     "text": [
      "('a1', 7)\n",
      "('a2', 12)\n",
      "('a3', 19)\n",
      "('a4', 25)\n"
     ]
    }
   ],
   "source": [
    "# Method-4\n",
    "d = {'a1':7,'a2':12,'a3':19,'a4':25}\n",
    "for i in d.items(): # i corresponds to each and every (key,values) of the dict\n",
    "    print(i)"
   ]
  },
  {
   "cell_type": "code",
   "execution_count": 114,
   "id": "11771564",
   "metadata": {},
   "outputs": [
    {
     "name": "stdout",
     "output_type": "stream",
     "text": [
      "a1 7\n",
      "a2 12\n",
      "a3 19\n",
      "a4 25\n"
     ]
    }
   ],
   "source": [
    "# Method-5\n",
    "d = {'a1':7,'a2':12,'a3':19,'a4':25}\n",
    "for k,v in d.items(): # k corresponds to the keys and v corresponds to the value\n",
    "    print(k,v)"
   ]
  },
  {
   "cell_type": "code",
   "execution_count": 115,
   "id": "0f58a6b9",
   "metadata": {},
   "outputs": [
    {
     "name": "stdout",
     "output_type": "stream",
     "text": [
      "{'a1': [10, 12, 13, 14, (15, 16, 17)], 'a2': {'k1': 10, 'k2': [45, 46, 47, {'Name': 'Hitesh', 'Age': 20}]}, 'a3': [34, 35, 17, {'Marks': [87, 89, 93, 60], 'ID': ('A1', 'A2', 'A3')}]}\n"
     ]
    }
   ],
   "source": [
    "data = {'a1':[10,12,13,14,(15,16,17)],\n",
    "       'a2':{'k1':10,'k2':[45,46,47,{'Name':'Hitesh','Age':20}]},\n",
    "       'a3':[34,35,17,{'Marks':[87,89,93,60],'ID':('A1','A2','A3')}]\n",
    "       }\n",
    "print(data)\n"
   ]
  },
  {
   "cell_type": "code",
   "execution_count": 126,
   "id": "c40e99be",
   "metadata": {},
   "outputs": [
    {
     "name": "stdout",
     "output_type": "stream",
     "text": [
      "[13, 14]\n",
      "(15, 17)\n",
      "46\n",
      "Hitesh\n",
      "[17, 34]\n",
      "[93, 87]\n",
      "['Marks', 'ID']\n",
      "20\n"
     ]
    }
   ],
   "source": [
    "print(data['a1'][2:4])     # [13,14]\n",
    "print(data['a1'][4][0::2]) # (15,17)\n",
    "print(data['a2']['k2'][1]) # 46\n",
    "print(data['a2']['k2'][3]['Name']) # Hitesh\n",
    "print(data['a3'][-2::-2])   # [17,34]\n",
    "print(data['a3'][3]['Marks'][-2::-2])  # [93,87]\n",
    "print(list(data['a3'][3].keys()))    # ['Marks','ID']\n",
    "print(data['a2']['k2'][3]['Age'])"
   ]
  },
  {
   "cell_type": "code",
   "execution_count": null,
   "id": "9c92c0ba",
   "metadata": {},
   "outputs": [],
   "source": []
  }
 ],
 "metadata": {
  "kernelspec": {
   "display_name": "Python 3",
   "language": "python",
   "name": "python3"
  },
  "language_info": {
   "codemirror_mode": {
    "name": "ipython",
    "version": 3
   },
   "file_extension": ".py",
   "mimetype": "text/x-python",
   "name": "python",
   "nbconvert_exporter": "python",
   "pygments_lexer": "ipython3",
   "version": "3.8.8"
  }
 },
 "nbformat": 4,
 "nbformat_minor": 5
}
