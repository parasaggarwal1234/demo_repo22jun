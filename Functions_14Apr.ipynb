{
 "cells": [
  {
   "cell_type": "markdown",
   "id": "293d4677",
   "metadata": {},
   "source": [
    "### Functions\n",
    "1) Functions facilitate reusability of code.<br>\n",
    "2) They prevent code repetition<br>\n",
    "3) They make the code modular<br>\n",
    "\n",
    "\n",
    "#### Types of Functions\n",
    "1) <b>Built-in Function</b> - print(),input(),len(),type(), list().append()<br>\n",
    "\n",
    "2) <b>User Defined Functions</b><br>\n",
    "They are created by user/developers to solve a problem statement"
   ]
  },
  {
   "cell_type": "markdown",
   "id": "70e4f4ab",
   "metadata": {},
   "source": [
    "#### User Defined Functions\n",
    "\n",
    "They consist of two pasts<br>\n",
    "1) Function definition<br>\n",
    "2) Function calling - Functions are called using function name"
   ]
  },
  {
   "cell_type": "markdown",
   "id": "47d1e1bd",
   "metadata": {},
   "source": [
    "### Non-Parameterised Functions"
   ]
  },
  {
   "cell_type": "markdown",
   "id": "0c4c89c6",
   "metadata": {},
   "source": [
    "#### Write a function to print sum of two numbers"
   ]
  },
  {
   "cell_type": "code",
   "execution_count": 4,
   "id": "e709bcda",
   "metadata": {},
   "outputs": [
    {
     "name": "stdout",
     "output_type": "stream",
     "text": [
      "7\n"
     ]
    }
   ],
   "source": [
    "# Function Definition\n",
    "def sum2no():\n",
    "    a,b=5,2\n",
    "    print(a+b)\n",
    "    \n",
    "sum2no()"
   ]
  },
  {
   "cell_type": "code",
   "execution_count": 2,
   "id": "e4b4d2b9",
   "metadata": {},
   "outputs": [
    {
     "name": "stdout",
     "output_type": "stream",
     "text": [
      "7\n"
     ]
    }
   ],
   "source": [
    "# Function calling\n",
    "sum2no()"
   ]
  },
  {
   "cell_type": "code",
   "execution_count": 3,
   "id": "d37d0d35",
   "metadata": {},
   "outputs": [
    {
     "name": "stdout",
     "output_type": "stream",
     "text": [
      "7\n"
     ]
    }
   ],
   "source": [
    "sum2no()"
   ]
  },
  {
   "cell_type": "markdown",
   "id": "145be9c5",
   "metadata": {},
   "source": [
    "#### Write a function that accepts 3 user inputs and then compute their sum"
   ]
  },
  {
   "cell_type": "code",
   "execution_count": 5,
   "id": "1ab6f67a",
   "metadata": {},
   "outputs": [
    {
     "name": "stdout",
     "output_type": "stream",
     "text": [
      "Enter 1st num: 5\n",
      "Enter 2nd num: 7\n",
      "Enter 3rd num: 2\n",
      "14\n"
     ]
    }
   ],
   "source": [
    "def sum3no():\n",
    "    a = int(input('Enter 1st num: '))\n",
    "    b = int(input('Enter 2nd num: '))\n",
    "    c = int(input('Enter 3rd num: '))\n",
    "    print(a+b+c)\n",
    "    \n",
    "sum3no()"
   ]
  },
  {
   "cell_type": "code",
   "execution_count": 16,
   "id": "9ecc0072",
   "metadata": {},
   "outputs": [
    {
     "name": "stdout",
     "output_type": "stream",
     "text": [
      "Enter 1st num: 10\n",
      "Enter 2nd num: 20\n",
      "Enter 3rd num: 30\n",
      "60\n"
     ]
    }
   ],
   "source": [
    "sum3no()"
   ]
  },
  {
   "cell_type": "code",
   "execution_count": 15,
   "id": "78320ab4",
   "metadata": {},
   "outputs": [
    {
     "name": "stdout",
     "output_type": "stream",
     "text": [
      "Enter 1st number: 12\n",
      "Enter 2nd number: 5\n",
      "None\n"
     ]
    }
   ],
   "source": [
    "def f1():\n",
    "    n1 = int(input('Enter 1st number: '))\n",
    "    n2 = int(input('Enter 2nd number: '))\n",
    "    res = n1*n2\n",
    "    \n",
    "print(f1())"
   ]
  },
  {
   "cell_type": "code",
   "execution_count": 12,
   "id": "9ec0cbca",
   "metadata": {},
   "outputs": [],
   "source": [
    "# Function Definition\n",
    "def prod_2_no():\n",
    "    n1 = int(input('Enter 1st number: '))\n",
    "    n2 = int(input('Enter 2nd number: '))\n",
    "    print(f'Prod of {n1} and {n2} is {n1*n2}')"
   ]
  },
  {
   "cell_type": "code",
   "execution_count": 13,
   "id": "daa0b392",
   "metadata": {},
   "outputs": [
    {
     "name": "stdout",
     "output_type": "stream",
     "text": [
      "Enter 1st number: 4\n",
      "Enter 2nd number: 7\n",
      "Prod of 4 and 7 is 28\n"
     ]
    }
   ],
   "source": [
    "# Function calling\n",
    "prod_2_no()"
   ]
  },
  {
   "cell_type": "code",
   "execution_count": 14,
   "id": "a53676f4",
   "metadata": {},
   "outputs": [
    {
     "name": "stdout",
     "output_type": "stream",
     "text": [
      "Enter 1st number: 5\n",
      "Enter 2nd number: 3\n",
      "Prod of 5 and 3 is 15\n"
     ]
    }
   ],
   "source": [
    "prod_2_no()"
   ]
  },
  {
   "cell_type": "markdown",
   "id": "743e5e2e",
   "metadata": {},
   "source": [
    "#### WAF to print area of circle using its radius as user input"
   ]
  },
  {
   "cell_type": "code",
   "execution_count": 17,
   "id": "765cb4ba",
   "metadata": {},
   "outputs": [],
   "source": [
    "# Function definition\n",
    "def area_circle():\n",
    "    r = int(input('Enter radius: '))\n",
    "    area = 3.14*r*r\n",
    "    print(f'Area of circle with radius {r} is {area} sq units')"
   ]
  },
  {
   "cell_type": "code",
   "execution_count": 18,
   "id": "6b065472",
   "metadata": {},
   "outputs": [
    {
     "name": "stdout",
     "output_type": "stream",
     "text": [
      "Enter radius: 7\n",
      "Area of circle with radius 7 is 153.86 sq units\n"
     ]
    }
   ],
   "source": [
    "# Function calling\n",
    "area_circle()"
   ]
  },
  {
   "cell_type": "markdown",
   "id": "ca243b59",
   "metadata": {},
   "source": [
    "#### Exercise\n",
    "WAF - Write a Function<br>\n",
    "Q1) WAF to print the diagonal and perimter of rectangle. Accept length and area as user inputs<br>\n",
    "Q2) WAF to compute speed given distance and time. Accept speed and distance as user inputs<br>"
   ]
  },
  {
   "cell_type": "code",
   "execution_count": 20,
   "id": "ffb75b55",
   "metadata": {},
   "outputs": [
    {
     "name": "stdout",
     "output_type": "stream",
     "text": [
      "Enter len of rect: 4\n",
      "Enter Area of rect: 12\n",
      "Perimeter is 14.0, diagonal is 5.0\n",
      "Perimter is 14.0 diagonal is 5.0\n",
      "Perimter is 14.0 diagonal is 5.0\n"
     ]
    }
   ],
   "source": [
    "def diag_peri():\n",
    "    l = int(input('Enter len of rect: '))\n",
    "    area = int(input('Enter Area of rect: '))\n",
    "    b = area/l\n",
    "    peri = 2*(l+b)\n",
    "    diag = (l**2 + b**2)**0.5\n",
    "    print(f'Perimeter is {peri}, diagonal is {diag}')\n",
    "    print('Perimter is',peri,'diagonal is',diag)\n",
    "    print('Perimter is {} diagonal is {}'.format(peri,diag))\n",
    "    \n",
    "diag_peri()"
   ]
  },
  {
   "cell_type": "markdown",
   "id": "c68553a1",
   "metadata": {},
   "source": [
    "### Parameterised Functions"
   ]
  },
  {
   "cell_type": "code",
   "execution_count": 24,
   "id": "1f91d23e",
   "metadata": {},
   "outputs": [
    {
     "name": "stdout",
     "output_type": "stream",
     "text": [
      "Prod of 5 and 7 is 35\n",
      "Prod of 13 and 6 is 78\n"
     ]
    }
   ],
   "source": [
    "# a and b are the parameters of the function\n",
    "def prod_2_no(a,b):\n",
    "    prod = a*b\n",
    "    print(f'Prod of {a} and {b} is {prod}')\n",
    "    \n",
    "prod_2_no(5,7)  # a=5,b=7\n",
    "prod_2_no(13,6)"
   ]
  },
  {
   "cell_type": "code",
   "execution_count": 25,
   "id": "fa1a8a59",
   "metadata": {},
   "outputs": [
    {
     "name": "stdout",
     "output_type": "stream",
     "text": [
      "Prod of 3 and 10 is 30\n"
     ]
    }
   ],
   "source": [
    "m,n=10,3\n",
    "prod_2_no(n,m) \n",
    "# the value of n is considered as a, the value of m is considered as b"
   ]
  },
  {
   "cell_type": "code",
   "execution_count": 26,
   "id": "e80dd14a",
   "metadata": {},
   "outputs": [
    {
     "name": "stdout",
     "output_type": "stream",
     "text": [
      "Prod of 7.3 and 4 is 29.2\n"
     ]
    }
   ],
   "source": [
    "prod_2_no(7.3,4)"
   ]
  },
  {
   "cell_type": "code",
   "execution_count": 27,
   "id": "2bf4507c",
   "metadata": {},
   "outputs": [
    {
     "name": "stdout",
     "output_type": "stream",
     "text": [
      "Prod of Hello  and 3 is Hello Hello Hello \n"
     ]
    }
   ],
   "source": [
    "prod_2_no('Hello ',3)"
   ]
  },
  {
   "cell_type": "code",
   "execution_count": 28,
   "id": "ae7a3cd4",
   "metadata": {},
   "outputs": [
    {
     "ename": "TypeError",
     "evalue": "can't multiply sequence by non-int of type 'str'",
     "output_type": "error",
     "traceback": [
      "\u001b[1;31m---------------------------------------------------------------------------\u001b[0m",
      "\u001b[1;31mTypeError\u001b[0m                                 Traceback (most recent call last)",
      "\u001b[1;32m<ipython-input-28-dec872393ef1>\u001b[0m in \u001b[0;36m<module>\u001b[1;34m\u001b[0m\n\u001b[1;32m----> 1\u001b[1;33m \u001b[0mprod_2_no\u001b[0m\u001b[1;33m(\u001b[0m\u001b[1;34m'Hi'\u001b[0m\u001b[1;33m,\u001b[0m\u001b[1;34m'Bye'\u001b[0m\u001b[1;33m)\u001b[0m\u001b[1;33m\u001b[0m\u001b[1;33m\u001b[0m\u001b[0m\n\u001b[0m",
      "\u001b[1;32m<ipython-input-24-66554707b56f>\u001b[0m in \u001b[0;36mprod_2_no\u001b[1;34m(a, b)\u001b[0m\n\u001b[0;32m      1\u001b[0m \u001b[1;31m# a and b are the parameters of the function\u001b[0m\u001b[1;33m\u001b[0m\u001b[1;33m\u001b[0m\u001b[1;33m\u001b[0m\u001b[0m\n\u001b[0;32m      2\u001b[0m \u001b[1;32mdef\u001b[0m \u001b[0mprod_2_no\u001b[0m\u001b[1;33m(\u001b[0m\u001b[0ma\u001b[0m\u001b[1;33m,\u001b[0m\u001b[0mb\u001b[0m\u001b[1;33m)\u001b[0m\u001b[1;33m:\u001b[0m\u001b[1;33m\u001b[0m\u001b[1;33m\u001b[0m\u001b[0m\n\u001b[1;32m----> 3\u001b[1;33m     \u001b[0mprod\u001b[0m \u001b[1;33m=\u001b[0m \u001b[0ma\u001b[0m\u001b[1;33m*\u001b[0m\u001b[0mb\u001b[0m\u001b[1;33m\u001b[0m\u001b[1;33m\u001b[0m\u001b[0m\n\u001b[0m\u001b[0;32m      4\u001b[0m     \u001b[0mprint\u001b[0m\u001b[1;33m(\u001b[0m\u001b[1;34mf'Prod of {a} and {b} is {prod}'\u001b[0m\u001b[1;33m)\u001b[0m\u001b[1;33m\u001b[0m\u001b[1;33m\u001b[0m\u001b[0m\n\u001b[0;32m      5\u001b[0m \u001b[1;33m\u001b[0m\u001b[0m\n",
      "\u001b[1;31mTypeError\u001b[0m: can't multiply sequence by non-int of type 'str'"
     ]
    }
   ],
   "source": [
    "prod_2_no('Hi','Bye')"
   ]
  },
  {
   "cell_type": "code",
   "execution_count": 30,
   "id": "b8d4d85e",
   "metadata": {},
   "outputs": [
    {
     "name": "stdout",
     "output_type": "stream",
     "text": [
      "Prod of 3 and 4 is 12\n"
     ]
    },
    {
     "ename": "ValueError",
     "evalue": "invalid literal for int() with base 10: 'Hi'",
     "output_type": "error",
     "traceback": [
      "\u001b[1;31m---------------------------------------------------------------------------\u001b[0m",
      "\u001b[1;31mValueError\u001b[0m                                Traceback (most recent call last)",
      "\u001b[1;32m<ipython-input-30-2a3fa0a637cb>\u001b[0m in \u001b[0;36m<module>\u001b[1;34m\u001b[0m\n\u001b[0;32m      5\u001b[0m \u001b[1;33m\u001b[0m\u001b[0m\n\u001b[0;32m      6\u001b[0m \u001b[0mprod2no\u001b[0m\u001b[1;33m(\u001b[0m\u001b[1;36m3\u001b[0m\u001b[1;33m,\u001b[0m\u001b[1;36m4\u001b[0m\u001b[1;33m)\u001b[0m\u001b[1;33m\u001b[0m\u001b[1;33m\u001b[0m\u001b[0m\n\u001b[1;32m----> 7\u001b[1;33m \u001b[0mprod2no\u001b[0m\u001b[1;33m(\u001b[0m\u001b[1;34m'Hi'\u001b[0m\u001b[1;33m,\u001b[0m\u001b[1;34m'Bye'\u001b[0m\u001b[1;33m)\u001b[0m\u001b[1;33m\u001b[0m\u001b[1;33m\u001b[0m\u001b[0m\n\u001b[0m",
      "\u001b[1;32m<ipython-input-30-2a3fa0a637cb>\u001b[0m in \u001b[0;36mprod2no\u001b[1;34m(a, b)\u001b[0m\n\u001b[0;32m      1\u001b[0m \u001b[1;32mdef\u001b[0m \u001b[0mprod2no\u001b[0m\u001b[1;33m(\u001b[0m\u001b[0ma\u001b[0m\u001b[1;33m,\u001b[0m\u001b[0mb\u001b[0m\u001b[1;33m)\u001b[0m\u001b[1;33m:\u001b[0m\u001b[1;33m\u001b[0m\u001b[1;33m\u001b[0m\u001b[0m\n\u001b[1;32m----> 2\u001b[1;33m     \u001b[0ma\u001b[0m\u001b[1;33m,\u001b[0m\u001b[0mb\u001b[0m \u001b[1;33m=\u001b[0m \u001b[0mint\u001b[0m\u001b[1;33m(\u001b[0m\u001b[0ma\u001b[0m\u001b[1;33m)\u001b[0m\u001b[1;33m,\u001b[0m\u001b[0mint\u001b[0m\u001b[1;33m(\u001b[0m\u001b[0mb\u001b[0m\u001b[1;33m)\u001b[0m\u001b[1;33m\u001b[0m\u001b[1;33m\u001b[0m\u001b[0m\n\u001b[0m\u001b[0;32m      3\u001b[0m     \u001b[0mprod\u001b[0m \u001b[1;33m=\u001b[0m \u001b[0ma\u001b[0m\u001b[1;33m*\u001b[0m\u001b[0mb\u001b[0m\u001b[1;33m\u001b[0m\u001b[1;33m\u001b[0m\u001b[0m\n\u001b[0;32m      4\u001b[0m     \u001b[0mprint\u001b[0m\u001b[1;33m(\u001b[0m\u001b[1;34mf'Prod of {a} and {b} is {prod}'\u001b[0m\u001b[1;33m)\u001b[0m\u001b[1;33m\u001b[0m\u001b[1;33m\u001b[0m\u001b[0m\n\u001b[0;32m      5\u001b[0m \u001b[1;33m\u001b[0m\u001b[0m\n",
      "\u001b[1;31mValueError\u001b[0m: invalid literal for int() with base 10: 'Hi'"
     ]
    }
   ],
   "source": [
    "def prod2no(a,b):\n",
    "    a,b = int(a),int(b)\n",
    "    prod = a*b\n",
    "    print(f'Prod of {a} and {b} is {prod}')\n",
    "    \n",
    "prod2no(3,4)\n",
    "prod2no('Hi','Bye')"
   ]
  },
  {
   "cell_type": "code",
   "execution_count": null,
   "id": "d3e4d5f4",
   "metadata": {},
   "outputs": [],
   "source": []
  },
  {
   "cell_type": "markdown",
   "id": "75f21d06",
   "metadata": {},
   "source": [
    "#### WAF to check if a given number is even or odd"
   ]
  },
  {
   "cell_type": "code",
   "execution_count": 31,
   "id": "26cbbabb",
   "metadata": {},
   "outputs": [
    {
     "name": "stdout",
     "output_type": "stream",
     "text": [
      "2342 is even\n",
      "321437 is odd\n"
     ]
    }
   ],
   "source": [
    "def even_odd(n):\n",
    "    if n%2==0:\n",
    "        print(f'{n} is even')\n",
    "    else:\n",
    "        print(n,'is odd')\n",
    "        \n",
    "even_odd(2342)\n",
    "even_odd(321437)"
   ]
  },
  {
   "cell_type": "markdown",
   "id": "435ef108",
   "metadata": {},
   "source": [
    "#### WAF to the print the table of a number(from 1 to 10) provided number as argument"
   ]
  },
  {
   "cell_type": "code",
   "execution_count": 33,
   "id": "4a0d1624",
   "metadata": {},
   "outputs": [
    {
     "name": "stdout",
     "output_type": "stream",
     "text": [
      "8 * 1 = 8\n",
      "8 * 2 = 16\n",
      "8 * 3 = 24\n",
      "8 * 4 = 32\n",
      "8 * 5 = 40\n",
      "8 * 6 = 48\n",
      "8 * 7 = 56\n",
      "8 * 8 = 64\n",
      "8 * 9 = 72\n",
      "8 * 10 = 80\n"
     ]
    }
   ],
   "source": [
    "def table(n):\n",
    "    for i in range(1,11):\n",
    "        print(f'{n} * {i} = {n*i}')\n",
    "        \n",
    "table(8)"
   ]
  },
  {
   "cell_type": "code",
   "execution_count": 42,
   "id": "cafadb3d",
   "metadata": {},
   "outputs": [
    {
     "name": "stdout",
     "output_type": "stream",
     "text": [
      "9\n",
      "9\n",
      "8\n"
     ]
    }
   ],
   "source": [
    "def f2(a,b,c):\n",
    "    print(a+b-c)\n",
    "    \n",
    "f2(7,5,3)\n",
    "f2(a=7,b=5,c=3)\n",
    "f2(c=4,b=10,a=2)"
   ]
  },
  {
   "cell_type": "code",
   "execution_count": null,
   "id": "a0343315",
   "metadata": {},
   "outputs": [],
   "source": []
  },
  {
   "cell_type": "markdown",
   "id": "1bea456b",
   "metadata": {},
   "source": [
    "#### Positional Arguments and Default arguments\n",
    "\n",
    "Default arguments - parameters initailzed by default values. They are used when the corresponding argument is not passed while function is called"
   ]
  },
  {
   "cell_type": "code",
   "execution_count": 39,
   "id": "02be9071",
   "metadata": {},
   "outputs": [
    {
     "name": "stdout",
     "output_type": "stream",
     "text": [
      "9\n",
      "11\n",
      "6\n"
     ]
    }
   ],
   "source": [
    "def f1(a,b=3):\n",
    "    print(a+b)\n",
    "    \n",
    "f1(4,5) # a=4,b=5\n",
    "f1(8)   # a=8, b=3\n",
    "f1(3)"
   ]
  },
  {
   "cell_type": "code",
   "execution_count": 45,
   "id": "0a3e3a60",
   "metadata": {},
   "outputs": [
    {
     "name": "stdout",
     "output_type": "stream",
     "text": [
      "220\n",
      "30\n",
      "15\n",
      "23\n",
      "5\n"
     ]
    }
   ],
   "source": [
    "def f2(a=2,b=3,c=5,d=4):\n",
    "    r = (a+b) *(c-d)\n",
    "    print(r)\n",
    "    \n",
    "f2(10,12,15,5) # a=10,b=12,c=15,d=5\n",
    "f2(7,8,6)      # a=7,b=8,c=6,d=4\n",
    "f2(7,8)        # a=7,b=8,c=5,d=4\n",
    "f2(20)         # a=20, b=3,c=5,d=4\n",
    "f2()           # a=2,b=3,c=5,d=4"
   ]
  },
  {
   "cell_type": "code",
   "execution_count": 47,
   "id": "70307a27",
   "metadata": {},
   "outputs": [
    {
     "name": "stdout",
     "output_type": "stream",
     "text": [
      "25\n",
      "27\n"
     ]
    },
    {
     "ename": "TypeError",
     "evalue": "f3() missing 1 required positional argument: 'b'",
     "output_type": "error",
     "traceback": [
      "\u001b[1;31m---------------------------------------------------------------------------\u001b[0m",
      "\u001b[1;31mTypeError\u001b[0m                                 Traceback (most recent call last)",
      "\u001b[1;32m<ipython-input-47-b503a4bb8982>\u001b[0m in \u001b[0;36m<module>\u001b[1;34m\u001b[0m\n\u001b[0;32m      5\u001b[0m \u001b[0mf3\u001b[0m\u001b[1;33m(\u001b[0m\u001b[1;36m10\u001b[0m\u001b[1;33m,\u001b[0m\u001b[1;36m3\u001b[0m\u001b[1;33m)\u001b[0m\u001b[1;33m\u001b[0m\u001b[1;33m\u001b[0m\u001b[0m\n\u001b[0;32m      6\u001b[0m \u001b[0mf3\u001b[0m\u001b[1;33m(\u001b[0m\u001b[0mb\u001b[0m\u001b[1;33m=\u001b[0m\u001b[1;36m10\u001b[0m\u001b[1;33m,\u001b[0m\u001b[0ma\u001b[0m\u001b[1;33m=\u001b[0m\u001b[1;36m5\u001b[0m\u001b[1;33m)\u001b[0m\u001b[1;33m\u001b[0m\u001b[1;33m\u001b[0m\u001b[0m\n\u001b[1;32m----> 7\u001b[1;33m \u001b[0mf3\u001b[0m\u001b[1;33m(\u001b[0m\u001b[0ma\u001b[0m\u001b[1;33m=\u001b[0m\u001b[1;36m7\u001b[0m\u001b[1;33m)\u001b[0m\u001b[1;33m\u001b[0m\u001b[1;33m\u001b[0m\u001b[0m\n\u001b[0m",
      "\u001b[1;31mTypeError\u001b[0m: f3() missing 1 required positional argument: 'b'"
     ]
    }
   ],
   "source": [
    "def f3(a,b,c=7,d=5):\n",
    "    r = a+b+c+d\n",
    "    print(r)\n",
    "\n",
    "f3(10,3)\n",
    "f3(b=10,a=5)\n",
    "f3(a=7) # Error b must be specified while calling"
   ]
  },
  {
   "cell_type": "code",
   "execution_count": 55,
   "id": "fda9c05e",
   "metadata": {},
   "outputs": [
    {
     "ename": "SyntaxError",
     "evalue": "non-default argument follows default argument (<ipython-input-55-e2f6753e2599>, line 1)",
     "output_type": "error",
     "traceback": [
      "\u001b[1;36m  File \u001b[1;32m\"<ipython-input-55-e2f6753e2599>\"\u001b[1;36m, line \u001b[1;32m1\u001b[0m\n\u001b[1;33m    def f4(b=10,a):\u001b[0m\n\u001b[1;37m           ^\u001b[0m\n\u001b[1;31mSyntaxError\u001b[0m\u001b[1;31m:\u001b[0m non-default argument follows default argument\n"
     ]
    }
   ],
   "source": [
    "def f4(b=10,a):\n",
    "    r = a*b\n",
    "    print(r)\n",
    "    \n",
    "f4(a=4)"
   ]
  },
  {
   "cell_type": "code",
   "execution_count": 50,
   "id": "cf95341e",
   "metadata": {},
   "outputs": [
    {
     "name": "stdout",
     "output_type": "stream",
     "text": [
      "32\n"
     ]
    }
   ],
   "source": [
    "def f4(b,a=10):\n",
    "    r = a*b\n",
    "    print(r)\n",
    "    \n",
    "f4(8,4)"
   ]
  },
  {
   "cell_type": "markdown",
   "id": "d4c67619",
   "metadata": {},
   "source": [
    "#### While defining the functions with arguments\n",
    "1) Postional arguments have be defined first and then followed by default arguments\n",
    "\n",
    "f1(a,b,c)       # Allowed<br>\n",
    "f1(a,b=5,c=7)   # Allowed  <br>\n",
    "f1(a=2,b=3,c=4) # Allowed<br>\n",
    "f1(a=3,b,c)     # Not Allowed<br>\n",
    "f1(a,b=4,c)     # Not Allowed<br>\n",
    "f1(a=4,b,c=5)   # Not allowed"
   ]
  },
  {
   "cell_type": "code",
   "execution_count": 58,
   "id": "f5119264",
   "metadata": {},
   "outputs": [
    {
     "ename": "SyntaxError",
     "evalue": "non-default argument follows default argument (<ipython-input-58-b3a5f74bf14e>, line 1)",
     "output_type": "error",
     "traceback": [
      "\u001b[1;36m  File \u001b[1;32m\"<ipython-input-58-b3a5f74bf14e>\"\u001b[1;36m, line \u001b[1;32m1\u001b[0m\n\u001b[1;33m    def f1(a=7,b,c=4):\u001b[0m\n\u001b[1;37m           ^\u001b[0m\n\u001b[1;31mSyntaxError\u001b[0m\u001b[1;31m:\u001b[0m non-default argument follows default argument\n"
     ]
    }
   ],
   "source": [
    "def f1(a=7,b,c=4):\n",
    "    print(a+b+c)\n",
    "    \n",
    "f1(7,8,9)"
   ]
  },
  {
   "cell_type": "markdown",
   "id": "5275faa1",
   "metadata": {},
   "source": [
    "### return keyword\n",
    "1) return is only used inside functions<br>\n",
    "2) return has to be the last statement in a function<br>\n",
    "3) return can be used only once in a function<br>\n",
    "4) if multple return statements are used, only the first one is the valid statement<br>\n",
    "5) return cannot be used to generate a sequence<br>"
   ]
  },
  {
   "cell_type": "code",
   "execution_count": 5,
   "id": "95f4f914",
   "metadata": {},
   "outputs": [
    {
     "name": "stdout",
     "output_type": "stream",
     "text": [
      "Elon Musk\n",
      "Dan Brown\n"
     ]
    }
   ],
   "source": [
    "def gen_fullname(fn,ln):\n",
    "    fullname = fn + \" \" + ln\n",
    "    return fullname\n",
    "\n",
    "res = gen_fullname('Elon','Musk')  # Elon Musk\n",
    "print(res)\n",
    "res1 = gen_fullname('Dan', 'Brown')\n",
    "print(res1)"
   ]
  },
  {
   "cell_type": "code",
   "execution_count": 6,
   "id": "6419ea52",
   "metadata": {},
   "outputs": [
    {
     "data": {
      "text/plain": [
       "'Shreya Singh'"
      ]
     },
     "execution_count": 6,
     "metadata": {},
     "output_type": "execute_result"
    }
   ],
   "source": [
    "# This wont work on other IDEs other than Jupyter or Colab\n",
    "gen_fullname('Shreya','Singh')"
   ]
  },
  {
   "cell_type": "code",
   "execution_count": 7,
   "id": "f121b9c5",
   "metadata": {},
   "outputs": [
    {
     "name": "stdout",
     "output_type": "stream",
     "text": [
      "Ankit Chaturvedi\n"
     ]
    }
   ],
   "source": [
    "def gen_fullname(fn,ln):\n",
    "    return fn + \" \" + ln\n",
    "\n",
    "res = gen_fullname('Ankit','Chaturvedi')\n",
    "print(res)"
   ]
  },
  {
   "cell_type": "code",
   "execution_count": 65,
   "id": "57dbb25f",
   "metadata": {},
   "outputs": [
    {
     "name": "stdout",
     "output_type": "stream",
     "text": [
      "(10, 2.5, 'Hello')\n"
     ]
    },
    {
     "data": {
      "text/plain": [
       "tuple"
      ]
     },
     "execution_count": 65,
     "metadata": {},
     "output_type": "execute_result"
    }
   ],
   "source": [
    "x = 10,2.5,\"Hello\"\n",
    "print(x)\n",
    "type(x)"
   ]
  },
  {
   "cell_type": "code",
   "execution_count": 12,
   "id": "7083644a",
   "metadata": {},
   "outputs": [
    {
     "name": "stdout",
     "output_type": "stream",
     "text": [
      "('Imarticus', ' ', 'Leanring')\n"
     ]
    }
   ],
   "source": [
    "def gen_fullname(fn,ln):\n",
    "#     return fn+\" ** \"+ln\n",
    "#     return f\"{fn} - {ln}\"\n",
    "#     return \"{}__{}\".format(fn,ln)\n",
    "    return fn,\" \",ln               # tuple\n",
    "\n",
    "res = gen_fullname('Imarticus','Leanring')\n",
    "print(res)"
   ]
  },
  {
   "cell_type": "code",
   "execution_count": 13,
   "id": "f34c9ad2",
   "metadata": {},
   "outputs": [
    {
     "name": "stdout",
     "output_type": "stream",
     "text": [
      "Python\n"
     ]
    },
    {
     "data": {
      "text/plain": [
       "'Welcome'"
      ]
     },
     "execution_count": 13,
     "metadata": {},
     "output_type": "execute_result"
    }
   ],
   "source": [
    "def g1():\n",
    "    print('Python')\n",
    "    return \"Welcome\"\n",
    "\n",
    "r = g1()\n",
    "r"
   ]
  },
  {
   "cell_type": "code",
   "execution_count": 14,
   "id": "22571153",
   "metadata": {},
   "outputs": [
    {
     "name": "stdout",
     "output_type": "stream",
     "text": [
      "Python\n",
      "Welcome\n"
     ]
    }
   ],
   "source": [
    "def g1():\n",
    "    print('Python')\n",
    "    return \"Welcome\"\n",
    "\n",
    "r = g1()\n",
    "print(r)"
   ]
  },
  {
   "cell_type": "code",
   "execution_count": 15,
   "id": "c3962fd4",
   "metadata": {},
   "outputs": [
    {
     "name": "stdout",
     "output_type": "stream",
     "text": [
      "Welcome\n"
     ]
    }
   ],
   "source": [
    "def g1():\n",
    "    return \"Welcome\"\n",
    "    print('Python')\n",
    "\n",
    "r = g1()\n",
    "print(r)"
   ]
  },
  {
   "cell_type": "code",
   "execution_count": 17,
   "id": "5451737c",
   "metadata": {},
   "outputs": [
    {
     "name": "stdout",
     "output_type": "stream",
     "text": [
      "37\n",
      "56\n"
     ]
    }
   ],
   "source": [
    "def f5(a,b,c):\n",
    "    return (a*b)-c\n",
    "\n",
    "r = f5(8,5,3)\n",
    "print(r)\n",
    "r1 = f5(6,10,4)\n",
    "print(r1)"
   ]
  },
  {
   "cell_type": "markdown",
   "id": "53e6df39",
   "metadata": {},
   "source": [
    "#### If multiple return statements are used, only the first return statement is considered valid return"
   ]
  },
  {
   "cell_type": "code",
   "execution_count": 19,
   "id": "619f75e3",
   "metadata": {},
   "outputs": [
    {
     "name": "stdout",
     "output_type": "stream",
     "text": [
      "37\n"
     ]
    }
   ],
   "source": [
    "def f5(a,b,c):\n",
    "    return (a*b)-c\n",
    "    return 'Hello'\n",
    "\n",
    "r = f5(8,5,3)\n",
    "print(r)"
   ]
  },
  {
   "cell_type": "markdown",
   "id": "f8de8f3d",
   "metadata": {},
   "source": [
    "#### Return cannot generate a sequence"
   ]
  },
  {
   "cell_type": "code",
   "execution_count": 21,
   "id": "aed6f5d3",
   "metadata": {},
   "outputs": [
    {
     "name": "stdout",
     "output_type": "stream",
     "text": [
      "8\n",
      "9\n",
      "10\n",
      "11\n",
      "12\n"
     ]
    }
   ],
   "source": [
    "def f6():\n",
    "    for i in range(5,10):  # i=5,6,7,8,9\n",
    "        print(i+3)\n",
    "\n",
    "f6()"
   ]
  },
  {
   "cell_type": "code",
   "execution_count": 25,
   "id": "9d5a04f4",
   "metadata": {},
   "outputs": [
    {
     "name": "stdout",
     "output_type": "stream",
     "text": [
      "8\n"
     ]
    }
   ],
   "source": [
    "# return cannot generate a sequence\n",
    "def f7():\n",
    "    for i in range(5,10): # i=5,6,7,8,9\n",
    "        return i+3\n",
    "\n",
    "r = f7()\n",
    "print(r)"
   ]
  },
  {
   "cell_type": "markdown",
   "id": "7f292635",
   "metadata": {},
   "source": [
    "#### Recursion\n",
    "1) The process where a function calls itself is called recursion and the function is called recursive function.<br>\n",
    "2) The function must contain a terminating condition<br>\n",
    "3) In general, return statements are used in Recursion as well, instead of print"
   ]
  },
  {
   "cell_type": "code",
   "execution_count": 26,
   "id": "b8d5a6a6",
   "metadata": {},
   "outputs": [
    {
     "name": "stdout",
     "output_type": "stream",
     "text": [
      "Factorial of f is 120\n"
     ]
    }
   ],
   "source": [
    "def fact1(n):\n",
    "    f = 1\n",
    "    for i in range(1,n+1):  # n=5, i=1,2,3,4,5\n",
    "        f = f*i\n",
    "    print(f'Factorial of f is {f}')\n",
    "\n",
    "fact1(5)\n",
    "# 5! = 1*2*3*4*5"
   ]
  },
  {
   "cell_type": "code",
   "execution_count": 34,
   "id": "79df5f6e",
   "metadata": {},
   "outputs": [
    {
     "name": "stdout",
     "output_type": "stream",
     "text": [
      "Enter a num: 4\n",
      "Factorial of f is 24\n"
     ]
    }
   ],
   "source": [
    "def fact1():\n",
    "    n = int(input('Enter a num: '))\n",
    "    f = 1\n",
    "    for i in range(1,n+1):  #n=5, i=1,2,3,4,5\n",
    "        f = f*i\n",
    "    print(f'Factorial of {n} is {f}')\n",
    "\n",
    "fact1()"
   ]
  },
  {
   "cell_type": "code",
   "execution_count": 33,
   "id": "b1a8646c",
   "metadata": {},
   "outputs": [
    {
     "name": "stdout",
     "output_type": "stream",
     "text": [
      "120\n"
     ]
    }
   ],
   "source": [
    "def fact1(n):\n",
    "    f = 1\n",
    "    for i in range(1,n+1):  #n=5, i=1,2,3,4,5\n",
    "        f = f*i\n",
    "    return f\n",
    "\n",
    "r = fact1(5)\n",
    "print(r)"
   ]
  },
  {
   "cell_type": "markdown",
   "id": "97f1fc9b",
   "metadata": {},
   "source": [
    "#### Factorial using Recursion\n",
    "5! = 5 * 4! = 5 * 4 * 3! = 5 * 4 * 3 * 2! = 5 * 4 * 3 * 2 * 1! = 5 * 4 * 3 * 2 * 1 = 120<br>\n",
    "n! = n * (n-1)!, convgere till n=1"
   ]
  },
  {
   "cell_type": "code",
   "execution_count": 28,
   "id": "9c5fbc87",
   "metadata": {},
   "outputs": [
    {
     "data": {
      "text/plain": [
       "120"
      ]
     },
     "execution_count": 28,
     "metadata": {},
     "output_type": "execute_result"
    }
   ],
   "source": [
    "def fact_re(n):\n",
    "    if n<=1:\n",
    "        return 1\n",
    "    else:\n",
    "        return n*fact_re(n-1)\n",
    "\n",
    "fact_re(5)\n",
    "# fact_re(5) = 5*fact_re(4) = 5*(4*fact_re(3)) = 5*(4*(3*fact_re(2)))\n",
    "# 5*(4*(3*(2*fact_re(1))) = 5*4*3*2*1 = 120"
   ]
  },
  {
   "cell_type": "code",
   "execution_count": 29,
   "id": "f48e0a0a",
   "metadata": {},
   "outputs": [
    {
     "data": {
      "text/plain": [
       "720"
      ]
     },
     "execution_count": 29,
     "metadata": {},
     "output_type": "execute_result"
    }
   ],
   "source": [
    "fact_re(6)"
   ]
  },
  {
   "cell_type": "code",
   "execution_count": 39,
   "id": "c3614dea",
   "metadata": {},
   "outputs": [
    {
     "name": "stdout",
     "output_type": "stream",
     "text": [
      "26\n"
     ]
    }
   ],
   "source": [
    "def dragon(x):\n",
    "    if x<8:\n",
    "        return -x\n",
    "    else:\n",
    "        return x + dragon(x-2)\n",
    "        \n",
    "res = dragon(13) # 33,36,24,40,26,156  \n",
    "print(res)\n",
    "# drag(13) = 13+drag(11) = 13+11+drag(9) = 13+11+9+drag(7)\n",
    "# 13+11+9+drag(7) = 33 + (-7) = 26\n"
   ]
  },
  {
   "cell_type": "code",
   "execution_count": 40,
   "id": "42b54736",
   "metadata": {},
   "outputs": [
    {
     "name": "stdout",
     "output_type": "stream",
     "text": [
      "72\n"
     ]
    }
   ],
   "source": [
    "res1 = dragon(18) # 18+16+14+12+10+8+(-6) = 78-6=72\n",
    "print(res1)"
   ]
  },
  {
   "cell_type": "code",
   "execution_count": 41,
   "id": "1f500fd0",
   "metadata": {},
   "outputs": [
    {
     "data": {
      "text/plain": [
       "640"
      ]
     },
     "execution_count": 41,
     "metadata": {},
     "output_type": "execute_result"
    }
   ],
   "source": [
    "def area51(n):\n",
    "    if n>10:\n",
    "        return n-1\n",
    "    else:\n",
    "        return 2*area51(n+1)\n",
    "    \n",
    "area51(5)  # 90, 640, 320, 3024000, 138, 134\n",
    "# area51(5) = 2*area51(6) = 2*(2*area51(7)) = 2*(2*(2*area51(8))\n",
    "# 2*(2*(2*(2*area51(9)) = 2*(2*(2*(2*(2*area51(10)) = 32*area51(10)\n",
    "# 32*(2*(area51(11))) = 64*area51(11) = 64*10 = 640"
   ]
  },
  {
   "cell_type": "code",
   "execution_count": 42,
   "id": "7bf73709",
   "metadata": {},
   "outputs": [
    {
     "data": {
      "text/plain": [
       "90"
      ]
     },
     "execution_count": 42,
     "metadata": {},
     "output_type": "execute_result"
    }
   ],
   "source": [
    "def tesla(x):\n",
    "    if x<5:\n",
    "        return x-3\n",
    "    else:\n",
    "        return 2*x + tesla(x-2)\n",
    "    \n",
    "tesla(13) # 115, 87, 90, 48\n",
    "# tesla(13) = 2*13 + tesla(11) = 26 + (2*11 +tesla(9)) =\n",
    "# 26+22+tesla(9) = 48 +(2*9 +tesla(7))  = 48+18+tesla(7)\n",
    "# 66+(2*7 + tesla(5)) = 66+14 + tesla(5) = 80 +tesla(5)\n",
    "# 80 +(2*5 +tesla(3)) = 90 + tesla(3) = 90 + (3-3) = 90+0"
   ]
  },
  {
   "cell_type": "code",
   "execution_count": null,
   "id": "e42bdbf8",
   "metadata": {},
   "outputs": [],
   "source": [
    "def google(x):\n",
    "    if x>16:\n",
    "        return x-5\n",
    "    else:\n",
    "        return 3*google(x+2) + 2*(x+1)\n",
    "    \n",
    "google(7)"
   ]
  },
  {
   "cell_type": "code",
   "execution_count": null,
   "id": "7c17dac6",
   "metadata": {},
   "outputs": [],
   "source": []
  },
  {
   "cell_type": "markdown",
   "id": "4fd76de6",
   "metadata": {},
   "source": [
    "#### Exercise on Functions, List and dict\n",
    "<ol>\n",
    "<li>WAF to compute SI given P,R and T as arguments<br>\n",
    "<li>For a given dict . d1 ={'a':34,'b':15,'c':78,'d':50,'e':67}. Find difference between largest and smallest values and find their corresponding keys. </li>\n",
    "<li>Assume any given list of marks(all integers between 1 to 100), find the second highest marks obtained from a list of marks.</li>\n",
    "<li>Create a function to generate a list containing common elements of two given lists. <br>\n",
    "w1 = [1,2,3,4,67,78]<br>\n",
    "w2 = [45,78,3,11,109]</li>\n",
    "<li>Write a program that takes a list of words and returns the length of longest word and \n",
    "   print the longest word as well. Assume any list of words</li>\n",
    "<li>Sort even-placed elements (according to thier index) in decreasing and odd-placed in increasing order and store them in a separate list and display them as output. \n",
    " Assume any list of numbers</li>\n",
    "<li>Find the pair of numbers from a list which sum upto 20.\n",
    "Given list -[3,8,17,8,19,12,11,2,4,1]</li>\n",
    "<li>WAF to count the number of vowels in a given string. String is passed as an argument</li>\n",
    "</ol>"
   ]
  },
  {
   "cell_type": "code",
   "execution_count": null,
   "id": "f19b117a",
   "metadata": {},
   "outputs": [],
   "source": []
  }
 ],
 "metadata": {
  "kernelspec": {
   "display_name": "Python 3",
   "language": "python",
   "name": "python3"
  },
  "language_info": {
   "codemirror_mode": {
    "name": "ipython",
    "version": 3
   },
   "file_extension": ".py",
   "mimetype": "text/x-python",
   "name": "python",
   "nbconvert_exporter": "python",
   "pygments_lexer": "ipython3",
   "version": "3.8.8"
  }
 },
 "nbformat": 4,
 "nbformat_minor": 5
}
