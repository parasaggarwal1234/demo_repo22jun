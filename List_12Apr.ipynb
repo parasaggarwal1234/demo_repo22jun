{
 "cells": [
  {
   "cell_type": "markdown",
   "id": "ab791172",
   "metadata": {},
   "source": [
    "### List\n",
    "1) List are ordered collection of elements of same or different data types<br>\n",
    "2) List elements are enclosed in square brackets [] and are separated by comma<br>\n",
    "3) List is mutable (can be changed)<br>\n",
    "4) Indexing and slicing is allowed in list<br>\n",
    "5) List can store duplicate elements"
   ]
  },
  {
   "cell_type": "markdown",
   "id": "d6e89b07",
   "metadata": {},
   "source": [
    "### Examples of List, Tuple, Set, Dictionary\n",
    "\n",
    "List => [12,23,45,'Welcome','India',True,23.56]\n",
    "\n",
    "Tuple  => (10,20,'Hello',8.92,'False,'data science')\n",
    "\n",
    "Set => {34,'Python',4.5,56,'SQL'}\n",
    "\n",
    "Dict => {'Name':'Mohit','Age':21,'City':'Delhi'}"
   ]
  },
  {
   "cell_type": "code",
   "execution_count": null,
   "id": "8c017083",
   "metadata": {},
   "outputs": [],
   "source": []
  },
  {
   "cell_type": "markdown",
   "id": "5842c529",
   "metadata": {},
   "source": [
    "#### Creating Empty List (list containing no elements)"
   ]
  },
  {
   "cell_type": "code",
   "execution_count": 4,
   "id": "e2d0b896",
   "metadata": {},
   "outputs": [
    {
     "name": "stdout",
     "output_type": "stream",
     "text": [
      "[]\n",
      "[]\n",
      "<class 'list'>\n",
      "<class 'list'>\n"
     ]
    }
   ],
   "source": [
    "w1 = []      # Method-1\n",
    "w2 = list()  # Method-2\n",
    "print(w1)\n",
    "print(w2)\n",
    "print(type(w1))\n",
    "print(type(w2))"
   ]
  },
  {
   "cell_type": "markdown",
   "id": "16492db3",
   "metadata": {},
   "source": [
    "#### Examples of List"
   ]
  },
  {
   "cell_type": "code",
   "execution_count": 10,
   "id": "5bb79e81",
   "metadata": {},
   "outputs": [
    {
     "name": "stdout",
     "output_type": "stream",
     "text": [
      "[12, 13, 14, 23, 45, 56, 67]\n",
      "7\n",
      "['Hello', 'Python', 2.45, False, None, 87]\n",
      "6\n"
     ]
    },
    {
     "data": {
      "text/plain": [
       "list"
      ]
     },
     "execution_count": 10,
     "metadata": {},
     "output_type": "execute_result"
    }
   ],
   "source": [
    "a1 = [12,13,14,23,45,56,67]\n",
    "a2 = ['Hello','Python',2.45,False,None,87]\n",
    "print(a1)\n",
    "print(len(a1))\n",
    "print(a2)\n",
    "print(len(a2))\n",
    "type(a2)"
   ]
  },
  {
   "cell_type": "markdown",
   "id": "e03fc2d7",
   "metadata": {},
   "source": [
    "#### Indexing and Slicing in List"
   ]
  },
  {
   "cell_type": "code",
   "execution_count": 12,
   "id": "c31df159",
   "metadata": {},
   "outputs": [
    {
     "name": "stdout",
     "output_type": "stream",
     "text": [
      "[10, 15, 20, 25, 30, 35, 40, 45]\n"
     ]
    }
   ],
   "source": [
    "r = [10,15,20,25,30,35,40,45]\n",
    "print(r)"
   ]
  },
  {
   "cell_type": "code",
   "execution_count": 6,
   "id": "193b6905",
   "metadata": {},
   "outputs": [
    {
     "name": "stdout",
     "output_type": "stream",
     "text": [
      "10\n",
      "20\n",
      "40\n",
      "45\n",
      "30\n"
     ]
    }
   ],
   "source": [
    "#### Indexing\n",
    "print(r[0])\n",
    "print(r[2])\n",
    "print(r[6])\n",
    "print(r[-1])\n",
    "print(r[-4])"
   ]
  },
  {
   "cell_type": "code",
   "execution_count": 20,
   "id": "e620d822",
   "metadata": {},
   "outputs": [
    {
     "name": "stdout",
     "output_type": "stream",
     "text": [
      "[10, 15, 20, 25, 30, 35, 40, 45]\n",
      "[25, 30, 35]\n",
      "[40, 30, 20]\n",
      "[45, 30]\n"
     ]
    }
   ],
   "source": [
    "print(r)\n",
    "print(r[3:-2])\n",
    "print(r[-2:-8:-2])  \n",
    "print(r[7:-7:-3])"
   ]
  },
  {
   "cell_type": "markdown",
   "id": "2fe52320",
   "metadata": {},
   "source": [
    "#### Iteration in list"
   ]
  },
  {
   "cell_type": "code",
   "execution_count": 25,
   "id": "9490ce6f",
   "metadata": {},
   "outputs": [
    {
     "name": "stdout",
     "output_type": "stream",
     "text": [
      "12\n",
      "23\n",
      "34\n",
      "45\n",
      "56\n",
      "67\n",
      "78\n",
      "89\n"
     ]
    }
   ],
   "source": [
    "w = [12,23,34,45,56,67,78,89]\n",
    "# Method 1 - Element wise Iteration\n",
    "for pankaj in w:  # i corresponds to each and every element of the list\n",
    "    print(pankaj)"
   ]
  },
  {
   "cell_type": "code",
   "execution_count": 31,
   "id": "c24ac98e",
   "metadata": {},
   "outputs": [
    {
     "name": "stdout",
     "output_type": "stream",
     "text": [
      "Element at index 0 is 12\n",
      "Element at index 1 is 23\n",
      "Element at index 2 is 34\n",
      "Element at index 3 is 45\n"
     ]
    }
   ],
   "source": [
    "w = [12,23,34,45]\n",
    "# Method 2 - Index wise Iteration\n",
    "for i in range(len(w)): # i = 0,1,2,3\n",
    "    print(f'Element at index {i} is {w[i]}')\n",
    "    \n",
    "# i=0,w[0]=12\n",
    "# i=1,w[1]=23\n",
    "# i=2,w[2]=34\n",
    "# i=3,w[3]=45"
   ]
  },
  {
   "cell_type": "code",
   "execution_count": 34,
   "id": "fef49a8b",
   "metadata": {},
   "outputs": [
    {
     "name": "stdout",
     "output_type": "stream",
     "text": [
      "Element at index 0 is 12\n",
      "Element at index 1 is 23\n",
      "Element at index 2 is 34\n",
      "Element at index 3 is 45\n"
     ]
    }
   ],
   "source": [
    "w = [12,23,34,45]\n",
    "# Method 3 - Using while loop - Index wise iteration\n",
    "i=0\n",
    "while i <len(w):\n",
    "    print(f'Element at index {i} is {w[i]}')\n",
    "    i+=1"
   ]
  },
  {
   "cell_type": "markdown",
   "id": "af3c8009",
   "metadata": {},
   "source": [
    "#### List is Mutable"
   ]
  },
  {
   "cell_type": "code",
   "execution_count": 36,
   "id": "9ae4afd1",
   "metadata": {},
   "outputs": [
    {
     "name": "stdout",
     "output_type": "stream",
     "text": [
      "[13, 15, 17, 19, 21, 24, 25]\n",
      "21\n",
      "[13, 15, 17, 19, 'Python', 24, 25]\n",
      "[13, 15, 'SQL', 19, 'Python', 24, 25]\n"
     ]
    }
   ],
   "source": [
    "q = [13,15,17,19,21,24,25]\n",
    "print(q)\n",
    "print(q[4])\n",
    "q[4] = \"Python\"\n",
    "print(q)\n",
    "q[2] = 'SQL'\n",
    "print(q)"
   ]
  },
  {
   "cell_type": "markdown",
   "id": "93bbdc3b",
   "metadata": {},
   "source": [
    "### Methods of List"
   ]
  },
  {
   "cell_type": "markdown",
   "id": "e5cf6f09",
   "metadata": {},
   "source": [
    "#### 1) append()\n",
    "It adds an element to the end of the list"
   ]
  },
  {
   "cell_type": "code",
   "execution_count": 54,
   "id": "9f262abc",
   "metadata": {},
   "outputs": [
    {
     "name": "stdout",
     "output_type": "stream",
     "text": [
      "['Python', 8, 5, 7]\n",
      "['Python', 8, 5, 7, 16]\n",
      "['Python', 8, 5, 7, 16, 73]\n"
     ]
    }
   ],
   "source": [
    "s = ['Python',8,5,7]\n",
    "print(s)\n",
    "s.append(16)\n",
    "print(s)\n",
    "s.append(73)\n",
    "print(s)"
   ]
  },
  {
   "cell_type": "code",
   "execution_count": 55,
   "id": "49bb9fe8",
   "metadata": {},
   "outputs": [
    {
     "name": "stdout",
     "output_type": "stream",
     "text": [
      "['Python', 8, 5, 7, 16, 73, [11, 12]]\n",
      "7\n"
     ]
    }
   ],
   "source": [
    "s.append([11,12])\n",
    "print(s)\n",
    "print(len(s))"
   ]
  },
  {
   "cell_type": "code",
   "execution_count": 56,
   "id": "826d16d0",
   "metadata": {},
   "outputs": [
    {
     "name": "stdout",
     "output_type": "stream",
     "text": [
      "['Python', 8, 5, 7, 16, 73, [11, 12], 'Hello']\n"
     ]
    }
   ],
   "source": [
    "s.append('Hello')\n",
    "print(s)"
   ]
  },
  {
   "cell_type": "code",
   "execution_count": 57,
   "id": "deffcbea",
   "metadata": {},
   "outputs": [
    {
     "name": "stdout",
     "output_type": "stream",
     "text": [
      "[11, 12, 13]\n",
      "[11, 12, 13, [7, 8]]\n",
      "[11, 12, 13, [7, 8], (21, 22)]\n",
      "[11, 12, 13, [7, 8], (21, 22), {'Name': 'John', 'Age': 22}]\n"
     ]
    }
   ],
   "source": [
    "w = [11,12,13]\n",
    "print(w)\n",
    "w.append([7,8])   # Append a list\n",
    "print(w)\n",
    "w.append((21,22)) # Appending a tuple\n",
    "print(w)\n",
    "w.append({'Name':'John','Age':22}) # appending a dict\n",
    "print(w)"
   ]
  },
  {
   "cell_type": "markdown",
   "id": "23ba6602",
   "metadata": {},
   "source": [
    "#### 2) extend()\n",
    "It adds an element to the list at the end from an iterable (strings, list, tuple,set,dict,range())"
   ]
  },
  {
   "cell_type": "code",
   "execution_count": 58,
   "id": "04a4c883",
   "metadata": {},
   "outputs": [
    {
     "name": "stdout",
     "output_type": "stream",
     "text": [
      "[4, 5, 6, 7]\n"
     ]
    },
    {
     "ename": "TypeError",
     "evalue": "'int' object is not iterable",
     "output_type": "error",
     "traceback": [
      "\u001b[1;31m---------------------------------------------------------------------------\u001b[0m",
      "\u001b[1;31mTypeError\u001b[0m                                 Traceback (most recent call last)",
      "\u001b[1;32m<ipython-input-58-a23c65ce710d>\u001b[0m in \u001b[0;36m<module>\u001b[1;34m\u001b[0m\n\u001b[0;32m      1\u001b[0m \u001b[0md\u001b[0m \u001b[1;33m=\u001b[0m \u001b[1;33m[\u001b[0m\u001b[1;36m4\u001b[0m\u001b[1;33m,\u001b[0m\u001b[1;36m5\u001b[0m\u001b[1;33m,\u001b[0m\u001b[1;36m6\u001b[0m\u001b[1;33m,\u001b[0m\u001b[1;36m7\u001b[0m\u001b[1;33m]\u001b[0m\u001b[1;33m\u001b[0m\u001b[1;33m\u001b[0m\u001b[0m\n\u001b[0;32m      2\u001b[0m \u001b[0mprint\u001b[0m\u001b[1;33m(\u001b[0m\u001b[0md\u001b[0m\u001b[1;33m)\u001b[0m\u001b[1;33m\u001b[0m\u001b[1;33m\u001b[0m\u001b[0m\n\u001b[1;32m----> 3\u001b[1;33m \u001b[0md\u001b[0m\u001b[1;33m.\u001b[0m\u001b[0mextend\u001b[0m\u001b[1;33m(\u001b[0m\u001b[1;36m10\u001b[0m\u001b[1;33m)\u001b[0m\u001b[1;33m\u001b[0m\u001b[1;33m\u001b[0m\u001b[0m\n\u001b[0m\u001b[0;32m      4\u001b[0m \u001b[0mprint\u001b[0m\u001b[1;33m(\u001b[0m\u001b[0md\u001b[0m\u001b[1;33m)\u001b[0m\u001b[1;33m\u001b[0m\u001b[1;33m\u001b[0m\u001b[0m\n",
      "\u001b[1;31mTypeError\u001b[0m: 'int' object is not iterable"
     ]
    }
   ],
   "source": [
    "d = [4,5,6,7]\n",
    "print(d)\n",
    "d.extend(10)\n",
    "print(d)"
   ]
  },
  {
   "cell_type": "code",
   "execution_count": 59,
   "id": "d2566858",
   "metadata": {},
   "outputs": [
    {
     "name": "stdout",
     "output_type": "stream",
     "text": [
      "[4, 5, 6]\n",
      "[4, 5, 6, 11, 12]\n",
      "[4, 5, 6, 11, 12, 7, 8]\n"
     ]
    }
   ],
   "source": [
    "d = [4,5,6]\n",
    "print(d)\n",
    "d.extend([11,12])  # Extending a list\n",
    "print(d)\n",
    "d.extend((7,8))  # Extending a tuple\n",
    "print(d)"
   ]
  },
  {
   "cell_type": "code",
   "execution_count": 66,
   "id": "8d64db74",
   "metadata": {},
   "outputs": [
    {
     "name": "stdout",
     "output_type": "stream",
     "text": [
      "[7, 8, 9]\n",
      "[7, 8, 9, 'B', 'y', 'e']\n",
      "[7, 8, 9, 'B', 'y', 'e', 'a1', 'a2']\n",
      "[7, 8, 9, 'B', 'y', 'e', 'a1', 'a2', 20, 21, 22]\n"
     ]
    }
   ],
   "source": [
    "w = [7,8,9]\n",
    "print(w)\n",
    "w.extend('Bye') # extending a string\n",
    "print(w)\n",
    "w.extend({'a1':10,'a2':20}) # extending a dict (only keys will be extended)\n",
    "print(w)\n",
    "w.extend(range(20,23)) # extending a range()\n",
    "print(w)"
   ]
  },
  {
   "cell_type": "markdown",
   "id": "c0354704",
   "metadata": {},
   "source": [
    "#### Difference between append extend"
   ]
  },
  {
   "cell_type": "code",
   "execution_count": 71,
   "id": "f43e4dae",
   "metadata": {},
   "outputs": [
    {
     "name": "stdout",
     "output_type": "stream",
     "text": [
      "[4, 5, 6]\n",
      "[4, 5, 6, [11, 12]]\n",
      "[4, 5, 6, [11, 12], 7, 8]\n",
      "[4, 5, 6, [11, 12], 7, 8, 'Hi']\n",
      "[4, 5, 6, [11, 12], 7, 8, 'Hi', 'B', 'y', 'e']\n",
      "[4, 5, 6, [11, 12], 7, 8, 'Hi', 'B', 'y', 'e', {'a1': 20}]\n",
      "[4, 5, 6, [11, 12], 7, 8, 'Hi', 'B', 'y', 'e', {'a1': 20}, 'Name']\n"
     ]
    }
   ],
   "source": [
    "d = [4,5,6]\n",
    "print(d)\n",
    "d.append([11,12]) # Appending a list\n",
    "print(d)\n",
    "d.extend([7,8])   # Extending a list\n",
    "print(d)\n",
    "d.append(\"Hi\") # Appending a list\n",
    "print(d)\n",
    "d.extend('Bye')   # Extending a list\n",
    "print(d)\n",
    "d.append({'a1':20}) # Appending a list\n",
    "print(d)\n",
    "d.extend({'Name':\"Mohit\"})   # Extending a list\n",
    "print(d)"
   ]
  },
  {
   "cell_type": "code",
   "execution_count": 70,
   "id": "126bfb26",
   "metadata": {},
   "outputs": [
    {
     "name": "stdout",
     "output_type": "stream",
     "text": [
      "[17, 18]\n",
      "[17, 18, 12, [34], 80]\n",
      "[17, 18, 12, [34], 80, [30, [20], 10]]\n"
     ]
    }
   ],
   "source": [
    "w = [17,18]\n",
    "print(w)\n",
    "w.extend([12,[34],80])\n",
    "print(w)\n",
    "w.append([30,[20],10])\n",
    "print(w)"
   ]
  },
  {
   "cell_type": "markdown",
   "id": "01a1dac6",
   "metadata": {},
   "source": [
    "#### 3) clear()\n",
    "Empties the list"
   ]
  },
  {
   "cell_type": "code",
   "execution_count": 77,
   "id": "e2f8ab0f",
   "metadata": {},
   "outputs": [
    {
     "name": "stdout",
     "output_type": "stream",
     "text": [
      "[12, 13, 114, 15]\n",
      "[]\n"
     ]
    }
   ],
   "source": [
    "q = [12,13,114,15]\n",
    "print(q)\n",
    "q.clear()\n",
    "print(q)"
   ]
  },
  {
   "cell_type": "markdown",
   "id": "79bad6c8",
   "metadata": {},
   "source": [
    "#### 4) insert(index,element)\n",
    "Inserts an element at a specified index.<br>\n",
    "Elements previously present at that index are shifted one index towards right"
   ]
  },
  {
   "cell_type": "code",
   "execution_count": 80,
   "id": "18021e21",
   "metadata": {},
   "outputs": [
    {
     "name": "stdout",
     "output_type": "stream",
     "text": [
      "[13, 14, 15, 16, 17, 18, 19]\n",
      "[13, 14, 15, 'Hello', 16, 17, 18, 19]\n",
      "[13, 14, 15, 'Hello', 16, 17, 18, 'Python', 19]\n",
      "[13, 14, 15, 'Hello', 16, 17, 18, 'Python', 19, 'Bye']\n",
      "[13, 14, 15, 'Hello', 16, 50, 17, 18, 'Python', 19, 'Bye']\n"
     ]
    }
   ],
   "source": [
    "a1 = [13,14,15,16,17,18,19]\n",
    "print(a1)\n",
    "a1.insert(3,'Hello')\n",
    "print(a1)\n",
    "a1.insert(7,'Python')\n",
    "print(a1)\n",
    "a1.insert(12,'Bye')\n",
    "print(a1)\n",
    "a1.insert(-5,50)\n",
    "print(a1)"
   ]
  },
  {
   "cell_type": "markdown",
   "id": "98398aee",
   "metadata": {},
   "source": [
    "#### 5) index()\n",
    "Returns the index of the first occurence of the element from the left.\n",
    "Indexes start at 0"
   ]
  },
  {
   "cell_type": "code",
   "execution_count": 90,
   "id": "d2acd3a0",
   "metadata": {},
   "outputs": [
    {
     "name": "stdout",
     "output_type": "stream",
     "text": [
      "2\n",
      "4\n",
      "1\n"
     ]
    }
   ],
   "source": [
    "a2 = ['Hi','Bye','Hello','Python','C++','Java','Hello','C++','@']\n",
    "print(a2.index('Hello'))\n",
    "print(a2.index('C++'))\n",
    "print(a2.index('Bye'))"
   ]
  },
  {
   "cell_type": "markdown",
   "id": "f60ca6a3",
   "metadata": {},
   "source": [
    "#### 6) pop(index)\n",
    "Removes the element at the specified index. If no index is mentioned, it removes the last element"
   ]
  },
  {
   "cell_type": "code",
   "execution_count": 87,
   "id": "c217d3a8",
   "metadata": {},
   "outputs": [
    {
     "name": "stdout",
     "output_type": "stream",
     "text": [
      "[23, 34, 45, 56, 67, 78, 90, 15, 10]\n",
      "[23, 34, 56, 67, 78, 90, 15, 10]\n",
      "[23, 34, 56, 67, 78, 90, 15]\n",
      "[23, 34, 56, 67, 78, 90]\n",
      "[23, 34, 56, 67, 90]\n"
     ]
    },
    {
     "ename": "IndexError",
     "evalue": "pop index out of range",
     "output_type": "error",
     "traceback": [
      "\u001b[1;31m---------------------------------------------------------------------------\u001b[0m",
      "\u001b[1;31mIndexError\u001b[0m                                Traceback (most recent call last)",
      "\u001b[1;32m<ipython-input-87-9dc9feb07016>\u001b[0m in \u001b[0;36m<module>\u001b[1;34m\u001b[0m\n\u001b[0;32m      9\u001b[0m \u001b[0ma\u001b[0m\u001b[1;33m.\u001b[0m\u001b[0mpop\u001b[0m\u001b[1;33m(\u001b[0m\u001b[1;33m-\u001b[0m\u001b[1;36m2\u001b[0m\u001b[1;33m)\u001b[0m\u001b[1;33m\u001b[0m\u001b[1;33m\u001b[0m\u001b[0m\n\u001b[0;32m     10\u001b[0m \u001b[0mprint\u001b[0m\u001b[1;33m(\u001b[0m\u001b[0ma\u001b[0m\u001b[1;33m)\u001b[0m\u001b[1;33m\u001b[0m\u001b[1;33m\u001b[0m\u001b[0m\n\u001b[1;32m---> 11\u001b[1;33m \u001b[0ma\u001b[0m\u001b[1;33m.\u001b[0m\u001b[0mpop\u001b[0m\u001b[1;33m(\u001b[0m\u001b[1;33m-\u001b[0m\u001b[1;36m10\u001b[0m\u001b[1;33m)\u001b[0m\u001b[1;33m\u001b[0m\u001b[1;33m\u001b[0m\u001b[0m\n\u001b[0m\u001b[0;32m     12\u001b[0m \u001b[0mprint\u001b[0m\u001b[1;33m(\u001b[0m\u001b[0ma\u001b[0m\u001b[1;33m)\u001b[0m\u001b[1;33m\u001b[0m\u001b[1;33m\u001b[0m\u001b[0m\n",
      "\u001b[1;31mIndexError\u001b[0m: pop index out of range"
     ]
    }
   ],
   "source": [
    "a = [23,34,45,56,67,78,90,15,10]\n",
    "print(a)\n",
    "a.pop(2) # Remove element present at index 2 \n",
    "print(a)\n",
    "a.pop(7) # Remove element present at index 7\n",
    "print(a)\n",
    "a.pop() # Removes the last element\n",
    "print(a)\n",
    "a.pop(-2)\n",
    "print(a)\n",
    "a.pop(-10)  # Index Error\n",
    "print(a)"
   ]
  },
  {
   "cell_type": "markdown",
   "id": "31e447cb",
   "metadata": {},
   "source": [
    "#### 7) remove(element)\n",
    "It removes the first occurence of the element from left which is passed as argument. Error if element is not in the list"
   ]
  },
  {
   "cell_type": "code",
   "execution_count": 92,
   "id": "d624020e",
   "metadata": {},
   "outputs": [
    {
     "name": "stdout",
     "output_type": "stream",
     "text": [
      "[23, 34, 45, 56, 67, 78, 90, 15, 10, 34, 78, 56]\n",
      "[23, 34, 45, 67, 78, 90, 15, 10, 34, 78, 56]\n",
      "[23, 34, 45, 67, 78, 15, 10, 34, 78, 56]\n"
     ]
    }
   ],
   "source": [
    "a = [23,34,45,56,67,78,90,15,10,34,78,56]\n",
    "print(a)\n",
    "a.remove(56) # Remove the element 56\n",
    "print(a)\n",
    "a.remove(90)\n",
    "print(a)\n",
    "# a.remove(108) # Error\n",
    "# print(a)\n",
    "# a.remove()   # Error\n",
    "# print(a)"
   ]
  },
  {
   "cell_type": "markdown",
   "id": "7c0110e4",
   "metadata": {},
   "source": [
    "#### 8) count()\n",
    "Returns the count(frequency) of the element passed as an argument"
   ]
  },
  {
   "cell_type": "code",
   "execution_count": 95,
   "id": "1152cf74",
   "metadata": {},
   "outputs": [
    {
     "name": "stdout",
     "output_type": "stream",
     "text": [
      "2\n",
      "4\n",
      "0\n",
      "1\n"
     ]
    }
   ],
   "source": [
    "w = [23,34,45,23,13,24,35,56,67,45,34,23,23,67,78,89,90]\n",
    "print(w.count(34))\n",
    "print(w.count(23))\n",
    "print(w.count('Hello'))\n",
    "print(w.count(13))"
   ]
  },
  {
   "cell_type": "markdown",
   "id": "34482234",
   "metadata": {},
   "source": [
    "#### 9) reverse()\n",
    "It reverses the list. Arranges the list in right to left order"
   ]
  },
  {
   "cell_type": "code",
   "execution_count": 103,
   "id": "078c9add",
   "metadata": {},
   "outputs": [
    {
     "name": "stdout",
     "output_type": "stream",
     "text": [
      "[10, 20, 30, 40, 50]\n",
      "[50, 40, 30, 20, 10]\n",
      "[50, 40, 30, 20, 10]\n"
     ]
    }
   ],
   "source": [
    "g = [10,20,30,40,50]\n",
    "print(g)\n",
    "g1 = g[::-1]\n",
    "print(g1)\n",
    "g.reverse()  # g[::-1]\n",
    "print(g)"
   ]
  },
  {
   "cell_type": "markdown",
   "id": "4859d684",
   "metadata": {},
   "source": [
    "#### 10) sort()\n",
    "Sorts the list in ascending or descening order based on the parameter reverse"
   ]
  },
  {
   "cell_type": "code",
   "execution_count": 108,
   "id": "f0cc7c3a",
   "metadata": {},
   "outputs": [
    {
     "name": "stdout",
     "output_type": "stream",
     "text": [
      "[12, 7, 16, 34, 89, 74, 56]\n",
      "[7, 12, 16, 34, 56, 74, 89]\n",
      "[89, 74, 56, 34, 16, 12, 7]\n"
     ]
    }
   ],
   "source": [
    "s = [12,7,16,34,89,74,56]\n",
    "print(s)\n",
    "s.sort()             # ascending order\n",
    "print(s)\n",
    "s.reverse()          # descending order\n",
    "print(s) "
   ]
  },
  {
   "cell_type": "code",
   "execution_count": 109,
   "id": "c3609319",
   "metadata": {},
   "outputs": [
    {
     "name": "stdout",
     "output_type": "stream",
     "text": [
      "[89, 74, 56, 34, 16, 12, 7]\n"
     ]
    }
   ],
   "source": [
    "s = [12,7,16,34,89,74,56]\n",
    "s.sort(reverse=True)\n",
    "print(s)"
   ]
  },
  {
   "cell_type": "code",
   "execution_count": 116,
   "id": "60c28936",
   "metadata": {},
   "outputs": [
    {
     "name": "stdout",
     "output_type": "stream",
     "text": [
      "[89, 74, 34, 16, 7]\n"
     ]
    }
   ],
   "source": [
    "s = [12,7,16,34,89,74,56]\n",
    "s1 = s[1:-1]\n",
    "s1.sort(reverse=True)\n",
    "print(s1)"
   ]
  },
  {
   "cell_type": "code",
   "execution_count": 131,
   "id": "85789a82",
   "metadata": {},
   "outputs": [
    {
     "name": "stdout",
     "output_type": "stream",
     "text": [
      "A\n",
      "Z\n",
      "a\n",
      "z\n",
      "@\n",
      "!\n"
     ]
    }
   ],
   "source": [
    "### ASCII - American Standard Code for Information Interchange\n",
    "# A-Z - 65-90\n",
    "# a-z = 97-122\n",
    "# chr - character\n",
    "print(chr(65))\n",
    "print(chr(90))\n",
    "print(chr(97))\n",
    "print(chr(122))\n",
    "print(chr(64))\n",
    "print(chr(33))"
   ]
  },
  {
   "cell_type": "code",
   "execution_count": 132,
   "id": "69779af0",
   "metadata": {},
   "outputs": [
    {
     "name": "stdout",
     "output_type": "stream",
     "text": [
      "65\n",
      "90\n",
      "97\n",
      "122\n"
     ]
    }
   ],
   "source": [
    "# ord - ordinal\n",
    "print(ord('A'))\n",
    "print(ord('Z'))\n",
    "print(ord('a'))\n",
    "print(ord('z'))"
   ]
  },
  {
   "cell_type": "code",
   "execution_count": 134,
   "id": "fec6d134",
   "metadata": {},
   "outputs": [
    {
     "name": "stdout",
     "output_type": "stream",
     "text": [
      "['Hello', 'Python', 'Cricket', 'India', 'Zebra', 'Crypto']\n",
      "['Cricket', 'Crypto', 'Hello', 'India', 'Python', 'Zebra']\n",
      "['Zebra', 'Python', 'India', 'Hello', 'Crypto', 'Cricket']\n"
     ]
    }
   ],
   "source": [
    "s = ['Hello','Python','Cricket','India','Zebra','Crypto']\n",
    "print(s)\n",
    "s.sort()\n",
    "print(s)\n",
    "s.sort(reverse=True)\n",
    "print(s)"
   ]
  },
  {
   "cell_type": "code",
   "execution_count": 135,
   "id": "6ecea261",
   "metadata": {},
   "outputs": [
    {
     "name": "stdout",
     "output_type": "stream",
     "text": [
      "['Hello', 'python', 'Cricket', 'India', 'zebra', 'Crypto']\n",
      "['Cricket', 'Crypto', 'Hello', 'India', 'python', 'zebra']\n",
      "['zebra', 'python', 'India', 'Hello', 'Crypto', 'Cricket']\n"
     ]
    }
   ],
   "source": [
    "s = ['Hello','python','Cricket','India','zebra','Crypto']\n",
    "print(s)\n",
    "s.sort()\n",
    "print(s)\n",
    "s.sort(reverse=True)\n",
    "print(s)"
   ]
  },
  {
   "cell_type": "code",
   "execution_count": 137,
   "id": "999cde37",
   "metadata": {},
   "outputs": [
    {
     "name": "stdout",
     "output_type": "stream",
     "text": [
      "['Welcome', 86, 'google', 34, 'India']\n"
     ]
    },
    {
     "ename": "TypeError",
     "evalue": "'<' not supported between instances of 'int' and 'str'",
     "output_type": "error",
     "traceback": [
      "\u001b[1;31m---------------------------------------------------------------------------\u001b[0m",
      "\u001b[1;31mTypeError\u001b[0m                                 Traceback (most recent call last)",
      "\u001b[1;32m<ipython-input-137-6f8380850a00>\u001b[0m in \u001b[0;36m<module>\u001b[1;34m\u001b[0m\n\u001b[0;32m      1\u001b[0m \u001b[0ms\u001b[0m \u001b[1;33m=\u001b[0m \u001b[1;33m[\u001b[0m\u001b[1;34m'Welcome'\u001b[0m\u001b[1;33m,\u001b[0m\u001b[1;36m86\u001b[0m\u001b[1;33m,\u001b[0m\u001b[1;34m'google'\u001b[0m\u001b[1;33m,\u001b[0m\u001b[1;36m34\u001b[0m\u001b[1;33m,\u001b[0m\u001b[1;34m'India'\u001b[0m\u001b[1;33m]\u001b[0m\u001b[1;33m\u001b[0m\u001b[1;33m\u001b[0m\u001b[0m\n\u001b[0;32m      2\u001b[0m \u001b[0mprint\u001b[0m\u001b[1;33m(\u001b[0m\u001b[0ms\u001b[0m\u001b[1;33m)\u001b[0m\u001b[1;33m\u001b[0m\u001b[1;33m\u001b[0m\u001b[0m\n\u001b[1;32m----> 3\u001b[1;33m \u001b[0ms\u001b[0m\u001b[1;33m.\u001b[0m\u001b[0msort\u001b[0m\u001b[1;33m(\u001b[0m\u001b[1;33m)\u001b[0m\u001b[1;33m\u001b[0m\u001b[1;33m\u001b[0m\u001b[0m\n\u001b[0m\u001b[0;32m      4\u001b[0m \u001b[0mprint\u001b[0m\u001b[1;33m(\u001b[0m\u001b[0ms\u001b[0m\u001b[1;33m)\u001b[0m\u001b[1;33m\u001b[0m\u001b[1;33m\u001b[0m\u001b[0m\n",
      "\u001b[1;31mTypeError\u001b[0m: '<' not supported between instances of 'int' and 'str'"
     ]
    }
   ],
   "source": [
    "s = ['Welcome',86,'google',34,'India']\n",
    "print(s)\n",
    "s.sort()\n",
    "print(s)"
   ]
  },
  {
   "cell_type": "markdown",
   "id": "b7d85383",
   "metadata": {},
   "source": [
    "#### 11) copy()\n",
    "Creates a copy of the list. The copied object is different from the actual object."
   ]
  },
  {
   "cell_type": "code",
   "execution_count": 140,
   "id": "dcf8b817",
   "metadata": {},
   "outputs": [
    {
     "name": "stdout",
     "output_type": "stream",
     "text": [
      "[5, 7, 9, 11, 13, 15]\n",
      "[5, 7, 9, 11, 13, 15]\n",
      "[5, 7, 9, 11, 13, 15]\n"
     ]
    }
   ],
   "source": [
    "w = [5,7,9,11,13,15]\n",
    "r1 = w.copy()        # shallow copy\n",
    "r2 = w\n",
    "print(w)\n",
    "print(r1)\n",
    "print(r2)"
   ]
  },
  {
   "cell_type": "code",
   "execution_count": 141,
   "id": "9b5367d9",
   "metadata": {},
   "outputs": [
    {
     "name": "stdout",
     "output_type": "stream",
     "text": [
      "[5, 7, 'Ritesh', 11, 13, 15]\n",
      "[5, 7, 9, 11, 13, 15]\n",
      "[5, 7, 'Ritesh', 11, 13, 15]\n"
     ]
    }
   ],
   "source": [
    "w[2] = \"Ritesh\"\n",
    "print(w)\n",
    "print(r1)\n",
    "print(r2)"
   ]
  },
  {
   "cell_type": "code",
   "execution_count": 142,
   "id": "6e21d8fb",
   "metadata": {},
   "outputs": [
    {
     "name": "stdout",
     "output_type": "stream",
     "text": [
      "2832165848832 2832164515968\n",
      "2832165848832 2832165848832\n"
     ]
    }
   ],
   "source": [
    "print(id(w),id(r1))\n",
    "print(id(w),id(r2))\n",
    "\n",
    "# 1) w and r1 are pointing to different obejcts\n",
    "# 2) w and r2 are pointing to the same object\n",
    "# 3) id returns the memory address"
   ]
  },
  {
   "cell_type": "markdown",
   "id": "4f08ef60",
   "metadata": {},
   "source": [
    "#### Methods min,max and sum"
   ]
  },
  {
   "cell_type": "code",
   "execution_count": 144,
   "id": "a523fdbf",
   "metadata": {},
   "outputs": [
    {
     "name": "stdout",
     "output_type": "stream",
     "text": [
      "10\n",
      "40\n",
      "115\n"
     ]
    }
   ],
   "source": [
    "h = [12,13,15,25,10,40]\n",
    "print(min(h))\n",
    "print(max(h))\n",
    "print(sum(h))"
   ]
  },
  {
   "cell_type": "markdown",
   "id": "d49bd8e3",
   "metadata": {},
   "source": [
    "#### Using in, non in with list"
   ]
  },
  {
   "cell_type": "code",
   "execution_count": 146,
   "id": "28a56cd8",
   "metadata": {},
   "outputs": [
    {
     "name": "stdout",
     "output_type": "stream",
     "text": [
      "False\n",
      "True\n",
      "True\n",
      "False\n"
     ]
    }
   ],
   "source": [
    "r = [10,20,30,40,50]\n",
    "print(34 in r)\n",
    "print(40 in r)\n",
    "print(52 not in r)\n",
    "print(20 not in r)"
   ]
  },
  {
   "cell_type": "markdown",
   "id": "ad09e9ec",
   "metadata": {},
   "source": [
    "#### Exercise\n",
    "\n",
    "Q1) Create a list of elements by populating it with all the numbers divisilbe by 7 from 10 to 100<br>\n",
    "Q2) Considering a list of int perform the following<br>\n",
    "a) Fetch all the odd indexed numbers and store them in a separate list<br>\n",
    "b) Fetch all the even numbers, sort them in descending order and store them in a separate list.<br>\n"
   ]
  },
  {
   "cell_type": "code",
   "execution_count": 147,
   "id": "5d366f51",
   "metadata": {},
   "outputs": [
    {
     "name": "stdout",
     "output_type": "stream",
     "text": [
      "[14, 21, 28, 35, 42, 49, 56, 63, 70, 77, 84, 91, 98]\n"
     ]
    }
   ],
   "source": [
    "# 1)\n",
    "r = []\n",
    "for i in range(10,101):\n",
    "    if i%7==0:\n",
    "        r.append(i)\n",
    "print(r)\n",
    "# i=14, r=[14]\n",
    "# i=21, r=[14,21]\n",
    "# i=28, r=[14,21,28]\n",
    "# ..."
   ]
  },
  {
   "cell_type": "code",
   "execution_count": 149,
   "id": "91beec44",
   "metadata": {},
   "outputs": [
    {
     "name": "stdout",
     "output_type": "stream",
     "text": [
      "[14]\n",
      "[14, 21]\n",
      "[14, 21, 28]\n",
      "[14, 21, 28, 35]\n",
      "[14, 21, 28, 35, 42]\n",
      "[14, 21, 28, 35, 42, 49]\n",
      "[14, 21, 28, 35, 42, 49, 56]\n",
      "[14, 21, 28, 35, 42, 49, 56, 63]\n",
      "[14, 21, 28, 35, 42, 49, 56, 63, 70]\n",
      "[14, 21, 28, 35, 42, 49, 56, 63, 70, 77]\n",
      "[14, 21, 28, 35, 42, 49, 56, 63, 70, 77, 84]\n",
      "[14, 21, 28, 35, 42, 49, 56, 63, 70, 77, 84, 91]\n",
      "[14, 21, 28, 35, 42, 49, 56, 63, 70, 77, 84, 91, 98]\n"
     ]
    }
   ],
   "source": [
    "r = []\n",
    "for i in range(10,101):\n",
    "    if i%7==0:\n",
    "        r.append(i)\n",
    "        print(r)"
   ]
  },
  {
   "cell_type": "code",
   "execution_count": 151,
   "id": "97dee47e",
   "metadata": {},
   "outputs": [
    {
     "name": "stdout",
     "output_type": "stream",
     "text": [
      "[13, 22, 654, 45]\n"
     ]
    }
   ],
   "source": [
    "t = [10,13,15,22,45,654,23,45,56]\n",
    "res1 = []\n",
    "for i in range(len(t)):  # i is the index \n",
    "    if i%2!=0:\n",
    "        res1.append(t[i])  \n",
    "print(res1)"
   ]
  },
  {
   "cell_type": "code",
   "execution_count": 153,
   "id": "b9546c77",
   "metadata": {},
   "outputs": [
    {
     "name": "stdout",
     "output_type": "stream",
     "text": [
      "[13, 22, 654, 45]\n"
     ]
    }
   ],
   "source": [
    "t = [10,13,15,22,45,654,23,45,56]\n",
    "res1 = []\n",
    "for i in range(1,len(t),2): #  start=1, end=9, step=2, i represents index\n",
    "    res1.append(t[i])\n",
    "print(res1)"
   ]
  },
  {
   "cell_type": "code",
   "execution_count": 158,
   "id": "cac80f18",
   "metadata": {},
   "outputs": [
    {
     "name": "stdout",
     "output_type": "stream",
     "text": [
      "[654, 56, 22, 10]\n"
     ]
    }
   ],
   "source": [
    "# Method-1\n",
    "t = [10,13,15,22,45,654,23,45,56]\n",
    "res2 = []\n",
    "for i in range(len(t)):   # i corresponds to the index of each element\n",
    "    if t[i]%2==0:\n",
    "        res2.append(t[i])\n",
    "res2.sort(reverse=True)\n",
    "print(res2)"
   ]
  },
  {
   "cell_type": "code",
   "execution_count": 159,
   "id": "79bd8fa5",
   "metadata": {},
   "outputs": [
    {
     "name": "stdout",
     "output_type": "stream",
     "text": [
      "[654, 56, 22, 10]\n"
     ]
    }
   ],
   "source": [
    "# Method-2\n",
    "t = [10,13,15,22,45,654,23,45,56]\n",
    "res2 = []\n",
    "for i in t:            # i corresponds to the list elements\n",
    "    if i%2==0:\n",
    "        res2.append(i)\n",
    "res2.sort(reverse=True)\n",
    "print(res2)  "
   ]
  },
  {
   "cell_type": "markdown",
   "id": "300facbd",
   "metadata": {},
   "source": [
    "#### List Comprehension\n",
    "It is short hand syntax to create a list"
   ]
  },
  {
   "cell_type": "code",
   "execution_count": 156,
   "id": "20efdf3f",
   "metadata": {},
   "outputs": [
    {
     "name": "stdout",
     "output_type": "stream",
     "text": [
      "[10, 13, 15, 22, 45, 654, 23, 45, 56]\n",
      "[13, 22, 654, 45]\n"
     ]
    }
   ],
   "source": [
    "t = [10,13,15,22,45,654,23,45,56]\n",
    "print(t)\n",
    "res1 = [t[i] for i in range(len(t)) if i%2!=0]\n",
    "print(res1)"
   ]
  },
  {
   "cell_type": "code",
   "execution_count": null,
   "id": "188da05f",
   "metadata": {},
   "outputs": [],
   "source": []
  }
 ],
 "metadata": {
  "kernelspec": {
   "display_name": "Python 3",
   "language": "python",
   "name": "python3"
  },
  "language_info": {
   "codemirror_mode": {
    "name": "ipython",
    "version": 3
   },
   "file_extension": ".py",
   "mimetype": "text/x-python",
   "name": "python",
   "nbconvert_exporter": "python",
   "pygments_lexer": "ipython3",
   "version": "3.8.8"
  }
 },
 "nbformat": 4,
 "nbformat_minor": 5
}
