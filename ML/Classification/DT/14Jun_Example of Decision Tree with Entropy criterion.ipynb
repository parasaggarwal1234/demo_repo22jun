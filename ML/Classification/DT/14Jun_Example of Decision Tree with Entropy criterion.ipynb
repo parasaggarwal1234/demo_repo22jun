{
 "cells": [
  {
   "cell_type": "markdown",
   "id": "48158eb7",
   "metadata": {},
   "source": [
    "### Decision Tree with entropy criterion"
   ]
  },
  {
   "cell_type": "markdown",
   "id": "98705352",
   "metadata": {},
   "source": [
    "### Example\n",
    "\n",
    "Problem Statement - Based on Outlook, Temp, Humidity and Wind, predict whether the player's decision to play golf<br>\n",
    "<img src=\"dt_ent1.png\" height=\"450\" width=\"400\" align=\"left\">\n",
    "\n"
   ]
  },
  {
   "cell_type": "markdown",
   "id": "39eaa004",
   "metadata": {},
   "source": [
    "### Entropy\n",
    "1)\tEntropy is the measure of uncertainty or disorder or impurity .It characterizes the impurity of an arbitrary collection of examples. The higher the entropy more the information content.<br>\n",
    "2)\tIf the sample is completely homogeneous the entropy is zero and if the sample is equally divided it has entropy of one.\n",
    "<img src=\"dt2.png\">\n",
    "where<br>\n",
    "pi = probability of label i<br>\n",
    "n = number of categories in the label <br>\n"
   ]
  },
  {
   "cell_type": "markdown",
   "id": "440258a3",
   "metadata": {},
   "source": [
    "<img src=\"dt_ent3.png\" height=\"450\" width=\"400\" align=\"left\">"
   ]
  },
  {
   "cell_type": "code",
   "execution_count": 6,
   "id": "eadd137c",
   "metadata": {},
   "outputs": [],
   "source": [
    "import math as m"
   ]
  },
  {
   "cell_type": "code",
   "execution_count": 8,
   "id": "a333db60",
   "metadata": {},
   "outputs": [
    {
     "data": {
      "text/plain": [
       "0.9402859586706311"
      ]
     },
     "execution_count": 8,
     "metadata": {},
     "output_type": "execute_result"
    }
   ],
   "source": [
    "def entropy(p,q):\n",
    "    if p!=0 or q!=0:        \n",
    "        ent = (-1)*((p/(p+q))*m.log2(p/(p+q)) + (q/(p+q))*m.log2(q/(p+q)))\n",
    "    else:\n",
    "        ent = 0\n",
    "    return ent\n",
    "\n",
    "# Yes = 9, No=5 => Total = 14\n",
    "entropy(9,5)"
   ]
  },
  {
   "cell_type": "markdown",
   "id": "4b17a401",
   "metadata": {},
   "source": [
    "#### Compute Weighted Entropy for Outlook\n",
    "<img src=\"dt_ent_wt_entropy.png\" height=\"200\" width=\"200\" align=\"left\">"
   ]
  },
  {
   "cell_type": "markdown",
   "id": "3763aa8f",
   "metadata": {},
   "source": [
    "<img src=\"dt_ent4.png\" height=\"450\" width=\"400\" align=\"left\">"
   ]
  },
  {
   "cell_type": "markdown",
   "id": "aebbe67f",
   "metadata": {},
   "source": [
    "### Compute Information Gain(G)\n",
    "It is the difference between parent entropy and average weighted entropy.\n",
    "\n",
    "<img src=\"dt_ent6.png\" height=\"450\" width=\"400\" align=\"left\">"
   ]
  },
  {
   "cell_type": "markdown",
   "id": "8049e995",
   "metadata": {},
   "source": [
    "### Likewise Compute Weighted Entorpy for Humidity, Temp and Wind parameters"
   ]
  },
  {
   "cell_type": "markdown",
   "id": "b48e26c0",
   "metadata": {},
   "source": [
    "<img src=\"dt_ent5.png\" height=\"450\" width=\"400\" align=\"left\">"
   ]
  },
  {
   "cell_type": "markdown",
   "id": "f2101a7f",
   "metadata": {},
   "source": [
    "<img src=\"dt_ent7.png\" height=\"450\" width=\"400\" align=\"left\">"
   ]
  },
  {
   "cell_type": "code",
   "execution_count": 9,
   "id": "348745fb",
   "metadata": {},
   "outputs": [],
   "source": [
    "ent_sunny  = 0.971  # E(3,2)\n",
    "ent_overcast  = 0.0  # E(4,0)\n",
    "ent_rainy  = 0.971  # E(2,3)"
   ]
  },
  {
   "cell_type": "markdown",
   "id": "c6c2d40b",
   "metadata": {},
   "source": [
    "### When Outlook is Sunny\n",
    "<img src=\"dt_ent9.png\" height=\"350\" width=\"300\" align=\"left\">"
   ]
  },
  {
   "cell_type": "code",
   "execution_count": 24,
   "id": "c6978731",
   "metadata": {},
   "outputs": [],
   "source": [
    "import math"
   ]
  },
  {
   "cell_type": "code",
   "execution_count": 17,
   "id": "b942570c",
   "metadata": {},
   "outputs": [
    {
     "name": "stdout",
     "output_type": "stream",
     "text": [
      "0\n"
     ]
    }
   ],
   "source": [
    "def entropy(p,q):\n",
    "    if p!=0 and q!=0:        \n",
    "        ent = (-1)*((p/(p+q))*m.log2(p/(p+q)) + (q/(p+q))*m.log2(q/(p+q)))\n",
    "    else:\n",
    "        ent = 0\n",
    "    return ent\n",
    "\n",
    "# Yes = 9, No=5 => Total = 14\n",
    "r1 = entropy(3,0)\n",
    "print(r1)"
   ]
  },
  {
   "cell_type": "code",
   "execution_count": 11,
   "id": "814194bc",
   "metadata": {},
   "outputs": [
    {
     "name": "stdout",
     "output_type": "stream",
     "text": [
      "Wt_ent_temp 0.9509775004326937\n",
      "Gain sunny wrt temp 0.020022499567306284\n"
     ]
    }
   ],
   "source": [
    "p_cool = (2/5)\n",
    "p_mild = (3/5)\n",
    "ent_sunny  = 0.971\n",
    "wt_ent_temp = p_cool*entropy(1,1) + p_mild*entropy(2,1)\n",
    "print('Wt_ent_temp',wt_ent_temp)\n",
    "\n",
    "gain_sunny_wrt_temp = ent_sunny - wt_ent_temp\n",
    "print('Gain sunny wrt temp',gain_sunny_wrt_temp)"
   ]
  },
  {
   "cell_type": "code",
   "execution_count": 12,
   "id": "0b9d6a85",
   "metadata": {},
   "outputs": [
    {
     "name": "stdout",
     "output_type": "stream",
     "text": [
      "Wt_ent_humidity 0.9509775004326937\n",
      "Gain sunny wrt humidity 0.020022499567306284\n"
     ]
    }
   ],
   "source": [
    "p_high = (2/5)\n",
    "p_normal = (3/5)\n",
    "ent_sunny  = 0.971\n",
    "wt_ent_humidity = p_high*entropy(1,1) + p_normal*entropy(2,1)\n",
    "print('Wt_ent_humidity',wt_ent_humidity)\n",
    "\n",
    "gain_sunny_wrt_humidity = ent_sunny - wt_ent_humidity\n",
    "print('Gain sunny wrt humidity',gain_sunny_wrt_humidity)"
   ]
  },
  {
   "cell_type": "code",
   "execution_count": 19,
   "id": "91a8ca23",
   "metadata": {},
   "outputs": [
    {
     "name": "stdout",
     "output_type": "stream",
     "text": [
      "Wt_ent_windy 0.0\n",
      "Gain sunny wrt windy 0.971\n"
     ]
    }
   ],
   "source": [
    "p_true = (2/5)\n",
    "p_false = (3/5)\n",
    "ent_sunny  = 0.971\n",
    "wt_ent_windy = p_high*entropy(0,2) + p_normal*entropy(3,0)\n",
    "print('Wt_ent_windy',wt_ent_windy)\n",
    "\n",
    "gain_sunny_wrt_windy = ent_sunny - wt_ent_windy\n",
    "print('Gain sunny wrt windy',gain_sunny_wrt_windy)"
   ]
  },
  {
   "cell_type": "markdown",
   "id": "ce4a4407",
   "metadata": {},
   "source": [
    "<img src=\"dt_ent10.png\" widht=\"400\" height=\"400\" align=\"left\">"
   ]
  },
  {
   "cell_type": "markdown",
   "id": "9cbb1384",
   "metadata": {},
   "source": [
    "### When Outlook is Rainy\n",
    "<img src=\"dt_ent11.png\" width=\"350\" height=\"300\" align=\"left\">"
   ]
  },
  {
   "cell_type": "code",
   "execution_count": 21,
   "id": "41da0850",
   "metadata": {},
   "outputs": [
    {
     "name": "stdout",
     "output_type": "stream",
     "text": [
      "Wt_ent_temp 0.4\n",
      "Gain rainy wrt temp 0.571\n"
     ]
    }
   ],
   "source": [
    "p_cool = (1/5)\n",
    "p_mild = (2/5)\n",
    "p_hot = (2/5)\n",
    "ent_rainy  = 0.971\n",
    "wt_ent_temp = p_cool*entropy(1,0) + p_mild*entropy(1,1) + p_hot*entropy(0,2)\n",
    "print('Wt_ent_temp',wt_ent_temp)\n",
    "\n",
    "gain_rainy_wrt_temp = ent_rainy - wt_ent_temp\n",
    "print('Gain rainy wrt temp',gain_rainy_wrt_temp)"
   ]
  },
  {
   "cell_type": "code",
   "execution_count": 22,
   "id": "86831126",
   "metadata": {},
   "outputs": [
    {
     "name": "stdout",
     "output_type": "stream",
     "text": [
      "Wt_ent_humidity 0.0\n",
      "Gain rainy wrt humidity 0.971\n"
     ]
    }
   ],
   "source": [
    "p_high = (3/5)\n",
    "p_normal = (2/5)\n",
    "ent_rainy  = 0.971\n",
    "wt_ent_humidity = p_high*entropy(0,3) + p_normal*entropy(2,0)\n",
    "print('Wt_ent_humidity',wt_ent_humidity)\n",
    "\n",
    "gain_rainy_wrt_humidity = ent_rainy - wt_ent_humidity\n",
    "print('Gain rainy wrt humidity',gain_rainy_wrt_humidity)"
   ]
  },
  {
   "cell_type": "code",
   "execution_count": 23,
   "id": "f377b679",
   "metadata": {},
   "outputs": [
    {
     "name": "stdout",
     "output_type": "stream",
     "text": [
      "Wt_ent_windy 0.9673183336217959\n",
      "Gain rainy wrt windy 0.003681666378204107\n"
     ]
    }
   ],
   "source": [
    "p_true = (2/5)\n",
    "p_false = (3/5)\n",
    "ent_rainy  = 0.971\n",
    "wt_ent_windy = p_high*entropy(1,1) + p_normal*entropy(1,2)\n",
    "print('Wt_ent_windy',wt_ent_windy)\n",
    "\n",
    "gain_rainy_wrt_windy = ent_rainy - wt_ent_windy\n",
    "print('Gain rainy wrt windy',gain_rainy_wrt_windy)"
   ]
  },
  {
   "cell_type": "markdown",
   "id": "ba0cbfdc",
   "metadata": {},
   "source": [
    "### Final Decision Tree\n",
    "<img src=\"dt_ent12.png\" height=\"300\" width=\"300\" align=\"left\">"
   ]
  },
  {
   "cell_type": "code",
   "execution_count": null,
   "id": "87757897",
   "metadata": {},
   "outputs": [],
   "source": []
  }
 ],
 "metadata": {
  "kernelspec": {
   "display_name": "Python 3",
   "language": "python",
   "name": "python3"
  },
  "language_info": {
   "codemirror_mode": {
    "name": "ipython",
    "version": 3
   },
   "file_extension": ".py",
   "mimetype": "text/x-python",
   "name": "python",
   "nbconvert_exporter": "python",
   "pygments_lexer": "ipython3",
   "version": "3.8.8"
  }
 },
 "nbformat": 4,
 "nbformat_minor": 5
}
