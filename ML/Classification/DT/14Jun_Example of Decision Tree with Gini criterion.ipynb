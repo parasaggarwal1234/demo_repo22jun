{
 "cells": [
  {
   "cell_type": "markdown",
   "id": "b516ffd8",
   "metadata": {},
   "source": [
    "### Decision Tree with gini criterion"
   ]
  },
  {
   "cell_type": "markdown",
   "id": "0ec5e678",
   "metadata": {},
   "source": [
    "### Example\n",
    "Problem Statement - Based on Outlook, Temp, Humidity and Wind, predict whether the player's decision to play golf<br>\n",
    "<img src=\"dt_gini1.png\" height=\"450\" width=\"400\" align=\"left\">\n",
    "\n"
   ]
  },
  {
   "cell_type": "markdown",
   "id": "6b5cf273",
   "metadata": {},
   "source": [
    "### Gini Index\n",
    "1) Gini index calculates the degree of probability of a specific feature that is classified incorrectly when selected randomly.\n",
    "\n",
    "2) If all the elements are linked with a single class then it can be called pure.\n",
    "\n",
    "3) Gini index varies between values 0 and 1, where 0 expresses the purity of classification, i.e. All the elements belong to a specified class or only one class exists there. And 1 indicates the random distribution of elements across various classes. The value of 0.5 of the Gini Index shows an equal distribution of elements over some classes.\n",
    "\n",
    "<img src=\"dt_gini_formula.png\" width=\"200\" align=\"left\">\n",
    "<br>\n",
    "where n is the number of categories"
   ]
  },
  {
   "cell_type": "markdown",
   "id": "063854cc",
   "metadata": {},
   "source": [
    "<img src=\"dt_gini2.png\" height=\"450\" width=\"400\" align=\"left\">"
   ]
  },
  {
   "cell_type": "markdown",
   "id": "ca0f94de",
   "metadata": {},
   "source": [
    "<img src=\"dt_gini3.png\" height=\"450\" width=\"400\" align=\"left\">"
   ]
  },
  {
   "cell_type": "markdown",
   "id": "491ed702",
   "metadata": {},
   "source": [
    "<img src=\"dt_gini4.png\" height=\"450\" width=\"400\" align=\"left\">"
   ]
  },
  {
   "cell_type": "markdown",
   "id": "797598ab",
   "metadata": {},
   "source": [
    "<img src=\"dt_gini5.png\" height=\"450\" width=\"400\" align=\"left\">"
   ]
  },
  {
   "cell_type": "markdown",
   "id": "232dd5b0",
   "metadata": {},
   "source": [
    "<img src=\"dt_gini6.png\" height=\"500\" width=\"600\" align=\"left\">"
   ]
  },
  {
   "cell_type": "markdown",
   "id": "8b2a3523",
   "metadata": {},
   "source": [
    "<img src=\"dt_gini7.png\" height=\"600\" width=\"600\" align=\"left\">"
   ]
  },
  {
   "cell_type": "markdown",
   "id": "c129b6e2",
   "metadata": {},
   "source": [
    "#### Table for Sunny Outlook\n",
    "<img src=\"dt_gini8.png\" height=\"450\" width=\"400\" align=\"left\">"
   ]
  },
  {
   "cell_type": "markdown",
   "id": "fbc6906a",
   "metadata": {},
   "source": [
    "<img src=\"dt_gini9.png\" height=\"450\" width=\"400\" align=\"left\">"
   ]
  },
  {
   "cell_type": "markdown",
   "id": "6775f912",
   "metadata": {},
   "source": [
    "<img src=\"dt_gini10.png\" height=\"450\" width=\"400\" align=\"left\">"
   ]
  },
  {
   "cell_type": "markdown",
   "id": "b1108529",
   "metadata": {},
   "source": [
    "<img src=\"dt_gini11.png\" height=\"450\" width=\"400\" align=\"left\">"
   ]
  },
  {
   "cell_type": "markdown",
   "id": "1139b7f2",
   "metadata": {},
   "source": [
    "<img src=\"dt_gini12.png\" height=\"600\" width=\"600\" align=\"left\">"
   ]
  },
  {
   "cell_type": "markdown",
   "id": "4cd518f4",
   "metadata": {},
   "source": [
    "### Table for Rain Outlook\n",
    "<img src=\"dt_gini13.png\" height=\"450\" width=\"400\" align=\"left\">"
   ]
  },
  {
   "cell_type": "markdown",
   "id": "3df3023b",
   "metadata": {},
   "source": [
    "<img src=\"dt_gini14.png\" height=\"450\" width=\"400\" align=\"left\">"
   ]
  },
  {
   "cell_type": "markdown",
   "id": "3adf2071",
   "metadata": {},
   "source": [
    "<img src=\"dt_gini15.png\" height=\"450\" width=\"400\" align=\"left\">"
   ]
  },
  {
   "cell_type": "markdown",
   "id": "a8e74900",
   "metadata": {},
   "source": [
    "### Decide for rain Outlook\n",
    "<img src=\"dt_gini16.png\" height=\"450\" width=\"400\" align=\"left\">"
   ]
  },
  {
   "cell_type": "markdown",
   "id": "1cbe3d85",
   "metadata": {},
   "source": [
    "<img src=\"dt_gini17.png\" height=\"600\" width=\"600\" align=\"left\">"
   ]
  },
  {
   "cell_type": "markdown",
   "id": "0787390b",
   "metadata": {},
   "source": [
    "<img src=\"dt_gini18.png\" height=\"600\" width=\"600\" align=\"left\">"
   ]
  },
  {
   "cell_type": "code",
   "execution_count": null,
   "id": "ea6addcd",
   "metadata": {},
   "outputs": [],
   "source": []
  }
 ],
 "metadata": {
  "kernelspec": {
   "display_name": "Python 3",
   "language": "python",
   "name": "python3"
  },
  "language_info": {
   "codemirror_mode": {
    "name": "ipython",
    "version": 3
   },
   "file_extension": ".py",
   "mimetype": "text/x-python",
   "name": "python",
   "nbconvert_exporter": "python",
   "pygments_lexer": "ipython3",
   "version": "3.8.8"
  }
 },
 "nbformat": 4,
 "nbformat_minor": 5
}
