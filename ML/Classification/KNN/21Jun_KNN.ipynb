{
 "cells": [
  {
   "cell_type": "markdown",
   "id": "dc0186ad",
   "metadata": {},
   "source": [
    "### KNN Algorithm (K-Nearest Neighbors Algorithm)\n",
    "\n",
    "1) It is a supervised learning algorithm used for Classification and Regression<br>\n",
    "\n",
    "2) KNN Intuition - The KNN algorithm assumes that similar things exist in close proximity. In other words, similar things are near to each other.<br>\n",
    "\n",
    "3) KNN works by finding the distances between a query(test data) and all the examples in the data(train data), selecting the specified number of examples (K) closest to the query, then votes for the most frequent label (in the case of classification).\n",
    "\n",
    "\n"
   ]
  },
  {
   "cell_type": "markdown",
   "id": "2a03ade2",
   "metadata": {},
   "source": [
    "### KNN Classification Algorithm\n",
    "\n",
    "1) Load the data<br>\n",
    "2) Initialize K to your chosen number of neighbors.<br>\n",
    "3) For getting the predicted class, iterate from 1 to total number of training data points<br> \n",
    "\n",
    "a) Calculate the distance between test data and each row of training data. Use Euclidean distance as our distance metric since it’s the most popular method. The other metrics that can be used are Manhattan, etc.<br>\n",
    "b) Sort the calculated distances in ascending order based on distance values<br>\n",
    "c) Get top K rows from the sorted array<br>\n",
    "d) Get the most frequent class(mode) of these rows<br>\n",
    "e) Return the predicted class<br>\n"
   ]
  },
  {
   "cell_type": "markdown",
   "id": "ea2bd69f",
   "metadata": {},
   "source": [
    "#### Different Distance Metrics in K-NN\n",
    "\n",
    "1) Euclidean Distance((x1,y1),(x2,y2)) =  √((y2-y1)^2 + (x2-x1)^2) <br>\n",
    "2) Manhattan Distance((x1,y1),(x2,y2)) = |(x2-x1)|  + |(y2-y1)| <br>\n",
    "3) Minkowski’s Distance ((x1,y1),(x2,y2)) = (|x2-x1|^p +|y2-y1|^p)^(1/p)<br>\n",
    "Note<br>\n",
    "a) For p=2, Minkowski’s Distance equals Euclidean’s Distance <br>\n",
    "b) p=1, Minkowski’s Distance equals Manhattan Distance \n"
   ]
  },
  {
   "cell_type": "markdown",
   "id": "19a8c859",
   "metadata": {},
   "source": [
    "<img src=\"knn1.png\">"
   ]
  },
  {
   "cell_type": "markdown",
   "id": "f1693c1a",
   "metadata": {},
   "source": [
    "### Notes\n",
    "1) As we decrease the value of K to 1, our predictions become less stable. Just think for a minute, imagine K=1 and we have a query point surrounded by several reds and one green, but the green is the single nearest neighbor. Reasonably, we would think the query point is most likely red, but because K=1, KNN incorrectly predicts that the query point is green.\n",
    "\n",
    "<img src=\"knn_n1.png\" height=\"300\" width=\"300\">\n",
    "\n",
    "2) Inversely, as we increase the value of K, our predictions become more stable due to majority voting / averaging, and thus, model is more likely to make more accurate predictions (up to a certain point). Eventually, we begin to witness an increasing number of errors if we increase K too much. It is at this point we know we have pushed the value of K too far.\n",
    "\n",
    "3) In cases where we are taking a majority vote (e.g. picking the mode in a classification problem) among labels, we usually make K an odd number to have a tiebreaker.\n",
    "\n",
    "4) KNN works by finding the distances between a query and all the examples in the data, selecting the specified number examples (K) closest to the query, then votes for the most frequent label (in the case of classification).\n"
   ]
  },
  {
   "cell_type": "markdown",
   "id": "f89b7d09",
   "metadata": {},
   "source": [
    "#### Limitations\n",
    "\n",
    "1) Affected by outliers<br>\n",
    "2) Lazy Learner<br>\n",
    "3) Real time data may not always be present close to each other for a particular category"
   ]
  },
  {
   "cell_type": "code",
   "execution_count": 2,
   "id": "643b850a",
   "metadata": {},
   "outputs": [],
   "source": [
    "import pandas as pd\n",
    "import numpy as np\n",
    "import matplotlib.pyplot as plt\n",
    "import seaborn as sns"
   ]
  },
  {
   "cell_type": "code",
   "execution_count": 3,
   "id": "a49f6b47",
   "metadata": {},
   "outputs": [
    {
     "data": {
      "text/html": [
       "<div>\n",
       "<style scoped>\n",
       "    .dataframe tbody tr th:only-of-type {\n",
       "        vertical-align: middle;\n",
       "    }\n",
       "\n",
       "    .dataframe tbody tr th {\n",
       "        vertical-align: top;\n",
       "    }\n",
       "\n",
       "    .dataframe thead th {\n",
       "        text-align: right;\n",
       "    }\n",
       "</style>\n",
       "<table border=\"1\" class=\"dataframe\">\n",
       "  <thead>\n",
       "    <tr style=\"text-align: right;\">\n",
       "      <th></th>\n",
       "      <th>sepal_length</th>\n",
       "      <th>sepal_width</th>\n",
       "      <th>petal_length</th>\n",
       "      <th>petal_width</th>\n",
       "      <th>label</th>\n",
       "    </tr>\n",
       "  </thead>\n",
       "  <tbody>\n",
       "    <tr>\n",
       "      <th>0</th>\n",
       "      <td>4.9</td>\n",
       "      <td>3.0</td>\n",
       "      <td>1.4</td>\n",
       "      <td>0.2</td>\n",
       "      <td>Iris-setosa</td>\n",
       "    </tr>\n",
       "    <tr>\n",
       "      <th>1</th>\n",
       "      <td>4.7</td>\n",
       "      <td>3.2</td>\n",
       "      <td>1.3</td>\n",
       "      <td>0.2</td>\n",
       "      <td>Iris-setosa</td>\n",
       "    </tr>\n",
       "    <tr>\n",
       "      <th>2</th>\n",
       "      <td>4.6</td>\n",
       "      <td>3.1</td>\n",
       "      <td>1.5</td>\n",
       "      <td>0.2</td>\n",
       "      <td>Iris-setosa</td>\n",
       "    </tr>\n",
       "    <tr>\n",
       "      <th>3</th>\n",
       "      <td>5.0</td>\n",
       "      <td>3.6</td>\n",
       "      <td>1.4</td>\n",
       "      <td>0.2</td>\n",
       "      <td>Iris-setosa</td>\n",
       "    </tr>\n",
       "    <tr>\n",
       "      <th>4</th>\n",
       "      <td>5.4</td>\n",
       "      <td>3.9</td>\n",
       "      <td>1.7</td>\n",
       "      <td>0.4</td>\n",
       "      <td>Iris-setosa</td>\n",
       "    </tr>\n",
       "  </tbody>\n",
       "</table>\n",
       "</div>"
      ],
      "text/plain": [
       "   sepal_length  sepal_width  petal_length  petal_width        label\n",
       "0           4.9          3.0           1.4          0.2  Iris-setosa\n",
       "1           4.7          3.2           1.3          0.2  Iris-setosa\n",
       "2           4.6          3.1           1.5          0.2  Iris-setosa\n",
       "3           5.0          3.6           1.4          0.2  Iris-setosa\n",
       "4           5.4          3.9           1.7          0.4  Iris-setosa"
      ]
     },
     "execution_count": 3,
     "metadata": {},
     "output_type": "execute_result"
    }
   ],
   "source": [
    "df = pd.read_csv('iris.csv')\n",
    "df.head()"
   ]
  },
  {
   "cell_type": "code",
   "execution_count": 4,
   "id": "22419fcb",
   "metadata": {},
   "outputs": [
    {
     "data": {
      "text/plain": [
       "(149, 5)"
      ]
     },
     "execution_count": 4,
     "metadata": {},
     "output_type": "execute_result"
    }
   ],
   "source": [
    "df.shape"
   ]
  },
  {
   "cell_type": "code",
   "execution_count": 5,
   "id": "e523a130",
   "metadata": {},
   "outputs": [
    {
     "data": {
      "text/plain": [
       "sepal_length    0\n",
       "sepal_width     0\n",
       "petal_length    0\n",
       "petal_width     0\n",
       "label           0\n",
       "dtype: int64"
      ]
     },
     "execution_count": 5,
     "metadata": {},
     "output_type": "execute_result"
    }
   ],
   "source": [
    "df.isnull().sum()"
   ]
  },
  {
   "cell_type": "code",
   "execution_count": 6,
   "id": "0f10ea41",
   "metadata": {},
   "outputs": [
    {
     "data": {
      "text/plain": [
       "Iris-virginica     50\n",
       "Iris-versicolor    50\n",
       "Iris-setosa        49\n",
       "Name: label, dtype: int64"
      ]
     },
     "execution_count": 6,
     "metadata": {},
     "output_type": "execute_result"
    }
   ],
   "source": [
    "df['label'].value_counts()"
   ]
  },
  {
   "cell_type": "code",
   "execution_count": 7,
   "id": "88d9aa99",
   "metadata": {},
   "outputs": [
    {
     "data": {
      "image/png": "[encoded data removed]",
      "text/plain": [
       "<Figure size 432x288 with 1 Axes>"
      ]
     },
     "metadata": {
      "needs_background": "light"
     },
     "output_type": "display_data"
    }
   ],
   "source": [
    "plt.scatter(df['sepal_length'],df['sepal_width'])\n",
    "plt.xlabel('Sepal_length')\n",
    "plt.ylabel('Sepal_width')\n",
    "plt.grid()\n",
    "plt.show()"
   ]
  },
  {
   "cell_type": "code",
   "execution_count": 8,
   "id": "f3c30ffb",
   "metadata": {},
   "outputs": [
    {
     "data": {
      "image/png": "[encoded data removed]",
      "text/plain": [
       "<Figure size 432x288 with 1 Axes>"
      ]
     },
     "metadata": {
      "needs_background": "light"
     },
     "output_type": "display_data"
    }
   ],
   "source": [
    "sns.scatterplot(x='sepal_length',y='sepal_width',data=df,hue='label')\n",
    "plt.show()"
   ]
  },
  {
   "cell_type": "code",
   "execution_count": 9,
   "id": "6cc8bd88",
   "metadata": {},
   "outputs": [
    {
     "name": "stdout",
     "output_type": "stream",
     "text": [
      "(149, 4)\n",
      "(149,)\n"
     ]
    }
   ],
   "source": [
    "x = df.iloc[:,:-1]\n",
    "y = df.iloc[:,-1]\n",
    "print(x.shape)\n",
    "print(y.shape)"
   ]
  },
  {
   "cell_type": "code",
   "execution_count": 47,
   "id": "708e7d01",
   "metadata": {},
   "outputs": [
    {
     "name": "stdout",
     "output_type": "stream",
     "text": [
      "(96, 4)\n",
      "(53, 4)\n",
      "(96,)\n",
      "(53,)\n"
     ]
    }
   ],
   "source": [
    "from sklearn.model_selection import train_test_split\n",
    "x_train,x_test,y_train,y_test = train_test_split(x,y,test_size=0.35)\n",
    "print(x_train.shape)\n",
    "print(x_test.shape)\n",
    "print(y_train.shape)\n",
    "print(y_test.shape)"
   ]
  },
  {
   "cell_type": "code",
   "execution_count": 48,
   "id": "ce2bb2d8",
   "metadata": {},
   "outputs": [],
   "source": [
    "from sklearn.neighbors import KNeighborsClassifier, KNeighborsRegressor"
   ]
  },
  {
   "cell_type": "code",
   "execution_count": 51,
   "id": "ab16c69d",
   "metadata": {},
   "outputs": [
    {
     "data": {
      "text/plain": [
       "KNeighborsClassifier(n_neighbors=11)"
      ]
     },
     "execution_count": 51,
     "metadata": {},
     "output_type": "execute_result"
    }
   ],
   "source": [
    "# K = n_neighbors\n",
    "# p=2 => Euclidean distance\n",
    "m1 = KNeighborsClassifier(n_neighbors=11,p=2)  \n",
    "m1.fit(x_train,y_train)"
   ]
  },
  {
   "cell_type": "code",
   "execution_count": 52,
   "id": "4f8dc403",
   "metadata": {},
   "outputs": [
    {
     "name": "stdout",
     "output_type": "stream",
     "text": [
      "Training Score 0.9583333333333334\n",
      "Testing Score 0.9433962264150944\n"
     ]
    }
   ],
   "source": [
    "print('Training Score',m1.score(x_train,y_train))\n",
    "print('Testing Score',m1.score(x_test,y_test))"
   ]
  },
  {
   "cell_type": "code",
   "execution_count": 53,
   "id": "23327546",
   "metadata": {},
   "outputs": [
    {
     "name": "stdout",
     "output_type": "stream",
     "text": [
      "['Iris-virginica' 'Iris-virginica' 'Iris-versicolor' 'Iris-versicolor'\n",
      " 'Iris-versicolor' 'Iris-virginica' 'Iris-setosa' 'Iris-virginica'\n",
      " 'Iris-versicolor' 'Iris-versicolor' 'Iris-setosa' 'Iris-virginica'\n",
      " 'Iris-virginica' 'Iris-versicolor' 'Iris-versicolor' 'Iris-setosa'\n",
      " 'Iris-setosa' 'Iris-versicolor' 'Iris-virginica' 'Iris-virginica'\n",
      " 'Iris-versicolor' 'Iris-setosa' 'Iris-setosa' 'Iris-setosa'\n",
      " 'Iris-versicolor' 'Iris-versicolor' 'Iris-setosa' 'Iris-setosa'\n",
      " 'Iris-setosa' 'Iris-versicolor' 'Iris-versicolor' 'Iris-virginica'\n",
      " 'Iris-versicolor' 'Iris-virginica' 'Iris-setosa' 'Iris-versicolor'\n",
      " 'Iris-virginica' 'Iris-versicolor' 'Iris-setosa' 'Iris-versicolor'\n",
      " 'Iris-virginica' 'Iris-setosa' 'Iris-virginica' 'Iris-virginica'\n",
      " 'Iris-setosa' 'Iris-versicolor' 'Iris-virginica' 'Iris-setosa'\n",
      " 'Iris-virginica' 'Iris-setosa' 'Iris-virginica' 'Iris-versicolor'\n",
      " 'Iris-setosa']\n"
     ]
    }
   ],
   "source": [
    "ypred_m1 = m1.predict(x_test)\n",
    "print(ypred_m1)"
   ]
  },
  {
   "cell_type": "code",
   "execution_count": 54,
   "id": "4c54224b",
   "metadata": {},
   "outputs": [],
   "source": [
    "from sklearn.metrics import confusion_matrix,classification_report,accuracy_score"
   ]
  },
  {
   "cell_type": "code",
   "execution_count": 55,
   "id": "f73d5288",
   "metadata": {},
   "outputs": [
    {
     "name": "stdout",
     "output_type": "stream",
     "text": [
      "[[17  0  0]\n",
      " [ 0 16  0]\n",
      " [ 0  3 17]]\n",
      "                 precision    recall  f1-score   support\n",
      "\n",
      "    Iris-setosa       1.00      1.00      1.00        17\n",
      "Iris-versicolor       0.84      1.00      0.91        16\n",
      " Iris-virginica       1.00      0.85      0.92        20\n",
      "\n",
      "       accuracy                           0.94        53\n",
      "      macro avg       0.95      0.95      0.94        53\n",
      "   weighted avg       0.95      0.94      0.94        53\n",
      "\n"
     ]
    }
   ],
   "source": [
    "cm = confusion_matrix(y_test,ypred_m1)\n",
    "print(cm)\n",
    "print(classification_report(y_test,ypred_m1))"
   ]
  },
  {
   "cell_type": "code",
   "execution_count": 57,
   "id": "a1c6c5cf",
   "metadata": {},
   "outputs": [],
   "source": [
    "k,acc = [],[]\n",
    "neighbors = range(3,29,2)\n",
    "for i in neighbors:\n",
    "    m = KNeighborsClassifier(n_neighbors=i)\n",
    "    k.append(i)\n",
    "    m.fit(x_train,y_train)\n",
    "    ypred = m.predict(x_test)\n",
    "    accuracy = accuracy_score(y_test,ypred)\n",
    "    acc.append(accuracy)"
   ]
  },
  {
   "cell_type": "code",
   "execution_count": 58,
   "id": "cc3a7eba",
   "metadata": {},
   "outputs": [
    {
     "name": "stdout",
     "output_type": "stream",
     "text": [
      "[3, 5, 7, 9, 11, 13, 15, 17, 19, 21, 23, 25, 27]\n",
      "[0.9622641509433962, 0.9811320754716981, 0.9811320754716981, 0.9622641509433962, 0.9433962264150944, 0.9622641509433962, 0.9622641509433962, 0.9622641509433962, 0.9622641509433962, 0.9622641509433962, 0.9622641509433962, 0.9433962264150944, 0.9622641509433962]\n"
     ]
    }
   ],
   "source": [
    "print(k)\n",
    "print(acc)"
   ]
  },
  {
   "cell_type": "code",
   "execution_count": 59,
   "id": "934cdb3e",
   "metadata": {},
   "outputs": [
    {
     "data": {
      "image/png": "[encoded data removed]",
      "text/plain": [
       "<Figure size 432x288 with 1 Axes>"
      ]
     },
     "metadata": {
      "needs_background": "light"
     },
     "output_type": "display_data"
    }
   ],
   "source": [
    "plt.plot(k,acc)\n",
    "plt.xlabel('No of Nearest neighbors - K')\n",
    "plt.ylabel('Accuracy')\n",
    "plt.title('Accuracy vs K')\n",
    "plt.grid()\n",
    "plt.show()\n"
   ]
  },
  {
   "cell_type": "code",
   "execution_count": null,
   "id": "ada2d896",
   "metadata": {},
   "outputs": [],
   "source": []
  }
 ],
 "metadata": {
  "kernelspec": {
   "display_name": "Python 3",
   "language": "python",
   "name": "python3"
  },
  "language_info": {
   "codemirror_mode": {
    "name": "ipython",
    "version": 3
   },
   "file_extension": ".py",
   "mimetype": "text/x-python",
   "name": "python",
   "nbconvert_exporter": "python",
   "pygments_lexer": "ipython3",
   "version": "3.8.8"
  }
 },
 "nbformat": 4,
 "nbformat_minor": 5
}
