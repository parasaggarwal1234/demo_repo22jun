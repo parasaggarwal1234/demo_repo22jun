{
 "cells": [
  {
   "cell_type": "markdown",
   "id": "2265d893",
   "metadata": {},
   "source": [
    "### Classification Problems\n",
    "1) Dependent variable is categorical. Examples - Yes or No, 0 or 1, True or  False<br>\n",
    "2) Classification can be binary classfication (2 categories) or multiclass classfication(more than 2 categories)<br>\n",
    "Example<br>\n",
    "x = Age, Gender, BMI, Blood Glucose Level, Body_Weight<br>\n",
    "y = Diabetic or Non-diabetic "
   ]
  },
  {
   "cell_type": "markdown",
   "id": "9247dd39",
   "metadata": {},
   "source": [
    "### Confusion Matrix\n",
    "1) It is a square matrix consisting of 4 terms (TP,FN,FP,TN)<br>\n",
    "2) It is the basis of classification metrics.<br>\n",
    "3) If the number of categories is n, shape of confusion matrix will be (n,n)<br>"
   ]
  },
  {
   "cell_type": "code",
   "execution_count": 3,
   "id": "8471c0bb",
   "metadata": {},
   "outputs": [
    {
     "name": "stdout",
     "output_type": "stream",
     "text": [
      "22\n",
      "22\n"
     ]
    }
   ],
   "source": [
    "# 0 - Positive(True), 1 - Negative(False)\n",
    "y_true = [0,1,1,0,0,1,0,1,1,0,1,0,1,1,0,0,1,0,1,1,1,1]\n",
    "y_pred = [1,0,1,0,1,1,0,0,0,1,1,0,1,0,1,0,0,1,1,1,0,1]\n",
    "print(len(y_true))\n",
    "print(len(y_pred))"
   ]
  },
  {
   "cell_type": "markdown",
   "id": "38738439",
   "metadata": {},
   "source": [
    "### Terminologies\n",
    "1) <b>TP(True Positive): </b><br>\n",
    "Actual value is positive, ML model also predicted a positive value\n",
    "\n",
    "2) <b>FN(False Negative): </b><br>\n",
    "Actual value is positive, ML model predicted a negative value\n",
    "\n",
    "3) <b>FP(False Positive): </b><br>\n",
    "Actual value is negative, ML model predicted a positive value\n",
    "\n",
    "4) <b>TN(True Negative): </b><br>\n",
    "Actual value is negative, ML model also predicted a negative value\n",
    "\n",
    "\n",
    "### Note\n",
    "1) Sum of all the cases where actual value is Positive = TP + FN <br> \n",
    "2) Sum of all the cases where actual value is Negative = TN + FP<br>\n",
    "3) Sum of all the cases where predicted value is Positive = TP + FP<br>\n",
    "4) Sum of all the cases where predicted value is Negative = TN + FN<br>"
   ]
  },
  {
   "cell_type": "code",
   "execution_count": 20,
   "id": "bf5d760a",
   "metadata": {},
   "outputs": [],
   "source": [
    "from sklearn.metrics import confusion_matrix, classification_report,accuracy_score"
   ]
  },
  {
   "cell_type": "code",
   "execution_count": 8,
   "id": "b93929e3",
   "metadata": {},
   "outputs": [],
   "source": [
    "# 0 - Positive(True), 1 - Negative(False)\n",
    "y_true = [0,1,1,0,0,1,0,1,1,0,1,0,1,1,0,0,1,0,1,1,1,1]\n",
    "y_pred = [1,0,1,0,1,1,0,0,0,1,1,0,1,0,1,0,0,1,1,1,0,1]"
   ]
  },
  {
   "cell_type": "code",
   "execution_count": 10,
   "id": "b188e59c",
   "metadata": {},
   "outputs": [
    {
     "name": "stdout",
     "output_type": "stream",
     "text": [
      "[[4 5]\n",
      " [6 7]]\n"
     ]
    }
   ],
   "source": [
    "cm = confusion_matrix(y_true,y_pred)\n",
    "print(cm)\n",
    "# Actual value=0,Predicted value = 0 => TP = 4\n",
    "# Actual value=0,Predicted value = 1 => FN = 5\n",
    "# Actual value=1,Predicted value = 0 => FP = 6\n",
    "# Actual value=1,Predicted value = 1 => TN = 7\n",
    "# [TP FN]\n",
    "# [FP TN]"
   ]
  },
  {
   "cell_type": "markdown",
   "id": "ab22af2d",
   "metadata": {},
   "source": [
    "### Classification Metrics\n",
    "1) <b> Precision - TP/(TP+FP) , TN/(TN+FN)</b><br>\n",
    "From all the cases where predicted value is Positive, how many are actually positive.<br>\n",
    "From all the cases where predicted value is Negative, how many are actually negative\n",
    "\n",
    "2) <b>Recall - TP/(TP+FN), TN/(TN+FP)</b><br>\n",
    "From all cases where actual value is Positive, how many the model has predicted Positive.<br>\n",
    "From all cases where actual value is Negative, how many the model has predicted Negative.\n",
    "\n",
    "Recall TP/(TP+FN) is also called <b>Sensitivity or True Positive Rate (TPR)</b>\n",
    "\n",
    "3) <b>F1-Score - 2 * Precision * Recall/(Precision + Recall)</b><br>\n",
    "It is harmonic mean between Precision and Recall<br>\n",
    "\n",
    "4) <b>Accuracy - (TP + TN)/(TP + FN + FP + TN)</b><br>\n",
    "Overall how good the predictions are."
   ]
  },
  {
   "cell_type": "markdown",
   "id": "8c6f4fbd",
   "metadata": {},
   "source": [
    "### Validation "
   ]
  },
  {
   "cell_type": "code",
   "execution_count": 12,
   "id": "d432a287",
   "metadata": {},
   "outputs": [
    {
     "name": "stdout",
     "output_type": "stream",
     "text": [
      "              precision    recall  f1-score   support\n",
      "\n",
      "           0       0.40      0.44      0.42         9\n",
      "           1       0.58      0.54      0.56        13\n",
      "\n",
      "    accuracy                           0.50        22\n",
      "   macro avg       0.49      0.49      0.49        22\n",
      "weighted avg       0.51      0.50      0.50        22\n",
      "\n"
     ]
    }
   ],
   "source": [
    "print(classification_report(y_true,y_pred))"
   ]
  },
  {
   "cell_type": "code",
   "execution_count": 13,
   "id": "1d93def5",
   "metadata": {},
   "outputs": [
    {
     "name": "stdout",
     "output_type": "stream",
     "text": [
      "[[4 5]\n",
      " [6 7]]\n"
     ]
    }
   ],
   "source": [
    "print(cm)\n",
    "# [TP=4 FN=5]\n",
    "# [FP=6 TN=7]"
   ]
  },
  {
   "cell_type": "code",
   "execution_count": null,
   "id": "41eb53c6",
   "metadata": {},
   "outputs": [],
   "source": [
    "# Pre = TP/(TP+FP), TN/(TN+FN)\n",
    "# Rec = TP/(TP+FN), TN/(TN+FP)\n",
    "# F1-score = 2*Pre*Rec/(Pre+rec)\n",
    "# Acc = (TP+TN)/(TP+FN+FP+TN)"
   ]
  },
  {
   "cell_type": "code",
   "execution_count": 16,
   "id": "5d881535",
   "metadata": {},
   "outputs": [
    {
     "name": "stdout",
     "output_type": "stream",
     "text": [
      "Pre0 0.4\n",
      "Pre1 0.5833333333333334\n",
      "Rec0 0.4444444444444444\n",
      "Rec1 0.5384615384615384\n"
     ]
    }
   ],
   "source": [
    "pre0 = 4/(4+6)\n",
    "pre1 = 7/(7+5) \n",
    "rec0 = 4/(4+5)\n",
    "rec1 = 7/(7+6)\n",
    "print('Pre0',pre0)\n",
    "print('Pre1',pre1)\n",
    "print('Rec0',rec0)\n",
    "print('Rec1',rec1)"
   ]
  },
  {
   "cell_type": "code",
   "execution_count": 18,
   "id": "86e9a101",
   "metadata": {},
   "outputs": [
    {
     "name": "stdout",
     "output_type": "stream",
     "text": [
      "F1_score0 0.4210526315789474\n",
      "F1_score1 0.5599999999999999\n"
     ]
    }
   ],
   "source": [
    "f1s0 = 2*pre0*rec0/(pre0+rec0)\n",
    "f1s1 = 2*pre1*rec1/(pre1+rec1)\n",
    "print('F1_score0',f1s0)\n",
    "print('F1_score1',f1s1)"
   ]
  },
  {
   "cell_type": "code",
   "execution_count": 21,
   "id": "31d40079",
   "metadata": {},
   "outputs": [
    {
     "name": "stdout",
     "output_type": "stream",
     "text": [
      "Accuracy 0.5\n",
      "0.5\n"
     ]
    }
   ],
   "source": [
    "acc = (4+7)/(4+5+6+7)\n",
    "print('Accuracy',acc)\n",
    "print(accuracy_score(y_true,y_pred))"
   ]
  },
  {
   "cell_type": "code",
   "execution_count": 23,
   "id": "825e2782",
   "metadata": {},
   "outputs": [
    {
     "name": "stdout",
     "output_type": "stream",
     "text": [
      "Macro Avg_precision 0.4916666666666667\n",
      "Macro Avg_recall 0.49145299145299143\n",
      "Macro Avg_f1-score 0.4905263157894737\n"
     ]
    }
   ],
   "source": [
    "mac_avg_pre = (pre0 + pre1)/2\n",
    "mac_avg_rec = (rec0 + rec1)/2\n",
    "mac_avg_f1s = (f1s0 + f1s1)/2\n",
    "print('Macro Avg_precision',mac_avg_pre)\n",
    "print('Macro Avg_recall',mac_avg_rec)\n",
    "print('Macro Avg_f1-score',mac_avg_f1s)"
   ]
  },
  {
   "cell_type": "code",
   "execution_count": 24,
   "id": "9137b62f",
   "metadata": {},
   "outputs": [
    {
     "name": "stdout",
     "output_type": "stream",
     "text": [
      "weighted Avg_precision 0.5083333333333333\n",
      "weighted Avg_recall 0.5\n",
      "weighted Avg_f1-score 0.503157894736842\n"
     ]
    }
   ],
   "source": [
    "wt_avg_pre = (pre0*9 + pre1*13)/22\n",
    "wt_avg_rec = (rec0*9 + rec1*13)/22\n",
    "wt_avg_f1s = (f1s0*9 + f1s1*13)/22\n",
    "print('weighted Avg_precision',wt_avg_pre)\n",
    "print('weighted Avg_recall',wt_avg_rec)\n",
    "print('weighted Avg_f1-score',wt_avg_f1s)"
   ]
  },
  {
   "cell_type": "code",
   "execution_count": 25,
   "id": "c26d914b",
   "metadata": {},
   "outputs": [
    {
     "name": "stdout",
     "output_type": "stream",
     "text": [
      "25\n",
      "25\n"
     ]
    }
   ],
   "source": [
    "y_true1 = [0,1,2,2,1,0,2,1,1,1,0,2,2,0,0,2,0,2,1,2,0,1,1,0,2]\n",
    "y_pred1 = [2,0,1,2,2,1,1,1,0,0,2,0,1,2,0,2,0,1,1,1,2,1,1,0,0]\n",
    "print(len(y_true1))\n",
    "print(len(y_pred1))"
   ]
  },
  {
   "cell_type": "code",
   "execution_count": 27,
   "id": "c8809996",
   "metadata": {},
   "outputs": [
    {
     "name": "stdout",
     "output_type": "stream",
     "text": [
      "[[3 1 4]\n",
      " [3 4 1]\n",
      " [2 5 2]]\n"
     ]
    }
   ],
   "source": [
    "cm1 = confusion_matrix(y_true1,y_pred1)\n",
    "print(cm1)"
   ]
  },
  {
   "cell_type": "code",
   "execution_count": 28,
   "id": "34692a89",
   "metadata": {},
   "outputs": [
    {
     "name": "stdout",
     "output_type": "stream",
     "text": [
      "              precision    recall  f1-score   support\n",
      "\n",
      "           0       0.38      0.38      0.38         8\n",
      "           1       0.40      0.50      0.44         8\n",
      "           2       0.29      0.22      0.25         9\n",
      "\n",
      "    accuracy                           0.36        25\n",
      "   macro avg       0.35      0.37      0.36        25\n",
      "weighted avg       0.35      0.36      0.35        25\n",
      "\n"
     ]
    }
   ],
   "source": [
    "print(classification_report(y_true1,y_pred1))"
   ]
  },
  {
   "cell_type": "markdown",
   "id": "454d1649",
   "metadata": {},
   "source": [
    "#### Exercise\n",
    "Validate results for Precision,Recall,f1-score"
   ]
  },
  {
   "cell_type": "markdown",
   "id": "c5b7f2f2",
   "metadata": {},
   "source": [
    "### ROC AUC-Curve\n",
    "\n",
    "1) ROC(Receiver Operator Characteristics) is a probability curve that plots the TPR against FPR at various threshold values and essentially separates the ‘signal’ from the ‘noise’. The Area Under the Curve (AUC) is the measure of the ability of a classifier to distinguish between classes and is used as a summary of the ROC curve.\n",
    "\n",
    "2) The higher the AUC, the better the performance of the model at distinguishing between the positive and negative classes.\n",
    "\n",
    "3) When AUC = 1, then the classifier is able to perfectly distinguish between all the Positive and the Negative class points correctly. If, however, the AUC had been 0, then the classifier would be predicting all Negatives as Positives, and all Positives as Negatives.\n",
    "\n",
    "4) When 0.5<AUC<1, there is a high chance that the classifier will be able to distinguish the positive class values from the negative class values. This is so because the classifier is able to detect more numbers of True positives and True negatives than False negatives and False positives\n"
   ]
  },
  {
   "cell_type": "code",
   "execution_count": null,
   "id": "ea5b2425",
   "metadata": {},
   "outputs": [],
   "source": []
  },
  {
   "cell_type": "markdown",
   "id": "01b5d8a2",
   "metadata": {},
   "source": [
    "### Example\n",
    "On y-axis, we have probability of obese and on x-axis, we have weight<br>\n",
    "1 - Obese(Positive)-Blue colored, 0 - Not Obese (Negative)- Red colored\n",
    "\n",
    "<img src=\"roc_auc1.png\" height=\"250\" width=\"350\" align=\"left\">\n",
    "<img src=\"roc_auc2.png\" height=\"250\" width=\"350\" align=\"right\">"
   ]
  },
  {
   "cell_type": "markdown",
   "id": "3c53f441",
   "metadata": {},
   "source": [
    "### Threshold = 0.5\n",
    "<img src=\"roc_auc3.png\" height=\"250\" width=\"300\" align=\"left\">"
   ]
  },
  {
   "cell_type": "code",
   "execution_count": null,
   "id": "90428799",
   "metadata": {},
   "outputs": [],
   "source": [
    "### Write tehe confusion matrix for the above threshold\n",
    "# 1 - Obese(Positve), 0 - Not Obese (Negative)\n",
    "# cm = [TP=3 FN=1]  - obese\n",
    "#      [FP=1 TN=3]  - not obese"
   ]
  },
  {
   "cell_type": "markdown",
   "id": "43e82f70",
   "metadata": {},
   "source": [
    "### Threshold <0\n",
    "<img src=\"roc_auc6.png\" height=\"250\" width=\"300\" align=\"left\">"
   ]
  },
  {
   "cell_type": "code",
   "execution_count": null,
   "id": "42d20636",
   "metadata": {},
   "outputs": [],
   "source": [
    "### Write tehe confusion matrix for the above threshold\n",
    "# 1 - Obese(Positve), 0 - Not Obese (Negative)\n",
    "# cm = [TP=4 FN=0]  - obese\n",
    "#      [FP=4 TN=0]  - not obese"
   ]
  },
  {
   "cell_type": "markdown",
   "id": "c1c945fa",
   "metadata": {},
   "source": [
    "### Threshold=0.1\n",
    "<img src=\"roc_auc7.png\" height=\"250\" width=\"300\" align=\"left\">"
   ]
  },
  {
   "cell_type": "code",
   "execution_count": null,
   "id": "547bb3f6",
   "metadata": {},
   "outputs": [],
   "source": [
    "### Write tehe confusion matrix for the above threshold\n",
    "# 1 - Obese(Positve), 0 - Not Obese (Negative)\n",
    "# cm = [TP=4 FN=0]  - obese\n",
    "#      [FP=2 TN=2]  - not obese"
   ]
  },
  {
   "cell_type": "code",
   "execution_count": null,
   "id": "192514c5",
   "metadata": {},
   "outputs": [],
   "source": []
  },
  {
   "cell_type": "markdown",
   "id": "bef353ab",
   "metadata": {},
   "source": [
    "#### ROC graphs \n",
    "1) ROC stands for Receiver Operator Characteristis graph<br>\n",
    "2) ROC graphs provide a simple way to summarizes all the confusion matrix that each threshold produced<br>\n",
    "3) ROC graph is made by considering FPR(False positive rate on x-axis) and TPR(True Positive Rate on y-axis).<br>\n",
    "4) TPR = Sensitivity = TP/(TP+FN)<br>\n",
    "5) FPR = (1-Specificity) = FP/(FP + TN)\n",
    "\n",
    "where <br>\n",
    "TP + FN = Sum of all the cases where actual value is Positive<br>\n",
    "FP + TN = Sum of all the cases where actual value is Negative<br>\n",
    "\n",
    "\n",
    "#### AUC Curve\n",
    "1) AUC stands for Area under curve.<br>\n",
    "2) It makes it easier to compare one ROC graph with another.<br>\n",
    "<img src=\"auc_curve1.png\" height=\"250\" width=\"300\" align=\"left\">"
   ]
  },
  {
   "cell_type": "code",
   "execution_count": 29,
   "id": "976e27f7",
   "metadata": {},
   "outputs": [],
   "source": [
    "import matplotlib.pyplot as plt"
   ]
  },
  {
   "cell_type": "code",
   "execution_count": 33,
   "id": "0028d700",
   "metadata": {},
   "outputs": [
    {
     "data": {
      "image/png": "[encoded data removed]",
      "text/plain": [
       "<Figure size 432x288 with 1 Axes>"
      ]
     },
     "metadata": {
      "needs_background": "light"
     },
     "output_type": "display_data"
    }
   ],
   "source": [
    "fpr = [1,0.75,0.5,0.25,0,0,0,0]\n",
    "tpr = [1,1,1,0.75,0.75,0.5,0.25,0]\n",
    "\n",
    "plt.scatter(fpr,tpr,color='red')\n",
    "plt.plot([0,1],[0,1],label='TPR=FPR',color='green',linestyle=':')\n",
    "plt.xlabel('FPR')\n",
    "plt.ylabel('TPR')\n",
    "plt.title('ROC_AUC Curve')\n",
    "plt.legend()\n",
    "plt.grid()\n",
    "plt.show()"
   ]
  },
  {
   "cell_type": "markdown",
   "id": "d0a56f1b",
   "metadata": {},
   "source": [
    "#### Q)\n",
    "1) Plot a scatter chart between fpr (on x-axis) and tpr on (y-axis)<br>\n",
    "2) Plot a line chart for TPR=FPR<br>"
   ]
  },
  {
   "cell_type": "code",
   "execution_count": null,
   "id": "cc0d6f3c",
   "metadata": {},
   "outputs": [],
   "source": []
  }
 ],
 "metadata": {
  "kernelspec": {
   "display_name": "Python 3",
   "language": "python",
   "name": "python3"
  },
  "language_info": {
   "codemirror_mode": {
    "name": "ipython",
    "version": 3
   },
   "file_extension": ".py",
   "mimetype": "text/x-python",
   "name": "python",
   "nbconvert_exporter": "python",
   "pygments_lexer": "ipython3",
   "version": "3.8.8"
  }
 },
 "nbformat": 4,
 "nbformat_minor": 5
}
