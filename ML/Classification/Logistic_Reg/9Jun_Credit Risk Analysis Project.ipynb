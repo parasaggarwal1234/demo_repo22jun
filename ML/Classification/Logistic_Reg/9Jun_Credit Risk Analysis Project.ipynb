{
 "cells": [
  {
   "cell_type": "code",
   "execution_count": null,
   "id": "8028081b",
   "metadata": {},
   "outputs": [],
   "source": []
  },
  {
   "cell_type": "markdown",
   "id": "8d998b81",
   "metadata": {},
   "source": [
    "### Credit Risk Analysis\n",
    "\n",
    "One of the leading banks would like to predict bad customer while customer applying for loan. This model also called as PD Models (Probability of Default)\n",
    "\n",
    "Credit scoring is perhaps one of the most \"classic\" applications for predictive modeling, to predict whether or not credit extended to an applicant will likely result in profit or losses for the lending institution. There are many variations and complexities regarding how exactly credit is extended to individuals, businesses, and other organizations for various purposes (purchasing equipment, real estate, consumer items, and so on), and using various methods of credit (credit card, loan, delayed payment plan). But in all cases, a lender provides money to an individual or institution, and expects to be paid back in time with interest commensurate with the risk of default. Credit scoring is the set of decision models and their underlying techniques that aid lenders in the granting of consumer credit. These techniques determine who will get credit, how much credit they should get, and what operational strategies will enhance the profitability of the borrowers to the lenders. Further, they help to assess the risk in lending. Credit scoring is a dependable assessment of a person’s credit worthiness since it is based on actual data.\n",
    "\n",
    "A lender commonly makes two types of decisions: first, whether to grant credit to a new applicant, and second, how to deal with existing applicants, including whether to increase their credit limits. In both cases, whatever the techniques used, it is critical that there is a large sample of previous customers with their application details, behavioral patterns, and subsequent credit history available. Most of the techniques use this sample to identify the connection between the characteristics of the consumers (annual income, age, number of years in employment with their current employer, etc.) and their subsequent history.\n",
    "\n",
    "Typical application areas in the consumer market include: credit cards, auto loans, home mortgages, home equity loans, mail catalog orders, and a wide variety of personal loan products.\n"
   ]
  },
  {
   "cell_type": "markdown",
   "id": "b28aca1d",
   "metadata": {},
   "source": [
    "#### Feature Description\n",
    "\n",
    "    age - Age of Customer\n",
    "    ed - Eductation level of customer\n",
    "    employ: Tenure with current employer (in years)\n",
    "    address: Number of years in same address\n",
    "    income: Customer Income\n",
    "    debtinc: Debt to income ratio\n",
    "    creddebt: Credit to Debt ratio\n",
    "    othdebt: Other debts\n",
    "    default: Customer defaulted in the past (1= defaulted, 0=Never defaulted) "
   ]
  },
  {
   "cell_type": "code",
   "execution_count": null,
   "id": "10465228",
   "metadata": {},
   "outputs": [],
   "source": [
    "# bankloan_data.csv  - Train file\n",
    "# bankdata_test.csv  - Test file"
   ]
  },
  {
   "cell_type": "code",
   "execution_count": 1,
   "id": "a5b42c29",
   "metadata": {},
   "outputs": [],
   "source": [
    "import pandas as pd\n",
    "import numpy as np\n",
    "import matplotlib.pyplot as plt\n",
    "import seaborn as sns"
   ]
  },
  {
   "cell_type": "code",
   "execution_count": 2,
   "id": "31beb9c8",
   "metadata": {},
   "outputs": [
    {
     "data": {
      "text/html": [
       "<div>\n",
       "<style scoped>\n",
       "    .dataframe tbody tr th:only-of-type {\n",
       "        vertical-align: middle;\n",
       "    }\n",
       "\n",
       "    .dataframe tbody tr th {\n",
       "        vertical-align: top;\n",
       "    }\n",
       "\n",
       "    .dataframe thead th {\n",
       "        text-align: right;\n",
       "    }\n",
       "</style>\n",
       "<table border=\"1\" class=\"dataframe\">\n",
       "  <thead>\n",
       "    <tr style=\"text-align: right;\">\n",
       "      <th></th>\n",
       "      <th>Unnamed: 0</th>\n",
       "      <th>age</th>\n",
       "      <th>ed</th>\n",
       "      <th>employ</th>\n",
       "      <th>address</th>\n",
       "      <th>income</th>\n",
       "      <th>debtinc</th>\n",
       "      <th>creddebt</th>\n",
       "      <th>othdebt</th>\n",
       "      <th>default</th>\n",
       "    </tr>\n",
       "  </thead>\n",
       "  <tbody>\n",
       "    <tr>\n",
       "      <th>0</th>\n",
       "      <td>0</td>\n",
       "      <td>41</td>\n",
       "      <td>3</td>\n",
       "      <td>17</td>\n",
       "      <td>12</td>\n",
       "      <td>176</td>\n",
       "      <td>9.3</td>\n",
       "      <td>11.359392</td>\n",
       "      <td>5.008608</td>\n",
       "      <td>1.0</td>\n",
       "    </tr>\n",
       "    <tr>\n",
       "      <th>1</th>\n",
       "      <td>1</td>\n",
       "      <td>27</td>\n",
       "      <td>1</td>\n",
       "      <td>10</td>\n",
       "      <td>6</td>\n",
       "      <td>31</td>\n",
       "      <td>17.3</td>\n",
       "      <td>1.362202</td>\n",
       "      <td>4.000798</td>\n",
       "      <td>0.0</td>\n",
       "    </tr>\n",
       "    <tr>\n",
       "      <th>2</th>\n",
       "      <td>2</td>\n",
       "      <td>40</td>\n",
       "      <td>1</td>\n",
       "      <td>15</td>\n",
       "      <td>14</td>\n",
       "      <td>55</td>\n",
       "      <td>5.5</td>\n",
       "      <td>0.856075</td>\n",
       "      <td>2.168925</td>\n",
       "      <td>0.0</td>\n",
       "    </tr>\n",
       "    <tr>\n",
       "      <th>3</th>\n",
       "      <td>3</td>\n",
       "      <td>41</td>\n",
       "      <td>1</td>\n",
       "      <td>15</td>\n",
       "      <td>14</td>\n",
       "      <td>120</td>\n",
       "      <td>2.9</td>\n",
       "      <td>2.658720</td>\n",
       "      <td>0.821280</td>\n",
       "      <td>0.0</td>\n",
       "    </tr>\n",
       "    <tr>\n",
       "      <th>4</th>\n",
       "      <td>4</td>\n",
       "      <td>24</td>\n",
       "      <td>2</td>\n",
       "      <td>2</td>\n",
       "      <td>0</td>\n",
       "      <td>28</td>\n",
       "      <td>17.3</td>\n",
       "      <td>1.787436</td>\n",
       "      <td>3.056564</td>\n",
       "      <td>1.0</td>\n",
       "    </tr>\n",
       "  </tbody>\n",
       "</table>\n",
       "</div>"
      ],
      "text/plain": [
       "   Unnamed: 0  age  ed  employ  address  income  debtinc   creddebt   othdebt  \\\n",
       "0           0   41   3      17       12     176      9.3  11.359392  5.008608   \n",
       "1           1   27   1      10        6      31     17.3   1.362202  4.000798   \n",
       "2           2   40   1      15       14      55      5.5   0.856075  2.168925   \n",
       "3           3   41   1      15       14     120      2.9   2.658720  0.821280   \n",
       "4           4   24   2       2        0      28     17.3   1.787436  3.056564   \n",
       "\n",
       "   default  \n",
       "0      1.0  \n",
       "1      0.0  \n",
       "2      0.0  \n",
       "3      0.0  \n",
       "4      1.0  "
      ]
     },
     "execution_count": 2,
     "metadata": {},
     "output_type": "execute_result"
    }
   ],
   "source": [
    "df = pd.read_csv('bankloan_data.csv')\n",
    "df.drop()\n",
    "df.head()"
   ]
  },
  {
   "cell_type": "code",
   "execution_count": 3,
   "id": "31d16a77",
   "metadata": {},
   "outputs": [
    {
     "data": {
      "text/plain": [
       "(700, 10)"
      ]
     },
     "execution_count": 3,
     "metadata": {},
     "output_type": "execute_result"
    }
   ],
   "source": [
    "df.shape"
   ]
  },
  {
   "cell_type": "code",
   "execution_count": 4,
   "id": "1d784bfc",
   "metadata": {},
   "outputs": [
    {
     "data": {
      "text/plain": [
       "Unnamed: 0    0\n",
       "age           0\n",
       "ed            0\n",
       "employ        0\n",
       "address       0\n",
       "income        0\n",
       "debtinc       0\n",
       "creddebt      0\n",
       "othdebt       0\n",
       "default       0\n",
       "dtype: int64"
      ]
     },
     "execution_count": 4,
     "metadata": {},
     "output_type": "execute_result"
    }
   ],
   "source": [
    "df.isnull().sum()"
   ]
  },
  {
   "cell_type": "code",
   "execution_count": 5,
   "id": "e7a0f69f",
   "metadata": {},
   "outputs": [],
   "source": [
    "df.drop('Unnamed: 0',axis=1,inplace=True)"
   ]
  },
  {
   "cell_type": "code",
   "execution_count": 6,
   "id": "7067405c",
   "metadata": {},
   "outputs": [
    {
     "data": {
      "text/plain": [
       "(700, 9)"
      ]
     },
     "execution_count": 6,
     "metadata": {},
     "output_type": "execute_result"
    }
   ],
   "source": [
    "df.shape"
   ]
  },
  {
   "cell_type": "code",
   "execution_count": 7,
   "id": "d63f949b",
   "metadata": {},
   "outputs": [
    {
     "data": {
      "text/plain": [
       "age           int64\n",
       "ed            int64\n",
       "employ        int64\n",
       "address       int64\n",
       "income        int64\n",
       "debtinc     float64\n",
       "creddebt    float64\n",
       "othdebt     float64\n",
       "default     float64\n",
       "dtype: object"
      ]
     },
     "execution_count": 7,
     "metadata": {},
     "output_type": "execute_result"
    }
   ],
   "source": [
    "df.dtypes"
   ]
  },
  {
   "cell_type": "code",
   "execution_count": 9,
   "id": "a629bd4c",
   "metadata": {},
   "outputs": [
    {
     "data": {
      "text/plain": [
       "0.0    517\n",
       "1.0    183\n",
       "Name: default, dtype: int64"
      ]
     },
     "execution_count": 9,
     "metadata": {},
     "output_type": "execute_result"
    }
   ],
   "source": [
    "df['default'].value_counts()"
   ]
  },
  {
   "cell_type": "code",
   "execution_count": 10,
   "id": "3cffdc97",
   "metadata": {},
   "outputs": [
    {
     "data": {
      "text/plain": [
       "Index(['age', 'ed', 'employ', 'address', 'income', 'debtinc', 'creddebt',\n",
       "       'othdebt', 'default'],\n",
       "      dtype='object')"
      ]
     },
     "execution_count": 10,
     "metadata": {},
     "output_type": "execute_result"
    }
   ],
   "source": [
    "df.columns"
   ]
  },
  {
   "cell_type": "code",
   "execution_count": null,
   "id": "12c4d4d8",
   "metadata": {},
   "outputs": [],
   "source": []
  },
  {
   "cell_type": "code",
   "execution_count": 11,
   "id": "83ff18bf",
   "metadata": {},
   "outputs": [
    {
     "data": {
      "image/png": "[encoded data removed]",
      "text/plain": [
       "<Figure size 432x288 with 1 Axes>"
      ]
     },
     "metadata": {
      "needs_background": "light"
     },
     "output_type": "display_data"
    },
    {
     "data": {
      "image/png": "[encoded data removed]",
      "text/plain": [
       "<Figure size 432x288 with 1 Axes>"
      ]
     },
     "metadata": {
      "needs_background": "light"
     },
     "output_type": "display_data"
    },
    {
     "data": {
      "image/png": "[encoded data removed]",
      "text/plain": [
       "<Figure size 432x288 with 1 Axes>"
      ]
     },
     "metadata": {
      "needs_background": "light"
     },
     "output_type": "display_data"
    },
    {
     "data": {
      "image/png": "[encoded data removed]",
      "text/plain": [
       "<Figure size 432x288 with 1 Axes>"
      ]
     },
     "metadata": {
      "needs_background": "light"
     },
     "output_type": "display_data"
    },
    {
     "data": {
      "image/png": "[encoded data removed]",
      "text/plain": [
       "<Figure size 432x288 with 1 Axes>"
      ]
     },
     "metadata": {
      "needs_background": "light"
     },
     "output_type": "display_data"
    },
    {
     "data": {
      "image/png": "[encoded data removed]",
      "text/plain": [
       "<Figure size 432x288 with 1 Axes>"
      ]
     },
     "metadata": {
      "needs_background": "light"
     },
     "output_type": "display_data"
    },
    {
     "data": {
      "image/png": "[encoded data removed]",
      "text/plain": [
       "<Figure size 432x288 with 1 Axes>"
      ]
     },
     "metadata": {
      "needs_background": "light"
     },
     "output_type": "display_data"
    },
    {
     "data": {
      "image/png": "[encoded data removed]",
      "text/plain": [
       "<Figure size 432x288 with 1 Axes>"
      ]
     },
     "metadata": {
      "needs_background": "light"
     },
     "output_type": "display_data"
    },
    {
     "data": {
      "image/png": "[encoded data removed]",
      "text/plain": [
       "<Figure size 432x288 with 1 Axes>"
      ]
     },
     "metadata": {
      "needs_background": "light"
     },
     "output_type": "display_data"
    }
   ],
   "source": [
    "for i in df.columns:\n",
    "    sns.boxplot(x = df['default'], y=df[i])\n",
    "    plt.show()"
   ]
  },
  {
   "cell_type": "code",
   "execution_count": 12,
   "id": "2a6accf4",
   "metadata": {},
   "outputs": [
    {
     "data": {
      "text/html": [
       "<div>\n",
       "<style scoped>\n",
       "    .dataframe tbody tr th:only-of-type {\n",
       "        vertical-align: middle;\n",
       "    }\n",
       "\n",
       "    .dataframe tbody tr th {\n",
       "        vertical-align: top;\n",
       "    }\n",
       "\n",
       "    .dataframe thead th {\n",
       "        text-align: right;\n",
       "    }\n",
       "</style>\n",
       "<table border=\"1\" class=\"dataframe\">\n",
       "  <thead>\n",
       "    <tr style=\"text-align: right;\">\n",
       "      <th></th>\n",
       "      <th>age</th>\n",
       "      <th>ed</th>\n",
       "      <th>employ</th>\n",
       "      <th>address</th>\n",
       "      <th>income</th>\n",
       "      <th>debtinc</th>\n",
       "      <th>creddebt</th>\n",
       "      <th>othdebt</th>\n",
       "      <th>default</th>\n",
       "    </tr>\n",
       "  </thead>\n",
       "  <tbody>\n",
       "    <tr>\n",
       "      <th>age</th>\n",
       "      <td>1.000000</td>\n",
       "      <td>0.022325</td>\n",
       "      <td>0.536497</td>\n",
       "      <td>0.597591</td>\n",
       "      <td>0.478710</td>\n",
       "      <td>0.016398</td>\n",
       "      <td>0.295207</td>\n",
       "      <td>0.340217</td>\n",
       "      <td>-0.137657</td>\n",
       "    </tr>\n",
       "    <tr>\n",
       "      <th>ed</th>\n",
       "      <td>0.022325</td>\n",
       "      <td>1.000000</td>\n",
       "      <td>-0.153621</td>\n",
       "      <td>0.056919</td>\n",
       "      <td>0.235190</td>\n",
       "      <td>0.008838</td>\n",
       "      <td>0.088274</td>\n",
       "      <td>0.165459</td>\n",
       "      <td>0.114676</td>\n",
       "    </tr>\n",
       "    <tr>\n",
       "      <th>employ</th>\n",
       "      <td>0.536497</td>\n",
       "      <td>-0.153621</td>\n",
       "      <td>1.000000</td>\n",
       "      <td>0.322334</td>\n",
       "      <td>0.619681</td>\n",
       "      <td>-0.031182</td>\n",
       "      <td>0.403694</td>\n",
       "      <td>0.406091</td>\n",
       "      <td>-0.282978</td>\n",
       "    </tr>\n",
       "    <tr>\n",
       "      <th>address</th>\n",
       "      <td>0.597591</td>\n",
       "      <td>0.056919</td>\n",
       "      <td>0.322334</td>\n",
       "      <td>1.000000</td>\n",
       "      <td>0.316245</td>\n",
       "      <td>0.011323</td>\n",
       "      <td>0.208435</td>\n",
       "      <td>0.226514</td>\n",
       "      <td>-0.164451</td>\n",
       "    </tr>\n",
       "    <tr>\n",
       "      <th>income</th>\n",
       "      <td>0.478710</td>\n",
       "      <td>0.235190</td>\n",
       "      <td>0.619681</td>\n",
       "      <td>0.316245</td>\n",
       "      <td>1.000000</td>\n",
       "      <td>-0.026777</td>\n",
       "      <td>0.570199</td>\n",
       "      <td>0.610659</td>\n",
       "      <td>-0.070970</td>\n",
       "    </tr>\n",
       "    <tr>\n",
       "      <th>debtinc</th>\n",
       "      <td>0.016398</td>\n",
       "      <td>0.008838</td>\n",
       "      <td>-0.031182</td>\n",
       "      <td>0.011323</td>\n",
       "      <td>-0.026777</td>\n",
       "      <td>1.000000</td>\n",
       "      <td>0.501767</td>\n",
       "      <td>0.584870</td>\n",
       "      <td>0.389575</td>\n",
       "    </tr>\n",
       "    <tr>\n",
       "      <th>creddebt</th>\n",
       "      <td>0.295207</td>\n",
       "      <td>0.088274</td>\n",
       "      <td>0.403694</td>\n",
       "      <td>0.208435</td>\n",
       "      <td>0.570199</td>\n",
       "      <td>0.501767</td>\n",
       "      <td>1.000000</td>\n",
       "      <td>0.633104</td>\n",
       "      <td>0.244740</td>\n",
       "    </tr>\n",
       "    <tr>\n",
       "      <th>othdebt</th>\n",
       "      <td>0.340217</td>\n",
       "      <td>0.165459</td>\n",
       "      <td>0.406091</td>\n",
       "      <td>0.226514</td>\n",
       "      <td>0.610659</td>\n",
       "      <td>0.584870</td>\n",
       "      <td>0.633104</td>\n",
       "      <td>1.000000</td>\n",
       "      <td>0.145713</td>\n",
       "    </tr>\n",
       "    <tr>\n",
       "      <th>default</th>\n",
       "      <td>-0.137657</td>\n",
       "      <td>0.114676</td>\n",
       "      <td>-0.282978</td>\n",
       "      <td>-0.164451</td>\n",
       "      <td>-0.070970</td>\n",
       "      <td>0.389575</td>\n",
       "      <td>0.244740</td>\n",
       "      <td>0.145713</td>\n",
       "      <td>1.000000</td>\n",
       "    </tr>\n",
       "  </tbody>\n",
       "</table>\n",
       "</div>"
      ],
      "text/plain": [
       "               age        ed    employ   address    income   debtinc  \\\n",
       "age       1.000000  0.022325  0.536497  0.597591  0.478710  0.016398   \n",
       "ed        0.022325  1.000000 -0.153621  0.056919  0.235190  0.008838   \n",
       "employ    0.536497 -0.153621  1.000000  0.322334  0.619681 -0.031182   \n",
       "address   0.597591  0.056919  0.322334  1.000000  0.316245  0.011323   \n",
       "income    0.478710  0.235190  0.619681  0.316245  1.000000 -0.026777   \n",
       "debtinc   0.016398  0.008838 -0.031182  0.011323 -0.026777  1.000000   \n",
       "creddebt  0.295207  0.088274  0.403694  0.208435  0.570199  0.501767   \n",
       "othdebt   0.340217  0.165459  0.406091  0.226514  0.610659  0.584870   \n",
       "default  -0.137657  0.114676 -0.282978 -0.164451 -0.070970  0.389575   \n",
       "\n",
       "          creddebt   othdebt   default  \n",
       "age       0.295207  0.340217 -0.137657  \n",
       "ed        0.088274  0.165459  0.114676  \n",
       "employ    0.403694  0.406091 -0.282978  \n",
       "address   0.208435  0.226514 -0.164451  \n",
       "income    0.570199  0.610659 -0.070970  \n",
       "debtinc   0.501767  0.584870  0.389575  \n",
       "creddebt  1.000000  0.633104  0.244740  \n",
       "othdebt   0.633104  1.000000  0.145713  \n",
       "default   0.244740  0.145713  1.000000  "
      ]
     },
     "execution_count": 12,
     "metadata": {},
     "output_type": "execute_result"
    }
   ],
   "source": [
    "corr = df.corr()\n",
    "corr"
   ]
  },
  {
   "cell_type": "code",
   "execution_count": 16,
   "id": "142b3359",
   "metadata": {},
   "outputs": [
    {
     "data": {
      "image/png": "[encoded data removed]",
      "text/plain": [
       "<Figure size 432x288 with 2 Axes>"
      ]
     },
     "metadata": {
      "needs_background": "light"
     },
     "output_type": "display_data"
    }
   ],
   "source": [
    "sns.heatmap(corr,annot=True,cmap='coolwarm')\n",
    "plt.show()"
   ]
  },
  {
   "cell_type": "markdown",
   "id": "a18699de",
   "metadata": {},
   "source": [
    "### Handling Outliers"
   ]
  },
  {
   "cell_type": "code",
   "execution_count": 19,
   "id": "259e4cff",
   "metadata": {},
   "outputs": [
    {
     "data": {
      "text/html": [
       "<div>\n",
       "<style scoped>\n",
       "    .dataframe tbody tr th:only-of-type {\n",
       "        vertical-align: middle;\n",
       "    }\n",
       "\n",
       "    .dataframe tbody tr th {\n",
       "        vertical-align: top;\n",
       "    }\n",
       "\n",
       "    .dataframe thead th {\n",
       "        text-align: right;\n",
       "    }\n",
       "</style>\n",
       "<table border=\"1\" class=\"dataframe\">\n",
       "  <thead>\n",
       "    <tr style=\"text-align: right;\">\n",
       "      <th></th>\n",
       "      <th>count</th>\n",
       "      <th>mean</th>\n",
       "      <th>std</th>\n",
       "      <th>min</th>\n",
       "      <th>10%</th>\n",
       "      <th>30%</th>\n",
       "      <th>50%</th>\n",
       "      <th>95%</th>\n",
       "      <th>97%</th>\n",
       "      <th>98%</th>\n",
       "      <th>max</th>\n",
       "    </tr>\n",
       "  </thead>\n",
       "  <tbody>\n",
       "    <tr>\n",
       "      <th>age</th>\n",
       "      <td>700.0</td>\n",
       "      <td>34.860000</td>\n",
       "      <td>7.997342</td>\n",
       "      <td>20.000000</td>\n",
       "      <td>25.000000</td>\n",
       "      <td>29.000000</td>\n",
       "      <td>34.000000</td>\n",
       "      <td>49.000000</td>\n",
       "      <td>51.000000</td>\n",
       "      <td>52.000000</td>\n",
       "      <td>56.00000</td>\n",
       "    </tr>\n",
       "    <tr>\n",
       "      <th>ed</th>\n",
       "      <td>700.0</td>\n",
       "      <td>1.722857</td>\n",
       "      <td>0.928206</td>\n",
       "      <td>1.000000</td>\n",
       "      <td>1.000000</td>\n",
       "      <td>1.000000</td>\n",
       "      <td>1.000000</td>\n",
       "      <td>4.000000</td>\n",
       "      <td>4.000000</td>\n",
       "      <td>4.000000</td>\n",
       "      <td>5.00000</td>\n",
       "    </tr>\n",
       "    <tr>\n",
       "      <th>employ</th>\n",
       "      <td>700.0</td>\n",
       "      <td>8.388571</td>\n",
       "      <td>6.658039</td>\n",
       "      <td>0.000000</td>\n",
       "      <td>1.000000</td>\n",
       "      <td>4.000000</td>\n",
       "      <td>7.000000</td>\n",
       "      <td>21.050000</td>\n",
       "      <td>23.000000</td>\n",
       "      <td>24.000000</td>\n",
       "      <td>31.00000</td>\n",
       "    </tr>\n",
       "    <tr>\n",
       "      <th>address</th>\n",
       "      <td>700.0</td>\n",
       "      <td>8.278571</td>\n",
       "      <td>6.824877</td>\n",
       "      <td>0.000000</td>\n",
       "      <td>1.000000</td>\n",
       "      <td>3.000000</td>\n",
       "      <td>7.000000</td>\n",
       "      <td>22.000000</td>\n",
       "      <td>24.030000</td>\n",
       "      <td>25.020000</td>\n",
       "      <td>34.00000</td>\n",
       "    </tr>\n",
       "    <tr>\n",
       "      <th>income</th>\n",
       "      <td>700.0</td>\n",
       "      <td>45.601429</td>\n",
       "      <td>36.814226</td>\n",
       "      <td>14.000000</td>\n",
       "      <td>19.000000</td>\n",
       "      <td>26.000000</td>\n",
       "      <td>34.000000</td>\n",
       "      <td>113.000000</td>\n",
       "      <td>129.000000</td>\n",
       "      <td>148.180000</td>\n",
       "      <td>446.00000</td>\n",
       "    </tr>\n",
       "    <tr>\n",
       "      <th>debtinc</th>\n",
       "      <td>700.0</td>\n",
       "      <td>10.260571</td>\n",
       "      <td>6.827234</td>\n",
       "      <td>0.400000</td>\n",
       "      <td>2.900000</td>\n",
       "      <td>5.800000</td>\n",
       "      <td>8.600000</td>\n",
       "      <td>23.800000</td>\n",
       "      <td>25.709000</td>\n",
       "      <td>27.716000</td>\n",
       "      <td>41.30000</td>\n",
       "    </tr>\n",
       "    <tr>\n",
       "      <th>creddebt</th>\n",
       "      <td>700.0</td>\n",
       "      <td>1.553553</td>\n",
       "      <td>2.117197</td>\n",
       "      <td>0.011696</td>\n",
       "      <td>0.170020</td>\n",
       "      <td>0.440418</td>\n",
       "      <td>0.854869</td>\n",
       "      <td>5.098264</td>\n",
       "      <td>6.236958</td>\n",
       "      <td>7.394810</td>\n",
       "      <td>20.56131</td>\n",
       "    </tr>\n",
       "    <tr>\n",
       "      <th>othdebt</th>\n",
       "      <td>700.0</td>\n",
       "      <td>3.058209</td>\n",
       "      <td>3.287555</td>\n",
       "      <td>0.045584</td>\n",
       "      <td>0.562232</td>\n",
       "      <td>1.165766</td>\n",
       "      <td>1.987567</td>\n",
       "      <td>9.501648</td>\n",
       "      <td>11.728490</td>\n",
       "      <td>12.960384</td>\n",
       "      <td>27.03360</td>\n",
       "    </tr>\n",
       "    <tr>\n",
       "      <th>default</th>\n",
       "      <td>700.0</td>\n",
       "      <td>0.261429</td>\n",
       "      <td>0.439727</td>\n",
       "      <td>0.000000</td>\n",
       "      <td>0.000000</td>\n",
       "      <td>0.000000</td>\n",
       "      <td>0.000000</td>\n",
       "      <td>1.000000</td>\n",
       "      <td>1.000000</td>\n",
       "      <td>1.000000</td>\n",
       "      <td>1.00000</td>\n",
       "    </tr>\n",
       "  </tbody>\n",
       "</table>\n",
       "</div>"
      ],
      "text/plain": [
       "          count       mean        std        min        10%        30%  \\\n",
       "age       700.0  34.860000   7.997342  20.000000  25.000000  29.000000   \n",
       "ed        700.0   1.722857   0.928206   1.000000   1.000000   1.000000   \n",
       "employ    700.0   8.388571   6.658039   0.000000   1.000000   4.000000   \n",
       "address   700.0   8.278571   6.824877   0.000000   1.000000   3.000000   \n",
       "income    700.0  45.601429  36.814226  14.000000  19.000000  26.000000   \n",
       "debtinc   700.0  10.260571   6.827234   0.400000   2.900000   5.800000   \n",
       "creddebt  700.0   1.553553   2.117197   0.011696   0.170020   0.440418   \n",
       "othdebt   700.0   3.058209   3.287555   0.045584   0.562232   1.165766   \n",
       "default   700.0   0.261429   0.439727   0.000000   0.000000   0.000000   \n",
       "\n",
       "                50%         95%         97%         98%        max  \n",
       "age       34.000000   49.000000   51.000000   52.000000   56.00000  \n",
       "ed         1.000000    4.000000    4.000000    4.000000    5.00000  \n",
       "employ     7.000000   21.050000   23.000000   24.000000   31.00000  \n",
       "address    7.000000   22.000000   24.030000   25.020000   34.00000  \n",
       "income    34.000000  113.000000  129.000000  148.180000  446.00000  \n",
       "debtinc    8.600000   23.800000   25.709000   27.716000   41.30000  \n",
       "creddebt   0.854869    5.098264    6.236958    7.394810   20.56131  \n",
       "othdebt    1.987567    9.501648   11.728490   12.960384   27.03360  \n",
       "default    0.000000    1.000000    1.000000    1.000000    1.00000  "
      ]
     },
     "execution_count": 19,
     "metadata": {},
     "output_type": "execute_result"
    }
   ],
   "source": [
    "df.describe(percentiles=[0.1,0.3,0.5,0.95,0.97,0.98]).T"
   ]
  },
  {
   "cell_type": "code",
   "execution_count": 24,
   "id": "8ad656ca",
   "metadata": {},
   "outputs": [],
   "source": [
    "def outlier_treatment(x):\n",
    "    x.clip(upper=x.quantile(0.98))\n",
    "    x.clip(lower=x.quantile(0.02))\n",
    "    return x"
   ]
  },
  {
   "cell_type": "code",
   "execution_count": 25,
   "id": "e0310d1e",
   "metadata": {},
   "outputs": [],
   "source": [
    "# df_clean = df.apply(outlier_treatment)\n",
    "\n",
    "# OR\n",
    "\n",
    "df_clean = df.apply(lambda x : outlier_treatment(x))"
   ]
  },
  {
   "cell_type": "code",
   "execution_count": 26,
   "id": "58d1659e",
   "metadata": {},
   "outputs": [
    {
     "data": {
      "text/html": [
       "<div>\n",
       "<style scoped>\n",
       "    .dataframe tbody tr th:only-of-type {\n",
       "        vertical-align: middle;\n",
       "    }\n",
       "\n",
       "    .dataframe tbody tr th {\n",
       "        vertical-align: top;\n",
       "    }\n",
       "\n",
       "    .dataframe thead th {\n",
       "        text-align: right;\n",
       "    }\n",
       "</style>\n",
       "<table border=\"1\" class=\"dataframe\">\n",
       "  <thead>\n",
       "    <tr style=\"text-align: right;\">\n",
       "      <th></th>\n",
       "      <th>age</th>\n",
       "      <th>ed</th>\n",
       "      <th>employ</th>\n",
       "      <th>address</th>\n",
       "      <th>income</th>\n",
       "      <th>debtinc</th>\n",
       "      <th>creddebt</th>\n",
       "      <th>othdebt</th>\n",
       "      <th>default</th>\n",
       "    </tr>\n",
       "  </thead>\n",
       "  <tbody>\n",
       "    <tr>\n",
       "      <th>0</th>\n",
       "      <td>41</td>\n",
       "      <td>3</td>\n",
       "      <td>17</td>\n",
       "      <td>12</td>\n",
       "      <td>176</td>\n",
       "      <td>9.3</td>\n",
       "      <td>11.359392</td>\n",
       "      <td>5.008608</td>\n",
       "      <td>1.0</td>\n",
       "    </tr>\n",
       "    <tr>\n",
       "      <th>1</th>\n",
       "      <td>27</td>\n",
       "      <td>1</td>\n",
       "      <td>10</td>\n",
       "      <td>6</td>\n",
       "      <td>31</td>\n",
       "      <td>17.3</td>\n",
       "      <td>1.362202</td>\n",
       "      <td>4.000798</td>\n",
       "      <td>0.0</td>\n",
       "    </tr>\n",
       "    <tr>\n",
       "      <th>2</th>\n",
       "      <td>40</td>\n",
       "      <td>1</td>\n",
       "      <td>15</td>\n",
       "      <td>14</td>\n",
       "      <td>55</td>\n",
       "      <td>5.5</td>\n",
       "      <td>0.856075</td>\n",
       "      <td>2.168925</td>\n",
       "      <td>0.0</td>\n",
       "    </tr>\n",
       "    <tr>\n",
       "      <th>3</th>\n",
       "      <td>41</td>\n",
       "      <td>1</td>\n",
       "      <td>15</td>\n",
       "      <td>14</td>\n",
       "      <td>120</td>\n",
       "      <td>2.9</td>\n",
       "      <td>2.658720</td>\n",
       "      <td>0.821280</td>\n",
       "      <td>0.0</td>\n",
       "    </tr>\n",
       "    <tr>\n",
       "      <th>4</th>\n",
       "      <td>24</td>\n",
       "      <td>2</td>\n",
       "      <td>2</td>\n",
       "      <td>0</td>\n",
       "      <td>28</td>\n",
       "      <td>17.3</td>\n",
       "      <td>1.787436</td>\n",
       "      <td>3.056564</td>\n",
       "      <td>1.0</td>\n",
       "    </tr>\n",
       "  </tbody>\n",
       "</table>\n",
       "</div>"
      ],
      "text/plain": [
       "   age  ed  employ  address  income  debtinc   creddebt   othdebt  default\n",
       "0   41   3      17       12     176      9.3  11.359392  5.008608      1.0\n",
       "1   27   1      10        6      31     17.3   1.362202  4.000798      0.0\n",
       "2   40   1      15       14      55      5.5   0.856075  2.168925      0.0\n",
       "3   41   1      15       14     120      2.9   2.658720  0.821280      0.0\n",
       "4   24   2       2        0      28     17.3   1.787436  3.056564      1.0"
      ]
     },
     "execution_count": 26,
     "metadata": {},
     "output_type": "execute_result"
    }
   ],
   "source": [
    "df_clean.head()"
   ]
  },
  {
   "cell_type": "code",
   "execution_count": 27,
   "id": "c74497e2",
   "metadata": {},
   "outputs": [
    {
     "name": "stdout",
     "output_type": "stream",
     "text": [
      "(700, 8)\n",
      "(700,)\n"
     ]
    }
   ],
   "source": [
    "x = df.drop('default',axis=1)\n",
    "y = df['default']\n",
    "print(x.shape)\n",
    "print(y.shape)"
   ]
  },
  {
   "cell_type": "code",
   "execution_count": 28,
   "id": "ff97ed13",
   "metadata": {},
   "outputs": [],
   "source": [
    "from sklearn.model_selection import train_test_split\n",
    "from sklearn.metrics import confusion_matrix,classification_report, roc_auc_score,roc_curve"
   ]
  },
  {
   "cell_type": "code",
   "execution_count": 29,
   "id": "3637d484",
   "metadata": {},
   "outputs": [
    {
     "name": "stdout",
     "output_type": "stream",
     "text": [
      "(525, 8)\n",
      "(175, 8)\n",
      "(525,)\n",
      "(175,)\n"
     ]
    }
   ],
   "source": [
    "x_train,x_test,y_train,y_test = train_test_split(x,y,test_size=0.25)\n",
    "print(x_train.shape)\n",
    "print(x_test.shape)\n",
    "print(y_train.shape)\n",
    "print(y_test.shape)"
   ]
  },
  {
   "cell_type": "markdown",
   "id": "336c570b",
   "metadata": {},
   "source": [
    "### Model Building"
   ]
  },
  {
   "cell_type": "code",
   "execution_count": 33,
   "id": "62cce3cf",
   "metadata": {},
   "outputs": [],
   "source": [
    "from sklearn.linear_model import LogisticRegression"
   ]
  },
  {
   "cell_type": "code",
   "execution_count": 40,
   "id": "6055500e",
   "metadata": {},
   "outputs": [
    {
     "data": {
      "text/plain": [
       "LogisticRegression(max_iter=1000)"
      ]
     },
     "execution_count": 40,
     "metadata": {},
     "output_type": "execute_result"
    }
   ],
   "source": [
    "m1 = LogisticRegression(max_iter=1000)\n",
    "m1.fit(x_train,y_train)"
   ]
  },
  {
   "cell_type": "code",
   "execution_count": 41,
   "id": "448dcf3e",
   "metadata": {},
   "outputs": [
    {
     "name": "stdout",
     "output_type": "stream",
     "text": [
      "Training score 0.819047619047619\n",
      "Testing score 0.7942857142857143\n"
     ]
    }
   ],
   "source": [
    "print('Training score',m1.score(x_train,y_train))\n",
    "print('Testing score',m1.score(x_test,y_test))"
   ]
  },
  {
   "cell_type": "code",
   "execution_count": 42,
   "id": "821de6ce",
   "metadata": {},
   "outputs": [
    {
     "name": "stdout",
     "output_type": "stream",
     "text": [
      "[0. 0. 0. 0. 0. 0. 0. 1. 0. 1. 0. 0. 0. 0. 0. 0. 0. 0. 1. 0. 0. 0. 0. 0.\n",
      " 0. 1. 0. 0. 1. 0. 0. 0. 0. 0. 0. 0. 0. 0. 0. 0. 0. 0. 0. 0. 0. 0. 1. 1.\n",
      " 0. 0. 0. 0. 0. 0. 0. 0. 0. 1. 1. 0. 1. 0. 0. 0. 0. 0. 0. 0. 0. 0. 0. 0.\n",
      " 0. 0. 0. 0. 0. 1. 0. 0. 0. 0. 0. 0. 0. 0. 1. 0. 0. 1. 0. 0. 0. 0. 0. 1.\n",
      " 0. 0. 0. 0. 0. 0. 0. 0. 0. 0. 1. 0. 0. 0. 0. 0. 0. 0. 0. 1. 0. 0. 0. 0.\n",
      " 0. 0. 0. 0. 0. 0. 0. 0. 0. 0. 0. 0. 0. 0. 0. 1. 0. 0. 0. 0. 0. 0. 0. 0.\n",
      " 0. 0. 0. 1. 0. 0. 0. 0. 0. 0. 1. 0. 0. 0. 0. 0. 1. 0. 1. 1. 0. 1. 0. 0.\n",
      " 0. 1. 0. 0. 0. 0. 0.]\n"
     ]
    }
   ],
   "source": [
    "ypred_m1 = m1.predict(x_test)\n",
    "print(ypred_m1)"
   ]
  },
  {
   "cell_type": "code",
   "execution_count": 43,
   "id": "23f68a76",
   "metadata": {},
   "outputs": [
    {
     "name": "stdout",
     "output_type": "stream",
     "text": [
      "[[122   7]\n",
      " [ 29  17]]\n",
      "              precision    recall  f1-score   support\n",
      "\n",
      "         0.0       0.81      0.95      0.87       129\n",
      "         1.0       0.71      0.37      0.49        46\n",
      "\n",
      "    accuracy                           0.79       175\n",
      "   macro avg       0.76      0.66      0.68       175\n",
      "weighted avg       0.78      0.79      0.77       175\n",
      "\n"
     ]
    }
   ],
   "source": [
    "cm_m1 = confusion_matrix(y_test,ypred_m1)\n",
    "print(cm_m1)\n",
    "print(classification_report(y_test,ypred_m1))"
   ]
  },
  {
   "cell_type": "code",
   "execution_count": null,
   "id": "97bde11b",
   "metadata": {},
   "outputs": [],
   "source": [
    "# 0 - Non deafulters\n",
    "# 1 - Defaulters\n",
    "# cm = [TP=122 FN=7]\n",
    "#      [FP=29 TN=17]\n",
    "# Pre = TP/(TP+FP) = 122/(122+29)\n",
    "# Rec = TP/(TP+FN) = 122/(122+7)\n",
    "# TP + FP = sum of all predicted positive cases \n",
    "# TP + FN = Sum of all actual positive cases\n",
    "\n",
    "# Pre = TN/(TN+FN) = 17/(17+7)\n",
    "# Rec = TN/(TN+FP) = 17/(17+29)\n",
    "# TN + FN = sum of all predicted negative cases \n",
    "# TN + FP = Sum of all actual negative cases"
   ]
  },
  {
   "cell_type": "code",
   "execution_count": 48,
   "id": "79ca6d26",
   "metadata": {},
   "outputs": [
    {
     "name": "stdout",
     "output_type": "stream",
     "text": [
      "0.8079470198675497\n",
      "0.7083333333333334\n",
      "0.9457364341085271\n",
      "0.3695652173913043\n"
     ]
    }
   ],
   "source": [
    "print(122/(122+29))  # pre0\n",
    "print(17/(7+17))     # pre1\n",
    "\n",
    "print(122/(122+7))   # rec0\n",
    "print(17/(17+29))    # rec1\n"
   ]
  },
  {
   "cell_type": "code",
   "execution_count": 58,
   "id": "acb98835",
   "metadata": {},
   "outputs": [
    {
     "data": {
      "text/html": [
       "<div>\n",
       "<style scoped>\n",
       "    .dataframe tbody tr th:only-of-type {\n",
       "        vertical-align: middle;\n",
       "    }\n",
       "\n",
       "    .dataframe tbody tr th {\n",
       "        vertical-align: top;\n",
       "    }\n",
       "\n",
       "    .dataframe thead th {\n",
       "        text-align: right;\n",
       "    }\n",
       "</style>\n",
       "<table border=\"1\" class=\"dataframe\">\n",
       "  <thead>\n",
       "    <tr style=\"text-align: right;\">\n",
       "      <th></th>\n",
       "      <th>age</th>\n",
       "      <th>ed</th>\n",
       "      <th>employ</th>\n",
       "      <th>address</th>\n",
       "      <th>income</th>\n",
       "      <th>debtinc</th>\n",
       "      <th>creddebt</th>\n",
       "      <th>othedebt</th>\n",
       "    </tr>\n",
       "  </thead>\n",
       "  <tbody>\n",
       "    <tr>\n",
       "      <th>0</th>\n",
       "      <td>32</td>\n",
       "      <td>4</td>\n",
       "      <td>7</td>\n",
       "      <td>6.0</td>\n",
       "      <td>73</td>\n",
       "      <td>1.40</td>\n",
       "      <td>3.00</td>\n",
       "      <td>2.34</td>\n",
       "    </tr>\n",
       "    <tr>\n",
       "      <th>1</th>\n",
       "      <td>45</td>\n",
       "      <td>4</td>\n",
       "      <td>15</td>\n",
       "      <td>15.0</td>\n",
       "      <td>120</td>\n",
       "      <td>4.78</td>\n",
       "      <td>4.67</td>\n",
       "      <td>5.78</td>\n",
       "    </tr>\n",
       "    <tr>\n",
       "      <th>2</th>\n",
       "      <td>32</td>\n",
       "      <td>4</td>\n",
       "      <td>7</td>\n",
       "      <td>6.0</td>\n",
       "      <td>73</td>\n",
       "      <td>10.34</td>\n",
       "      <td>3.00</td>\n",
       "      <td>2.34</td>\n",
       "    </tr>\n",
       "    <tr>\n",
       "      <th>3</th>\n",
       "      <td>24</td>\n",
       "      <td>3</td>\n",
       "      <td>2</td>\n",
       "      <td>2.5</td>\n",
       "      <td>25</td>\n",
       "      <td>32.00</td>\n",
       "      <td>8.00</td>\n",
       "      <td>0.00</td>\n",
       "    </tr>\n",
       "    <tr>\n",
       "      <th>4</th>\n",
       "      <td>32</td>\n",
       "      <td>1</td>\n",
       "      <td>7</td>\n",
       "      <td>5.0</td>\n",
       "      <td>105</td>\n",
       "      <td>12.00</td>\n",
       "      <td>9.00</td>\n",
       "      <td>3.00</td>\n",
       "    </tr>\n",
       "  </tbody>\n",
       "</table>\n",
       "</div>"
      ],
      "text/plain": [
       "   age  ed  employ  address  income  debtinc  creddebt  othedebt\n",
       "0   32   4       7      6.0      73     1.40      3.00      2.34\n",
       "1   45   4      15     15.0     120     4.78      4.67      5.78\n",
       "2   32   4       7      6.0      73    10.34      3.00      2.34\n",
       "3   24   3       2      2.5      25    32.00      8.00      0.00\n",
       "4   32   1       7      5.0     105    12.00      9.00      3.00"
      ]
     },
     "execution_count": 58,
     "metadata": {},
     "output_type": "execute_result"
    }
   ],
   "source": [
    "test = pd.read_csv('bankdata_test.csv')\n",
    "test.head()"
   ]
  },
  {
   "cell_type": "code",
   "execution_count": 59,
   "id": "72977b31",
   "metadata": {},
   "outputs": [
    {
     "data": {
      "text/plain": [
       "(5, 8)"
      ]
     },
     "execution_count": 59,
     "metadata": {},
     "output_type": "execute_result"
    }
   ],
   "source": [
    "test.shape"
   ]
  },
  {
   "cell_type": "code",
   "execution_count": 60,
   "id": "6476a0d1",
   "metadata": {},
   "outputs": [
    {
     "name": "stdout",
     "output_type": "stream",
     "text": [
      "[0. 0. 0. 1. 1.]\n"
     ]
    }
   ],
   "source": [
    "ypred_test  = m1.predict(test)\n",
    "print(ypred_test)"
   ]
  },
  {
   "cell_type": "code",
   "execution_count": 62,
   "id": "68d9b48e",
   "metadata": {},
   "outputs": [
    {
     "data": {
      "text/plain": [
       "array([[0.76970119, 0.23029881],\n",
       "       [0.92237551, 0.07762449],\n",
       "       [0.59981062, 0.40018938],\n",
       "       [0.00335276, 0.99664724],\n",
       "       [0.05879463, 0.94120537]])"
      ]
     },
     "execution_count": 62,
     "metadata": {},
     "output_type": "execute_result"
    }
   ],
   "source": [
    "m1.predict_proba(test)"
   ]
  },
  {
   "cell_type": "markdown",
   "id": "f0584cfb",
   "metadata": {},
   "source": [
    "#### Training ML model on entire data"
   ]
  },
  {
   "cell_type": "code",
   "execution_count": 64,
   "id": "3cb4af56",
   "metadata": {},
   "outputs": [
    {
     "data": {
      "text/plain": [
       "LogisticRegression(max_iter=1000)"
      ]
     },
     "execution_count": 64,
     "metadata": {},
     "output_type": "execute_result"
    }
   ],
   "source": [
    "m3 = LogisticRegression(max_iter=1000)\n",
    "m3.fit(x,y)"
   ]
  },
  {
   "cell_type": "code",
   "execution_count": 65,
   "id": "315dd188",
   "metadata": {},
   "outputs": [
    {
     "name": "stdout",
     "output_type": "stream",
     "text": [
      "[0. 0. 0. 1. 1.]\n"
     ]
    }
   ],
   "source": [
    "ypred_test2  = m3.predict(test)\n",
    "print(ypred_test2)"
   ]
  },
  {
   "cell_type": "code",
   "execution_count": null,
   "id": "480fd030",
   "metadata": {},
   "outputs": [],
   "source": []
  },
  {
   "cell_type": "markdown",
   "id": "d6f0eb2f",
   "metadata": {},
   "source": [
    "#### AUC_ROC curve"
   ]
  },
  {
   "cell_type": "code",
   "execution_count": null,
   "id": "b7843190",
   "metadata": {},
   "outputs": [],
   "source": []
  },
  {
   "cell_type": "code",
   "execution_count": null,
   "id": "3b9e309f",
   "metadata": {},
   "outputs": [],
   "source": []
  },
  {
   "cell_type": "code",
   "execution_count": null,
   "id": "2afff3aa",
   "metadata": {},
   "outputs": [],
   "source": []
  },
  {
   "cell_type": "markdown",
   "id": "eb262c85",
   "metadata": {},
   "source": [
    "### SGDClassifier"
   ]
  },
  {
   "cell_type": "code",
   "execution_count": 49,
   "id": "d9c5669a",
   "metadata": {},
   "outputs": [],
   "source": [
    "from sklearn.linear_model import SGDClassifier"
   ]
  },
  {
   "cell_type": "code",
   "execution_count": 50,
   "id": "2e01c61d",
   "metadata": {},
   "outputs": [
    {
     "data": {
      "text/plain": [
       "SGDClassifier(eta0=0.001, loss='log', max_iter=250)"
      ]
     },
     "execution_count": 50,
     "metadata": {},
     "output_type": "execute_result"
    }
   ],
   "source": [
    "m2 = SGDClassifier(max_iter=250,eta0=0.001,loss='log')\n",
    "m2.fit(x_train,y_train)"
   ]
  },
  {
   "cell_type": "code",
   "execution_count": 52,
   "id": "9adee849",
   "metadata": {},
   "outputs": [
    {
     "name": "stdout",
     "output_type": "stream",
     "text": [
      "Training score 0.819047619047619\n",
      "Testing score 0.8057142857142857\n"
     ]
    }
   ],
   "source": [
    "print('Training score',m2.score(x_train,y_train))\n",
    "print('Testing score',m2.score(x_test,y_test))"
   ]
  },
  {
   "cell_type": "code",
   "execution_count": 54,
   "id": "bb2588ff",
   "metadata": {},
   "outputs": [
    {
     "name": "stdout",
     "output_type": "stream",
     "text": [
      "[0. 0. 0. 0. 0. 0. 0. 1. 0. 0. 0. 0. 0. 0. 0. 0. 0. 0. 1. 0. 0. 0. 0. 0.\n",
      " 0. 1. 0. 0. 0. 0. 0. 0. 0. 0. 0. 0. 0. 0. 0. 0. 0. 0. 0. 0. 0. 0. 1. 1.\n",
      " 0. 0. 0. 0. 0. 0. 0. 0. 0. 1. 1. 0. 1. 0. 0. 0. 0. 0. 0. 0. 0. 0. 0. 0.\n",
      " 0. 0. 0. 0. 0. 0. 0. 0. 0. 0. 0. 0. 0. 0. 1. 0. 0. 1. 0. 1. 0. 0. 0. 0.\n",
      " 0. 0. 0. 0. 0. 0. 0. 0. 0. 0. 0. 0. 0. 0. 0. 0. 0. 0. 0. 0. 0. 0. 0. 0.\n",
      " 0. 0. 0. 0. 0. 0. 0. 0. 0. 0. 0. 0. 0. 0. 0. 1. 0. 0. 0. 0. 0. 0. 0. 0.\n",
      " 0. 0. 0. 1. 0. 0. 0. 0. 0. 0. 0. 0. 0. 0. 0. 0. 1. 0. 0. 0. 0. 1. 0. 0.\n",
      " 0. 1. 0. 0. 0. 0. 0.]\n"
     ]
    }
   ],
   "source": [
    "ypred_m2 = m2.predict(x_test)\n",
    "print(ypred_m2)"
   ]
  },
  {
   "cell_type": "code",
   "execution_count": 55,
   "id": "1c4d9c22",
   "metadata": {},
   "outputs": [
    {
     "name": "stdout",
     "output_type": "stream",
     "text": [
      "[[127   2]\n",
      " [ 32  14]]\n",
      "              precision    recall  f1-score   support\n",
      "\n",
      "         0.0       0.80      0.98      0.88       129\n",
      "         1.0       0.88      0.30      0.45        46\n",
      "\n",
      "    accuracy                           0.81       175\n",
      "   macro avg       0.84      0.64      0.67       175\n",
      "weighted avg       0.82      0.81      0.77       175\n",
      "\n"
     ]
    }
   ],
   "source": [
    "cm_m2 = confusion_matrix(y_test,ypred_m2)\n",
    "print(cm_m2)\n",
    "print(classification_report(y_test,ypred_m2))"
   ]
  },
  {
   "cell_type": "code",
   "execution_count": null,
   "id": "a7e46b24",
   "metadata": {},
   "outputs": [],
   "source": []
  }
 ],
 "metadata": {
  "kernelspec": {
   "display_name": "Python 3",
   "language": "python",
   "name": "python3"
  },
  "language_info": {
   "codemirror_mode": {
    "name": "ipython",
    "version": 3
   },
   "file_extension": ".py",
   "mimetype": "text/x-python",
   "name": "python",
   "nbconvert_exporter": "python",
   "pygments_lexer": "ipython3",
   "version": "3.8.8"
  }
 },
 "nbformat": 4,
 "nbformat_minor": 5
}
