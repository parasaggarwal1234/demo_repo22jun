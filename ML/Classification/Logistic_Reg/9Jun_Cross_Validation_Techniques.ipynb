{
 "cells": [
  {
   "cell_type": "markdown",
   "id": "bd5d5d4f",
   "metadata": {},
   "source": [
    "### Cross Validation\n",
    "\n",
    "Cross-Validation is a resampling technique with the fundamental idea of splitting the dataset into 2 parts- training data and test data. Train data is used to train the model and the unseen test data is used for prediction. If the model performs well over the test data and gives good accuracy, it means the model hasn’t overfitted the training data and can be used for prediction."
   ]
  },
  {
   "cell_type": "markdown",
   "id": "8308402b",
   "metadata": {},
   "source": [
    "#### Types of Cross Validation"
   ]
  },
  {
   "cell_type": "markdown",
   "id": "d8cffb59",
   "metadata": {},
   "source": [
    "### 1) KFold CV\n",
    "\n",
    "In this resampling technique, the whole data is divided into k sets of almost equal sizes. The first set is selected as the test set and the model is trained on the remaining k-1 sets. The test error rate is then calculated after fitting the model to the test data.\n",
    "\n",
    "In the second iteration, the 2nd set is selected as a test set and the remaining k-1 sets are used to train the data and the error is calculated. This process continues for all the k sets.\n",
    "\n",
    "<img src=  \"kfold_cv.png\" height=\"350\" width=\"400\">"
   ]
  },
  {
   "cell_type": "code",
   "execution_count": 16,
   "id": "12bab2cf",
   "metadata": {},
   "outputs": [],
   "source": [
    "from sklearn.model_selection import cross_val_score, KFold\n",
    "import numpy as np\n",
    "import pandas as pd"
   ]
  },
  {
   "cell_type": "code",
   "execution_count": 6,
   "id": "9b99df4c",
   "metadata": {},
   "outputs": [
    {
     "name": "stdout",
     "output_type": "stream",
     "text": [
      "Train data [4 5 6 7 8 9] Test data [0 1 2 3]\n",
      "Train data [0 1 2 3 7 8 9] Test data [4 5 6]\n",
      "Train data [0 1 2 3 4 5 6] Test data [7 8 9]\n"
     ]
    }
   ],
   "source": [
    "X = np.array([10,20,30,40,50,60,70,80,90,100])\n",
    "\n",
    "kf1 = KFold(n_splits=3)  # k = 3 = no of iterations\n",
    "for train, test in kf1.split(X):\n",
    "    print(\"Train data\",train,\"Test data\",test)"
   ]
  },
  {
   "cell_type": "code",
   "execution_count": 7,
   "id": "e87a4d73",
   "metadata": {},
   "outputs": [
    {
     "name": "stdout",
     "output_type": "stream",
     "text": [
      "Train data [2 3 4 5 6 7 8 9] Test data [0 1]\n",
      "Train data [0 1 4 5 6 7 8 9] Test data [2 3]\n",
      "Train data [0 1 2 3 6 7 8 9] Test data [4 5]\n",
      "Train data [0 1 2 3 4 5 8 9] Test data [6 7]\n",
      "Train data [0 1 2 3 4 5 6 7] Test data [8 9]\n"
     ]
    }
   ],
   "source": [
    "kf1 = KFold(n_splits=5)\n",
    "for train, test in kf1.split(X):\n",
    "    print(\"Train data\",train,\"Test data\",test)"
   ]
  },
  {
   "cell_type": "code",
   "execution_count": 10,
   "id": "6d0b17e6",
   "metadata": {},
   "outputs": [
    {
     "name": "stdout",
     "output_type": "stream",
     "text": [
      "Train data [2 3 4 5 6 7 8 9] Test data [0 1]\n",
      "Train data [0 1 4 5 6 7 8 9] Test data [2 3]\n",
      "Train data [0 1 2 3 6 7 8 9] Test data [4 5]\n",
      "Train data [0 1 2 3 4 5 7 8 9] Test data [6]\n",
      "Train data [0 1 2 3 4 5 6 8 9] Test data [7]\n",
      "Train data [0 1 2 3 4 5 6 7 9] Test data [8]\n",
      "Train data [0 1 2 3 4 5 6 7 8] Test data [9]\n"
     ]
    }
   ],
   "source": [
    "kf1 = KFold(n_splits=7)\n",
    "for train, test in kf1.split(X):\n",
    "    print(\"Train data\",train,\"Test data\",test)"
   ]
  },
  {
   "cell_type": "code",
   "execution_count": 13,
   "id": "4265dcbd",
   "metadata": {},
   "outputs": [
    {
     "name": "stdout",
     "output_type": "stream",
     "text": [
      "Train data [0 2 3 4 5 7 9] Test data [1 6 8]\n",
      "Train data [0 1 2 6 7 8 9] Test data [3 4 5]\n",
      "Train data [0 1 3 4 5 6 7 8] Test data [2 9]\n",
      "Train data [1 2 3 4 5 6 8 9] Test data [0 7]\n"
     ]
    }
   ],
   "source": [
    "kf1 = KFold(n_splits=4,shuffle=True)\n",
    "for train, test in kf1.split(X):\n",
    "    print(\"Train data\",train,\"Test data\",test)"
   ]
  },
  {
   "cell_type": "code",
   "execution_count": 14,
   "id": "7d523b21",
   "metadata": {},
   "outputs": [],
   "source": [
    "from sklearn.linear_model import LogisticRegression"
   ]
  },
  {
   "cell_type": "code",
   "execution_count": 15,
   "id": "b0e5ca69",
   "metadata": {},
   "outputs": [
    {
     "name": "stdout",
     "output_type": "stream",
     "text": [
      "(27, 2)\n",
      "Index(['age', 'bought_insurance'], dtype='object')\n"
     ]
    }
   ],
   "source": [
    "df1  = pd.read_excel('insurance_data.xlsx')\n",
    "print(df1.shape)\n",
    "print(df1.columns)"
   ]
  },
  {
   "cell_type": "code",
   "execution_count": 17,
   "id": "1a11d827",
   "metadata": {},
   "outputs": [
    {
     "name": "stdout",
     "output_type": "stream",
     "text": [
      "[0.75 0.75 1.   1.   0.75 0.75 1.  ]\n",
      "0.8571428571428571\n"
     ]
    }
   ],
   "source": [
    "x = df1[['age']]\n",
    "y = df1['bought_insurance']\n",
    "kf = KFold(n_splits=7)\n",
    "m1 = LogisticRegression()\n",
    "scores = cross_val_score(m1, x, y, scoring='accuracy',cv=kf)\n",
    "print(scores)\n",
    "print(scores.mean())"
   ]
  },
  {
   "cell_type": "markdown",
   "id": "4651f41e",
   "metadata": {},
   "source": [
    "#### Score Metrics\n",
    "https://scikit-learn.org/stable/modules/model_evaluation.html"
   ]
  },
  {
   "cell_type": "markdown",
   "id": "5d034dd0",
   "metadata": {},
   "source": [
    "### 2) Stratified Kfold\n",
    "\n",
    "Suppose your data contains reviews for a cosmetic product used by both the male and female population. When we perform random sampling to split the data into train and test sets, there is a possibility that most of the data representing males is not represented in training data but might end up in test data. When we train the model on sample training data that is not a correct representation of the actual population, the model will not predict the test data with good accuracy.\n",
    "\n",
    "This is where Stratified Sampling comes to the rescue. Here the data is split in such a way that it represents all the classes from the population.\n",
    "\n",
    "Let’s consider the above example which has a cosmetic product review of 1000 customers out of which 60% is female and 40% is male. I want to split the data into train and test data in proportion (80:20). 80% of 1000 customers will be 800 which will be chosen in such a way that there are 480 reviews associated with the female population and 320 representing the male population. In a similar fashion, 20% of 1000 customers will be chosen for the test data ( with the same female and male representation).\n",
    "<img src=\"startified_kf_cv.png\" height=\"350\" width=\"400\">"
   ]
  },
  {
   "cell_type": "code",
   "execution_count": 18,
   "id": "9eea457d",
   "metadata": {},
   "outputs": [],
   "source": [
    "from sklearn.model_selection import StratifiedKFold, cross_val_score"
   ]
  },
  {
   "cell_type": "code",
   "execution_count": 26,
   "id": "d43fea72",
   "metadata": {},
   "outputs": [
    {
     "name": "stdout",
     "output_type": "stream",
     "text": [
      "(12,)\n",
      "(12,)\n"
     ]
    }
   ],
   "source": [
    "x = np.array([5,10,15,20,25,30,35,40,45,50,60,70])\n",
    "y = np.array([1, 0, 0, 1, 1, 0, 0, 1, 0, 1, 0, 1])\n",
    "print(x.shape)\n",
    "print(y.shape)\n",
    "\n",
    "# 1 - [5,20,25,50,70,40]\n",
    "# 0 - [10,15,30,35,45,60]"
   ]
  },
  {
   "cell_type": "code",
   "execution_count": 28,
   "id": "93a0dadc",
   "metadata": {},
   "outputs": [
    {
     "name": "stdout",
     "output_type": "stream",
     "text": [
      "Train [35 40 45 50 60 70] Test [ 5 10 15 20 25 30]\n",
      "Train [ 5 10 15 20 25 30] Test [35 40 45 50 60 70]\n"
     ]
    }
   ],
   "source": [
    "skf = StratifiedKFold(n_splits=2,shuffle=False)\n",
    "for train,test in skf.split(x,y):\n",
    "    print('Train',x[train],'Test',x[test])\n",
    "    \n",
    "# 1 - [5,20,25,50,70,40]\n",
    "# 0 - [10,15,30,35,45,60]\n",
    "# Case1 - Train[35(0) 40(1) 45(0) 50(1) 60(0) 70(1)]\n",
    "# Case2 - "
   ]
  },
  {
   "cell_type": "code",
   "execution_count": 29,
   "id": "a4924ec9",
   "metadata": {},
   "outputs": [
    {
     "name": "stdout",
     "output_type": "stream",
     "text": [
      "Train [10 35 40 50 60 70] Test [ 5 15 20 25 30 45]\n",
      "Train [ 5 15 20 25 30 45] Test [10 35 40 50 60 70]\n"
     ]
    }
   ],
   "source": [
    "skf = StratifiedKFold(n_splits=2,shuffle=True)\n",
    "for train,test in skf.split(x,y):\n",
    "    print('Train',x[train],'Test',x[test])\n",
    "# 1 - [5,20,25,50,70,40]\n",
    "# 0 - [10,15,30,35,45,60]\n",
    "# Case1 - [10(0) 35(0) 40(1) 50(1) 60(0) 70(1)]"
   ]
  },
  {
   "cell_type": "markdown",
   "id": "d80263da",
   "metadata": {},
   "source": [
    "### 3) LOOCV (Leave One Our Cross Validation)\n",
    "a) Instead of dividing the data into 2 subsets, we select a single observation as test data, and everything else is labeled as training data and the model is trained. Now the 2nd observation is selected as test data and the model is trained on the remaining data.\n"
   ]
  },
  {
   "cell_type": "code",
   "execution_count": 21,
   "id": "4ba7b299",
   "metadata": {},
   "outputs": [],
   "source": [
    "from sklearn.model_selection import LeaveOneOut"
   ]
  },
  {
   "cell_type": "code",
   "execution_count": 23,
   "id": "643f0cbd",
   "metadata": {},
   "outputs": [
    {
     "name": "stdout",
     "output_type": "stream",
     "text": [
      "Train [10 15 20 25 30 35 40 45 50] Test [5]\n",
      "Train [ 5 15 20 25 30 35 40 45 50] Test [10]\n",
      "Train [ 5 10 20 25 30 35 40 45 50] Test [15]\n",
      "Train [ 5 10 15 25 30 35 40 45 50] Test [20]\n",
      "Train [ 5 10 15 20 30 35 40 45 50] Test [25]\n",
      "Train [ 5 10 15 20 25 35 40 45 50] Test [30]\n",
      "Train [ 5 10 15 20 25 30 40 45 50] Test [35]\n",
      "Train [ 5 10 15 20 25 30 35 45 50] Test [40]\n",
      "Train [ 5 10 15 20 25 30 35 40 50] Test [45]\n",
      "Train [ 5 10 15 20 25 30 35 40 45] Test [50]\n"
     ]
    }
   ],
   "source": [
    "n = np.array([5,10,15,20,25,30,35,40,45,50])\n",
    "loo = LeaveOneOut()\n",
    "for train,test in loo.split(n):\n",
    "    print('Train',n[train],'Test',n[test])"
   ]
  },
  {
   "cell_type": "code",
   "execution_count": null,
   "id": "efb535d8",
   "metadata": {},
   "outputs": [],
   "source": []
  }
 ],
 "metadata": {
  "kernelspec": {
   "display_name": "Python 3",
   "language": "python",
   "name": "python3"
  },
  "language_info": {
   "codemirror_mode": {
    "name": "ipython",
    "version": 3
   },
   "file_extension": ".py",
   "mimetype": "text/x-python",
   "name": "python",
   "nbconvert_exporter": "python",
   "pygments_lexer": "ipython3",
   "version": "3.8.8"
  }
 },
 "nbformat": 4,
 "nbformat_minor": 5
}
