{
 "cells": [
  {
   "cell_type": "markdown",
   "id": "45428769",
   "metadata": {},
   "source": [
    "### Likelihood\n",
    "1) The term likelihood can be defined as the possibility that the parameters under consideration may generate the data.\n",
    "\n",
    "<b>Likelihood = Y * P(Y=1) + (1-Y) * P(Y=0)</b>\n",
    "\n",
    "2) The objective is to maximize this likelihood.\n",
    "This is called as Maximum liklihood Estimation (MLE)\n",
    " \n",
    "3) <b>Log_likelihood =  -[Y * log(P(Y=1)) + (1-Y) * log(P(Y=0))] </b><br>\n",
    "Log likelihhod needs to be minimised. <br>\n",
    "This equation is referred to as Cost function for Logistic_Regression.\n",
    "\n",
    "4) Maximising the likelihood is equivalent to minimising of log likelihood.\n",
    "\n",
    "5) Negative liklihood is also known as <b>Binary CrossEntropy</b>. This is used in ANN(Artifical Neural Network) in binary classification"
   ]
  },
  {
   "cell_type": "markdown",
   "id": "489029ab",
   "metadata": {},
   "source": [
    "#### Mathematical Equations\n",
    "\n",
    "<img src=\"log_reg3.png\" align=\"left\">\n",
    "<img src=\"log_reg4.png\" align=\"left\">"
   ]
  },
  {
   "cell_type": "markdown",
   "id": "1d710675",
   "metadata": {},
   "source": [
    "Likelihood = Y * P(Y=1) + (1-Y) * P(Y=0)\n",
    "\n",
    "Log_likelihood =  -[Y * log(P(Y=1)) + (1-Y) * log(P(Y=0))]"
   ]
  },
  {
   "cell_type": "markdown",
   "id": "4d806fc2",
   "metadata": {},
   "source": [
    "<img src=\"log_reg6.png\" align=\"left\">"
   ]
  },
  {
   "cell_type": "markdown",
   "id": "17dee03f",
   "metadata": {},
   "source": [
    "Log_likelihood =  -[Y * log(P(Y=1)) + (1-Y) * log(P(Y=0))]\n",
    "\n",
    "<img src=\"log_reg7.png\" align=\"left\">\n",
    "\n",
    "\n"
   ]
  },
  {
   "cell_type": "markdown",
   "id": "94aee169",
   "metadata": {},
   "source": [
    "<img src=\"log_reg9.png\" align=\"left\">\n",
    "<img src=\"log_reg10.png\" align=\"left\">"
   ]
  },
  {
   "cell_type": "code",
   "execution_count": 2,
   "id": "0e745573",
   "metadata": {},
   "outputs": [],
   "source": [
    "import pandas as pd\n",
    "import numpy as np\n",
    "import matplotlib.pyplot as plt"
   ]
  },
  {
   "cell_type": "code",
   "execution_count": 24,
   "id": "4c52c8bf",
   "metadata": {},
   "outputs": [
    {
     "data": {
      "text/html": [
       "<div>\n",
       "<style scoped>\n",
       "    .dataframe tbody tr th:only-of-type {\n",
       "        vertical-align: middle;\n",
       "    }\n",
       "\n",
       "    .dataframe tbody tr th {\n",
       "        vertical-align: top;\n",
       "    }\n",
       "\n",
       "    .dataframe thead th {\n",
       "        text-align: right;\n",
       "    }\n",
       "</style>\n",
       "<table border=\"1\" class=\"dataframe\">\n",
       "  <thead>\n",
       "    <tr style=\"text-align: right;\">\n",
       "      <th></th>\n",
       "      <th>y_true</th>\n",
       "      <th>P1</th>\n",
       "    </tr>\n",
       "  </thead>\n",
       "  <tbody>\n",
       "    <tr>\n",
       "      <th>0</th>\n",
       "      <td>0</td>\n",
       "      <td>0.3</td>\n",
       "    </tr>\n",
       "    <tr>\n",
       "      <th>1</th>\n",
       "      <td>0</td>\n",
       "      <td>0.4</td>\n",
       "    </tr>\n",
       "    <tr>\n",
       "      <th>2</th>\n",
       "      <td>1</td>\n",
       "      <td>0.7</td>\n",
       "    </tr>\n",
       "    <tr>\n",
       "      <th>3</th>\n",
       "      <td>0</td>\n",
       "      <td>0.6</td>\n",
       "    </tr>\n",
       "    <tr>\n",
       "      <th>4</th>\n",
       "      <td>1</td>\n",
       "      <td>0.8</td>\n",
       "    </tr>\n",
       "  </tbody>\n",
       "</table>\n",
       "</div>"
      ],
      "text/plain": [
       "   y_true   P1\n",
       "0       0  0.3\n",
       "1       0  0.4\n",
       "2       1  0.7\n",
       "3       0  0.6\n",
       "4       1  0.8"
      ]
     },
     "execution_count": 24,
     "metadata": {},
     "output_type": "execute_result"
    }
   ],
   "source": [
    "# Actual\n",
    "data = {'y_true' : [0,   0,  1, 0,  1,  0,   1,  1,  0, 1],\n",
    "       'P1' :      [0.3,0.4,0.7,0.6,0.8,0.2,0.2,0.9,0.7,0.8]}\n",
    "df = pd.DataFrame(data)\n",
    "df.head()"
   ]
  },
  {
   "cell_type": "code",
   "execution_count": 25,
   "id": "08fb338f",
   "metadata": {},
   "outputs": [],
   "source": [
    "# Modified\n",
    "# data = {'y_true' : [0,0,1,0,1,0,1,1,0,1],\n",
    "#        'P1' : [0.3,0.4,0.7,0.1,0.8,0.7,0.2,0.9,0.7,0.8]}\n",
    "# df = pd.DataFrame(data)\n",
    "# df.head()"
   ]
  },
  {
   "cell_type": "code",
   "execution_count": 26,
   "id": "4f195ebc",
   "metadata": {},
   "outputs": [
    {
     "data": {
      "text/html": [
       "<div>\n",
       "<style scoped>\n",
       "    .dataframe tbody tr th:only-of-type {\n",
       "        vertical-align: middle;\n",
       "    }\n",
       "\n",
       "    .dataframe tbody tr th {\n",
       "        vertical-align: top;\n",
       "    }\n",
       "\n",
       "    .dataframe thead th {\n",
       "        text-align: right;\n",
       "    }\n",
       "</style>\n",
       "<table border=\"1\" class=\"dataframe\">\n",
       "  <thead>\n",
       "    <tr style=\"text-align: right;\">\n",
       "      <th></th>\n",
       "      <th>y_true</th>\n",
       "      <th>P0</th>\n",
       "      <th>P1</th>\n",
       "    </tr>\n",
       "  </thead>\n",
       "  <tbody>\n",
       "    <tr>\n",
       "      <th>0</th>\n",
       "      <td>0</td>\n",
       "      <td>0.7</td>\n",
       "      <td>0.3</td>\n",
       "    </tr>\n",
       "    <tr>\n",
       "      <th>1</th>\n",
       "      <td>0</td>\n",
       "      <td>0.6</td>\n",
       "      <td>0.4</td>\n",
       "    </tr>\n",
       "    <tr>\n",
       "      <th>2</th>\n",
       "      <td>1</td>\n",
       "      <td>0.3</td>\n",
       "      <td>0.7</td>\n",
       "    </tr>\n",
       "    <tr>\n",
       "      <th>3</th>\n",
       "      <td>0</td>\n",
       "      <td>0.4</td>\n",
       "      <td>0.6</td>\n",
       "    </tr>\n",
       "    <tr>\n",
       "      <th>4</th>\n",
       "      <td>1</td>\n",
       "      <td>0.2</td>\n",
       "      <td>0.8</td>\n",
       "    </tr>\n",
       "    <tr>\n",
       "      <th>5</th>\n",
       "      <td>0</td>\n",
       "      <td>0.8</td>\n",
       "      <td>0.2</td>\n",
       "    </tr>\n",
       "    <tr>\n",
       "      <th>6</th>\n",
       "      <td>1</td>\n",
       "      <td>0.8</td>\n",
       "      <td>0.2</td>\n",
       "    </tr>\n",
       "  </tbody>\n",
       "</table>\n",
       "</div>"
      ],
      "text/plain": [
       "   y_true   P0   P1\n",
       "0       0  0.7  0.3\n",
       "1       0  0.6  0.4\n",
       "2       1  0.3  0.7\n",
       "3       0  0.4  0.6\n",
       "4       1  0.2  0.8\n",
       "5       0  0.8  0.2\n",
       "6       1  0.8  0.2"
      ]
     },
     "execution_count": 26,
     "metadata": {},
     "output_type": "execute_result"
    }
   ],
   "source": [
    "df['P0'] = 1-df['P1']\n",
    "df = df[['y_true','P0','P1']]\n",
    "df.head(7)\n",
    "# 3,5,6"
   ]
  },
  {
   "cell_type": "code",
   "execution_count": 27,
   "id": "c2b311fd",
   "metadata": {},
   "outputs": [
    {
     "data": {
      "text/html": [
       "<div>\n",
       "<style scoped>\n",
       "    .dataframe tbody tr th:only-of-type {\n",
       "        vertical-align: middle;\n",
       "    }\n",
       "\n",
       "    .dataframe tbody tr th {\n",
       "        vertical-align: top;\n",
       "    }\n",
       "\n",
       "    .dataframe thead th {\n",
       "        text-align: right;\n",
       "    }\n",
       "</style>\n",
       "<table border=\"1\" class=\"dataframe\">\n",
       "  <thead>\n",
       "    <tr style=\"text-align: right;\">\n",
       "      <th></th>\n",
       "      <th>y_true</th>\n",
       "      <th>P0</th>\n",
       "      <th>P1</th>\n",
       "      <th>Likelihood</th>\n",
       "      <th>Neg_likelihood</th>\n",
       "      <th>Log_likelihood</th>\n",
       "    </tr>\n",
       "  </thead>\n",
       "  <tbody>\n",
       "    <tr>\n",
       "      <th>0</th>\n",
       "      <td>0</td>\n",
       "      <td>0.7</td>\n",
       "      <td>0.3</td>\n",
       "      <td>0.7</td>\n",
       "      <td>-0.7</td>\n",
       "      <td>0.356675</td>\n",
       "    </tr>\n",
       "    <tr>\n",
       "      <th>1</th>\n",
       "      <td>0</td>\n",
       "      <td>0.6</td>\n",
       "      <td>0.4</td>\n",
       "      <td>0.6</td>\n",
       "      <td>-0.6</td>\n",
       "      <td>0.510826</td>\n",
       "    </tr>\n",
       "    <tr>\n",
       "      <th>2</th>\n",
       "      <td>1</td>\n",
       "      <td>0.3</td>\n",
       "      <td>0.7</td>\n",
       "      <td>0.7</td>\n",
       "      <td>-0.7</td>\n",
       "      <td>0.356675</td>\n",
       "    </tr>\n",
       "    <tr>\n",
       "      <th>3</th>\n",
       "      <td>0</td>\n",
       "      <td>0.4</td>\n",
       "      <td>0.6</td>\n",
       "      <td>0.4</td>\n",
       "      <td>-0.4</td>\n",
       "      <td>0.916291</td>\n",
       "    </tr>\n",
       "    <tr>\n",
       "      <th>4</th>\n",
       "      <td>1</td>\n",
       "      <td>0.2</td>\n",
       "      <td>0.8</td>\n",
       "      <td>0.8</td>\n",
       "      <td>-0.8</td>\n",
       "      <td>0.223144</td>\n",
       "    </tr>\n",
       "  </tbody>\n",
       "</table>\n",
       "</div>"
      ],
      "text/plain": [
       "   y_true   P0   P1  Likelihood  Neg_likelihood  Log_likelihood\n",
       "0       0  0.7  0.3         0.7            -0.7        0.356675\n",
       "1       0  0.6  0.4         0.6            -0.6        0.510826\n",
       "2       1  0.3  0.7         0.7            -0.7        0.356675\n",
       "3       0  0.4  0.6         0.4            -0.4        0.916291\n",
       "4       1  0.2  0.8         0.8            -0.8        0.223144"
      ]
     },
     "execution_count": 27,
     "metadata": {},
     "output_type": "execute_result"
    }
   ],
   "source": [
    "df['Likelihood'] = df['y_true']*df['P1'] + (1-df['y_true'])*df['P0']\n",
    "df['Neg_likelihood'] = -1*df['Likelihood']\n",
    "# Log_likelihood = -[Y * log(P(Y=1)) + (1-Y) * log(P(Y=0))]\n",
    "df['Log_likelihood'] =  (-1)*df['y_true']*np.log(df['P1']) - (1-df['y_true'])*np.log(df['P0'])\n",
    "df.head()"
   ]
  },
  {
   "cell_type": "code",
   "execution_count": 28,
   "id": "b236bb46",
   "metadata": {},
   "outputs": [
    {
     "name": "stdout",
     "output_type": "stream",
     "text": [
      "likelihood sum 6.199999999999999\n",
      "nll_sum -6.199999999999999\n",
      "logll_sum 5.728668129878102\n"
     ]
    }
   ],
   "source": [
    "ll_sum = df['Likelihood'].sum()\n",
    "nll_sum = df['Neg_likelihood'].sum()\n",
    "logll_sum = df['Log_likelihood'].sum()\n",
    "print('likelihood sum',ll_sum)\n",
    "print('nll_sum',nll_sum)\n",
    "print('logll_sum',logll_sum)"
   ]
  },
  {
   "cell_type": "code",
   "execution_count": 13,
   "id": "9d2cd08f",
   "metadata": {},
   "outputs": [],
   "source": [
    "# likelihood sum 5.699999999999999\n",
    "# nll_sum -5.699999999999999\n",
    "# logll_sum 6.709497382889828"
   ]
  },
  {
   "cell_type": "markdown",
   "id": "fe22a11a",
   "metadata": {},
   "source": [
    "#### Probability vs Likelihood\n",
    "1) Probability is used to finding the chance of occurrence of a particular situation, whereas Likelihood is used to generally maximizing the chances of a particular situation to occur.\n",
    "\n",
    "2) The likelihood in very simple terms means to increase the chances of a particular situation to happen/occur by varying the characteristics of the dataset distribution"
   ]
  },
  {
   "cell_type": "markdown",
   "id": "a262fbbd",
   "metadata": {},
   "source": [
    "#### MLE (Maximum Likelihood Estimation)\n",
    "\n",
    "1) Maximum likelihood estimation involves defining a likelihood function for calculating the conditional probability of observing the data sample given a probability distribution and distribution parameters.\n",
    "\n",
    "2) The maximum likelihood estimator can readily be generalized to the case where our goal is to estimate a conditional probability P(y | x ; theta) in order to predict y given x."
   ]
  },
  {
   "cell_type": "markdown",
   "id": "323a9ba2",
   "metadata": {},
   "source": [
    "#### Simple Explanation to likelihhod and MLE :\n",
    "https://machinelearningmastery.com/what-is-maximum-likelihood-estimation-in-machine-learning/"
   ]
  },
  {
   "cell_type": "code",
   "execution_count": null,
   "id": "8b016d14",
   "metadata": {},
   "outputs": [],
   "source": []
  }
 ],
 "metadata": {
  "kernelspec": {
   "display_name": "Python 3",
   "language": "python",
   "name": "python3"
  },
  "language_info": {
   "codemirror_mode": {
    "name": "ipython",
    "version": 3
   },
   "file_extension": ".py",
   "mimetype": "text/x-python",
   "name": "python",
   "nbconvert_exporter": "python",
   "pygments_lexer": "ipython3",
   "version": "3.8.8"
  }
 },
 "nbformat": 4,
 "nbformat_minor": 5
}
