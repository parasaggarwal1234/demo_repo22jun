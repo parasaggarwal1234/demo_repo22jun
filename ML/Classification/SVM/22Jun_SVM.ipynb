{
 "cells": [
  {
   "cell_type": "markdown",
   "metadata": {},
   "source": [
    "### SVM\n",
    "1) A support vector machine (SVM) is a supervised machine learning algorithm.<br>\n",
    "2) A SVM takes in takes the data points (inputs) and outputs the hyperplane (which in two dimensions is simply a line) that best separates the data points.<br>\n",
    "3) The objective of the support vector machine algorithm is to find a hyperplane in an N-dimensional space(N — the number of independent features) that distinctly classifies the data points<br>\n",
    "4) It follows a technique called the <b>kernel trick</b> to transform the data and based on these transformations, it finds an optimal boundary between the possible outputs.<br>\n",
    "5) <b>SVM Objective</b> -The main idea is to identify the optimal separating hyperplane which maximizes the margin of the training data.<br>\n",
    "6) There can be multiple hyperplanes, but which one of them is the best separating hyperplane? It can be easily seen that line B is the one which best separates the two classes.\n",
    "\n",
    "<img src=\"svm1.png\" width=\"450\" height=\"400\">\n",
    "\n",
    "7) There can be multiple separating hyperplanes as well. How do we find the optimal one? Intuitively, if we select a hyperplane which is close to the data points of one class, then it might not generalize well. So the aim is to choose the hyperplane which is as far as possible from the data points of each category.\n",
    "Therefore, maximizing the distance between the nearest points of each class and the hyperplane would result in an optimal separating hyperplane. This distance is called the margin.\n",
    "The goal of SVMs is to find the optimal hyperplane because it not only classifies the existing dataset but also helps predict the class of the unseen data. And the optimal hyperplane is the one which has the biggest margin.<br>\n",
    "\n",
    "8)\tTo separate the two classes of data points, there are many possible hyperplanes that could be chosen. SVMs objective is to find a plane that has the maximum margin, i.e. the maximum distance between data points of both classes. \n",
    "\n",
    "<img src=\"svm2.png\">\n",
    "<img src=\"svm3.png\">"
   ]
  },
  {
   "cell_type": "markdown",
   "metadata": {},
   "source": [
    "### Terminologies\n",
    "\n",
    "1)<b> Hyperplane </b>- Hyperplanes are decision boundaries that help classify the data points. Data points falling on either side of the hyperplane can be attributed to different classes. Also, the dimension of the hyperplane depends upon the number of features. If the number of input features is 2, then the hyperplane is just a line. If the number of input features is 3, then the hyperplane becomes a two-dimensional plane. It becomes difficult to imagine when the number of features exceeds 3.<br>\n",
    "\n",
    "2)<b> Support Vectors </b>- Support vectors are data points that are closest to the hyperplane and influence the position and orientation of the hyperplane. Using these support vectors, the model maximizes the margin of the classifier. These are the points that help us build our SVM.\n",
    "\n",
    "3)<b> Margin </b>– It is the distance between support vectors and the hyperplane.\n",
    "\n",
    "<img src=\"svm4.png\">"
   ]
  },
  {
   "cell_type": "markdown",
   "metadata": {},
   "source": [
    "### Kernel Trick\n",
    "<img src = \"svm8.png\">\n",
    "\n",
    "<img src=\"svm6.png\">\n",
    "<img src=\"svm7.png\">"
   ]
  },
  {
   "cell_type": "markdown",
   "metadata": {},
   "source": [
    "### SVM Parameters\n",
    "\n",
    "<b>1)  C </b> The C parameter tells the SVM optimization how much you want to avoid misclassifying each training example. Small values of C attribues to more misclassification and larger values of C attribues to less misclassification.\n",
    "Commonly used C values are [0.0001,0.001,0.01,0.1,1,10,100]\n",
    "\n",
    "<b>2) kernel</b> - SVM follows a technique called the kernel trick to transform the data and based on these transformations, it finds an optimal boundary between the possible outputs. Different kernel options are linear, rbf, poly\n",
    "\n",
    "<b>3) degree</b> - Defines degree of polynomial for 'poly' kernel\n",
    "\n"
   ]
  },
  {
   "cell_type": "code",
   "execution_count": null,
   "metadata": {},
   "outputs": [],
   "source": []
  },
  {
   "cell_type": "code",
   "execution_count": null,
   "metadata": {},
   "outputs": [],
   "source": []
  },
  {
   "cell_type": "code",
   "execution_count": null,
   "metadata": {},
   "outputs": [],
   "source": []
  },
  {
   "cell_type": "code",
   "execution_count": null,
   "metadata": {},
   "outputs": [],
   "source": []
  }
 ],
 "metadata": {
  "kernelspec": {
   "display_name": "Python 3",
   "language": "python",
   "name": "python3"
  },
  "language_info": {
   "codemirror_mode": {
    "name": "ipython",
    "version": 3
   },
   "file_extension": ".py",
   "mimetype": "text/x-python",
   "name": "python",
   "nbconvert_exporter": "python",
   "pygments_lexer": "ipython3",
   "version": "3.8.8"
  }
 },
 "nbformat": 4,
 "nbformat_minor": 2
}
