{
 "cells": [
  {
   "cell_type": "code",
   "execution_count": 5,
   "id": "b6984d19",
   "metadata": {},
   "outputs": [],
   "source": [
    "import numpy as np\n",
    "import pandas as pd\n",
    "import matplotlib.pyplot as plt"
   ]
  },
  {
   "cell_type": "code",
   "execution_count": 63,
   "id": "842e2c76",
   "metadata": {},
   "outputs": [
    {
     "data": {
      "text/html": [
       "<div>\n",
       "<style scoped>\n",
       "    .dataframe tbody tr th:only-of-type {\n",
       "        vertical-align: middle;\n",
       "    }\n",
       "\n",
       "    .dataframe tbody tr th {\n",
       "        vertical-align: top;\n",
       "    }\n",
       "\n",
       "    .dataframe thead th {\n",
       "        text-align: right;\n",
       "    }\n",
       "</style>\n",
       "<table border=\"1\" class=\"dataframe\">\n",
       "  <thead>\n",
       "    <tr style=\"text-align: right;\">\n",
       "      <th></th>\n",
       "      <th>x</th>\n",
       "      <th>y</th>\n",
       "    </tr>\n",
       "  </thead>\n",
       "  <tbody>\n",
       "    <tr>\n",
       "      <th>0</th>\n",
       "      <td>1</td>\n",
       "      <td>2</td>\n",
       "    </tr>\n",
       "    <tr>\n",
       "      <th>1</th>\n",
       "      <td>2</td>\n",
       "      <td>18</td>\n",
       "    </tr>\n",
       "    <tr>\n",
       "      <th>2</th>\n",
       "      <td>3</td>\n",
       "      <td>15</td>\n",
       "    </tr>\n",
       "    <tr>\n",
       "      <th>3</th>\n",
       "      <td>4</td>\n",
       "      <td>26</td>\n",
       "    </tr>\n",
       "    <tr>\n",
       "      <th>4</th>\n",
       "      <td>5</td>\n",
       "      <td>29</td>\n",
       "    </tr>\n",
       "  </tbody>\n",
       "</table>\n",
       "</div>"
      ],
      "text/plain": [
       "   x   y\n",
       "0  1   2\n",
       "1  2  18\n",
       "2  3  15\n",
       "3  4  26\n",
       "4  5  29"
      ]
     },
     "execution_count": 63,
     "metadata": {},
     "output_type": "execute_result"
    }
   ],
   "source": [
    "d1 = {'x': [1, 2, 3,  4,  5, 6, 7, 8, 9],\n",
    "     'y':  [2, 18, 15, 26, 29, 25,48,51,46]}\n",
    "df = pd.DataFrame(d1)\n",
    "df.head()"
   ]
  },
  {
   "cell_type": "code",
   "execution_count": 58,
   "id": "39f3d04e",
   "metadata": {},
   "outputs": [
    {
     "data": {
      "image/png": "[encoded data removed]",
      "text/plain": [
       "<Figure size 432x288 with 1 Axes>"
      ]
     },
     "metadata": {
      "needs_background": "light"
     },
     "output_type": "display_data"
    }
   ],
   "source": [
    "plt.scatter(df['x'],df['y'])\n",
    "plt.xlabel('x')\n",
    "plt.ylabel('y')\n",
    "plt.show()"
   ]
  },
  {
   "cell_type": "code",
   "execution_count": 59,
   "id": "65516b42",
   "metadata": {},
   "outputs": [],
   "source": [
    "x  = df[['x']]\n",
    "y = df['y']"
   ]
  },
  {
   "cell_type": "code",
   "execution_count": 64,
   "id": "e14582aa",
   "metadata": {},
   "outputs": [],
   "source": [
    "from sklearn.preprocessing import PolynomialFeatures\n",
    "from sklearn.linear_model import LinearRegression"
   ]
  },
  {
   "cell_type": "code",
   "execution_count": 65,
   "id": "a0307a3f",
   "metadata": {},
   "outputs": [
    {
     "data": {
      "text/plain": [
       "LinearRegression()"
      ]
     },
     "execution_count": 65,
     "metadata": {},
     "output_type": "execute_result"
    }
   ],
   "source": [
    "m1 = LinearRegression()\n",
    "m1.fit(x,y)"
   ]
  },
  {
   "cell_type": "code",
   "execution_count": 66,
   "id": "0c6c122c",
   "metadata": {},
   "outputs": [
    {
     "name": "stdout",
     "output_type": "stream",
     "text": [
      "Model score 0.8738157629510179\n"
     ]
    }
   ],
   "source": [
    "print('Model score',m1.score(x,y))"
   ]
  },
  {
   "cell_type": "code",
   "execution_count": 67,
   "id": "f44da215",
   "metadata": {},
   "outputs": [
    {
     "name": "stdout",
     "output_type": "stream",
     "text": [
      "[[ 1.  1.  1.]\n",
      " [ 1.  2.  4.]\n",
      " [ 1.  3.  9.]\n",
      " [ 1.  4. 16.]\n",
      " [ 1.  5. 25.]\n",
      " [ 1.  6. 36.]\n",
      " [ 1.  7. 49.]\n",
      " [ 1.  8. 64.]\n",
      " [ 1.  9. 81.]]\n"
     ]
    }
   ],
   "source": [
    "poly = PolynomialFeatures(degree=2)\n",
    "x_poly = poly.fit_transform(x)\n",
    "print(x_poly)\n",
    "# x(a)  x_poly([1,a,a^2])"
   ]
  },
  {
   "cell_type": "code",
   "execution_count": 68,
   "id": "57d92773",
   "metadata": {},
   "outputs": [
    {
     "name": "stdout",
     "output_type": "stream",
     "text": [
      "Model.score 0.8763314895143155\n"
     ]
    }
   ],
   "source": [
    "m2 = LinearRegression()\n",
    "m2.fit(x_poly,y)\n",
    "print('Model.score',m2.score(x_poly,y))"
   ]
  },
  {
   "cell_type": "code",
   "execution_count": 73,
   "id": "ea963a0a",
   "metadata": {},
   "outputs": [],
   "source": [
    "def poly_fit(x,y,dg):\n",
    "    poly = PolynomialFeatures(degree=dg)\n",
    "    x_poly = poly.fit_transform(x)\n",
    "    print(f'Polynomial features at degree {dg} are')\n",
    "    m = LinearRegression()\n",
    "    m.fit(x_poly,y)\n",
    "    print('Poly model score at degree',dg,'is',m.score(x_poly,y))"
   ]
  },
  {
   "cell_type": "code",
   "execution_count": 76,
   "id": "37632985",
   "metadata": {},
   "outputs": [
    {
     "name": "stdout",
     "output_type": "stream",
     "text": [
      "Polynomial features at degree 1 are\n",
      "Poly model score at degree 1 is 0.8738157629510179\n",
      "Polynomial features at degree 2 are\n",
      "Poly model score at degree 2 is 0.8763314895143155\n",
      "Polynomial features at degree 3 are\n",
      "Poly model score at degree 3 is 0.8768926850210865\n",
      "Polynomial features at degree 4 are\n",
      "Poly model score at degree 4 is 0.9310636954257194\n",
      "Polynomial features at degree 5 are\n",
      "Poly model score at degree 5 is 0.9350331184638788\n",
      "Polynomial features at degree 6 are\n",
      "Poly model score at degree 6 is 0.9385551356524873\n"
     ]
    }
   ],
   "source": [
    "for i in range(1,7):\n",
    "    poly_fit(x,y,dg=i)"
   ]
  },
  {
   "cell_type": "code",
   "execution_count": 77,
   "id": "e18d9232",
   "metadata": {},
   "outputs": [],
   "source": [
    "def chk_poly_feat(x,y,dg):\n",
    "    poly = PolynomialFeatures(degree=dg)\n",
    "    x_poly = poly.fit_transform(x)\n",
    "    print(f'Polynomial features at degree {dg} are')\n",
    "    print(x_poly)"
   ]
  },
  {
   "cell_type": "code",
   "execution_count": 80,
   "id": "79e6f04f",
   "metadata": {},
   "outputs": [
    {
     "name": "stdout",
     "output_type": "stream",
     "text": [
      "Polynomial features at degree 3 are\n",
      "[[  1.   1.   1.   1.]\n",
      " [  1.   2.   4.   8.]\n",
      " [  1.   3.   9.  27.]\n",
      " [  1.   4.  16.  64.]\n",
      " [  1.   5.  25. 125.]\n",
      " [  1.   6.  36. 216.]\n",
      " [  1.   7.  49. 343.]\n",
      " [  1.   8.  64. 512.]\n",
      " [  1.   9.  81. 729.]]\n"
     ]
    }
   ],
   "source": [
    "chk_poly_feat(x,y,3)"
   ]
  },
  {
   "cell_type": "code",
   "execution_count": null,
   "id": "1bbfe486",
   "metadata": {},
   "outputs": [],
   "source": [
    "# No of Features     degree      Poly Features\n",
    "#  1[a]                 1         1,a\n",
    "#  1[a]                 2         1,a,a^2 \n",
    "#  1[a]                 3         1,a,a^2,a^3 \n",
    "#  1[a]                 4         1,a,a^2,a^3, a^4 "
   ]
  },
  {
   "cell_type": "code",
   "execution_count": 85,
   "id": "38fcd97a",
   "metadata": {},
   "outputs": [],
   "source": [
    "def poly_fit_pred_plot(x,y,dg):\n",
    "    poly = PolynomialFeatures(degree=dg)\n",
    "    x_poly = poly.fit_transform(x)\n",
    "    m = LinearRegression()\n",
    "    m.fit(x_poly,y)\n",
    "    ypred = m.predict(x_poly)\n",
    "    print(ypred)\n",
    "    print('Poly model score at degree',dg,'is',m.score(x_poly,y))\n",
    "    plt.scatter(df['x'],df['y'],label='actual data')\n",
    "    plt.plot(df['x'],ypred,color='maroon',label='Predicted line')\n",
    "    plt.xlabel('x')\n",
    "    plt.ylabel('y')\n",
    "    plt.legend()\n",
    "    plt.grid()\n",
    "    plt.show()"
   ]
  },
  {
   "cell_type": "code",
   "execution_count": 86,
   "id": "d98a9eb1",
   "metadata": {},
   "outputs": [
    {
     "name": "stdout",
     "output_type": "stream",
     "text": [
      "[ 6.22222222 11.88888889 17.55555556 23.22222222 28.88888889 34.55555556\n",
      " 40.22222222 45.88888889 51.55555556]\n",
      "Poly model score at degree 1 is 0.8738157629510179\n"
     ]
    },
    {
     "data": {
      "image/png": "[encoded data removed]",
      "text/plain": [
       "<Figure size 432x288 with 1 Axes>"
      ]
     },
     "metadata": {
      "needs_background": "light"
     },
     "output_type": "display_data"
    }
   ],
   "source": [
    "poly_fit_pred_plot(x,y,dg=1)"
   ]
  },
  {
   "cell_type": "code",
   "execution_count": 87,
   "id": "eb46fd5c",
   "metadata": {},
   "outputs": [
    {
     "name": "stdout",
     "output_type": "stream",
     "text": [
      "[ 4.96969697 11.57575758 17.91341991 23.98268398 29.78354978 35.31601732\n",
      " 40.58008658 45.57575758 50.3030303 ]\n",
      "Poly model score at degree 2 is 0.8763314895143155\n"
     ]
    },
    {
     "data": {
      "image/png": "[encoded data removed]",
      "text/plain": [
       "<Figure size 432x288 with 1 Axes>"
      ]
     },
     "metadata": {
      "needs_background": "light"
     },
     "output_type": "display_data"
    }
   ],
   "source": [
    "poly_fit_pred_plot(x,y,dg=2)"
   ]
  },
  {
   "cell_type": "code",
   "execution_count": 88,
   "id": "912073e1",
   "metadata": {},
   "outputs": [
    {
     "name": "stdout",
     "output_type": "stream",
     "text": [
      "[ 5.46464646 11.32828283 17.45382395 23.66450216 29.78354978 35.63419913\n",
      " 41.03968254 45.82323232 49.80808081]\n",
      "Poly model score at degree 3 is 0.8768926850210865\n"
     ]
    },
    {
     "data": {
      "image/png": "[encoded data removed]",
      "text/plain": [
       "<Figure size 432x288 with 1 Axes>"
      ]
     },
     "metadata": {
      "needs_background": "light"
     },
     "output_type": "display_data"
    }
   ],
   "source": [
    "poly_fit_pred_plot(x,y,dg=3)"
   ]
  },
  {
   "cell_type": "code",
   "execution_count": 89,
   "id": "500839e2",
   "metadata": {},
   "outputs": [
    {
     "name": "stdout",
     "output_type": "stream",
     "text": [
      "[ 2.04506605 16.45765346 20.14063714 21.46620047 25.38694639 33.43589744\n",
      " 43.72649573 50.95260295 46.38850039]\n",
      "Poly model score at degree 4 is 0.9310636954257194\n"
     ]
    },
    {
     "data": {
      "image/png": "[encoded data removed]",
      "text/plain": [
       "<Figure size 432x288 with 1 Axes>"
      ]
     },
     "metadata": {
      "needs_background": "light"
     },
     "output_type": "display_data"
    }
   ],
   "source": [
    "poly_fit_pred_plot(x,y,dg=4)"
   ]
  },
  {
   "cell_type": "code",
   "execution_count": 90,
   "id": "66406ba2",
   "metadata": {},
   "outputs": [
    {
     "name": "stdout",
     "output_type": "stream",
     "text": [
      "[ 2.59207459 14.95337995 20.68764569 22.6969697  25.38694639 32.20512821\n",
      " 43.17948718 52.45687646 45.84149184]\n",
      "Poly model score at degree 5 is 0.9350331184638788\n"
     ]
    },
    {
     "data": {
      "image/png": "[encoded data removed]",
      "text/plain": [
       "<Figure size 432x288 with 1 Axes>"
      ]
     },
     "metadata": {
      "needs_background": "light"
     },
     "output_type": "display_data"
    }
   ],
   "source": [
    "poly_fit_pred_plot(x,y,dg=5)"
   ]
  },
  {
   "cell_type": "code",
   "execution_count": null,
   "id": "3ac9e13c",
   "metadata": {},
   "outputs": [],
   "source": []
  }
 ],
 "metadata": {
  "kernelspec": {
   "display_name": "Python 3",
   "language": "python",
   "name": "python3"
  },
  "language_info": {
   "codemirror_mode": {
    "name": "ipython",
    "version": 3
   },
   "file_extension": ".py",
   "mimetype": "text/x-python",
   "name": "python",
   "nbconvert_exporter": "python",
   "pygments_lexer": "ipython3",
   "version": "3.8.8"
  }
 },
 "nbformat": 4,
 "nbformat_minor": 5
}
