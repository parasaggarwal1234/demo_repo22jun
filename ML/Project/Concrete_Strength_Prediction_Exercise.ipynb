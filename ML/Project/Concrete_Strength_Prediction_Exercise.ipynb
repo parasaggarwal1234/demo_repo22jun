{
 "cells": [
  {
   "cell_type": "code",
   "execution_count": null,
   "id": "30db789a",
   "metadata": {},
   "outputs": [],
   "source": []
  },
  {
   "cell_type": "markdown",
   "id": "f2ff22e7",
   "metadata": {},
   "source": [
    "#### Feature Description\n",
    "\n",
    "    Cement (component 1) -- quantitative -- kg in a m3 mixture -- Input Variable\n",
    "    Blast Furnace Slag (component 2) -- quantitative -- kg in a m3 mixture -- Input Variable\n",
    "    Fly Ash (component 3) -- quantitative -- kg in a m3 mixture -- Input Variable\n",
    "    Water (component 4) -- quantitative -- kg in a m3 mixture -- Input Variable\n",
    "    Superplasticizer (component 5) -- quantitative -- kg in a m3 mixture -- Input Variable\n",
    "    Coarse Aggregate (component 6) -- quantitative -- kg in a m3 mixture -- Input Variable\n",
    "    Fine Aggregate (component 7) -- quantitative -- kg in a m3 mixture -- Input Variable\n",
    "    Age -- quantitative -- Day (1~365) -- Input Variable\n",
    "    Concrete Compressive Strength -- quantitative -- MPa -- Output Variable\n",
    "\n"
   ]
  },
  {
   "cell_type": "markdown",
   "id": "b8174590",
   "metadata": {},
   "source": [
    "#### Steps\n",
    "1) Read the dataset.<br>\n",
    "2) Handlue Null values (if any).<br>\n",
    "3) Handle dupliacte records (if any)<br>\n",
    "4) Plot Pairplot<br>\n",
    "5) Plot heatmap for correlation<br>\n",
    "6) Handle upper and lower outliers at 3 and 97 percentile<br>\n",
    "7) Split the data into training and test data with test size as 25%.<br>\n",
    "8) Standardize the data(independent features) using StandardScaler<br>\n",
    "9) Create Linear_Reg,Ridge_Reg,Lasso_Reg models and generate their prediction result.(Use alpha value in Ridge and Lasso)<br>\n",
    "10) Also compute MSE,MAE,RMSE,R2_score for each of these models.\n"
   ]
  },
  {
   "cell_type": "code",
   "execution_count": null,
   "id": "23427f0c",
   "metadata": {},
   "outputs": [],
   "source": []
  }
 ],
 "metadata": {
  "kernelspec": {
   "display_name": "Python 3",
   "language": "python",
   "name": "python3"
  },
  "language_info": {
   "codemirror_mode": {
    "name": "ipython",
    "version": 3
   },
   "file_extension": ".py",
   "mimetype": "text/x-python",
   "name": "python",
   "nbconvert_exporter": "python",
   "pygments_lexer": "ipython3",
   "version": "3.8.8"
  }
 },
 "nbformat": 4,
 "nbformat_minor": 5
}
