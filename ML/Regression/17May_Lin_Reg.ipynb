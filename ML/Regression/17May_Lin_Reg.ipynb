{
 "cells": [
  {
   "cell_type": "markdown",
   "id": "f416a80c",
   "metadata": {},
   "source": [
    "### Regression\n",
    "1) It is a predictive modeling technique which investigates the realtionship between dependent and independent variables(one or more) <br>\n",
    "2) Dependent variable is continuos in nature eg - Sales, Weight, Profit, Revenue, Price,Distance, Magintude,Height, Weight etc<br>\n",
    "\n",
    "3) <pre>\n",
    "   y = depenedent varaible/output/target variable\n",
    "   x = independent variable/input(s)\n",
    "   </pre>"
   ]
  },
  {
   "cell_type": "markdown",
   "id": "191b2537",
   "metadata": {},
   "source": [
    "### Simple Linear Regression\n",
    "1) It is a regression model that estimates the relationship between one independent variable and one dependent variable using a straight line.<br>\n",
    "2) It has an equation of the form <b> y = mx + c</b><br>\n",
    "\n",
    "Where-<br>\n",
    "x = independent variable/ input feature/input attribute/input column<br>\n",
    "y = dependent variable / output feature/target attribute/ output column<br>\n",
    "m = slope or coefficient or weight or how much we expect y to change as x changes       \n",
    "c = intercept / constant / bias<br>\n",
    "\n",
    "In this graph, x = Time spent Studying, y = Marks obtained. The orange dots are the corresponding data points. The blue line is the best fit line for Linear regression(y = mx +c)\n",
    "\n",
    "<img src=\"reg1.png\">"
   ]
  },
  {
   "cell_type": "markdown",
   "id": "58a34b68",
   "metadata": {},
   "source": [
    "<img src=\"reg6.png\">"
   ]
  },
  {
   "cell_type": "markdown",
   "id": "4533058c",
   "metadata": {},
   "source": [
    "### Best Fit Line\n",
    "The Linear Regression model finds the best fit line that minimizes the squared error between the actual data points and its perpendicular dropped on the predicted line.<br>\n",
    "\n",
    "SST = Total Sum of Squares <br>\n",
    "SSE = Error Sum of squares <br>\n",
    "SSR = Regression sum of squares<br>\n",
    "\n",
    "<img src=\"reg2.png\">"
   ]
  },
  {
   "cell_type": "markdown",
   "id": "e4a30cc0",
   "metadata": {},
   "source": [
    "<img src=\"reg3.png\">"
   ]
  },
  {
   "cell_type": "markdown",
   "id": "285d6386",
   "metadata": {},
   "source": [
    "### R2 score (Coefficient of Determination or Goodness of Fit)\n",
    "\n",
    "The coefficient of determination is the portion of the total variation in the dependent variable that is explained by variation in the independent variable\n",
    "\n",
    "<img src=\"reg4.png\">\n",
    "\n",
    "<b>SST = SSE + SSR</b><br>\n",
    "R2 score  = SSR/SST = (SST- SSE)/ SST = 1 – SSE/SST<br>\n",
    "When SSE= 0, R2 score = 1 (Best Case Scenario)<br>\n",
    "and when SSE = SST, R2 score = 0 (Worst Case Scenario)\n",
    "\n"
   ]
  },
  {
   "cell_type": "markdown",
   "id": "3c10970c",
   "metadata": {},
   "source": [
    "### Regression Metrics\n",
    "\n",
    "<img src=\"reg5.png\">"
   ]
  },
  {
   "cell_type": "markdown",
   "id": "2e8db382",
   "metadata": {},
   "source": [
    "### Multiple Linear Regression\n",
    "\n",
    "1)\tMultiple linear regression is used to estimate the relationship between two or more independent variables and one dependent variable. <br>\n",
    "\n",
    "2)\tIt has an equation of the form <b>y = m1x1 + m2x2 + m3x3 +…..+ mnxn + c </b><br>\n",
    "where:-<br>\n",
    "x1,x2,x3,...,xn = independent variables/ input features<br>\n",
    "y = dependent variable / output feature<br>\n",
    "m1,m2,m3...,mn = coefficients/slope  corresponding to x1 - xn             \n",
    "c = intercept / constant / bias<br>"
   ]
  },
  {
   "cell_type": "code",
   "execution_count": 1,
   "id": "2e216b8b",
   "metadata": {},
   "outputs": [],
   "source": [
    "import pandas as pd\n",
    "import numpy as np\n",
    "import matplotlib.pyplot as plt"
   ]
  },
  {
   "cell_type": "code",
   "execution_count": 2,
   "id": "fec77b90",
   "metadata": {},
   "outputs": [
    {
     "data": {
      "text/html": [
       "<div>\n",
       "<style scoped>\n",
       "    .dataframe tbody tr th:only-of-type {\n",
       "        vertical-align: middle;\n",
       "    }\n",
       "\n",
       "    .dataframe tbody tr th {\n",
       "        vertical-align: top;\n",
       "    }\n",
       "\n",
       "    .dataframe thead th {\n",
       "        text-align: right;\n",
       "    }\n",
       "</style>\n",
       "<table border=\"1\" class=\"dataframe\">\n",
       "  <thead>\n",
       "    <tr style=\"text-align: right;\">\n",
       "      <th></th>\n",
       "      <th>x</th>\n",
       "      <th>y</th>\n",
       "    </tr>\n",
       "  </thead>\n",
       "  <tbody>\n",
       "    <tr>\n",
       "      <th>0</th>\n",
       "      <td>20</td>\n",
       "      <td>41</td>\n",
       "    </tr>\n",
       "    <tr>\n",
       "      <th>1</th>\n",
       "      <td>30</td>\n",
       "      <td>63</td>\n",
       "    </tr>\n",
       "    <tr>\n",
       "      <th>2</th>\n",
       "      <td>25</td>\n",
       "      <td>51</td>\n",
       "    </tr>\n",
       "    <tr>\n",
       "      <th>3</th>\n",
       "      <td>17</td>\n",
       "      <td>39</td>\n",
       "    </tr>\n",
       "    <tr>\n",
       "      <th>4</th>\n",
       "      <td>36</td>\n",
       "      <td>78</td>\n",
       "    </tr>\n",
       "  </tbody>\n",
       "</table>\n",
       "</div>"
      ],
      "text/plain": [
       "    x   y\n",
       "0  20  41\n",
       "1  30  63\n",
       "2  25  51\n",
       "3  17  39\n",
       "4  36  78"
      ]
     },
     "execution_count": 2,
     "metadata": {},
     "output_type": "execute_result"
    }
   ],
   "source": [
    "x = [20,30,25,17,36,40,46,55,52,27,50,33,42,21,48,37,23,33,14,19,52]    # xi\n",
    "y = [41,63,51,39,78,75,87,98,102,60,101,70,86,47,90,69,58,64,41,47,98]  # y_actual = yi\n",
    "# print(len(x),len(y))                                                  # ypred_i\n",
    "\n",
    "df = pd.DataFrame({'x':x,'y':y})\n",
    "df.head()"
   ]
  },
  {
   "cell_type": "markdown",
   "id": "513ae1da",
   "metadata": {},
   "source": [
    "#### Problem Statement - Based on the values of x, predict the values of y using Linear Regression"
   ]
  },
  {
   "cell_type": "code",
   "execution_count": 3,
   "id": "f829cd6a",
   "metadata": {},
   "outputs": [
    {
     "data": {
      "image/png": "[encoded data removed]",
      "text/plain": [
       "<Figure size 432x288 with 1 Axes>"
      ]
     },
     "metadata": {
      "needs_background": "light"
     },
     "output_type": "display_data"
    }
   ],
   "source": [
    "plt.scatter(df['x'],df['y'],color='orange',label='Actual data')\n",
    "plt.xlabel('x')\n",
    "plt.ylabel('y')\n",
    "plt.legend()\n",
    "plt.grid()\n",
    "plt.show()"
   ]
  },
  {
   "cell_type": "code",
   "execution_count": 4,
   "id": "1f17e3a5",
   "metadata": {},
   "outputs": [],
   "source": [
    "#### Y_pred = m*x + c"
   ]
  },
  {
   "cell_type": "code",
   "execution_count": 5,
   "id": "d96393d8",
   "metadata": {},
   "outputs": [
    {
     "data": {
      "text/html": [
       "<div>\n",
       "<style scoped>\n",
       "    .dataframe tbody tr th:only-of-type {\n",
       "        vertical-align: middle;\n",
       "    }\n",
       "\n",
       "    .dataframe tbody tr th {\n",
       "        vertical-align: top;\n",
       "    }\n",
       "\n",
       "    .dataframe thead th {\n",
       "        text-align: right;\n",
       "    }\n",
       "</style>\n",
       "<table border=\"1\" class=\"dataframe\">\n",
       "  <thead>\n",
       "    <tr style=\"text-align: right;\">\n",
       "      <th></th>\n",
       "      <th>x</th>\n",
       "      <th>y</th>\n",
       "    </tr>\n",
       "  </thead>\n",
       "  <tbody>\n",
       "    <tr>\n",
       "      <th>0</th>\n",
       "      <td>20</td>\n",
       "      <td>41</td>\n",
       "    </tr>\n",
       "    <tr>\n",
       "      <th>1</th>\n",
       "      <td>30</td>\n",
       "      <td>63</td>\n",
       "    </tr>\n",
       "    <tr>\n",
       "      <th>2</th>\n",
       "      <td>25</td>\n",
       "      <td>51</td>\n",
       "    </tr>\n",
       "    <tr>\n",
       "      <th>3</th>\n",
       "      <td>17</td>\n",
       "      <td>39</td>\n",
       "    </tr>\n",
       "    <tr>\n",
       "      <th>4</th>\n",
       "      <td>36</td>\n",
       "      <td>78</td>\n",
       "    </tr>\n",
       "  </tbody>\n",
       "</table>\n",
       "</div>"
      ],
      "text/plain": [
       "    x   y\n",
       "0  20  41\n",
       "1  30  63\n",
       "2  25  51\n",
       "3  17  39\n",
       "4  36  78"
      ]
     },
     "execution_count": 5,
     "metadata": {},
     "output_type": "execute_result"
    }
   ],
   "source": [
    "df.head()"
   ]
  },
  {
   "cell_type": "code",
   "execution_count": 6,
   "id": "a7740382",
   "metadata": {},
   "outputs": [
    {
     "data": {
      "image/png": "[encoded data removed]",
      "text/plain": [
       "<Figure size 432x288 with 1 Axes>"
      ]
     },
     "metadata": {
      "needs_background": "light"
     },
     "output_type": "display_data"
    }
   ],
   "source": [
    "def plot_lin_reg(m1,c1):\n",
    "    ypred = m1*df['x'] + c1\n",
    "    plt.scatter(df['x'],df['y'],label='Actual data',color='orange')\n",
    "    plt.plot(df['x'],ypred,label='Predicted Line',color='blue')\n",
    "    plt.title(f'ypred = {m1}*x + {c1}')\n",
    "    plt.legend()\n",
    "    plt.grid()\n",
    "    plt.show()\n",
    "    \n",
    "plot_lin_reg(2,1)"
   ]
  },
  {
   "cell_type": "markdown",
   "id": "b471b137",
   "metadata": {},
   "source": [
    "### Model - 1\n",
    "y_pred = 3x + 2.5"
   ]
  },
  {
   "cell_type": "code",
   "execution_count": 7,
   "id": "dbea09e7",
   "metadata": {},
   "outputs": [
    {
     "data": {
      "text/html": [
       "<div>\n",
       "<style scoped>\n",
       "    .dataframe tbody tr th:only-of-type {\n",
       "        vertical-align: middle;\n",
       "    }\n",
       "\n",
       "    .dataframe tbody tr th {\n",
       "        vertical-align: top;\n",
       "    }\n",
       "\n",
       "    .dataframe thead th {\n",
       "        text-align: right;\n",
       "    }\n",
       "</style>\n",
       "<table border=\"1\" class=\"dataframe\">\n",
       "  <thead>\n",
       "    <tr style=\"text-align: right;\">\n",
       "      <th></th>\n",
       "      <th>x</th>\n",
       "      <th>y</th>\n",
       "      <th>y_avg</th>\n",
       "      <th>ypred_m1</th>\n",
       "      <th>SSE_m1</th>\n",
       "      <th>SSR_m1</th>\n",
       "    </tr>\n",
       "  </thead>\n",
       "  <tbody>\n",
       "    <tr>\n",
       "      <th>0</th>\n",
       "      <td>20</td>\n",
       "      <td>41</td>\n",
       "      <td>69.761905</td>\n",
       "      <td>62.5</td>\n",
       "      <td>462.25</td>\n",
       "      <td>52.735261</td>\n",
       "    </tr>\n",
       "    <tr>\n",
       "      <th>1</th>\n",
       "      <td>30</td>\n",
       "      <td>63</td>\n",
       "      <td>69.761905</td>\n",
       "      <td>92.5</td>\n",
       "      <td>870.25</td>\n",
       "      <td>517.020975</td>\n",
       "    </tr>\n",
       "    <tr>\n",
       "      <th>2</th>\n",
       "      <td>25</td>\n",
       "      <td>51</td>\n",
       "      <td>69.761905</td>\n",
       "      <td>77.5</td>\n",
       "      <td>702.25</td>\n",
       "      <td>59.878118</td>\n",
       "    </tr>\n",
       "    <tr>\n",
       "      <th>3</th>\n",
       "      <td>17</td>\n",
       "      <td>39</td>\n",
       "      <td>69.761905</td>\n",
       "      <td>53.5</td>\n",
       "      <td>210.25</td>\n",
       "      <td>264.449546</td>\n",
       "    </tr>\n",
       "    <tr>\n",
       "      <th>4</th>\n",
       "      <td>36</td>\n",
       "      <td>78</td>\n",
       "      <td>69.761905</td>\n",
       "      <td>110.5</td>\n",
       "      <td>1056.25</td>\n",
       "      <td>1659.592404</td>\n",
       "    </tr>\n",
       "  </tbody>\n",
       "</table>\n",
       "</div>"
      ],
      "text/plain": [
       "    x   y      y_avg  ypred_m1   SSE_m1       SSR_m1\n",
       "0  20  41  69.761905      62.5   462.25    52.735261\n",
       "1  30  63  69.761905      92.5   870.25   517.020975\n",
       "2  25  51  69.761905      77.5   702.25    59.878118\n",
       "3  17  39  69.761905      53.5   210.25   264.449546\n",
       "4  36  78  69.761905     110.5  1056.25  1659.592404"
      ]
     },
     "execution_count": 7,
     "metadata": {},
     "output_type": "execute_result"
    }
   ],
   "source": [
    "# y_pred = 3*x + 2.5\n",
    "m1,c1 = 3,2.5\n",
    "df['y_avg'] = df['y'].mean()\n",
    "df['ypred_m1']  = m1*df['x'] + c1 \n",
    "df['SSE_m1'] = (df['y'] - df['ypred_m1'])**2      # Error\n",
    "df['SSR_m1'] = (df['ypred_m1'] - df['y_avg'])**2  # \n",
    "df.head()"
   ]
  },
  {
   "cell_type": "code",
   "execution_count": 8,
   "id": "e5284a7b",
   "metadata": {},
   "outputs": [
    {
     "name": "stdout",
     "output_type": "stream",
     "text": [
      "sst_m1 90083.26190476191\n",
      "MSE_m1 1589.392857142857\n",
      "R2_score_m1 0.6294844425672863\n"
     ]
    }
   ],
   "source": [
    "sst_m1 = df['SSE_m1'].sum() + df['SSR_m1'].sum()\n",
    "print('sst_m1',sst_m1)\n",
    "mse_m1  =  df['SSE_m1'].mean()\n",
    "r2_score_m1 = 1 - df['SSE_m1'].sum()/sst_m1\n",
    "print('MSE_m1',mse_m1)\n",
    "print('R2_score_m1',r2_score_m1)\n",
    "# S1 => m=1.7,c=9\n",
    "# S2 => m=1.6, c=15"
   ]
  },
  {
   "cell_type": "code",
   "execution_count": 9,
   "id": "77c6fde5",
   "metadata": {},
   "outputs": [
    {
     "data": {
      "image/png": "[encoded data removed]",
      "text/plain": [
       "<Figure size 432x288 with 1 Axes>"
      ]
     },
     "metadata": {
      "needs_background": "light"
     },
     "output_type": "display_data"
    }
   ],
   "source": [
    "plot_lin_reg(3,2.5)"
   ]
  },
  {
   "cell_type": "markdown",
   "id": "a7e2a0b8",
   "metadata": {},
   "source": [
    "#### Prediction for Model - 1\n",
    "Predict y when x = 76"
   ]
  },
  {
   "cell_type": "code",
   "execution_count": 10,
   "id": "4f8c9daa",
   "metadata": {},
   "outputs": [
    {
     "name": "stdout",
     "output_type": "stream",
     "text": [
      "230.5\n"
     ]
    }
   ],
   "source": [
    "ypred_76 = 3*76 + 2.5\n",
    "print(ypred_76)"
   ]
  },
  {
   "cell_type": "markdown",
   "id": "68a70fb7",
   "metadata": {},
   "source": [
    "### Model - 2\n",
    "y_pred = 2.5x + 7"
   ]
  },
  {
   "cell_type": "code",
   "execution_count": 11,
   "id": "1c222387",
   "metadata": {},
   "outputs": [
    {
     "data": {
      "text/html": [
       "<div>\n",
       "<style scoped>\n",
       "    .dataframe tbody tr th:only-of-type {\n",
       "        vertical-align: middle;\n",
       "    }\n",
       "\n",
       "    .dataframe tbody tr th {\n",
       "        vertical-align: top;\n",
       "    }\n",
       "\n",
       "    .dataframe thead th {\n",
       "        text-align: right;\n",
       "    }\n",
       "</style>\n",
       "<table border=\"1\" class=\"dataframe\">\n",
       "  <thead>\n",
       "    <tr style=\"text-align: right;\">\n",
       "      <th></th>\n",
       "      <th>x</th>\n",
       "      <th>y</th>\n",
       "      <th>y_avg</th>\n",
       "      <th>ypred_m1</th>\n",
       "      <th>SSE_m1</th>\n",
       "      <th>SSR_m1</th>\n",
       "      <th>ypred_m2</th>\n",
       "      <th>SSE_m2</th>\n",
       "      <th>SSR_m2</th>\n",
       "    </tr>\n",
       "  </thead>\n",
       "  <tbody>\n",
       "    <tr>\n",
       "      <th>0</th>\n",
       "      <td>20</td>\n",
       "      <td>41</td>\n",
       "      <td>69.761905</td>\n",
       "      <td>62.5</td>\n",
       "      <td>462.25</td>\n",
       "      <td>52.735261</td>\n",
       "      <td>57.0</td>\n",
       "      <td>256.00</td>\n",
       "      <td>162.866213</td>\n",
       "    </tr>\n",
       "    <tr>\n",
       "      <th>1</th>\n",
       "      <td>30</td>\n",
       "      <td>63</td>\n",
       "      <td>69.761905</td>\n",
       "      <td>92.5</td>\n",
       "      <td>870.25</td>\n",
       "      <td>517.020975</td>\n",
       "      <td>82.0</td>\n",
       "      <td>361.00</td>\n",
       "      <td>149.770975</td>\n",
       "    </tr>\n",
       "    <tr>\n",
       "      <th>2</th>\n",
       "      <td>25</td>\n",
       "      <td>51</td>\n",
       "      <td>69.761905</td>\n",
       "      <td>77.5</td>\n",
       "      <td>702.25</td>\n",
       "      <td>59.878118</td>\n",
       "      <td>69.5</td>\n",
       "      <td>342.25</td>\n",
       "      <td>0.068594</td>\n",
       "    </tr>\n",
       "    <tr>\n",
       "      <th>3</th>\n",
       "      <td>17</td>\n",
       "      <td>39</td>\n",
       "      <td>69.761905</td>\n",
       "      <td>53.5</td>\n",
       "      <td>210.25</td>\n",
       "      <td>264.449546</td>\n",
       "      <td>49.5</td>\n",
       "      <td>110.25</td>\n",
       "      <td>410.544785</td>\n",
       "    </tr>\n",
       "    <tr>\n",
       "      <th>4</th>\n",
       "      <td>36</td>\n",
       "      <td>78</td>\n",
       "      <td>69.761905</td>\n",
       "      <td>110.5</td>\n",
       "      <td>1056.25</td>\n",
       "      <td>1659.592404</td>\n",
       "      <td>97.0</td>\n",
       "      <td>361.00</td>\n",
       "      <td>741.913832</td>\n",
       "    </tr>\n",
       "  </tbody>\n",
       "</table>\n",
       "</div>"
      ],
      "text/plain": [
       "    x   y      y_avg  ypred_m1   SSE_m1       SSR_m1  ypred_m2  SSE_m2  \\\n",
       "0  20  41  69.761905      62.5   462.25    52.735261      57.0  256.00   \n",
       "1  30  63  69.761905      92.5   870.25   517.020975      82.0  361.00   \n",
       "2  25  51  69.761905      77.5   702.25    59.878118      69.5  342.25   \n",
       "3  17  39  69.761905      53.5   210.25   264.449546      49.5  110.25   \n",
       "4  36  78  69.761905     110.5  1056.25  1659.592404      97.0  361.00   \n",
       "\n",
       "       SSR_m2  \n",
       "0  162.866213  \n",
       "1  149.770975  \n",
       "2    0.068594  \n",
       "3  410.544785  \n",
       "4  741.913832  "
      ]
     },
     "execution_count": 11,
     "metadata": {},
     "output_type": "execute_result"
    }
   ],
   "source": [
    "m1,c1 = 2.5,7\n",
    "df['ypred_m2']  = m1*df['x'] + c1 \n",
    "df['SSE_m2'] = (df['y'] - df['ypred_m2'])**2      # Error\n",
    "df['SSR_m2'] = (df['ypred_m2'] - df['y_avg'])**2  # \n",
    "df.head()"
   ]
  },
  {
   "cell_type": "code",
   "execution_count": 12,
   "id": "9bc93ad3",
   "metadata": {},
   "outputs": [
    {
     "name": "stdout",
     "output_type": "stream",
     "text": [
      "sst_m2 45985.333333333336\n",
      "MSE_m2 667.6428571428571\n",
      "R2_score_m2 0.6951093102148511\n"
     ]
    }
   ],
   "source": [
    "sst_m2 = df['SSE_m2'].sum() + df['SSR_m2'].sum()\n",
    "print('sst_m2',sst_m2)\n",
    "mse_m2  =  df['SSE_m2'].mean()\n",
    "r2_score_m2 = 1 - df['SSE_m2'].sum()/sst_m2\n",
    "print('MSE_m2',mse_m2)\n",
    "print('R2_score_m2',r2_score_m2)"
   ]
  },
  {
   "cell_type": "code",
   "execution_count": 13,
   "id": "26efa6a3",
   "metadata": {},
   "outputs": [
    {
     "data": {
      "image/png": "[encoded data removed]",
      "text/plain": [
       "<Figure size 432x288 with 1 Axes>"
      ]
     },
     "metadata": {
      "needs_background": "light"
     },
     "output_type": "display_data"
    }
   ],
   "source": [
    "plot_lin_reg(2.5,7)"
   ]
  },
  {
   "cell_type": "markdown",
   "id": "c8e578d7",
   "metadata": {},
   "source": [
    "#### Predictions from Model - 2\n",
    "Predict y when x = 81"
   ]
  },
  {
   "cell_type": "code",
   "execution_count": 14,
   "id": "710c4b9e",
   "metadata": {},
   "outputs": [
    {
     "name": "stdout",
     "output_type": "stream",
     "text": [
      "209.5\n"
     ]
    }
   ],
   "source": [
    "ypred_81 = 2.5*81 + 7\n",
    "print(ypred_81)"
   ]
  },
  {
   "cell_type": "code",
   "execution_count": null,
   "id": "46cadc9b",
   "metadata": {},
   "outputs": [],
   "source": []
  },
  {
   "cell_type": "code",
   "execution_count": null,
   "id": "a6ba8abf",
   "metadata": {},
   "outputs": [],
   "source": []
  },
  {
   "cell_type": "markdown",
   "id": "7f3bebd7",
   "metadata": {},
   "source": [
    "### LinearRegression Using Sklearn"
   ]
  },
  {
   "cell_type": "code",
   "execution_count": 50,
   "id": "e88d33bb",
   "metadata": {},
   "outputs": [],
   "source": [
    "import pandas as pd\n",
    "import numpy as np\n",
    "import matplotlib.pyplot as plt"
   ]
  },
  {
   "cell_type": "code",
   "execution_count": 15,
   "id": "50cd619e",
   "metadata": {},
   "outputs": [
    {
     "data": {
      "text/html": [
       "<div>\n",
       "<style scoped>\n",
       "    .dataframe tbody tr th:only-of-type {\n",
       "        vertical-align: middle;\n",
       "    }\n",
       "\n",
       "    .dataframe tbody tr th {\n",
       "        vertical-align: top;\n",
       "    }\n",
       "\n",
       "    .dataframe thead th {\n",
       "        text-align: right;\n",
       "    }\n",
       "</style>\n",
       "<table border=\"1\" class=\"dataframe\">\n",
       "  <thead>\n",
       "    <tr style=\"text-align: right;\">\n",
       "      <th></th>\n",
       "      <th>x</th>\n",
       "      <th>y</th>\n",
       "    </tr>\n",
       "  </thead>\n",
       "  <tbody>\n",
       "    <tr>\n",
       "      <th>0</th>\n",
       "      <td>20</td>\n",
       "      <td>41</td>\n",
       "    </tr>\n",
       "    <tr>\n",
       "      <th>1</th>\n",
       "      <td>30</td>\n",
       "      <td>63</td>\n",
       "    </tr>\n",
       "    <tr>\n",
       "      <th>2</th>\n",
       "      <td>25</td>\n",
       "      <td>51</td>\n",
       "    </tr>\n",
       "    <tr>\n",
       "      <th>3</th>\n",
       "      <td>17</td>\n",
       "      <td>39</td>\n",
       "    </tr>\n",
       "    <tr>\n",
       "      <th>4</th>\n",
       "      <td>36</td>\n",
       "      <td>78</td>\n",
       "    </tr>\n",
       "  </tbody>\n",
       "</table>\n",
       "</div>"
      ],
      "text/plain": [
       "    x   y\n",
       "0  20  41\n",
       "1  30  63\n",
       "2  25  51\n",
       "3  17  39\n",
       "4  36  78"
      ]
     },
     "execution_count": 15,
     "metadata": {},
     "output_type": "execute_result"
    }
   ],
   "source": [
    "x = [20,30,25,17,36,40,46,55,52,27,50,33,42,21,48,37,23,33,14,19,52]\n",
    "y = [41,63,51,39,78,75,87,98,102,60,101,70,86,47,90,69,58,64,41,47,98]\n",
    "\n",
    "df1 = pd.DataFrame({'x':x,'y':y})\n",
    "df1.head()"
   ]
  },
  {
   "cell_type": "markdown",
   "id": "ea99a95f",
   "metadata": {},
   "source": [
    "#### General Protocol for a Regression Model - using sklearn\n",
    "1) ML model will not accept any null value<br>\n",
    "2) ML will not accept datatypes other than int or float<br>\n",
    "3) x(independent variable) has to be a DataFrame or a 2D numpy array or a 2D list.<br>\n",
    "4) y(dependent variable) has to be a Series or a 1D numpy array or a 1D list."
   ]
  },
  {
   "cell_type": "code",
   "execution_count": 16,
   "id": "f405e5b0",
   "metadata": {},
   "outputs": [
    {
     "data": {
      "text/plain": [
       "(21, 2)"
      ]
     },
     "execution_count": 16,
     "metadata": {},
     "output_type": "execute_result"
    }
   ],
   "source": [
    "df1.shape"
   ]
  },
  {
   "cell_type": "code",
   "execution_count": 17,
   "id": "ea6fc8dd",
   "metadata": {},
   "outputs": [
    {
     "data": {
      "text/plain": [
       "x    0\n",
       "y    0\n",
       "dtype: int64"
      ]
     },
     "execution_count": 17,
     "metadata": {},
     "output_type": "execute_result"
    }
   ],
   "source": [
    "df1.isnull().sum()"
   ]
  },
  {
   "cell_type": "code",
   "execution_count": 18,
   "id": "9b4ce385",
   "metadata": {},
   "outputs": [
    {
     "name": "stdout",
     "output_type": "stream",
     "text": [
      "<class 'pandas.core.frame.DataFrame'>\n",
      "<class 'pandas.core.series.Series'>\n"
     ]
    }
   ],
   "source": [
    "x = df[['x']]\n",
    "y = df['y']\n",
    "print(type(x))\n",
    "print(type(y))"
   ]
  },
  {
   "cell_type": "code",
   "execution_count": 19,
   "id": "b2bf4f31",
   "metadata": {},
   "outputs": [
    {
     "data": {
      "text/html": [
       "<div>\n",
       "<style scoped>\n",
       "    .dataframe tbody tr th:only-of-type {\n",
       "        vertical-align: middle;\n",
       "    }\n",
       "\n",
       "    .dataframe tbody tr th {\n",
       "        vertical-align: top;\n",
       "    }\n",
       "\n",
       "    .dataframe thead th {\n",
       "        text-align: right;\n",
       "    }\n",
       "</style>\n",
       "<table border=\"1\" class=\"dataframe\">\n",
       "  <thead>\n",
       "    <tr style=\"text-align: right;\">\n",
       "      <th></th>\n",
       "      <th>x</th>\n",
       "    </tr>\n",
       "  </thead>\n",
       "  <tbody>\n",
       "    <tr>\n",
       "      <th>0</th>\n",
       "      <td>20</td>\n",
       "    </tr>\n",
       "    <tr>\n",
       "      <th>1</th>\n",
       "      <td>30</td>\n",
       "    </tr>\n",
       "    <tr>\n",
       "      <th>2</th>\n",
       "      <td>25</td>\n",
       "    </tr>\n",
       "    <tr>\n",
       "      <th>3</th>\n",
       "      <td>17</td>\n",
       "    </tr>\n",
       "    <tr>\n",
       "      <th>4</th>\n",
       "      <td>36</td>\n",
       "    </tr>\n",
       "  </tbody>\n",
       "</table>\n",
       "</div>"
      ],
      "text/plain": [
       "    x\n",
       "0  20\n",
       "1  30\n",
       "2  25\n",
       "3  17\n",
       "4  36"
      ]
     },
     "execution_count": 19,
     "metadata": {},
     "output_type": "execute_result"
    }
   ],
   "source": [
    "x.head()"
   ]
  },
  {
   "cell_type": "code",
   "execution_count": 20,
   "id": "bae9bec7",
   "metadata": {},
   "outputs": [
    {
     "data": {
      "text/plain": [
       "0    41\n",
       "1    63\n",
       "2    51\n",
       "3    39\n",
       "4    78\n",
       "Name: y, dtype: int64"
      ]
     },
     "execution_count": 20,
     "metadata": {},
     "output_type": "execute_result"
    }
   ],
   "source": [
    "y.head()"
   ]
  },
  {
   "cell_type": "code",
   "execution_count": 21,
   "id": "03659ab4",
   "metadata": {},
   "outputs": [
    {
     "data": {
      "image/png": "[encoded data removed]",
      "text/plain": [
       "<Figure size 432x288 with 1 Axes>"
      ]
     },
     "metadata": {
      "needs_background": "light"
     },
     "output_type": "display_data"
    }
   ],
   "source": [
    "plt.scatter(df1['x'],df1['y'])\n",
    "plt.grid()\n",
    "plt.show()"
   ]
  },
  {
   "cell_type": "code",
   "execution_count": 55,
   "id": "f1f431af",
   "metadata": {},
   "outputs": [],
   "source": [
    "from sklearn.linear_model import LinearRegression"
   ]
  },
  {
   "cell_type": "code",
   "execution_count": 56,
   "id": "b8c92197",
   "metadata": {},
   "outputs": [
    {
     "data": {
      "text/plain": [
       "LinearRegression()"
      ]
     },
     "execution_count": 56,
     "metadata": {},
     "output_type": "execute_result"
    }
   ],
   "source": [
    "model = LinearRegression()\n",
    "model.fit(x,y)\n",
    "\n",
    "# model.fit(x,y) - ML model is getting trained on the (x,y) data"
   ]
  },
  {
   "cell_type": "code",
   "execution_count": 57,
   "id": "0e0a7e59",
   "metadata": {},
   "outputs": [
    {
     "name": "stdout",
     "output_type": "stream",
     "text": [
      "<class 'pandas.core.frame.DataFrame'>\n"
     ]
    }
   ],
   "source": [
    "print(type(x))"
   ]
  },
  {
   "cell_type": "code",
   "execution_count": 58,
   "id": "caa7798e",
   "metadata": {},
   "outputs": [
    {
     "name": "stdout",
     "output_type": "stream",
     "text": [
      "[ 46.76135555  62.86174     54.81154777  41.93124021  72.52197067\n",
      "  78.96212445  88.62235512 103.11270112  98.28258579  58.03162466\n",
      "  95.0625089   67.69185533  82.18220134  48.37139399  91.84243201\n",
      "  74.13200911  51.59147088  67.69185533  37.10112488  45.1513171\n",
      "  98.28258579]\n"
     ]
    }
   ],
   "source": [
    "ypred = model.predict(x)\n",
    "print(ypred)"
   ]
  },
  {
   "cell_type": "code",
   "execution_count": 59,
   "id": "de97a983",
   "metadata": {},
   "outputs": [
    {
     "data": {
      "text/html": [
       "<div>\n",
       "<style scoped>\n",
       "    .dataframe tbody tr th:only-of-type {\n",
       "        vertical-align: middle;\n",
       "    }\n",
       "\n",
       "    .dataframe tbody tr th {\n",
       "        vertical-align: top;\n",
       "    }\n",
       "\n",
       "    .dataframe thead th {\n",
       "        text-align: right;\n",
       "    }\n",
       "</style>\n",
       "<table border=\"1\" class=\"dataframe\">\n",
       "  <thead>\n",
       "    <tr style=\"text-align: right;\">\n",
       "      <th></th>\n",
       "      <th>x</th>\n",
       "      <th>y</th>\n",
       "      <th>y_pred</th>\n",
       "      <th>y_pred_eqn</th>\n",
       "    </tr>\n",
       "  </thead>\n",
       "  <tbody>\n",
       "    <tr>\n",
       "      <th>0</th>\n",
       "      <td>20</td>\n",
       "      <td>41</td>\n",
       "      <td>46.761356</td>\n",
       "      <td>46.761356</td>\n",
       "    </tr>\n",
       "    <tr>\n",
       "      <th>1</th>\n",
       "      <td>30</td>\n",
       "      <td>63</td>\n",
       "      <td>62.861740</td>\n",
       "      <td>62.861740</td>\n",
       "    </tr>\n",
       "    <tr>\n",
       "      <th>2</th>\n",
       "      <td>25</td>\n",
       "      <td>51</td>\n",
       "      <td>54.811548</td>\n",
       "      <td>54.811548</td>\n",
       "    </tr>\n",
       "    <tr>\n",
       "      <th>3</th>\n",
       "      <td>17</td>\n",
       "      <td>39</td>\n",
       "      <td>41.931240</td>\n",
       "      <td>41.931240</td>\n",
       "    </tr>\n",
       "    <tr>\n",
       "      <th>4</th>\n",
       "      <td>36</td>\n",
       "      <td>78</td>\n",
       "      <td>72.521971</td>\n",
       "      <td>72.521971</td>\n",
       "    </tr>\n",
       "  </tbody>\n",
       "</table>\n",
       "</div>"
      ],
      "text/plain": [
       "    x   y     y_pred  y_pred_eqn\n",
       "0  20  41  46.761356   46.761356\n",
       "1  30  63  62.861740   62.861740\n",
       "2  25  51  54.811548   54.811548\n",
       "3  17  39  41.931240   41.931240\n",
       "4  36  78  72.521971   72.521971"
      ]
     },
     "execution_count": 59,
     "metadata": {},
     "output_type": "execute_result"
    }
   ],
   "source": [
    "df1['y_pred'] = ypred\n",
    "df1.head()"
   ]
  },
  {
   "cell_type": "code",
   "execution_count": 60,
   "id": "fe377e50",
   "metadata": {},
   "outputs": [
    {
     "name": "stdout",
     "output_type": "stream",
     "text": [
      "Model_Score 0.9656182816033277\n"
     ]
    }
   ],
   "source": [
    "# R2_Score\n",
    "print('Model_Score',model.score(x,y))"
   ]
  },
  {
   "cell_type": "code",
   "execution_count": 61,
   "id": "f367f320",
   "metadata": {},
   "outputs": [
    {
     "name": "stdout",
     "output_type": "stream",
     "text": [
      "Coefficient or Slope [1.61003845]\n",
      "Intercept or Constant 14.560586643884356\n"
     ]
    }
   ],
   "source": [
    "# Y_pred = mx + c\n",
    "m = model.coef_\n",
    "c = model.intercept_\n",
    "print('Coefficient or Slope',m)\n",
    "print('Intercept or Constant',c)"
   ]
  },
  {
   "cell_type": "code",
   "execution_count": 62,
   "id": "be42c097",
   "metadata": {},
   "outputs": [
    {
     "data": {
      "text/html": [
       "<div>\n",
       "<style scoped>\n",
       "    .dataframe tbody tr th:only-of-type {\n",
       "        vertical-align: middle;\n",
       "    }\n",
       "\n",
       "    .dataframe tbody tr th {\n",
       "        vertical-align: top;\n",
       "    }\n",
       "\n",
       "    .dataframe thead th {\n",
       "        text-align: right;\n",
       "    }\n",
       "</style>\n",
       "<table border=\"1\" class=\"dataframe\">\n",
       "  <thead>\n",
       "    <tr style=\"text-align: right;\">\n",
       "      <th></th>\n",
       "      <th>x</th>\n",
       "      <th>y</th>\n",
       "      <th>y_pred</th>\n",
       "      <th>y_pred_eqn</th>\n",
       "    </tr>\n",
       "  </thead>\n",
       "  <tbody>\n",
       "    <tr>\n",
       "      <th>0</th>\n",
       "      <td>20</td>\n",
       "      <td>41</td>\n",
       "      <td>46.761356</td>\n",
       "      <td>46.761356</td>\n",
       "    </tr>\n",
       "    <tr>\n",
       "      <th>1</th>\n",
       "      <td>30</td>\n",
       "      <td>63</td>\n",
       "      <td>62.861740</td>\n",
       "      <td>62.861740</td>\n",
       "    </tr>\n",
       "    <tr>\n",
       "      <th>2</th>\n",
       "      <td>25</td>\n",
       "      <td>51</td>\n",
       "      <td>54.811548</td>\n",
       "      <td>54.811548</td>\n",
       "    </tr>\n",
       "    <tr>\n",
       "      <th>3</th>\n",
       "      <td>17</td>\n",
       "      <td>39</td>\n",
       "      <td>41.931240</td>\n",
       "      <td>41.931240</td>\n",
       "    </tr>\n",
       "    <tr>\n",
       "      <th>4</th>\n",
       "      <td>36</td>\n",
       "      <td>78</td>\n",
       "      <td>72.521971</td>\n",
       "      <td>72.521971</td>\n",
       "    </tr>\n",
       "  </tbody>\n",
       "</table>\n",
       "</div>"
      ],
      "text/plain": [
       "    x   y     y_pred  y_pred_eqn\n",
       "0  20  41  46.761356   46.761356\n",
       "1  30  63  62.861740   62.861740\n",
       "2  25  51  54.811548   54.811548\n",
       "3  17  39  41.931240   41.931240\n",
       "4  36  78  72.521971   72.521971"
      ]
     },
     "execution_count": 62,
     "metadata": {},
     "output_type": "execute_result"
    }
   ],
   "source": [
    "# Y_pred = mx + c\n",
    "df1['y_pred_eqn'] = m*df1['x'] + c\n",
    "df1.head()"
   ]
  },
  {
   "cell_type": "code",
   "execution_count": 63,
   "id": "e0ae240a",
   "metadata": {},
   "outputs": [
    {
     "data": {
      "image/png": "[encoded data removed]",
      "text/plain": [
       "<Figure size 432x288 with 1 Axes>"
      ]
     },
     "metadata": {
      "needs_background": "light"
     },
     "output_type": "display_data"
    }
   ],
   "source": [
    "plt.scatter(df1['x'],df1['y'],label='Actual Data')\n",
    "plt.plot(df1['x'],df1['y_pred'],color='maroon',label='Predicted Line')\n",
    "plt.xlabel('x')\n",
    "plt.xlabel('y')\n",
    "plt.grid()\n",
    "plt.legend()\n",
    "plt.show()"
   ]
  },
  {
   "cell_type": "code",
   "execution_count": 64,
   "id": "a9d7d75f",
   "metadata": {},
   "outputs": [],
   "source": [
    "from sklearn.metrics import mean_squared_error,mean_absolute_error,r2_score"
   ]
  },
  {
   "cell_type": "code",
   "execution_count": 65,
   "id": "1b0da775",
   "metadata": {},
   "outputs": [
    {
     "name": "stdout",
     "output_type": "stream",
     "text": [
      "MAE 3.3830095672043563\n",
      "MSE 14.698691374599107\n",
      "RMSE 3.833887240725672\n",
      "R2_score 0.9656182816033277\n",
      "Model_Score 0.9656182816033277\n"
     ]
    }
   ],
   "source": [
    "mae = mean_absolute_error(y,ypred)\n",
    "mse = mean_squared_error(y,ypred)\n",
    "rmse = np.sqrt(mean_squared_error(y,ypred))\n",
    "r2s = r2_score(y,ypred)\n",
    "print('MAE',mae)\n",
    "print('MSE',mse)\n",
    "print('RMSE',rmse)\n",
    "print('R2_score',r2s)\n",
    "print('Model_Score',model.score(x,y))"
   ]
  },
  {
   "cell_type": "markdown",
   "id": "9094d276",
   "metadata": {},
   "source": [
    "#### Predictions for a specific value using LinReg Model"
   ]
  },
  {
   "cell_type": "code",
   "execution_count": 66,
   "id": "dbc195ad",
   "metadata": {},
   "outputs": [
    {
     "name": "stdout",
     "output_type": "stream",
     "text": [
      "[1.61003845] 14.560586643884356\n"
     ]
    }
   ],
   "source": [
    "print(m,c)"
   ]
  },
  {
   "cell_type": "markdown",
   "id": "42ff4393",
   "metadata": {},
   "source": [
    "#### Predictions for single value\n",
    "Predict y for x = 57"
   ]
  },
  {
   "cell_type": "code",
   "execution_count": 67,
   "id": "23f9b78d",
   "metadata": {},
   "outputs": [
    {
     "name": "stdout",
     "output_type": "stream",
     "text": [
      "[106.33277802]\n",
      "[106.33277802]\n"
     ]
    }
   ],
   "source": [
    "ypred57_m1 = model.predict([[57]])\n",
    "print(ypred57_m1)\n",
    "ypred57_m2 = m*57 + c\n",
    "print(ypred57_m2)"
   ]
  },
  {
   "cell_type": "markdown",
   "id": "60baddf4",
   "metadata": {},
   "source": [
    "#### Predictions for multiple values\n",
    "Predict y for x = 75,63,87"
   ]
  },
  {
   "cell_type": "code",
   "execution_count": 68,
   "id": "94a1eecc",
   "metadata": {},
   "outputs": [
    {
     "data": {
      "text/html": [
       "<div>\n",
       "<style scoped>\n",
       "    .dataframe tbody tr th:only-of-type {\n",
       "        vertical-align: middle;\n",
       "    }\n",
       "\n",
       "    .dataframe tbody tr th {\n",
       "        vertical-align: top;\n",
       "    }\n",
       "\n",
       "    .dataframe thead th {\n",
       "        text-align: right;\n",
       "    }\n",
       "</style>\n",
       "<table border=\"1\" class=\"dataframe\">\n",
       "  <thead>\n",
       "    <tr style=\"text-align: right;\">\n",
       "      <th></th>\n",
       "      <th>x</th>\n",
       "      <th>y</th>\n",
       "      <th>y_pred</th>\n",
       "      <th>y_pred_eqn</th>\n",
       "    </tr>\n",
       "  </thead>\n",
       "  <tbody>\n",
       "    <tr>\n",
       "      <th>0</th>\n",
       "      <td>20</td>\n",
       "      <td>41</td>\n",
       "      <td>46.761356</td>\n",
       "      <td>46.761356</td>\n",
       "    </tr>\n",
       "    <tr>\n",
       "      <th>1</th>\n",
       "      <td>30</td>\n",
       "      <td>63</td>\n",
       "      <td>62.861740</td>\n",
       "      <td>62.861740</td>\n",
       "    </tr>\n",
       "    <tr>\n",
       "      <th>2</th>\n",
       "      <td>25</td>\n",
       "      <td>51</td>\n",
       "      <td>54.811548</td>\n",
       "      <td>54.811548</td>\n",
       "    </tr>\n",
       "    <tr>\n",
       "      <th>3</th>\n",
       "      <td>17</td>\n",
       "      <td>39</td>\n",
       "      <td>41.931240</td>\n",
       "      <td>41.931240</td>\n",
       "    </tr>\n",
       "    <tr>\n",
       "      <th>4</th>\n",
       "      <td>36</td>\n",
       "      <td>78</td>\n",
       "      <td>72.521971</td>\n",
       "      <td>72.521971</td>\n",
       "    </tr>\n",
       "  </tbody>\n",
       "</table>\n",
       "</div>"
      ],
      "text/plain": [
       "    x   y     y_pred  y_pred_eqn\n",
       "0  20  41  46.761356   46.761356\n",
       "1  30  63  62.861740   62.861740\n",
       "2  25  51  54.811548   54.811548\n",
       "3  17  39  41.931240   41.931240\n",
       "4  36  78  72.521971   72.521971"
      ]
     },
     "execution_count": 68,
     "metadata": {},
     "output_type": "execute_result"
    }
   ],
   "source": [
    "df1.head()"
   ]
  },
  {
   "cell_type": "code",
   "execution_count": 69,
   "id": "69ccfad9",
   "metadata": {},
   "outputs": [
    {
     "name": "stdout",
     "output_type": "stream",
     "text": [
      "[135.31347003 115.99300869 154.63393137]\n",
      "[array([135.31347003]), array([115.99300869]), array([154.63393137])]\n"
     ]
    }
   ],
   "source": [
    "# model.predict([[75,63,87]])        # Error\n",
    "ypred_res_m1 = model.predict([[75],[63],[87]])\n",
    "print(ypred_res_m1)\n",
    "ypred_res_m2 = [m*i + c for i in [75,63,87]]\n",
    "print(ypred_res_m2)"
   ]
  },
  {
   "cell_type": "markdown",
   "id": "3e9cbdbb",
   "metadata": {},
   "source": [
    "#### Creating a test dataframe"
   ]
  },
  {
   "cell_type": "code",
   "execution_count": 73,
   "id": "7344aff6",
   "metadata": {},
   "outputs": [
    {
     "data": {
      "text/html": [
       "<div>\n",
       "<style scoped>\n",
       "    .dataframe tbody tr th:only-of-type {\n",
       "        vertical-align: middle;\n",
       "    }\n",
       "\n",
       "    .dataframe tbody tr th {\n",
       "        vertical-align: top;\n",
       "    }\n",
       "\n",
       "    .dataframe thead th {\n",
       "        text-align: right;\n",
       "    }\n",
       "</style>\n",
       "<table border=\"1\" class=\"dataframe\">\n",
       "  <thead>\n",
       "    <tr style=\"text-align: right;\">\n",
       "      <th></th>\n",
       "      <th>x</th>\n",
       "    </tr>\n",
       "  </thead>\n",
       "  <tbody>\n",
       "    <tr>\n",
       "      <th>0</th>\n",
       "      <td>31</td>\n",
       "    </tr>\n",
       "    <tr>\n",
       "      <th>1</th>\n",
       "      <td>54</td>\n",
       "    </tr>\n",
       "    <tr>\n",
       "      <th>2</th>\n",
       "      <td>89</td>\n",
       "    </tr>\n",
       "    <tr>\n",
       "      <th>3</th>\n",
       "      <td>91</td>\n",
       "    </tr>\n",
       "    <tr>\n",
       "      <th>4</th>\n",
       "      <td>123</td>\n",
       "    </tr>\n",
       "  </tbody>\n",
       "</table>\n",
       "</div>"
      ],
      "text/plain": [
       "     x\n",
       "0   31\n",
       "1   54\n",
       "2   89\n",
       "3   91\n",
       "4  123"
      ]
     },
     "execution_count": 73,
     "metadata": {},
     "output_type": "execute_result"
    }
   ],
   "source": [
    "test_data = {'x':[31,54,89,91,123,105,18,64]}\n",
    "df_test = pd.DataFrame(test_data)\n",
    "df_test.head()"
   ]
  },
  {
   "cell_type": "code",
   "execution_count": 74,
   "id": "a32e4724",
   "metadata": {},
   "outputs": [
    {
     "name": "stdout",
     "output_type": "stream",
     "text": [
      "[ 64.47177844 101.50266268 157.85400826 161.07408515 212.59531539\n",
      " 183.61462338  43.54127866 117.60304713]\n"
     ]
    }
   ],
   "source": [
    "ypred_test = model.predict(df_test)\n",
    "print(ypred_test)"
   ]
  },
  {
   "cell_type": "code",
   "execution_count": 81,
   "id": "da248758",
   "metadata": {},
   "outputs": [
    {
     "data": {
      "image/png": "[encoded data removed]",
      "text/plain": [
       "<Figure size 432x288 with 1 Axes>"
      ]
     },
     "metadata": {
      "needs_background": "light"
     },
     "output_type": "display_data"
    }
   ],
   "source": [
    "plt.scatter(df1['x'],df1['y'],label='Actual Data')\n",
    "plt.plot(df1['x'],df1['y_pred'],color='yellow',label='Predicted Line')\n",
    "plt.scatter(df_test['x'],ypred_test,color='red',s=80,marker='+',label='Test_data_&_predictons')\n",
    "plt.xlabel('x')\n",
    "plt.xlabel('y')\n",
    "plt.grid()\n",
    "plt.legend()\n",
    "plt.show()"
   ]
  },
  {
   "cell_type": "markdown",
   "id": "fbe16274",
   "metadata": {},
   "source": [
    "### Gradient Descent\n",
    "Cost Function = Error Function = Loss Function"
   ]
  },
  {
   "cell_type": "code",
   "execution_count": null,
   "id": "51b3dd08",
   "metadata": {},
   "outputs": [],
   "source": [
    "ypred = mx + c\n",
    "mse = (1/n)*sum((y - ypred)**2)\n",
    "cost_function = (1/n)*sum((y - ypred)**2)\n",
    "cost_function = (1/n)*sum((y - (mx + c))**2)\n",
    "J(m,c) = (1/n)*sum((y - (mx + c))**2)"
   ]
  },
  {
   "cell_type": "markdown",
   "id": "4dd7beb5",
   "metadata": {},
   "source": [
    "#### Probelm statement\n",
    "minimize -> J(m,c) = (1/n) * sum((y - (mx + c)) ** 2)"
   ]
  },
  {
   "cell_type": "code",
   "execution_count": null,
   "id": "d05d015e",
   "metadata": {},
   "outputs": [],
   "source": []
  }
 ],
 "metadata": {
  "kernelspec": {
   "display_name": "Python 3",
   "language": "python",
   "name": "python3"
  },
  "language_info": {
   "codemirror_mode": {
    "name": "ipython",
    "version": 3
   },
   "file_extension": ".py",
   "mimetype": "text/x-python",
   "name": "python",
   "nbconvert_exporter": "python",
   "pygments_lexer": "ipython3",
   "version": "3.8.8"
  }
 },
 "nbformat": 4,
 "nbformat_minor": 5
}
