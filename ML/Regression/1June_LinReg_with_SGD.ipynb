{
 "cells": [
  {
   "cell_type": "markdown",
   "id": "c28efec9",
   "metadata": {},
   "source": [
    "### Equation of LinearRegression\n",
    "\n",
    "y = m1x1 + m2x2 + m2x3 + .... + mnxn \n",
    "\n",
    "\n",
    "#### Gradient Descent\n",
    "1) It is an optimization technique for finding minimum of a function.<br>\n",
    "2) It is first order iterative optimization<br>\n",
    "3) It consists of an Objective Function (also known as Cost Function or Error Function or Loss Function) that needs to be minimized.<br>\n",
    "4) Error function determines Error of the model on a given dataset<br>\n",
    "\n"
   ]
  },
  {
   "cell_type": "markdown",
   "id": "611d2c52",
   "metadata": {},
   "source": [
    "### Gradient Descent\n",
    "\n",
    "1) Gradient descent (GD) is an iterative first-order optimisation algorithm used to find a local minimum/maximum of a given function.<br>\n",
    "\n",
    "2) This method is commonly used in machine learning (ML) and deep learning(DL) to minimise a cost/loss function (e.g. in a linear regression). \n",
    "\n",
    "3) Gradient descent algorithm does not work for all functions. There are two specific requirements.\n",
    "A function has to be:<br>\n",
    "<b>\n",
    "a) differentiable<br>\n",
    "b) convex<br>\n",
    "</b>    \n",
    "\n",
    "4) If a function is differentiable it has a derivative for each point in its domain\n",
    "Ex - <br>\n",
    "$ f(x) = {x^2}, f(x) = {x^3} - 5x $\n",
    "\n",
    "5) Second requirement is that function has to be convex. For a univariate function, this means that the line segment connecting two function’s points lays on or above its curve (it does not cross it). If it does it means that it has a local minimum which is not a global one.\n",
    "\n",
    "<img src=\"convex_non_convex.png\">\n",
    "\n",
    "Another way to check mathematically if a univariate function is convex is to calculate the second derivative and check if its value is always bigger than 0.\n",
    "\n",
    "$ f(x) = {x^2} - x + 3 $\n",
    "\n",
    "$ \\frac {df(x)}{dx}  = 2x - 1 $\n",
    "\n",
    "$ \\frac {d^2f(x)}{dx}  = 2 $"
   ]
  },
  {
   "cell_type": "markdown",
   "id": "bbbf26f8",
   "metadata": {},
   "source": [
    "#### Gradient\n",
    "Intuitively it is a slope of a curve at a given point in a specified direction.\n",
    "\n",
    "### Gradient Descent\n",
    "Imagine a valley and a person with no sense of direction who wants to get to the bottom of the valley. He goes down the slope and takes large steps when the slope is steep and small steps when the slope is less steep. He decides his next position based on his current position and stops when he gets to the bottom of the valley which was his goal.\n",
    "\n",
    "<img src=\"grad_desc1.png\" height=\"300\" width=\"450\">"
   ]
  },
  {
   "cell_type": "code",
   "execution_count": null,
   "id": "a7548146",
   "metadata": {},
   "outputs": [],
   "source": [
    "# ypred = mx + c\n",
    "# MSE = Cost Function = Loss Function = Error Function\n",
    "# MSE = (1/n)*sum((yi - ypred)**2)\n",
    "# MSE = (1/n)*sum((yi - (mx+c))**2)\n",
    "# J(m,c) = (1/n)*sum((yi - (mx+c))**2) = Cost Function\n"
   ]
  },
  {
   "cell_type": "markdown",
   "id": "2316fefc",
   "metadata": {},
   "source": [
    "### Example of Partial Derivative\n",
    "<img src=\"partial_derivative_ex.png\" height=\"500\" width=\"450\" align=\"left\">"
   ]
  },
  {
   "cell_type": "markdown",
   "id": "b042d000",
   "metadata": {},
   "source": [
    "### Steps to perform Gradient Descent\n",
    "\n",
    "1) Compute Loss Function<br>\n",
    "a) Find the difference between the actual y and predicted y value(y = mx + c), for a given x.<br>\n",
    "b) Square this difference.<br>\n",
    "c) Find the mean of the squares for every value in X.<br>\n",
    "\n",
    "<img src=\"cost_fun.png\" height=\"150\" width=\"250\">\n",
    "<img src=\"cost_fun2.png\" height=\"150\" width=\"250\">\n",
    "\n",
    "<b>over here $ \\bar{y}_{i} $ is the ypred and not y_mean </b>\n",
    "\n",
    "2) Initially let m = 0 and c = 0. Let L be our learning rate. This controls how much the value of m changes with each step. L could be a small value like 0.0001 for good performance.<br>\n",
    "\n",
    "3) Calculate the partial derivative of the loss function with respect to m, and plug in the current values of x, y, m and c in it to obtain the derivative value D.\n",
    "\n",
    "where $ {D}_{m} $ is the value of the partial derivative with respect to m\n",
    "and $ {D}_{c} $ is the value of the partial derivative with respect to c\n",
    "<img src=\"cost_fun2.png\" height=\"150\" width=\"250\">\n",
    "<img src=\"cost_fun_der1.png\" height=\"250\" width=\"350\">\n",
    "<img src=\"cost_fun_der2.png\" height=\"150\" width=\"250\">\n",
    "\n",
    "<br>\n",
    "4) Now we update the current value of m and c using the following equation:\n",
    "\n",
    "<img src=\"cost_fun_m_c_update.png\" height=\"150\" width=\"250\">\n",
    "\n",
    "5) We repeat this process until our loss function is a very small value or ideally 0 (which means 0 error or 100% accuracy). The value of m and c that we are left with now will be the optimum values."
   ]
  },
  {
   "cell_type": "code",
   "execution_count": null,
   "id": "85f8aa78",
   "metadata": {},
   "outputs": [],
   "source": [
    "# Assuming \n",
    "# m=0.5,c=0\n",
    "\n",
    "# Iteration1\n",
    "# ypred = mx +c\n",
    "# MSE = (1/n)*sum((yi-ypred)**2)\n",
    "# m_grad = dm = (-2/n)*sum(xi*(yi-ypred))\n",
    "# c_grad = dc = (-2/n)*sum((yi-ypred))\n",
    "# m_new = m_old - L*m_grad\n",
    "# c_new = c_old - L*c_grad\n",
    "\n",
    "# Iteration 2\n",
    "# m = m_new, c= c_new\n",
    "# ypred = (m_new)*x + c_new\n",
    "# MSE = (1/n)*sum((yi-ypred)**2)\n",
    "# m_grad = dm = (-2/n)*sum(xi*(yi-ypred))\n",
    "# c_grad = dc = (-2/n)*sum((yi-ypred))\n",
    "# m_new = m_old - L*m_grad\n",
    "# c_new = c_old - L*c_grad"
   ]
  },
  {
   "cell_type": "markdown",
   "id": "bdf1c142",
   "metadata": {},
   "source": [
    "### Learning Rate\n",
    "There’s an important parameter L which scales the gradient and thus controls the step size. \n",
    "In machine learning, it is called learning rate and have a strong influence on performance.<br>\n",
    "\n",
    "a) The smaller learning rate the longer GD converges, or may reach maximum iteration before reaching the optimum point<br>\n",
    "b) If learning rate is too big the algorithm may not converge to the optimal point (jump around) or even to diverge completely.<br>\n",
    "\n",
    "<img src=\"lr_impact.png\" height=\"300\" width=\"350\">"
   ]
  },
  {
   "cell_type": "code",
   "execution_count": 1,
   "id": "c3e59282",
   "metadata": {},
   "outputs": [],
   "source": [
    "import pandas as pd\n",
    "import numpy as np\n",
    "import matplotlib.pyplot as plt"
   ]
  },
  {
   "cell_type": "code",
   "execution_count": 4,
   "id": "d2cb5780",
   "metadata": {},
   "outputs": [
    {
     "data": {
      "text/html": [
       "<div>\n",
       "<style scoped>\n",
       "    .dataframe tbody tr th:only-of-type {\n",
       "        vertical-align: middle;\n",
       "    }\n",
       "\n",
       "    .dataframe tbody tr th {\n",
       "        vertical-align: top;\n",
       "    }\n",
       "\n",
       "    .dataframe thead th {\n",
       "        text-align: right;\n",
       "    }\n",
       "</style>\n",
       "<table border=\"1\" class=\"dataframe\">\n",
       "  <thead>\n",
       "    <tr style=\"text-align: right;\">\n",
       "      <th></th>\n",
       "      <th>x</th>\n",
       "      <th>y</th>\n",
       "    </tr>\n",
       "  </thead>\n",
       "  <tbody>\n",
       "    <tr>\n",
       "      <th>0</th>\n",
       "      <td>32.502345</td>\n",
       "      <td>31.707006</td>\n",
       "    </tr>\n",
       "    <tr>\n",
       "      <th>1</th>\n",
       "      <td>53.426804</td>\n",
       "      <td>68.777596</td>\n",
       "    </tr>\n",
       "    <tr>\n",
       "      <th>2</th>\n",
       "      <td>61.530358</td>\n",
       "      <td>62.562382</td>\n",
       "    </tr>\n",
       "    <tr>\n",
       "      <th>3</th>\n",
       "      <td>47.475640</td>\n",
       "      <td>71.546632</td>\n",
       "    </tr>\n",
       "    <tr>\n",
       "      <th>4</th>\n",
       "      <td>59.813208</td>\n",
       "      <td>87.230925</td>\n",
       "    </tr>\n",
       "  </tbody>\n",
       "</table>\n",
       "</div>"
      ],
      "text/plain": [
       "           x          y\n",
       "0  32.502345  31.707006\n",
       "1  53.426804  68.777596\n",
       "2  61.530358  62.562382\n",
       "3  47.475640  71.546632\n",
       "4  59.813208  87.230925"
      ]
     },
     "execution_count": 4,
     "metadata": {},
     "output_type": "execute_result"
    }
   ],
   "source": [
    "df = pd.read_csv('gd_data.csv')\n",
    "df.columns = ['x','y']\n",
    "df.head()"
   ]
  },
  {
   "cell_type": "markdown",
   "id": "1df02645",
   "metadata": {},
   "source": [
    "#### Q) Create a function to compute MSE (Cost Function) for y based on x using different values of m. \n",
    "Consider ypred = m*x<br>\n",
    "Consider different m = [0,0.5,1,1.5,2,2.5,3]\n",
    "\n",
    "Plot the coefficients vs mse(cost function) on a scatter chart"
   ]
  },
  {
   "cell_type": "code",
   "execution_count": 5,
   "id": "277467a7",
   "metadata": {},
   "outputs": [
    {
     "name": "stdout",
     "output_type": "stream",
     "text": [
      "[5565.107834490552, 2502.4966449527496, 685.3660499598649, 113.716049511901, 787.5466436088572, 2706.8578322507324, 5871.649615437525]\n"
     ]
    }
   ],
   "source": [
    "def cost_fun(m):\n",
    "    df['ypred'] = m*df['x']\n",
    "    df['SSE'] = (df['y'] - df['ypred'])**2\n",
    "    mse = np.mean(df['SSE'])\n",
    "    return mse\n",
    "\n",
    "m =  [0,0.5,1,1.5,2,2.5,3]   \n",
    "mse_list = []\n",
    "for i in m:\n",
    "    mse_list.append(cost_fun(i))\n",
    "print(mse_list)"
   ]
  },
  {
   "cell_type": "code",
   "execution_count": 9,
   "id": "e2c242f6",
   "metadata": {},
   "outputs": [
    {
     "data": {
      "image/png": "[encoded data removed]",
      "text/plain": [
       "<Figure size 432x288 with 1 Axes>"
      ]
     },
     "metadata": {
      "needs_background": "light"
     },
     "output_type": "display_data"
    }
   ],
   "source": [
    "plt.plot(weights,mse_list,marker='*',color='brown')\n",
    "plt.xlabel('Weights')\n",
    "plt.ylabel('Cost_Function or MSE')\n",
    "plt.show()"
   ]
  },
  {
   "cell_type": "markdown",
   "id": "68e52c15",
   "metadata": {},
   "source": [
    "### Performance of Gradient Descent\n",
    "\n",
    "<img src=\"performance_of_grad_desc.png\" height=\"300\" width=\"450\" align=\"left\">"
   ]
  },
  {
   "cell_type": "code",
   "execution_count": 10,
   "id": "702b2c45",
   "metadata": {},
   "outputs": [
    {
     "data": {
      "text/html": [
       "<div>\n",
       "<style scoped>\n",
       "    .dataframe tbody tr th:only-of-type {\n",
       "        vertical-align: middle;\n",
       "    }\n",
       "\n",
       "    .dataframe tbody tr th {\n",
       "        vertical-align: top;\n",
       "    }\n",
       "\n",
       "    .dataframe thead th {\n",
       "        text-align: right;\n",
       "    }\n",
       "</style>\n",
       "<table border=\"1\" class=\"dataframe\">\n",
       "  <thead>\n",
       "    <tr style=\"text-align: right;\">\n",
       "      <th></th>\n",
       "      <th>x</th>\n",
       "      <th>y</th>\n",
       "      <th>ypred</th>\n",
       "      <th>SSE</th>\n",
       "    </tr>\n",
       "  </thead>\n",
       "  <tbody>\n",
       "    <tr>\n",
       "      <th>0</th>\n",
       "      <td>32.502345</td>\n",
       "      <td>31.707006</td>\n",
       "      <td>97.507036</td>\n",
       "      <td>4329.643943</td>\n",
       "    </tr>\n",
       "    <tr>\n",
       "      <th>1</th>\n",
       "      <td>53.426804</td>\n",
       "      <td>68.777596</td>\n",
       "      <td>160.280412</td>\n",
       "      <td>8372.765356</td>\n",
       "    </tr>\n",
       "    <tr>\n",
       "      <th>2</th>\n",
       "      <td>61.530358</td>\n",
       "      <td>62.562382</td>\n",
       "      <td>184.591074</td>\n",
       "      <td>14891.001620</td>\n",
       "    </tr>\n",
       "    <tr>\n",
       "      <th>3</th>\n",
       "      <td>47.475640</td>\n",
       "      <td>71.546632</td>\n",
       "      <td>142.426919</td>\n",
       "      <td>5024.015037</td>\n",
       "    </tr>\n",
       "    <tr>\n",
       "      <th>4</th>\n",
       "      <td>59.813208</td>\n",
       "      <td>87.230925</td>\n",
       "      <td>179.439624</td>\n",
       "      <td>8502.444075</td>\n",
       "    </tr>\n",
       "  </tbody>\n",
       "</table>\n",
       "</div>"
      ],
      "text/plain": [
       "           x          y       ypred           SSE\n",
       "0  32.502345  31.707006   97.507036   4329.643943\n",
       "1  53.426804  68.777596  160.280412   8372.765356\n",
       "2  61.530358  62.562382  184.591074  14891.001620\n",
       "3  47.475640  71.546632  142.426919   5024.015037\n",
       "4  59.813208  87.230925  179.439624   8502.444075"
      ]
     },
     "execution_count": 10,
     "metadata": {},
     "output_type": "execute_result"
    }
   ],
   "source": [
    "df.head()"
   ]
  },
  {
   "cell_type": "markdown",
   "id": "23e5e1c6",
   "metadata": {},
   "source": [
    "#### Gradient Descent without Library"
   ]
  },
  {
   "cell_type": "code",
   "execution_count": 11,
   "id": "5f826b1b",
   "metadata": {},
   "outputs": [
    {
     "name": "stdout",
     "output_type": "stream",
     "text": [
      "1.4774173755485427 0.029639347874941963\n"
     ]
    }
   ],
   "source": [
    "m,c = 0,0\n",
    "epochs = 10 # epochs = no of iterations\n",
    "L = 0.0001\n",
    "n = len(df['x'])\n",
    "\n",
    "for i in range(epochs):\n",
    "    ypred = m*df['x'] + c\n",
    "    cost = np.mean(df['y'] - ypred)\n",
    "    m_grad = (-2/n)*sum(df['x']*(df['y'] - ypred))\n",
    "    c_grad = (-2/n)*sum((df['y'] - ypred))\n",
    "    m = m - L*m_grad\n",
    "    c = c - L*c_grad\n",
    "\n",
    "print(m,c)"
   ]
  },
  {
   "cell_type": "code",
   "execution_count": null,
   "id": "01be6aa5",
   "metadata": {},
   "outputs": [],
   "source": [
    "# ypred_res = m*X + c"
   ]
  },
  {
   "cell_type": "markdown",
   "id": "b1133edc",
   "metadata": {},
   "source": [
    "### SGD (Stochastic Gradient Descent)\n",
    "1) In SGD, it uses only single sample to perform each iteration.<br>\n",
    "2) Sample is randomly shuffled and selected for performing iteration<br>\n",
    "3) SGD reaches convergence much faster than GD"
   ]
  },
  {
   "cell_type": "markdown",
   "id": "c7426abe",
   "metadata": {},
   "source": [
    "### SGDRegressor using Library"
   ]
  },
  {
   "cell_type": "code",
   "execution_count": 13,
   "id": "c496eff5",
   "metadata": {},
   "outputs": [
    {
     "name": "stdout",
     "output_type": "stream",
     "text": [
      "<class 'pandas.core.frame.DataFrame'>\n",
      "<class 'pandas.core.series.Series'>\n"
     ]
    }
   ],
   "source": [
    "x = df[['x']]\n",
    "y = df['y']\n",
    "print(type(x))\n",
    "print(type(y))"
   ]
  },
  {
   "cell_type": "code",
   "execution_count": 14,
   "id": "b152d667",
   "metadata": {},
   "outputs": [
    {
     "data": {
      "text/plain": [
       "SGDRegressor()"
      ]
     },
     "execution_count": 14,
     "metadata": {},
     "output_type": "execute_result"
    }
   ],
   "source": [
    "from sklearn.linear_model import SGDRegressor\n",
    "m1 = SGDRegressor()  # no_of_iterations = 1000, Learning_rate=0.01\n",
    "m1.fit(x,y)"
   ]
  },
  {
   "cell_type": "code",
   "execution_count": 15,
   "id": "129831e2",
   "metadata": {},
   "outputs": [
    {
     "name": "stdout",
     "output_type": "stream",
     "text": [
      "[3.97436672e+11 6.61207004e+11 7.63359091e+11 5.86187591e+11\n",
      " 7.41712974e+11 6.82830861e+11 6.45890818e+11 4.83121342e+11\n",
      " 5.94121731e+11 6.50154336e+11 5.60271130e+11 6.72865271e+11\n",
      " 5.44442223e+11 7.20979685e+11 7.02811361e+11 6.04847369e+11\n",
      " 5.51036926e+11 7.47815700e+11 5.62778603e+11 4.77035885e+11\n",
      " 8.22095469e+11 8.12341515e+11 5.86257793e+11 5.11813186e+11\n",
      " 6.41269395e+11 7.36136330e+11 7.10157985e+11 7.89644824e+11\n",
      " 5.76884228e+11 6.25027696e+11 6.46044602e+11 4.36079676e+11\n",
      " 5.22664724e+11 7.20930136e+11 7.12609117e+11 5.60533338e+11\n",
      " 7.67971121e+11 4.04892854e+11 4.47023805e+11 4.62650573e+11\n",
      " 5.49378151e+11 5.33780623e+11 6.18931330e+11 5.40743206e+11\n",
      " 7.81853401e+11 3.99538046e+11 4.94054793e+11 6.63076115e+11\n",
      " 4.14604180e+11 8.03405072e+11 4.68249698e+11 5.48709155e+11\n",
      " 4.99508574e+11 5.13641458e+11 6.31732420e+11 6.82022921e+11\n",
      " 5.09318288e+11 7.75515397e+11 6.07973604e+11 5.05851161e+11\n",
      " 5.06851194e+11 6.20358864e+11 6.47991575e+11 6.19717176e+11\n",
      " 4.11837086e+11 4.86377865e+11 6.95287955e+11 7.10814103e+11\n",
      " 7.47461318e+11 4.37469644e+11 3.85912059e+11 6.64158386e+11\n",
      " 5.76185981e+11 5.31127568e+11 8.74488596e+11 5.48587103e+11\n",
      " 7.12610197e+11 4.53251935e+11 6.91195401e+11 4.78774879e+11\n",
      " 7.05004861e+11 7.04597515e+11 4.20515180e+11 7.32088837e+11\n",
      " 7.16186356e+11 6.71991609e+11 6.31733495e+11 6.21574657e+11\n",
      " 5.45043424e+11 4.66808396e+11 4.02959727e+11 6.64545478e+11\n",
      " 8.54567069e+11 5.70497444e+11 8.48940158e+11 6.18389641e+11\n",
      " 6.08425873e+11 6.18508156e+11 5.94686690e+11 3.04482982e+11]\n"
     ]
    }
   ],
   "source": [
    "ypred_m1 = m1.predict(x)\n",
    "print(ypred_m1)"
   ]
  },
  {
   "cell_type": "code",
   "execution_count": null,
   "id": "43f702cb",
   "metadata": {},
   "outputs": [],
   "source": [
    "# Regularization\n"
   ]
  },
  {
   "cell_type": "code",
   "execution_count": null,
   "id": "3610c251",
   "metadata": {},
   "outputs": [],
   "source": []
  }
 ],
 "metadata": {
  "kernelspec": {
   "display_name": "Python 3",
   "language": "python",
   "name": "python3"
  },
  "language_info": {
   "codemirror_mode": {
    "name": "ipython",
    "version": 3
   },
   "file_extension": ".py",
   "mimetype": "text/x-python",
   "name": "python",
   "nbconvert_exporter": "python",
   "pygments_lexer": "ipython3",
   "version": "3.8.8"
  }
 },
 "nbformat": 4,
 "nbformat_minor": 5
}
