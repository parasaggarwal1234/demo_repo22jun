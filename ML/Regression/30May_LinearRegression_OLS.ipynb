{
 "cells": [
  {
   "cell_type": "code",
   "execution_count": null,
   "id": "81922bd2",
   "metadata": {},
   "outputs": [],
   "source": [
    "# Simple Linear Reg -> 1 dependent var - 1 independent var\n",
    "# Multiple Linear Reg -> 1 dependent var - multiple independent var\n",
    "\n",
    "# sklearn.linear_model import LinearRegression"
   ]
  },
  {
   "cell_type": "markdown",
   "id": "c8e77381",
   "metadata": {},
   "source": [
    "### Assumptions of Multiple Linear Regression\n",
    "\n",
    "1) Linearity<br>\n",
    "2) No Multicollinearlity<br>\n",
    "3) No Autocorrelation<br>\n",
    "4) Homoscedasticity (No Hetroscedasticity)<br>\n",
    "5) Data is normally distributed<br>\n",
    "6) No missing values<br>\n",
    "7) No Outliers<br>"
   ]
  },
  {
   "cell_type": "markdown",
   "id": "aaf41d03",
   "metadata": {},
   "source": [
    "### 1) Linearity\n",
    "\n",
    "a) All independent variables should have a linear relationship with dependent variables<br>\n",
    "b) <b>How to check linearity</b><br>\n",
    "i) Plot the scatter chart between the independent variable and dependent varibale <br>\n",
    "ii) Pairplot<br>\n",
    "c) <b>What to do if this assumption is violated</b><br>\n",
    "i) Apply a nonlinear transformation to the independent and/or dependent variable. Common examples include taking the log, the square root, or the reciprocal of the independent and/or dependent variable.\n"
   ]
  },
  {
   "cell_type": "code",
   "execution_count": null,
   "id": "96a8b063",
   "metadata": {},
   "outputs": [],
   "source": []
  },
  {
   "cell_type": "markdown",
   "id": "a96d5bd8",
   "metadata": {},
   "source": [
    "### 2) No Multicollinearity\n",
    "1) The independent variables should not be correlated. Absence of this phenomenon is known as multicollinearity.<br>\n",
    "2) This phenomenon exists when the independent variables are found to be moderately or highly correlated. In a model with correlated variables, it becomes a tough task to figure out the true relationship of a predictors with response variable. In other words, it becomes difficult to find out which variable is actually contributing to predict the response variable.<br>\n",
    "\n",
    "3) <b>How to Check Multicollinearity</b><br>\n",
    "a) You can use scatter plot to visualize correlation effect among variables.<br>\n",
    "b) Use VIF factor. VIF value <= 4 suggests no multicollinearity whereas a value of >= 10 implies serious multicollinearity. VIF = Variance Inflation Factor.<br> \n",
    "c) VIF - Measures how much the variance of estimated Regression coefficient increases if your predictors are correlated. If variance increases, model is not relaible<br>\n",
    "d) A correlation table should also solve the purpose.<br>\n",
    "e) <b>VIF = 1/(1-R_squared)</b>\n"
   ]
  },
  {
   "cell_type": "markdown",
   "id": "32e7096f",
   "metadata": {},
   "source": [
    "### 3) Homoscedasticity (No Hetroscedasticity)\n",
    "1) The presence of non-constant variance in the error terms results in heteroskedasticity. Generally, non-constant variance arises in presence of outliers <br>\n",
    "2) Under Linear Reg it is assumed that the variance in erros is constant (Homoscedasticity)<br>\n",
    "2) <b>How to check</b><br>\n",
    "a) Breusch-Pagan Test<br>\n",
    "b) Goldfeld Quant Test\n",
    "\n",
    "<img src=\"homoscedasticity.png\" height=\"200\" width=\"400\">"
   ]
  },
  {
   "cell_type": "markdown",
   "id": "bfe50881",
   "metadata": {},
   "source": [
    "### 4) No Autocorrelation\n",
    "1) The presence of correlation in error terms drastically reduces model’s accuracy. This usually occurs in time series models where the next instant is dependent on previous instant. If the error terms are correlated, the estimated standard errors tend to underestimate the true standard error.<br>\n",
    "2) Errors are assumed to be randomly spread across error lines<br>\n",
    "2) Autocorrelation measures relationship between a variable's present value and its past value.\n",
    "\n",
    "3) <b>How to Check</b><br>\n",
    "a) Durbin Watson test<br>"
   ]
  },
  {
   "cell_type": "markdown",
   "id": "dbbab099",
   "metadata": {},
   "source": [
    "### 5) Data is Normally Distributed\n",
    "If data is not normally distributed then, we can apply thes transformations\n",
    "1) log<br>\n",
    "2) exp<br>\n",
    "3) 1/log<br>\n",
    "\n",
    "Test for Normality\n",
    "1) Jarquee-Bera test<br>\n",
    "2) Shapiro Wilk Test<br>\n",
    "\n",
    "#### 6) No missing values.\n",
    "#### 7) No Outliers"
   ]
  },
  {
   "cell_type": "markdown",
   "id": "824134cc",
   "metadata": {},
   "source": [
    "#### Detection/Test of Multicollinearity\n",
    "1) VIF (Variance Inflation Factor)<br>\n",
    "2) Correlation Table\n",
    "\n",
    "#### Test of Hetroscedasticity\n",
    "1) Breusch Pagan Test<br>\n",
    "2) Goldfeld Quandt Test\n",
    "\n",
    "#### Test for Autocorrletion\n",
    "1) Durbin Watson Test\n",
    "\n",
    "#### Test for Normality\n",
    "1) Shapiro-Wilk Test<br>\n",
    "2) Jarquee-Bera Test\n",
    "\n",
    "#### Detection of Linearity\n",
    "1) Pairplot<br>\n",
    "2) Scatter Chart"
   ]
  },
  {
   "cell_type": "code",
   "execution_count": null,
   "id": "59cc1e21",
   "metadata": {},
   "outputs": [],
   "source": []
  },
  {
   "cell_type": "code",
   "execution_count": null,
   "id": "8aaa91e8",
   "metadata": {},
   "outputs": [],
   "source": []
  },
  {
   "cell_type": "markdown",
   "id": "081a34ea",
   "metadata": {},
   "source": [
    "### OLS Model (Ordinary Least Square) \n",
    "This method aims to minimize SSE (Sum of Square Error)"
   ]
  },
  {
   "cell_type": "markdown",
   "id": "2a6bec3c",
   "metadata": {},
   "source": [
    "#### Least Square Linear Regression\n",
    "ypred = mx + c<br>\n",
    "Error = (y1 - ypred1)^2 + (y2 - ypred2)^2 (y3 - ypred3)^2 + ....  + (yn - ypredn)^2\n",
    "\n",
    "SSE = Sum(yi - ypredi)^2\n",
    "\n",
    "<img src=\"cost_fun.png\" height=\"150\" width=\"250\">\n",
    "<img src=\"cost_fun2.png\" height=\"150\" width=\"250\">\n"
   ]
  },
  {
   "cell_type": "markdown",
   "id": "fe426363",
   "metadata": {},
   "source": [
    "To minimize the error, first order derivative should be equal to zero\n",
    "Solving the Equation we get<br>\n",
    "<img src=\"mc_linreg_ols.png\">"
   ]
  },
  {
   "cell_type": "markdown",
   "id": "8fa45dd4",
   "metadata": {},
   "source": [
    "### Decomposition Variablity\n",
    "It deals with determinants for a good regression model\n",
    "1) SSE<br>\n",
    "2) SSR<br>\n",
    "3) SST<br>\n",
    "4) R2 Score<br>\n",
    "5) Adjusted R2 Score<br>\n",
    "6) AIC <br>\n",
    "7) BIC <br>"
   ]
  },
  {
   "cell_type": "markdown",
   "id": "522160c2",
   "metadata": {},
   "source": [
    "#### Can R2 be negative\n",
    "<img src=\"r2_negative.png\">"
   ]
  },
  {
   "cell_type": "markdown",
   "id": "4509ab8d",
   "metadata": {},
   "source": [
    "### Adjusted R2 Score\n",
    "1)\tIt measures the proportion of variation explained by only those independent variables that really help in explaining the dependent variable. It penalizes you for adding independent variable that don’t help in predicting dependent variable.<br>\n",
    "2)\tThe Adjusted R-squared takes into account the number of independent variables used for predicting the target variable. In doing so, we can determine whether adding new variables to the model actually increases the model fit.<br>\n",
    "3)\tAdjusted R-squared is positive, not negative. It is always lower than the R-squared.\n",
    "<img src=\"adjusted_r2.png\">\n",
    "\n",
    "where<br>\n",
    "n represents the number of data points in our dataset<br>\n",
    "k represents the number of independent variables<br>\n",
    "R represents the R-squared values determined by the model.<br>\n",
    "\n",
    "<img src=\"adjusted_r2_theory.png\" heighgt=\"200\" width=\"350\" align=\"left\">"
   ]
  },
  {
   "cell_type": "markdown",
   "id": "2d284958",
   "metadata": {},
   "source": [
    "### AIC (Akaike Information Criteia)\n",
    "<img src=\"aic.png\" align=\"left\" height=\"250\" width=\"400\">"
   ]
  },
  {
   "cell_type": "markdown",
   "id": "af418892",
   "metadata": {},
   "source": [
    "### BIC (Bayesian Information Criteia)\n",
    "<img src=\"bic.png\" align=\"left\" height=\"300\" width=\"400\">"
   ]
  },
  {
   "cell_type": "code",
   "execution_count": 36,
   "id": "11772811",
   "metadata": {},
   "outputs": [],
   "source": [
    "import numpy as np\n",
    "import pandas as pd\n",
    "from sklearn.metrics import r2_score\n",
    "from sklearn.linear_model import LinearRegression"
   ]
  },
  {
   "cell_type": "code",
   "execution_count": 61,
   "id": "fce1f0b3",
   "metadata": {},
   "outputs": [
    {
     "data": {
      "text/html": [
       "<div>\n",
       "<style scoped>\n",
       "    .dataframe tbody tr th:only-of-type {\n",
       "        vertical-align: middle;\n",
       "    }\n",
       "\n",
       "    .dataframe tbody tr th {\n",
       "        vertical-align: top;\n",
       "    }\n",
       "\n",
       "    .dataframe thead th {\n",
       "        text-align: right;\n",
       "    }\n",
       "</style>\n",
       "<table border=\"1\" class=\"dataframe\">\n",
       "  <thead>\n",
       "    <tr style=\"text-align: right;\">\n",
       "      <th></th>\n",
       "      <th>a</th>\n",
       "      <th>y</th>\n",
       "    </tr>\n",
       "  </thead>\n",
       "  <tbody>\n",
       "    <tr>\n",
       "      <th>0</th>\n",
       "      <td>20</td>\n",
       "      <td>41</td>\n",
       "    </tr>\n",
       "    <tr>\n",
       "      <th>1</th>\n",
       "      <td>30</td>\n",
       "      <td>63</td>\n",
       "    </tr>\n",
       "    <tr>\n",
       "      <th>2</th>\n",
       "      <td>25</td>\n",
       "      <td>51</td>\n",
       "    </tr>\n",
       "    <tr>\n",
       "      <th>3</th>\n",
       "      <td>17</td>\n",
       "      <td>39</td>\n",
       "    </tr>\n",
       "    <tr>\n",
       "      <th>4</th>\n",
       "      <td>36</td>\n",
       "      <td>78</td>\n",
       "    </tr>\n",
       "  </tbody>\n",
       "</table>\n",
       "</div>"
      ],
      "text/plain": [
       "    a   y\n",
       "0  20  41\n",
       "1  30  63\n",
       "2  25  51\n",
       "3  17  39\n",
       "4  36  78"
      ]
     },
     "execution_count": 61,
     "metadata": {},
     "output_type": "execute_result"
    }
   ],
   "source": [
    "a = [20,30,25,17,36,40,46,55,52,27,50,33,42,21,48,37]\n",
    "b = [41,63,51,39,78,75,87,98,102,60,101,70,86,47,90,69]\n",
    "\n",
    "df = pd.DataFrame({'a':a,'y':b})\n",
    "df.head()"
   ]
  },
  {
   "cell_type": "code",
   "execution_count": 62,
   "id": "9ab8a8d9",
   "metadata": {},
   "outputs": [
    {
     "name": "stdout",
     "output_type": "stream",
     "text": [
      "<class 'pandas.core.frame.DataFrame'>\n",
      "<class 'pandas.core.series.Series'>\n",
      "(16, 1)\n",
      "(16,)\n"
     ]
    }
   ],
   "source": [
    "x = df[['a']]  \n",
    "y = df['y']\n",
    "print(type(x))\n",
    "print(type(y))\n",
    "print(x.shape)\n",
    "print(y.shape)"
   ]
  },
  {
   "cell_type": "markdown",
   "id": "280ee498",
   "metadata": {},
   "source": [
    "### Implementation of OLS"
   ]
  },
  {
   "cell_type": "code",
   "execution_count": 63,
   "id": "5c32c2d9",
   "metadata": {},
   "outputs": [],
   "source": [
    "import statsmodels.api as sm"
   ]
  },
  {
   "cell_type": "code",
   "execution_count": 65,
   "id": "6e29d51b",
   "metadata": {},
   "outputs": [
    {
     "name": "stdout",
     "output_type": "stream",
     "text": [
      "                            OLS Regression Results                            \n",
      "==============================================================================\n",
      "Dep. Variable:                      y   R-squared:                       0.967\n",
      "Model:                            OLS   Adj. R-squared:                  0.965\n",
      "Method:                 Least Squares   F-statistic:                     415.7\n",
      "Date:                Mon, 30 May 2022   Prob (F-statistic):           8.28e-12\n",
      "Time:                        10:43:22   Log-Likelihood:                -43.439\n",
      "No. Observations:                  16   AIC:                             90.88\n",
      "Df Residuals:                      14   BIC:                             92.42\n",
      "Df Model:                           1                                         \n",
      "Covariance Type:            nonrobust                                         \n",
      "==============================================================================\n",
      "                 coef    std err          t      P>|t|      [0.025      0.975]\n",
      "------------------------------------------------------------------------------\n",
      "const         10.8313      3.170      3.417      0.004       4.033      17.630\n",
      "a              1.6990      0.083     20.389      0.000       1.520       1.878\n",
      "==============================================================================\n",
      "Omnibus:                        2.207   Durbin-Watson:                   1.493\n",
      "Prob(Omnibus):                  0.332   Jarque-Bera (JB):                1.005\n",
      "Skew:                           0.013   Prob(JB):                        0.605\n",
      "Kurtosis:                       1.773   Cond. No.                         124.\n",
      "==============================================================================\n",
      "\n",
      "Notes:\n",
      "[1] Standard Errors assume that the covariance matrix of the errors is correctly specified.\n"
     ]
    },
    {
     "name": "stderr",
     "output_type": "stream",
     "text": [
      "C:\\Users\\Dell\\anaconda3\\lib\\site-packages\\scipy\\stats\\_stats_py.py:1477: UserWarning: kurtosistest only valid for n>=20 ... continuing anyway, n=16\n",
      "  warnings.warn(\"kurtosistest only valid for n>=20 ... continuing \"\n"
     ]
    }
   ],
   "source": [
    "x = sm.add_constant(x)\n",
    "\n",
    "result = sm.OLS(y, x).fit()\n",
    " \n",
    "print(result.summary())"
   ]
  },
  {
   "cell_type": "markdown",
   "id": "ee18595b",
   "metadata": {},
   "source": [
    "Interpreting Results\n",
    "\n",
    "1) R-squared : the coefficient of determination. It is the proportion of the variance in the dependent variable that is predictable/explained\n",
    "\n",
    "2) Adj. R-squared : Adjusted R-squared is the modified form of R-squared adjusted for the number of independent variables in the model. Value of adj. R-squared increases, when we include extra variables which actually improve the model.\n",
    "\n",
    "3) F-statistic : the ratio of mean squared error of the model to the mean squared error of residuals. It determines the overall significance of the model.\n",
    "\n",
    "4) coef : the coefficients of the independent variables and the constant term in the equation.\n",
    "\n",
    "5) t : the value of t-statistic. It is the ratio of the difference between the estimated and hypothesized value of a parameter, to the standard error"
   ]
  },
  {
   "cell_type": "code",
   "execution_count": 66,
   "id": "56ccd5dd",
   "metadata": {},
   "outputs": [
    {
     "name": "stdout",
     "output_type": "stream",
     "text": [
      "0.9646428571428571\n"
     ]
    }
   ],
   "source": [
    "# Calculation of Adjusted R2_score\n",
    "n = 16\n",
    "k = 1\n",
    "adj_r2 = 1 - ((1-0.967)*(n-1)/(n-k-1))\n",
    "print(adj_r2)"
   ]
  },
  {
   "cell_type": "markdown",
   "id": "0b63386d",
   "metadata": {},
   "source": [
    "#### Generating Predictions"
   ]
  },
  {
   "cell_type": "code",
   "execution_count": 53,
   "id": "c244066c",
   "metadata": {},
   "outputs": [
    {
     "data": {
      "text/plain": [
       "0      44.810547\n",
       "1      61.800171\n",
       "2      53.305359\n",
       "3      39.713660\n",
       "4      71.993945\n",
       "5      78.789794\n",
       "6      88.983568\n",
       "7     104.274229\n",
       "8      99.177342\n",
       "9      56.703284\n",
       "10     95.779417\n",
       "11     66.897058\n",
       "12     82.187719\n",
       "13     46.509510\n",
       "14     92.381493\n",
       "15     73.692907\n",
       "dtype: float64"
      ]
     },
     "execution_count": 53,
     "metadata": {},
     "output_type": "execute_result"
    }
   ],
   "source": [
    "ypred_ols = result.predict(x)\n",
    "ypred_ols"
   ]
  },
  {
   "cell_type": "markdown",
   "id": "2de4606a",
   "metadata": {},
   "source": [
    "### Linear Regreesion using sklearn"
   ]
  },
  {
   "cell_type": "code",
   "execution_count": 57,
   "id": "5369e824",
   "metadata": {},
   "outputs": [
    {
     "name": "stdout",
     "output_type": "stream",
     "text": [
      "(16, 1)\n",
      "(16,)\n"
     ]
    }
   ],
   "source": [
    "x = df[['a']]\n",
    "y = df['y']\n",
    "print(x.shape)\n",
    "print(y.shape)"
   ]
  },
  {
   "cell_type": "code",
   "execution_count": 59,
   "id": "134c335e",
   "metadata": {},
   "outputs": [
    {
     "name": "stdout",
     "output_type": "stream",
     "text": [
      "0.9674199185802056\n"
     ]
    }
   ],
   "source": [
    "model = LinearRegression()\n",
    "model.fit(x,y)\n",
    "print(model.score(x,y))"
   ]
  },
  {
   "cell_type": "code",
   "execution_count": 60,
   "id": "dbd078cb",
   "metadata": {},
   "outputs": [
    {
     "name": "stdout",
     "output_type": "stream",
     "text": [
      "Coefficient or Slope [1.69896233]\n",
      "Intercept or Constant 10.831300639658856\n"
     ]
    }
   ],
   "source": [
    "# Y_pred = mx + c\n",
    "m = model.coef_\n",
    "c = model.intercept_\n",
    "print('Coefficient or Slope',m)\n",
    "print('Intercept or Constant',c)"
   ]
  },
  {
   "cell_type": "markdown",
   "id": "64cbbbe0",
   "metadata": {},
   "source": [
    "#### Example - 2"
   ]
  },
  {
   "cell_type": "code",
   "execution_count": 71,
   "id": "c1935dfc",
   "metadata": {},
   "outputs": [
    {
     "data": {
      "text/html": [
       "<div>\n",
       "<style scoped>\n",
       "    .dataframe tbody tr th:only-of-type {\n",
       "        vertical-align: middle;\n",
       "    }\n",
       "\n",
       "    .dataframe tbody tr th {\n",
       "        vertical-align: top;\n",
       "    }\n",
       "\n",
       "    .dataframe thead th {\n",
       "        text-align: right;\n",
       "    }\n",
       "</style>\n",
       "<table border=\"1\" class=\"dataframe\">\n",
       "  <thead>\n",
       "    <tr style=\"text-align: right;\">\n",
       "      <th></th>\n",
       "      <th>Year</th>\n",
       "      <th>Month</th>\n",
       "      <th>Interest_Rate</th>\n",
       "      <th>Unemployment_Rate</th>\n",
       "      <th>Stock_Index_Price</th>\n",
       "    </tr>\n",
       "  </thead>\n",
       "  <tbody>\n",
       "    <tr>\n",
       "      <th>0</th>\n",
       "      <td>2017</td>\n",
       "      <td>12</td>\n",
       "      <td>2.75</td>\n",
       "      <td>5.3</td>\n",
       "      <td>1464</td>\n",
       "    </tr>\n",
       "    <tr>\n",
       "      <th>1</th>\n",
       "      <td>2017</td>\n",
       "      <td>11</td>\n",
       "      <td>2.50</td>\n",
       "      <td>5.3</td>\n",
       "      <td>1394</td>\n",
       "    </tr>\n",
       "    <tr>\n",
       "      <th>2</th>\n",
       "      <td>2017</td>\n",
       "      <td>10</td>\n",
       "      <td>2.50</td>\n",
       "      <td>5.3</td>\n",
       "      <td>1357</td>\n",
       "    </tr>\n",
       "    <tr>\n",
       "      <th>3</th>\n",
       "      <td>2017</td>\n",
       "      <td>9</td>\n",
       "      <td>2.50</td>\n",
       "      <td>5.3</td>\n",
       "      <td>1293</td>\n",
       "    </tr>\n",
       "    <tr>\n",
       "      <th>4</th>\n",
       "      <td>2017</td>\n",
       "      <td>8</td>\n",
       "      <td>2.50</td>\n",
       "      <td>5.4</td>\n",
       "      <td>1256</td>\n",
       "    </tr>\n",
       "  </tbody>\n",
       "</table>\n",
       "</div>"
      ],
      "text/plain": [
       "   Year  Month  Interest_Rate  Unemployment_Rate  Stock_Index_Price\n",
       "0  2017     12           2.75                5.3               1464\n",
       "1  2017     11           2.50                5.3               1394\n",
       "2  2017     10           2.50                5.3               1357\n",
       "3  2017      9           2.50                5.3               1293\n",
       "4  2017      8           2.50                5.4               1256"
      ]
     },
     "execution_count": 71,
     "metadata": {},
     "output_type": "execute_result"
    }
   ],
   "source": [
    "Stock_Market = {'Year': [2017,2017,2017,2017,2017,2017,2017,2017,2017,2017,2017,2017,2016,2016,2016,2016,2016,2016,2016,2016,2016,2016,2016,2016],\n",
    "                'Month': [12, 11,10,9,8,7,6,5,4,3,2,1,12,11,10,9,8,7,6,5,4,3,2,1],\n",
    "                'Interest_Rate': [2.75,2.5,2.5,2.5,2.5,2.5,2.5,2.25,2.25,2.25,2,2,2,1.75,1.75,1.75,1.75,1.75,1.75,1.75,1.75,1.75,1.75,1.75],\n",
    "                'Unemployment_Rate': [5.3,5.3,5.3,5.3,5.4,5.6,5.5,5.5,5.5,5.6,5.7,5.9,6,5.9,5.8,6.1,6.2,6.1,6.1,6.1,5.9,6.2,6.2,6.1],\n",
    "                'Stock_Index_Price': [1464,1394,1357,1293,1256,1254,1234,1195,1159,1167,1130,1075,1047,965,943,958,971,949,884,866,876,822,704,719]        \n",
    "                }\n",
    "\n",
    "df1 = pd.DataFrame(Stock_Market,columns=['Year','Month','Interest_Rate','Unemployment_Rate','Stock_Index_Price']) \n",
    "df1.head()"
   ]
  },
  {
   "cell_type": "code",
   "execution_count": 70,
   "id": "b239a858",
   "metadata": {},
   "outputs": [
    {
     "data": {
      "text/plain": [
       "(24, 5)"
      ]
     },
     "execution_count": 70,
     "metadata": {},
     "output_type": "execute_result"
    }
   ],
   "source": [
    "df1.shape"
   ]
  },
  {
   "cell_type": "code",
   "execution_count": 74,
   "id": "8d4be1e5",
   "metadata": {},
   "outputs": [
    {
     "data": {
      "text/plain": [
       "Year                 0\n",
       "Month                0\n",
       "Interest_Rate        0\n",
       "Unemployment_Rate    0\n",
       "Stock_Index_Price    0\n",
       "dtype: int64"
      ]
     },
     "execution_count": 74,
     "metadata": {},
     "output_type": "execute_result"
    }
   ],
   "source": [
    "df1.isnull().sum()"
   ]
  },
  {
   "cell_type": "code",
   "execution_count": 73,
   "id": "5fb0b5ff",
   "metadata": {},
   "outputs": [
    {
     "data": {
      "text/plain": [
       "Year                   int64\n",
       "Month                  int64\n",
       "Interest_Rate        float64\n",
       "Unemployment_Rate    float64\n",
       "Stock_Index_Price      int64\n",
       "dtype: object"
      ]
     },
     "execution_count": 73,
     "metadata": {},
     "output_type": "execute_result"
    }
   ],
   "source": [
    "df1.dtypes"
   ]
  },
  {
   "cell_type": "markdown",
   "id": "f86f5576",
   "metadata": {},
   "source": [
    "#### Problem Statement - Based on Interest Rate,Unemployment rate, predict the Stock_Index_price using OLS model"
   ]
  },
  {
   "cell_type": "code",
   "execution_count": 75,
   "id": "f10be79e",
   "metadata": {},
   "outputs": [
    {
     "data": {
      "text/plain": [
       "Index(['Year', 'Month', 'Interest_Rate', 'Unemployment_Rate',\n",
       "       'Stock_Index_Price'],\n",
       "      dtype='object')"
      ]
     },
     "execution_count": 75,
     "metadata": {},
     "output_type": "execute_result"
    }
   ],
   "source": [
    "df1.columns"
   ]
  },
  {
   "cell_type": "code",
   "execution_count": 87,
   "id": "2bfcdb18",
   "metadata": {},
   "outputs": [
    {
     "name": "stdout",
     "output_type": "stream",
     "text": [
      "<class 'pandas.core.frame.DataFrame'>\n",
      "<class 'pandas.core.series.Series'>\n",
      "(24, 2)\n",
      "(24,)\n"
     ]
    }
   ],
   "source": [
    "x = df1.iloc[:,2:4]  # x = df1[['Interest_Rate','Unemployment_Rate']]\n",
    "y = df1.iloc[:,-1]   # y = df1['Stock_Index_Price']\n",
    "print(type(x))\n",
    "print(type(y))\n",
    "print(x.shape)\n",
    "print(y.shape)"
   ]
  },
  {
   "cell_type": "code",
   "execution_count": 88,
   "id": "448ac3c5",
   "metadata": {},
   "outputs": [
    {
     "data": {
      "text/html": [
       "<div>\n",
       "<style scoped>\n",
       "    .dataframe tbody tr th:only-of-type {\n",
       "        vertical-align: middle;\n",
       "    }\n",
       "\n",
       "    .dataframe tbody tr th {\n",
       "        vertical-align: top;\n",
       "    }\n",
       "\n",
       "    .dataframe thead th {\n",
       "        text-align: right;\n",
       "    }\n",
       "</style>\n",
       "<table border=\"1\" class=\"dataframe\">\n",
       "  <thead>\n",
       "    <tr style=\"text-align: right;\">\n",
       "      <th></th>\n",
       "      <th>Interest_Rate</th>\n",
       "      <th>Unemployment_Rate</th>\n",
       "    </tr>\n",
       "  </thead>\n",
       "  <tbody>\n",
       "    <tr>\n",
       "      <th>0</th>\n",
       "      <td>2.75</td>\n",
       "      <td>5.3</td>\n",
       "    </tr>\n",
       "    <tr>\n",
       "      <th>1</th>\n",
       "      <td>2.50</td>\n",
       "      <td>5.3</td>\n",
       "    </tr>\n",
       "    <tr>\n",
       "      <th>2</th>\n",
       "      <td>2.50</td>\n",
       "      <td>5.3</td>\n",
       "    </tr>\n",
       "    <tr>\n",
       "      <th>3</th>\n",
       "      <td>2.50</td>\n",
       "      <td>5.3</td>\n",
       "    </tr>\n",
       "    <tr>\n",
       "      <th>4</th>\n",
       "      <td>2.50</td>\n",
       "      <td>5.4</td>\n",
       "    </tr>\n",
       "  </tbody>\n",
       "</table>\n",
       "</div>"
      ],
      "text/plain": [
       "   Interest_Rate  Unemployment_Rate\n",
       "0           2.75                5.3\n",
       "1           2.50                5.3\n",
       "2           2.50                5.3\n",
       "3           2.50                5.3\n",
       "4           2.50                5.4"
      ]
     },
     "execution_count": 88,
     "metadata": {},
     "output_type": "execute_result"
    }
   ],
   "source": [
    "x.head()"
   ]
  },
  {
   "cell_type": "code",
   "execution_count": 89,
   "id": "d38678c0",
   "metadata": {},
   "outputs": [
    {
     "data": {
      "text/plain": [
       "0    1464\n",
       "1    1394\n",
       "2    1357\n",
       "3    1293\n",
       "4    1256\n",
       "Name: Stock_Index_Price, dtype: int64"
      ]
     },
     "execution_count": 89,
     "metadata": {},
     "output_type": "execute_result"
    }
   ],
   "source": [
    "y.head()"
   ]
  },
  {
   "cell_type": "code",
   "execution_count": 90,
   "id": "9e190ba3",
   "metadata": {},
   "outputs": [],
   "source": [
    "import statsmodels.api as sm"
   ]
  },
  {
   "cell_type": "code",
   "execution_count": 91,
   "id": "58f7a6eb",
   "metadata": {},
   "outputs": [
    {
     "name": "stdout",
     "output_type": "stream",
     "text": [
      "                            OLS Regression Results                            \n",
      "==============================================================================\n",
      "Dep. Variable:      Stock_Index_Price   R-squared:                       0.898\n",
      "Model:                            OLS   Adj. R-squared:                  0.888\n",
      "Method:                 Least Squares   F-statistic:                     92.07\n",
      "Date:                Mon, 30 May 2022   Prob (F-statistic):           4.04e-11\n",
      "Time:                        11:33:54   Log-Likelihood:                -134.61\n",
      "No. Observations:                  24   AIC:                             275.2\n",
      "Df Residuals:                      21   BIC:                             278.8\n",
      "Df Model:                           2                                         \n",
      "Covariance Type:            nonrobust                                         \n",
      "=====================================================================================\n",
      "                        coef    std err          t      P>|t|      [0.025      0.975]\n",
      "-------------------------------------------------------------------------------------\n",
      "const              1798.4040    899.248      2.000      0.059     -71.685    3668.493\n",
      "Interest_Rate       345.5401    111.367      3.103      0.005     113.940     577.140\n",
      "Unemployment_Rate  -250.1466    117.950     -2.121      0.046    -495.437      -4.856\n",
      "==============================================================================\n",
      "Omnibus:                        2.691   Durbin-Watson:                   0.530\n",
      "Prob(Omnibus):                  0.260   Jarque-Bera (JB):                1.551\n",
      "Skew:                          -0.612   Prob(JB):                        0.461\n",
      "Kurtosis:                       3.226   Cond. No.                         394.\n",
      "==============================================================================\n",
      "\n",
      "Notes:\n",
      "[1] Standard Errors assume that the covariance matrix of the errors is correctly specified.\n"
     ]
    }
   ],
   "source": [
    "x = sm.add_constant(x)   # adding constant so that model generates the intercept term\n",
    "\n",
    "model = sm.OLS(y,x).fit()\n",
    "print(model.summary())\n",
    "# Dep. Variable:      Stock_Index_Price   R-squared:                       0.898\n",
    "# Model:                            OLS   Adj. R-squared:                  0.888\n",
    "# Method:                 Least Squares   F-statistic:                     92.07\n",
    "# Date:                Mon, 30 May 2022   Prob (F-statistic):           4.04e-11\n",
    "# Time:                        11:24:12   Log-Likelihood:                -134.61\n",
    "# No. Observations:                  24   AIC:                             275.2\n",
    "# Df Residuals:                      21   BIC:                             278.8"
   ]
  },
  {
   "cell_type": "code",
   "execution_count": null,
   "id": "a5cf6fc3",
   "metadata": {},
   "outputs": [],
   "source": [
    "# ypred = Interest_Rate*345.5401 + Unemployment_Rate*(-250.1466) + 1798.40\n",
    "# ypred = m1x1 + m2x2 + X"
   ]
  },
  {
   "cell_type": "markdown",
   "id": "12edf4fa",
   "metadata": {},
   "source": [
    "### Model-2"
   ]
  },
  {
   "cell_type": "code",
   "execution_count": 94,
   "id": "df3eccdd",
   "metadata": {},
   "outputs": [
    {
     "name": "stdout",
     "output_type": "stream",
     "text": [
      "<class 'pandas.core.frame.DataFrame'>\n",
      "<class 'pandas.core.series.Series'>\n",
      "(24, 1)\n",
      "(24,)\n"
     ]
    }
   ],
   "source": [
    "x = df1.iloc[:,2:3]  # x = df1[['Interest_Rate']]\n",
    "y = df1.iloc[:,-1]   # y = df1['Stock_Index_Price']\n",
    "print(type(x))\n",
    "print(type(y))\n",
    "print(x.shape)\n",
    "print(y.shape)"
   ]
  },
  {
   "cell_type": "code",
   "execution_count": 95,
   "id": "b74eb685",
   "metadata": {},
   "outputs": [
    {
     "name": "stdout",
     "output_type": "stream",
     "text": [
      "                            OLS Regression Results                            \n",
      "==============================================================================\n",
      "Dep. Variable:      Stock_Index_Price   R-squared:                       0.876\n",
      "Model:                            OLS   Adj. R-squared:                  0.870\n",
      "Method:                 Least Squares   F-statistic:                     155.0\n",
      "Date:                Mon, 30 May 2022   Prob (F-statistic):           1.95e-11\n",
      "Time:                        11:34:49   Log-Likelihood:                -136.94\n",
      "No. Observations:                  24   AIC:                             277.9\n",
      "Df Residuals:                      22   BIC:                             280.2\n",
      "Df Model:                           1                                         \n",
      "Covariance Type:            nonrobust                                         \n",
      "=================================================================================\n",
      "                    coef    std err          t      P>|t|      [0.025      0.975]\n",
      "---------------------------------------------------------------------------------\n",
      "const           -99.4643     95.210     -1.045      0.308    -296.918      97.990\n",
      "Interest_Rate   564.2039     45.317     12.450      0.000     470.221     658.186\n",
      "==============================================================================\n",
      "Omnibus:                        5.361   Durbin-Watson:                   0.514\n",
      "Prob(Omnibus):                  0.069   Jarque-Bera (JB):                3.647\n",
      "Skew:                          -0.927   Prob(JB):                        0.161\n",
      "Kurtosis:                       3.459   Cond. No.                         15.8\n",
      "==============================================================================\n",
      "\n",
      "Notes:\n",
      "[1] Standard Errors assume that the covariance matrix of the errors is correctly specified.\n"
     ]
    }
   ],
   "source": [
    "x = sm.add_constant(x)   # adding constant so that model generates the intercept term\n",
    "\n",
    "model2 = sm.OLS(y,x).fit()\n",
    "print(model2.summary())"
   ]
  },
  {
   "cell_type": "markdown",
   "id": "cc2ff957",
   "metadata": {},
   "source": [
    "### Model - 3"
   ]
  },
  {
   "cell_type": "code",
   "execution_count": 96,
   "id": "3a59ba44",
   "metadata": {},
   "outputs": [
    {
     "name": "stdout",
     "output_type": "stream",
     "text": [
      "(24, 3)\n",
      "(24,)\n"
     ]
    }
   ],
   "source": [
    "x = df1.iloc[:,1:4]  # x = df1[['Interest_Rate']]\n",
    "y = df1.iloc[:,-1] \n",
    "print(x.shape)\n",
    "print(y.shape)"
   ]
  },
  {
   "cell_type": "code",
   "execution_count": 98,
   "id": "68781299",
   "metadata": {},
   "outputs": [
    {
     "data": {
      "text/html": [
       "<div>\n",
       "<style scoped>\n",
       "    .dataframe tbody tr th:only-of-type {\n",
       "        vertical-align: middle;\n",
       "    }\n",
       "\n",
       "    .dataframe tbody tr th {\n",
       "        vertical-align: top;\n",
       "    }\n",
       "\n",
       "    .dataframe thead th {\n",
       "        text-align: right;\n",
       "    }\n",
       "</style>\n",
       "<table border=\"1\" class=\"dataframe\">\n",
       "  <thead>\n",
       "    <tr style=\"text-align: right;\">\n",
       "      <th></th>\n",
       "      <th>const</th>\n",
       "      <th>Month</th>\n",
       "      <th>Interest_Rate</th>\n",
       "      <th>Unemployment_Rate</th>\n",
       "    </tr>\n",
       "  </thead>\n",
       "  <tbody>\n",
       "    <tr>\n",
       "      <th>0</th>\n",
       "      <td>1.0</td>\n",
       "      <td>12</td>\n",
       "      <td>2.75</td>\n",
       "      <td>5.3</td>\n",
       "    </tr>\n",
       "    <tr>\n",
       "      <th>1</th>\n",
       "      <td>1.0</td>\n",
       "      <td>11</td>\n",
       "      <td>2.50</td>\n",
       "      <td>5.3</td>\n",
       "    </tr>\n",
       "    <tr>\n",
       "      <th>2</th>\n",
       "      <td>1.0</td>\n",
       "      <td>10</td>\n",
       "      <td>2.50</td>\n",
       "      <td>5.3</td>\n",
       "    </tr>\n",
       "    <tr>\n",
       "      <th>3</th>\n",
       "      <td>1.0</td>\n",
       "      <td>9</td>\n",
       "      <td>2.50</td>\n",
       "      <td>5.3</td>\n",
       "    </tr>\n",
       "    <tr>\n",
       "      <th>4</th>\n",
       "      <td>1.0</td>\n",
       "      <td>8</td>\n",
       "      <td>2.50</td>\n",
       "      <td>5.4</td>\n",
       "    </tr>\n",
       "  </tbody>\n",
       "</table>\n",
       "</div>"
      ],
      "text/plain": [
       "   const  Month  Interest_Rate  Unemployment_Rate\n",
       "0    1.0     12           2.75                5.3\n",
       "1    1.0     11           2.50                5.3\n",
       "2    1.0     10           2.50                5.3\n",
       "3    1.0      9           2.50                5.3\n",
       "4    1.0      8           2.50                5.4"
      ]
     },
     "execution_count": 98,
     "metadata": {},
     "output_type": "execute_result"
    }
   ],
   "source": [
    "x.head()"
   ]
  },
  {
   "cell_type": "code",
   "execution_count": 97,
   "id": "53301929",
   "metadata": {},
   "outputs": [
    {
     "name": "stdout",
     "output_type": "stream",
     "text": [
      "                            OLS Regression Results                            \n",
      "==============================================================================\n",
      "Dep. Variable:      Stock_Index_Price   R-squared:                       0.923\n",
      "Model:                            OLS   Adj. R-squared:                  0.911\n",
      "Method:                 Least Squares   F-statistic:                     79.96\n",
      "Date:                Mon, 30 May 2022   Prob (F-statistic):           2.60e-11\n",
      "Time:                        11:37:40   Log-Likelihood:                -131.18\n",
      "No. Observations:                  24   AIC:                             270.4\n",
      "Df Residuals:                      20   BIC:                             275.1\n",
      "Df Model:                           3                                         \n",
      "Covariance Type:            nonrobust                                         \n",
      "=====================================================================================\n",
      "                        coef    std err          t      P>|t|      [0.025      0.975]\n",
      "-------------------------------------------------------------------------------------\n",
      "const              1591.5963    802.995      1.982      0.061     -83.422    3266.615\n",
      "Month                10.1825      3.963      2.570      0.018       1.917      18.448\n",
      "Interest_Rate       335.1931     99.028      3.385      0.003     128.625     541.761\n",
      "Unemployment_Rate  -222.0825    105.362     -2.108      0.048    -441.864      -2.301\n",
      "==============================================================================\n",
      "Omnibus:                        0.465   Durbin-Watson:                   0.791\n",
      "Prob(Omnibus):                  0.792   Jarque-Bera (JB):                0.021\n",
      "Skew:                           0.059   Prob(JB):                        0.989\n",
      "Kurtosis:                       3.085   Cond. No.                         595.\n",
      "==============================================================================\n",
      "\n",
      "Notes:\n",
      "[1] Standard Errors assume that the covariance matrix of the errors is correctly specified.\n"
     ]
    }
   ],
   "source": [
    "x = sm.add_constant(x)   # adding constant so that model generates the intercept term\n",
    "\n",
    "model3 = sm.OLS(y,x).fit()\n",
    "print(model3.summary())"
   ]
  },
  {
   "cell_type": "code",
   "execution_count": null,
   "id": "660a7f7b",
   "metadata": {},
   "outputs": [],
   "source": [
    "# Model - 2 (with 1 independent variables)\n",
    "# R-squared:                       0.876\n",
    "# Adj. R-squared:                  0.870\n",
    "\n",
    "\n",
    "# Model - 1 (with 2 independent variables)\n",
    "# R-squared:                       0.898\n",
    "# Adj. R-squared:                  0.888\n",
    "\n",
    "\n",
    "# Model - 3 (with 3 independent variables)\n",
    "# R-squared:                       0.923\n",
    "# Adj. R-squared:                  0.911"
   ]
  }
 ],
 "metadata": {
  "kernelspec": {
   "display_name": "Python 3",
   "language": "python",
   "name": "python3"
  },
  "language_info": {
   "codemirror_mode": {
    "name": "ipython",
    "version": 3
   },
   "file_extension": ".py",
   "mimetype": "text/x-python",
   "name": "python",
   "nbconvert_exporter": "python",
   "pygments_lexer": "ipython3",
   "version": "3.8.8"
  }
 },
 "nbformat": 4,
 "nbformat_minor": 5
}
