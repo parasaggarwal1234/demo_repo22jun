{
 "cells": [
  {
   "cell_type": "markdown",
   "id": "3bf59ba8",
   "metadata": {},
   "source": [
    "#### Feature Description\n",
    "\n",
    "    X1 Relative Compactness\n",
    "    X2 Surface Area\n",
    "    X3 Wall Area\n",
    "    X4 Roof Area\n",
    "    X5 Overall Height\n",
    "    X6 Orientation\n",
    "    X7 Glazing Area\n",
    "    X8 Glazing Area Distribution\n",
    "    y1 Heating Load\n",
    "    y2 Cooling Load\n"
   ]
  },
  {
   "cell_type": "markdown",
   "id": "9afea0b9",
   "metadata": {},
   "source": [
    "#### Exercise on Linear Regression\n",
    "1) Read the dataset<br>\n",
    "2) Handle null values (if any).<br>\n",
    "3) Based on features from X1-X8 predict Heating load(y1) and Cooling Load(y2) as per the following requirements<br>\n",
    "a) Split the data into training and test set with test_size as 25% of whole data<br>\n",
    "b) Generate predictions for Heating load (y1) through predict function. <br>\n",
    "c) Generate model coefficients and intercept. <br>\n",
    "d) Generate predictions for Heating load (y1) using the equation of Linear Regression<br>\n",
    "e) Compute MSE,RMSE, MAE, R2_score for the model generated.<br>\n",
    "f) Generate predictions for Cooling load (y2) through predict function. <br>\n",
    "g) Generate model coefficients and intercept. <br>\n",
    "h) Generate predictions for Cooling load (y2) using the equation of Linear Regression<br>\n",
    "i) Compute MSE,RMSE, MAE, R2_score for the model generated.\n"
   ]
  },
  {
   "cell_type": "code",
   "execution_count": null,
   "id": "65666b03",
   "metadata": {},
   "outputs": [],
   "source": []
  }
 ],
 "metadata": {
  "kernelspec": {
   "display_name": "Python 3",
   "language": "python",
   "name": "python3"
  },
  "language_info": {
   "codemirror_mode": {
    "name": "ipython",
    "version": 3
   },
   "file_extension": ".py",
   "mimetype": "text/x-python",
   "name": "python",
   "nbconvert_exporter": "python",
   "pygments_lexer": "ipython3",
   "version": "3.8.8"
  }
 },
 "nbformat": 4,
 "nbformat_minor": 5
}
