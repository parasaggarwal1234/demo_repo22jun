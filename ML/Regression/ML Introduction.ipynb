{
 "cells": [
  {
   "cell_type": "markdown",
   "id": "b052e255",
   "metadata": {},
   "source": [
    "### ML (Machine Learning)"
   ]
  },
  {
   "cell_type": "code",
   "execution_count": 1,
   "id": "fc1c4b1b",
   "metadata": {},
   "outputs": [],
   "source": [
    "import pandas as pd"
   ]
  },
  {
   "cell_type": "code",
   "execution_count": 2,
   "id": "c3b93935",
   "metadata": {},
   "outputs": [
    {
     "data": {
      "text/html": [
       "<div>\n",
       "<style scoped>\n",
       "    .dataframe tbody tr th:only-of-type {\n",
       "        vertical-align: middle;\n",
       "    }\n",
       "\n",
       "    .dataframe tbody tr th {\n",
       "        vertical-align: top;\n",
       "    }\n",
       "\n",
       "    .dataframe thead th {\n",
       "        text-align: right;\n",
       "    }\n",
       "</style>\n",
       "<table border=\"1\" class=\"dataframe\">\n",
       "  <thead>\n",
       "    <tr style=\"text-align: right;\">\n",
       "      <th></th>\n",
       "      <th>Id</th>\n",
       "      <th>MSSubClass</th>\n",
       "      <th>MSZoning</th>\n",
       "      <th>LotFrontage</th>\n",
       "      <th>LotArea</th>\n",
       "      <th>Street</th>\n",
       "      <th>Alley</th>\n",
       "      <th>LotShape</th>\n",
       "      <th>LandContour</th>\n",
       "      <th>Utilities</th>\n",
       "      <th>...</th>\n",
       "      <th>PoolArea</th>\n",
       "      <th>PoolQC</th>\n",
       "      <th>Fence</th>\n",
       "      <th>MiscFeature</th>\n",
       "      <th>MiscVal</th>\n",
       "      <th>MoSold</th>\n",
       "      <th>YrSold</th>\n",
       "      <th>SaleType</th>\n",
       "      <th>SaleCondition</th>\n",
       "      <th>SalePrice</th>\n",
       "    </tr>\n",
       "  </thead>\n",
       "  <tbody>\n",
       "    <tr>\n",
       "      <th>0</th>\n",
       "      <td>1</td>\n",
       "      <td>60</td>\n",
       "      <td>RL</td>\n",
       "      <td>65.0</td>\n",
       "      <td>8450</td>\n",
       "      <td>Pave</td>\n",
       "      <td>NaN</td>\n",
       "      <td>Reg</td>\n",
       "      <td>Lvl</td>\n",
       "      <td>AllPub</td>\n",
       "      <td>...</td>\n",
       "      <td>0</td>\n",
       "      <td>NaN</td>\n",
       "      <td>NaN</td>\n",
       "      <td>NaN</td>\n",
       "      <td>0</td>\n",
       "      <td>2</td>\n",
       "      <td>2008</td>\n",
       "      <td>WD</td>\n",
       "      <td>Normal</td>\n",
       "      <td>208500</td>\n",
       "    </tr>\n",
       "    <tr>\n",
       "      <th>1</th>\n",
       "      <td>2</td>\n",
       "      <td>20</td>\n",
       "      <td>RL</td>\n",
       "      <td>80.0</td>\n",
       "      <td>9600</td>\n",
       "      <td>Pave</td>\n",
       "      <td>NaN</td>\n",
       "      <td>Reg</td>\n",
       "      <td>Lvl</td>\n",
       "      <td>AllPub</td>\n",
       "      <td>...</td>\n",
       "      <td>0</td>\n",
       "      <td>NaN</td>\n",
       "      <td>NaN</td>\n",
       "      <td>NaN</td>\n",
       "      <td>0</td>\n",
       "      <td>5</td>\n",
       "      <td>2007</td>\n",
       "      <td>WD</td>\n",
       "      <td>Normal</td>\n",
       "      <td>181500</td>\n",
       "    </tr>\n",
       "    <tr>\n",
       "      <th>2</th>\n",
       "      <td>3</td>\n",
       "      <td>60</td>\n",
       "      <td>RL</td>\n",
       "      <td>68.0</td>\n",
       "      <td>11250</td>\n",
       "      <td>Pave</td>\n",
       "      <td>NaN</td>\n",
       "      <td>IR1</td>\n",
       "      <td>Lvl</td>\n",
       "      <td>AllPub</td>\n",
       "      <td>...</td>\n",
       "      <td>0</td>\n",
       "      <td>NaN</td>\n",
       "      <td>NaN</td>\n",
       "      <td>NaN</td>\n",
       "      <td>0</td>\n",
       "      <td>9</td>\n",
       "      <td>2008</td>\n",
       "      <td>WD</td>\n",
       "      <td>Normal</td>\n",
       "      <td>223500</td>\n",
       "    </tr>\n",
       "  </tbody>\n",
       "</table>\n",
       "<p>3 rows × 81 columns</p>\n",
       "</div>"
      ],
      "text/plain": [
       "   Id  MSSubClass MSZoning  LotFrontage  LotArea Street Alley LotShape  \\\n",
       "0   1          60       RL         65.0     8450   Pave   NaN      Reg   \n",
       "1   2          20       RL         80.0     9600   Pave   NaN      Reg   \n",
       "2   3          60       RL         68.0    11250   Pave   NaN      IR1   \n",
       "\n",
       "  LandContour Utilities  ... PoolArea PoolQC Fence MiscFeature MiscVal MoSold  \\\n",
       "0         Lvl    AllPub  ...        0    NaN   NaN         NaN       0      2   \n",
       "1         Lvl    AllPub  ...        0    NaN   NaN         NaN       0      5   \n",
       "2         Lvl    AllPub  ...        0    NaN   NaN         NaN       0      9   \n",
       "\n",
       "  YrSold  SaleType  SaleCondition  SalePrice  \n",
       "0   2008        WD         Normal     208500  \n",
       "1   2007        WD         Normal     181500  \n",
       "2   2008        WD         Normal     223500  \n",
       "\n",
       "[3 rows x 81 columns]"
      ]
     },
     "execution_count": 2,
     "metadata": {},
     "output_type": "execute_result"
    }
   ],
   "source": [
    "df = pd.read_csv('HousePrices.csv') # (1460, 81)\n",
    "df.head(3)"
   ]
  },
  {
   "cell_type": "markdown",
   "id": "2ca46191",
   "metadata": {},
   "source": [
    "#### Problem Statement - Based on the above mentioned features, predict the SalePrice of the House"
   ]
  },
  {
   "cell_type": "code",
   "execution_count": 4,
   "id": "4eedf822",
   "metadata": {},
   "outputs": [
    {
     "data": {
      "text/plain": [
       "Index(['Id', 'MSSubClass', 'MSZoning', 'LotFrontage', 'LotArea', 'Street',\n",
       "       'Alley', 'LotShape', 'LandContour', 'Utilities', 'LotConfig',\n",
       "       'LandSlope', 'Neighborhood', 'Condition1', 'Condition2', 'BldgType',\n",
       "       'HouseStyle', 'OverallQual', 'OverallCond', 'YearBuilt', 'YearRemodAdd',\n",
       "       'RoofStyle', 'RoofMatl', 'Exterior1st', 'Exterior2nd', 'MasVnrType',\n",
       "       'MasVnrArea', 'ExterQual', 'ExterCond', 'Foundation', 'BsmtQual',\n",
       "       'BsmtCond', 'BsmtExposure', 'BsmtFinType1', 'BsmtFinSF1',\n",
       "       'BsmtFinType2', 'BsmtFinSF2', 'BsmtUnfSF', 'TotalBsmtSF', 'Heating',\n",
       "       'HeatingQC', 'CentralAir', 'Electrical', '1stFlrSF', '2ndFlrSF',\n",
       "       'LowQualFinSF', 'GrLivArea', 'BsmtFullBath', 'BsmtHalfBath', 'FullBath',\n",
       "       'HalfBath', 'BedroomAbvGr', 'KitchenAbvGr', 'KitchenQual',\n",
       "       'TotRmsAbvGrd', 'Functional', 'Fireplaces', 'FireplaceQu', 'GarageType',\n",
       "       'GarageYrBlt', 'GarageFinish', 'GarageCars', 'GarageArea', 'GarageQual',\n",
       "       'GarageCond', 'PavedDrive', 'WoodDeckSF', 'OpenPorchSF',\n",
       "       'EnclosedPorch', '3SsnPorch', 'ScreenPorch', 'PoolArea', 'PoolQC',\n",
       "       'Fence', 'MiscFeature', 'MiscVal', 'MoSold', 'YrSold', 'SaleType',\n",
       "       'SaleCondition', 'SalePrice'],\n",
       "      dtype='object')"
      ]
     },
     "execution_count": 4,
     "metadata": {},
     "output_type": "execute_result"
    }
   ],
   "source": [
    "df.columns"
   ]
  },
  {
   "cell_type": "code",
   "execution_count": null,
   "id": "a99efefa",
   "metadata": {},
   "outputs": [],
   "source": [
    "# Features to consider before buying a house\n",
    "1) Location1 - distance from services (school,market,metro,railway,airport,bus stand,hospital,mall etc)\n",
    "2) Location2 - Posh area, outskirts of the city, interior of the city, closer to highway\n",
    "3) Amenities - (Water Supply, Electricity, Internet etc)\n",
    "4) Area (in sq ft) -  Carpet Area, floor area\n",
    "5) No of bedrooms - \n",
    "6) No of bathrooms - \n",
    "7) Balcony - \n",
    "8) Parking Area - \n",
    "9) Elevator presence - \n",
    "10) Type of House - \n",
    "11) Nearby parks, religious places etc\n",
    "12) SalePrice - "
   ]
  },
  {
   "cell_type": "code",
   "execution_count": null,
   "id": "07cfd0f3",
   "metadata": {},
   "outputs": [],
   "source": [
    "# Features = Attributes = Dimensions = Variables = Columns\n",
    "# Records = Rows\n",
    "# Target Variable - SalePrice\n",
    "# The target variable is continuous => Regression Problem"
   ]
  },
  {
   "cell_type": "code",
   "execution_count": null,
   "id": "91d54747",
   "metadata": {},
   "outputs": [],
   "source": [
    "# No of columns = 12\n",
    "# No of rows = 200\n",
    "# Train the ML model on these 12 features and 200 rows\n",
    "# Training data and test data"
   ]
  },
  {
   "cell_type": "markdown",
   "id": "5c96ff4c",
   "metadata": {},
   "source": [
    "#### Training data\n",
    "1) The data onto which ML model will be trained. <br>\n",
    "2) The size of training data should be sufficiently larger than that of test data<br>\n",
    "(Train,test size) = (70,30),(75,25),(80,20),(85-15)\n",
    "\n",
    "#### Test Data\n",
    "1) The data onto which ML model will generate prediction after the model has been trained on trained data<br>"
   ]
  },
  {
   "cell_type": "markdown",
   "id": "c6abd37c",
   "metadata": {},
   "source": [
    "#### Regression Problem\n",
    "1) Target variable is continuous in nature<br>\n",
    " Ex2<br>\n",
    "1) Input Features  - (Emp_Ex(yrs),Skill_Set, No of Projects, Organizations worked with, interview result)<br>\n",
    "2) Target Feature - Salary<br>\n",
    "\n"
   ]
  },
  {
   "cell_type": "markdown",
   "id": "647db73c",
   "metadata": {},
   "source": [
    "#### Classification Problem\n",
    "The target variable is categorical in nature<br>\n",
    "Ex1<br>\n",
    "1) Features - Age, Gender, BMI, Blood_Glucose_Level, Body_Weight, Blood_Group, Height, Body Fat<br>\n",
    "2) Target Feature - Diabetic or Non-diabetic (1 or 0)<br>\n",
    "\n",
    "\n",
    "Ex2<br>\n",
    "Based on email body, whether the mail is spam or not-spam<br>\n"
   ]
  },
  {
   "cell_type": "code",
   "execution_count": null,
   "id": "6158b8bb",
   "metadata": {},
   "outputs": [],
   "source": [
    "#### Grouping/ Cluster  - Unsupervised\n",
    "\n",
    "# 1) Promote Mivi headphones => Social media platform (Instagram, Youtube, Facebook, Google Ads etc)\n",
    "# 2) Mama Earth cream => \n",
    "\n",
    "# 1)  Genres - Groups/ Cluster  Identification\n",
    "# a) Vloggers      - Mumbaikar Nikhil etc,\n",
    "# b) Educational   - USPC, GATE, CAT channels\n",
    "# c) Technology    - TechBurner, Tech Guruji etc\n",
    "# d) Stand Up comedy  - Bassi, Zakir khan, Abhishek etc\n",
    "# e) Roast           - CarryMinati etc  \n",
    "# f) Web Series      - TVF, FilterCopy \n",
    "# g) Vines           - BB\n",
    "# h) Songs           - TSeries, Sony etc\n",
    "# i) Motivational    - Sandeep Maheshwari etc"
   ]
  },
  {
   "cell_type": "code",
   "execution_count": null,
   "id": "79368d52",
   "metadata": {},
   "outputs": [],
   "source": [
    "### Instagram - Ronaldo, Messi..."
   ]
  },
  {
   "cell_type": "code",
   "execution_count": null,
   "id": "d3c1165e",
   "metadata": {},
   "outputs": [],
   "source": [
    "# Byju\n",
    "# Startup - Meesho, Nyka, Dunzo, Zepto, Blinkit, TataNeu"
   ]
  },
  {
   "cell_type": "markdown",
   "id": "69910201",
   "metadata": {},
   "source": [
    "#### Types of Learning"
   ]
  },
  {
   "cell_type": "markdown",
   "id": "03eb1111",
   "metadata": {},
   "source": [
    "#### 1) Supervised Learning\n",
    "1) We are provided with X and y and the objective is to map y with x such that <b>y = f(x)</b><br>\n",
    "2) where<br>\n",
    "        \n",
    "        y = dependent variable/target variable<br>\n",
    "        x = independent variable/ input feature<br>\n",
    "3) The objective is to make predictions for Y when a new X is provided<br>\n",
    "4) Why it is called Supervised ?<br>\n",
    "Because data is labelled ( y is present)<br>\n",
    "Ex<br>\n",
    "x = [20,30,25,17,86,94]<br>\n",
    "y = [41,63,51,39,164,187]<br>\n",
    "y = f(x)<br>\n",
    "Predict y when x = 17<br>\n",
    "M1 -> 42.5 <br>\n",
    "M2 -> 37.8 <br>\n",
    "\n",
    "Problems under supervised learning - <b>Regression and Classification Problems</b>\n",
    "\n",
    "#### 2) Unsupervised Learning\n",
    "1) We are provided with x only<br>\n",
    "2) We need to understand the distribution of the data<br>\n",
    "3) Problems under unsupervised learning - <b>Clustering, Dimensionality Reduction</b>\n",
    "\n",
    "#### 3) Semi Supervised\n",
    "\n",
    "#### 4) Reinforcement Learning"
   ]
  },
  {
   "cell_type": "code",
   "execution_count": null,
   "id": "095d9b3a",
   "metadata": {},
   "outputs": [],
   "source": []
  },
  {
   "cell_type": "markdown",
   "id": "3bb367ec",
   "metadata": {},
   "source": [
    "### Steps in ML or DL\n",
    "1) Probelm Formulation - Detect Fraud in banking system (NPA) <br>\n",
    "2) Stats or ML problem - Classfication problem<br>\n",
    "3) x and y needs to be identifie(if it is supervised)<br>"
   ]
  },
  {
   "cell_type": "markdown",
   "id": "9eab98f9",
   "metadata": {},
   "source": [
    "4) EDA (Explorartoy Data Analysis) - Vizualizations  and statistical measures<br>\n",
    "\n",
    "#### Univariate Analysis\n",
    "\n",
    "a) Mean, Median, Mode, Stdev, variance, Range, Quartile, Percentile, Decile, Skewness, Kurtosis    \n",
    "b) Histogram, kdeplot, Distribiution plot<br>\n",
    "\n",
    "Normality Test<br>\n",
    "1) Shapiro<br>\n",
    "2) Jarquee Bera<br>\n",
    "\n",
    "#### Bivariate Analysis\n",
    "a) Covariance, Correlation<br>\n",
    "b) Statistical tests<br>\n",
    "i) Categorical vs Categorical - Chi Square<br>\n",
    "ii) Numerical vs Numerical - Covariance, Correlation<br>\n",
    "iii) Numerical vs Categorical - T-test,Z-test<br>\n",
    "c) Graphs - Scatter chart, Bar Chart, Line Chart, Subplot, Heatmap <br>\n",
    "\n",
    "#### Multivariate Analysis\n",
    "1) Statistical tests - ANOVA<br>\n",
    "2) Graphs - Pairplot, Stacked Bar Chart\n"
   ]
  },
  {
   "cell_type": "markdown",
   "id": "23624ebb",
   "metadata": {},
   "source": [
    "#### 5) Feature Engineering \n",
    "\n",
    "a) Data cleansing - Null value removal/ filling<br>\n",
    "b) Handling duplicate records<br>\n",
    "c) Outlier detection and handling - Q3+ 1.5 * IQR, Q1 - 1.5 * IQR<br>\n",
    "d) New feature Creation - Fetching Year, month, day, quarter from a date column<br>\n",
    "e) Label Encoding<br>\n",
    "i) LabelEncoder<br>\n",
    "ii) Dummy variable creation<br>\n",
    "iii) One Hot Encoding<br>\n",
    "f) Binning<br>\n",
    "g) Pivot table, Crosstab<br>\n",
    "h) Scaling and Standardization<br>"
   ]
  },
  {
   "cell_type": "markdown",
   "id": "87a51586",
   "metadata": {},
   "source": [
    "6) Select appropriate ML model / DL architecture<br>\n",
    "7) Train the ML model on training data<br>\n",
    "8) Generate predictions on test Data<br>"
   ]
  },
  {
   "cell_type": "markdown",
   "id": "c4cf0731",
   "metadata": {},
   "source": [
    "#### 9) Model Evaluation\n",
    "\n",
    "#### Regression Metrics\n",
    "1) R2_Score<br>\n",
    "2) MSE<br>\n",
    "3) MAE<br>\n",
    "4) RMSE<br>\n",
    "\n",
    "#### Classification Metrics\n",
    "1) Confusion Matrix<br>\n",
    "2) Precision<br>\n",
    "3) Recall<br>\n",
    "4) Accuracy<br>\n",
    "5) F1-Score<br>\n",
    "6) ROC- AUC<br>\n",
    "7) Gini<br>\n",
    "8) Entropy<br>\n"
   ]
  },
  {
   "cell_type": "markdown",
   "id": "74d5b14d",
   "metadata": {},
   "source": [
    "10) Tune Model parameters<br>\n",
    "11) Retrain the model<br>"
   ]
  },
  {
   "cell_type": "markdown",
   "id": "bc2b859d",
   "metadata": {},
   "source": [
    "#### 12) Model Deployment and maintenance (MLOPS)\n",
    "a) We can deploy the model on cloud\n",
    "1) AWS<br>\n",
    "2) Azure<br>\n",
    "3) GCP<br>\n",
    "b) We can deploy it on Mobile app - android or ios<br>\n",
    "c) Deploy it as web appplication(website/webpage)<br>"
   ]
  },
  {
   "cell_type": "markdown",
   "id": "a00eff10",
   "metadata": {},
   "source": [
    "#### Model Deployment Tools\n",
    "\n",
    "1) CI-CD pipelines<br>\n",
    "2) Docker - Containerization<br>\n",
    "3) Kubernetes (K8) <br>\n",
    "4) Airflow,Kubeflow  etc<br>"
   ]
  },
  {
   "cell_type": "code",
   "execution_count": null,
   "id": "b9d069d0",
   "metadata": {},
   "outputs": [],
   "source": []
  }
 ],
 "metadata": {
  "kernelspec": {
   "display_name": "Python 3",
   "language": "python",
   "name": "python3"
  },
  "language_info": {
   "codemirror_mode": {
    "name": "ipython",
    "version": 3
   },
   "file_extension": ".py",
   "mimetype": "text/x-python",
   "name": "python",
   "nbconvert_exporter": "python",
   "pygments_lexer": "ipython3",
   "version": "3.8.8"
  }
 },
 "nbformat": 4,
 "nbformat_minor": 5
}
