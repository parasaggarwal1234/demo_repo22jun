{
 "cells": [
  {
   "cell_type": "code",
   "execution_count": 8,
   "id": "fb828041",
   "metadata": {},
   "outputs": [],
   "source": [
    "import numpy as np\n",
    "from numpy import linalg"
   ]
  },
  {
   "cell_type": "code",
   "execution_count": 4,
   "id": "e9ba6ab7",
   "metadata": {},
   "outputs": [
    {
     "name": "stdout",
     "output_type": "stream",
     "text": [
      "[[2 3]\n",
      " [1 2]]\n",
      "(2, 2)\n"
     ]
    }
   ],
   "source": [
    "a = np.array([[2,3],[1,2]])\n",
    "print(a)\n",
    "print(a.shape)"
   ]
  },
  {
   "cell_type": "code",
   "execution_count": 5,
   "id": "5826c3a2",
   "metadata": {},
   "outputs": [
    {
     "name": "stdout",
     "output_type": "stream",
     "text": [
      "[[ 2. -3.]\n",
      " [-1.  2.]]\n"
     ]
    }
   ],
   "source": [
    "a_inv = linalg.inv(a)\n",
    "print(a_inv)"
   ]
  },
  {
   "cell_type": "code",
   "execution_count": 6,
   "id": "cfb1d5f4",
   "metadata": {},
   "outputs": [
    {
     "name": "stdout",
     "output_type": "stream",
     "text": [
      "[[1. 0.]\n",
      " [0. 1.]]\n"
     ]
    }
   ],
   "source": [
    "res = np.dot(a,a_inv)\n",
    "print(res)"
   ]
  },
  {
   "cell_type": "markdown",
   "id": "e5e6746b",
   "metadata": {},
   "source": [
    "#### Matrix Inverse\n",
    "1) If A is a sqaure matrix,then there exists a mtarix B such that np.dot(A,B) = I where I is the inentity matrix\n",
    "\n",
    "#### Trace\n",
    "1) Sum of primary diagonal elements\n"
   ]
  },
  {
   "cell_type": "code",
   "execution_count": 14,
   "id": "b77bddb2",
   "metadata": {},
   "outputs": [
    {
     "name": "stdout",
     "output_type": "stream",
     "text": [
      "[[ 1  2 10]\n",
      " [ 4  5  6]\n",
      " [ 7  8  9]]\n",
      "15\n"
     ]
    }
   ],
   "source": [
    "h = np.array([[1,2,10],[4,5,6],[7,8,9]])\n",
    "trace = np.trace(h)\n",
    "print(h)\n",
    "print(trace)"
   ]
  },
  {
   "cell_type": "code",
   "execution_count": 17,
   "id": "1ec04f20",
   "metadata": {},
   "outputs": [
    {
     "name": "stdout",
     "output_type": "stream",
     "text": [
      "3\n"
     ]
    }
   ],
   "source": [
    "h = np.array([[1,2,10],[4,5,6],[7,8,9]])\n",
    "rank = linalg.matrix_rank(h)\n",
    "print(rank)"
   ]
  },
  {
   "cell_type": "markdown",
   "id": "460b06d1",
   "metadata": {},
   "source": [
    "#### Matrix Decompose\n",
    "<b>Av = λv</b>\n",
    "\n",
    "where <br>\n",
    "A = is the square matrix<br>\n",
    "λ = Eigen value<br>\n",
    "v = Eigen vectors\n",
    "\n",
    "Original matrix A can be obtained from λ and v as follows\n",
    "np.dot(np.dot(v,λ),inv(v))\n",
    "\n",
    "Primary Diagnoal = Diagonal matrix elements starting from top left to bottom right.\n"
   ]
  },
  {
   "cell_type": "code",
   "execution_count": 25,
   "id": "3064ba7d",
   "metadata": {},
   "outputs": [
    {
     "name": "stdout",
     "output_type": "stream",
     "text": [
      "[[2 3]\n",
      " [1 2]]\n",
      "(2, 2)\n"
     ]
    }
   ],
   "source": [
    "print(a)\n",
    "print(a.shape)"
   ]
  },
  {
   "cell_type": "code",
   "execution_count": 34,
   "id": "f2d7b87e",
   "metadata": {},
   "outputs": [
    {
     "name": "stdout",
     "output_type": "stream",
     "text": [
      "[3.73205081 0.26794919]\n",
      "[[ 0.8660254 -0.8660254]\n",
      " [ 0.5        0.5      ]]\n",
      "[[ 0.57735027  1.        ]\n",
      " [-0.57735027  1.        ]]\n"
     ]
    }
   ],
   "source": [
    "eig_val,eig_vec = linalg.eig(a)\n",
    "print(eig_val)\n",
    "print(eig_vec)\n",
    "inv_eig_vec = linalg.inv(eig_vec) \n",
    "print(inv_eig_vec)"
   ]
  },
  {
   "cell_type": "code",
   "execution_count": 29,
   "id": "2665ede8",
   "metadata": {},
   "outputs": [
    {
     "name": "stdout",
     "output_type": "stream",
     "text": [
      "[[2 3]\n",
      " [1 2]]\n"
     ]
    }
   ],
   "source": [
    "print(a)"
   ]
  },
  {
   "cell_type": "code",
   "execution_count": 28,
   "id": "7937571d",
   "metadata": {},
   "outputs": [
    {
     "name": "stdout",
     "output_type": "stream",
     "text": [
      "[[3.73205081 0.        ]\n",
      " [0.         0.26794919]]\n",
      "[[ 3.23205081 -0.23205081]\n",
      " [ 1.86602541  0.1339746 ]]\n",
      "[[2. 3.]\n",
      " [1. 2.]]\n"
     ]
    }
   ],
   "source": [
    "eval1 = np.array([[3.73205081,0],[0, 0.26794919]])\n",
    "print(eval1)\n",
    "r1 = np.dot(eig_vec,eval1)\n",
    "print(r1)\n",
    "r2 = np.dot(r1,linalg.inv(eig_vec))\n",
    "print(r2)"
   ]
  },
  {
   "cell_type": "code",
   "execution_count": 33,
   "id": "d62f0c97",
   "metadata": {},
   "outputs": [
    {
     "name": "stdout",
     "output_type": "stream",
     "text": [
      "[[3.73205081 0.        ]\n",
      " [0.         0.26794919]]\n",
      "[[ 3.23205081 -0.23205081]\n",
      " [ 1.86602541  0.1339746 ]]\n",
      "[[ 0.57735027  1.        ]\n",
      " [-0.57735027  1.        ]]\n",
      "[[2. 3.]\n",
      " [1. 2.]]\n"
     ]
    }
   ],
   "source": [
    "eval1 = np.array([[3.73205081,0],[0, 0.26794919]])\n",
    "print(eval1)\n",
    "r1 = np.matmul(eig_vec,eval1)\n",
    "print(r1)\n",
    "inv_eig_vect = linalg.inv(eig_vec)\n",
    "print(inv_eig_vect)\n",
    "r2 = np.matmul(r1,inv_eig_vect)\n",
    "print(r2)"
   ]
  },
  {
   "cell_type": "code",
   "execution_count": 32,
   "id": "873028b7",
   "metadata": {},
   "outputs": [
    {
     "name": "stdout",
     "output_type": "stream",
     "text": [
      "[[2. 3.]\n",
      " [1. 2.]]\n"
     ]
    }
   ],
   "source": [
    "res = (eig_vec@eval1)@linalg.inv(eig_vec)\n",
    "print(res)"
   ]
  },
  {
   "cell_type": "markdown",
   "id": "78337505",
   "metadata": {},
   "source": [
    "#### Eigen value and Eigen Vector using Scipy"
   ]
  },
  {
   "cell_type": "code",
   "execution_count": 35,
   "id": "14d12d4b",
   "metadata": {},
   "outputs": [],
   "source": [
    "from scipy.linalg import eig as eigen"
   ]
  },
  {
   "cell_type": "code",
   "execution_count": 36,
   "id": "9b4b06bb",
   "metadata": {},
   "outputs": [
    {
     "name": "stdout",
     "output_type": "stream",
     "text": [
      "[3.73205081+0.j 0.26794919+0.j]\n",
      "[[ 0.8660254 -0.8660254]\n",
      " [ 0.5        0.5      ]]\n",
      "[[ 0.57735027  1.        ]\n",
      " [-0.57735027  1.        ]]\n"
     ]
    }
   ],
   "source": [
    "eig_val,eig_vec = eigen(a)\n",
    "print(eig_val)\n",
    "print(eig_vec)\n",
    "inv_eig_vec = linalg.inv(eig_vec) \n",
    "print(inv_eig_vec)"
   ]
  },
  {
   "cell_type": "code",
   "execution_count": null,
   "id": "a61ebc73",
   "metadata": {},
   "outputs": [],
   "source": []
  },
  {
   "cell_type": "code",
   "execution_count": null,
   "id": "7343d2aa",
   "metadata": {},
   "outputs": [],
   "source": []
  },
  {
   "cell_type": "code",
   "execution_count": null,
   "id": "54552708",
   "metadata": {},
   "outputs": [],
   "source": [
    "1) Read the data\n",
    "2) Shape Checking\n",
    "3) Null value Treatment\n",
    "4) Univariate Data Analysis\n",
    "5) Bivariate Data Analysis\n",
    "6) Outlier Treatment\n",
    "7) LabelEncoding or get_dummies\n",
    "8) Feature Selection(using Multicollinearity chk) \n",
    "9) Split the data - train_test_split\n",
    "10) PCA, if number of feature is very high\n",
    "11) If Classification\n",
    " - Imbalanced Data handling - xsm,ysm for x_train,y_train\n",
    "12) Model Building\n",
    "13) Feature Selection (using Feature Importance - DT,RF)\n",
    "14) Linearly Separable - LogReg, KNN,Boosting\n",
    "15) Non-linearly separable - DT,RF,SVM,Boosting,KNN,NB\n",
    "16) Cross Validation, HyperParameter Tuning - GridSearchCV, RandomizedSearchCV\n",
    "17) Model Comparision based on performance - Accuracy, precision,Recall, ROC_AUC\n",
    "\n",
    "18) If test_data.csv is present\n",
    "\n",
    "a) Null value Treatment\n",
    "b) Dupliacte treament\n",
    "c) Feature Selection based on x_train.columns\n",
    "d) LabelEncoding"
   ]
  },
  {
   "cell_type": "code",
   "execution_count": null,
   "id": "66167c5c",
   "metadata": {},
   "outputs": [],
   "source": [
    "# Ex\n",
    "# Train.csv - 1000 rows - \n",
    "# a) M1 -> x_train,x_test,y_train,y_test = train_test_split(x,y,test_size=25)\n",
    "# train m1 on x_train,y_train and generte predictions on x_test.\n",
    "# Check model performance\n",
    "# b) M2 -> train m2 on x and y using the best performing model from m1\n",
    "# Test.csv  - 300 rows\n",
    "# After data prepcocessing steps\n",
    "# use m2 to generate predictions\n",
    "# submission.csv"
   ]
  },
  {
   "cell_type": "code",
   "execution_count": null,
   "id": "277f5429",
   "metadata": {},
   "outputs": [],
   "source": [
    "# Model Deployment - \n",
    "# Model Retrain - "
   ]
  }
 ],
 "metadata": {
  "kernelspec": {
   "display_name": "Python 3",
   "language": "python",
   "name": "python3"
  },
  "language_info": {
   "codemirror_mode": {
    "name": "ipython",
    "version": 3
   },
   "file_extension": ".py",
   "mimetype": "text/x-python",
   "name": "python",
   "nbconvert_exporter": "python",
   "pygments_lexer": "ipython3",
   "version": "3.8.8"
  }
 },
 "nbformat": 4,
 "nbformat_minor": 5
}
