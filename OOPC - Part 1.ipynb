{
 "cells": [
  {
   "cell_type": "markdown",
   "metadata": {},
   "source": [
    "### OOPC - Object Oriented Programming Concepts"
   ]
  },
  {
   "cell_type": "code",
   "execution_count": 1,
   "metadata": {},
   "outputs": [
    {
     "data": {
      "text/plain": [
       "'\\nClass - Vehicle\\nObejcts - Car, Bus, Truck, Bike etc\\nClass - Animals\\nObjects - Tiger, Zebra, Horse etc\\n'"
      ]
     },
     "execution_count": 1,
     "metadata": {},
     "output_type": "execute_result"
    }
   ],
   "source": [
    "'''\n",
    "Class - Vehicle\n",
    "Obejcts - Car, Bus, Truck, Bike etc\n",
    "Class - Animals\n",
    "Objects - Tiger, Zebra, Horse etc\n",
    "'''"
   ]
  },
  {
   "cell_type": "markdown",
   "metadata": {},
   "source": [
    "#### What is class:\n",
    "\n",
    "1) In python everything is an object.<br>\n",
    "2) To create objects we required some Model or Plan or Blue print,which is called class.<br>\n",
    "3) We can write a class to represent properties(attributes) and actions (behavior) of object.<br>\n",
    "4) Properties can be represented by variables.<br>\n",
    "5) Actions can be represented by Methods.<br>\n",
    "6) Hence class contains both variables and methods"
   ]
  },
  {
   "cell_type": "markdown",
   "metadata": {},
   "source": [
    "#### Defining a class \n",
    "\n",
    "1) We can define a class by using class keyword.<br>\n",
    "Syntax:<br>\n",
    "         \n",
    "    class ClassName:\n",
    "         ''' documentation string '''\n",
    "         variables: instance variables,static\n",
    "         methods: instance methods,static methods, class methods\n",
    "\n",
    "Note:<br>\n",
    "1) Documentation string represents description of the class.<br>\n",
    "2) Within the class, doc string is always optional. <br>\n",
    "3) We can get doc string by using the following <br>\n",
    "               \n",
    "         print(classname.__doc__)\n",
    "\n"
   ]
  },
  {
   "cell_type": "code",
   "execution_count": 2,
   "metadata": {},
   "outputs": [
    {
     "name": "stdout",
     "output_type": "stream",
     "text": [
      "hello world\n"
     ]
    }
   ],
   "source": [
    "# Example 1\n",
    "\n",
    "class Student: \n",
    "    \"hello world\"\n",
    "    \n",
    "       \n",
    "    \n",
    "print(Student.__doc__)"
   ]
  },
  {
   "cell_type": "markdown",
   "metadata": {},
   "source": [
    "#### Object:\n",
    "1) Physical existence of a class is nothing but object.<br>\n",
    "2) We can create any number of objects for a class.<br>\n",
    "3) Object is also known as reference_variable or instance<br>\n",
    "4) Syntax to Create Object: <br>\n",
    "\n",
    "     reference_variable = ClassName()\n",
    "\n",
    "Example: <br>\n",
    "s = Student()<br>\n",
    "\n"
   ]
  },
  {
   "cell_type": "code",
   "execution_count": null,
   "metadata": {},
   "outputs": [],
   "source": []
  },
  {
   "cell_type": "code",
   "execution_count": 11,
   "metadata": {},
   "outputs": [
    {
     "name": "stdout",
     "output_type": "stream",
     "text": [
      "Student object is created\n",
      "Ankit 1234 80\n",
      "Student object is created\n",
      "Dhruv 1235 84\n"
     ]
    }
   ],
   "source": [
    "class Student:\n",
    "    def __init__(self,name,roll_no,marks):  # __init__ = constructor\n",
    "        self.n = name                   # instance variable\n",
    "        self.r = roll_no                # instance variable\n",
    "        self.m = marks                  # instance variable\n",
    "        print('Student object is created')\n",
    "        \n",
    "# The moment object is created constructor is called    \n",
    "    \n",
    "s1 = Student('Ankit',1234,80)\n",
    "print(s1.n,s1.r,s1.m)\n",
    "\n",
    "s2 = Student('Dhruv',1235,84)\n",
    "print(s2.n,s2.r,s2.m)"
   ]
  },
  {
   "cell_type": "markdown",
   "metadata": {},
   "source": [
    "#### Its not necessary to use the name self. We can use a different variable name"
   ]
  },
  {
   "cell_type": "code",
   "execution_count": 25,
   "metadata": {},
   "outputs": [
    {
     "name": "stdout",
     "output_type": "stream",
     "text": [
      "Student object is created\n",
      "Ankit 1234 80\n",
      "Student object is created\n",
      "1235 Dhruv 84\n"
     ]
    }
   ],
   "source": [
    "class Student:\n",
    "    def __init__(a,name,roll_no,marks):  # __init__ = constructor\n",
    "        a.n = name                   # instance variable\n",
    "        a.r = roll_no                # instance variable\n",
    "        a.m = marks                  # instance variable\n",
    "        print('Student object is created')\n",
    "        \n",
    "    \n",
    "s1 = Student('Ankit',1234,80)\n",
    "print(s1.n,s1.r,s1.m)\n",
    "\n",
    "s2 = Student(1235,'Dhruv',84)\n",
    "print(s2.n,s2.r,s2.m)"
   ]
  },
  {
   "cell_type": "code",
   "execution_count": 26,
   "metadata": {},
   "outputs": [
    {
     "name": "stdout",
     "output_type": "stream",
     "text": [
      "Student object is created\n",
      "My Name is: Robert\n",
      "My Rollno is: 101\n",
      "My Marks :  73\n",
      "First Grade\n",
      "---------------------\n",
      "Student object is created\n",
      "My Name is: Aman\n",
      "My Rollno is: 102\n",
      "My Marks :  86\n",
      "First Grade\n"
     ]
    }
   ],
   "source": [
    "class Student:\n",
    "    def __init__(self,name,roll_no,marks):  # __init__ = constructor\n",
    "        self.n = name                   # instance variable\n",
    "        self.r = roll_no                # instance variable\n",
    "        self.m = marks                  # instance variable\n",
    "        print('Student object is created')\n",
    "\n",
    "    def describe(self):                    # instance method\n",
    "        print(\"My Name is:\", self.n)\n",
    "        print(\"My Rollno is:\", self.r)\n",
    "        print(\"My Marks : \", self.m)\n",
    "        \n",
    "    def grade(self):                       # instance method\n",
    "        if self.m>70 and self.m<=100:\n",
    "            print('First Grade')\n",
    "        elif self.m>50 and self.m<=70:\n",
    "            print('Second Grade')\n",
    "        else:\n",
    "            print('Third Grade')\n",
    "             \n",
    "\n",
    "s1 = Student(\"Robert\", 101, 73)             # object creation for Student class\n",
    "s1.describe()\n",
    "s1.grade()\n",
    "\n",
    "print('---------------------')\n",
    "\n",
    "s2 = Student(\"Aman\", 102, 86)             # object creation for Student class\n",
    "s2.describe()\n",
    "s2.grade()\n"
   ]
  },
  {
   "cell_type": "code",
   "execution_count": 33,
   "metadata": {},
   "outputs": [],
   "source": [
    "class Student:\n",
    "#     def __init__(self):                  # default constructor\n",
    "#         pass\n",
    "    \n",
    "    def fun1(self,name,rollno):            # not acting as a constructor\n",
    "        self.name = name                   # instance variable\n",
    "        self.rno = rollno                  # instance variable\n",
    "        print('Student object is created')\n",
    "\n",
    "    def describe(self,course):             # instance method\n",
    "        self.course = course\n",
    "        print(f'{self.name} is enrolled for {self.course}')\n",
    "        \n",
    "w = Student()\n",
    "# w.fun1('Ankit', 94)\n",
    "# print(w.name,w.rno)\n",
    "# w.describe('BTech')"
   ]
  },
  {
   "cell_type": "code",
   "execution_count": 43,
   "metadata": {},
   "outputs": [
    {
     "name": "stdout",
     "output_type": "stream",
     "text": [
      "Student object is created\n",
      "{'name': 'Rahul'}\n",
      "Rahul is aged 20\n",
      "{'name': 'Rahul', 'age': 20}\n"
     ]
    }
   ],
   "source": [
    "class Student:\n",
    "    def __init__(self,name):               # __init__ = constructor\n",
    "        self.name = name                   # instance variable\n",
    "        print('Student object is created')\n",
    "\n",
    "    def describe(self,age=20):                    # instance method\n",
    "        self.age = age                            # instance variable\n",
    "        print(self.name,\"is aged\", self.age)\n",
    "        \n",
    "a = Student('Rahul')\n",
    "print(a.__dict__)  # {'name': 'Rahul'}\n",
    "a.describe()\n",
    "print(a.__dict__)"
   ]
  },
  {
   "cell_type": "code",
   "execution_count": 45,
   "metadata": {},
   "outputs": [
    {
     "name": "stdout",
     "output_type": "stream",
     "text": [
      "Student object is created\n",
      "{'name': 'Rahul'}\n",
      "Rahul is aged 20\n",
      "Mohit\n",
      "{'name': 'Mohit', 'age': 20}\n",
      "New Delhi\n",
      "{'name': 'Mohit', 'age': 20, 'city': 'New Delhi'}\n"
     ]
    }
   ],
   "source": [
    "class Student:\n",
    "    def __init__(self,name):               # __init__ = constructor\n",
    "        self.name = name                   # instance variable\n",
    "        print('Student object is created')\n",
    "\n",
    "    def describe(self,age=20):                    # instance method\n",
    "        self.age = age                            # instance variable\n",
    "        print(self.name,\"is aged\", self.age)\n",
    "        \n",
    "a = Student('Rahul')\n",
    "print(a.__dict__)  # {'name': 'Rahul'}\n",
    "a.describe()\n",
    "# Change the value of instance variable\n",
    "a.name = \"Mohit\"\n",
    "print(a.name)\n",
    "print(a.__dict__)\n",
    "# Add a new property to the object\n",
    "a.city = \"New Delhi\"\n",
    "print(a.city)\n",
    "# View all the properties of an object\n",
    "print(a.__dict__)"
   ]
  },
  {
   "cell_type": "markdown",
   "metadata": {},
   "source": [
    "#### Self keyword :\n",
    "1) self is the default variable which is always pointing to current object\n",
    "(like this keyword in Javascript)<br>\n",
    "2) By using self we can access instance variables and instance methods of object.<br>\n",
    "\n",
    "<b>Note</b>\n",
    "\n",
    "        a) self should be first parameter inside constructor(__init__)\n",
    "        b)      def __init__(self):\n",
    "        c) self should be first parameter inside instance methods \n",
    "        d)      def talk(self):\n",
    "\n",
    "#### Constructor \n",
    "    1) Constructor is a special method in python.\n",
    "    2) The name of the constructor should be __init__(self)\n",
    "    3) Constructor will be executed automatically at the time of object creation.\n",
    "    4) The main purpose of constructor is to declare and initialize instance variables.\n",
    "    5) Per object constructor will be executed only once at the time of object creation.\n",
    "    6) Constructor can take atleast one argument. (atleast self).\n",
    "    7) Constructor is optional and if we are not providing any constructor then python will provide default constructor\n",
    "\n",
    "Example: <br>\n",
    "    \n",
    "    def __init__(self, name,rollno,marks):\n",
    "        self.name= name\n",
    "        self.rollno = rollno\n",
    "        self.marks = marks\n"
   ]
  },
  {
   "cell_type": "markdown",
   "metadata": {},
   "source": [
    "#### Constructor will execute only once per Object"
   ]
  },
  {
   "cell_type": "code",
   "execution_count": 53,
   "metadata": {},
   "outputs": [
    {
     "name": "stdout",
     "output_type": "stream",
     "text": [
      "Constructor execution\n",
      "Constructor execution\n",
      "Constructor execution\n",
      "Method execution\n",
      "Method execution\n"
     ]
    }
   ],
   "source": [
    "class Demo:\n",
    "    def __init__(self):\n",
    "        print(\"Constructor execution\")\n",
    "\n",
    "    def m1(self):\n",
    "        print(\"Method execution\")\n",
    "                \n",
    "t1 = Demo()\n",
    "t2 = Demo()\n",
    "t3 = Demo()\n",
    "\n",
    "t1.m1()\n",
    "t1.m1()"
   ]
  },
  {
   "cell_type": "markdown",
   "metadata": {},
   "source": [
    "#### Default Constructor\n",
    "\n",
    "Constructor does not conatin any paramaters/arguments"
   ]
  },
  {
   "cell_type": "code",
   "execution_count": 56,
   "metadata": {},
   "outputs": [
    {
     "name": "stdout",
     "output_type": "stream",
     "text": [
      "Hello\n",
      "Understanding OOPC\n",
      "Hello\n"
     ]
    }
   ],
   "source": [
    "class A:\n",
    "#     def __init__(self):  # This is equivalent to default constructor\n",
    "#         pass\n",
    "    \n",
    "    def m2(self):\n",
    "        print('Understanding OOPC')\n",
    "        \n",
    "    def m1(self):\n",
    "        print('Hello')\n",
    "        \n",
    "a = A() # default constructor is being called when object is intantiated or created\n",
    "a.m1()\n",
    "a.m2()\n",
    "a.m1()"
   ]
  },
  {
   "cell_type": "markdown",
   "metadata": {},
   "source": [
    "#### Difference between Methods and Constructor\n",
    "\n",
    "    Method :\n",
    "    1. Name of method can be any name.\n",
    "    2. Method will be executed if we call that method. \n",
    "    3. Per object, method can be called any number of times.\n",
    "    4. Inside method we can write business logic.\n",
    "\n",
    "    Constructor :\n",
    "     1. Constructor name should be always __init__\n",
    "     2. Constructor will be executed automatically at the time of object creation.\n",
    "     3. Per object , constructor will be executed only once.\n",
    "     4. Inside constructor we have to declare and initialize instance variables.\n"
   ]
  },
  {
   "cell_type": "markdown",
   "metadata": {},
   "source": [
    "#### Types of Variables:\n",
    "\n",
    "Inside Python class 2 types of variables are allowed.<br>\n",
    "1) <b>Instance Variables (Object Level Variables)</b> <br>\n",
    "2) <b>Static Variables (Class Level Variables)</b><br>"
   ]
  },
  {
   "cell_type": "markdown",
   "metadata": {},
   "source": [
    "### Instance Variables:\n",
    "1) If the value of a variable varies from object to object, then such type of \n",
    "   variables are called instance variables.<br>\n",
    "2) For every object a separate copy of instance variables will be created/available.<br>\n",
    "\n",
    "#### Where we can declare Instance Variables:\n",
    "1. Inside Constructor by using self variable.<br>\n",
    "2. Inside Instance Method by using self variable.<br>\n",
    "3. Outside of the class by using object reference variable or object<br>\n",
    "\n",
    "<b>Note</b>\n",
    "        \n",
    "        __dict__ - It contains all the attributes which describe the object under consideration. A dictionary or other mapping object used to store an object’s (writable) attributes\n"
   ]
  },
  {
   "cell_type": "markdown",
   "metadata": {},
   "source": [
    "#### Declaring Instance variables"
   ]
  },
  {
   "cell_type": "code",
   "execution_count": 68,
   "metadata": {},
   "outputs": [
    {
     "name": "stdout",
     "output_type": "stream",
     "text": [
      "{'a': 10, 'b': 20}\n",
      "{'a': 10, 'b': 20, 'd': 40}\n",
      "40\n",
      "{'a': 10, 'b': 20, 'd': 40, 'c': 30}\n",
      "t.c 30\n",
      "{'a': 10, 'b': 20, 'd': 40, 'c': 'Pune'}\n",
      "Pune\n"
     ]
    }
   ],
   "source": [
    "class Test:\n",
    "    def __init__(self): # constructor\n",
    "        self.a = 10  # instance variable a\n",
    "        self.b = 20  # instance variable b\n",
    "        \n",
    "    def m1(self):     # instance method\n",
    "        self.c = 30   # instance variable c\n",
    "\n",
    "t = Test()               # constructor is called \n",
    "print(t.__dict__)\n",
    "# print(t.d)\n",
    "t.d = 40             # instance variable d\n",
    "print(t.__dict__)\n",
    "print(t.d)\n",
    "t.m1()\n",
    "print(t.__dict__)\n",
    "print('t.c',t.c)\n",
    "# res = t.__dict__\n",
    "t.c = \"Pune\"\n",
    "print(t.__dict__)\n",
    "print(t.c)"
   ]
  },
  {
   "cell_type": "code",
   "execution_count": 71,
   "metadata": {},
   "outputs": [
    {
     "name": "stdout",
     "output_type": "stream",
     "text": [
      "{'a': 50, 'b': 20}\n",
      "{'a': 50, 'b': 20, 'c': 30}\n",
      "{'a': 50, 'b': 20, 'c': 30, 'd': 40}\n",
      "{'a': 50, 'b': 20, 'c': 'Delhi', 'd': 40}\n"
     ]
    }
   ],
   "source": [
    "class Test:\n",
    "    def __init__(self,a): # constructor\n",
    "        try:\n",
    "            self.a = int(a)  # instance variable a\n",
    "        except:\n",
    "            print('a has to be an int')\n",
    "        self.b = 20  # instance variable b\n",
    "        \n",
    "    def m1(self):     # instance method\n",
    "        self.c = 30   # instance variable c\n",
    "        \n",
    "t = Test(50)\n",
    "print(t.__dict__)\n",
    "t.m1()\n",
    "print(t.__dict__)\n",
    "t.d = 40             # instance variable d\n",
    "print(t.__dict__)\n",
    "# res = t.__dict__\n",
    "t.c = \"Delhi\"\n",
    "print(t.__dict__)"
   ]
  },
  {
   "cell_type": "code",
   "execution_count": 73,
   "metadata": {},
   "outputs": [
    {
     "name": "stdout",
     "output_type": "stream",
     "text": [
      "a has to be an int\n",
      "{'b': 20}\n",
      "{'b': 20, 'c': 30}\n",
      "{'b': 20, 'c': 30, 'd': 40}\n",
      "{'b': 20, 'c': 'Noida', 'd': 40}\n"
     ]
    }
   ],
   "source": [
    "class Test:\n",
    "    def __init__(self,a): # constructor\n",
    "        try:\n",
    "            self.a = int(a)  # instance variable a\n",
    "        except:\n",
    "            print('a has to be an int')\n",
    "        self.b = 20  # instance variable b\n",
    "        \n",
    "    def m1(self):     # instance method\n",
    "        self.c = 30   # instance variable c\n",
    "        \n",
    "t = Test('Hello')\n",
    "print(t.__dict__)\n",
    "t.m1()\n",
    "print(t.__dict__)\n",
    "t.d = 40             # instance variable d\n",
    "print(t.__dict__)\n",
    "# res = t.__dict__\n",
    "t.c =\"Noida\"\n",
    "print(t.__dict__)"
   ]
  },
  {
   "cell_type": "markdown",
   "metadata": {},
   "source": [
    "#### Acess Instance Variable\n",
    "1) Using objectName\n",
    "\n",
    "\n",
    "#### Modify Instance Variable\n",
    "1) using objectName.variableName = value\n",
    "\n",
    "\n",
    "\n",
    "#### Delete Instance Variable\n",
    "1) Inside class from inside instance methods<br>\n",
    "2) Using del objectName.variableName outside the class\n"
   ]
  },
  {
   "cell_type": "code",
   "execution_count": 79,
   "metadata": {},
   "outputs": [
    {
     "name": "stdout",
     "output_type": "stream",
     "text": [
      "{'a': 10, 'b': 20, 'c': 30, 'd': 40}\n",
      "10 20 30 40\n",
      "{'a': 'Google', 'b': 20, 'c': 30, 'd': 40}\n",
      "{'a': 'Google', 'b': 'Welcome', 'c': 30}\n",
      "{'a': 'Google', 'b': 'Welcome'}\n",
      "{'a': 'Google', 'b': 'Welcome', 'd': 'New Variable'}\n"
     ]
    }
   ],
   "source": [
    "class Test:\n",
    "    def __init__(self):\n",
    "        self.a,self.b = 10,20   # instance variable\n",
    "        self.c,self.d = 30,40   # instance variable\n",
    "        self.e = 60\n",
    "        del self.e\n",
    "            \n",
    "    def m1(self):\n",
    "        del self.d\n",
    "        self.b = \"Welcome\"\n",
    "\n",
    "t = Test()      # constructor is called\n",
    "print(t.__dict__)\n",
    "# Access Instance Variable\n",
    "print(t.a,t.b,t.c,t.d)   # 10 20 30 40\n",
    "# Modify Instance Variable\n",
    "t.a = \"Google\"\n",
    "print(t.__dict__)\n",
    "\n",
    "# Delete instance variable d\n",
    "t.m1()\n",
    "print(t.__dict__)\n",
    "\n",
    "# Delete Instance Variable c\n",
    "del t.c\n",
    "print(t.__dict__)\n",
    "t.d = \"New Variable\"\n",
    "print(t.__dict__)"
   ]
  },
  {
   "cell_type": "markdown",
   "metadata": {},
   "source": [
    "#### The instance variables which are deleted /modified for one object, will not be deleted/modified for other objects."
   ]
  },
  {
   "cell_type": "code",
   "execution_count": 84,
   "metadata": {},
   "outputs": [
    {
     "name": "stdout",
     "output_type": "stream",
     "text": [
      "{'a': 10, 'b': 20, 'c': 30, 'd': 40}\n",
      "{'a': 10, 'b': 20, 'c': 30, 'd': 40}\n",
      "{'a': 10, 'c': 30, 'd': 40}\n",
      "{'a': 10, 'b': 20, 'c': 'Welcome', 'd': 40}\n"
     ]
    }
   ],
   "source": [
    "class Test:\n",
    "    def __init__(self):\n",
    "        self.a,self.b = 10,20  # instance variable\n",
    "        self.c,self.d = 30,40  # instance variable\n",
    "\n",
    "t1 = Test()\n",
    "t2 = Test()\n",
    "print(t1.__dict__)\n",
    "print(t2.__dict__)\n",
    "\n",
    "del t1.b\n",
    "t2.c = \"Welcome\"\n",
    "print(t1.__dict__)\n",
    "print(t2.__dict__)"
   ]
  },
  {
   "cell_type": "markdown",
   "metadata": {},
   "source": [
    "### Static Variables(Class level variables)\n",
    "\n",
    "1) If the value of a variable is not varied from object to object, such type of variables we have to declare with in the class directly but outside of methods. Such types of variables are called Static variables.<br>\n",
    "2) For one class only one copy of static variable will be created and shared by all objects of that class.<br>\n",
    "3) We can access static variables either by class name or by object reference. But it is recommended to use class name.<br>\n",
    "4) self keyword is not used with static variables for initialization.\n"
   ]
  },
  {
   "cell_type": "code",
   "execution_count": 90,
   "metadata": {},
   "outputs": [
    {
     "name": "stdout",
     "output_type": "stream",
     "text": [
      "{'name': 'India'}\n",
      "{'__module__': '__main__', 'g': 3, '__init__': <function Test.__init__ at 0x000001B45BAE89D0>, 'm1': <function Test.m1 at 0x000001B45BAE80D0>, '__dict__': <attribute '__dict__' of 'Test' objects>, '__weakref__': <attribute '__weakref__' of 'Test' objects>, '__doc__': None}\n"
     ]
    }
   ],
   "source": [
    "class Test:\n",
    "    g =  3        # static variable\n",
    "    def __init__(self):\n",
    "        self.name = \"India\"\n",
    "        \n",
    "    def m1(self):\n",
    "        print(self.name)\n",
    "    \n",
    "t = Test()\n",
    "print(t.__dict__)\n",
    "print(Test.__dict__)"
   ]
  },
  {
   "cell_type": "markdown",
   "metadata": {},
   "source": [
    "#### Creation of Static varible/ Declaration of Static variable\n",
    "1) Using VariableName = value , defined inside class outside any method<br>\n",
    "2) Inside constructor by using class name.<br>\n",
    "3) Inside instance method by using class name.<br>\n",
    "4) Inside classmethod by using either class name or cls variable.<br>\n",
    "5) Inside static method by using class name.<br>\n",
    "6) Using ClassName.VariableName = value ,outside the class<br>"
   ]
  },
  {
   "cell_type": "code",
   "execution_count": 14,
   "metadata": {},
   "outputs": [
    {
     "name": "stdout",
     "output_type": "stream",
     "text": [
      "{'__module__': '__main__', 'a': 10, '__init__': <function Test.__init__ at 0x0000016A4468AF70>, 'm1': <function Test.m1 at 0x0000016A4468AEE0>, 'm2': <classmethod object at 0x0000016A446BEC40>, 'm3': <staticmethod object at 0x0000016A446BEEB0>, '__dict__': <attribute '__dict__' of 'Test' objects>, '__weakref__': <attribute '__weakref__' of 'Test' objects>, '__doc__': None}\n",
      "---------------------------\n",
      "{'__module__': '__main__', 'a': 10, '__init__': <function Test.__init__ at 0x0000016A4468AF70>, 'm1': <function Test.m1 at 0x0000016A4468AEE0>, 'm2': <classmethod object at 0x0000016A446BEC40>, 'm3': <staticmethod object at 0x0000016A446BEEB0>, '__dict__': <attribute '__dict__' of 'Test' objects>, '__weakref__': <attribute '__weakref__' of 'Test' objects>, '__doc__': None, 'b': 20}\n",
      "{'name': 'Hitesh'}\n",
      "---------------------------\n",
      "{'__module__': '__main__', 'a': 10, '__init__': <function Test.__init__ at 0x0000016A4468AF70>, 'm1': <function Test.m1 at 0x0000016A4468AEE0>, 'm2': <classmethod object at 0x0000016A446BEC40>, 'm3': <staticmethod object at 0x0000016A446BEEB0>, '__dict__': <attribute '__dict__' of 'Test' objects>, '__weakref__': <attribute '__weakref__' of 'Test' objects>, '__doc__': None, 'b': 20, 'c': 30}\n",
      "{'name': 'Hitesh'}\n",
      "---------------------------\n",
      "{'__module__': '__main__', 'a': 10, '__init__': <function Test.__init__ at 0x0000016A4468AF70>, 'm1': <function Test.m1 at 0x0000016A4468AEE0>, 'm2': <classmethod object at 0x0000016A446BEC40>, 'm3': <staticmethod object at 0x0000016A446BEEB0>, '__dict__': <attribute '__dict__' of 'Test' objects>, '__weakref__': <attribute '__weakref__' of 'Test' objects>, '__doc__': None, 'b': 20, 'c': 30, 'd1': 40, 'd2': 400}\n",
      "{'name': 'Hitesh'}\n",
      "---------------------------\n",
      "{'__module__': '__main__', 'a': 10, '__init__': <function Test.__init__ at 0x0000016A4468AF70>, 'm1': <function Test.m1 at 0x0000016A4468AEE0>, 'm2': <classmethod object at 0x0000016A446BEC40>, 'm3': <staticmethod object at 0x0000016A446BEEB0>, '__dict__': <attribute '__dict__' of 'Test' objects>, '__weakref__': <attribute '__weakref__' of 'Test' objects>, '__doc__': None, 'b': 20, 'c': 30, 'd1': 40, 'd2': 400, 'e': 50}\n",
      "{'name': 'Hitesh'}\n",
      "---------------------------\n",
      "{'__module__': '__main__', 'a': 10, '__init__': <function Test.__init__ at 0x0000016A4468AF70>, 'm1': <function Test.m1 at 0x0000016A4468AEE0>, 'm2': <classmethod object at 0x0000016A446BEC40>, 'm3': <staticmethod object at 0x0000016A446BEEB0>, '__dict__': <attribute '__dict__' of 'Test' objects>, '__weakref__': <attribute '__weakref__' of 'Test' objects>, '__doc__': None, 'b': 20, 'c': 30, 'd1': 40, 'd2': 400, 'e': 50, 'f': 60}\n",
      "{'name': 'Hitesh'}\n"
     ]
    }
   ],
   "source": [
    "class Test: \n",
    "    a = 10                  # static variable\n",
    "    def __init__(self):\n",
    "        Test.b = 20         # static variable\n",
    "        self.name=\"Hitesh\"  # instance variable\n",
    "\n",
    "    def m1(self):            # instance method\n",
    "        Test.c = 30          # static variable\n",
    "    \n",
    "    @classmethod\n",
    "    def m2(cls):\n",
    "        cls.d1= 40            # static variable\n",
    "        Test.d2 = 400         # static variable\n",
    "    \n",
    "    @staticmethod\n",
    "    def m3(): \n",
    "        Test.e = 50           # static variable\n",
    "\n",
    "print(Test.__dict__) # only a, none of b,c,d1,d2,e\n",
    "print('---------------------------')\n",
    "\n",
    "t = Test()\n",
    "print(Test.__dict__) # only a,b  none of c,d1,d2,e\n",
    "print(t.__dict__)    # {name :'Hitesh'}\n",
    "\n",
    "print('---------------------------')\n",
    "\n",
    "t.m1() \n",
    "print(Test.__dict__)  # only a,b,c none of d1,d2,e\n",
    "print(t.__dict__)     # {name :'Hitesh'}\n",
    "\n",
    "print('---------------------------')\n",
    "\n",
    "Test.m2()\n",
    "# t.m2()   # this will work as well\n",
    "print(Test.__dict__)  # only a,b,c,d1,d2 none of e\n",
    "print(t.__dict__)     # {name :'Hitesh'}\n",
    "\n",
    "print('---------------------------')\n",
    "\n",
    "Test.m3()\n",
    "# t.m3()   # this will work as well \n",
    "print(Test.__dict__)  # only a,b,c,d1,d2,e  \n",
    "print(t.__dict__)     # {name :'Hitesh'}\n",
    "\n",
    "print('---------------------------')\n",
    "\n",
    "Test.f = 60\n",
    "print(Test.__dict__)  # all of a,b,c,d1,d2,e,f \n",
    "print(t.__dict__)     # {name :'Hitesh'}\n"
   ]
  },
  {
   "cell_type": "code",
   "execution_count": 1,
   "metadata": {},
   "outputs": [
    {
     "name": "stdout",
     "output_type": "stream",
     "text": [
      "{'__module__': '__main__', 'a': 10, '__init__': <function Test.__init__ at 0x000002219C78AAF0>, 'm1': <function Test.m1 at 0x000002219C78AB80>, 'm2': <classmethod object at 0x000002219C7AF280>, 'm3': <staticmethod object at 0x000002219C7AF220>, '__dict__': <attribute '__dict__' of 'Test' objects>, '__weakref__': <attribute '__weakref__' of 'Test' objects>, '__doc__': None}\n",
      "{'__module__': '__main__', 'a': 10, '__init__': <function Test.__init__ at 0x000002219C78AAF0>, 'm1': <function Test.m1 at 0x000002219C78AB80>, 'm2': <classmethod object at 0x000002219C7AF280>, 'm3': <staticmethod object at 0x000002219C7AF220>, '__dict__': <attribute '__dict__' of 'Test' objects>, '__weakref__': <attribute '__weakref__' of 'Test' objects>, '__doc__': None, 'd1': 40, 'd2': 400}\n"
     ]
    }
   ],
   "source": [
    "class Test: \n",
    "    a = 10                  # static variable\n",
    "    def __init__(self):\n",
    "        Test.b = 20         # static variable\n",
    "        self.name=\"Hitesh\"  # instance variable\n",
    "\n",
    "    def m1(self):            # instance method\n",
    "        Test.c = 30          # static variable\n",
    "    \n",
    "    @classmethod\n",
    "    def m2(cls):\n",
    "        cls.d1= 40            # static variable\n",
    "        Test.d2 = 400         # static variable\n",
    "    \n",
    "    @staticmethod\n",
    "    def m3(): \n",
    "        Test.e = 50           # static variable\n",
    "        \n",
    "print(Test.__dict__)\n",
    "Test.m2()\n",
    "print(Test.__dict__)"
   ]
  },
  {
   "cell_type": "markdown",
   "metadata": {},
   "source": [
    "#### Access Static Variables\n",
    "\n",
    "1) Inside Constructor: by using either self or classname<br>\n",
    "2) Inside Instance method: by using either self or classname<br>\n",
    "3) Inside class method : by using either cls variable or classname<br>\n",
    "4) Inside static method: by using classname<br>\n",
    "5) From outside of class : by using either object reference or classname<br>\n"
   ]
  },
  {
   "cell_type": "code",
   "execution_count": 5,
   "metadata": {},
   "outputs": [
    {
     "name": "stdout",
     "output_type": "stream",
     "text": [
      "Google 20\n",
      "20\n",
      "Google\n",
      "20 15 Google\n",
      "20 15\n",
      "20\n",
      "20 15\n",
      "20\n"
     ]
    }
   ],
   "source": [
    "class Test:\n",
    "    a,b = 20,15   # a and b are static variable\n",
    "    def __init__(self):\n",
    "        self.b =  \"Google\"    # uncomment and execute this code later\n",
    "        print(self.b, Test.a)\n",
    "\n",
    "    def m1(self):\n",
    "        print(self.a, Test.b,self.b)\n",
    "    \n",
    "    @classmethod\n",
    "    def m2(cls):\n",
    "        print(cls.a, Test.b) \n",
    "    \n",
    "    @staticmethod\n",
    "    def m3():\n",
    "        print(Test.a)\n",
    "\n",
    "t = Test()    # 15 20  - Google 20\n",
    "print(Test.a) # 20\n",
    "print(t.b)    # 15     - Google\n",
    "t.m1()        # 20 15 15 - 20 15 Google\n",
    "t.m2()        # 20 15\n",
    "t.m3()        # 20\n",
    "Test.m2()     # 20 15\n",
    "Test.m3()     # 20\n",
    "# print(Test.f)"
   ]
  },
  {
   "cell_type": "markdown",
   "metadata": {},
   "source": [
    "#### Modify the value of static variable\n",
    "Anywhere either with in the class or outside of class we can modify by using classname.<br>\n",
    "1) Inside class method, by using cls variable or classname.<br>\n",
    "2) Inside static method, by using classname.<br>\n",
    "3) Inside instance method using classname.<br>\n",
    "4) Using className outside the class."
   ]
  },
  {
   "cell_type": "code",
   "execution_count": 36,
   "metadata": {},
   "outputs": [
    {
     "name": "stdout",
     "output_type": "stream",
     "text": [
      "750\n",
      "800\n",
      "800 Hello\n",
      "----------\n",
      "850 Home\n",
      "------\n",
      "900 Home\n",
      "------\n",
      "900 Welcome\n",
      "------\n",
      "8698 Welcome\n"
     ]
    }
   ],
   "source": [
    "class Test:\n",
    "    a,b = 750, \"Hello\"   # static variable\n",
    "    \n",
    "    @classmethod\n",
    "    def m1(cls):\n",
    "        cls.a = 800\n",
    "        print(cls.a)\n",
    "    \n",
    "    @classmethod\n",
    "    def m2(cls):\n",
    "        Test.a = 850\n",
    "        cls.b =\"Home\"\n",
    "        \n",
    "    @staticmethod\n",
    "    def m3():\n",
    "        Test.a = 900\n",
    "    \n",
    "    def m4(self):                 # instance method\n",
    "        Test.b = \"Welcome\"\n",
    "\n",
    "print(Test.a)   # 750\n",
    "Test.m1()       # 800\n",
    "print(Test.a,Test.b)  # 800 Hello\n",
    "print('----------')\n",
    "Test.m2()\n",
    "print(Test.a,Test.b)  # 850 Home\n",
    "print('------')\n",
    "Test.m3()\n",
    "print(Test.a, Test.b) # 900 Home\n",
    "print('------')\n",
    "a = Test()            # default constructor\n",
    "a.m4()\n",
    "print(Test.a,Test.b)  # 900 Welcome\n",
    "print('------')\n",
    "Test.a = 8698\n",
    "print(Test.a,Test.b)"
   ]
  },
  {
   "cell_type": "code",
   "execution_count": 41,
   "metadata": {},
   "outputs": [
    {
     "name": "stdout",
     "output_type": "stream",
     "text": [
      "750 Hello\n",
      "850 Home\n",
      "600 Bye\n",
      "600 Bye\n"
     ]
    }
   ],
   "source": [
    "class Test:\n",
    "    a,b = 750, \"Hello\"   # static variable\n",
    "    \n",
    "    def __init__(self):\n",
    "        Test.a = 600\n",
    "        Test.b = \"Bye\"\n",
    "        print(Test.a,Test.b)\n",
    "    \n",
    "    @classmethod\n",
    "    def m1(cls):\n",
    "        cls.a = 800\n",
    "        print(cls.a)\n",
    "    \n",
    "    @classmethod\n",
    "    def m2(cls):\n",
    "        Test.a = 850\n",
    "        cls.b =\"Home\"\n",
    "        \n",
    "    @staticmethod\n",
    "    def m3():\n",
    "        Test.a = 900\n",
    "    \n",
    "    def m4(self):                 # instance method\n",
    "        Test.b = \"Welcome\"\n",
    "        \n",
    "print(Test.a,Test.b)        \n",
    "Test.m2()\n",
    "print(Test.a,Test.b)\n",
    "t = Test()\n",
    "print(Test.a,Test.b)"
   ]
  },
  {
   "cell_type": "markdown",
   "metadata": {},
   "source": [
    "#### Delete Static Variables:\n",
    "\n",
    "1) We can delete static variables from anywhere by using the following syntax:<br>\n",
    "             \n",
    "        del classname.variablename \n",
    "    \n",
    "2) We can also use cls variable (inside classmethod)<br>\n",
    "     \n",
    "        del cls.variablename\n",
    "\n",
    "\n",
    "Example:\n"
   ]
  },
  {
   "cell_type": "code",
   "execution_count": 47,
   "metadata": {},
   "outputs": [
    {
     "name": "stdout",
     "output_type": "stream",
     "text": [
      "{'__module__': '__main__', 'a': 10, 'm': 78, '__init__': <function Test.__init__ at 0x000001D3BD3B7550>, 'm1': <function Test.m1 at 0x000001D3BD3B7AF0>, 'm2': <classmethod object at 0x000001D3BD2DFF40>, 'm3': <staticmethod object at 0x000001D3BD3F1400>, '__dict__': <attribute '__dict__' of 'Test' objects>, '__weakref__': <attribute '__weakref__' of 'Test' objects>, '__doc__': None}\n",
      "-----------------------------\n",
      "{'__module__': '__main__', 'm': 78, '__init__': <function Test.__init__ at 0x000001D3BD3B7550>, 'm1': <function Test.m1 at 0x000001D3BD3B7AF0>, 'm2': <classmethod object at 0x000001D3BD2DFF40>, 'm3': <staticmethod object at 0x000001D3BD3F1400>, '__dict__': <attribute '__dict__' of 'Test' objects>, '__weakref__': <attribute '__weakref__' of 'Test' objects>, '__doc__': None, 'b': 20}\n",
      "-----------------------------\n",
      "{'__module__': '__main__', 'm': 78, '__init__': <function Test.__init__ at 0x000001D3BD3B7550>, 'm1': <function Test.m1 at 0x000001D3BD3B7AF0>, 'm2': <classmethod object at 0x000001D3BD2DFF40>, 'm3': <staticmethod object at 0x000001D3BD3F1400>, '__dict__': <attribute '__dict__' of 'Test' objects>, '__weakref__': <attribute '__weakref__' of 'Test' objects>, '__doc__': None, 'c': 30}\n",
      "-----------------------------\n",
      "{'__module__': '__main__', '__init__': <function Test.__init__ at 0x000001D3BD3B7550>, 'm1': <function Test.m1 at 0x000001D3BD3B7AF0>, 'm2': <classmethod object at 0x000001D3BD2DFF40>, 'm3': <staticmethod object at 0x000001D3BD3F1400>, '__dict__': <attribute '__dict__' of 'Test' objects>, '__weakref__': <attribute '__weakref__' of 'Test' objects>, '__doc__': None, 'd': 40}\n",
      "-----------------------------\n",
      "{'__module__': '__main__', '__init__': <function Test.__init__ at 0x000001D3BD3B7550>, 'm1': <function Test.m1 at 0x000001D3BD3B7AF0>, 'm2': <classmethod object at 0x000001D3BD2DFF40>, 'm3': <staticmethod object at 0x000001D3BD3F1400>, '__dict__': <attribute '__dict__' of 'Test' objects>, '__weakref__': <attribute '__weakref__' of 'Test' objects>, '__doc__': None, 'e': 50}\n",
      "-----------------------------\n",
      "{'__module__': '__main__', '__init__': <function Test.__init__ at 0x000001D3BD3B7550>, 'm1': <function Test.m1 at 0x000001D3BD3B7AF0>, 'm2': <classmethod object at 0x000001D3BD2DFF40>, 'm3': <staticmethod object at 0x000001D3BD3F1400>, '__dict__': <attribute '__dict__' of 'Test' objects>, '__weakref__': <attribute '__weakref__' of 'Test' objects>, '__doc__': None, 'e': 50, 'f': 60}\n",
      "-----------------------------\n",
      "{'__module__': '__main__', '__init__': <function Test.__init__ at 0x000001D3BD3B7550>, 'm1': <function Test.m1 at 0x000001D3BD3B7AF0>, 'm2': <classmethod object at 0x000001D3BD2DFF40>, 'm3': <staticmethod object at 0x000001D3BD3F1400>, '__dict__': <attribute '__dict__' of 'Test' objects>, '__weakref__': <attribute '__weakref__' of 'Test' objects>, '__doc__': None, 'f': 60}\n"
     ]
    }
   ],
   "source": [
    "class Test:\n",
    "    a,m = 10, 78   # static variable\n",
    "    def __init__(self):\n",
    "        Test.b = 20\n",
    "        del Test.a\n",
    "\n",
    "    def m1(self):\n",
    "        Test.c = 30\n",
    "        del Test.b\n",
    "    \n",
    "    @classmethod\n",
    "    def m2(cls):\n",
    "        cls.d = 40\n",
    "        del Test.c\n",
    "        del cls.m\n",
    "    \n",
    "    @staticmethod\n",
    "    def m3():\n",
    "        Test.e = 50\n",
    "        del Test.d\n",
    "        \n",
    "print(Test.__dict__) # only a,m\n",
    "print('-----------------------------')\n",
    "t = Test()\n",
    "print(Test.__dict__) # only b,m, deleted a\n",
    "print('-----------------------------')\n",
    "t.m1()\n",
    "print(Test.__dict__)  # only c,m, deleted b\n",
    "print('-----------------------------')\n",
    "Test.m2()\n",
    "print(Test.__dict__)  # only d, deleted c and m \n",
    "print('-----------------------------')\n",
    "Test.m3()\n",
    "print(Test.__dict__)  # only e, deleted d\n",
    "print('-----------------------------')\n",
    "Test.f = 60\n",
    "print(Test.__dict__)  # only e,f\n",
    "print('-----------------------------')\n",
    "del Test.e \n",
    "print(Test.__dict__)  # only f\n"
   ]
  },
  {
   "cell_type": "code",
   "execution_count": 9,
   "metadata": {},
   "outputs": [
    {
     "name": "stdout",
     "output_type": "stream",
     "text": [
      "{'__module__': '__main__', 'a': 10, 'm': 78, '__init__': <function Test.__init__ at 0x000002219C856790>, 'm1': <function Test.m1 at 0x000002219C856700>, '__dict__': <attribute '__dict__' of 'Test' objects>, '__weakref__': <attribute '__weakref__' of 'Test' objects>, '__doc__': None}\n",
      "{'__module__': '__main__', 'm': 78, '__init__': <function Test.__init__ at 0x000002219C856790>, 'm1': <function Test.m1 at 0x000002219C856700>, '__dict__': <attribute '__dict__' of 'Test' objects>, '__weakref__': <attribute '__weakref__' of 'Test' objects>, '__doc__': None, 'd': 20, 'b': 45}\n",
      "{'__module__': '__main__', 'm': 78, '__init__': <function Test.__init__ at 0x000002219C856790>, 'm1': <function Test.m1 at 0x000002219C856700>, '__dict__': <attribute '__dict__' of 'Test' objects>, '__weakref__': <attribute '__weakref__' of 'Test' objects>, '__doc__': None, 'd': 20, 'c': 30}\n"
     ]
    }
   ],
   "source": [
    "class Test:\n",
    "    a,m = 10, 78   # static variable\n",
    "    def __init__(self):\n",
    "        Test.d = 20\n",
    "        Test.b = 45\n",
    "        del Test.a\n",
    "\n",
    "    def m1(self):\n",
    "        Test.c = 30\n",
    "        del Test.b\n",
    "        \n",
    "print(Test.__dict__)  # a,m\n",
    "t = Test()\n",
    "print(Test.__dict__) # m,d\n",
    "t.m1()\n",
    "print(Test.__dict__)"
   ]
  },
  {
   "cell_type": "markdown",
   "metadata": {},
   "source": [
    "#### Note -\n",
    "If we change the value of static variable by using either self or object reference\n",
    "variable, then the value of static variable wont be changed, just a new instance\n",
    "variable with that name will be added to that particular object."
   ]
  },
  {
   "cell_type": "code",
   "execution_count": 11,
   "metadata": {},
   "outputs": [
    {
     "name": "stdout",
     "output_type": "stream",
     "text": [
      "{}\n",
      "{'a': 888}\n",
      "10\n",
      "888\n",
      "3\n",
      "{'__module__': '__main__', 'a': 10, 'b': 3, 'm1': <function Test.m1 at 0x000002219C856E50>, '__dict__': <attribute '__dict__' of 'Test' objects>, '__weakref__': <attribute '__weakref__' of 'Test' objects>, '__doc__': None}\n",
      "10 3\n",
      "{'a': 'Welcome', 'b': 678, 'c': 'Hello'}\n",
      "{'__module__': '__main__', 'a': 10, 'b': 3, 'm1': <function Test.m1 at 0x000002219C856E50>, '__dict__': <attribute '__dict__' of 'Test' objects>, '__weakref__': <attribute '__weakref__' of 'Test' objects>, '__doc__': None}\n"
     ]
    }
   ],
   "source": [
    "class Test:\n",
    "    a,b = 10,3   # static variable\n",
    "    \n",
    "    def m1(self):\n",
    "        self.a = 888  # instance variable\n",
    "        \n",
    "t1 = Test()          # calling default constructor\n",
    "print(t1.__dict__)  # empty dict , as t1 is calling default constructor\n",
    "t1.m1()\n",
    "print(t1.__dict__)  # {'a':888}\n",
    "print(Test.a)  # 10\n",
    "print(t1.a)    # 888 (an object of class first looks for instance variable and then it looks for static variable, if instance variable is not present)\n",
    "print(t1.b)    # 3\n",
    "print(Test.__dict__) \n",
    "\n",
    "t1.b = 678\n",
    "t1.c = \"Hello\"\n",
    "t1.a = \"Welcome\"\n",
    "print(Test.a,Test.b) # 10 3\n",
    "print(t1.__dict__)   # {'a': 'Welcome', 'b': 678, 'c': 'Hello'}\n",
    "print(Test.__dict__)"
   ]
  },
  {
   "cell_type": "markdown",
   "metadata": {},
   "source": [
    "#### Types of Methods\n",
    "\n",
    "Inside Python class three types of methods are allowed.<br>\n",
    "<b>\n",
    "a) Instance methods <br>\n",
    "b) Class methods <br>\n",
    "c) Static methods \n",
    "</b>"
   ]
  },
  {
   "cell_type": "markdown",
   "metadata": {},
   "source": [
    "#### 1. Instance Methods:\n",
    "\n",
    "1) Inside method implementation if we are using instance variables then such type of methods are called instance methods.<br>\n",
    "2) Inside instance method declaration, we have to pass self variable. <br>\n",
    "         \n",
    "         def m1(self):\n",
    "         \n",
    "3) By using self variable inside method we can create instance variables.<br>\n",
    "4) Instance methods are called by objectName.methodName outside the class.<br>"
   ]
  },
  {
   "cell_type": "code",
   "execution_count": 12,
   "metadata": {},
   "outputs": [
    {
     "name": "stdout",
     "output_type": "stream",
     "text": [
      "Enter number of students:2\n",
      "Enter Name:Vishal\n",
      "Enter Marks: 87\n",
      "Vishal 87\n",
      "Hi Vishal\n",
      "Your Marks are: 87\n",
      "You got first Grade\n",
      "-----------\n",
      "Enter Name:Rahul\n",
      "Enter Marks: 54\n",
      "Rahul 54\n",
      "Hi Rahul\n",
      "Your Marks are: 54\n",
      "You got Second Grade\n",
      "-----------\n",
      "[<__main__.Student object at 0x000002219C7AF4C0>, <__main__.Student object at 0x000002219C7AF040>]\n"
     ]
    }
   ],
   "source": [
    "class Student:\n",
    "    def __init__(self, name,marks):   # constructor\n",
    "        self.name = name              # instance variable \n",
    "        self.marks = marks            # instance variable\n",
    "        \n",
    "    def display(self):                # instance method\n",
    "        print('Hi', self.name)\n",
    "        print('Your Marks are:', self.marks)\n",
    "    \n",
    "    def grade(self):                  # instance method\n",
    "        if self.marks >= 60 and self.marks <=100:\n",
    "            print('You got first Grade')\n",
    "        elif self.marks >= 50 and self.marks <60:\n",
    "            print('You got Second Grade')\n",
    "        elif self.marks >= 35 and self.marks <50:\n",
    "            print('You got Third Grade')\n",
    "        else:\n",
    "            print('You are Failed')\n",
    "            \n",
    "r = []           \n",
    "n = int(input('Enter number of students:'))\n",
    "for i in range(n):\n",
    "    name = input('Enter Name:')\n",
    "    marks = int(input('Enter Marks: '))\n",
    "    s = Student(name, marks)    # constructor calling\n",
    "    r.append(s)    \n",
    "    print(s.name,s.marks)\n",
    "    s.display()\n",
    "    s.grade()\n",
    "    print('-----------')    \n",
    "print(r)"
   ]
  },
  {
   "cell_type": "code",
   "execution_count": 16,
   "metadata": {},
   "outputs": [
    {
     "name": "stdout",
     "output_type": "stream",
     "text": [
      "Vishal 87\n",
      "Rahul 54\n"
     ]
    }
   ],
   "source": [
    "for i in r:\n",
    "    print(i.name,i.marks)"
   ]
  },
  {
   "cell_type": "code",
   "execution_count": 15,
   "metadata": {},
   "outputs": [
    {
     "name": "stdout",
     "output_type": "stream",
     "text": [
      "Vishal 87\n",
      "Rahul 54\n"
     ]
    }
   ],
   "source": [
    "for i in range(len(r)):\n",
    "    print(r[i].name,r[i].marks)"
   ]
  },
  {
   "cell_type": "code",
   "execution_count": 17,
   "metadata": {},
   "outputs": [
    {
     "name": "stdout",
     "output_type": "stream",
     "text": [
      "{'name': 'Vishal', 'marks': 87}\n",
      "{'name': 'Rahul', 'marks': 54}\n"
     ]
    }
   ],
   "source": [
    "for i in r:\n",
    "    print(i.__dict__)"
   ]
  },
  {
   "cell_type": "code",
   "execution_count": null,
   "metadata": {},
   "outputs": [],
   "source": []
  },
  {
   "cell_type": "code",
   "execution_count": 8,
   "metadata": {},
   "outputs": [
    {
     "name": "stdout",
     "output_type": "stream",
     "text": [
      "{'a1': []}\n",
      "{'a1': [45]}\n"
     ]
    }
   ],
   "source": [
    "d = {'a1':[]}\n",
    "print(d)\n",
    "d['a1'].append(45)\n",
    "print(d)"
   ]
  },
  {
   "cell_type": "code",
   "execution_count": 18,
   "metadata": {},
   "outputs": [
    {
     "name": "stdout",
     "output_type": "stream",
     "text": [
      "Enter number of students:2\n",
      "Enter Name:Avantika\n",
      "Enter Marks: 93\n",
      "Avantika 93\n",
      "Hi Avantika\n",
      "Your Marks are: 93\n",
      "You got first Grade\n",
      "-----------\n",
      "Enter Name:Ritu\n",
      "Enter Marks: 45\n",
      "Ritu 45\n",
      "Hi Ritu\n",
      "Your Marks are: 45\n",
      "You got Third Grade\n",
      "-----------\n",
      "{'name': ['Avantika', 'Ritu'], 'marks': [93, 45]}\n"
     ]
    }
   ],
   "source": [
    "class Student:\n",
    "    def __init__(self, name,marks):   # constructor\n",
    "        self.name = name              # instance variable \n",
    "        self.marks = marks            # instance variable\n",
    "        \n",
    "    def display(self):                # instance method\n",
    "        print('Hi', self.name)\n",
    "        print('Your Marks are:', self.marks)\n",
    "    \n",
    "    def grade(self):                  # instance method\n",
    "        if self.marks >= 60 and self.marks <=100:\n",
    "            print('You got first Grade')\n",
    "        elif self.marks >= 50 and self.marks <60:\n",
    "            print('You got Second Grade')\n",
    "        elif self.marks >= 35 and self.marks <50:\n",
    "            print('You got Third Grade')\n",
    "        else:\n",
    "            print('You are Failed')\n",
    "            \n",
    "d = {'name':[],'marks':[]}         \n",
    "n = int(input('Enter number of students:'))\n",
    "for i in range(n):\n",
    "    name = input('Enter Name:')\n",
    "    marks = int(input('Enter Marks: '))\n",
    "    s = Student(name, marks)    # constructor calling\n",
    "    d['name'].append(name)\n",
    "    d['marks'].append(marks)   \n",
    "    print(s.name,s.marks)\n",
    "    s.display()\n",
    "    s.grade()\n",
    "    print('-----------')    \n",
    "print(d)"
   ]
  },
  {
   "cell_type": "markdown",
   "metadata": {},
   "source": [
    "#### Setter and Getter Methods:\n",
    "1) We can set and get the values of instance variables by using getter and setter methods.\n",
    " \n",
    "<b>a) Setter Method:</b><br>\n",
    "1) setter methods can be used to set or initilaize values to the instance variables.<br>\n",
    "2) setter methods also known as mutator methods.\n",
    "\n",
    "Syntax:\n",
    "           \n",
    "        def setVariable(self,variable):\n",
    "            self.variable = variable\n",
    "\n",
    " Example:\n",
    "        \n",
    "        def setName(self,name):\n",
    "            self.name = name\n",
    "\n",
    "\n",
    "<b>b) Getter Method:</b><br>\n",
    "1) Getter methods can be used to get values(fetch values) for the instance variables.<br>\n",
    "2) Getter methods also known as accessor methods.\n",
    "\n",
    "Syntax:\n",
    " \n",
    "        def getVariable(self):\n",
    "            return self.variable\n",
    "\n",
    "Example :\n",
    "    \n",
    "        def getName(self):\n",
    "            return self.Name\n"
   ]
  },
  {
   "cell_type": "code",
   "execution_count": 10,
   "metadata": {},
   "outputs": [
    {
     "name": "stdout",
     "output_type": "stream",
     "text": [
      "Enter number of students:2\n",
      "Enter Name:kashvi\n",
      "Enter Marks:67\n",
      "Hi kashvi\n",
      "Your Marks are: 67\n",
      "------------\n",
      "Enter Name:aliya\n",
      "Enter Marks:78\n",
      "Hi aliya\n",
      "Your Marks are: 78\n",
      "------------\n"
     ]
    }
   ],
   "source": [
    "class Student:\n",
    "    def setName(self,name):\n",
    "        self.name = name\n",
    "        \n",
    "    def getName(self):\n",
    "        return self.name\n",
    "\n",
    "    def setMarks(self,marks):\n",
    "        self.marks = marks\n",
    "        \n",
    "    def getMarks(self):\n",
    "        return self.marks\n",
    "\n",
    "n = int(input('Enter number of students:'))\n",
    "for i in range(n):\n",
    "    s = Student()\n",
    "    name = input('Enter Name:')\n",
    "    s.setName(name)\n",
    "    marks = int(input('Enter Marks:'))\n",
    "    s.setMarks(marks)\n",
    "\n",
    "    print('Hi', s.getName())\n",
    "    print('Your Marks are:', s.getMarks())\n",
    "    print('------------')\n"
   ]
  },
  {
   "cell_type": "markdown",
   "metadata": {},
   "source": [
    "### 2. Class Methods:\n",
    "1) Inside method implementation if we are using only class variables (static variables), then such type of methods we should declare as class method.<br>\n",
    "2) We can declare class method explicitly by using @classmethod decorator just above defining the method<br>\n",
    "3) For class method we should provide cls variable at the time of declaration.<br>\n",
    "4) We can call classmethod by using classname or object reference variable.<br>\n",
    "5) It is used to define static variables.\n"
   ]
  },
  {
   "cell_type": "code",
   "execution_count": 21,
   "metadata": {},
   "outputs": [
    {
     "name": "stdout",
     "output_type": "stream",
     "text": [
      "Dog walks with 4 Legs.\n",
      "Cat walks with 4 Legs.\n",
      "Elephant walks with 4 Legs.\n",
      "Lion walks with 4 Legs.\n"
     ]
    }
   ],
   "source": [
    "class Animal:\n",
    "    legs = 4   # static variable\n",
    "\n",
    "    @classmethod\n",
    "    def walk(cls,name):\n",
    "        print('{} walks with {} Legs.'.format(name,cls.legs))\n",
    "\n",
    "Animal.walk('Dog')\n",
    "Animal.walk('Cat')\n",
    "Animal.walk('Elephant')\n",
    "\n",
    "a = Animal()\n",
    "a.walk('Lion')"
   ]
  },
  {
   "cell_type": "code",
   "execution_count": null,
   "metadata": {},
   "outputs": [],
   "source": []
  },
  {
   "cell_type": "markdown",
   "metadata": {},
   "source": [
    "### 3) Static Methods:\n",
    "1) Here we don't provide self or cls arguments at the time of declaration.<br>\n",
    "2) Inside these methods we don't use any instances or class variables(class varibles can be used only with ClassName).<br>\n",
    "3) We can declare static method explicitly by using @staticmethod decorator<br>\n",
    "4) We can access static methods by using classname or object reference (objects of a class)<br>"
   ]
  },
  {
   "cell_type": "code",
   "execution_count": 22,
   "metadata": {},
   "outputs": [
    {
     "name": "stdout",
     "output_type": "stream",
     "text": [
      "{'__module__': '__main__', 'a': 10, 'work': <staticmethod object at 0x000002219C86D790>, 'add': <staticmethod object at 0x000002219C86DF10>, 'product': <staticmethod object at 0x000002219C86DDC0>, 'average': <staticmethod object at 0x000002219C86DE80>, '__dict__': <attribute '__dict__' of 'Math' objects>, '__weakref__': <attribute '__weakref__' of 'Math' objects>, '__doc__': None}\n",
      "10\n",
      "The sum: 30\n",
      "The product: 10\n",
      "The average: 10.0\n",
      "Value of static variable a is 20\n",
      "20\n",
      "The sum: 60\n"
     ]
    }
   ],
   "source": [
    "class Math:\n",
    "    a = 10   # static variable\n",
    "    @staticmethod\n",
    "    def work():\n",
    "        Math.a = 20  # static variable\n",
    "        print('Value of static variable a is', Math.a)\n",
    "    \n",
    "    @staticmethod\n",
    "    def add(x,y):\n",
    "        print('The sum:', x+y)\n",
    "    \n",
    "    @staticmethod\n",
    "    def product(x,y):\n",
    "        print('The product:', x*y)\n",
    "\n",
    "    @staticmethod\n",
    "    def average(x,y):\n",
    "        print('The average:', (x+y)/2)\n",
    "\n",
    "print(Math.__dict__)\n",
    "print(Math.a)\n",
    "Math.add(10,20)\n",
    "Math.product(5,2)\n",
    "Math.average(8,12)\n",
    "Math.work()\n",
    "print(Math.a)\n",
    "\n",
    "\n",
    "m = Math()\n",
    "m.add(35,25)"
   ]
  },
  {
   "cell_type": "code",
   "execution_count": 23,
   "metadata": {},
   "outputs": [
    {
     "name": "stdout",
     "output_type": "stream",
     "text": [
      "The product: 200\n",
      "The average: 15.0\n",
      "The sum: 60\n"
     ]
    }
   ],
   "source": [
    "class Math:\n",
    "    def add(self,x,y):         # instance method\n",
    "        self.x,self.y = x,y\n",
    "        print('The sum:', self.x + self.y)\n",
    "    \n",
    "    @staticmethod\n",
    "    def product(x,y):\n",
    "        print('The product:', x*y)\n",
    "\n",
    "    @staticmethod\n",
    "    def average(x,y):\n",
    "        print('The average:', (x+y)/2)\n",
    "        \n",
    "Math.product(10,20)\n",
    "Math.average(10,20)\n",
    "\n",
    "m = Math()\n",
    "m.add(35,25)"
   ]
  },
  {
   "cell_type": "code",
   "execution_count": 24,
   "metadata": {},
   "outputs": [
    {
     "name": "stdout",
     "output_type": "stream",
     "text": [
      "The sum: 7\n"
     ]
    }
   ],
   "source": [
    "class A:\n",
    "    \n",
    "    def add(self,x,y):\n",
    "        print('The sum:', x+y)\n",
    "    \n",
    "m = A()\n",
    "m.add(3,4)"
   ]
  },
  {
   "cell_type": "code",
   "execution_count": 25,
   "metadata": {},
   "outputs": [
    {
     "name": "stdout",
     "output_type": "stream",
     "text": [
      "The sum: 7\n"
     ]
    }
   ],
   "source": [
    "class A:\n",
    "    \n",
    "    @staticmethod\n",
    "    def add(x,y):\n",
    "        print('The sum:', x+y)\n",
    "    \n",
    "m = A()\n",
    "m.add(3,4)"
   ]
  },
  {
   "cell_type": "code",
   "execution_count": null,
   "metadata": {},
   "outputs": [],
   "source": []
  }
 ],
 "metadata": {
  "kernelspec": {
   "display_name": "Python 3",
   "language": "python",
   "name": "python3"
  },
  "language_info": {
   "codemirror_mode": {
    "name": "ipython",
    "version": 3
   },
   "file_extension": ".py",
   "mimetype": "text/x-python",
   "name": "python",
   "nbconvert_exporter": "python",
   "pygments_lexer": "ipython3",
   "version": "3.8.8"
  }
 },
 "nbformat": 4,
 "nbformat_minor": 2
}
