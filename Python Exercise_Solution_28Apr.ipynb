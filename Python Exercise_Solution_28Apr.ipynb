{
 "cells": [
  {
   "cell_type": "markdown",
   "id": "a0ca67e6",
   "metadata": {},
   "source": [
    "#### Q19) \n",
    "A list containing multiple lists is given. Convert each inner list into sets and find the intersection of all the sets. Use reduce function.<br>\n",
    "given_sets = [[7,3,12,45,78,13], [9,12,15,67,34,78], [19,20,78,12,25,95], [12,78,80,21,80], [13,14,12,15,16,75,76,77,78,79,80]]\n",
    "Output: {12,78}"
   ]
  },
  {
   "cell_type": "code",
   "execution_count": 1,
   "id": "1b02b7ff",
   "metadata": {},
   "outputs": [],
   "source": [
    "from functools import reduce"
   ]
  },
  {
   "cell_type": "code",
   "execution_count": 6,
   "id": "2be7fce1",
   "metadata": {},
   "outputs": [
    {
     "name": "stdout",
     "output_type": "stream",
     "text": [
      "[{3, 7, 12, 45, 78, 13}, {34, 67, 9, 12, 78, 15}, {12, 78, 19, 20, 25, 95}, {80, 12, 21, 78}, {75, 12, 13, 14, 15, 16, 76, 77, 78, 79, 80}]\n",
      "{12, 78}\n",
      "<class 'set'>\n"
     ]
    }
   ],
   "source": [
    "a = [[7,3,12,45,78,13], [9,12,15,67,34,78], \n",
    "     [19,20,78,12,25,95], [12,78,80,21,80], \n",
    "     [13,14,12,15,16,75,76,77,78,79,80]]\n",
    "\n",
    "a_set = [set(i) for i in a] # list of sets\n",
    "print(a_set)\n",
    "res = reduce(set.intersection,a_set)\n",
    "print(res)\n",
    "print(type(res))\n",
    "\n",
    "# Step1 -> s1={3, 7, 12, 45, 78, 13},s2={34, 67, 9, 12, 78, 15} => res_temp = {12,78} \n",
    "# Step2 -> s1 ={12,78} ,s2 ={12, 78, 19, 20, 25, 95} => res_temp ={12,78}\n",
    "# Step3 -> s1 = {12,78}, s2= {80, 12, 21, 78} => res_temp ={12,78}\n",
    "# Step4 -> "
   ]
  },
  {
   "cell_type": "markdown",
   "id": "1e09b26b",
   "metadata": {},
   "source": [
    "#### 18) Find the cumulative average of the list [5,7,3,6,9,8] using accumulate() and list comprehension. Result should be upto 2 decimal places \n",
    "Sample Output<br>\n",
    "[5.0, 6.0, 5.0, 5.25, 6.0, 6.33]"
   ]
  },
  {
   "cell_type": "code",
   "execution_count": 7,
   "id": "a09689d6",
   "metadata": {},
   "outputs": [],
   "source": [
    "from itertools import accumulate"
   ]
  },
  {
   "cell_type": "code",
   "execution_count": 11,
   "id": "74931a46",
   "metadata": {},
   "outputs": [
    {
     "name": "stdout",
     "output_type": "stream",
     "text": [
      "[5, 12, 15, 21, 30, 38]\n",
      "[5.0, 6.0, 5.0, 5.25, 6.0, 6.33]\n"
     ]
    }
   ],
   "source": [
    "a = [5,7,3,6,9,8] \n",
    "a_cumsum = accumulate(a)\n",
    "r = [i for i in a_cumsum]\n",
    "print(r)\n",
    "\n",
    "res = [round(r[i]/(i+1),2) for i in range(len(r))]\n",
    "print(res)"
   ]
  },
  {
   "cell_type": "code",
   "execution_count": null,
   "id": "b6069713",
   "metadata": {},
   "outputs": [],
   "source": [
    "# w = list(range(1,7))\n",
    "# res1 = list(map(lambda x,w: x/w,r))"
   ]
  },
  {
   "cell_type": "markdown",
   "id": "2284887e",
   "metadata": {},
   "source": [
    "#### Q16) Plaindrome\n",
    "\n",
    "12321, 3443  - Palindrome numbers<br>\n",
    "23534   - non palindrome number"
   ]
  },
  {
   "cell_type": "code",
   "execution_count": 2,
   "id": "83967214",
   "metadata": {},
   "outputs": [
    {
     "name": "stdout",
     "output_type": "stream",
     "text": [
      "12321 is plaindrome no.\n",
      "67324 is not a plaindrome no.\n"
     ]
    }
   ],
   "source": [
    "def palin(n):\n",
    "    temp = n\n",
    "    pal = 0\n",
    "    while temp>0:\n",
    "        rem = temp%10\n",
    "        pal = pal*10 + rem\n",
    "        temp //= 10\n",
    "    if pal==n:\n",
    "        print(f'{n} is plaindrome no.')\n",
    "    else:\n",
    "        print(f'{n} is not a plaindrome no.')\n",
    "        \n",
    "palin(12321)\n",
    "# palin(67324)\n",
    "# temp=12321, pal=0\n",
    "# S1 -> rem=12321%10 = 1, pal = 0*10 + 1 = 1, temp=12321//10 = 1232\n",
    "# S2 -> rem=1232%10 = 2, pal = 1*10 + 2 = 12, temp=1232//10 = 123\n",
    "# S3 -> rem=123%10 = 3, pal = 12*10 + 3 = 123, temp=123//10 = 12\n",
    "# S4 -> rem=12%10 = 2, pal = 123*10 + 2 = 1232, temp=12//10 = 1\n",
    "# S4 -> rem=1%10 = 1, pal = 1232*10 + 1 = 12321, temp=1//10 = 0"
   ]
  },
  {
   "cell_type": "code",
   "execution_count": 6,
   "id": "0794f0e3",
   "metadata": {},
   "outputs": [
    {
     "name": "stdout",
     "output_type": "stream",
     "text": [
      "5 is Prime\n",
      "8 is not Prime\n",
      "27 is not Prime\n"
     ]
    }
   ],
   "source": [
    "def prime_check(n):\n",
    "    c=0\n",
    "    for i in range(1,n+1):\n",
    "        if n%i==0:\n",
    "            c += 1\n",
    "    if c==2:\n",
    "        print(f'{n} is Prime')\n",
    "    else:\n",
    "        print(f'{n} is not Prime')\n",
    "\n",
    "prime_check(5)\n",
    "prime_check(8)\n",
    "prime_check(27)"
   ]
  },
  {
   "cell_type": "code",
   "execution_count": 9,
   "id": "5441b588",
   "metadata": {},
   "outputs": [
    {
     "name": "stdout",
     "output_type": "stream",
     "text": [
      "[23, 29, 31, 37]\n",
      "[23, 29, 31, 37, 41, 43, 47]\n"
     ]
    }
   ],
   "source": [
    "def prime_between(n1,n2):\n",
    "    n1,n2 = min(n1,n2),max(n1,n2)\n",
    "    prime=[]\n",
    "    for i in range(n1,n2): # i = 20,21,22,....39\n",
    "        c=0\n",
    "        for j in range(1,i+1):  # when i=20,j=1..,20\n",
    "            if i%j==0:\n",
    "                c+=1\n",
    "        if c==2:\n",
    "            prime.append(i)\n",
    "    print(prime)\n",
    "    \n",
    "prime_between(20,40)\n",
    "prime_between(50,20)"
   ]
  },
  {
   "cell_type": "code",
   "execution_count": 14,
   "id": "5c9bb741",
   "metadata": {},
   "outputs": [
    {
     "name": "stdout",
     "output_type": "stream",
     "text": [
      "[23, 29, 31, 37, 41, 43, 47]\n",
      "[23, 29, 31, 37, 41, 43, 47]\n"
     ]
    }
   ],
   "source": [
    "def prime_between(n1,n2): # 20,40\n",
    "    n1,n2= min(n1,n2),max(n1,n2)\n",
    "    prime=[]\n",
    "    for i in range(n1,n2+1): # i=20,....40\n",
    "        if i>1:\n",
    "            for j in range(2,i): # j=2,...19\n",
    "                if i%j==0:\n",
    "                    break\n",
    "            else:\n",
    "                prime.append(i)\n",
    "    print(prime)\n",
    "    \n",
    "prime_between(20,50)\n",
    "prime_between(50,20)"
   ]
  },
  {
   "cell_type": "code",
   "execution_count": 16,
   "id": "bb0504a8",
   "metadata": {},
   "outputs": [
    {
     "name": "stdout",
     "output_type": "stream",
     "text": [
      "[47, 53, 59, 61, 67, 71, 73]\n"
     ]
    }
   ],
   "source": [
    "def kprime_less_than_n(k,n): # this ques sis incomplete\n",
    "    prime=[]\n",
    "    for i in range(k,n+1):\n",
    "        if i>1:\n",
    "            for j in range(2,i):\n",
    "                if i%j==0:\n",
    "                    break\n",
    "            else:\n",
    "                prime.append(i)\n",
    "    print(prime[-k:])\n",
    "    \n",
    "kprime_less_than_n(7,78)\n"
   ]
  },
  {
   "cell_type": "code",
   "execution_count": null,
   "id": "2aa47dc8",
   "metadata": {},
   "outputs": [],
   "source": []
  }
 ],
 "metadata": {
  "kernelspec": {
   "display_name": "Python 3",
   "language": "python",
   "name": "python3"
  },
  "language_info": {
   "codemirror_mode": {
    "name": "ipython",
    "version": 3
   },
   "file_extension": ".py",
   "mimetype": "text/x-python",
   "name": "python",
   "nbconvert_exporter": "python",
   "pygments_lexer": "ipython3",
   "version": "3.8.8"
  }
 },
 "nbformat": 4,
 "nbformat_minor": 5
}
