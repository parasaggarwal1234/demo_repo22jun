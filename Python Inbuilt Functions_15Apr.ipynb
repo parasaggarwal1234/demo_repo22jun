{
 "cells": [
  {
   "cell_type": "markdown",
   "id": "53a36027",
   "metadata": {},
   "source": [
    "#### Python Inbuilt Functions\n",
    "1) Lambda<br>\n",
    "2) map<br>\n",
    "3) reduce<br>\n",
    "4) filter<br>\n",
    "5) enumerate<br>\n",
    "6) zip<br>\n",
    "7) sorted"
   ]
  },
  {
   "cell_type": "markdown",
   "id": "da90ea5d",
   "metadata": {},
   "source": [
    "#### 1) lambda \n",
    "1) It is used to create anonymous function( a function with no name)<br>\n",
    "Syntax:<br>\n",
    "<b>lambda parameters : expressions</b><br>\n",
    "2) We create lambda functions to write one-liner function\n"
   ]
  },
  {
   "cell_type": "code",
   "execution_count": 2,
   "id": "1724210d",
   "metadata": {},
   "outputs": [
    {
     "name": "stdout",
     "output_type": "stream",
     "text": [
      "7\n",
      "13\n"
     ]
    }
   ],
   "source": [
    "r = lambda x,y : x+y\n",
    "print(r(3,4)) # x=3,y=4\n",
    "print(r(6,7)) # x=6,y=7"
   ]
  },
  {
   "cell_type": "code",
   "execution_count": 4,
   "id": "1acb909e",
   "metadata": {},
   "outputs": [
    {
     "name": "stdout",
     "output_type": "stream",
     "text": [
      "49\n",
      "1331\n"
     ]
    }
   ],
   "source": [
    "t = lambda a,b,c : (a+b)**c\n",
    "print(t(3,4,2))\n",
    "print(t(5,6,3))"
   ]
  },
  {
   "cell_type": "code",
   "execution_count": 7,
   "id": "b71fb138",
   "metadata": {},
   "outputs": [
    {
     "name": "stdout",
     "output_type": "stream",
     "text": [
      "7\n",
      "<class 'int'>\n",
      "7.7\n",
      "<class 'float'>\n",
      "Hello World\n",
      "<class 'str'>\n",
      "<class 'function'>\n",
      "<function <lambda> at 0x0000025DEEF58AF0>\n"
     ]
    }
   ],
   "source": [
    "r = lambda x,y : x+y\n",
    "print(r(3,4))       # 7\n",
    "print(type(r(3,4))) # int\n",
    "print(r(3.5,4.2))   # 7.7      \n",
    "print(type(r(3.5,4.2))) # float\n",
    "print(r('Hello',' World'))  # Hello World\n",
    "print(type(r('Hello',' World'))) # str\n",
    "print(type(r))\n",
    "print(r)"
   ]
  },
  {
   "cell_type": "code",
   "execution_count": 13,
   "id": "c000e8d3",
   "metadata": {},
   "outputs": [
    {
     "name": "stdout",
     "output_type": "stream",
     "text": [
      "E.M\n",
      "ELON.MUSK\n"
     ]
    }
   ],
   "source": [
    "#### Find initials of the name\n",
    "w = lambda fn,ln : fn[0].upper()+\".\"+ln[0].upper()\n",
    "print(w('elon','musk'))\n",
    "print(w(['Elon'],['Musk']))"
   ]
  },
  {
   "cell_type": "markdown",
   "id": "6574afe7",
   "metadata": {},
   "source": [
    "#### Using if-else in lambda"
   ]
  },
  {
   "cell_type": "code",
   "execution_count": 15,
   "id": "783bbf0d",
   "metadata": {},
   "outputs": [
    {
     "name": "stdout",
     "output_type": "stream",
     "text": [
      "2\n",
      "-1\n"
     ]
    }
   ],
   "source": [
    "mod = lambda x : x-2 if(x >= 0) else x+2\n",
    "print(mod(4))\n",
    "print(mod(-3))"
   ]
  },
  {
   "cell_type": "code",
   "execution_count": 16,
   "id": "5c8054cb",
   "metadata": {},
   "outputs": [
    {
     "name": "stdout",
     "output_type": "stream",
     "text": [
      "49\n",
      "7\n"
     ]
    }
   ],
   "source": [
    "r = lambda x : x**2 if(x>5) else x+3\n",
    "print(r(7))\n",
    "print(r(4))"
   ]
  },
  {
   "cell_type": "code",
   "execution_count": null,
   "id": "94a2d092",
   "metadata": {},
   "outputs": [],
   "source": [
    "### If-elif-else"
   ]
  },
  {
   "cell_type": "code",
   "execution_count": 20,
   "id": "ed9fad0f",
   "metadata": {},
   "outputs": [
    {
     "name": "stdout",
     "output_type": "stream",
     "text": [
      "6\n",
      "14\n",
      "6\n",
      "22\n"
     ]
    }
   ],
   "source": [
    "r = lambda x : x+3 if x>0 and x<=5 else (x+5 if x>5 and x<10 else x+10)\n",
    "print(r(3))  # 3+3\n",
    "print(r(9))  # 9+5\n",
    "print(r(-4)) # -4+10\n",
    "print(r(12)) # 12+10\n",
    "\n",
    "# 1) x>0 and x<=5  => x+3\n",
    "# 2) x>5 and x<10 => x+5\n",
    "# 3) else x+10"
   ]
  },
  {
   "cell_type": "markdown",
   "id": "54c1580a",
   "metadata": {},
   "source": [
    "#### Syntax of Map,Filter and Reduce\n",
    "map(function,iterable)  -> <br>\n",
    "filter(function,iterable) -><br>\n",
    "reduce(function,iterable) -> <r>"
   ]
  },
  {
   "cell_type": "markdown",
   "id": "e385c7e4",
   "metadata": {},
   "source": [
    "#### 2) map()\n",
    "1) map() calls the specified function for each item of an iterable(list,string,tuple,dict etc) and returns a sequence of results.<br>\n",
    "2) This sequence needs to be converted to preferably either list or tuple<br>\n",
    "3) lambda can be used inside map\n",
    "\n",
    "Syntax : map(function,iterable)"
   ]
  },
  {
   "cell_type": "code",
   "execution_count": 24,
   "id": "f1cd6c10",
   "metadata": {},
   "outputs": [
    {
     "name": "stdout",
     "output_type": "stream",
     "text": [
      "(1, 4, 9, 16, 49)\n"
     ]
    }
   ],
   "source": [
    "def square(x):\n",
    "    return x*x\n",
    "\n",
    "w = [1,2,3,4,7]\n",
    "d = tuple(map(square,w))\n",
    "print(d)"
   ]
  },
  {
   "cell_type": "code",
   "execution_count": 26,
   "id": "1d0e7e2f",
   "metadata": {},
   "outputs": [
    {
     "name": "stdout",
     "output_type": "stream",
     "text": [
      "[15, 17, 19, 21, 23]\n"
     ]
    }
   ],
   "source": [
    "r = [10,12,14,16,18]\n",
    "d1 = list(map(lambda x : x+5,r))\n",
    "print(d1)"
   ]
  },
  {
   "cell_type": "code",
   "execution_count": 29,
   "id": "8dd7cff0",
   "metadata": {},
   "outputs": [
    {
     "name": "stdout",
     "output_type": "stream",
     "text": [
      "<map object at 0x0000025DEEF89280>\n"
     ]
    }
   ],
   "source": [
    "r = [10,12,14,16,18]\n",
    "d1 = map(lambda x : x+5,r)\n",
    "print(d1)\n",
    "# x = 5"
   ]
  },
  {
   "cell_type": "code",
   "execution_count": 28,
   "id": "b8c49798",
   "metadata": {},
   "outputs": [
    {
     "name": "stdout",
     "output_type": "stream",
     "text": [
      "15\n",
      "17\n",
      "19\n",
      "21\n",
      "23\n"
     ]
    }
   ],
   "source": [
    "for i in d1:\n",
    "    print(i)"
   ]
  },
  {
   "cell_type": "code",
   "execution_count": null,
   "id": "8530c826",
   "metadata": {},
   "outputs": [],
   "source": [
    "r = [10,12,14,16,18]\n",
    "d1 = list(map(lambda x : x+5,r))\n",
    "print(d1)\n",
    "# x=12,14,16,18"
   ]
  },
  {
   "cell_type": "code",
   "execution_count": null,
   "id": "b7e3e39a",
   "metadata": {},
   "outputs": [],
   "source": [
    "# int, str, float, bool,complex\n",
    "# list, tuple"
   ]
  },
  {
   "cell_type": "code",
   "execution_count": 31,
   "id": "19670eb6",
   "metadata": {},
   "outputs": [
    {
     "name": "stdout",
     "output_type": "stream",
     "text": [
      "Enter list elements12 13 14\n",
      "12 13 14\n",
      "<class 'str'>\n"
     ]
    }
   ],
   "source": [
    "r = input('Enter list elements')\n",
    "print(r)\n",
    "print(type(r))"
   ]
  },
  {
   "cell_type": "markdown",
   "id": "e157f3e9",
   "metadata": {},
   "source": [
    "#### Q) Accpet a list of integers from the user using map function"
   ]
  },
  {
   "cell_type": "code",
   "execution_count": 34,
   "id": "205e716d",
   "metadata": {},
   "outputs": [
    {
     "name": "stdout",
     "output_type": "stream",
     "text": [
      "123\n",
      "[1, 2, 3]\n"
     ]
    }
   ],
   "source": [
    "d1 = list(map(int,input()))\n",
    "print(d1)"
   ]
  },
  {
   "cell_type": "code",
   "execution_count": 35,
   "id": "7dee0ef4",
   "metadata": {},
   "outputs": [
    {
     "name": "stdout",
     "output_type": "stream",
     "text": [
      "1 2 3 4\n"
     ]
    },
    {
     "ename": "ValueError",
     "evalue": "invalid literal for int() with base 10: ' '",
     "output_type": "error",
     "traceback": [
      "\u001b[1;31m---------------------------------------------------------------------------\u001b[0m",
      "\u001b[1;31mValueError\u001b[0m                                Traceback (most recent call last)",
      "\u001b[1;32m<ipython-input-35-3ca8b2992b49>\u001b[0m in \u001b[0;36m<module>\u001b[1;34m\u001b[0m\n\u001b[1;32m----> 1\u001b[1;33m \u001b[0md1\u001b[0m \u001b[1;33m=\u001b[0m \u001b[0mlist\u001b[0m\u001b[1;33m(\u001b[0m\u001b[0mmap\u001b[0m\u001b[1;33m(\u001b[0m\u001b[0mint\u001b[0m\u001b[1;33m,\u001b[0m\u001b[0minput\u001b[0m\u001b[1;33m(\u001b[0m\u001b[1;33m)\u001b[0m\u001b[1;33m)\u001b[0m\u001b[1;33m)\u001b[0m\u001b[1;33m\u001b[0m\u001b[1;33m\u001b[0m\u001b[0m\n\u001b[0m\u001b[0;32m      2\u001b[0m \u001b[0mprint\u001b[0m\u001b[1;33m(\u001b[0m\u001b[0md1\u001b[0m\u001b[1;33m)\u001b[0m\u001b[1;33m\u001b[0m\u001b[1;33m\u001b[0m\u001b[0m\n",
      "\u001b[1;31mValueError\u001b[0m: invalid literal for int() with base 10: ' '"
     ]
    }
   ],
   "source": [
    "d1 = list(map(int,input()))\n",
    "print(d1)"
   ]
  },
  {
   "cell_type": "code",
   "execution_count": 36,
   "id": "e3b000fb",
   "metadata": {},
   "outputs": [
    {
     "name": "stdout",
     "output_type": "stream",
     "text": [
      "5 4 12 34 23\n",
      "[5, 4, 12, 34, 23]\n"
     ]
    }
   ],
   "source": [
    "d2 = list(map(int,input().split()))\n",
    "print(d2)"
   ]
  },
  {
   "cell_type": "code",
   "execution_count": 37,
   "id": "994a197c",
   "metadata": {},
   "outputs": [
    {
     "name": "stdout",
     "output_type": "stream",
     "text": [
      "12.34 45.56 34.78\n",
      "[12.34, 45.56, 34.78]\n"
     ]
    }
   ],
   "source": [
    "d2 = list(map(float,input().split()))\n",
    "print(d2)"
   ]
  },
  {
   "cell_type": "code",
   "execution_count": 4,
   "id": "557d809b",
   "metadata": {},
   "outputs": [
    {
     "name": "stdout",
     "output_type": "stream",
     "text": [
      "12 23 45 56 67 78\n",
      "(12, 23, 45, 56, 67, 78)\n"
     ]
    }
   ],
   "source": [
    "d2 = tuple(map(int,input().split()))\n",
    "print(d2)"
   ]
  },
  {
   "cell_type": "code",
   "execution_count": 39,
   "id": "ff04f77c",
   "metadata": {},
   "outputs": [
    {
     "name": "stdout",
     "output_type": "stream",
     "text": [
      "hello python\n",
      "['hello', 'python']\n"
     ]
    }
   ],
   "source": [
    "d2 = list(map(str,input().split()))\n",
    "print(d2)"
   ]
  },
  {
   "cell_type": "code",
   "execution_count": null,
   "id": "d5f4f3eb",
   "metadata": {},
   "outputs": [],
   "source": []
  },
  {
   "cell_type": "markdown",
   "id": "ca93c4b0",
   "metadata": {},
   "source": [
    "#### 3) filter()\n",
    "Returns an iterator yielding those items from the iterable for which the function is True\n",
    "\n",
    "Syntax : filter(function,iterable)"
   ]
  },
  {
   "cell_type": "code",
   "execution_count": 47,
   "id": "a3e53ed3",
   "metadata": {},
   "outputs": [
    {
     "name": "stdout",
     "output_type": "stream",
     "text": [
      "[13, 15, 17, 19]\n"
     ]
    }
   ],
   "source": [
    "g = [12,13,14,15,16,17,18,19,20]\n",
    "s1 = list(filter(lambda x : x%2!=0,g))\n",
    "print(s1)"
   ]
  },
  {
   "cell_type": "code",
   "execution_count": 46,
   "id": "ad259254",
   "metadata": {},
   "outputs": [
    {
     "name": "stdout",
     "output_type": "stream",
     "text": [
      "[18, 19, 20]\n"
     ]
    }
   ],
   "source": [
    "g = [12,13,14,15,16,17,18,19,20]\n",
    "s2 = list(filter(lambda x : x>17,g))\n",
    "print(s2)"
   ]
  },
  {
   "cell_type": "markdown",
   "id": "157a3c98",
   "metadata": {},
   "source": [
    "#### 4) reduce()\n",
    "Reduce function reuduces the iterable to a single value using the function passed.<br>\n",
    "The function passed has to contain 2 parameters<br>\n",
    "\n",
    "syntax : reduce(function,iterator)"
   ]
  },
  {
   "cell_type": "code",
   "execution_count": 55,
   "id": "e6903712",
   "metadata": {},
   "outputs": [],
   "source": [
    "# functools is the library, reduce is the function or method \n",
    "from functools import reduce"
   ]
  },
  {
   "cell_type": "code",
   "execution_count": 53,
   "id": "abc28e5e",
   "metadata": {},
   "outputs": [
    {
     "name": "stdout",
     "output_type": "stream",
     "text": [
      "15\n"
     ]
    }
   ],
   "source": [
    "b = [1,2,3,4,5]\n",
    "t = reduce(lambda x,y : x+y,b)\n",
    "print(t)\n",
    "\n",
    "# S1 -> x=1,y=2 => x+y=3\n",
    "# S2 -> x=3,y=3 => x+y=6\n",
    "# S3 -> x=6,y=4 => x+y=10\n",
    "# S4 -> x=10,y=5 => x+y=15"
   ]
  },
  {
   "cell_type": "code",
   "execution_count": 54,
   "id": "27e31c6a",
   "metadata": {},
   "outputs": [
    {
     "name": "stdout",
     "output_type": "stream",
     "text": [
      "120\n"
     ]
    }
   ],
   "source": [
    "t1 = reduce(lambda p,q: p*q,b)\n",
    "print(t1)"
   ]
  },
  {
   "cell_type": "markdown",
   "id": "9696b9a0",
   "metadata": {},
   "source": [
    "#### 5) enumerate()\n",
    "1) It adds an extra counter to the iterables<br>\n",
    "2) Counter added to the list and tuple can be used as their index provided start = 0<br>\n",
    "3) Counter added to set should not be considered as index"
   ]
  },
  {
   "cell_type": "code",
   "execution_count": 70,
   "id": "cdad0a70",
   "metadata": {},
   "outputs": [
    {
     "name": "stdout",
     "output_type": "stream",
     "text": [
      "10\n",
      "20\n",
      "30\n",
      "40\n",
      "50\n"
     ]
    }
   ],
   "source": [
    "d = [10,20,30,40,50]\n",
    "for i in d:   # element wise iteration\n",
    "    print(i)"
   ]
  },
  {
   "cell_type": "code",
   "execution_count": 71,
   "id": "ea6a9ae8",
   "metadata": {},
   "outputs": [
    {
     "name": "stdout",
     "output_type": "stream",
     "text": [
      "10\n",
      "20\n",
      "30\n",
      "40\n",
      "50\n"
     ]
    }
   ],
   "source": [
    "d = [10,20,30,40,50]\n",
    "for i in range(len(d)):   # index wise iteration\n",
    "    print(d[i])"
   ]
  },
  {
   "cell_type": "code",
   "execution_count": 74,
   "id": "5bf68e0b",
   "metadata": {},
   "outputs": [
    {
     "name": "stdout",
     "output_type": "stream",
     "text": [
      "0 10 10\n",
      "1 20 20\n",
      "2 30 30\n",
      "3 40 40\n",
      "4 50 50\n"
     ]
    }
   ],
   "source": [
    "# i is the extra counter generated, j is the list elements\n",
    "d = [10,20,30,40,50]\n",
    "for i,j in enumerate(d): \n",
    "    print(i,j,d[i])"
   ]
  },
  {
   "cell_type": "code",
   "execution_count": 69,
   "id": "5d838b31",
   "metadata": {},
   "outputs": [
    {
     "name": "stdout",
     "output_type": "stream",
     "text": [
      "3 10\n",
      "4 20\n",
      "5 30\n",
      "6 40\n",
      "7 50\n"
     ]
    }
   ],
   "source": [
    "d = [10,20,30,40,50]\n",
    "for i,j in enumerate(d,start=3): \n",
    "    print(i,j)\n",
    "    \n",
    "# i=3, j=10, d[3]=40\n",
    "# i=4, j=20, d[4]=50\n",
    "# i=5, j=30, d[5]=???"
   ]
  },
  {
   "cell_type": "code",
   "execution_count": 75,
   "id": "cb1d2f53",
   "metadata": {},
   "outputs": [
    {
     "name": "stdout",
     "output_type": "stream",
     "text": [
      "0 11 11\n",
      "1 12 12\n",
      "2 13 13\n",
      "3 14 14\n",
      "4 15 15\n"
     ]
    }
   ],
   "source": [
    "d = (11,12,13,14,15)\n",
    "for x,y in enumerate(d): # x is the extra counter generated, y is the tuple elements\n",
    "    print(x,y,d[x])"
   ]
  },
  {
   "cell_type": "code",
   "execution_count": 79,
   "id": "4e5b4a47",
   "metadata": {},
   "outputs": [
    {
     "name": "stdout",
     "output_type": "stream",
     "text": [
      "0 a1 10\n",
      "1 a2 20\n",
      "2 a3 30\n"
     ]
    }
   ],
   "source": [
    "d = {'a1':10,'a2':20,'a3':30}\n",
    "for count, keys in enumerate(d):\n",
    "    print(count,keys,d[keys])\n",
    "    \n",
    "# count = counter element generated\n",
    "# keys = keys of the dict\n",
    "# d[keys] = values"
   ]
  },
  {
   "cell_type": "code",
   "execution_count": 81,
   "id": "3a98820c",
   "metadata": {},
   "outputs": [
    {
     "name": "stdout",
     "output_type": "stream",
     "text": [
      "0 a1 10 10\n",
      "1 a2 20 20\n",
      "2 a3 30 30\n"
     ]
    }
   ],
   "source": [
    "d = {'a1':10,'a2':20,'a3':30}\n",
    "for i, j in enumerate(d.keys()):\n",
    "    print(i,j,d[j],d.get(j))"
   ]
  },
  {
   "cell_type": "code",
   "execution_count": 83,
   "id": "2fe49858",
   "metadata": {},
   "outputs": [
    {
     "name": "stdout",
     "output_type": "stream",
     "text": [
      "0 10\n",
      "1 20\n",
      "2 30\n"
     ]
    }
   ],
   "source": [
    "d = {'a1':10,'a2':20,'a3':30}\n",
    "for i, j in enumerate(d.values()):\n",
    "    print(i,j)"
   ]
  },
  {
   "cell_type": "code",
   "execution_count": 84,
   "id": "c00cc6c1",
   "metadata": {},
   "outputs": [
    {
     "name": "stdout",
     "output_type": "stream",
     "text": [
      "0 ('a1', 10)\n",
      "1 ('a2', 20)\n",
      "2 ('a3', 30)\n"
     ]
    }
   ],
   "source": [
    "d = {'a1':10,'a2':20,'a3':30}\n",
    "for i, j in enumerate(d.items()):\n",
    "    print(i,j)"
   ]
  },
  {
   "cell_type": "code",
   "execution_count": null,
   "id": "4506ca77",
   "metadata": {},
   "outputs": [],
   "source": []
  },
  {
   "cell_type": "markdown",
   "id": "c522866e",
   "metadata": {},
   "source": [
    "#### 6) zip()\n",
    "1) It aggregates (two or more) elements into tuple pairs except dict"
   ]
  },
  {
   "cell_type": "code",
   "execution_count": 31,
   "id": "398b3f22",
   "metadata": {},
   "outputs": [
    {
     "name": "stdout",
     "output_type": "stream",
     "text": [
      "[('a', 3), ('b', 4), ('c', 5), ('d', 6), ('e', 7)]\n",
      "(('a', 3), ('b', 4), ('c', 5), ('d', 6), ('e', 7))\n",
      "{('a', 3), ('c', 5), ('e', 7), ('b', 4), ('d', 6)}\n",
      "{'a': 3, 'b': 4, 'c': 5, 'd': 6, 'e': 7}\n"
     ]
    }
   ],
   "source": [
    "d1 = ['a','b','c','d','e']\n",
    "d2 = [3,4,5,6,7]\n",
    "\n",
    "r1 = list(zip(d1,d2))\n",
    "r2 = tuple(zip(d1,d2))\n",
    "r3 = set(zip(d1,d2))\n",
    "r4 = dict(zip(d1,d2))  # pairs are aggregated as key-value\n",
    "print(r1)\n",
    "print(r2)\n",
    "print(r3)\n",
    "print(r4)"
   ]
  },
  {
   "cell_type": "code",
   "execution_count": 33,
   "id": "209857ee",
   "metadata": {},
   "outputs": [
    {
     "name": "stdout",
     "output_type": "stream",
     "text": [
      "[('a', 3), ('b', 4), ('c', 5)]\n",
      "(('a', 3), ('b', 4), ('c', 5))\n",
      "{('a', 3), ('b', 4), ('c', 5)}\n",
      "{'a': 3, 'b': 4, 'c': 5}\n"
     ]
    }
   ],
   "source": [
    "d1 = ['a','b','c','d','e']\n",
    "d2 = [3,4,5]\n",
    "\n",
    "r1 = list(zip(d1,d2))\n",
    "r2 = tuple(zip(d1,d2))\n",
    "r3 = set(zip(d1,d2))\n",
    "r4 = dict(zip(d1,d2))  # pairs are aggregated as key-value\n",
    "print(r1)\n",
    "print(r2)\n",
    "print(r3)\n",
    "print(r4)"
   ]
  },
  {
   "cell_type": "code",
   "execution_count": null,
   "id": "71cfdabb",
   "metadata": {},
   "outputs": [],
   "source": []
  },
  {
   "cell_type": "markdown",
   "id": "6f38a687",
   "metadata": {},
   "source": [
    "#### 7) sorted()\n",
    "Sort the elements apssed as agrument"
   ]
  },
  {
   "cell_type": "code",
   "execution_count": 32,
   "id": "468c09a7",
   "metadata": {},
   "outputs": [
    {
     "name": "stdout",
     "output_type": "stream",
     "text": [
      "[9, 10, 12, 13, 14, 15]\n",
      "[15, 14, 13, 12, 10, 9]\n"
     ]
    }
   ],
   "source": [
    "w = [12,14,10,9,15,13]\n",
    "r1 = sorted(w)\n",
    "r2=  sorted(w,reverse=True)\n",
    "print(r1)\n",
    "print(r2)"
   ]
  },
  {
   "cell_type": "code",
   "execution_count": 40,
   "id": "533d0c36",
   "metadata": {},
   "outputs": [
    {
     "name": "stdout",
     "output_type": "stream",
     "text": [
      "['a1', 'a2', 'a3', 'a4']\n",
      "['a4', 'a3', 'a2', 'a1']\n",
      "[8, 10, 15, 25]\n",
      "[25, 15, 10, 8]\n"
     ]
    }
   ],
   "source": [
    "d = {'a1':10,'a2':8,'a3':15,'a4':25}\n",
    "d1 = sorted(d.keys())\n",
    "d2 = sorted(d.keys(),reverse=True)\n",
    "d3 = sorted(d.values())\n",
    "d4 = sorted(d.values(),reverse=True)\n",
    "print(d1)\n",
    "print(d2)\n",
    "print(d3)\n",
    "print(d4)"
   ]
  },
  {
   "cell_type": "markdown",
   "id": "f2f98e72",
   "metadata": {},
   "source": [
    "#### Sort a dict by value"
   ]
  },
  {
   "cell_type": "code",
   "execution_count": 48,
   "id": "9cbdabde",
   "metadata": {},
   "outputs": [
    {
     "name": "stdout",
     "output_type": "stream",
     "text": [
      "[('a3', 8), ('a1', 10), ('a4', 15), ('a2', 25)]\n",
      "[('a2', 25), ('a4', 15), ('a1', 10), ('a3', 8)]\n",
      "{'a3': 8, 'a1': 10, 'a4': 15, 'a2': 25}\n"
     ]
    }
   ],
   "source": [
    "d = {'a1':10,'a3':8,'a4':15,'a2':25}\n",
    "r1 = sorted(d.items(), key=lambda x: x[1]) # sorted in increasing order of values\n",
    "print(r1)\n",
    "r2 = sorted(d.items(), key=lambda x: x[1], reverse=True) # sorted in increasing order of values\n",
    "print(r2)\n",
    "r3 = dict(sorted(d.items(), key=lambda x: x[1])) # sorted in increasing order of values\n",
    "print(r3)"
   ]
  },
  {
   "cell_type": "code",
   "execution_count": 49,
   "id": "8bc6590d",
   "metadata": {},
   "outputs": [
    {
     "name": "stdout",
     "output_type": "stream",
     "text": [
      "dict_items([('a1', 10), ('a3', 8), ('a4', 15), ('a2', 25)])\n"
     ]
    }
   ],
   "source": [
    "print(d.items())"
   ]
  },
  {
   "cell_type": "code",
   "execution_count": 50,
   "id": "ea1a0255",
   "metadata": {},
   "outputs": [
    {
     "name": "stdout",
     "output_type": "stream",
     "text": [
      "{'a1': 10, 'a2': 25, 'a3': 8, 'a4': 15}\n"
     ]
    }
   ],
   "source": [
    "r1 = dict(sorted(d.items(), key=lambda x: x[0]))\n",
    "print(r1)"
   ]
  },
  {
   "cell_type": "markdown",
   "id": "cd5874af",
   "metadata": {},
   "source": [
    "#### Accept a dict as user input"
   ]
  },
  {
   "cell_type": "code",
   "execution_count": 19,
   "id": "df47da37",
   "metadata": {},
   "outputs": [
    {
     "name": "stdout",
     "output_type": "stream",
     "text": [
      "10 Python\n",
      "20 SQL\n",
      "30 Stats\n",
      "{'10': 'Python', '20': 'SQL', '30': 'Stats'}\n"
     ]
    }
   ],
   "source": [
    "d=dict(input().split() for x in range(3))\n",
    "print(d)"
   ]
  },
  {
   "cell_type": "code",
   "execution_count": 40,
   "id": "84ff00bc",
   "metadata": {},
   "outputs": [],
   "source": [
    "import pymysql\n",
    "# ModuleNotFoundError"
   ]
  },
  {
   "cell_type": "code",
   "execution_count": null,
   "id": "4e1b60ed",
   "metadata": {},
   "outputs": [],
   "source": []
  }
 ],
 "metadata": {
  "kernelspec": {
   "display_name": "Python 3",
   "language": "python",
   "name": "python3"
  },
  "language_info": {
   "codemirror_mode": {
    "name": "ipython",
    "version": 3
   },
   "file_extension": ".py",
   "mimetype": "text/x-python",
   "name": "python",
   "nbconvert_exporter": "python",
   "pygments_lexer": "ipython3",
   "version": "3.8.8"
  }
 },
 "nbformat": 4,
 "nbformat_minor": 5
}
