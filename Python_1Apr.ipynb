{
 "cells": [
  {
   "cell_type": "markdown",
   "id": "d4761a01",
   "metadata": {},
   "source": [
    "#### Jupyter Shortcuts\n",
    "\n",
    "1) Execute/Run the cell -> Shift + Enter<br>\n",
    "2) Add a new cell on top of a cell -> A<br>\n",
    "3) Add a new cell on below a cell -> B<br>\n",
    "4) Delete a cell -> double D<br>\n",
    "5) Undo delete -> Z<br>\n",
    "6) Shortcuts -> H"
   ]
  },
  {
   "cell_type": "markdown",
   "id": "0bfd3170",
   "metadata": {},
   "source": [
    "# Heading 1\n",
    "\n",
    "## Heading 2\n",
    "\n",
    "### Heading 3\n",
    "\n",
    "#### Heading 4\n",
    "\n",
    "##### Heading 5\n",
    "\n",
    "###### Heading 6\n",
    "\n",
    "Text in normal size"
   ]
  },
  {
   "cell_type": "markdown",
   "id": "6a951230",
   "metadata": {},
   "source": [
    "#### Different IDEs for Python\n",
    "\n",
    "IDE (Integerated Developmenet Environment)\n",
    "\n",
    "1) Jupyter<br>\n",
    "2) Google Colab<br>\n",
    "3) VS Code<br>\n",
    "4) PyCharm<br>\n",
    "5) Spyder<br>\n",
    "6) Pythhon IDLE<br>\n",
    "7) Notepad<br>\n",
    "8) Notepad ++<br>\n",
    "9) Sublime<br>\n",
    "10) Atom<br>\n",
    "11) Thonny<br>\n",
    "12) Eclipse<br>"
   ]
  },
  {
   "cell_type": "markdown",
   "id": "f6adebd3",
   "metadata": {},
   "source": [
    "#### Notes\n",
    "1) () are called as parenthesis"
   ]
  },
  {
   "cell_type": "markdown",
   "id": "4383a0bb",
   "metadata": {},
   "source": [
    "#### Comments\n",
    "1) Meant for internal documentation<br>\n",
    "2) They are not executed. Only meant explaination purpose<br>\n",
    "3) Comments are written in Code cell starting with #<br>"
   ]
  },
  {
   "cell_type": "markdown",
   "id": "e8a92663",
   "metadata": {},
   "source": [
    "#### Variables\n",
    "1) Reserved memory that stores data<br>\n",
    "2) Variable is a container that can store any data. Data can be of any data types<br>\n",
    "3) Can be reassigned and reinitialized<br>\n",
    "4) Multiple variables can be created in the same line<br>"
   ]
  },
  {
   "cell_type": "code",
   "execution_count": 6,
   "id": "2ea059bd",
   "metadata": {},
   "outputs": [
    {
     "name": "stdout",
     "output_type": "stream",
     "text": [
      "10\n"
     ]
    }
   ],
   "source": [
    "a = 10\n",
    "print(a)\n",
    "\n",
    "# 1) The value of 10 is stored in variable a\n",
    "# 2) The value of 10 is assigned to variable a\n",
    "# 3) The variable a has been initialized with the value of 10"
   ]
  },
  {
   "cell_type": "code",
   "execution_count": 7,
   "id": "5db8e260",
   "metadata": {},
   "outputs": [
    {
     "name": "stdout",
     "output_type": "stream",
     "text": [
      "17\n"
     ]
    }
   ],
   "source": [
    "a = 17\n",
    "print(a)"
   ]
  },
  {
   "cell_type": "code",
   "execution_count": 8,
   "id": "149b1994",
   "metadata": {},
   "outputs": [
    {
     "name": "stdout",
     "output_type": "stream",
     "text": [
      "17\n"
     ]
    }
   ],
   "source": [
    "print(a)"
   ]
  },
  {
   "cell_type": "code",
   "execution_count": 9,
   "id": "ada4d3c1",
   "metadata": {},
   "outputs": [
    {
     "name": "stdout",
     "output_type": "stream",
     "text": [
      "Helo\n",
      "56\n"
     ]
    }
   ],
   "source": [
    "a1 = \"Helo\"\n",
    "a2 = 56\n",
    "print(a1)\n",
    "print(a2)"
   ]
  },
  {
   "cell_type": "code",
   "execution_count": 10,
   "id": "4faa24c9",
   "metadata": {},
   "outputs": [
    {
     "name": "stdout",
     "output_type": "stream",
     "text": [
      "Welcome\n",
      "34\n",
      "True\n"
     ]
    }
   ],
   "source": [
    "b1, b2, b3 = \"Welcome\", 34, True\n",
    "print(b1)\n",
    "print(b2)\n",
    "print(b3)"
   ]
  },
  {
   "cell_type": "code",
   "execution_count": 11,
   "id": "8c43e0c4",
   "metadata": {},
   "outputs": [
    {
     "name": "stdout",
     "output_type": "stream",
     "text": [
      "Welcome 34\n"
     ]
    }
   ],
   "source": [
    "print(b1,b2)"
   ]
  },
  {
   "cell_type": "code",
   "execution_count": null,
   "id": "39190ac4",
   "metadata": {},
   "outputs": [],
   "source": []
  }
 ],
 "metadata": {
  "kernelspec": {
   "display_name": "Python 3",
   "language": "python",
   "name": "python3"
  },
  "language_info": {
   "codemirror_mode": {
    "name": "ipython",
    "version": 3
   },
   "file_extension": ".py",
   "mimetype": "text/x-python",
   "name": "python",
   "nbconvert_exporter": "python",
   "pygments_lexer": "ipython3",
   "version": "3.8.8"
  }
 },
 "nbformat": 4,
 "nbformat_minor": 5
}
