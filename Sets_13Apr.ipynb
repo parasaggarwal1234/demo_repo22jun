{
 "cells": [
  {
   "cell_type": "markdown",
   "id": "6cd19880",
   "metadata": {},
   "source": [
    "### Set\n",
    "1) It is unordered collection of elements of same or different data types<br>\n",
    "2) Set elements are represented in {} and are aseparated by comma<br>\n",
    "3) Set does not suport indexing or slicing (as it is unordered)<br>\n",
    "4) Set does not allow duplicate elements<br>\n",
    "5) Set is mutable(it can be changed)"
   ]
  },
  {
   "cell_type": "markdown",
   "id": "0a68dc8d",
   "metadata": {},
   "source": [
    "#### Empty Set"
   ]
  },
  {
   "cell_type": "code",
   "execution_count": 28,
   "id": "f21b94fd",
   "metadata": {},
   "outputs": [
    {
     "name": "stdout",
     "output_type": "stream",
     "text": [
      "set()\n",
      "<class 'set'>\n"
     ]
    }
   ],
   "source": [
    "s1 = set()\n",
    "print(s1)\n",
    "print(type(s1))"
   ]
  },
  {
   "cell_type": "code",
   "execution_count": 29,
   "id": "868028fb",
   "metadata": {},
   "outputs": [
    {
     "name": "stdout",
     "output_type": "stream",
     "text": [
      "{} <class 'dict'>\n"
     ]
    }
   ],
   "source": [
    "s2 = {}\n",
    "print(s2,type(s2))"
   ]
  },
  {
   "cell_type": "code",
   "execution_count": 31,
   "id": "f7a69ad6",
   "metadata": {},
   "outputs": [
    {
     "name": "stdout",
     "output_type": "stream",
     "text": [
      "{12, 13, 14, 15} 4\n",
      "{'Japan', True, 67, 7.8, None, 45, 'Australia', 'India', 56} 9\n"
     ]
    }
   ],
   "source": [
    "q1 = {12,13,14,15}\n",
    "q2 = {'India','Japan','Australia',45,56,67,7.8,None,True}\n",
    "print(q1,len(q1))\n",
    "print(q2,len(q2))"
   ]
  },
  {
   "cell_type": "markdown",
   "id": "9ae3631e",
   "metadata": {},
   "source": [
    "#### Indexing and Slicing not allowed"
   ]
  },
  {
   "cell_type": "code",
   "execution_count": 32,
   "id": "9bda1ec0",
   "metadata": {},
   "outputs": [
    {
     "ename": "TypeError",
     "evalue": "'set' object is not subscriptable",
     "output_type": "error",
     "traceback": [
      "\u001b[1;31m---------------------------------------------------------------------------\u001b[0m",
      "\u001b[1;31mTypeError\u001b[0m                                 Traceback (most recent call last)",
      "\u001b[1;32m<ipython-input-32-ce3e793499a9>\u001b[0m in \u001b[0;36m<module>\u001b[1;34m\u001b[0m\n\u001b[0;32m      1\u001b[0m \u001b[0mz1\u001b[0m \u001b[1;33m=\u001b[0m \u001b[1;33m{\u001b[0m\u001b[1;36m10\u001b[0m\u001b[1;33m,\u001b[0m\u001b[1;36m11\u001b[0m\u001b[1;33m,\u001b[0m\u001b[1;36m23\u001b[0m\u001b[1;33m,\u001b[0m\u001b[1;36m34\u001b[0m\u001b[1;33m,\u001b[0m\u001b[1;36m45\u001b[0m\u001b[1;33m,\u001b[0m\u001b[1;36m56\u001b[0m\u001b[1;33m}\u001b[0m\u001b[1;33m\u001b[0m\u001b[1;33m\u001b[0m\u001b[0m\n\u001b[1;32m----> 2\u001b[1;33m \u001b[0mprint\u001b[0m\u001b[1;33m(\u001b[0m\u001b[0mz1\u001b[0m\u001b[1;33m[\u001b[0m\u001b[1;36m0\u001b[0m\u001b[1;33m]\u001b[0m\u001b[1;33m)\u001b[0m\u001b[1;33m\u001b[0m\u001b[1;33m\u001b[0m\u001b[0m\n\u001b[0m",
      "\u001b[1;31mTypeError\u001b[0m: 'set' object is not subscriptable"
     ]
    }
   ],
   "source": [
    "z1 = {10,11,23,34,45,56}\n",
    "print(z1[0])"
   ]
  },
  {
   "cell_type": "code",
   "execution_count": 34,
   "id": "9e784d55",
   "metadata": {},
   "outputs": [
    {
     "ename": "TypeError",
     "evalue": "'set' object is not subscriptable",
     "output_type": "error",
     "traceback": [
      "\u001b[1;31m---------------------------------------------------------------------------\u001b[0m",
      "\u001b[1;31mTypeError\u001b[0m                                 Traceback (most recent call last)",
      "\u001b[1;32m<ipython-input-34-bb43395bb714>\u001b[0m in \u001b[0;36m<module>\u001b[1;34m\u001b[0m\n\u001b[1;32m----> 1\u001b[1;33m \u001b[0mprint\u001b[0m\u001b[1;33m(\u001b[0m\u001b[0mz1\u001b[0m\u001b[1;33m[\u001b[0m\u001b[1;36m2\u001b[0m\u001b[1;33m:\u001b[0m\u001b[1;36m5\u001b[0m\u001b[1;33m]\u001b[0m\u001b[1;33m)\u001b[0m\u001b[1;33m\u001b[0m\u001b[1;33m\u001b[0m\u001b[0m\n\u001b[0m",
      "\u001b[1;31mTypeError\u001b[0m: 'set' object is not subscriptable"
     ]
    }
   ],
   "source": [
    "print(z1[2:5])"
   ]
  },
  {
   "cell_type": "markdown",
   "id": "7556d4eb",
   "metadata": {},
   "source": [
    "#### Iteration in Sets"
   ]
  },
  {
   "cell_type": "code",
   "execution_count": 35,
   "id": "efda7e70",
   "metadata": {},
   "outputs": [
    {
     "name": "stdout",
     "output_type": "stream",
     "text": [
      "34\n",
      "10\n",
      "11\n",
      "45\n",
      "23\n",
      "56\n"
     ]
    }
   ],
   "source": [
    "z1 = {10,11,23,34,45,56}\n",
    "for i in z1:\n",
    "    print(i)"
   ]
  },
  {
   "cell_type": "code",
   "execution_count": 36,
   "id": "23960b7f",
   "metadata": {},
   "outputs": [
    {
     "ename": "TypeError",
     "evalue": "'set' object is not subscriptable",
     "output_type": "error",
     "traceback": [
      "\u001b[1;31m---------------------------------------------------------------------------\u001b[0m",
      "\u001b[1;31mTypeError\u001b[0m                                 Traceback (most recent call last)",
      "\u001b[1;32m<ipython-input-36-ab565bb15db1>\u001b[0m in \u001b[0;36m<module>\u001b[1;34m\u001b[0m\n\u001b[0;32m      1\u001b[0m \u001b[0mz1\u001b[0m \u001b[1;33m=\u001b[0m \u001b[1;33m{\u001b[0m\u001b[1;36m10\u001b[0m\u001b[1;33m,\u001b[0m\u001b[1;36m11\u001b[0m\u001b[1;33m,\u001b[0m\u001b[1;36m23\u001b[0m\u001b[1;33m,\u001b[0m\u001b[1;36m34\u001b[0m\u001b[1;33m,\u001b[0m\u001b[1;36m45\u001b[0m\u001b[1;33m,\u001b[0m\u001b[1;36m56\u001b[0m\u001b[1;33m}\u001b[0m\u001b[1;33m\u001b[0m\u001b[1;33m\u001b[0m\u001b[0m\n\u001b[0;32m      2\u001b[0m \u001b[1;32mfor\u001b[0m \u001b[0mi\u001b[0m \u001b[1;32min\u001b[0m \u001b[0mrange\u001b[0m\u001b[1;33m(\u001b[0m\u001b[0mlen\u001b[0m\u001b[1;33m(\u001b[0m\u001b[0mz1\u001b[0m\u001b[1;33m)\u001b[0m\u001b[1;33m)\u001b[0m\u001b[1;33m:\u001b[0m\u001b[1;33m\u001b[0m\u001b[1;33m\u001b[0m\u001b[0m\n\u001b[1;32m----> 3\u001b[1;33m     \u001b[0mprint\u001b[0m\u001b[1;33m(\u001b[0m\u001b[0mz1\u001b[0m\u001b[1;33m[\u001b[0m\u001b[0mi\u001b[0m\u001b[1;33m]\u001b[0m\u001b[1;33m)\u001b[0m\u001b[1;33m\u001b[0m\u001b[1;33m\u001b[0m\u001b[0m\n\u001b[0m",
      "\u001b[1;31mTypeError\u001b[0m: 'set' object is not subscriptable"
     ]
    }
   ],
   "source": [
    "z1 = {10,11,23,34,45,56}\n",
    "for i in range(len(z1)):\n",
    "    print(z1[i])"
   ]
  },
  {
   "cell_type": "code",
   "execution_count": 37,
   "id": "9848c1f2",
   "metadata": {},
   "outputs": [
    {
     "ename": "TypeError",
     "evalue": "'set' object is not subscriptable",
     "output_type": "error",
     "traceback": [
      "\u001b[1;31m---------------------------------------------------------------------------\u001b[0m",
      "\u001b[1;31mTypeError\u001b[0m                                 Traceback (most recent call last)",
      "\u001b[1;32m<ipython-input-37-17c198983391>\u001b[0m in \u001b[0;36m<module>\u001b[1;34m\u001b[0m\n\u001b[0;32m      2\u001b[0m \u001b[0mi\u001b[0m\u001b[1;33m=\u001b[0m\u001b[1;36m0\u001b[0m\u001b[1;33m\u001b[0m\u001b[1;33m\u001b[0m\u001b[0m\n\u001b[0;32m      3\u001b[0m \u001b[1;32mwhile\u001b[0m \u001b[0mi\u001b[0m\u001b[1;33m<\u001b[0m \u001b[0mlen\u001b[0m\u001b[1;33m(\u001b[0m\u001b[0mz1\u001b[0m\u001b[1;33m)\u001b[0m\u001b[1;33m:\u001b[0m\u001b[1;33m\u001b[0m\u001b[1;33m\u001b[0m\u001b[0m\n\u001b[1;32m----> 4\u001b[1;33m     \u001b[0mprint\u001b[0m\u001b[1;33m(\u001b[0m\u001b[0mz1\u001b[0m\u001b[1;33m[\u001b[0m\u001b[0mi\u001b[0m\u001b[1;33m]\u001b[0m\u001b[1;33m)\u001b[0m\u001b[1;33m\u001b[0m\u001b[1;33m\u001b[0m\u001b[0m\n\u001b[0m\u001b[0;32m      5\u001b[0m     \u001b[0mi\u001b[0m \u001b[1;33m+=\u001b[0m \u001b[1;36m1\u001b[0m\u001b[1;33m\u001b[0m\u001b[1;33m\u001b[0m\u001b[0m\n",
      "\u001b[1;31mTypeError\u001b[0m: 'set' object is not subscriptable"
     ]
    }
   ],
   "source": [
    "z1 = {10,11,23,34,45,56}\n",
    "i=0\n",
    "while i< len(z1):\n",
    "    print(z1[i])\n",
    "    i += 1"
   ]
  },
  {
   "cell_type": "markdown",
   "id": "cc176b71",
   "metadata": {},
   "source": [
    "#### Duplicates are not allowed in Sets"
   ]
  },
  {
   "cell_type": "code",
   "execution_count": 38,
   "id": "095a9f14",
   "metadata": {},
   "outputs": [
    {
     "name": "stdout",
     "output_type": "stream",
     "text": [
      "{2, 3, 4, 5, 6, 7}\n"
     ]
    }
   ],
   "source": [
    "d1 = {5,4,6,7,3,2,4,5,6,4,3,3}\n",
    "print(d1)"
   ]
  },
  {
   "cell_type": "markdown",
   "id": "c8739cbd",
   "metadata": {},
   "source": [
    "### Set methods"
   ]
  },
  {
   "cell_type": "markdown",
   "id": "57253e42",
   "metadata": {},
   "source": [
    "#### 1) union()\n",
    "Perform union of Sets,Works for multiple sets as well"
   ]
  },
  {
   "cell_type": "code",
   "execution_count": 41,
   "id": "a3ebcbea",
   "metadata": {},
   "outputs": [
    {
     "name": "stdout",
     "output_type": "stream",
     "text": [
      "{1, 3, 5, 6, 7, 8, 9, 10}\n",
      "{0, 1, 3, 5, 6, 7, 8, 9, 10, 11, 12}\n"
     ]
    }
   ],
   "source": [
    "s1 = {5,6,7,8,9}\n",
    "s2 = {1,3,5,7,10}\n",
    "s3 = {11,0,12}\n",
    "print(s1.union(s2))\n",
    "print(s1.union(s2,s3))"
   ]
  },
  {
   "cell_type": "markdown",
   "id": "3ac741c7",
   "metadata": {},
   "source": [
    "#### 2) intersetcion()\n",
    "Perform intersection of Sets, Works for multiple sets as well.<br>\n",
    "Returns common element from the sets used"
   ]
  },
  {
   "cell_type": "code",
   "execution_count": 43,
   "id": "6371fdea",
   "metadata": {},
   "outputs": [
    {
     "name": "stdout",
     "output_type": "stream",
     "text": [
      "{5, 7}\n",
      "{5}\n"
     ]
    }
   ],
   "source": [
    "s1 = {5,6,7,8,9}\n",
    "s2 = {1,3,5,7,10}\n",
    "s3 = {11,0,12,5}\n",
    "print(s1.intersection(s2))\n",
    "print(s1.intersection(s2,s3))"
   ]
  },
  {
   "cell_type": "markdown",
   "id": "9964c9af",
   "metadata": {},
   "source": [
    "#### 3) difference()\n",
    "s1.diifernce(s2) => Returns the elements of s1 which are not present in s2 "
   ]
  },
  {
   "cell_type": "code",
   "execution_count": 48,
   "id": "70db346c",
   "metadata": {},
   "outputs": [
    {
     "name": "stdout",
     "output_type": "stream",
     "text": [
      "{8, 9, 6}\n",
      "{1, 10, 3, 7}\n"
     ]
    }
   ],
   "source": [
    "s1 = {5,6,7,8,9}\n",
    "s2 = {1,3,5,7,10}\n",
    "s3 = {11,0,12,5}\n",
    "print(s1.difference(s2))\n",
    "print(s2.difference(s3))"
   ]
  },
  {
   "cell_type": "markdown",
   "id": "d4402684",
   "metadata": {},
   "source": [
    "#### 4) Symmetric difference\n",
    "s1.symmetric_difference(s2) => Difference operation between union and intersetcion"
   ]
  },
  {
   "cell_type": "code",
   "execution_count": 51,
   "id": "3b65811e",
   "metadata": {},
   "outputs": [
    {
     "name": "stdout",
     "output_type": "stream",
     "text": [
      "Union {1, 3, 5, 6, 7, 8, 9, 10}\n",
      "Intersection {5, 7}\n",
      "----------\n",
      "{1, 3, 6, 8, 9, 10}\n",
      "{1, 3, 6, 8, 9, 10}\n"
     ]
    }
   ],
   "source": [
    "s1 = {5,6,7,8,9}\n",
    "s2 = {1,3,5,7,10}\n",
    "s3 = {11,0,12,5}\n",
    "s4 = s1.union(s2)\n",
    "s5 = s1.intersection(s2)\n",
    "s6 = s1.symmetric_difference(s2)\n",
    "print('Union',s4)\n",
    "print('Intersection',s5)\n",
    "print('----------')\n",
    "print(s4.difference(s5))\n",
    "print(s6)"
   ]
  },
  {
   "cell_type": "markdown",
   "id": "2e242d7c",
   "metadata": {},
   "source": [
    "#### 5) update()\n",
    "It also performs union of sets. But the set on which update operation has been performed is updated iwth the union of sets. Works with multiple sets as well "
   ]
  },
  {
   "cell_type": "code",
   "execution_count": 52,
   "id": "173dff4a",
   "metadata": {},
   "outputs": [
    {
     "name": "stdout",
     "output_type": "stream",
     "text": [
      "{5, 6, 7, 8, 9}\n",
      "{1, 3, 5, 7, 10}\n",
      "{0, 11, 12, 5}\n",
      "{1, 3, 5, 6, 7, 8, 9, 10}\n",
      "{1, 3, 5, 7, 10}\n",
      "{0, 11, 12, 5}\n"
     ]
    }
   ],
   "source": [
    "s1 = {5,6,7,8,9}\n",
    "s2 = {1,3,5,7,10}\n",
    "s3 = {11,0,12,5}\n",
    "print(s1)\n",
    "print(s2)\n",
    "print(s3)\n",
    "s1.update(s2)\n",
    "print(s1)\n",
    "print(s2)\n",
    "print(s3)"
   ]
  },
  {
   "cell_type": "markdown",
   "id": "43129530",
   "metadata": {},
   "source": [
    "#### 6), 7) 8)\n",
    "<b>intersetcion_update() </b>- Updates the set with the intersection result<br>\n",
    "<b>difference_update() </b>- Updates the set with the difference result<br>\n",
    "<b>symmetric_difference_update() </b>- Updates the set with the symmetric_difference result"
   ]
  },
  {
   "cell_type": "code",
   "execution_count": 53,
   "id": "3601b899",
   "metadata": {},
   "outputs": [
    {
     "name": "stdout",
     "output_type": "stream",
     "text": [
      "{5, 6, 7, 8, 9}\n",
      "{1, 3, 5, 7, 10}\n",
      "{0, 11, 12, 5}\n",
      "{5, 7}\n",
      "{1, 3, 5, 7, 10}\n",
      "{0, 11, 12, 5}\n"
     ]
    }
   ],
   "source": [
    "s1 = {5,6,7,8,9}\n",
    "s2 = {1,3,5,7,10}\n",
    "s3 = {11,0,12,5}\n",
    "print(s1)\n",
    "print(s2)\n",
    "print(s3)\n",
    "s1.intersection_update(s2)\n",
    "print(s1)\n",
    "print(s2)\n",
    "print(s3)"
   ]
  },
  {
   "cell_type": "code",
   "execution_count": 55,
   "id": "9259b3d1",
   "metadata": {},
   "outputs": [
    {
     "name": "stdout",
     "output_type": "stream",
     "text": [
      "{5, 6, 7, 8, 9}\n",
      "{1, 3, 5, 7, 10}\n",
      "{0, 11, 12, 5}\n",
      "{6, 8, 9}\n",
      "{1, 3, 5, 7, 10}\n",
      "{0, 11, 12, 5}\n"
     ]
    }
   ],
   "source": [
    "s1 = {5,6,7,8,9}\n",
    "s2 = {1,3,5,7,10}\n",
    "s3 = {11,0,12,5}\n",
    "print(s1)\n",
    "print(s2)\n",
    "print(s3)\n",
    "s1.difference_update(s2) # elements which are member of s1 and but a meneber of s2 \n",
    "print(s1)\n",
    "print(s2)\n",
    "print(s3)"
   ]
  },
  {
   "cell_type": "code",
   "execution_count": 56,
   "id": "3d4522cd",
   "metadata": {},
   "outputs": [
    {
     "name": "stdout",
     "output_type": "stream",
     "text": [
      "{5, 6, 7, 8, 9}\n",
      "{1, 3, 5, 7, 10}\n",
      "{0, 11, 12, 5}\n",
      "{1, 3, 6, 8, 9, 10}\n",
      "{1, 3, 5, 7, 10}\n",
      "{0, 11, 12, 5}\n"
     ]
    }
   ],
   "source": [
    "s1 = {5,6,7,8,9}\n",
    "s2 = {1,3,5,7,10}\n",
    "s3 = {11,0,12,5}\n",
    "print(s1)\n",
    "print(s2)\n",
    "print(s3)\n",
    "s1.symmetric_difference_update(s2)\n",
    "print(s1)\n",
    "print(s2)\n",
    "print(s3)"
   ]
  },
  {
   "cell_type": "markdown",
   "id": "e738d9b5",
   "metadata": {},
   "source": [
    "#### 9) pop()\n",
    "Remove and return an arbitrary set element."
   ]
  },
  {
   "cell_type": "code",
   "execution_count": 58,
   "id": "21390f9e",
   "metadata": {},
   "outputs": [
    {
     "name": "stdout",
     "output_type": "stream",
     "text": [
      "{True, 5, 6, 7, 8, 9, 'Hello', 'Python', 10, 12}\n",
      "{5, 6, 7, 8, 9, 'Hello', 'Python', 10, 12}\n",
      "5\n",
      "{6, 7, 8, 9, 'Hello', 'Python', 10, 12}\n",
      "{7, 8, 9, 'Hello', 'Python', 10, 12}\n",
      "{8, 9, 'Hello', 'Python', 10, 12}\n"
     ]
    }
   ],
   "source": [
    "s1 = {5,6,7,8,9,'Hello','Python',True,10,12}\n",
    "print(s1)\n",
    "s1.pop()\n",
    "print(s1)\n",
    "print(s1.pop())\n",
    "print(s1)\n",
    "s1.pop()\n",
    "print(s1)\n",
    "s1.pop()\n",
    "print(s1)"
   ]
  },
  {
   "cell_type": "markdown",
   "id": "cf569326",
   "metadata": {},
   "source": [
    "#### 10) add()\n",
    "It adds an element to the set"
   ]
  },
  {
   "cell_type": "code",
   "execution_count": 63,
   "id": "8d564d5b",
   "metadata": {},
   "outputs": [
    {
     "name": "stdout",
     "output_type": "stream",
     "text": [
      "{False, 'Python', 45, 'India', 23, 56, 89, 90, 91}\n",
      "{False, 'Python', 45, 'Messi', 'India', 23, 56, 89, 90, 91}\n",
      "{False, 'Neymar', 'Python', 45, 'Messi', 'India', 23, 56, 89, 90, 91}\n",
      "{False, 100, 'Neymar', 'Python', 45, 'Messi', 'India', 23, 56, 89, 90, 91}\n",
      "{False, 56.34, 100, 'Neymar', 'Python', 45, 'Messi', 'India', 23, 56, 89, 90, 91}\n"
     ]
    }
   ],
   "source": [
    "s1 = {23,45,56,'India','Python',False,89,90,91}\n",
    "print(s1)\n",
    "s1.add('Messi')\n",
    "print(s1)\n",
    "s1.add('Neymar')\n",
    "print(s1)\n",
    "s1.add(100)\n",
    "print(s1)\n",
    "s1.add(56.34)\n",
    "print(s1)"
   ]
  },
  {
   "cell_type": "markdown",
   "id": "38690a58",
   "metadata": {},
   "source": [
    "#### 11) clear()\n",
    "Empties the set"
   ]
  },
  {
   "cell_type": "code",
   "execution_count": 65,
   "id": "bf23648a",
   "metadata": {},
   "outputs": [
    {
     "name": "stdout",
     "output_type": "stream",
     "text": [
      "{16, 17, 18, 15}\n",
      "set()\n"
     ]
    }
   ],
   "source": [
    "s1 = {15,16,17,18}\n",
    "print(s1)\n",
    "s1.clear()\n",
    "print(s1)"
   ]
  },
  {
   "cell_type": "markdown",
   "id": "0d59c9e8",
   "metadata": {},
   "source": [
    "#### 12) remove()\n",
    "used to remove an element from the set"
   ]
  },
  {
   "cell_type": "code",
   "execution_count": 67,
   "id": "755bc51f",
   "metadata": {},
   "outputs": [
    {
     "name": "stdout",
     "output_type": "stream",
     "text": [
      "{40, 10, 50, 20, 30}\n",
      "{40, 10, 50, 20}\n",
      "{40, 10, 50}\n"
     ]
    }
   ],
   "source": [
    "s1 = {10,20,30,40,50}\n",
    "print(s1)\n",
    "s1.remove(30)\n",
    "print(s1)\n",
    "s1.remove(20)\n",
    "print(s1)"
   ]
  },
  {
   "cell_type": "markdown",
   "id": "f90623fb",
   "metadata": {},
   "source": [
    "#### min, max and sum on set and tuple"
   ]
  },
  {
   "cell_type": "code",
   "execution_count": 68,
   "id": "09190f0e",
   "metadata": {},
   "outputs": [
    {
     "name": "stdout",
     "output_type": "stream",
     "text": [
      "10\n",
      "46\n",
      "124\n"
     ]
    }
   ],
   "source": [
    "t1 = (10,30,15,46,23)\n",
    "print(min(t1))\n",
    "print(max(t1))\n",
    "print(sum(t1))"
   ]
  },
  {
   "cell_type": "code",
   "execution_count": 69,
   "id": "697eb52b",
   "metadata": {},
   "outputs": [
    {
     "name": "stdout",
     "output_type": "stream",
     "text": [
      "10\n",
      "46\n",
      "124\n"
     ]
    }
   ],
   "source": [
    "s1 = {10,30,15,46,23}\n",
    "print(min(t1))\n",
    "print(max(t1))\n",
    "print(sum(t1))"
   ]
  },
  {
   "cell_type": "code",
   "execution_count": null,
   "id": "18adfcb0",
   "metadata": {},
   "outputs": [],
   "source": []
  }
 ],
 "metadata": {
  "kernelspec": {
   "display_name": "Python 3",
   "language": "python",
   "name": "python3"
  },
  "language_info": {
   "codemirror_mode": {
    "name": "ipython",
    "version": 3
   },
   "file_extension": ".py",
   "mimetype": "text/x-python",
   "name": "python",
   "nbconvert_exporter": "python",
   "pygments_lexer": "ipython3",
   "version": "3.8.8"
  }
 },
 "nbformat": 4,
 "nbformat_minor": 5
}
