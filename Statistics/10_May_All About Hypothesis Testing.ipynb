{
 "cells": [
  {
   "cell_type": "markdown",
   "id": "bd3f8bfb",
   "metadata": {},
   "source": [
    "### Hypythesis Testing\n",
    "1) The hypothesis is a statement, assumption or claim about the value of the parameter (mean, variance, median etc.).<br>\n",
    "2) A hypothesis is an educated guess about something in the world around you. It should be testable, either by experiment or observation.<br>\n",
    "3) Like, if we make a statement that “Dhoni is the best Indian Captain ever.” This is an assumption that we are making based on the average wins and losses team had under his captaincy. We can test this statement based on all the match data.<br>\n",
    "4) As per statistics, it is generally used when we were to compare:\n",
    "a) A single group with an external standard\n",
    "b) Two or more groups with each other\n",
    "\n",
    "5) Hypothesis testing in statistics is a way for you to test the results of a survey or experiment to see if you have meaningful results. You’re basically testing whether your results are valid by figuring out the odds that your results have happened by chance. If your results may have happened by chance, the experiment won’t be repeatable and so has little use.<br>\n",
    "6) Hypothesis testing is a statistical method that is used in making statistical decisions using experimental data. Hypothesis Testing is basically an assumption that we make about the population parameter.<br>\n",
    "7) <b>Why we use it?</b> Hypothesis testing is an essential procedure in statistics. A hypothesis test evaluates two mutually exclusive statements about a population to determine which statement is best supported by the sample data. When we say that a finding is statistically significant, it’s thanks to a hypothesis test.\n"
   ]
  },
  {
   "cell_type": "markdown",
   "id": "439f329e",
   "metadata": {},
   "source": [
    "### Null vs Alternate Hypothesis\n",
    "\n",
    "#### Null Hypothesis<br>\n",
    "a) The null hypothesis is always the accepted fact.<br>\n",
    "b) The null hypothesis is a general statement or default position that there is no relationship<br> between two measured phenomena, or no association among group<br>\n",
    "\n",
    "#### Alternate Hypothesis<br>\n",
    "\n",
    "1) The alternate hypothesis is a statement opposite to that of Null Hypothesis.<br>\n",
    "2) The alternate hypothesis is just an alternative to the null. For example, if your null is I'm going to win up to 1000 then your alternate is I'm going to win more than 1000. Basically, you're looking at whether there's enough change (with the alternate hypothesis) to be able to reject the null hypothesis.\n",
    "\n",
    "<img src=\"null_alternate_hypo.png\" height=\"350\" width=\"500\">"
   ]
  },
  {
   "cell_type": "markdown",
   "id": "70a8272c",
   "metadata": {},
   "source": [
    "#### Example\n",
    "A soap company claims that its product kills on an average of 99% of the germs. To test the claim of this company we will formulate the null and alternate hypothesis.\n",
    "\n",
    "Null Hypothesis(H0): Average =99%\n",
    "\n",
    "Alternate Hypothesis(H1): Average is not equal to 99%.\n",
    "\n",
    "When we test a hypothesis, we assume the null hypothesis to be true until there is sufficient evidence in the sample to prove it false. In that case, we reject the null hypothesis and support the alternate hypothesis. If the sample fails to provide sufficient evidence for us to reject the null hypothesis, we cannot say that the null hypothesis is true because it is based on just the sample data. For saying the null hypothesis is true we will have to study the whole population data."
   ]
  },
  {
   "cell_type": "markdown",
   "id": "e850a4fb",
   "metadata": {},
   "source": [
    "### Terminologies\n",
    "\n",
    "#### 1) Level of Significance (α)\n",
    "1) Level of significance: Refers to the degree of significance in which we accept or reject the null-hypothesis. 100% accuracy is not possible for accepting or rejecting a hypothesis, so we therefore select a level of significance that is usually 5%.<br>\n",
    "2) This is normally denoted with alpha(α) and generally it is 0.05 or 5% , which means your output should be 95% confident to give similar kind of result in each sample.<br>\n",
    "3) The significance level, also denoted as alpha or α, is also defined as the probability of rejecting the null hypothesis when it is true.\n",
    "\n",
    "#### 2) Confidence level(1-α): \n",
    "1) The probability of accepting a True Null Hypothesis. It is denoted as (1-α)\n",
    "\n",
    "#### 3) Critical Value: \n",
    "It is a value in the distribution beyond which leads to the rejection of the Null Hypothesis. It is compared to the test statistic.\n",
    "\n",
    "#### 4) Test Statistic: \n",
    "It is dependent on the test that we run. It is deciding factor to reject or accept Null Hypothesis.\n",
    "\n",
    "#### 5) Type I Error (α)\n",
    "1)\tWhen we reject the null hypothesis, although that hypothesis was true. Type I error is denoted by alpha. In hypothesis testing, the normal curve that shows the critical region is called the alpha region. <br>\n",
    "2) It is a fixed probability of wrongly rejecting a True Null Hypothesis. For example, if α=5%, that means we are okay to take a 5% risk and conclude there exists a difference when there is no actual difference.\n",
    "\n",
    "#### 6) Type II Error (β)\n",
    "1)\tWhen we accept the null hypothesis when it is False. Type II errors are denoted by β(beta). In Hypothesis testing, the normal curve that shows the acceptance region is called the beta region.\n",
    "\n",
    "\n",
    "#### 7) Power of test(1- β)\n",
    "The probability of rejecting a False Null Hypothesis i.e., the ability of the test to detect a difference. It is denoted as (1-β) and its value lies between 0 and 1.\n"
   ]
  },
  {
   "cell_type": "markdown",
   "id": "d98f5b0c",
   "metadata": {},
   "source": [
    "<img src=\"confusion_matrix_hypo_test.png\">"
   ]
  },
  {
   "cell_type": "markdown",
   "id": "58cff73e",
   "metadata": {},
   "source": [
    "### One Tail and Two Tail Test\n",
    "\n",
    "### One Tail Test (Left and Right tail Test)\n",
    "A test of a statistical hypothesis , where the region of rejection is on only one side of the sampling distribution , is called a one-tailed test.<br>\n",
    "Example :- a college has ≥ 4000 student or data science ≤ 80% org adopted.\n",
    "\n",
    "### Two tail Test\n",
    "A two-tailed test is a statistical test in which the critical area of a distribution is two-sided and tests whether a sample is greater than or less than a certain range of values. If the sample being tested falls into either of the critical areas, the alternative hypothesis is accepted instead of the null hypothesis.<br>\n",
    "Example : a college != 4000 student or data science != 80% org adopted\n",
    "\n",
    "\n",
    "#### Critical Region\n",
    "The critical region is that region in the sample space in which if the calculated value lies then we reject the null hypothes"
   ]
  },
  {
   "cell_type": "markdown",
   "id": "181617a3",
   "metadata": {},
   "source": [
    "<img src=\"left_tail_test.png\" width=\"350\" align=\"left\">\n",
    "<img src=\"right_tail_test.png\" width=\"350\" align=\"right\">\n",
    "\n",
    "<img src=\"2_tail_test.png\">"
   ]
  },
  {
   "cell_type": "markdown",
   "id": "5f2add11",
   "metadata": {},
   "source": [
    "### p-value\n",
    "1) The P value, or calculated probability, is the probability of finding the observed, or more extreme, results when the null hypothesis (H0) of a experiment is true — the definition of ‘extreme’ depends on how the hypothesis is being tested.\n",
    "\n",
    "2) It can also be defined as the probability of obtaining the observed results, assuming that the null hypothesis is true."
   ]
  },
  {
   "cell_type": "markdown",
   "id": "09081747",
   "metadata": {},
   "source": [
    "### Steps of Hypothesis testing\n",
    "\n",
    "For a given business problem<br>\n",
    "1) Start with specifying Null(H0) and Alternative Hypotheses(H1) about a population parameter<br>\n",
    "2) Set the level of significance (α)<br>\n",
    "3) Collect Sample data and calculate the Test Statistic and P-value by running a Hypothesis test that well suits our data<br>\n",
    "4) Make Conclusion: Reject or Fail to Reject Null Hypothesis<br>\n",
    "\n",
    "\n",
    "### Decision Rule\n",
    "The two methods of concluding the Hypothesis test are using the Test-statistic value, p-value.\n",
    "In both methods, we start assuming the Null Hypothesis to be true, and then we reject the Null hypothesis if we find enough evidence.<br>\n",
    "\n",
    "The decision rule for the Test-statistic method:\n",
    "\n",
    "    if test-statistic (t) > critical Value (C), Reject Null Hypothesis.\n",
    "    If test-statistic (t) ≤ critical value (C), Fail to reject Null Hypothesis\n",
    "\n",
    "The decision rule for the p-value method:\n",
    "\n",
    "    if p-value (p) > level of significance (α), we fail to reject Null Hypothesis\n",
    "    if p-value (p) ≤ level of significance (α), we reject Null Hypothesis"
   ]
  },
  {
   "cell_type": "code",
   "execution_count": null,
   "id": "6664f483",
   "metadata": {},
   "outputs": [],
   "source": []
  }
 ],
 "metadata": {
  "kernelspec": {
   "display_name": "Python 3",
   "language": "python",
   "name": "python3"
  },
  "language_info": {
   "codemirror_mode": {
    "name": "ipython",
    "version": 3
   },
   "file_extension": ".py",
   "mimetype": "text/x-python",
   "name": "python",
   "nbconvert_exporter": "python",
   "pygments_lexer": "ipython3",
   "version": "3.8.8"
  }
 },
 "nbformat": 4,
 "nbformat_minor": 5
}
