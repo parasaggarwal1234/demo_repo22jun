{
 "cells": [
  {
   "cell_type": "markdown",
   "id": "1bffee2b",
   "metadata": {},
   "source": [
    "#### Hypothesis Testing\n",
    "\n",
    "1) One Sample Z_test<br>\n",
    "2) Two Sample Z_test<br>\n",
    "3) One Sample T Test<br>\n",
    "4) Two Sample T_test<br>\n",
    "5) Chi Square test<br>\n",
    "6) ANOVA,f-test<br>\n",
    "\n",
    "#### Normality test\n",
    "1) Shapiro Test<br>\n",
    "2) Jarquee Bera"
   ]
  },
  {
   "cell_type": "code",
   "execution_count": 68,
   "id": "b49d4317",
   "metadata": {},
   "outputs": [],
   "source": [
    "import pandas as pd\n",
    "import numpy as np\n",
    "import statistics as st"
   ]
  },
  {
   "cell_type": "code",
   "execution_count": 69,
   "id": "e1cde92b",
   "metadata": {},
   "outputs": [],
   "source": [
    "from statsmodels.stats.weightstats import ztest\n",
    "from scipy.stats import ttest_1samp\n",
    "from scipy.stats import ttest_ind"
   ]
  },
  {
   "cell_type": "markdown",
   "id": "77066dc0",
   "metadata": {},
   "source": [
    "# Z-Test"
   ]
  },
  {
   "cell_type": "markdown",
   "id": "ea6f5a85",
   "metadata": {},
   "source": [
    "### One Sample Z-Test\n",
    "\n",
    "The One-Sample z-test is used when we want to know whether the difference between the mean of a sample mean and the mean of a population is large enough to be statistically significant, that is, if it is unlikely to have occurred by chance.<br>\n",
    "We compare sample mean with population mean.\n",
    "\n",
    "1) Z-test assumes a sample size >30 to work.<br>\n",
    "2) Samples should be drawn at random from the population.<br>\n",
    "3) The standard deviation of the population should be known.<br>\n",
    "4) Samples that are drawn from the population should be independent of each other.<br>\n",
    "5) The data should be normally distributed, however for large sample size, it is assumed to have a normal distribution.\n",
    "\n",
    "\n",
    "<img src=\"z_statistic.png\">\n",
    "where<br>\n",
    "x_bar = sample mean<br>\n",
    "µ = populataion mean<br>\n",
    "σ = std_dev of population<br>\n",
    "n = sample size<br>\n",
    "\n",
    "6)\tNow to determine if H0 or H1 is true. There are 2 methods<br>\n",
    "a) Comparing z_statistic vs critical value<br>\n",
    "OR<br>\n",
    "b) Calculate p-value corresponding to z-statistics value using z-table. (Python computes it using scipy library)<br>\n",
    "     \n",
    "    If p-value <alpha => Reject Ho (Null Hypothesis) or Accept H1 (Alternate Hypothesis)\n",
    "    if p-value >=alpha => Reject H1 (Alternate Hypothesis) or Accept Ho (Null Hypothesis)\n"
   ]
  },
  {
   "cell_type": "markdown",
   "id": "c1b4b405",
   "metadata": {},
   "source": [
    "<img src=\"one_sample_z_test_cases.png\">"
   ]
  },
  {
   "cell_type": "markdown",
   "id": "eb0e9f18",
   "metadata": {},
   "source": [
    "### How to fetch values of z_critical from z_table ?\n",
    "\n",
    "Link Used -> https://sixsigmastudyguide.com/one-sample-z-hypothesis-test/\n",
    "\n",
    "1)  Right Tail test -> Look for 1-alpha value in Positive z_table<br>\n",
    "2)  Left Tail test -> Look for alpha value in Negative z_table<br>\n",
    "3)  Two Tailed test -> Either look for 1-(alpha/2) in Positive z-table OR<br>\n",
    "                       look for alpha/2 in Negative z-table "
   ]
  },
  {
   "cell_type": "markdown",
   "id": "a57987b8",
   "metadata": {},
   "source": [
    "### How to fetch values of t_critical from t_table?\n",
    "\n",
    "Link used -> https://sixsigmastudyguide.com/one-sample-t-hypothesis-test/\n",
    "\n",
    "1) Left Tailed Test - Check the corresponding dof based on one tail alpha values in the t-table.  <br>\n",
    "2) Right Tailed Test - Check the corresponding dof based on one tail alpha values in the t-table.<br>\n",
    "3) Two Tailed Test - Check the corresponding dof based on two tail alpha values in the t-table. Consider both positive and negative values as <b>-t_crit and +t_crit</b> \n"
   ]
  },
  {
   "cell_type": "markdown",
   "id": "ab473452",
   "metadata": {},
   "source": [
    "#### One Sample Z_test - Right tailed Example\n",
    "A coaching institute claims that the students’ mean scores in their institute are greater than the 82 marks with a standard deviation of 20. A sample of 81 students is selected, and the mean score is 90 marks. At 95% confidence level, is there enough evidence to support the claim?<br>\n",
    "Consider z_crit = 1.645"
   ]
  },
  {
   "cell_type": "code",
   "execution_count": 70,
   "id": "65291e69",
   "metadata": {},
   "outputs": [
    {
     "name": "stdout",
     "output_type": "stream",
     "text": [
      "z_stat 3.5999999999999996\n",
      "Ho rejected\n"
     ]
    }
   ],
   "source": [
    "# H0 : µ <= 82\n",
    "# H1 : µ > 82\n",
    "# Right Tailed test\n",
    "std,n = 20,81\n",
    "alpha=0.05\n",
    "x,µ = 90,82\n",
    "z_crit = 1.645\n",
    "z_stat = (x-µ)/(std/np.sqrt(n))\n",
    "print('z_stat',z_stat)\n",
    "if z_stat < z_crit:\n",
    "    print('Ho is accepted')\n",
    "else:\n",
    "    print('Ho rejected')"
   ]
  },
  {
   "cell_type": "markdown",
   "id": "1448d801",
   "metadata": {},
   "source": [
    "<img src=\"z_test_ex1_res.png\" align=\"left\">\n",
    "There is enough evidence to support the students’ scores in their institute is greater than the 82 marks."
   ]
  },
  {
   "cell_type": "markdown",
   "id": "6dfc9229",
   "metadata": {},
   "source": [
    "#### One Sample Z_test - Left tailed Example\n",
    "\n",
    "An online grocery shop claims that the mean delivery time is less than 120 minutes with a standard deviation of 30 minutes. A random sample of 49 orders is delivered with a mean of 100 minutes. At 95% confidence level, is there enough evidence to support the claim? Consider z_crit = -1.645"
   ]
  },
  {
   "cell_type": "code",
   "execution_count": 72,
   "id": "1abc8b53",
   "metadata": {},
   "outputs": [
    {
     "name": "stdout",
     "output_type": "stream",
     "text": [
      "z_stat -4.666666666666667\n",
      "Ho is Rejected\n"
     ]
    }
   ],
   "source": [
    "# H0 : µ >= 120\n",
    "# H1 : µ < 120\n",
    "# Left Tailed test\n",
    "std,n = 30,49\n",
    "alpha=0.05\n",
    "x,µ = 100,120\n",
    "z_crit = -1.645\n",
    "z_stat = (x-µ)/(std/np.sqrt(n))\n",
    "print('z_stat',z_stat)\n",
    "if z_stat < z_crit:\n",
    "    print('Ho is Rejected')\n",
    "else:\n",
    "    print('Ho Accepted')"
   ]
  },
  {
   "cell_type": "markdown",
   "id": "68ce530d",
   "metadata": {},
   "source": [
    "<img src=\"z_test_ex2_res.png\" align=\"left\">\n",
    "There is enough evidence to support the claim the mean delivery time is less than 120 minutes."
   ]
  },
  {
   "cell_type": "markdown",
   "id": "6a18d3fc",
   "metadata": {},
   "source": [
    "#### One Sample Z_test - Two Tailed Example\n",
    "The mean weight of the rubber gasket is 60 grams with a standard deviation of 48. Furthermore, A researcher thinks that material X will have a significant impact on the weight of a gasket. A random sample of 64 gaskets collected and the mean weight is 68 grams. At 95% confidence level test the material X had an effect. Consider z_crit = +-1.96"
   ]
  },
  {
   "cell_type": "code",
   "execution_count": 138,
   "id": "bb46eca1",
   "metadata": {},
   "outputs": [
    {
     "name": "stdout",
     "output_type": "stream",
     "text": [
      "z_stat 1.3333333333333333\n",
      "Ho is Accepted\n"
     ]
    }
   ],
   "source": [
    "# H0 : µ = 60\n",
    "# H1 : µ != 60\n",
    "# Two Tailed test\n",
    "std,n = 48,64\n",
    "alpha=0.05\n",
    "alpha_by_2 = alpha/2\n",
    "x,µ = 68,60\n",
    "z_crit = 1.96  # z_crit = +-1.96\n",
    "z_stat = (x-µ)/(std/np.sqrt(n))\n",
    "print('z_stat',z_stat)\n",
    "if z_stat >- z_crit and z_stat<z_crit:\n",
    "    print('Ho is Accepted')\n",
    "else:\n",
    "    print('Ho Rejected')"
   ]
  },
  {
   "cell_type": "markdown",
   "id": "dbbf8c3d",
   "metadata": {},
   "source": [
    "<img src=\"z_test_ex3_res.png\" align=\"left\">\n",
    "Since zcal value is not in the rejection region. Hence, we fail to reject the null hypothesis. We can say the mean weight of the gasket is 60."
   ]
  },
  {
   "cell_type": "markdown",
   "id": "d1545db8",
   "metadata": {},
   "source": [
    "#### Q1) \n",
    "We need to determine if girls on average score higher than 600 in the exam. \n",
    "Scores of 49 girls are collected for samples analysis. Population Standard deviation for their scores is 100.  What inference can be drawn at alpha as 5%. Smaple mean turns out to be 641<br>\n",
    "Consider z_crit = 1.645\n",
    "\n",
    "#### Q2)\n",
    "1,500 women followed the Keto diet for a month. A random sample of 64 women gained an average of 6.7 pounds. Test the hypothesis that the average weight gain per woman for the month was over 5 pounds. The standard deviation for all women in the group was 7.1. Consider z_crit = 1.645"
   ]
  },
  {
   "cell_type": "code",
   "execution_count": null,
   "id": "f6ccff09",
   "metadata": {},
   "outputs": [],
   "source": []
  },
  {
   "cell_type": "markdown",
   "id": "7d7ce03f",
   "metadata": {},
   "source": [
    "### One Sample Z-test"
   ]
  },
  {
   "cell_type": "code",
   "execution_count": 84,
   "id": "a3531636",
   "metadata": {},
   "outputs": [
    {
     "data": {
      "text/html": [
       "<div>\n",
       "<style scoped>\n",
       "    .dataframe tbody tr th:only-of-type {\n",
       "        vertical-align: middle;\n",
       "    }\n",
       "\n",
       "    .dataframe tbody tr th {\n",
       "        vertical-align: top;\n",
       "    }\n",
       "\n",
       "    .dataframe thead th {\n",
       "        text-align: right;\n",
       "    }\n",
       "</style>\n",
       "<table border=\"1\" class=\"dataframe\">\n",
       "  <thead>\n",
       "    <tr style=\"text-align: right;\">\n",
       "      <th></th>\n",
       "      <th>Strength(in lbs)</th>\n",
       "    </tr>\n",
       "  </thead>\n",
       "  <tbody>\n",
       "    <tr>\n",
       "      <th>0</th>\n",
       "      <td>48.6</td>\n",
       "    </tr>\n",
       "    <tr>\n",
       "      <th>1</th>\n",
       "      <td>38.8</td>\n",
       "    </tr>\n",
       "    <tr>\n",
       "      <th>2</th>\n",
       "      <td>52.6</td>\n",
       "    </tr>\n",
       "    <tr>\n",
       "      <th>3</th>\n",
       "      <td>48.0</td>\n",
       "    </tr>\n",
       "    <tr>\n",
       "      <th>4</th>\n",
       "      <td>60.2</td>\n",
       "    </tr>\n",
       "  </tbody>\n",
       "</table>\n",
       "</div>"
      ],
      "text/plain": [
       "   Strength(in lbs)\n",
       "0              48.6\n",
       "1              38.8\n",
       "2              52.6\n",
       "3              48.0\n",
       "4              60.2"
      ]
     },
     "execution_count": 84,
     "metadata": {},
     "output_type": "execute_result"
    }
   ],
   "source": [
    "df0 = pd.read_csv(\"Strength.csv\")\n",
    "df0.head()"
   ]
  },
  {
   "cell_type": "code",
   "execution_count": 85,
   "id": "0567fa59",
   "metadata": {},
   "outputs": [
    {
     "name": "stdout",
     "output_type": "stream",
     "text": [
      "(40, 1)\n"
     ]
    },
    {
     "data": {
      "text/plain": [
       "Strength(in lbs)    0\n",
       "dtype: int64"
      ]
     },
     "execution_count": 85,
     "metadata": {},
     "output_type": "execute_result"
    }
   ],
   "source": [
    "print(df0.shape)\n",
    "df0.isnull().sum()"
   ]
  },
  {
   "cell_type": "markdown",
   "id": "d82fd2c7",
   "metadata": {},
   "source": [
    "Let <br>X: the breaking strength of the glass rod<br>\n",
    "Thus $\\mu$: the average the breaking strength of the glass rod <br>\n",
    "alpha=5%\n",
    "\n",
    "The hypothesis is                                                                       \n",
    "H<sub>0</sub>: The mean the breaking strength of the glass rod is equal to 55, i.e $\\mu$ = 55 <br>\n",
    "**AGAINST**<br>\n",
    "H<sub>a</sub>: The mean the breaking strength of the glass rod is not equal to 55, , i.e $\\mu$ ≠ 55"
   ]
  },
  {
   "cell_type": "code",
   "execution_count": 90,
   "id": "4231f9f3",
   "metadata": {},
   "outputs": [],
   "source": [
    "from statsmodels.stats.weightstats import ztest"
   ]
  },
  {
   "cell_type": "code",
   "execution_count": 93,
   "id": "493de5f4",
   "metadata": {},
   "outputs": [
    {
     "name": "stdout",
     "output_type": "stream",
     "text": [
      "z_stat -4.431740748679182 p_val 9.347536680921983e-06\n",
      "Reject Ho\n"
     ]
    }
   ],
   "source": [
    "alpha=0.05\n",
    "z_stat,p = ztest(df0['Strength(in lbs)'], value =55)\n",
    "print('z_stat',z_stat,'p_val',p)\n",
    "\n",
    "if(p <  alpha/2):\n",
    "    print(\"Reject Ho\")\n",
    "else:\n",
    "    print(\"Accpet Ho\")"
   ]
  },
  {
   "cell_type": "code",
   "execution_count": null,
   "id": "828b7471",
   "metadata": {},
   "outputs": [],
   "source": []
  },
  {
   "cell_type": "markdown",
   "id": "00971f76",
   "metadata": {},
   "source": [
    "## Two Sample Z-test\n",
    "1) Two Sample Z test when we want to compare the mean of two samples.<br>\n",
    "\n",
    "2) In this test, we have provided 2 normally distributed and independent populations, and we have drawn samples at random from both populations. Here, we consider µ1 and µ2 be the population mean X1 and X2 are the observed sample mean. <br>\n",
    "\n",
    "Here, our null hypothesis could be like:<br>\n",
    "Ho : µ1 - µ2 = 0<br>\n",
    "H1 : µ1- µ2 != 0\n",
    "\n",
    "<img src=\"z_statisic_2sample.png\">\n",
    "\n",
    "where <br>\n",
    "x_bar,y_bar = sample means of x and y respectively<br>\n",
    "µ1, µ2 = population means of x and y respectively<br>\n",
    "σ1,σ2 = std of population x and y respectively<br>\n",
    "n1,n2 = sample size of x and y respetcively<br>"
   ]
  },
  {
   "cell_type": "markdown",
   "id": "38812bb0",
   "metadata": {},
   "source": [
    "### Two Sample Z_test - Two sided"
   ]
  },
  {
   "cell_type": "code",
   "execution_count": 95,
   "id": "59cac61f",
   "metadata": {},
   "outputs": [
    {
     "data": {
      "text/html": [
       "<div>\n",
       "<style scoped>\n",
       "    .dataframe tbody tr th:only-of-type {\n",
       "        vertical-align: middle;\n",
       "    }\n",
       "\n",
       "    .dataframe tbody tr th {\n",
       "        vertical-align: top;\n",
       "    }\n",
       "\n",
       "    .dataframe thead th {\n",
       "        text-align: right;\n",
       "    }\n",
       "</style>\n",
       "<table border=\"1\" class=\"dataframe\">\n",
       "  <thead>\n",
       "    <tr style=\"text-align: right;\">\n",
       "      <th></th>\n",
       "      <th>Fertilizer 1</th>\n",
       "      <th>Fertilizer 2</th>\n",
       "    </tr>\n",
       "  </thead>\n",
       "  <tbody>\n",
       "    <tr>\n",
       "      <th>0</th>\n",
       "      <td>23</td>\n",
       "      <td>45</td>\n",
       "    </tr>\n",
       "    <tr>\n",
       "      <th>1</th>\n",
       "      <td>34</td>\n",
       "      <td>34</td>\n",
       "    </tr>\n",
       "    <tr>\n",
       "      <th>2</th>\n",
       "      <td>45</td>\n",
       "      <td>21</td>\n",
       "    </tr>\n",
       "    <tr>\n",
       "      <th>3</th>\n",
       "      <td>32</td>\n",
       "      <td>34</td>\n",
       "    </tr>\n",
       "    <tr>\n",
       "      <th>4</th>\n",
       "      <td>34</td>\n",
       "      <td>45</td>\n",
       "    </tr>\n",
       "  </tbody>\n",
       "</table>\n",
       "</div>"
      ],
      "text/plain": [
       "   Fertilizer 1  Fertilizer 2\n",
       "0            23            45\n",
       "1            34            34\n",
       "2            45            21\n",
       "3            32            34\n",
       "4            34            45"
      ]
     },
     "execution_count": 95,
     "metadata": {},
     "output_type": "execute_result"
    }
   ],
   "source": [
    "df1 = pd.read_csv('Fertilizer.csv')\n",
    "df1.head()"
   ]
  },
  {
   "cell_type": "code",
   "execution_count": 97,
   "id": "7e70c02a",
   "metadata": {},
   "outputs": [
    {
     "name": "stdout",
     "output_type": "stream",
     "text": [
      "(35, 2)\n",
      "Fertilizer 1    0\n",
      "Fertilizer 2    0\n",
      "dtype: int64\n"
     ]
    }
   ],
   "source": [
    "print(df1.shape)\n",
    "print(df1.isnull().sum())"
   ]
  },
  {
   "cell_type": "markdown",
   "id": "76d8dd4c",
   "metadata": {},
   "source": [
    "Let <br>\n",
    "X: yeild due to fertilizer 1 <br>\n",
    "Y: yeild due to fertilizer 2 <br>\n",
    "alpha=5%\n",
    "\n",
    "Thus <br>\n",
    "$\\mu$<sub>A</sub>: the average yeild due to fertilizer 1 <br>\n",
    "$\\mu$<sub>B</sub>: the average yeild due to fertilizer 2 <br>\n",
    "\n",
    "The hypothesis is <br>\n",
    "H<sub>0</sub>: The average yeild due to fertilizer 1 is equal to the average yeild due to fertilizer 2,\n",
    "i.e  $\\mu$<sub>A</sub> =  $\\mu$<sub>B</sub> <br>\n",
    "**AGAINST** <br>\n",
    "H<sub>A</sub>: The average yeild due to fertilizer 1 is not equal to the average yeild due to fertilizer 2,\n",
    "i.e  $\\mu$<sub>A</sub> ≠  $\\mu$<sub>B</sub>"
   ]
  },
  {
   "cell_type": "code",
   "execution_count": 101,
   "id": "d6b61669",
   "metadata": {},
   "outputs": [
    {
     "name": "stdout",
     "output_type": "stream",
     "text": [
      "z_stat -1.1390306751872912 p_val 0.25469036008906554\n",
      "Accpet Ho\n"
     ]
    }
   ],
   "source": [
    "alpha=0.05\n",
    "z_stat,p = ztest(x1 = df1['Fertilizer 1'], x2=df1['Fertilizer 2'])\n",
    "print('z_stat',z_stat,'p_val',p)\n",
    "if(p <  alpha/2):\n",
    "    print(\"Reject Ho\")\n",
    "else:\n",
    "    print(\"Accpet Ho\")"
   ]
  },
  {
   "cell_type": "markdown",
   "id": "88bc6747",
   "metadata": {},
   "source": [
    "# T-Test"
   ]
  },
  {
   "cell_type": "markdown",
   "id": "f0aee6be",
   "metadata": {},
   "source": [
    "### One Sample T-test\n",
    "One sample t-test is one of the widely used t-tests for comparison of the sample mean of the data to a particular given value. Used for comparing the sample mean to the true/population mean. T-test is used when sample size is less than 30\n",
    "\n",
    "<img src=\"t_statistic_1sample.png\" align='center' width=\"200\">\n",
    "\n",
    "where<br>\n",
    "x_bar = smaple mean<br>\n",
    "µ = popultaion mean<br>\n",
    "σ = std_dev of sample<br>\n",
    "n = sample size<br>\n",
    "\n",
    "dof = degrees of freedom = n-1\n"
   ]
  },
  {
   "cell_type": "markdown",
   "id": "cd35f963",
   "metadata": {},
   "source": [
    "#### One Sample T-test - Right tailed\n",
    "\n",
    "A software start-up company plans to introduce company transportation based on the town hall meeting’s feedback. Admin manager randomly collected 12 employees’ spending on public transportation for the month. With 95% confidence level, is there any evidence that the population mean is above 400?\n",
    "Sample stdev = 40. Sample mean is 415. <br>\n",
    "Consider t_crit = 1.796"
   ]
  },
  {
   "cell_type": "code",
   "execution_count": 103,
   "id": "52b6b581",
   "metadata": {},
   "outputs": [
    {
     "name": "stdout",
     "output_type": "stream",
     "text": [
      "t_stat 1.2990381056766578\n",
      "Ho is Accepted\n"
     ]
    }
   ],
   "source": [
    "# H0: μ≤400   # H1<400 \n",
    "# H1: μ>400   # H0>=400\n",
    "# Right tail\n",
    "n = 12\n",
    "dof = n-1\n",
    "x,μ = 415,400\n",
    "std = 40\n",
    "t_crit = 1.796  \n",
    "t_stat = (x-µ)/(std/np.sqrt(n))\n",
    "print('t_stat',t_stat)\n",
    "\n",
    "if t_stat<t_crit:\n",
    "    print('Ho is Accepted')\n",
    "else:\n",
    "    print('Ho Rejected')"
   ]
  },
  {
   "cell_type": "markdown",
   "id": "49d24aac",
   "metadata": {},
   "source": [
    "<img src=\"t_test_one_sample_ex2_res.png\" align=\"left\">\n",
    "There is no sufficient evidence to claim the population mean is above 400."
   ]
  },
  {
   "cell_type": "markdown",
   "id": "f149af05",
   "metadata": {},
   "source": [
    "#### One_Sample T-test Left Tail Example\n",
    "\n",
    "The restaurant owner updated the billing software to reduce the waiting time. He randomly collected 10 customers waiting time at the billing counter. With 95% confidence level, is there any evidence that the population average waiting time is less than 1.9 minutes? Sample mean is 2.2, sample stdev = 0.55. <bt>Consider t_crit = 1.833"
   ]
  },
  {
   "cell_type": "code",
   "execution_count": 107,
   "id": "d823eb36",
   "metadata": {},
   "outputs": [
    {
     "name": "stdout",
     "output_type": "stream",
     "text": [
      "t_stat 1.7248787237282084\n",
      "Ho is Rejected\n"
     ]
    }
   ],
   "source": [
    "# H0: μ≥1.9\n",
    "# H1: μ<1.9\n",
    "# Left Tail\n",
    "alpha = 0.05\n",
    "n = 10\n",
    "dof = n-1\n",
    "x,μ = 2.2,1.9\n",
    "std = 0.55\n",
    "t_crit = 1.833  \n",
    "t_stat = (x-µ)/(std/np.sqrt(n))\n",
    "print('t_stat',t_stat)\n",
    "\n",
    "if t_stat<t_crit:\n",
    "    print('Ho is Rejected')\n",
    "else:\n",
    "    print('Ho Accepted')"
   ]
  },
  {
   "cell_type": "markdown",
   "id": "65adc365",
   "metadata": {},
   "source": [
    "<img src=\"t_test_one_sample_ex3_res.png\" align=\"left\">\n",
    "There is sufficient evidence to claim the population mean is less than 1.9 minutes."
   ]
  },
  {
   "cell_type": "markdown",
   "id": "12c3ffe5",
   "metadata": {},
   "source": [
    "#### One sample T-Test Two Tailed\n",
    "According to the American health association, a pregnant woman’s average blood pressure is 120 mm Hg. 15 random samples from pregnant women were collected to check the sample blood pressure is different from accepted standard blood pressure, the sample means turned out to be 123 with a stdev = 7.32.<br>\n",
    "t_crit = +- 2.145"
   ]
  },
  {
   "cell_type": "code",
   "execution_count": 110,
   "id": "51fe634f",
   "metadata": {},
   "outputs": [
    {
     "name": "stdout",
     "output_type": "stream",
     "text": [
      "t_stat 1.587288256642384\n",
      "Ho is Accepted\n"
     ]
    }
   ],
   "source": [
    "# H0: μ=120\n",
    "# H1: μ≠120\n",
    "alpha = 0.05\n",
    "x,μ = 123,120\n",
    "n = 15\n",
    "dof = n-1\n",
    "std = 7.32\n",
    "t_crit = 2.145  # t) crit = +- 2.145\n",
    "t_stat = (x-µ)/(std/np.sqrt(n))\n",
    "print('t_stat',t_stat)\n",
    "\n",
    "if t_stat >- t_crit and t_stat<t_crit:\n",
    "    print('Ho is Accepted')\n",
    "else:\n",
    "    print('Ho Rejected')"
   ]
  },
  {
   "cell_type": "markdown",
   "id": "edf92e0d",
   "metadata": {},
   "source": [
    "<img src=\"t_test_one_sample_ex1_res.png\" align=\"left\">\n",
    "Inference - The calculated t statistic value less than the critical value, hence we failed to reject null hypothesis"
   ]
  },
  {
   "cell_type": "markdown",
   "id": "f78369a3",
   "metadata": {},
   "source": [
    "#### Q1)\n",
    "Your company wants to improve sales. Past sales data indicate that the average sale was over 100 per transaction. After training your sales force, recent sales data (taken from a sample of 25 salesmen) indicates an average sale of 130, with a standard deviation of 15. Did the training work? Test your hypothesis at a 5% alpha level.t_crit =1.711"
   ]
  },
  {
   "cell_type": "code",
   "execution_count": null,
   "id": "70c936b5",
   "metadata": {},
   "outputs": [],
   "source": []
  },
  {
   "cell_type": "markdown",
   "id": "b69889eb",
   "metadata": {},
   "source": [
    "### One Sample t-Test - One Sided"
   ]
  },
  {
   "cell_type": "code",
   "execution_count": 116,
   "id": "3b6d82d2",
   "metadata": {},
   "outputs": [],
   "source": [
    "from scipy.stats import ttest_1samp"
   ]
  },
  {
   "cell_type": "code",
   "execution_count": 112,
   "id": "1ecaac77",
   "metadata": {},
   "outputs": [
    {
     "data": {
      "text/html": [
       "<div>\n",
       "<style scoped>\n",
       "    .dataframe tbody tr th:only-of-type {\n",
       "        vertical-align: middle;\n",
       "    }\n",
       "\n",
       "    .dataframe tbody tr th {\n",
       "        vertical-align: top;\n",
       "    }\n",
       "\n",
       "    .dataframe thead th {\n",
       "        text-align: right;\n",
       "    }\n",
       "</style>\n",
       "<table border=\"1\" class=\"dataframe\">\n",
       "  <thead>\n",
       "    <tr style=\"text-align: right;\">\n",
       "      <th></th>\n",
       "      <th>life</th>\n",
       "    </tr>\n",
       "  </thead>\n",
       "  <tbody>\n",
       "    <tr>\n",
       "      <th>0</th>\n",
       "      <td>35000</td>\n",
       "    </tr>\n",
       "    <tr>\n",
       "      <th>1</th>\n",
       "      <td>49000</td>\n",
       "    </tr>\n",
       "    <tr>\n",
       "      <th>2</th>\n",
       "      <td>44000</td>\n",
       "    </tr>\n",
       "    <tr>\n",
       "      <th>3</th>\n",
       "      <td>45900</td>\n",
       "    </tr>\n",
       "    <tr>\n",
       "      <th>4</th>\n",
       "      <td>43400</td>\n",
       "    </tr>\n",
       "  </tbody>\n",
       "</table>\n",
       "</div>"
      ],
      "text/plain": [
       "    life\n",
       "0  35000\n",
       "1  49000\n",
       "2  44000\n",
       "3  45900\n",
       "4  43400"
      ]
     },
     "execution_count": 112,
     "metadata": {},
     "output_type": "execute_result"
    }
   ],
   "source": [
    "# lifespan of bulbs\n",
    "df2 = pd.read_csv(\"LifeSpan.csv\")\n",
    "df2.head()"
   ]
  },
  {
   "cell_type": "code",
   "execution_count": 113,
   "id": "a4f3fbca",
   "metadata": {},
   "outputs": [
    {
     "data": {
      "text/plain": [
       "(15, 1)"
      ]
     },
     "execution_count": 113,
     "metadata": {},
     "output_type": "execute_result"
    }
   ],
   "source": [
    "df2.shape"
   ]
  },
  {
   "cell_type": "code",
   "execution_count": 114,
   "id": "27ec2edc",
   "metadata": {},
   "outputs": [
    {
     "data": {
      "text/plain": [
       "life    0\n",
       "dtype: int64"
      ]
     },
     "execution_count": 114,
     "metadata": {},
     "output_type": "execute_result"
    }
   ],
   "source": [
    "df2.isnull().sum()"
   ]
  },
  {
   "cell_type": "markdown",
   "id": "0f211391",
   "metadata": {},
   "source": [
    "Let <br>X: the life of bulb in hours <br>\n",
    "Thus $\\mu$<sub>A</sub>: the average life of bulb in hours<br> \n",
    "alpha=5%\n",
    "\n",
    "The hypothesis is                                                                     \n",
    "H<sub>0</sub>: The mean life of bulb in hours is upto 45000, i.e $\\mu$<sub>A</sub> <= 45000 <br>\n",
    "**AGAINST**<br>\n",
    "H<sub>a</sub>: The mean life of bulb in hours is greater than 45000, i.e $\\mu$<sub>A</sub> > 45000"
   ]
  },
  {
   "cell_type": "code",
   "execution_count": 121,
   "id": "b7a56c27",
   "metadata": {},
   "outputs": [
    {
     "name": "stdout",
     "output_type": "stream",
     "text": [
      "t_stat -2.1981495173443797 p_val 0.04525698313212501\n",
      "Reject Ho\n"
     ]
    }
   ],
   "source": [
    "# Right tail test\n",
    "alpha=0.05\n",
    "t_stat,p = ttest_1samp(df2[\"life\"], popmean = 45000)\n",
    "print('t_stat',t_stat,'p_val',p)\n",
    "\n",
    "if(p <  alpha):\n",
    "    print(\"Reject Ho\")\n",
    "else:\n",
    "    print(\"Accpet Ho\")"
   ]
  },
  {
   "cell_type": "markdown",
   "id": "a5e32d6c",
   "metadata": {},
   "source": [
    "### One Sample t-test - Two sided Test"
   ]
  },
  {
   "cell_type": "code",
   "execution_count": 123,
   "id": "d8423ba6",
   "metadata": {},
   "outputs": [
    {
     "data": {
      "text/html": [
       "<div>\n",
       "<style scoped>\n",
       "    .dataframe tbody tr th:only-of-type {\n",
       "        vertical-align: middle;\n",
       "    }\n",
       "\n",
       "    .dataframe tbody tr th {\n",
       "        vertical-align: top;\n",
       "    }\n",
       "\n",
       "    .dataframe thead th {\n",
       "        text-align: right;\n",
       "    }\n",
       "</style>\n",
       "<table border=\"1\" class=\"dataframe\">\n",
       "  <thead>\n",
       "    <tr style=\"text-align: right;\">\n",
       "      <th></th>\n",
       "      <th>Items Produced</th>\n",
       "    </tr>\n",
       "  </thead>\n",
       "  <tbody>\n",
       "    <tr>\n",
       "      <th>0</th>\n",
       "      <td>34</td>\n",
       "    </tr>\n",
       "    <tr>\n",
       "      <th>1</th>\n",
       "      <td>34</td>\n",
       "    </tr>\n",
       "    <tr>\n",
       "      <th>2</th>\n",
       "      <td>23</td>\n",
       "    </tr>\n",
       "    <tr>\n",
       "      <th>3</th>\n",
       "      <td>45</td>\n",
       "    </tr>\n",
       "    <tr>\n",
       "      <th>4</th>\n",
       "      <td>23</td>\n",
       "    </tr>\n",
       "  </tbody>\n",
       "</table>\n",
       "</div>"
      ],
      "text/plain": [
       "   Items Produced\n",
       "0              34\n",
       "1              34\n",
       "2              23\n",
       "3              45\n",
       "4              23"
      ]
     },
     "execution_count": 123,
     "metadata": {},
     "output_type": "execute_result"
    }
   ],
   "source": [
    "df3 = pd.read_csv(\"Production.csv\")\n",
    "df3.head()"
   ]
  },
  {
   "cell_type": "code",
   "execution_count": 124,
   "id": "6339e1c2",
   "metadata": {},
   "outputs": [
    {
     "data": {
      "text/plain": [
       "(10, 1)"
      ]
     },
     "execution_count": 124,
     "metadata": {},
     "output_type": "execute_result"
    }
   ],
   "source": [
    "df3.shape"
   ]
  },
  {
   "cell_type": "code",
   "execution_count": 125,
   "id": "b70cb5fd",
   "metadata": {},
   "outputs": [
    {
     "data": {
      "text/plain": [
       "Items Produced    0\n",
       "dtype: int64"
      ]
     },
     "execution_count": 125,
     "metadata": {},
     "output_type": "execute_result"
    }
   ],
   "source": [
    "df3.isnull().sum()"
   ]
  },
  {
   "cell_type": "markdown",
   "id": "4279b385",
   "metadata": {},
   "source": [
    "Let <br>X: the number of furniture items produced by machine A <br>\n",
    "Thus $\\mu$: the average number of furniture items produced by machine A <br>\n",
    "alpha = 5%\n",
    "\n",
    "The hypothesis is                                                                       \n",
    "H<sub>0</sub>: The mean number of items produced my machine A is equal to 30, i.e $\\mu$= 30 <br>\n",
    "**AGAINST**<br>\n",
    "H<sub>a</sub>: The mean number of items produced my machine A is not equal to 30, , i.e $\\mu$ ≠ 30\n"
   ]
  },
  {
   "cell_type": "code",
   "execution_count": 126,
   "id": "0975fb7e",
   "metadata": {},
   "outputs": [],
   "source": [
    "from scipy.stats import ttest_1samp"
   ]
  },
  {
   "cell_type": "code",
   "execution_count": 127,
   "id": "d78f9ef9",
   "metadata": {},
   "outputs": [
    {
     "name": "stdout",
     "output_type": "stream",
     "text": [
      "t_stat 1.2674612253287467 p_val 0.23680061493494728\n",
      "Accpet Ho\n"
     ]
    }
   ],
   "source": [
    "alpha = 0.05\n",
    "alpha_by2 = alpha/2\n",
    "t_stat,p = ttest_1samp(df3[\"Items Produced\"],popmean=30)\n",
    "print('t_stat',t_stat,'p_val',p)\n",
    "\n",
    "if(p <  alpha/2):\n",
    "    print(\"Reject Ho\")\n",
    "else:\n",
    "    print(\"Accpet Ho\")"
   ]
  },
  {
   "cell_type": "markdown",
   "id": "bbf5b474",
   "metadata": {},
   "source": [
    "## Two sample T-test\n",
    "The two-sample t-test (also known as the independent samples t-test) is a method used to test whether the unknown population means of two groups are equal or not.\n",
    "\n",
    "<img src=\"2_samp_t_test.png\">\n",
    "\n",
    "where <br>\n",
    "x_bar,y_bar = sample means of x and y respectively<br>\n",
    "µ1, µ2 = population means of x and y respectively<br>\n",
    "s1,s2 = variance of x and y respectively<br>\n",
    "n1,n2 = sample size of x and y respetcively<br>"
   ]
  },
  {
   "cell_type": "markdown",
   "id": "e30817d4",
   "metadata": {},
   "source": [
    "### Two sample test - Two sided"
   ]
  },
  {
   "cell_type": "code",
   "execution_count": 129,
   "id": "eaae8a27",
   "metadata": {},
   "outputs": [
    {
     "data": {
      "text/html": [
       "<div>\n",
       "<style scoped>\n",
       "    .dataframe tbody tr th:only-of-type {\n",
       "        vertical-align: middle;\n",
       "    }\n",
       "\n",
       "    .dataframe tbody tr th {\n",
       "        vertical-align: top;\n",
       "    }\n",
       "\n",
       "    .dataframe thead th {\n",
       "        text-align: right;\n",
       "    }\n",
       "</style>\n",
       "<table border=\"1\" class=\"dataframe\">\n",
       "  <thead>\n",
       "    <tr style=\"text-align: right;\">\n",
       "      <th></th>\n",
       "      <th>Diet A</th>\n",
       "      <th>Diet B</th>\n",
       "    </tr>\n",
       "  </thead>\n",
       "  <tbody>\n",
       "    <tr>\n",
       "      <th>0</th>\n",
       "      <td>45</td>\n",
       "      <td>45</td>\n",
       "    </tr>\n",
       "    <tr>\n",
       "      <th>1</th>\n",
       "      <td>34</td>\n",
       "      <td>35</td>\n",
       "    </tr>\n",
       "    <tr>\n",
       "      <th>2</th>\n",
       "      <td>46</td>\n",
       "      <td>32</td>\n",
       "    </tr>\n",
       "    <tr>\n",
       "      <th>3</th>\n",
       "      <td>23</td>\n",
       "      <td>47</td>\n",
       "    </tr>\n",
       "    <tr>\n",
       "      <th>4</th>\n",
       "      <td>67</td>\n",
       "      <td>37</td>\n",
       "    </tr>\n",
       "    <tr>\n",
       "      <th>5</th>\n",
       "      <td>45</td>\n",
       "      <td>51</td>\n",
       "    </tr>\n",
       "    <tr>\n",
       "      <th>6</th>\n",
       "      <td>65</td>\n",
       "      <td>42</td>\n",
       "    </tr>\n",
       "    <tr>\n",
       "      <th>7</th>\n",
       "      <td>23</td>\n",
       "      <td>38</td>\n",
       "    </tr>\n",
       "    <tr>\n",
       "      <th>8</th>\n",
       "      <td>65</td>\n",
       "      <td>32</td>\n",
       "    </tr>\n",
       "    <tr>\n",
       "      <th>9</th>\n",
       "      <td>23</td>\n",
       "      <td>46</td>\n",
       "    </tr>\n",
       "  </tbody>\n",
       "</table>\n",
       "</div>"
      ],
      "text/plain": [
       "   Diet A  Diet B\n",
       "0      45      45\n",
       "1      34      35\n",
       "2      46      32\n",
       "3      23      47\n",
       "4      67      37\n",
       "5      45      51\n",
       "6      65      42\n",
       "7      23      38\n",
       "8      65      32\n",
       "9      23      46"
      ]
     },
     "execution_count": 129,
     "metadata": {},
     "output_type": "execute_result"
    }
   ],
   "source": [
    "df4 = pd.read_csv(\"Diet_data.csv\")\n",
    "df4"
   ]
  },
  {
   "cell_type": "code",
   "execution_count": 130,
   "id": "3c3e275c",
   "metadata": {},
   "outputs": [
    {
     "data": {
      "text/plain": [
       "(10, 2)"
      ]
     },
     "execution_count": 130,
     "metadata": {},
     "output_type": "execute_result"
    }
   ],
   "source": [
    "df4.shape"
   ]
  },
  {
   "cell_type": "code",
   "execution_count": 131,
   "id": "0559de1f",
   "metadata": {},
   "outputs": [
    {
     "data": {
      "text/plain": [
       "Diet A    0\n",
       "Diet B    0\n",
       "dtype: int64"
      ]
     },
     "execution_count": 131,
     "metadata": {},
     "output_type": "execute_result"
    }
   ],
   "source": [
    "df4.isnull().sum()"
   ]
  },
  {
   "cell_type": "markdown",
   "id": "f611e55a",
   "metadata": {},
   "source": [
    "Let <br>X: the gain in weight due to diet A <br>\n",
    "    Y: the gain in weight due to diet B<br><br>\n",
    "Thus <br>\n",
    "$\\mu$<sub>A</sub>: the average gain in weight due to diet A <br>\n",
    "$\\mu$<sub>B</sub>: the average gain in weight due to diet B <br>\n",
    "alpha=5%    \n",
    "                                                                  \n",
    "The hypothesis is                                                                     \n",
    "H<sub>0</sub>: The average gain in weight due to diet A is equal to the average gain in weight due to diet B, i.e $\\mu$<sub>A</sub> = $\\mu$<sub>B</sub> <br>\n",
    "**AGAINST**<br>\n",
    "H<sub>a</sub>: The average gain in weight due to diet A is not equal to the average gain in weight due to diet B, i.e $\\mu$<sub>A</sub> ≠ $\\mu$<sub>B</sub> <br>"
   ]
  },
  {
   "cell_type": "code",
   "execution_count": 135,
   "id": "6ee3d4c2",
   "metadata": {},
   "outputs": [],
   "source": [
    "from scipy.stats import ttest_ind"
   ]
  },
  {
   "cell_type": "code",
   "execution_count": 136,
   "id": "4cb85767",
   "metadata": {},
   "outputs": [
    {
     "name": "stdout",
     "output_type": "stream",
     "text": [
      "t_stat 0.5169140149580205 p_val 0.6115094596012607\n",
      "Accpet Ho\n"
     ]
    }
   ],
   "source": [
    "alpha=0.05\n",
    "t_stat ,p = ttest_ind(df4[\"Diet A\"],df4[\"Diet B\"])\n",
    "\n",
    "print('t_stat',t_stat,'p_val',p)\n",
    "\n",
    "if(p <  alpha/2):\n",
    "    print(\"Reject Ho\")\n",
    "else:\n",
    "    print(\"Accpet Ho\")"
   ]
  },
  {
   "cell_type": "code",
   "execution_count": null,
   "id": "5cad460d",
   "metadata": {},
   "outputs": [],
   "source": []
  }
 ],
 "metadata": {
  "kernelspec": {
   "display_name": "Python 3",
   "language": "python",
   "name": "python3"
  },
  "language_info": {
   "codemirror_mode": {
    "name": "ipython",
    "version": 3
   },
   "file_extension": ".py",
   "mimetype": "text/x-python",
   "name": "python",
   "nbconvert_exporter": "python",
   "pygments_lexer": "ipython3",
   "version": "3.8.8"
  }
 },
 "nbformat": 4,
 "nbformat_minor": 5
}
