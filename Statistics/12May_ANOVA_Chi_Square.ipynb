{
 "cells": [
  {
   "cell_type": "markdown",
   "id": "876fb7f2",
   "metadata": {},
   "source": [
    "### One Way ANOVA (Analyis of Variance)\n",
    "\n",
    "1) A one-way ANOVA (“analysis of variance”) compares the means of three or more independent groups to determine if there is a statistically significant difference between the corresponding population means.\n",
    "\n",
    "\n",
    "Steps in ANOVA<br>\n",
    "1) <b>Calculate group mean and overall mean(mean of all the group mean obtained)</b><br>\n",
    "\n",
    "2) <b>Compute SSR (Regression sum of squares)</b><br>\n",
    "SSR = n * sum((individal_mean_of_each_group - overall_mean)^2)<br>\n",
    "where n is the length of group (it is same for each group)\n",
    "\n",
    "3) <b>Compute SSE(Error sum of squares)</b><br>\n",
    "SSE = sum((xi - x_mean)^2)<br>\n",
    "where <br>\n",
    "xi = individual values of each group<br>\n",
    "x_mean = mean of individal group<br>\n",
    "\n",
    "4) <b>Compute SST (Total Sum of Squares)</b>\n",
    "SST = SSR + SSE<br>\n",
    "\n",
    "5) Populate the ANOVA Table\n",
    "<img src=\"ANOVA_table1.png\">\n",
    "\n",
    "where <br>\n",
    "n = total observations (sum of obersvtaions of each group), K = number of groups\n",
    "\n",
    "6) Compare f_stat with f-critical at a given alpha value and df_t and df_er values<br>\n",
    "7) Make inference for the hypothesis<br>"
   ]
  },
  {
   "cell_type": "markdown",
   "id": "229d2000",
   "metadata": {},
   "source": [
    "#### Q1)\n",
    "We want to know whether or not three different exam prep programs lead to different mean scores on a certain exam. To test this, we recruit 30 students to participate in a study and split them into three groups.\n",
    "\n",
    "The students in each group are randomly assigned to use one of the three exam prep programs for the next three weeks to prepare for an exam. At the end of the three weeks, all of the students take the same exam. The exam scores for each group are shown below:\n",
    "\n",
    "Perform a one-way ANOVA test to determine if the mean exam score is different between the three groups.\n",
    "\n",
    "<img src=\"anova_ex1.png\" height=\"150\" width=\"150\" align=\"left\">"
   ]
  },
  {
   "cell_type": "code",
   "execution_count": 1,
   "id": "e2503c54",
   "metadata": {},
   "outputs": [],
   "source": [
    "import numpy as np\n",
    "import math\n",
    "import pandas as pd\n",
    "import statistics as st"
   ]
  },
  {
   "cell_type": "code",
   "execution_count": 3,
   "id": "fa21cea1",
   "metadata": {},
   "outputs": [],
   "source": [
    "# 1) H0 (null hypothesis): μ1 = μ2 = μ3 = … = μk (all the population means are equal)\n",
    "# 2) H1 (null hypothesis): at least one population mean is different from the rest"
   ]
  },
  {
   "cell_type": "code",
   "execution_count": 19,
   "id": "d61e2165",
   "metadata": {},
   "outputs": [
    {
     "name": "stdout",
     "output_type": "stream",
     "text": [
      "g1_mean 83.4\n",
      "g2_mean 89.3\n",
      "g3_mean 84.7\n",
      "Overall Mean 85.8\n",
      "SSR OR Between Group Variance: 192.19999999999948\n",
      "ssr_m2 192.19999999999945\n",
      "SSE or Within Group Varince 1100.6000000000001\n",
      "SST 1292.7999999999997\n",
      "dof_t 2\n",
      "dof_err 27\n",
      "MS_t 96.09999999999974\n",
      "MS_err 40.762962962962966\n",
      "f_stat 2.357532255133557\n",
      "Ho is accepted\n"
     ]
    }
   ],
   "source": [
    "g1 = [85,86,88,75,78,94,98,79,71,80]\n",
    "g2 = [91,92,93,85,87,84,82,88,95,96]\n",
    "g3 = [79,78,88,94,92,85,83,85,82,81]\n",
    "\n",
    "# Step 1\n",
    "g1m,g2m,g3m = np.mean(g1),np.mean(g2),np.mean(g3)\n",
    "print('g1_mean',g1m)\n",
    "print('g2_mean',g2m)\n",
    "print('g3_mean',g3m)\n",
    "overall_mean = np.array([g1m,g2m,g3m]).mean()\n",
    "print('Overall Mean',overall_mean)\n",
    "\n",
    "# Step 2 - Between Group Variance\n",
    "# Method - 1\n",
    "ssr = len(g1)*(g1m-overall_mean)**2 + len(g2)*(g2m-overall_mean)**2 + len(g3)*(g3m-overall_mean)**2\n",
    "print('SSR OR Between Group Variance:',ssr)\n",
    "# Method - 2\n",
    "ssr_m2 = len(g1)*sum([(i-overall_mean)**2 for i in [g1m,g2m,g3m]])\n",
    "print('ssr_m2',ssr_m2)\n",
    "\n",
    "# Step 3 - Within Group Variance\n",
    "w1 = sum([(i-g1m)**2 for i in g1])\n",
    "w2 = sum([(i-g2m)**2 for i in g2])\n",
    "w3 = sum([(i-g3m)**2 for i in g3])\n",
    "sse = w1+w2+w3\n",
    "print('SSE or Within Group Varince',sse)\n",
    "\n",
    "# Step 4 - Compute SST\n",
    "sst = ssr + sse\n",
    "print('SST', sst)\n",
    "\n",
    "# Step 5 - compute df_t and df_err\n",
    "n,k=30,3\n",
    "df_t,df_er = k-1, n-k\n",
    "print('dof_t',df_t)\n",
    "print('dof_err',df_er)\n",
    "\n",
    "# Step 6 - Compute ms_t, ms_err\n",
    "ms_t,ms_err = ssr/df_t , sse/df_er\n",
    "print('MS_t',ms_t)\n",
    "print('MS_err',ms_err)\n",
    "\n",
    "# Step 7 - Compute f_stat\n",
    "f_stat = ms_t/ms_err\n",
    "print('f_stat',f_stat)\n",
    "\n",
    "f_crit = 3.35   # f_crit at dof(2,27) = 3.35\n",
    "if f_stat>-f_crit and f_stat<f_crit:\n",
    "    print('Ho is accepted')\n",
    "else:\n",
    "    print('Ho is rejected')"
   ]
  },
  {
   "cell_type": "code",
   "execution_count": 20,
   "id": "f64584ed",
   "metadata": {},
   "outputs": [],
   "source": [
    "from scipy.stats import f_oneway"
   ]
  },
  {
   "cell_type": "code",
   "execution_count": 23,
   "id": "17b24b3f",
   "metadata": {},
   "outputs": [
    {
     "name": "stdout",
     "output_type": "stream",
     "text": [
      "f_stat 2.3575322551335636 p 0.11384795345837218\n"
     ]
    }
   ],
   "source": [
    "f_stat,p = f_oneway(g1,g2,g3)\n",
    "print('f_stat',f_stat,'p',p)"
   ]
  },
  {
   "cell_type": "markdown",
   "id": "fb25de75",
   "metadata": {},
   "source": [
    "Since the F test statistic in the ANOVA table is less than the F critical value in the F distribution table, we fail to reject the null hypothesis. This means we don’t have sufficient evidence to say that there is a statistically significant difference between the mean exam scores of the three groups."
   ]
  },
  {
   "cell_type": "code",
   "execution_count": null,
   "id": "82acdf02",
   "metadata": {},
   "outputs": [],
   "source": []
  },
  {
   "cell_type": "markdown",
   "id": "764d82fd",
   "metadata": {},
   "source": [
    "#### Q2) \n",
    "Apply One Way ANOVA using alpha=0.05\n",
    "\n",
    "g1 = [210,240,270,270,300]<br>\n",
    "g2 = [210,240,240,270,270]<br>\n",
    "g3 = [180,210,210,210,240]\n"
   ]
  },
  {
   "cell_type": "code",
   "execution_count": 2,
   "id": "f46d83b7",
   "metadata": {},
   "outputs": [],
   "source": [
    "# 1) H0 (null hypothesis): μ1 = μ2 = μ3 = … = μk (all the population means are equal)\n",
    "# 2) H1 (null hypothesis): at least one population mean is different from the rest\n",
    "\n",
    "g1 = [210,240,270,270,300]\n",
    "g2 = [210,240,240,270,270]\n",
    "g3 = [180,210,210,210,240]\n",
    "\n"
   ]
  },
  {
   "cell_type": "markdown",
   "id": "0c0707ee",
   "metadata": {},
   "source": [
    "#### Q3)\n",
    "Using the following data, perform a oneway ANOVA using α=0.05<br>\n",
    "g1 = [51,45,33,45,67]<br>\n",
    "g2 = [23,43,23,43,45]<br>\n",
    "g3 = [56,76,74,87,56]\n"
   ]
  },
  {
   "cell_type": "code",
   "execution_count": null,
   "id": "41e2121a",
   "metadata": {},
   "outputs": [],
   "source": [
    "# 1) H0 (null hypothesis): μ1 = μ2 = μ3 = … = μk (all the population means are equal)\n",
    "# 2) H1 (null hypothesis): at least one population mean is different from the rest"
   ]
  },
  {
   "cell_type": "code",
   "execution_count": 3,
   "id": "4d990317",
   "metadata": {},
   "outputs": [],
   "source": [
    "g1 = [51,45,33,45,67]\n",
    "g2 = [23,43,23,43,45]\n",
    "g3 = [56,76,74,87,56]\n"
   ]
  },
  {
   "cell_type": "markdown",
   "id": "9b6ef471",
   "metadata": {},
   "source": [
    "#### Link Used -> http://rstudio-pubs-static.s3.amazonaws.com/228015_d8d0ddab79664707890681a9a75cf16d.html\n",
    "\n",
    "#### Q3)\n",
    "Perform ANOVA using the following summary at alpha = 0.05\n",
    "<img src=\"anova_ex3.png\">\n",
    "\n"
   ]
  },
  {
   "cell_type": "code",
   "execution_count": 3,
   "id": "bfa4eec1",
   "metadata": {},
   "outputs": [],
   "source": [
    "import numpy as np"
   ]
  },
  {
   "cell_type": "code",
   "execution_count": 15,
   "id": "5fc2d05e",
   "metadata": {},
   "outputs": [
    {
     "name": "stdout",
     "output_type": "stream",
     "text": [
      "df_t 2\n",
      "df_err 87\n",
      "Overall_mean 49.75\n",
      "SSR- Between group variance 1057.5420000000001\n",
      "v1 109.20249999999999 v2 162.8176 v3 131.5609\n",
      "w1 3166.8724999999995 w2 4721.7104 w3 3815.2661000000003\n",
      "SSE 11703.849\n",
      "MS_t 528.7710000000001\n",
      "MS_err 134.52700000000002\n",
      "f_stat 3.9305938584819407\n",
      "Ho is accepted\n"
     ]
    }
   ],
   "source": [
    "g1m,g2m,g3m = 50.26,45.32,53.67\n",
    "lg1,lg2,lg3 = 30,30,30\n",
    "sd1 ,sd2,sd3 = 10.45,12.76,11.47\n",
    "n = lg1+lg2+lg3\n",
    "k = 3\n",
    "df_t = k - 1\n",
    "df_err = n-k\n",
    "print('df_t',df_t)\n",
    "print('df_err',df_err)\n",
    "\n",
    "overall_mean = np.array([g1m,g2m,g3m]).mean()\n",
    "print('Overall_mean',overall_mean)\n",
    "\n",
    "# SSR = n * sum((individal_mean_of_each_group - overall_mean)^2)\n",
    "ssr = lg1 * sum([(i-overall_mean)**2 for i in [g1m,g2m,g3m]])\n",
    "print('SSR- Between group variance',ssr)\n",
    "\n",
    "\n",
    "# SSE\n",
    "v1,v2,v3 = sd1**2,sd2**2,sd3**2\n",
    "print('v1',v1,'v2',v2,'v3',v3)\n",
    "w1,w2,w3 = v1*(lg1-1),v2*(lg2-1),v3*(lg3-1)\n",
    "print('w1',w1,'w2',w2,'w3',w3)\n",
    "sse = w1+w2+w3\n",
    "print('SSE',sse)\n",
    "\n",
    "# ms_t and ms_err\n",
    "ms_t,ms_err = ssr/df_t , sse/df_err\n",
    "print('MS_t',ms_t)\n",
    "print('MS_err',ms_err)\n",
    "\n",
    "# Step 7 - Compute f_stat\n",
    "f_stat = ms_t/ms_err\n",
    "print('f_stat',f_stat)\n",
    "\n",
    "f_crit = 4.881\n",
    "if f_stat>-f_crit and f_stat<f_crit:\n",
    "    print('Ho is accepted')\n",
    "else:\n",
    "    print('Ho is rejected')"
   ]
  },
  {
   "cell_type": "markdown",
   "id": "e3b152ed",
   "metadata": {},
   "source": [
    "#### Q4)\n",
    "A clinical psychologist has run a between-subjects experiment comparing two treatments for depression (cognitive-behavioral therapy (CBT) and client-centered therapy (CCT) against a control condition. Subjects were randomly assigned to the experimental condition. After 12 weeks, the subject’s depression scores were measured using the CESD depression scale. The data are summarized as follows:\n",
    "\n",
    "<img src=\"anova_ex4.png\">\n",
    "\n",
    "Use a oneway ANOVA with α=.01 for the test."
   ]
  },
  {
   "cell_type": "markdown",
   "id": "af13a42c",
   "metadata": {},
   "source": [
    "### Chi_Square Test of Independence\n",
    "\n",
    "A Chi-Square Test of Independence is used to determine whether or not there is a significant association between two categorical variables.\n",
    "\n",
    "Examples:-\n",
    "We want to know if gender is associated with political party preference so we survey 500 voters and record their gender and political party preference.<br>\n",
    "We want to know if a person’s favorite color is associated with their favorite sport so we survey 100 people and ask them about their preferences for both.<br>\n",
    "\n",
    "Hypothesis<br>\n",
    "\n",
    "    H0: (null hypothesis) The two variables are independent.\n",
    "    H1: (alternative hypothesis) The two variables are not independent. (i.e. they are associated)\n",
    "\n",
    "Formula for Chi_Square test\n",
    "\n",
    "<img src=\"chi_square_formula.png\">\n",
    "\n",
    "where<br>\n",
    "O = Observed Value<br>\n",
    "E = Expected Value<br>\n",
    "Expected value = (row sum * column sum) / table sum."
   ]
  },
  {
   "cell_type": "markdown",
   "id": "8d686cfb",
   "metadata": {},
   "source": [
    "#### Q1)\n",
    "We want to know whether or not gender is associated with political party preference. We take a simple random sample of 500 voters and survey them on their political party preference. Alpha = 0.05. \n",
    "The following table shows the results of the survey:-\n",
    "<img src=\"chi_square_ex1.png\" width=\"500\">"
   ]
  },
  {
   "cell_type": "markdown",
   "id": "a7b86958",
   "metadata": {},
   "source": [
    "### Solution\n",
    "1) Compute the expected value\n",
    "<img src=\"chi_square_ex1_expected_val.png\" width=\"500\">\n",
    "\n",
    "2) Compute X2 (chi square values)\n",
    "<img src=\"chi_square_ex1_chi_square_val.png\" width =\"500\">\n",
    "\n",
    "3) Calcuate the sum of X2 values obtained in step 2<br>\n",
    "Sum = Σ(O-E)^2/E = 0.2174 + 0.2174 + 0.0676 + 0.0676 + 0.1471 + 0.1471 = 0.8642\n",
    "\n",
    "4) dof_rows = (2-1) = 1, dof_col = (3-1) = 2<br>\n",
    "dof = dof_rows * dof_cols = 1 * 2 = 2\n",
    "\n",
    "5) The p-value associated with X2 = 0.8642 and dof 2 degrees of freedom is 0.649198\n"
   ]
  },
  {
   "cell_type": "code",
   "execution_count": 26,
   "id": "ea481bf2",
   "metadata": {},
   "outputs": [],
   "source": [
    "from scipy.stats import chi2_contingency"
   ]
  },
  {
   "cell_type": "code",
   "execution_count": 36,
   "id": "f473735a",
   "metadata": {},
   "outputs": [
    {
     "name": "stdout",
     "output_type": "stream",
     "text": [
      "chi_stat 0.8640353908896108\n",
      "p 0.6491978887380976\n",
      "dof 2\n",
      "expected\n",
      " [[115.   92.5  42.5]\n",
      " [115.   92.5  42.5]]\n",
      "Ho is accepted\n"
     ]
    }
   ],
   "source": [
    "# H0: Gender and political party preference are independent.\n",
    "# H1: Gender and political party preference are not independent\n",
    "data = [[120,90,40],[110,95,45]]\n",
    "alpha=0.05\n",
    "chi_stat,p,dof,expected = chi2_contingency(data)\n",
    "print('chi_stat',chi_stat)\n",
    "print('p',p)\n",
    "print('dof',dof)\n",
    "print('expected\\n',expected)\n",
    "if p<alpha:\n",
    "    print('Ho is rejected')\n",
    "else:\n",
    "    print('Ho is accepted')"
   ]
  },
  {
   "cell_type": "markdown",
   "id": "62c46cf2",
   "metadata": {},
   "source": [
    "Since this p-value is not less than 0.05, we fail to reject the null hypothesis. This means we do not have sufficient evidence to say that there is an association between gender and political party preference."
   ]
  },
  {
   "cell_type": "markdown",
   "id": "3e4df02d",
   "metadata": {},
   "source": [
    "#### Q2) Test whether 'Gender' and 'Like Shopping' are independent. \n",
    "Gender =  ['F','F','F','M','M','F','F','M','M']<br>\n",
    "Like Shopping = ['Y','N','Y','N','N','N','Y','Y','Y']"
   ]
  },
  {
   "cell_type": "code",
   "execution_count": 31,
   "id": "441a294a",
   "metadata": {},
   "outputs": [
    {
     "data": {
      "text/html": [
       "<div>\n",
       "<style scoped>\n",
       "    .dataframe tbody tr th:only-of-type {\n",
       "        vertical-align: middle;\n",
       "    }\n",
       "\n",
       "    .dataframe tbody tr th {\n",
       "        vertical-align: top;\n",
       "    }\n",
       "\n",
       "    .dataframe thead th {\n",
       "        text-align: right;\n",
       "    }\n",
       "</style>\n",
       "<table border=\"1\" class=\"dataframe\">\n",
       "  <thead>\n",
       "    <tr style=\"text-align: right;\">\n",
       "      <th></th>\n",
       "      <th>Gender</th>\n",
       "      <th>Like Shopping</th>\n",
       "    </tr>\n",
       "  </thead>\n",
       "  <tbody>\n",
       "    <tr>\n",
       "      <th>0</th>\n",
       "      <td>F</td>\n",
       "      <td>Y</td>\n",
       "    </tr>\n",
       "    <tr>\n",
       "      <th>1</th>\n",
       "      <td>F</td>\n",
       "      <td>N</td>\n",
       "    </tr>\n",
       "    <tr>\n",
       "      <th>2</th>\n",
       "      <td>F</td>\n",
       "      <td>Y</td>\n",
       "    </tr>\n",
       "    <tr>\n",
       "      <th>3</th>\n",
       "      <td>M</td>\n",
       "      <td>N</td>\n",
       "    </tr>\n",
       "    <tr>\n",
       "      <th>4</th>\n",
       "      <td>M</td>\n",
       "      <td>N</td>\n",
       "    </tr>\n",
       "  </tbody>\n",
       "</table>\n",
       "</div>"
      ],
      "text/plain": [
       "  Gender Like Shopping\n",
       "0      F             Y\n",
       "1      F             N\n",
       "2      F             Y\n",
       "3      M             N\n",
       "4      M             N"
      ]
     },
     "execution_count": 31,
     "metadata": {},
     "output_type": "execute_result"
    }
   ],
   "source": [
    "df =  pd.DataFrame({'Gender': ['F','F','F','M','M','F','F','M','M','F','M'],\n",
    "              'Like Shopping':['Y','N','Y','N','N','N','Y','Y','Y','Y','N']})\n",
    "df.head()\n",
    "#          Like Shopping\n",
    "# Gender     Y     N\n",
    "#   M        2     3\n",
    "#   F        4     2"
   ]
  },
  {
   "cell_type": "code",
   "execution_count": 34,
   "id": "b94c25aa",
   "metadata": {},
   "outputs": [
    {
     "data": {
      "text/html": [
       "<div>\n",
       "<style scoped>\n",
       "    .dataframe tbody tr th:only-of-type {\n",
       "        vertical-align: middle;\n",
       "    }\n",
       "\n",
       "    .dataframe tbody tr th {\n",
       "        vertical-align: top;\n",
       "    }\n",
       "\n",
       "    .dataframe thead th {\n",
       "        text-align: right;\n",
       "    }\n",
       "</style>\n",
       "<table border=\"1\" class=\"dataframe\">\n",
       "  <thead>\n",
       "    <tr style=\"text-align: right;\">\n",
       "      <th>Like Shopping</th>\n",
       "      <th>N</th>\n",
       "      <th>Y</th>\n",
       "    </tr>\n",
       "    <tr>\n",
       "      <th>Gender</th>\n",
       "      <th></th>\n",
       "      <th></th>\n",
       "    </tr>\n",
       "  </thead>\n",
       "  <tbody>\n",
       "    <tr>\n",
       "      <th>F</th>\n",
       "      <td>2</td>\n",
       "      <td>4</td>\n",
       "    </tr>\n",
       "    <tr>\n",
       "      <th>M</th>\n",
       "      <td>3</td>\n",
       "      <td>2</td>\n",
       "    </tr>\n",
       "  </tbody>\n",
       "</table>\n",
       "</div>"
      ],
      "text/plain": [
       "Like Shopping  N  Y\n",
       "Gender             \n",
       "F              2  4\n",
       "M              3  2"
      ]
     },
     "execution_count": 34,
     "metadata": {},
     "output_type": "execute_result"
    }
   ],
   "source": [
    "# Ho: Gender and Like Shopping are independent.\n",
    "# H1: Gender and Like Shopping are not independent.\n",
    "contingency_table = pd.crosstab(df[\"Gender\"],df[\"Like Shopping\"])\n",
    "contingency_table"
   ]
  },
  {
   "cell_type": "code",
   "execution_count": 37,
   "id": "844b9289",
   "metadata": {},
   "outputs": [
    {
     "name": "stdout",
     "output_type": "stream",
     "text": [
      "chi_stat 0.07638888888888876\n",
      "p 0.782252069887464\n",
      "dof 1\n",
      "expected\n",
      " [[2.72727273 3.27272727]\n",
      " [2.27272727 2.72727273]]\n",
      "Ho is accepted\n"
     ]
    }
   ],
   "source": [
    "chi_stat,p,dof,expected = chi2_contingency(contingency_table)\n",
    "print('chi_stat',chi_stat)\n",
    "print('p',p)\n",
    "print('dof',dof)\n",
    "print('expected\\n',expected)\n",
    "alpha=0.05\n",
    "if p<alpha:\n",
    "    print('Ho is rejected')\n",
    "else:\n",
    "    print('Ho is accepted')"
   ]
  },
  {
   "cell_type": "code",
   "execution_count": null,
   "id": "618a6bc6",
   "metadata": {},
   "outputs": [],
   "source": []
  },
  {
   "cell_type": "code",
   "execution_count": null,
   "id": "197a3885",
   "metadata": {},
   "outputs": [],
   "source": []
  }
 ],
 "metadata": {
  "kernelspec": {
   "display_name": "Python 3",
   "language": "python",
   "name": "python3"
  },
  "language_info": {
   "codemirror_mode": {
    "name": "ipython",
    "version": 3
   },
   "file_extension": ".py",
   "mimetype": "text/x-python",
   "name": "python",
   "nbconvert_exporter": "python",
   "pygments_lexer": "ipython3",
   "version": "3.8.8"
  }
 },
 "nbformat": 4,
 "nbformat_minor": 5
}
