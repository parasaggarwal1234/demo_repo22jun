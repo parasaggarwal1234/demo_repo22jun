{
 "cells": [
  {
   "cell_type": "markdown",
   "id": "64430c72",
   "metadata": {},
   "source": [
    "### Test of Normality\n",
    "\n",
    "#### Statistical Methods\n",
    "\n",
    "1) Shapiro Wilk Test<br>\n",
    "2) Jarquee bera Test<br>\n",
    "3) Kolmogorov–Smirnov test<br>\n",
    "4) D'Agostino Test<bt>"
   ]
  },
  {
   "cell_type": "code",
   "execution_count": 4,
   "id": "45aaee97",
   "metadata": {},
   "outputs": [],
   "source": [
    "import pandas as pd\n",
    "import numpy as np"
   ]
  },
  {
   "cell_type": "markdown",
   "id": "8fbc41b2",
   "metadata": {},
   "source": [
    "### Shapiro Wilk Test - Test of Normality\n",
    "\n",
    "1) It is used to test normality when number of observations is <5000\n",
    "\n",
    "Working of Shapiro Test\n",
    "\n",
    "Shapiro Wilk Table -> https://www.real-statistics.com/statistics-tables/shapiro-wilk-table/\n",
    "\n",
    "<img src=\"shapiro_test_formula.png\" width=\"600\">"
   ]
  },
  {
   "cell_type": "markdown",
   "id": "3cd9c333",
   "metadata": {},
   "source": [
    "#### w_crit fro Shapiro Test\n",
    "https://scistatcalc.blogspot.com/2013/09/critical-value-of-w-statistic.html"
   ]
  },
  {
   "cell_type": "markdown",
   "id": "db90b7f9",
   "metadata": {},
   "source": [
    "#### Q1) Test if the following ages is normally distributed\n",
    "\n",
    "[65,61,63,86,70,55,74,35,72,68,45,58]\n",
    "\n",
    "Fetch the n-values from the Shapiro Wilk Tables\n",
    "\n",
    "Solution\n",
    "<img src=\"shapiro-wilk_Ex1_solution.jpg\">"
   ]
  },
  {
   "cell_type": "code",
   "execution_count": null,
   "id": "39f6896f",
   "metadata": {},
   "outputs": [],
   "source": [
    "age = [35, 45, 55, 58, 61, 63, 65, 68, 70, 72, 74, 86]\n",
    "b1 =  [age[len(age)-i-1] - age[i]  for i in range(len(age))] \n",
    "# i=0, (age[12-0-1]-age[0])= age[11]-age[0] = 86-35=51\n",
    "# i=1, (age[12-1-1]-age[1])= age[10]-age[1] = 74-45 = 29\n",
    "# i=2, (age[12-2-1]-age[2])= age[9]-age[2] = 72-55 = 17\n",
    "# i=3, (age[12-3-1]-age[3])= age[8]-age[3] = 70-58=12\n",
    "# ...."
   ]
  },
  {
   "cell_type": "code",
   "execution_count": 38,
   "id": "9d713196",
   "metadata": {},
   "outputs": [
    {
     "name": "stdout",
     "output_type": "stream",
     "text": [
      "[35, 45, 55, 58, 61, 63, 65, 68, 70, 72, 74, 86]\n",
      "ss 2008.666666666667\n",
      "[51, 29, 17, 12, 7, 2, -2, -7, -12, -17, -29, -51]\n",
      "[51, 29, 17, 12, 7, 2]\n",
      "b_val [27.9225, 9.6425, 3.9899, 1.9032, 0.6454, 0.0606]\n",
      "b 44.1641\n",
      "w_stat 0.971026084704613\n"
     ]
    }
   ],
   "source": [
    "age = [65,61,63,86,70,55,74,35,72,68,45,58]\n",
    "a =   [0.5475,0.3325,0.2347,0.1586,0.0922,0.0303]\n",
    "age.sort()\n",
    "print(age)\n",
    "am = np.mean(age)\n",
    "ss = sum([(i-am)**2 for i in age])\n",
    "print('ss',ss)\n",
    "b1 =  [age[len(age)-i-1] - age[i]  for i in range(len(age))] # i = 0,1,2,3,4...11\n",
    "print(b1)\n",
    "b1 = b1[:(len(b1)//2)]\n",
    "print(b1)\n",
    "b_val = [a[i]*b1[i] for i in range(len(a))]\n",
    "print('b_val',b_val)\n",
    "b = sum(b_val)\n",
    "print('b',b)\n",
    "w = (b**2)/ss\n",
    "print('w_stat',w)"
   ]
  },
  {
   "cell_type": "code",
   "execution_count": 23,
   "id": "4695038a",
   "metadata": {},
   "outputs": [],
   "source": [
    "from scipy.stats import shapiro"
   ]
  },
  {
   "cell_type": "code",
   "execution_count": 24,
   "id": "94b0560c",
   "metadata": {},
   "outputs": [
    {
     "name": "stdout",
     "output_type": "stream",
     "text": [
      "w_stat 0.9710664749145508\n",
      "p-value 0.9216489195823669\n",
      "H0 Accepted - Data is Normally Distributed\n"
     ]
    }
   ],
   "source": [
    "w_stat, p = shapiro(age)\n",
    "print('w_stat',w_stat)\n",
    "print('p-value',p)\n",
    "if p<0.05:\n",
    "    print('H0 Rejected - Data is not Normally Distributed')\n",
    "else:\n",
    "    print('H0 Accepted - Data is Normally Distributed')\n"
   ]
  },
  {
   "cell_type": "markdown",
   "id": "3c756bc7",
   "metadata": {},
   "source": [
    "#### Examples"
   ]
  },
  {
   "cell_type": "code",
   "execution_count": 25,
   "id": "f96dbf98",
   "metadata": {},
   "outputs": [],
   "source": [
    "from scipy.stats import shapiro"
   ]
  },
  {
   "cell_type": "code",
   "execution_count": 34,
   "id": "0625a517",
   "metadata": {},
   "outputs": [
    {
     "name": "stdout",
     "output_type": "stream",
     "text": [
      "[47.91588685 45.02351088 42.19512765 32.4785232  31.51375869 47.64812727\n",
      " 49.70538275 35.95268345 43.8343826   2.53558218  2.6779586   5.9291503\n",
      " 45.09767755  3.82675479 24.2050578  49.75243355 19.51528624 12.50229897\n",
      " 19.19807785  4.07706117 39.12991829  0.63013998  3.03879753 13.30979162\n",
      " 47.77739252 19.53253924 19.00163085  5.46118163 18.67586522  8.37435853\n",
      " 47.69317105 38.1507123   7.69345596  7.37013822  4.3127236  47.7015013\n",
      " 33.00905615 15.12666555 44.22308386 45.19913178 41.00807734 32.0390427\n",
      " 34.97357906 37.622263   36.49129048 35.67557357 31.575628   43.96507985\n",
      " 44.81584875 21.98935871 44.48784834  5.2911125  28.30772071 24.15836956\n",
      " 45.78590858 22.43190524  7.08045266 27.53924109 19.3326838  32.6007735\n",
      "  9.81189925 12.13923638 20.59993618 39.39619752  1.61004635  2.46972748\n",
      " 44.26041206 22.48562373 48.3966756  16.56023788 20.95367511 15.30761824\n",
      "  7.24494139 29.49282272  5.03572084 38.45553484  4.94004187 37.80227702\n",
      " 30.98059857 32.23494578 23.6015322  21.15841058 41.03933395 38.658197\n",
      " 23.45963895 20.50795111  3.72144233 23.85092002 38.78203575 22.13284479\n",
      " 13.71521746  2.52623239 40.64751223 30.19960571 49.18940776 43.14005053\n",
      " 22.99815921 34.55222037 28.67399181 40.68081092]\n"
     ]
    }
   ],
   "source": [
    "d1 = np.random.random(100)*50\n",
    "print(d1)"
   ]
  },
  {
   "cell_type": "code",
   "execution_count": 35,
   "id": "05e4a261",
   "metadata": {},
   "outputs": [
    {
     "name": "stdout",
     "output_type": "stream",
     "text": [
      "w_stat 0.9504112601280212\n",
      "p-value 7.475159509340301e-05\n",
      "H0 Rejected - Data is not Normally Distributed\n"
     ]
    }
   ],
   "source": [
    "w_stat, p = shapiro(d1)\n",
    "print('w_stat',stat)\n",
    "print('p-value',p)\n",
    "if p<0.05:\n",
    "    print('H0 Rejected - Data is not Normally Distributed')\n",
    "else:\n",
    "    print('H0 Accepted - Data is Normally Distributed')\n"
   ]
  },
  {
   "cell_type": "code",
   "execution_count": 36,
   "id": "a0f2d257",
   "metadata": {},
   "outputs": [
    {
     "name": "stdout",
     "output_type": "stream",
     "text": [
      "(100,)\n",
      "[-2.00706367 -1.95730117  1.568679    5.87136445  1.74450299  1.55542741\n",
      "  5.85243426  2.24374365  3.37906167  4.58897606  6.49680582  1.63600631\n",
      "  1.45246616  7.75504822  3.50134235  2.86755158  3.07197193  4.80411917\n",
      "  6.3064842   6.93673733  1.46048891 -0.16448039  5.1941642   4.33522523\n",
      "  4.8296342  -1.39537595  2.18340711 -1.37602045 -0.34704342  2.03375043\n",
      "  2.08344191  6.86666754  1.01413255  3.21226152  5.81995624  2.62357874\n",
      "  5.02043465  1.0677868   7.42785887  4.37506522 -1.55859685  2.8071866\n",
      "  1.65082508  0.32196707  2.60220694  2.90521744 -1.08409206 -1.27025554\n",
      "  0.75503222  1.84926107 -1.24261745  3.62134293  0.21709246 -0.09696592\n",
      "  2.48825828  4.11906339 -4.98944234  2.61902894 -0.68410886  5.1805032\n",
      "  4.25374257  1.62069583  4.18518848 -0.06329511 -3.13092931 -1.60272377\n",
      " -0.01788226 -1.58457651 -1.94348267  2.46523573 -1.59102905  2.53113281\n",
      "  2.91848072  4.19592892  0.61627785 -0.77094858  6.70836084  0.56682707\n",
      "  9.42913623  2.41592134 -1.28532964 -0.04667682  0.7902298   1.8243491\n",
      " -0.21728034  1.16565286 -0.35283362  1.86283603  0.39713881 -0.14005781\n",
      "  2.48452575  0.95802646  0.18733854  2.88846425  4.0343606   2.99369687\n",
      " -0.97975149  6.35438336 -0.74642575  4.57758044]\n"
     ]
    }
   ],
   "source": [
    "d2 = np.random.normal(loc=2,scale=3,size=100)  # loc=mean, scale=stdev,\n",
    "print(d1.shape)\n",
    "print(d2)"
   ]
  },
  {
   "cell_type": "code",
   "execution_count": 37,
   "id": "bb7a0ba4",
   "metadata": {},
   "outputs": [
    {
     "name": "stdout",
     "output_type": "stream",
     "text": [
      "Stat 0.9883119463920593\n",
      "p-value 0.5314844846725464\n",
      "H0 Accepted - Data is Normally Distributed\n"
     ]
    }
   ],
   "source": [
    "w_stat, p = shapiro(d2)\n",
    "print('Stat',w_stat)\n",
    "print('p-value',p)\n",
    "if p<0.05:\n",
    "    print('H0 Rejected - Data is not Normally Distributed')\n",
    "else:\n",
    "    print('H0 Accepted - Data is Normally Distributed')\n"
   ]
  },
  {
   "cell_type": "code",
   "execution_count": null,
   "id": "c8962208",
   "metadata": {},
   "outputs": [],
   "source": []
  },
  {
   "cell_type": "markdown",
   "id": "2bd172b0",
   "metadata": {},
   "source": [
    "### Jarquee_Bera Test\n",
    "\n",
    "1) The Jarque-Bera test is a goodness-of-fit test that determines whether or not sample data have \n",
    "skewness and kurtosis that matches a normal distribution.\n",
    "\n",
    "2) Mainly used for large sample size > 5000\n",
    "\n",
    "3) JB = (n/6)* (S^2 + C^2)/4<br>\n",
    "where <br>\n",
    "n  = no of observations in the sample<br>\n",
    "s = sample skewness<br>\n",
    "C = sample kurtosis<br>"
   ]
  },
  {
   "cell_type": "code",
   "execution_count": 39,
   "id": "8767724d",
   "metadata": {},
   "outputs": [],
   "source": [
    "from scipy.stats import skew,kurtosis, jarque_bera"
   ]
  },
  {
   "cell_type": "code",
   "execution_count": 41,
   "id": "1d116166",
   "metadata": {},
   "outputs": [
    {
     "name": "stdout",
     "output_type": "stream",
     "text": [
      "6000\n",
      "[3.71359162 4.15343024 2.30583733 ... 5.64871142 7.35700405 3.69158748]\n"
     ]
    }
   ],
   "source": [
    "# create the data from by genrating a random sample\n",
    "d1 = np.random.normal(loc=5, scale =1.3, size=6000) # loc=mean, std = scale\n",
    "print(len(d1))\n",
    "print(d1)"
   ]
  },
  {
   "cell_type": "code",
   "execution_count": 43,
   "id": "6600fad8",
   "metadata": {},
   "outputs": [
    {
     "name": "stdout",
     "output_type": "stream",
     "text": [
      "n = 6000\n",
      "s = 0.016773599071671287\n",
      "c = -0.030440454580636267\n",
      "JB = 0.5130089445861167\n"
     ]
    }
   ],
   "source": [
    "n = len(d1)\n",
    "print('n =',n)\n",
    "s = skew(d1)\n",
    "print('s =',s)\n",
    "c = kurtosis(d1)\n",
    "print('c =',c)\n",
    "\n",
    "jb = (n/6)*(s**2 + (c**2)/4)\n",
    "print('JB =',jb)"
   ]
  },
  {
   "cell_type": "code",
   "execution_count": 45,
   "id": "978396e5",
   "metadata": {},
   "outputs": [],
   "source": [
    "from scipy.stats import jarque_bera"
   ]
  },
  {
   "cell_type": "code",
   "execution_count": 46,
   "id": "15beebd7",
   "metadata": {},
   "outputs": [
    {
     "name": "stdout",
     "output_type": "stream",
     "text": [
      "jb_stat 0.5130089445861169\n",
      "p_val 0.7737515341081194\n",
      "Accept Ho - data is normally distribured\n"
     ]
    }
   ],
   "source": [
    "# Method - 2\n",
    "jb_stat, p = jarque_bera(d1)\n",
    "print('jb_stat',jb_stat)\n",
    "print('p_val',p)\n",
    "alpha=0.05\n",
    "if p<alpha:\n",
    "    print('Reject Ho - data is not normally distributed')\n",
    "else:\n",
    "    print('Accept Ho - data is normally distribured')"
   ]
  },
  {
   "cell_type": "code",
   "execution_count": null,
   "id": "34626e18",
   "metadata": {},
   "outputs": [],
   "source": []
  },
  {
   "cell_type": "code",
   "execution_count": 52,
   "id": "7b293e7c",
   "metadata": {},
   "outputs": [],
   "source": [
    "# Normality Tests\n",
    "from scipy.stats import jarque_bera, shapiro\n",
    "\n",
    "# One Way ANOVA\n",
    "from scipy.stats import f_oneway\n",
    "\n",
    "# chi_square\n",
    "from scipy.stats import chi2_contingency\n",
    "\n",
    "# Z_test - One Sample or Two Sample\n",
    "from statsmodels.stats.weightstats import ztest\n",
    "\n",
    "# T-test One Sample\n",
    "from scipy.stats import ttest_1samp\n",
    "\n",
    "# T-test Two Sample\n",
    "from scipy.stats import ttest_ind\n",
    "\n",
    "# skewness,kurtosis\n",
    "from scipy.stats import skew, kurtosis"
   ]
  },
  {
   "cell_type": "code",
   "execution_count": null,
   "id": "d0117e87",
   "metadata": {},
   "outputs": [],
   "source": [
    "# Test - 21May - 2 Hrs\n",
    "# 1) 2 Q) on ANOVA\n",
    "# 2) 2 Q) on z-test,t-test\n",
    "# 3) 1 Q) on chi sqaure/normality test\n",
    "# 4) 5-7 Q) on probaility (conditional,bayes,independent,dependent events,\n",
    "#                          poisson,binomial) \n",
    "# 5) 3 Q) on Descriptive Stats, \n",
    "#     (mean,median,mode,var,std,correlation,covariance)"
   ]
  },
  {
   "cell_type": "code",
   "execution_count": null,
   "id": "29688810",
   "metadata": {},
   "outputs": [],
   "source": []
  }
 ],
 "metadata": {
  "kernelspec": {
   "display_name": "Python 3",
   "language": "python",
   "name": "python3"
  },
  "language_info": {
   "codemirror_mode": {
    "name": "ipython",
    "version": 3
   },
   "file_extension": ".py",
   "mimetype": "text/x-python",
   "name": "python",
   "nbconvert_exporter": "python",
   "pygments_lexer": "ipython3",
   "version": "3.8.8"
  }
 },
 "nbformat": 4,
 "nbformat_minor": 5
}
