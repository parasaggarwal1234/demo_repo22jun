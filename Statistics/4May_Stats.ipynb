{
 "cells": [
  {
   "cell_type": "markdown",
   "id": "d6bbeede",
   "metadata": {},
   "source": [
    "### Statistics\n",
    "1) Branch of mathematics that deals with data collection, analysis, interpretataion and presentation.<br>\n",
    "\n",
    "2) It is used to provide meaningful insights in the data by applying various statistical methods on it.<br>"
   ]
  },
  {
   "cell_type": "markdown",
   "id": "c9e32ac3",
   "metadata": {},
   "source": [
    "### Types of Data \n",
    "1) <b>Qualitative:</b> Data which cannot be measured.It is of 2 types\n",
    "\n",
    "a) <b>Nominal:</b> Data with no inherent order. Sorting Nominal data makes no difference\n",
    "Examples - Gender column, languages that a person can speak\n",
    "\n",
    "b) <b>Ordinal:</b> Data with inherent order. It can be sorted.\n",
    "Examples - Educational qualifications of a person over the years, low,medium and high temperatures\n",
    "\n",
    "2) <b>Quantitative:</b> Data which can be measured. It is of 2 types\n",
    "\n",
    "a) <b>Continous Data:</b> It can have finite or infinite values within a specific range. It can be expressed in fractions.\n",
    "Examples - Profit,Loss,speed,acceleration,salary,price, distance, magnitude,Weights etc\n",
    "\n",
    "b) <b>Categorical or Discrete Data:</b> It can have finite values only. It cannot be expressed in fractions\n",
    "Examples - number of states in a country, types of species, types of elements \n",
    "\n"
   ]
  },
  {
   "cell_type": "markdown",
   "id": "10cf5e01",
   "metadata": {},
   "source": [
    "### Random Variable and its Types\n",
    "\n",
    "#### Random Variable\n",
    "1) A variable whose possible values are outcome of a random experiment<br>\n",
    "2) It is denoted by X.<br>\n",
    "3) Is is of 2 types<br>\n",
    "\n",
    "<b>a) Discrete/Categorical Random Variables</b><br>\n",
    "i) It is a variable that takes countable number of finite values<br>\n",
    "ii) These variables cant be expressed in fraction<br>\n",
    "iii) Exmaples - Number of states in a country, number of vehicles manufactured in a day,\n",
    "number of quarters in a year etc.\n",
    "\n",
    "\n",
    "<b>b) Continuous Random Variables</b><br>\n",
    "i) A variable that takes infinite value within a range<br>\n",
    "ii) It can be expressed in fractions<br>\n",
    "iii) Examples - Temperature in celcius for a city at various hours, profit/loss on products sold per day, price of a product over the years etc"
   ]
  },
  {
   "cell_type": "markdown",
   "id": "dc7b30d4",
   "metadata": {},
   "source": [
    "### Statistical Analysis\n",
    "#### 1) Descriptive Anaysis\n",
    "a) It is used to generate summary  or provides the insights about the data/sample<br>\n",
    "b) It helps to study the underlying pattern in the data<br>\n",
    "c) Various numerical and vizualization techniques can be used<br>\n",
    "\n",
    "#### 2) Inferential Analysis\n",
    "a) It is used to make conclusions or generalizations about the data.<br>\n",
    "b) It includes various tests.<br>\n"
   ]
  },
  {
   "cell_type": "markdown",
   "id": "325a110f",
   "metadata": {},
   "source": [
    "### Population and Sample\n",
    "\n",
    "<b> Population:</b> It is collection of all the objects under consideration.<br>\n",
    "<b> Sample:</b>It is a subset of population which is used as a reprentataive of population."
   ]
  },
  {
   "cell_type": "markdown",
   "id": "d035dde9",
   "metadata": {},
   "source": [
    "### Univariate Descriptive Analysis"
   ]
  },
  {
   "cell_type": "markdown",
   "id": "2fdda1c3",
   "metadata": {},
   "source": [
    "#### Measure of Central Tendency\n",
    "\n",
    "<b>1)  Mean - </b><br>\n",
    "a) Defined as sum of all observations divided by total number of observations<br>\n",
    "b) It cant be computed for categorial data.<br>\n",
    "c) It can be affected by outliers<br>\n",
    "d) It is based on all obersations<br>\n",
    "<img src=\"mean.png\" height=\"200\" width=\"300\">\n",
    "\n",
    "<b>2) Median - </b><br>\n",
    "a) It is the middlemost observation when the data is arranged in ascending or descening order<br>\n",
    "b) The median divides the data into 2 equal parts- there will be equal number of observations below and above the median.<br>\n",
    "c) It is not affected by presence of outliers<br>\n",
    "d) It is not based on all observations- thus it is not considered a very good representative \n",
    "<img src=\"median.png\" height=\"400\" width=\"500\">\n",
    "\n",
    "<b>3) Mode </b><br>\n",
    "a) It is the observation with the highest frequency<br>\n",
    "b) Data can have more than one mode<br>\n",
    "c) The group of observations with one mode is called <b>unimodal</b><br>\n",
    "d) The group of observations with two modes is called <b>bimodal</b><br>\n",
    "e) The group of observations with more than two modes is called <b>multimodal</b><br>\n",
    "f) It is not affected by presence of outliers<br>\n",
    "g) It can be calculated for continuous and categorical data<br>\n",
    "h) It is not based on all observations- thus it is not considered a very good representative "
   ]
  },
  {
   "cell_type": "markdown",
   "id": "87e22e11",
   "metadata": {},
   "source": [
    "#### Which is the best measure out of Mean, Median and Mode?\n",
    "1) Mean is the most frequently used measure of central tendency and generally considered the best measure of it. However, there are some situations where either median or mode are preferred.<br>\n",
    "2) Median is the preferred measure of central tendency when: <br>\n",
    "a) There are a few extreme scores in the distribution of the data. (outlier can have a great effect on the mean).<br>\n",
    "b) There are some missing or undetermined values in your data<br>\n",
    "c) You have data measured on an ordinal scale.<br>\n",
    "3) Mode is the preferred measure when data are measured in a nominal ( and even sometimes ordinal) scale."
   ]
  },
  {
   "cell_type": "code",
   "execution_count": 5,
   "id": "0067f37d",
   "metadata": {},
   "outputs": [],
   "source": [
    "import numpy as np\n",
    "import statistics as st\n",
    "# st is the alias name"
   ]
  },
  {
   "cell_type": "markdown",
   "id": "e113caa0",
   "metadata": {},
   "source": [
    "#### Mean"
   ]
  },
  {
   "cell_type": "code",
   "execution_count": 8,
   "id": "fdf724ed",
   "metadata": {},
   "outputs": [
    {
     "name": "stdout",
     "output_type": "stream",
     "text": [
      "Mean_m1 22.4\n",
      "Mean_m2 22.4\n",
      "Mean_m3 22.4\n",
      "Mean_m4 22.4\n"
     ]
    }
   ],
   "source": [
    "d = [10,14,17,23,18,34,45,22,16,25]\n",
    "# Method-1\n",
    "mean1 = sum(d)/len(d)\n",
    "print('Mean_m1',mean1)\n",
    "# Method-2\n",
    "s = 0\n",
    "for i in d:\n",
    "    s += i\n",
    "mean2 = s/len(d)\n",
    "print('Mean_m2',mean2)\n",
    "\n",
    "# Method-3\n",
    "mean3 = np.array(d).mean()\n",
    "print('Mean_m3',mean3)\n",
    "\n",
    "# Method-4\n",
    "mean4 = st.mean(d)\n",
    "print('Mean_m4',mean4)"
   ]
  },
  {
   "cell_type": "markdown",
   "id": "6da853e9",
   "metadata": {},
   "source": [
    "#### Median\n",
    "with N = odd"
   ]
  },
  {
   "cell_type": "code",
   "execution_count": 18,
   "id": "59df3e57",
   "metadata": {},
   "outputs": [
    {
     "name": "stdout",
     "output_type": "stream",
     "text": [
      "11\n",
      "[10, 14, 16, 17, 18, 22, 23, 25, 26, 34, 45]\n",
      "Median_m1 22\n",
      "Median_m2 22\n"
     ]
    }
   ],
   "source": [
    "d2 = [10,14,17,23,18,34,45,22,16,25,26]\n",
    "print(len(d2))\n",
    "# Method-1\n",
    "d2.sort()\n",
    "print(d2)\n",
    "med1 = d2[len(d2)//2]\n",
    "print('Median_m1',med1)\n",
    "\n",
    "# Method-2\n",
    "med2 = st.median(d2)\n",
    "print('Median_m2',med2)"
   ]
  },
  {
   "cell_type": "markdown",
   "id": "54acf6d6",
   "metadata": {},
   "source": [
    "#### Median\n",
    "N = Even"
   ]
  },
  {
   "cell_type": "code",
   "execution_count": 23,
   "id": "8a9f8c99",
   "metadata": {},
   "outputs": [
    {
     "name": "stdout",
     "output_type": "stream",
     "text": [
      "10\n",
      "[10, 14, 16, 17, 18, 22, 23, 25, 34, 45]\n",
      "Median_m1 20.0\n",
      "Median_m2 20.0\n"
     ]
    }
   ],
   "source": [
    "d1 = [10,14,17,23,18,34,45,22,16,25]\n",
    "print(len(d1))\n",
    "d1.sort()\n",
    "print(d1)\n",
    "# Method-1\n",
    "med1 = (d1[(len(d1)-1)//2] + d1[len(d1)//2])/2\n",
    "print('Median_m1',med1)\n",
    "\n",
    "# Method-2\n",
    "med2 = st.median(d1)\n",
    "print('Median_m2',med2)"
   ]
  },
  {
   "cell_type": "markdown",
   "id": "954cc3e1",
   "metadata": {},
   "source": [
    "#### Mode"
   ]
  },
  {
   "cell_type": "code",
   "execution_count": 29,
   "id": "7ca21dd5",
   "metadata": {},
   "outputs": [],
   "source": [
    "from collections import Counter"
   ]
  },
  {
   "cell_type": "code",
   "execution_count": 35,
   "id": "9d6bd27f",
   "metadata": {},
   "outputs": [
    {
     "name": "stdout",
     "output_type": "stream",
     "text": [
      "[11, 23, 34, 11, 9, 8, 17, 16, 12, 11, 19, 20, 17] 13\n",
      "Mode_m1 11\n",
      "Mode_m2 11\n",
      "Counter({11: 3, 17: 2, 23: 1, 34: 1, 9: 1, 8: 1, 16: 1, 12: 1, 19: 1, 20: 1})\n",
      "k [11, 23, 34, 9, 8, 17, 16, 12, 19, 20]\n",
      "v [3, 1, 1, 1, 1, 2, 1, 1, 1, 1]\n",
      "Mode_m3 11\n"
     ]
    }
   ],
   "source": [
    "r = [11,23,34,11,9,8,17,16,12,11,19,20,17]\n",
    "print(r,len(r))\n",
    "\n",
    "# Method-1\n",
    "mode1 = st.mode(r)\n",
    "print('Mode_m1',mode1)\n",
    "\n",
    "# Method-2\n",
    "mode2 = max(r,key=r.count)\n",
    "print('Mode_m2',mode2)\n",
    "\n",
    "# Method-3\n",
    "c = Counter(r)\n",
    "print(c)\n",
    "k,v = list(c.keys()),list(c.values())\n",
    "print('k',k)\n",
    "print('v',v)\n",
    "mode3 = k[v.index(max(v))]\n",
    "print('Mode_m3',mode3)"
   ]
  },
  {
   "cell_type": "code",
   "execution_count": 34,
   "id": "d4f7566f",
   "metadata": {},
   "outputs": [
    {
     "name": "stdout",
     "output_type": "stream",
     "text": [
      "{11: 3, 23: 1, 34: 1, 9: 1, 8: 1, 17: 2, 16: 1, 12: 1, 19: 1, 20: 1}\n",
      "Mode_m4 11\n"
     ]
    }
   ],
   "source": [
    "# Method-4  - Dict Comprehension\n",
    "res = {i : r.count(i) for i in r}\n",
    "print(res)\n",
    "k,v = list(res.keys()),list(res.values())\n",
    "mode4 = k[v.index(max(v))]\n",
    "print('Mode_m4',mode4)"
   ]
  },
  {
   "cell_type": "code",
   "execution_count": null,
   "id": "a3b4071d",
   "metadata": {},
   "outputs": [],
   "source": []
  },
  {
   "cell_type": "markdown",
   "id": "1218804b",
   "metadata": {},
   "source": [
    "#### 4) Quantile\n",
    "\n",
    "1) These are values that divide the dataset into equal parts<br>\n",
    "2) Median is 50 quantile<br>\n",
    "3) <b>Quartile</b> divide dataset into 4 equal parts.\n",
    "and <b>Percentile</b> divide dataset into 100 equal parts\n",
    "\n",
    "<b>Percentile :</b> The percent of population which lies below that value<br>\n",
    "<b>Quartile :</b> Quartile is a special case of quantile, quartiles cut the data set into four equal parts i.e. q=4 for quantiles so we have First quartile Q1, second quartile Q2(Median) and third quartile Q3\n",
    "\n",
    "0 quartile = 0 quantile = 0 percentile\n",
    "\n",
    "1 quartile (Q1) = 0.25 quantile = 25 percentile\n",
    "\n",
    "2 quartile (Q2) = 0.5 quantile = 50 percentile (Median)\n",
    "\n",
    "3 quartile (Q3) = 0.75 quantile = 75 percentile\n",
    "\n",
    "4 quartile (Q4) = 1 quantile = 100 percentile\n",
    "\n",
    "\n",
    "#### 5 Point Summary\n",
    "i) Q1 - 25 percentile (median of min and Q2)<br>\n",
    "ii) Q2 - 50 percentile (median)<br>\n",
    "iii) Q3 - 75 percentile (median of max and Q2)<br>\n",
    "iv) IQR (Inter Quartile Range) = Q3-Q1<br>\n",
    "v) min = Q1 - 1.5 * IQR<br>\n",
    "vi) max = Q3 +  1.5 * IQR<br>\n",
    "vii) Outliers = >max or <min"
   ]
  },
  {
   "cell_type": "code",
   "execution_count": 42,
   "id": "13437d90",
   "metadata": {},
   "outputs": [
    {
     "name": "stdout",
     "output_type": "stream",
     "text": [
      "[12, 14, 16, 15, 14, 25, 12, 11, 9, 10, 13, 15, 2, 17, 9, 16]\n",
      "16\n"
     ]
    }
   ],
   "source": [
    "x = [12,14, 16, 15, 14,25, 12, 11, 9,10,13,15,2,17,9,16]\n",
    "print(x)\n",
    "print(len(x))"
   ]
  },
  {
   "cell_type": "markdown",
   "id": "aa1ad857",
   "metadata": {},
   "source": [
    "#### Q) For the list x\n",
    "a) Depict the quartile distribution of the list x. <br>\n",
    "b) Find the values of Q1, Q2, Q3, IQR, min and max.<br>\n",
    "c) Create a list fetching the outliers from the list x<br>\n",
    "d) Create a list by removing the outliers from the list x."
   ]
  },
  {
   "cell_type": "code",
   "execution_count": 39,
   "id": "18eca1a8",
   "metadata": {},
   "outputs": [],
   "source": [
    "import matplotlib.pyplot as plt"
   ]
  },
  {
   "cell_type": "code",
   "execution_count": 41,
   "id": "9f845541",
   "metadata": {},
   "outputs": [
    {
     "data": {
      "image/png": "[encoded data removed]",
      "text/plain": [
       "<Figure size 432x288 with 1 Axes>"
      ]
     },
     "metadata": {
      "needs_background": "light"
     },
     "output_type": "display_data"
    }
   ],
   "source": [
    "plt.boxplot(x)\n",
    "plt.grid()\n",
    "plt.show()"
   ]
  },
  {
   "cell_type": "code",
   "execution_count": 52,
   "id": "830f5ff4",
   "metadata": {},
   "outputs": [
    {
     "name": "stdout",
     "output_type": "stream",
     "text": [
      "[2, 9, 9, 10, 11, 12, 12, 13, 14, 14, 15, 15, 16, 16, 17, 25]\n",
      "Q1 10.75\n",
      "Q2 13.5\n",
      "Q3 15.25\n",
      "IQR 4.5\n",
      "Max 22.0\n",
      "Min 4.0\n"
     ]
    }
   ],
   "source": [
    "x.sort()\n",
    "print(x)\n",
    "q1 = np.percentile(x,25)\n",
    "q2 = np.percentile(x,50)\n",
    "q3 = np.percentile(x,75)\n",
    "print('Q1',q1)\n",
    "print('Q2',q2)\n",
    "print('Q3',q3)\n",
    "iqr = q3 - q1 # Inter Quartile range\n",
    "print('IQR',iqr)\n",
    "bmax = q3 + 1.5*iqr\n",
    "bmin = q1 - 1.5*iqr\n",
    "print('Max',bmax)\n",
    "print('Min',bmin)"
   ]
  },
  {
   "cell_type": "code",
   "execution_count": 53,
   "id": "353b76c1",
   "metadata": {},
   "outputs": [
    {
     "name": "stdout",
     "output_type": "stream",
     "text": [
      "Q1 10.75\n",
      "Q2 13.5\n",
      "Q3 15.25\n",
      "IQR 4.5\n",
      "Max 22.0\n",
      "Min 4.0\n"
     ]
    }
   ],
   "source": [
    "q1 = np.quantile(x,0.25)\n",
    "q2 = np.quantile(x,0.50)\n",
    "q3 = np.quantile(x,0.75)\n",
    "print('Q1',q1)\n",
    "print('Q2',q2)\n",
    "print('Q3',q3)\n",
    "iqr = q3 - q1\n",
    "print('IQR',iqr)\n",
    "bmax = q3 + 1.5*iqr\n",
    "bmin = q1 - 1.5*iqr\n",
    "print('Max',bmax)\n",
    "print('Min',bmin)"
   ]
  },
  {
   "cell_type": "code",
   "execution_count": 54,
   "id": "3b0d2fee",
   "metadata": {},
   "outputs": [
    {
     "name": "stdout",
     "output_type": "stream",
     "text": [
      "[2, 9, 9, 10, 11, 12, 12, 13, 14, 14, 15, 15, 16, 16, 17, 25]\n",
      "Outliers [2, 25]\n",
      "[9, 9, 10, 11, 12, 12, 13, 14, 14, 15, 15, 16, 16, 17]\n"
     ]
    }
   ],
   "source": [
    "print(x)\n",
    "outliers = [i for i in x if i>bmax or i<bmin]\n",
    "print('Outliers',outliers)\n",
    "outliers_removed = [i for i in x if i>bmin and i<bmax]\n",
    "print(outliers_removed)"
   ]
  },
  {
   "cell_type": "code",
   "execution_count": null,
   "id": "c843f0a3",
   "metadata": {},
   "outputs": [],
   "source": []
  },
  {
   "cell_type": "markdown",
   "id": "abc016e8",
   "metadata": {},
   "source": [
    "<b>Decile</b> : - It divides the dataset into 10 equal parts\n",
    "1) The first Decile(D1) is such that 10% of data is below D1 and 90% above it<br>\n",
    "2) The fifth Decile(D5) is such that 50% of data is below D5 and 50% above it. It is the median<br>"
   ]
  },
  {
   "cell_type": "code",
   "execution_count": 57,
   "id": "8235ed50",
   "metadata": {},
   "outputs": [
    {
     "name": "stdout",
     "output_type": "stream",
     "text": [
      "10\n",
      "d1 3.8\n",
      "d2 5.6000000000000005\n",
      "d5 11.0\n",
      "10\n",
      "[2, 4, 6, 8, 10, 12, 14, 16, 18, 20]\n"
     ]
    }
   ],
   "source": [
    "x = [4,6,2,8,10,14,12,16,20,18]\n",
    "print(len(x))\n",
    "d1 = np.quantile(x,0.10)\n",
    "d2 = np.quantile(x,0.20)\n",
    "d5 = np.quantile(x,0.50)\n",
    "print('d1',d1)\n",
    "print('d2',d2)\n",
    "print('d5',d5)\n",
    "x.sort()\n",
    "print(len(x))\n",
    "print(x)"
   ]
  },
  {
   "cell_type": "markdown",
   "id": "465a67b9",
   "metadata": {},
   "source": [
    "### Measure of Dispersion\n",
    "It summaries the variation in the data points<br>\n",
    "\n",
    "a) <b>Range</b>\n",
    "1) It is the difference between largest and smallest value<br>\n",
    "2) It depends on 2 extreme values of the data<br>\n",
    "\n",
    "b) <b> Variance</b>\n",
    "1) It measure the spread of obseravtions from the mean<br>\n",
    "2) The unit of variance is squared to that unit of data so as to obtain measure of dispersion in the same unit as original obervations we take positive square root of variance (known as <b>Standard Deviation)</b><br>\n",
    "\n",
    "\n",
    "c) <b>Standard Deviation</b>\n",
    "1) It is obtained by taking squae root of the variance<br>\n",
    "\n",
    "<img src=\"variance_sd.png\" width=\"600\" height=\"600\">\n",
    "\n",
    "where <br>\n",
    "xi - individual obervation<br>\n",
    "µ - population mean<br> \n",
    "x_bar - sample mean<br>\n",
    "N - total number of observations<br>\n",
    "n - total number of observations<br>\n",
    "\n"
   ]
  },
  {
   "cell_type": "markdown",
   "id": "a9ffd25f",
   "metadata": {},
   "source": [
    "#### Variance and Standard Deviation"
   ]
  },
  {
   "cell_type": "code",
   "execution_count": 58,
   "id": "50aeb059",
   "metadata": {},
   "outputs": [
    {
     "name": "stdout",
     "output_type": "stream",
     "text": [
      "6.0\n"
     ]
    }
   ],
   "source": [
    "g = [2,4,6,8,10]\n",
    "m = sum(g)/len(g)\n",
    "print(m)\n",
    "# pop_var = ((2-6)^2 + (4-6)^2 + (6-6)^2 + (8-6)^2 + (10-6)^2)/5\n",
    "# samp_var = ((2-6)^2 + (4-6)^2 + (6-6)^2 + (8-6)^2 + (10-6)^2)/(5-1) "
   ]
  },
  {
   "cell_type": "code",
   "execution_count": 63,
   "id": "37abb343",
   "metadata": {},
   "outputs": [],
   "source": [
    "import numpy as np"
   ]
  },
  {
   "cell_type": "code",
   "execution_count": 60,
   "id": "63dd0cea",
   "metadata": {},
   "outputs": [
    {
     "name": "stdout",
     "output_type": "stream",
     "text": [
      "Pop_Var 8.0\n",
      "Samp_Var 10.0\n",
      "Pop_Std 2.8284271247461903\n",
      "Samp_Std 3.1622776601683795\n"
     ]
    }
   ],
   "source": [
    "def var_std(r):\n",
    "    mean_r = sum(r)/len(r)\n",
    "    s = 0\n",
    "    for i in r:\n",
    "        s += (i-mean_r)**2   # s = numerator\n",
    "    pop_var = s/len(r)\n",
    "    samp_var = s/(len(r)-1)\n",
    "    pop_std = np.sqrt(pop_var)\n",
    "    samp_std = np.sqrt(samp_var)\n",
    "    print('Pop_Var',pop_var)\n",
    "    print('Samp_Var',samp_var)\n",
    "    print('Pop_Std',pop_std)\n",
    "    print('Samp_Std',samp_std)\n",
    "    \n",
    "g = [2,4,6,8,10]\n",
    "var_std(g)"
   ]
  },
  {
   "cell_type": "code",
   "execution_count": 64,
   "id": "5d5d56a5",
   "metadata": {},
   "outputs": [
    {
     "name": "stdout",
     "output_type": "stream",
     "text": [
      "Sample Variance 10\n",
      "Sample Stdev 3.1622776601683795\n"
     ]
    }
   ],
   "source": [
    "import statistics as st\n",
    "var = st.variance(g)\n",
    "stdev = st.stdev(g)\n",
    "print('Sample Variance',var)\n",
    "print('Sample Stdev',stdev)"
   ]
  },
  {
   "cell_type": "markdown",
   "id": "369990cf",
   "metadata": {},
   "source": [
    "#### Range"
   ]
  },
  {
   "cell_type": "code",
   "execution_count": 66,
   "id": "b84051bb",
   "metadata": {},
   "outputs": [
    {
     "name": "stdout",
     "output_type": "stream",
     "text": [
      "35\n"
     ]
    }
   ],
   "source": [
    "g = [10,45,34,17,23]\n",
    "range_g = max(g) - min(g)\n",
    "print(range_g)"
   ]
  },
  {
   "cell_type": "markdown",
   "id": "5fb25cb7",
   "metadata": {},
   "source": [
    "### Bivariate/Multivariate Descriptive Analysis\n",
    "\n",
    "a) <b>Covariance</b><br>\n",
    "1) It measures how 2 variable vary together<br>\n",
    "2) Covariance values are not normalized/Standardized.<br>\n",
    "3) Covarince provides direction linear relation between the variables.<br>\n",
    "4) It ranges from -inifinity to + infinity<br>\n",
    "5) It is used in PCA <b>(Principal Component Analysis)</b><br>\n",
    "6) Note\n",
    "\n",
    "        cov(a,b) = cov(b,a)\n",
    "        cov(a,a) = var(a)\n",
    "        cov(b,b) = var(b)\n",
    "\n",
    "<img src=\"cov.png\" height=\"400\" width=\"400\">\n",
    "\n",
    "where <br>\n",
    "xi,yi - individual obervation of x and y respectively<br>\n",
    "x_bar,y_bar - sample mean of x and y respectively<br>\n",
    "N - total number of observations<br>\n",
    "\n",
    "\n",
    "\n",
    "b) <b>Correlation</b><br>\n",
    "1) It provides direction and magnitude of realtionship betwwen variables<br>\n",
    "2) It ranges from -1 to +1 where -1 indicates strong negative correlation and +1 indicates strong negative correaltion.<br>\n",
    "3) If corr(x,y)> 0 => Positive correlation<br>\n",
    "   If corr(x,y)< 0 => Negative correlation<br>  \n",
    "\n",
    "4) Positive correlation =><br>\n",
    "\n",
    "       If x is increasing, y also increases\n",
    "       If x is decreasing, y also decreases\n",
    "\n",
    "5) Negative correlation =><br>\n",
    "   \n",
    "       If x is increasing, y decreases\n",
    "       If x is decreasing, y increases\n",
    "\n",
    "6) It is used in <b>Feature Selection </b>in Machine learning<br>\n",
    "7) Note\n",
    "\n",
    "        corr(x,y) = corr(y,x)\n",
    "        corr(x,x) = corr(y,y) = 1\n",
    "\n",
    "<img src=\"corr1.png\" height=\"400\" width=\"400\">\n",
    "\n",
    "where <br>\n",
    "xi,yi - individual obervation of x and y respectively<br>\n",
    "x_bar,y_bar - sample mean of x and y respectively<br>"
   ]
  },
  {
   "cell_type": "markdown",
   "id": "6ea0b5bb",
   "metadata": {},
   "source": [
    "<img src=\"covariance_graph.png\" height=\"300\" align='left'>\n",
    "<img src=\"corr_graph.png\" height=\"300\" width=\"400\">"
   ]
  },
  {
   "cell_type": "code",
   "execution_count": 1,
   "id": "22457bb2",
   "metadata": {},
   "outputs": [],
   "source": [
    "import numpy as np\n",
    "import statistics as st"
   ]
  },
  {
   "cell_type": "code",
   "execution_count": 2,
   "id": "5b107969",
   "metadata": {},
   "outputs": [
    {
     "name": "stdout",
     "output_type": "stream",
     "text": [
      "5 5\n"
     ]
    }
   ],
   "source": [
    "x = [2,4,7,9,11]       #\n",
    "y = [3,8,10,15,23]\n",
    "print(len(x),len(y))"
   ]
  },
  {
   "cell_type": "code",
   "execution_count": 3,
   "id": "ad416bac",
   "metadata": {},
   "outputs": [
    {
     "name": "stdout",
     "output_type": "stream",
     "text": [
      "x_mean 6.6\n",
      "y_mean 11.8\n",
      "S1 [-4.6, -2.5999999999999996, 0.40000000000000036, 2.4000000000000004, 4.4]\n",
      "S2 [-8.8, -3.8000000000000007, -1.8000000000000007, 3.1999999999999993, 11.2]\n",
      "prod_s1s2 [40.48, 9.88, -0.720000000000001, 7.68, 49.28]\n",
      "Pop_cov 21.32\n",
      "Samp_cov 26.65\n"
     ]
    }
   ],
   "source": [
    "def covariance(x,y):\n",
    "    xm,ym = sum(x)/len(x), sum(y)/len(y)\n",
    "    print('x_mean',xm)\n",
    "    print('y_mean',ym)\n",
    "    s1 = [(i-xm) for i in x]\n",
    "    s2 = [(i-ym) for i in y]\n",
    "    print('S1',s1)\n",
    "    print('S2',s2)\n",
    "#     prod_s1s2 = [s1[i]*s2[j] for i in range(len(s1)) for j in range(len(s2)) if i==j]\n",
    "    prod_s1s2 = [s1[i]*s2[i] for i in range(len(s1))]\n",
    "    print('prod_s1s2',prod_s1s2)\n",
    "    numerator = sum(prod_s1s2)\n",
    "    pop_cov =  numerator/len(x)\n",
    "    samp_cov =  numerator/(len(x)-1)\n",
    "    print('Pop_cov',pop_cov)\n",
    "    print('Samp_cov',samp_cov)\n",
    "    \n",
    "covariance(x,y)"
   ]
  },
  {
   "cell_type": "code",
   "execution_count": 11,
   "id": "74034fec",
   "metadata": {},
   "outputs": [
    {
     "name": "stdout",
     "output_type": "stream",
     "text": [
      "Samp_cov 13.3\n",
      "Samp_cov 26.65\n",
      "Samp_cov 26.65\n",
      "Samp_cov 57.7\n"
     ]
    }
   ],
   "source": [
    "def cov2(x,y):\n",
    "    xm,ym = sum(x)/len(x), sum(y)/len(y)\n",
    "    s = 0\n",
    "    for i in range(len(x)):\n",
    "        s += (x[i]-xm)*(y[i]-ym)\n",
    "    pop_cov = s/len(x)\n",
    "    samp_cov = s/(len(x)-1)\n",
    "#     print('Pop_cov',pop_cov)\n",
    "    print('Samp_cov',samp_cov)\n",
    "\n",
    "cov2(x,x)\n",
    "cov2(x,y)\n",
    "cov2(y,x)\n",
    "cov2(y,y)"
   ]
  },
  {
   "cell_type": "code",
   "execution_count": 9,
   "id": "70498f03",
   "metadata": {},
   "outputs": [
    {
     "name": "stdout",
     "output_type": "stream",
     "text": [
      "[[13.3  26.65]\n",
      " [26.65 57.7 ]]\n"
     ]
    }
   ],
   "source": [
    "cov_xy = np.cov(x,y)\n",
    "print(cov_xy)\n",
    "# [cov(x,x) cov(x,y)]\n",
    "# [cov(y,x)  cov(y,y)]"
   ]
  },
  {
   "cell_type": "code",
   "execution_count": 15,
   "id": "d2c6ae07",
   "metadata": {},
   "outputs": [
    {
     "name": "stdout",
     "output_type": "stream",
     "text": [
      "Correlation 1.0\n",
      "Correlation 0.9620186385047775\n",
      "Correlation 0.9620186385047775\n",
      "Correlation 1.0\n"
     ]
    }
   ],
   "source": [
    "def corr1(x,y):\n",
    "    xm,ym = sum(x)/len(x), sum(y)/len(y)\n",
    "    s = 0\n",
    "    for i in range(len(x)):\n",
    "        s += (x[i]-xm)*(y[i]-ym)\n",
    "    r1 = [(i-xm)**2 for i in x]\n",
    "    r2 = [(i-ym)**2 for i in y]\n",
    "    den = np.sqrt(sum(r1)*sum(r2))\n",
    "    corr = s/den\n",
    "    print('Correlation',corr)\n",
    "    \n",
    "corr1(x,x)\n",
    "corr1(x,y)\n",
    "corr1(y,x)\n",
    "corr1(y,y)"
   ]
  },
  {
   "cell_type": "code",
   "execution_count": 17,
   "id": "e450a574",
   "metadata": {},
   "outputs": [
    {
     "name": "stdout",
     "output_type": "stream",
     "text": [
      "[[1.         0.96201864]\n",
      " [0.96201864 1.        ]]\n"
     ]
    }
   ],
   "source": [
    "corr = np.corrcoef(x,y)\n",
    "print(corr)\n",
    "# [corr(x,x) corr(x,y)]\n",
    "# [coor(y,x) corr(y,y)]"
   ]
  },
  {
   "cell_type": "markdown",
   "id": "ce6999a9",
   "metadata": {},
   "source": [
    "#### Cases"
   ]
  },
  {
   "cell_type": "markdown",
   "id": "6554d711",
   "metadata": {},
   "source": [
    "#### Ex1 - x is increasing, y is increasing"
   ]
  },
  {
   "cell_type": "code",
   "execution_count": 23,
   "id": "67ffac13",
   "metadata": {},
   "outputs": [
    {
     "name": "stdout",
     "output_type": "stream",
     "text": [
      "[2, 4, 7, 9, 11]\n",
      "[3, 8, 10, 15, 23]\n",
      "[[13.3  26.65]\n",
      " [26.65 57.7 ]]\n",
      "[[1.         0.96201864]\n",
      " [0.96201864 1.        ]]\n"
     ]
    }
   ],
   "source": [
    "x = [2,4,7,9,11]       \n",
    "y = [3,8,10,15,23]\n",
    "print(x)\n",
    "print(y)\n",
    "print(np.cov(x,y))\n",
    "print(np.corrcoef(x,y))"
   ]
  },
  {
   "cell_type": "markdown",
   "id": "bc163544",
   "metadata": {},
   "source": [
    "#### Ex2 - x is decreasing, y is decreasing"
   ]
  },
  {
   "cell_type": "code",
   "execution_count": 22,
   "id": "b8a1bfab",
   "metadata": {},
   "outputs": [
    {
     "name": "stdout",
     "output_type": "stream",
     "text": [
      "[11, 9, 7, 4, 2]\n",
      "[23, 15, 10, 8, 3]\n",
      "[[13.3  26.65]\n",
      " [26.65 57.7 ]]\n",
      "[[1.         0.96201864]\n",
      " [0.96201864 1.        ]]\n"
     ]
    }
   ],
   "source": [
    "x = x[::-1]    # x = [11, 9, 7, 4, 2] \n",
    "y = y[::-1]    # y = [23, 15, 10, 8, 3]\n",
    "print(x)\n",
    "print(y)\n",
    "print(np.cov(x,y))\n",
    "print(np.corrcoef(x,y))"
   ]
  },
  {
   "cell_type": "markdown",
   "id": "01a14148",
   "metadata": {},
   "source": [
    "#### Ex3 - x is increasing, y is decreasing"
   ]
  },
  {
   "cell_type": "code",
   "execution_count": 27,
   "id": "25349d99",
   "metadata": {},
   "outputs": [
    {
     "name": "stdout",
     "output_type": "stream",
     "text": [
      "[2, 4, 7, 9, 11]\n",
      "[23, 15, 10, 8, 3]\n",
      "[[ 13.3 -27.1]\n",
      " [-27.1  57.7]]\n",
      "[[ 1.         -0.97826286]\n",
      " [-0.97826286  1.        ]]\n"
     ]
    }
   ],
   "source": [
    "x = [2,4,7,9,11]       \n",
    "y = [23,15,10,8,3]\n",
    "print(x)\n",
    "print(y)\n",
    "print(np.cov(x,y))\n",
    "print(np.corrcoef(x,y))"
   ]
  },
  {
   "cell_type": "markdown",
   "id": "6c41e329",
   "metadata": {},
   "source": [
    "#### Ex4 - x is decreasing, y is increasing"
   ]
  },
  {
   "cell_type": "code",
   "execution_count": 26,
   "id": "f16d485a",
   "metadata": {},
   "outputs": [
    {
     "name": "stdout",
     "output_type": "stream",
     "text": [
      "[11, 9, 7, 4, 2]\n",
      "[3, 8, 10, 15, 23]\n",
      "[[ 13.3 -27.1]\n",
      " [-27.1  57.7]]\n",
      "[[ 1.         -0.97826286]\n",
      " [-0.97826286  1.        ]]\n"
     ]
    }
   ],
   "source": [
    "x = [11,9,7,4,2]       \n",
    "y = [3,8,10,15,23]\n",
    "print(x)\n",
    "print(y)\n",
    "print(np.cov(x,y))\n",
    "print(np.corrcoef(x,y))"
   ]
  },
  {
   "cell_type": "markdown",
   "id": "5437db5d",
   "metadata": {},
   "source": [
    "#### Ex5  - cov and corr between x and -x, or y and -y"
   ]
  },
  {
   "cell_type": "code",
   "execution_count": 29,
   "id": "f7f3a9c2",
   "metadata": {},
   "outputs": [
    {
     "name": "stdout",
     "output_type": "stream",
     "text": [
      "[[ 10. -10.]\n",
      " [-10.  10.]]\n",
      "[[ 1. -1.]\n",
      " [-1.  1.]]\n"
     ]
    }
   ],
   "source": [
    "x = [2,4,6,8,10]\n",
    "y = [-2,-4,-6,-8,-10]\n",
    "print(np.cov(x,y))\n",
    "print(np.corrcoef(x,y))"
   ]
  },
  {
   "cell_type": "markdown",
   "id": "899de345",
   "metadata": {},
   "source": [
    "#### Ex6 "
   ]
  },
  {
   "cell_type": "code",
   "execution_count": 32,
   "id": "6dab059b",
   "metadata": {},
   "outputs": [
    {
     "name": "stdout",
     "output_type": "stream",
     "text": [
      "[[10. 20.]\n",
      " [20. 40.]]\n",
      "[[1. 1.]\n",
      " [1. 1.]]\n"
     ]
    }
   ],
   "source": [
    "x = [2,4,6,8,10]\n",
    "y = [4,8,12,16,20]\n",
    "print(np.cov(x,y))\n",
    "print(np.corrcoef(x,y))"
   ]
  },
  {
   "cell_type": "markdown",
   "id": "c6d915f1",
   "metadata": {},
   "source": [
    "#### Ex7 - Not strictly increasing/decreasing"
   ]
  },
  {
   "cell_type": "code",
   "execution_count": 33,
   "id": "b79c6fd7",
   "metadata": {},
   "outputs": [
    {
     "name": "stdout",
     "output_type": "stream",
     "text": [
      "[[77.2 20.9]\n",
      " [20.9 11.3]]\n",
      "[[1.         0.70761725]\n",
      " [0.70761725 1.        ]]\n"
     ]
    }
   ],
   "source": [
    "x = [3,5,9,14,25]  # x is strictly increasing\n",
    "y = [2,7,4,10,9]   # x is not strictly increasing\n",
    "print(np.cov(x,y))\n",
    "print(np.corrcoef(x,y))"
   ]
  },
  {
   "cell_type": "code",
   "execution_count": null,
   "id": "6136dc76",
   "metadata": {},
   "outputs": [],
   "source": []
  }
 ],
 "metadata": {
  "kernelspec": {
   "display_name": "Python 3",
   "language": "python",
   "name": "python3"
  },
  "language_info": {
   "codemirror_mode": {
    "name": "ipython",
    "version": 3
   },
   "file_extension": ".py",
   "mimetype": "text/x-python",
   "name": "python",
   "nbconvert_exporter": "python",
   "pygments_lexer": "ipython3",
   "version": "3.8.8"
  }
 },
 "nbformat": 4,
 "nbformat_minor": 5
}
