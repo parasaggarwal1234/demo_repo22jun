{
 "cells": [
  {
   "cell_type": "markdown",
   "id": "f1f1b722",
   "metadata": {},
   "source": [
    "### Deck of Cards\n",
    "1) Contains 52 cards<br>\n",
    "2) 26 cards are Red, 26 cards are black<br>\n",
    "3) 4 Suits- each containing 13 cards - Spades, Clubs,Heart,Diamond<br>\n",
    "4) 4 card each of 2,3,4,5,6,7,8,9,10, A,J,K,Q<br>\n",
    "\n",
    "<img src=\"deck_of_cards1.png\">"
   ]
  },
  {
   "cell_type": "markdown",
   "id": "29ce9bc9",
   "metadata": {},
   "source": [
    "#### Two fair coins are tossed/ a coin is tossed twice\n",
    "Sample Space = {HH,HT,TH,TT}\n",
    "\n",
    "#### Three fair coins are tossed/ a coin is tossed thrice\n",
    "Sample Space = {HHT, HTH, HHH, HTT, THH, THT, TTH, TTT}\n",
    "\n",
    "#### 2 dice are rolled\n",
    "Sample Space = 36 cases \n",
    "<img src=\"2dice_rolled.png\">"
   ]
  },
  {
   "cell_type": "markdown",
   "id": "45031067",
   "metadata": {},
   "source": [
    "#### 3 dice are rolled\n",
    "Sample space has 216 elements"
   ]
  },
  {
   "cell_type": "markdown",
   "id": "ca6978d7",
   "metadata": {},
   "source": [
    "### General Probability Questions\n",
    "\n",
    "1) If a coin is flipped twice. Find probability of<br>\n",
    "a) getting atleast 1 Head<br>\n",
    "b) getting atleast 1 Tail<br>\n",
    "b) getting exactly 1 Head<br>\n",
    "d) getting atmost 1 Tail<br>\n",
    "\n",
    "\n",
    "2) One card is drawn from a well shuffled deck of 52 cards. If each outcome\n",
    "is equally likely, calculate the probability that the card will be\n",
    "(i) a diamond (ii) not an ace\n",
    "(iii) a black card (iv) not a diamond\n",
    "(v) not a black card."
   ]
  },
  {
   "cell_type": "code",
   "execution_count": 1,
   "id": "d2230d1e",
   "metadata": {},
   "outputs": [
    {
     "name": "stdout",
     "output_type": "stream",
     "text": [
      "0.75\n"
     ]
    }
   ],
   "source": [
    "# 1)\n",
    "# iv)\n",
    "# SS = {HH,HT,TH,TT}\n",
    "# atmost 1 => P(0T) + P(1T) = 1/4 + 1/2 = 3/4\n",
    "# total_cases = 4\n",
    "# prob_cases = 3\n",
    "# p_atleast_1H = prob_cases/total_cases\n",
    "# print(p_atleast_1H)"
   ]
  },
  {
   "cell_type": "code",
   "execution_count": null,
   "id": "5c5dcaa7",
   "metadata": {},
   "outputs": [],
   "source": [
    "# 2)\n",
    "One card is drawn from a well shuffled deck of 52 cards. If each outcome\n",
    "is equally likely, calculate the probability that the card will be\n",
    "(i) a diamond (ii) not an ace\n",
    "(iii) a black card (iv) not a diamond\n",
    "(v) not a black card.\n",
    "\n",
    "# i) P(diamond) = 13/52 = 1/4\n",
    "# ii) P(not an ace) = 1 - P(ace) = 1 - (4/52) = 48/52\n",
    "# iii) P(black card) = 26/52 = 1/2\n",
    "# iv) P(not a diamond) =  1 - (13/52) = 3/4\n",
    "# v) P(not black) = 1 - (26/52) = 1/2"
   ]
  },
  {
   "cell_type": "markdown",
   "id": "9dabf621",
   "metadata": {},
   "source": [
    "### Independent Events\n",
    "\n",
    "Two events are said to be independent if the outcome of one event doesnt affect the probability of occurence of another event<br>\n",
    "<b>P(AUB) = P(A) * P(B) => For Independent events </b><br>\n",
    "Examples<br>\n",
    "a) Throwing a dice and flipping a coin<br>\n"
   ]
  },
  {
   "cell_type": "markdown",
   "id": "f39ab7a3",
   "metadata": {},
   "source": [
    "#### Exercise\n",
    "1) What is the probability of getting exactly 2 Heads if a fair coin is flipped twice<br>\n",
    "\n",
    "2) If you roll a dice and flip a coin. Find prob of getting a 4 on the dice and a tail on the coin"
   ]
  },
  {
   "cell_type": "code",
   "execution_count": null,
   "id": "550d284a",
   "metadata": {},
   "outputs": [],
   "source": [
    "#### 1) What is the probability of getting exactly 2 Heads if a fair coin \n",
    "# is flipped twice\n",
    "\n",
    "# Method-1\n",
    "# P(Exactly 2 H) = P(H) * P(H) = (1/2)*(1/2) = 1/4\n",
    "\n",
    "# Method-2\n",
    "# P(exactly 2H)  = 1 - (P(0H) + P(1H))\n",
    "#                = 1 - [(1/4) + (1/2)] = 1-(3/4) = 1/4"
   ]
  },
  {
   "cell_type": "code",
   "execution_count": 2,
   "id": "ea68c9b1",
   "metadata": {},
   "outputs": [],
   "source": [
    "# 2) If you roll a dice and flip a coin. \n",
    "# Find prob of getting a 4 on the dice and a tail on the coin\n",
    "\n",
    "# P(4 on a dice) = 1/6\n",
    "# P(Tail) = 1/2\n",
    "# P(4 U Tail) = P(4 on dice)* P(Tail) = (1/6)* (1/2) = 1/12"
   ]
  },
  {
   "cell_type": "markdown",
   "id": "b88340b2",
   "metadata": {},
   "source": [
    "### Dependent Events\n",
    "Two events are dependent if the outcome of one event affects the probability of occurence of another event<br>\n",
    "<b>P(AUB) = P(A) * P(B after A) => For Dependent events</b><br>\n",
    "Examples<br>\n",
    "a) Picking a red pen after picking up blue pen from a bag containing 5 red and 7 blue pens.\n"
   ]
  },
  {
   "cell_type": "markdown",
   "id": "d42fd598",
   "metadata": {},
   "source": [
    "#### Exercise\n",
    "\n",
    "1)  A box contains 4 brown, 7 green and 5 blue pens. <br>\n",
    "i) If you pick up a pen from the box. Find prob that its color is<br>\n",
    "a) Green   b) Brown   c) Blue<br>\n",
    "ii) If you pick up 2 pens from the box one after another, find the prob that 1st pen is Brown and 2nd is Blue without replacement<br>\n",
    "iii) If you pick up 2 pens from the box one after another, find the prob that 1st pen is Green and 2nd is Brown without replacement<br>\n",
    "\n",
    "2) A vessel contains 4 blue pens, 5 red pens and 11 white pens. If three pens are drawn from the vessel at random, what is the probability that the first pen is red, the second pen is blue, and the third pen is white without replacement?  "
   ]
  },
  {
   "cell_type": "code",
   "execution_count": null,
   "id": "bea2456a",
   "metadata": {},
   "outputs": [],
   "source": [
    "# 1)\n",
    "# ii) P(1st Brown, 2nd Blue) = (4/16)*(5/15) = \n",
    "# iii) P(1st Green,2nd Brwon) = (7/16)*(4/15) = "
   ]
  },
  {
   "cell_type": "code",
   "execution_count": null,
   "id": "616ba5bf",
   "metadata": {},
   "outputs": [],
   "source": [
    "# 2)\n",
    "# P(1st Red,2nd Blue, 3rd White) = (5/20)*(4/19)*(11/18)"
   ]
  },
  {
   "cell_type": "markdown",
   "id": "821f7b6a",
   "metadata": {},
   "source": [
    "### Mutually Exclusive Events\n",
    "Two events are said to be mutually exclusive if they cannot occur at the same time<br>\n",
    "<b>P(AUB) = P(A) + P(B) => For Mutually Exclusive events</b><br>\n",
    "<b>P(AႶB) = 0 (For mutually exclusive events)</b>\n",
    "\n",
    "Examples<br>\n",
    "a) When tossing a coin, the event of getting head and tail at same time are mutually exclusive.<br>\n",
    "b) In a six-sided dice, the events “2” and “5” are mutually exclusive. We cannot get both the events 2 and 5 at the same time when we threw one die.\n"
   ]
  },
  {
   "cell_type": "markdown",
   "id": "9475a120",
   "metadata": {},
   "source": [
    "#### Exercise\n",
    "1) What is the probability of a die showing a number 3 or number 5?<br>\n",
    "\n",
    "2) Three coins are tossed at the same time. We say A as the event of receiving at least 2 heads. Likewise, B denotes the event of getting no heads and C is the event of getting heads on the second coin. Which of these pairs of events are mutually exclusive?<br>\n",
    "\n",
    "3) The likelihood of the 3 teams a, b, c winning a football match are 1/3, 1/5 and 1/9 respectively. Find the probability that<br>\n",
    "a) out of the three teams, either team a or team b will win<br>\n",
    "b) either team a or team b or team c will win<br>\n",
    "c) none of the teams will win the match<br>\n",
    "d) neither team a nor team b will win the match<br>\n",
    "\n",
    "4) Two dice are thrown and the sum of the numbers which come up on the\n",
    "dice is noted. Let us consider the following events associated with this experiment<br>\n",
    "A: ‘the sum is even’.<br>\n",
    "B: ‘the sum is a multiple of 3’.<br>\n",
    "C: ‘the sum is less than 4’.<br>\n",
    "D: ‘the sum is greater than 11’.<br>\n",
    "Which pairs of these events are mutually exclusive?"
   ]
  },
  {
   "cell_type": "code",
   "execution_count": null,
   "id": "4aaa7c07",
   "metadata": {},
   "outputs": [],
   "source": [
    "# 1) What is the probability of a die showing a number 3 or number 5?\n",
    "# P(3 or 5) = P(3) + P(5) = (1/6) + (1/6) = 1/3"
   ]
  },
  {
   "cell_type": "code",
   "execution_count": null,
   "id": "5138b025",
   "metadata": {},
   "outputs": [],
   "source": [
    "# 2) Three coins are tossed at the same time. We say A as the event of \n",
    "# receiving at least 2 heads. Likewise, B denotes the event of getting no \n",
    "# heads and C is the event of getting heads on the second coin. Which of \n",
    "# these pairs of events are mutually exclusive?\n",
    "\n",
    "# Sample space = {HHT, HTH, HHH, HTT, THH, THT, TTH, TTT}\n",
    "# A(at least 2 H)  : {HHT, HTH, HHH,THH}\n",
    "# B(no H)          : {TTT}\n",
    "# C(H on 2nd coin) : {HHT,THT,THH,HHH}\n",
    "\n",
    "# AႶB = 0\n",
    "# AႶC = {HHH,THH,HHT}\n",
    "# BႶC = 0"
   ]
  },
  {
   "cell_type": "code",
   "execution_count": null,
   "id": "7c985536",
   "metadata": {},
   "outputs": [],
   "source": [
    "# 3) The likelihood of the 3 teams a, b, c winning a football match are \n",
    "# 1/3, 1/5 and 1/9 respectively. Find the probability that\n",
    "# a) out of the three teams, either team a or team b will win\n",
    "# b) either team a or team b or team c will win\n",
    "# c) none of the teams will win the match\n",
    "# d) neither team a nor team b will win the match\n",
    "\n",
    "\n",
    "# a) P(a or b) = P(a) + P(b) = (1/3) + (1/5)\n",
    "# b) P(a or b or c) = P(a) + P(b) + P(c) = (1/3) + (1/5) + (1/9)\n",
    "# c) P(none of the team will win) = 1 - [(1/3) + (1/5) + (1/9)]\n",
    "# d) P(neither a nor b wins) = 1 - [(1/3) + (1/5)]"
   ]
  },
  {
   "cell_type": "markdown",
   "id": "32ffa3e7",
   "metadata": {},
   "source": [
    "### Not Mutually Exclusive Events\n",
    "\n",
    "Events whose intersection is not empty<br>\n",
    "<b>P(AUB) = P(A) + P(B) - P(AႶB) => when A and B are not mutually exclusive</b><br>\n",
    "\n",
    "Examples<br>\n",
    "Event of drawing a king or a black colored card from a deck of cards<br>"
   ]
  },
  {
   "cell_type": "markdown",
   "id": "dd424a00",
   "metadata": {},
   "source": [
    "#### Exercise\n",
    "1) What is the probability of getting a diamond or a queen from a well-shuffled deck of 52 cards?\n",
    "\n",
    "2) A lottery box contains 50 lottery tickets numbered 1 to 50. If a lottery ticket is drawn at random, what is the probability that the number drawn is a multiple of 3 or 5?\n",
    "\n",
    "3) From a deck of cards, a card is chosen at random, find probability that it is  Ace or spades\n"
   ]
  },
  {
   "cell_type": "code",
   "execution_count": null,
   "id": "f2092a2e",
   "metadata": {},
   "outputs": [],
   "source": [
    "# 1) What is the probability of getting a diamond or a queen from a \n",
    "# well-shuffled deck of 52 cards?\n",
    "\n",
    "# P(Diamond) = 13/52\n",
    "# P(Queen) = 4/52\n",
    "# P(Diamond Ⴖ Queen) = 1/52\n",
    "\n",
    "# P(Diamond U Queen) = (13/52) + (4/52) - (1/52) = 16/52"
   ]
  },
  {
   "cell_type": "code",
   "execution_count": 3,
   "id": "6563662f",
   "metadata": {},
   "outputs": [],
   "source": [
    "# 2) A lottery box contains 50 lottery tickets numbered 1 to 50. \n",
    "# If a lottery ticket is drawn at random, what is the probability that the \n",
    "# number drawn is a multiple of 3 or 5?\n",
    "\n",
    "# P(multiple of 3) = {3,6,9,12,15,18,21,24,27,30,33,36,39,42,45,48} = 16/50\n",
    "# P(multiple of 5) = {5,10,15,20,25,30,35,40,45,50} = 10/50\n",
    "# P(multiple of 3 Ⴖ multiple of 5) = {15,30,45} = 3/50\n",
    "\n",
    "# P(multiple of 3 U multiple of 5) = (16/50) + (10/50) - (3/50) = (23/50)"
   ]
  },
  {
   "cell_type": "code",
   "execution_count": null,
   "id": "eac8b0bc",
   "metadata": {},
   "outputs": [],
   "source": []
  },
  {
   "cell_type": "markdown",
   "id": "ec2e25e9",
   "metadata": {},
   "source": [
    "### Conditional Probability\n",
    "\n",
    "Example:<br>\n",
    "Three coins are tossed.<br>\n",
    "Event_A : At least 2H appear<br>\n",
    "Event_B : First coin shows T<br>\n",
    "    \n",
    "sample space = {HHT, HTH, HHH, HTT, THH, THT, TTH, TTT}\n",
    "\n",
    "A = {HHH, HHT, HTH, THH}<br>\n",
    "B = {THH, THT, THH, TTT}<br>\n",
    "(A Ⴖ B) = {THH}<br>\n",
    "\n",
    "P(A)  = (1/8) +(1/8) +(1/8) +(1/8) = 1/2<br>\n",
    "P(B) = (1/8) +(1/8) +(1/8) +(1/8) = 1/2<br>\n",
    "P(AႶB) = 1/8<br>\n",
    "\n",
    "P(A|B) = Prob of A given B has occurred<br>\n",
    "<b>P(A|B) = P(AႶB)/P(B)</b> = (1/8)/(1/2) = 1/4\n",
    "\n",
    "    "
   ]
  },
  {
   "cell_type": "markdown",
   "id": "4ff18c73",
   "metadata": {},
   "source": [
    "### Exercise on Conditional Probability\n",
    "\n",
    "1) A family has two children. What is the probability that both the children are\n",
    "boys given that at least one of them is a boy ?\n",
    "\n",
    "2) Ten cards numbered 1 to 10 are placed in a box, mixed up thoroughly and\n",
    "then one card is drawn randomly. If it is known that the number on the drawn card is\n",
    "more than 3, what is the probability that it is an even number?\n",
    "\n",
    "3) A die is thrown three times. Events A and B are defined as below:\n",
    "A : 4 on the third throw\n",
    "B : 6 on the first and 5 on the second throw\n",
    "Find the probability of A given that B has already occurred.\n",
    "\n",
    "4) A die is thrown twice and the sum of the numbers appearing is observed\n",
    "to be 6. What is the conditional probability that the number 4 has appeared at least\n",
    "once?\n",
    "\n",
    "5) An box contains 10 black and 5 white balls. Two balls are drawn from the\n",
    "urn one after the other without replacement. What is the probability that both drawn\n",
    "balls are black?"
   ]
  },
  {
   "cell_type": "code",
   "execution_count": null,
   "id": "1dac4741",
   "metadata": {},
   "outputs": [],
   "source": [
    "# 1) \n",
    "# 1) A family has two children. What is the probability that both the children \n",
    "# are boys given that at least one of them is a boy ?\n",
    "\n",
    "# SS = {(BB),(BG),(GB),(GG)}\n",
    "# A(Both are boys) = {(BB)} => P(A) = 1/4\n",
    "# B(atleast 1 child is a boy) = {(BG),(GB),(BB)} => P(B) = (3/4)\n",
    "# (AႶB) = {(BB)} => P(AႶB) = 1/4\n",
    "\n",
    "# P(A|B) = P(AႶB)/P(B) = (1/4)/(3/4) = 1/3\n",
    "\n"
   ]
  },
  {
   "cell_type": "code",
   "execution_count": null,
   "id": "6159ae3a",
   "metadata": {},
   "outputs": [],
   "source": [
    "# 2) Ten cards numbered 1 to 10 are placed in a box, mixed up thoroughly \n",
    "# and then one card is drawn randomly. If it is known that the number on\n",
    "# the drawn card is more than 3, what is the probability that it is an \n",
    "# even number?\n",
    "\n",
    "# A (more than 3) = {4,5,6,7,8,9,10} => P(A) = 7/10\n",
    "# B (even number) = {2,4,6,8,10} => P(B) = 5/10\n",
    "# (AႶB) = (BႶA)   = {4,6,8,10} => P(AႶB) = 4/10\n",
    "# P(B|A)           = P(BႶA)/P(A) = (4/10)/(7/10) = 4/7"
   ]
  },
  {
   "cell_type": "markdown",
   "id": "3c9efda1",
   "metadata": {},
   "source": [
    "### Bayes Theorem\n",
    "\n",
    "<!-- <img src=\"bayes_theorem.jpg\" width=\"500\" height=\"400\"> -->"
   ]
  },
  {
   "cell_type": "markdown",
   "id": "9670dc46",
   "metadata": {},
   "source": [
    "### Exercise of Bayes Theorem\n",
    "1) Bag I contains 3 red and 4 black balls while another Bag II contains 5 red\n",
    "and 6 black balls. One ball is drawn at random from one of the bags and it is found to\n",
    "be red. Find the probability that it was drawn from Bag II.\n",
    "\n",
    "2) Given three identical boxes I, II and III, each containing two coins. In\n",
    "box I, both coins are gold coins, in box II, both are silver coins and in the box III, there\n",
    "is one gold and one silver coin. A person chooses a box at random and takes out a coin.\n",
    "If the coin is of gold, what is the probability that the other coin in the box is also of gold?\n",
    "\n",
    "3) In a factory which manufactures bolts, machines A, B and C manufacture\n",
    "respectively 25%, 35% and 40% of the bolts. Of their outputs, 5, 4 and 2 percent are\n",
    "respectively defective bolts. A bolt is drawn at random from the product and is found\n",
    "to be defective. What is the probability that it is manufactured by the machine B?\n",
    "\n",
    "4) A doctor is to visit a patient. From the past experience, it is known that\n",
    "the probabilities that he will come by train, bus, scooter or by other means of transport\n",
    "are respectively 3/10, 1/5, 1/10,2/5 respectively. The probabilities that he will be late are\n",
    "1/4, 3/12 1/12 if he comes by train, bus and scooter respectively, but if he comes by other means of\n",
    "transport, then he will not be late. When he arrives, he is late. What is the probability\n",
    "that he comes by train?\n",
    "\n",
    "5) A man is known to speak truth 3 out of 4 times. He throws a die and\n",
    "reports that it is a six. Find the probability that it is actually a six.\n",
    "\n",
    "6) A bag contains 4 red and 4 black balls, another bag contains 2 red and 6 black\n",
    "balls. One of the two bags is selected at random and a ball is drawn from the bag\n",
    "which is found to be red. Find the probability that the ball is drawn from the\n",
    "first bag."
   ]
  },
  {
   "cell_type": "code",
   "execution_count": 5,
   "id": "22cdca18",
   "metadata": {},
   "outputs": [],
   "source": [
    "# 1)\n",
    "# Bag I contains 3 red and 4 black balls while another Bag II contains 5 red and 6 black balls. \n",
    "# One ball is drawn at random from one of the bags and it is found to be red. \n",
    "# Find the probability that it was drawn from Bag II.\n",
    "\n",
    "# P(B1) = 1/2, P(B2) = 1/2\n",
    "# A = Red ball drawn from one of the bag\n",
    "# P(A|B1) = 3/7, P(A|B2) = 5/11\n",
    "\n",
    "# P(B2|A) = P(B2)*P(A|B2)/(P(B2)*P(A|B2) + P(B2)*P(A|B2))\n",
    "# P(B2|A) = (1/2)*(5/11) /(1/2)*(3/7) + (1/2)*(5/11) = 35/68\n"
   ]
  },
  {
   "cell_type": "code",
   "execution_count": 6,
   "id": "2611a818",
   "metadata": {},
   "outputs": [
    {
     "name": "stdout",
     "output_type": "stream",
     "text": [
      "0.6666666666666666\n"
     ]
    }
   ],
   "source": [
    "# 2) Given three identical boxes I, II and III, each containing two coins. In box I, both coins \n",
    "# are gold coins, in box II, both are silver coins and in the box III, there is one gold and one \n",
    "# silver coin. A person chooses a box at random and takes out a coin. If the coin is of gold,\n",
    "# what is the probability that the other coin in the box is also of gold?\n",
    "\n",
    "# P(B1) = P(B2) = P(B3) = 1/3\n",
    "# B1(both gold), B2(both silver) B3(1 S, 1G)\n",
    "# A = drawing a gold coin\n",
    "# P(A|B1) = 2/2 = 1, P(A|B2) = 0/2 =0, P(A|B3) = 1/2\n",
    "\n",
    "# P(B1|A) =  P(B1)*P(A|B1)/ [P(B1)*P(A|B1) + P(B2)*P(A|B2) + P(B3)*P(A|B3)]\n",
    "#          = 0.6 \n",
    "p_b1,p_b2,p_b3 = 1/3,1/3,1/3\n",
    "p_ab1 = 1\n",
    "p_ab2 = 0\n",
    "p_ab3 = 1/2\n",
    "\n",
    "p_b1a = p_b1*p_ab1 /(p_b1*p_ab1 + p_b2*p_ab2 + p_b3*p_ab3)\n",
    "print(p_b1a)"
   ]
  },
  {
   "cell_type": "code",
   "execution_count": null,
   "id": "6d2ca9f0",
   "metadata": {},
   "outputs": [],
   "source": []
  }
 ],
 "metadata": {
  "kernelspec": {
   "display_name": "Python 3",
   "language": "python",
   "name": "python3"
  },
  "language_info": {
   "codemirror_mode": {
    "name": "ipython",
    "version": 3
   },
   "file_extension": ".py",
   "mimetype": "text/x-python",
   "name": "python",
   "nbconvert_exporter": "python",
   "pygments_lexer": "ipython3",
   "version": "3.8.8"
  }
 },
 "nbformat": 4,
 "nbformat_minor": 5
}
