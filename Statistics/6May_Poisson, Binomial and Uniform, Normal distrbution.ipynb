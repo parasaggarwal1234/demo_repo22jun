{
 "cells": [
  {
   "cell_type": "markdown",
   "id": "d6ee5d08",
   "metadata": {},
   "source": [
    "### Probability Distribution\n",
    "\n",
    "It is a statistical function that describes all the possible values and likelikhoods that a random variable can take within a given range.It is of 2 types<br>\n",
    "1) Discrete probability distribution<br>\n",
    "2) Continuous probability distribution<br>"
   ]
  },
  {
   "cell_type": "markdown",
   "id": "ce80e850",
   "metadata": {},
   "source": [
    "#### Discrete Probability Distribution\n",
    "1) It is probability distrbution for discrete random variables<br>\n",
    "2) PMF(Probaility mass function) is used to represent the probability that a variable takes at a specific value<br>\n",
    "3) The sum of all probabilities is equal to 1<br>"
   ]
  },
  {
   "cell_type": "markdown",
   "id": "504a824e",
   "metadata": {},
   "source": [
    "#### 1) Poisson Distribution\n",
    "A Poisson experiment is an experiment that has the following properties:\n",
    "\n",
    "1) The number of successes in the experiment can be counted.<br>\n",
    "2) The mean number of successes that occurs during a specific interval of time (or space) is known.<br>\n",
    "3) Each outcome is independent.<br>\n",
    "4) The probability that a success will occur is proportional to the size of the interval.<br>\n",
    "\n",
    "<img src=\"poisson3.png\" height=\"400\" width=\"500\" align=\"left\">"
   ]
  },
  {
   "cell_type": "markdown",
   "id": "ff555a18",
   "metadata": {},
   "source": [
    "### Properties of Poisson Distribution\n",
    "\n",
    "1) The mean of the distribution is λ.<br>\n",
    "2) The variance of the distribution is also λ.<br>\n",
    "3) The standard deviation of the distribution is √λ.<br>\n",
    "\n",
    "For example, suppose a hospital experiences an average of 2 births per hour.<br>\n",
    "The mean number of births we would expect in a given hour is λ = 2 births.<br>\n",
    "The variance in the number of births we would expect is λ = 2 births."
   ]
  },
  {
   "cell_type": "markdown",
   "id": "5239672f",
   "metadata": {},
   "source": [
    "#### Example\n",
    "<b>Number of births per hour at a given hospital</b>\n",
    "\n",
    "1) Suppose a particular hospital experiences an average of 10 births per hour. This is a Poisson experiment because it has the following four properties.<br>\n",
    "2) The number of successes in the experiment can be counted – We can count the number of births.<br>\n",
    "3) The mean number of successes that occurs during a specific interval of time is known – It is known that an average of 10 births per hour occur.<br>\n",
    "4) Each outcome is independent – The probability that one mother gives birth during a given hour is independent of the probability of another mother giving birth.<br>\n",
    "5) The probability that a success will occur is proportional to the size of the interval – the longer the interval of time, the higher the probability that a birth will occur.<br>\n",
    "\n"
   ]
  },
  {
   "cell_type": "markdown",
   "id": "16350f28",
   "metadata": {},
   "source": [
    "Q) Assume that a particular hospital experiences an average of 2 births then determine the probability of experiencing <br>\n",
    "a) 0   b) 1   c) 2   d)3 births  in a given hour"
   ]
  },
  {
   "cell_type": "code",
   "execution_count": 6,
   "id": "dc3677a7",
   "metadata": {},
   "outputs": [],
   "source": [
    "from math import factorial as f\n",
    "import numpy as np\n",
    "from scipy.stats import poisson\n",
    "import matplotlib.pyplot as plt"
   ]
  },
  {
   "cell_type": "code",
   "execution_count": 12,
   "id": "0bd06f62",
   "metadata": {},
   "outputs": [
    {
     "name": "stdout",
     "output_type": "stream",
     "text": [
      "0.1353352832366127\n",
      "0.1353352832366127\n"
     ]
    }
   ],
   "source": [
    "# i) P(X=0) = λ^(k) * e^(–λ)/ k!\n",
    "k = 0\n",
    "λ = 2\n",
    "p_x0 = (λ**k) * np.exp(-λ)/f(k)\n",
    "print(p_x0)\n",
    "print(poisson.pmf(k=0, mu=2))  "
   ]
  },
  {
   "cell_type": "code",
   "execution_count": 15,
   "id": "22b0e5c1",
   "metadata": {},
   "outputs": [
    {
     "name": "stdout",
     "output_type": "stream",
     "text": [
      "0.2706705664732254\n",
      "0.2706705664732254\n"
     ]
    }
   ],
   "source": [
    "# ii) P(X=1) = λk * e– λ / k!\n",
    "k = 1\n",
    "λ = 2\n",
    "p_x1 = (λ**k) * np.exp(-λ)/f(k)\n",
    "print(p_x1)\n",
    "print(poisson.pmf(k=1, mu=2))"
   ]
  },
  {
   "cell_type": "code",
   "execution_count": 20,
   "id": "b056ccc7",
   "metadata": {},
   "outputs": [
    {
     "name": "stdout",
     "output_type": "stream",
     "text": [
      "0.2706705664732254\n",
      "0.2706705664732254\n"
     ]
    }
   ],
   "source": [
    "# ii) P(X=2) = λk * e– λ / k!\n",
    "k = 2\n",
    "λ = 2\n",
    "p_x1 = (λ**k) * np.exp(-λ)/f(k)\n",
    "print(p_x1)\n",
    "print(poisson.pmf(k=2, mu=2))"
   ]
  },
  {
   "cell_type": "code",
   "execution_count": 19,
   "id": "11a529b7",
   "metadata": {},
   "outputs": [
    {
     "name": "stdout",
     "output_type": "stream",
     "text": [
      "0.1804470443154836\n",
      "0.18044704431548356\n"
     ]
    }
   ],
   "source": [
    "# iii) P(X=3) = λk * e– λ / k!\n",
    "k = 3\n",
    "λ = 2\n",
    "p_x1 = (λ**k) * np.exp(-λ)/f(k)\n",
    "print(p_x1)\n",
    "print(poisson.pmf(k=3, mu=2))"
   ]
  },
  {
   "cell_type": "markdown",
   "id": "1ae887ae",
   "metadata": {},
   "source": [
    "#### Cumulative Poisson Probabilities\n",
    "Example<br>\n",
    "P(X≤0) = P(X=0) = 0.1353<br>\n",
    "P(X≤1) = P(X=0) + P(X=1) = 0.1353 + 0.2707 = 0.406<br>\n",
    "P(X≤2) = P(X=0) + P(X=1) + P(X=2) =0.1353 + 0.2707 + 0.2707 = 0.6767<br>"
   ]
  },
  {
   "cell_type": "code",
   "execution_count": 21,
   "id": "c063b436",
   "metadata": {},
   "outputs": [
    {
     "name": "stdout",
     "output_type": "stream",
     "text": [
      "0.1353352832366127\n",
      "0.40600584970983794\n",
      "0.6766764161830634\n"
     ]
    }
   ],
   "source": [
    "# \n",
    "λ = 2\n",
    "# P(X≤0)\n",
    "print(poisson.cdf(k=0, mu=2)) # P(X=0)\n",
    "# P(X≤1)\n",
    "print(poisson.cdf(k=1, mu=2)) # P(X=0) + P(X=1)\n",
    "# P(X≤2)\n",
    "print(poisson.cdf(k=2, mu=2)) # P(X=0) + P(X=1) + P(X=2)"
   ]
  },
  {
   "cell_type": "markdown",
   "id": "c4533806",
   "metadata": {},
   "source": [
    "#### Exercise on Poisson Distribution\n",
    "1) A store sells 3 apples per day on average. What is the probability that they will sell 5 apples on a given day<br>\n",
    "2) A certain store sells seven footballs per day on average. What is the probability that this store sells four or less footballs in a given day?<br>\n",
    "3) A certain store sells 15 cans of tuna per day on average. What is the probability that this store sells more than 20 cans of tuna in a given day?<br>\n",
    "4) It is known that a certain website makes 10 sales per hour. In a given hour, what is the probability that the site makes exactly 8 sales?<br>\n",
    "5)  It is known that a certain realtor makes an average of 5 sales per month. In a given month, what is the probability that she makes more than 7 sales?<br>\n",
    "6) It is known that a certain hospital experience 4 births per hour. In a given hour, what is the probability that 4 or less births occur?<br>\n"
   ]
  },
  {
   "cell_type": "code",
   "execution_count": 25,
   "id": "387d5852",
   "metadata": {},
   "outputs": [
    {
     "name": "stdout",
     "output_type": "stream",
     "text": [
      "0.10081881344492458\n",
      "0.10081881344492448\n"
     ]
    }
   ],
   "source": [
    "# 1) A store sells 3 apples per day on average.\n",
    "# What is the probability that they will sell 5 apples on a given day\n",
    "k = 5\n",
    "l = 3\n",
    "print(poisson.pmf(k=5,mu=3))\n",
    "p = (l**k) * np.exp(-l)/f(k)\n",
    "print(p)"
   ]
  },
  {
   "cell_type": "code",
   "execution_count": 24,
   "id": "4154c93c",
   "metadata": {},
   "outputs": [
    {
     "name": "stdout",
     "output_type": "stream",
     "text": [
      "0.17299160788207146\n"
     ]
    }
   ],
   "source": [
    "# 2) A certain store sells seven footballs per day on average. What is the probability \n",
    "# that this store sells four or less footballs in a given day?\n",
    "l = 7\n",
    "k = 4\n",
    "print(poisson.cdf(k=4,mu=l))"
   ]
  },
  {
   "cell_type": "code",
   "execution_count": 26,
   "id": "088f4502",
   "metadata": {},
   "outputs": [
    {
     "name": "stdout",
     "output_type": "stream",
     "text": [
      "0.08297091003146029\n"
     ]
    }
   ],
   "source": [
    "# 3) \n",
    "k = 20\n",
    "l = 15\n",
    "print(1-poisson.cdf(k=20,mu=l))"
   ]
  },
  {
   "cell_type": "code",
   "execution_count": null,
   "id": "7e40b4ab",
   "metadata": {},
   "outputs": [],
   "source": []
  },
  {
   "cell_type": "markdown",
   "id": "e3216c43",
   "metadata": {},
   "source": [
    "#### 2) Binomial Distribution\n",
    "A binomial experiment is an experiment that has the following properties:\n",
    "\n",
    "1) The experiment consists of n repeated trials.<br>\n",
    "2) Each trial has only two possible outcomes.<br>\n",
    "3) The probability of success, denoted p, is the same for each trial.<br>\n",
    "4) Each trial is independent.\n",
    "\n",
    "It describes the probability of obtaining k successes in n binomial experiments.\n",
    "<img src=\"binomial1.png\" height=\"400\" width=\"450\" align=\"left\">"
   ]
  },
  {
   "cell_type": "markdown",
   "id": "b88c0e8d",
   "metadata": {},
   "source": [
    "#### Properties of Binomial Distribution\n",
    "    \n",
    "1) Mean = np<br>\n",
    "2) Variance = npq<br>\n",
    " where q = 1-p"
   ]
  },
  {
   "cell_type": "markdown",
   "id": "247db917",
   "metadata": {},
   "source": [
    "#### Example\n",
    "Suppose we flip a coin 10 times. This is a binomial experiment because it has the following four properties:\n",
    "\n",
    "1) The experiment consists of n repeated trials – There are 10 trials.<br>\n",
    "2) Each trial has only two possible outcomes – heads or tails.<br>\n",
    "3) The probability of success, denoted p, is the same for each trial – If we define “success” as landing on heads, then the probability of success is exactly 0.5 for each trial.<br>\n",
    "4) Each trial is independent – The outcome of one coin flip does not affect the outcome of any other coin flip.<br>"
   ]
  },
  {
   "cell_type": "code",
   "execution_count": 27,
   "id": "b764635b",
   "metadata": {},
   "outputs": [],
   "source": [
    "from scipy.stats import binom\n",
    "import seaborn as sns"
   ]
  },
  {
   "cell_type": "code",
   "execution_count": 32,
   "id": "dc765ca9",
   "metadata": {},
   "outputs": [],
   "source": [
    "from itertools import combinations as cmb\n",
    "from itertools import permutations as pmb"
   ]
  },
  {
   "cell_type": "code",
   "execution_count": 40,
   "id": "739114f0",
   "metadata": {},
   "outputs": [
    {
     "name": "stdout",
     "output_type": "stream",
     "text": [
      "[(1, 2), (1, 3), (1, 4), (1, 5), (2, 1), (2, 3), (2, 4), (2, 5), (3, 1), (3, 2), (3, 4), (3, 5), (4, 1), (4, 2), (4, 3), (4, 5), (5, 1), (5, 2), (5, 3), (5, 4)]\n",
      "20\n"
     ]
    }
   ],
   "source": [
    "data = [1,2,3,4,5]\n",
    "r = pmb(data,2)  # 5P2 \n",
    "res = [i for i in r]\n",
    "print(res)\n",
    "print(len(res))"
   ]
  },
  {
   "cell_type": "code",
   "execution_count": 41,
   "id": "23b0586f",
   "metadata": {},
   "outputs": [
    {
     "name": "stdout",
     "output_type": "stream",
     "text": [
      "[(1, 2), (1, 3), (1, 4), (1, 5), (2, 3), (2, 4), (2, 5), (3, 4), (3, 5), (4, 5)]\n",
      "10\n"
     ]
    }
   ],
   "source": [
    "data = [1,2,3,4,5]\n",
    "r = cmb(data,2)  # 5C2 \n",
    "res = [i for i in r]\n",
    "print(res)\n",
    "print(len(res))"
   ]
  },
  {
   "cell_type": "code",
   "execution_count": 46,
   "id": "53694104",
   "metadata": {},
   "outputs": [
    {
     "name": "stdout",
     "output_type": "stream",
     "text": [
      "66\n",
      "0.06385228185599999\n",
      "0.063852281856\n"
     ]
    }
   ],
   "source": [
    "#### Q1)\n",
    "# Nathan makes 60% of hits in free-throw attempts. If he shoots 12 free throws, what is the probability \n",
    "# that he makes exactly 10?\n",
    "r = list(range(1,13))\n",
    "t = cmb(r,10)\n",
    "res = [i for i in t]\n",
    "print(len(res))\n",
    "\n",
    "p = len(res)*((0.6)**10) * (1-0.6)**(12-10)\n",
    "print(p)\n",
    "print(binom.pmf(k=10, n=12, p=0.6))"
   ]
  },
  {
   "cell_type": "markdown",
   "id": "6d2d3906",
   "metadata": {},
   "source": [
    "#### Exercise\n",
    "\n",
    "1) Marty flips a fair coin 5 times. What is the probability that the coin lands on heads 2 times or fewer?<br>\n",
    "2) It is known that 70% of individuals support a certain law. If 10 individuals are randomly selected, what is the probability that between 4 and 6 of them support the law?<br>\n",
    "3) John flips a fair coin 8 times. What is the probability that the coin lands on heads 5 times or more<br>"
   ]
  },
  {
   "cell_type": "code",
   "execution_count": 47,
   "id": "fd2a9a8f",
   "metadata": {},
   "outputs": [
    {
     "name": "stdout",
     "output_type": "stream",
     "text": [
      "0.5\n"
     ]
    }
   ],
   "source": [
    "# 1)\n",
    "p=0.5\n",
    "print(binom.cdf(k=2, n=5, p=0.5)) # P(X=0) + P(X=1) + P(X=2)"
   ]
  },
  {
   "cell_type": "code",
   "execution_count": 48,
   "id": "cb5be45b",
   "metadata": {},
   "outputs": [
    {
     "name": "stdout",
     "output_type": "stream",
     "text": [
      "0.3030402942\n"
     ]
    }
   ],
   "source": [
    "# 2)\n",
    "c1 = binom.cdf(k=6, n=10, p=0.7) # P(X=0) + P(X=1) + P(X=2) + P(X=3) + P(X=4) + P(X=5) + P(X=6) \n",
    "c2 = binom.cdf(k=4, n=10, p=0.7) # P(X=0) + P(X=1) + P(X=2) + P(X=3)+ +P(X=4)\n",
    "print(c1-c2)"
   ]
  },
  {
   "cell_type": "markdown",
   "id": "83e2286e",
   "metadata": {},
   "source": [
    "#### Continuous Probaibility Distribution\n",
    "\n",
    "1) It is probaility ditribution for Continuous Random Variable<br>\n",
    "2) It is defined by PDF(Probaility Density Function)<br>\n",
    "3) Probnaility is given by area under pdf on a specified range<br>\n",
    "4) Total area under curve is always 1<br>"
   ]
  },
  {
   "cell_type": "markdown",
   "id": "be894ecc",
   "metadata": {},
   "source": [
    "#### 1) Continuous Uniform Distribution\n",
    "The uniform distribution is a probability distribution in which every value between an interval from a to b is equally likely to occur.\n",
    "\n",
    "If a random variable X follows a uniform distribution, then the probability that X takes on a value between x1 and x2 can be found by the following formula:\n",
    "\n",
    "#### P(x1 < X < x2) = (x2 – x1) / (b – a)\n",
    "\n",
    "where:\n",
    "    \n",
    "    x1: the lower value of interest\n",
    "    x2: the upper value of interest\n",
    "    a: the minimum possible value\n",
    "    b: the maximum possible value\n",
    "\n",
    "\n",
    "The uniform distribution has the following properties:\n",
    "\n",
    "1) Mean: (a + b) / 2<br>\n",
    "2) Median: (a + b) / 2<br>\n",
    "3) Variance: (b – a)^2/ 12<br>\n",
    "4) Standard Deviation: √(b – a)^2/ 12<br>\n",
    "\n"
   ]
  },
  {
   "cell_type": "markdown",
   "id": "aa9c42d0",
   "metadata": {},
   "source": [
    "#### Example\n",
    "Suppose the weight of dolphins is uniformly distributed between 100 pounds and 150 pounds.\n",
    "\n",
    "If we randomly select a dolphin at random, we can use the formula above to determine \n",
    "the probability that the chosen dolphin will weigh between 120 and 130 pounds:\n",
    "\n",
    "P(120 < X < 130) = (130 – 120) / (150 – 100) = 10/50 = 0.2\n",
    "\n",
    "Mean weight: (a + b) / 2 = (150 + 100) / 2 = 125<br>\n",
    "Median weight: (a + b) / 2 = (150 + 100) / 2 = 125<br>\n",
    "Standard Deviation of weight: √(150 – 100)2 / 12 = 14.43<br>\n",
    "Variance of weight: (150 – 100)2 / 12 = 208.33\n"
   ]
  },
  {
   "cell_type": "markdown",
   "id": "e1fe621f",
   "metadata": {},
   "source": [
    "#### 2) Normal Distribution\n",
    "PDF of a normal distribution is given by<br>\n",
    "<img src=\"norm_dist.png\" height=\"250\" width=\"300\" align=\"left\">\n",
    "<img src=\"norm_dist1.png\" height=\"350\" width=\"400\">"
   ]
  },
  {
   "cell_type": "markdown",
   "id": "49df480a",
   "metadata": {},
   "source": [
    "#### Characteristics of a Normal Distribution\n",
    "\n",
    "1) The normal distribution curve is symmetric about its mean.<br>\n",
    "2) The Normal distribution curve is unimodal (contains a single mode)<br>\n",
    "3) The parameters µ(mean), σ(std_Dev) completely characterize the normal distribution<br>\n",
    "4) The mean, median and mode of the distribution coincide.<br>\n",
    "5) The area under curve is 1<br>\n",
    "6) Exactly half of the values are to the left of the center and the other half to the right.\n",
    "\n",
    "\n",
    "#### Properties of Normal Distribution\n",
    "1) Mean  = µ<br>\n",
    "2) Variance = σ^2<br>\n",
    "3) Stdev = σ<br>"
   ]
  },
  {
   "cell_type": "markdown",
   "id": "0ba0a06c",
   "metadata": {},
   "source": [
    "#### Standard Normal Distribution\n",
    "1) Is is defined as a normal distribution with mean=0 and std_dev=1.\n",
    "<img src=\"norm_dist2.png\" align=\"left\" width=\"400\">"
   ]
  },
  {
   "cell_type": "markdown",
   "id": "504813b8",
   "metadata": {},
   "source": [
    "### 68-95-99% Rule\n",
    "\n",
    "1) Approximately 68.26% of the data lie within one standard deviation of the mean, that is, in the interval with μ±σ for populations; if a data set has an approximately bell-shaped relative frequency histogram<br>\n",
    "2) Approximately 95.44% of the data lie within two standard deviations of the mean, that is, in the interval with endpoints μ±2σ for populations. <br>\n",
    "3) Approximately 99.72% of the data lies within three standard deviations of the mean, that is, in the interval with endpoints μ±3σ for populations.\n",
    "<img src=\"norm_dist4.png\" width=\"400\">"
   ]
  },
  {
   "cell_type": "markdown",
   "id": "d69b054f",
   "metadata": {},
   "source": [
    "<img src=\"norm_dist_examples.png\" align=\"left\" height=\"400\" width=\"600\">"
   ]
  },
  {
   "cell_type": "code",
   "execution_count": null,
   "id": "78e0d154",
   "metadata": {},
   "outputs": [],
   "source": []
  },
  {
   "cell_type": "markdown",
   "id": "f4d2a6a6",
   "metadata": {},
   "source": [
    "#### Z-Score\n",
    "1) z-score (also called a standard score) gives you an idea of how far from the mean a data point is. <br>\n",
    "2) But more technically it’s a measure of how many standard deviations below or above the population mean a raw score is. <br>\n",
    "3) A z-score can be placed on a normal distribution curve. Z-scores range from -3 standard deviations (which would fall to the far left of the normal distribution curve) up to +3 standard deviations (which would fall to the far right of the normal distribution curve).\n",
    "\n",
    "\n",
    "<b>z-score = (x – μ) / σ<b>\n",
    "\n",
    "where:\n",
    "\n",
    "    x: individual data value\n",
    "    μ: population mean\n",
    "    σ: population standard deviation\n"
   ]
  },
  {
   "cell_type": "markdown",
   "id": "205e31d2",
   "metadata": {},
   "source": [
    "#### Z-table\n",
    "\n",
    "1) A z-table, also called the standard normal table, is a mathematical table that allows us to know the percentage of values below (to the left) a z-score in a standard normal distribution (SND).<br>\n",
    "2) A z-score table shows the percentage of values (usually a decimal figure) to the left of a given z-score on a standard normal distribution.<br>\n",
    "\n",
    "\n",
    "#### How to use a z-table to find the area to the left of a positive z-score\n",
    "3) If Z-score value is 1.09, The corresponding area is 0.8621 which translates into 86.21% of the standard normal distribution being below (or to the left) of the z-score.\n",
    "\n",
    "<img src=\"norm_dist5.jpg\" width=\"300\" height=\"250\" align=\"left\">\n",
    "\n",
    "\n",
    "#### How do you find the area to the right of a positive z-score?\n",
    "To find the area to the right of a positive z-score, begin by reading off the area in the standard normal distribution table.\n",
    "\n",
    "\n",
    "Since the total area under the bell curve is 1 (as a decimal value which is equivalent to 100%), we subtract the area from the table from 1.\n",
    "\n",
    "For example, the area to the left of z = 1.09 is given in the table as .8621. Thus the area to the right of z = 1.09 is 1 - .8621. = .1379."
   ]
  },
  {
   "cell_type": "markdown",
   "id": "55a999e3",
   "metadata": {},
   "source": [
    "#### How do you find the area to the left of a negative z-score?\n",
    "\n",
    "If you have a negative z-score simply use the same table but disregard the negative sign, then subtract the area from the table from 1.\n",
    "\n",
    "#### How to use a z-table to find the area to the right of a negative z-score\n",
    "\n",
    "If you have a negative z-score simply use the same table but disregard the negative sign to find the area above your z-score.\n",
    "\n",
    "#### How do you find the area between two z-scores?\n",
    "To find the area between two negative z scores we must first find the area (proportion of the SND) to the left of the lowest z-score value and the area (proportion of the SND) to the right of the highest z-score value.\n",
    "\n",
    "Next, we must add these proportional values together and subtract them from 1 (the total area of the SND."
   ]
  },
  {
   "cell_type": "markdown",
   "id": "c8ce7aef",
   "metadata": {},
   "source": [
    "#### How to plot nomral distribution?"
   ]
  },
  {
   "cell_type": "code",
   "execution_count": 55,
   "id": "e4365b4d",
   "metadata": {},
   "outputs": [
    {
     "name": "stdout",
     "output_type": "stream",
     "text": [
      "[  1.           3.01010101   5.02020202   7.03030303   9.04040404\n",
      "  11.05050505  13.06060606  15.07070707  17.08080808  19.09090909\n",
      "  21.1010101   23.11111111  25.12121212  27.13131313  29.14141414\n",
      "  31.15151515  33.16161616  35.17171717  37.18181818  39.19191919\n",
      "  41.2020202   43.21212121  45.22222222  47.23232323  49.24242424\n",
      "  51.25252525  53.26262626  55.27272727  57.28282828  59.29292929\n",
      "  61.3030303   63.31313131  65.32323232  67.33333333  69.34343434\n",
      "  71.35353535  73.36363636  75.37373737  77.38383838  79.39393939\n",
      "  81.4040404   83.41414141  85.42424242  87.43434343  89.44444444\n",
      "  91.45454545  93.46464646  95.47474747  97.48484848  99.49494949\n",
      " 101.50505051 103.51515152 105.52525253 107.53535354 109.54545455\n",
      " 111.55555556 113.56565657 115.57575758 117.58585859 119.5959596\n",
      " 121.60606061 123.61616162 125.62626263 127.63636364 129.64646465\n",
      " 131.65656566 133.66666667 135.67676768 137.68686869 139.6969697\n",
      " 141.70707071 143.71717172 145.72727273 147.73737374 149.74747475\n",
      " 151.75757576 153.76767677 155.77777778 157.78787879 159.7979798\n",
      " 161.80808081 163.81818182 165.82828283 167.83838384 169.84848485\n",
      " 171.85858586 173.86868687 175.87878788 177.88888889 179.8989899\n",
      " 181.90909091 183.91919192 185.92929293 187.93939394 189.94949495\n",
      " 191.95959596 193.96969697 195.97979798 197.98989899 200.        ]\n",
      "(100,)\n"
     ]
    }
   ],
   "source": [
    "x = np.linspace(1,200,100)\n",
    "print(x)\n",
    "print(x.shape)"
   ]
  },
  {
   "cell_type": "code",
   "execution_count": 56,
   "id": "08331791",
   "metadata": {},
   "outputs": [
    {
     "data": {
      "image/png": "[encoded data removed]",
      "text/plain": [
       "<Figure size 432x288 with 1 Axes>"
      ]
     },
     "metadata": {
      "needs_background": "light"
     },
     "output_type": "display_data"
    }
   ],
   "source": [
    "def normal_dist(x,mean,sd):\n",
    "    prob_den = np.exp(-0.5*((x-mean)/sd)**2)*1/(sd*np.sqrt(2*np.pi))\n",
    "    return prob_den\n",
    "\n",
    "mean = np.mean(x)\n",
    "std = np.std(x)\n",
    "\n",
    "pdf = normal_dist(x,mean,std)\n",
    "# Vizualization of Normal Distributio \n",
    "plt.plot(x,pdf,color='red')\n",
    "plt.title('Normal Distribution')\n",
    "plt.xlabel('x')\n",
    "plt.ylabel('Prob density')\n",
    "plt.show()"
   ]
  },
  {
   "cell_type": "code",
   "execution_count": 62,
   "id": "bafc37b5",
   "metadata": {},
   "outputs": [],
   "source": [
    "from scipy.stats import norm"
   ]
  },
  {
   "cell_type": "code",
   "execution_count": 63,
   "id": "4a3a0369",
   "metadata": {},
   "outputs": [
    {
     "data": {
      "image/png": "[encoded data removed]",
      "text/plain": [
       "<Figure size 432x288 with 1 Axes>"
      ]
     },
     "metadata": {
      "needs_background": "light"
     },
     "output_type": "display_data"
    }
   ],
   "source": [
    "sns.lineplot(x=x,y=pdf,color='blue')\n",
    "plt.grid()\n",
    "plt.show()"
   ]
  },
  {
   "cell_type": "code",
   "execution_count": 64,
   "id": "0e31f88f",
   "metadata": {},
   "outputs": [
    {
     "name": "stderr",
     "output_type": "stream",
     "text": [
      "C:\\Users\\Dell\\anaconda3\\lib\\site-packages\\seaborn\\_decorators.py:36: FutureWarning: Pass the following variables as keyword args: x, y. From version 0.12, the only valid positional argument will be `data`, and passing other arguments without an explicit keyword will result in an error or misinterpretation.\n",
      "  warnings.warn(\n"
     ]
    },
    {
     "data": {
      "image/png": "[encoded data removed]",
      "text/plain": [
       "<Figure size 432x288 with 1 Axes>"
      ]
     },
     "metadata": {
      "needs_background": "light"
     },
     "output_type": "display_data"
    }
   ],
   "source": [
    "data = np.arange(1,10,0.01)\n",
    "pdf = norm.pdf(data , loc = 5.3 , scale = 1 )\n",
    "  \n",
    "sns.lineplot(data, pdf , color = 'black')\n",
    "plt.ylabel('Probability Density')\n",
    "plt.grid()\n",
    "plt.show()"
   ]
  },
  {
   "cell_type": "code",
   "execution_count": null,
   "id": "16fb86c5",
   "metadata": {},
   "outputs": [],
   "source": []
  },
  {
   "cell_type": "markdown",
   "id": "f08f5f62",
   "metadata": {},
   "source": [
    "### Exercise on Normal Distribution\n",
    "\n",
    "1) Heights of 18-year-old males have a bell-shaped distribution with mean 69.6 inches and standard deviation\n",
    "1.4 inches.<br>\n",
    "a) About what proportion of all such men are between 68.2 and 71inches tall?<br>\n",
    "b) What interval centered on the mean should contain about 95% of all such men?<br>\n",
    "\n",
    "2) Scores on IQ tests have a bell-shaped distribution with mean μ=100 and standard deviation\n",
    "σ=10. What Empirical Rule implies concerning individuals with IQ scores of <br>\n",
    "a) 110<br>\n",
    "b) 120 and<br>\n",
    "c) 70\n",
    "\n",
    "3) Mean weight of 1yr old girls in US is normally distribited with a mean=9.5kg with std=1.1kg. Estimate percentage of 1yr old girs in Us that meet the following conditions.<br>\n",
    "a) Less than 8.4kg<br>\n",
    "b) Between 7.3 and 11.7kg<br>\n",
    "c) More ethan 12.8kg\n",
    "\n",
    "4) For a standrad normal distribution, place the following from smallest to the largest<br>\n",
    "a) Percentage of data below 1<br>\n",
    "b) Percentage of data below -1<br>\n",
    "c) Above Mean<br>\n",
    "d) Percentage of data above 2<br>\n",
    "\n",
    "\n",
    "5) Certain town has mean house price of 180000 with std=2100. Find percentage of following house prices<br>\n",
    "a) Above 175800<br>\n",
    "b) Above 184200<br>\n",
    "c) Below 177900<br>\n",
    "\n",
    "6) X is a normally normally distributed variable with mean μ = 30 and standard deviation σ = 4. Find<br>\n",
    "a) P(x < 40)<br>\n",
    "b) P(x > 21)<br>\n",
    "c) P(30 < x < 35) "
   ]
  },
  {
   "cell_type": "markdown",
   "id": "e51cb9a1",
   "metadata": {},
   "source": [
    "6) X is a normally distributed variable with mean μ = 30 and standard deviation σ = 4. Find<br>\n",
    "a) P(x < 40)<br>\n",
    "b) P(x > 21)<br>\n",
    "c) P(30 < x < 35) "
   ]
  },
  {
   "cell_type": "code",
   "execution_count": 63,
   "id": "5c842c8d",
   "metadata": {},
   "outputs": [],
   "source": [
    "# m,sd = 30,4\n",
    "# a)\n",
    "# z = (40-30)/4 = 2.5\n",
    "# P(x < 40) = P(z < 2.5) = [area to the left of 2.5] = 0.9938\n",
    "# b) \n",
    "# x = 21, z = (21 - 30) / 4 = -2.25\n",
    "# P(x > 21) = P(z > -2.25) = [total area] - [area to the left of -2.25]\n",
    "# = 1 - 0.0122 = 0.9878\n",
    "# c) For x = 30 , z = (30 - 30) / 4 = 0 and for x = 35, z = (35 - 30) / 4 = 1.25\n",
    "# Hence P(30 < x < 35) = P(0 < z < 1.25) = [area to the left of z = 1.25] - [area to the left of 0]\n",
    "# = 0.8944 - 0.5 = 0.3944 "
   ]
  },
  {
   "cell_type": "code",
   "execution_count": 64,
   "id": "425c641f",
   "metadata": {},
   "outputs": [
    {
     "name": "stdout",
     "output_type": "stream",
     "text": [
      "0.9937903346742238\n",
      "0.9877755273449553\n",
      "0.39435022633314465\n"
     ]
    }
   ],
   "source": [
    "prob_a = norm(loc=30,scale=4).cdf(40) # P(X<40)\n",
    "print(prob_a)\n",
    "prob_b = norm(loc=30,scale=4).cdf(21) # P(X>21)\n",
    "print(1-prob_b)\n",
    "prob_c1 = norm(loc=30,scale=4).cdf(30)\n",
    "prob_c2 = norm(loc=30,scale=4).cdf(35)\n",
    "print(prob_c2-prob_c1)"
   ]
  },
  {
   "cell_type": "markdown",
   "id": "bd93561a",
   "metadata": {},
   "source": [
    "7) A radar unit is used to measure speeds of cars on a motorway. The speeds are normally distributed with a mean of 90 km/hr and a standard deviation of 10 km/hr. What is the probability that a car picked at random is travelling at more than 100 km/hr? \n",
    "\n",
    "8) For a certain type of computers, the length of time bewteen charges of the battery is normally distributed with a mean of 50 hours and a standard deviation of 15 hours. John owns one of these computers and wants to know the probability that the length of time will be between 50 and 70 hours.\n",
    "\n",
    "9) Entry to a certain University is determined by a national test. The scores on this test are normally distributed with a mean of 500 and a standard deviation of 100. Tom wants to be admitted to this university and he knows that he must score better than at least 70% of the students who took the test. Tom takes the test and scores 585. Will he be admitted to this university? \n",
    "\n",
    "10) The length of life of an instrument produced by a machine has a normal distribution with a mean of 12 months and standard deviation of 2 months. Find the probability that an instrument produced by this machine will last <br>\n",
    "a) less than 7 months. <br>\n",
    "b) between 7 and 12 months.\n"
   ]
  },
  {
   "cell_type": "code",
   "execution_count": 53,
   "id": "c7b75cd9",
   "metadata": {},
   "outputs": [
    {
     "name": "stdout",
     "output_type": "stream",
     "text": [
      "68.19999999999999 71.0\n",
      "66.8 72.39999999999999\n"
     ]
    }
   ],
   "source": [
    "# 1)\n",
    "# 1) Heights of 18-year-old males have a bell-shaped distribution with mean 69.6 inches \n",
    "# and standard deviation 1.4 inches.\n",
    "# a) About what proportion of all such men are between 68.2 and 71 inches tall?\n",
    "# b) What interval centered on the mean should contain about 95% of all such men?\n",
    "\n",
    "m = 69.6\n",
    "std = 1.4\n",
    "# i)\n",
    "low_val1,high_val1 = m - std,m+std\n",
    "print(low_val1,high_val1)\n",
    "# 68%\n",
    "# ii) \n",
    "int_low,int_high = m-2*std , m+2*std\n",
    "print(int_low,int_high)"
   ]
  },
  {
   "cell_type": "code",
   "execution_count": 55,
   "id": "093d480e",
   "metadata": {},
   "outputs": [
    {
     "name": "stdout",
     "output_type": "stream",
     "text": [
      "90 110\n",
      "80 120\n"
     ]
    }
   ],
   "source": [
    "# 2) Scores on IQ tests have a bell-shaped distribution with mean μ=100 and standard deviation \n",
    "# σ=10. What Empirical Rule implies concerning individuals with IQ scores of\n",
    "# a) 110\n",
    "# b) 120 and\n",
    "# c) 70\n",
    "\n",
    "m,s = 100,10\n",
    "#i)\n",
    "p68_int_low,p68_int_high = 100-10,100+10\n",
    "print(p68_int_low,p68_int_high) # 68%\n",
    "# ii)\n",
    "p95_int_low,p95_int_high = 100-(2*10),100+(2*10)\n",
    "print(p95_int_low,p95_int_high) # 95%"
   ]
  },
  {
   "cell_type": "markdown",
   "id": "ca6ec599",
   "metadata": {},
   "source": [
    "<img src=\"norm_dist4.png\" width=\"500\">"
   ]
  },
  {
   "cell_type": "code",
   "execution_count": 60,
   "id": "e2576cb3",
   "metadata": {},
   "outputs": [
    {
     "name": "stdout",
     "output_type": "stream",
     "text": [
      "8.4 10.6\n",
      "7.3 11.7\n",
      "6.199999999999999 12.8\n"
     ]
    }
   ],
   "source": [
    "# 3)\n",
    "# Mean weight of 1yr old girls in US is normally distribited with a mean=9.5kg with std=1.1kg. \n",
    "# Estimate percentage of 1yr old girs in Us that meet the following conditions.\n",
    "# a) Less than 8.4kg\n",
    "# b) Between 7.3 and 11.7kg\n",
    "# c) More than 12.8kg\n",
    "# d) less than 11.7kg\n",
    "\n",
    "m,s = 9.5,1.1\n",
    "# i)\n",
    "print(m-s,m+s)   # 16% approx\n",
    "# ii)\n",
    "print(m-(2*s),m+(2*s))  # 95%\n",
    "# iii)\n",
    "print(m-(3*s),m+(3*s))  # 0.5% approx"
   ]
  },
  {
   "cell_type": "code",
   "execution_count": null,
   "id": "1f8bf4d4",
   "metadata": {},
   "outputs": [],
   "source": []
  }
 ],
 "metadata": {
  "kernelspec": {
   "display_name": "Python 3",
   "language": "python",
   "name": "python3"
  },
  "language_info": {
   "codemirror_mode": {
    "name": "ipython",
    "version": 3
   },
   "file_extension": ".py",
   "mimetype": "text/x-python",
   "name": "python",
   "nbconvert_exporter": "python",
   "pygments_lexer": "ipython3",
   "version": "3.8.8"
  }
 },
 "nbformat": 4,
 "nbformat_minor": 5
}
