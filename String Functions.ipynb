{
 "cells": [
  {
   "cell_type": "code",
   "execution_count": 8,
   "id": "b52d0c8b",
   "metadata": {},
   "outputs": [
    {
     "name": "stdout",
     "output_type": "stream",
     "text": [
      "Welcome to Python world\n",
      "23\n",
      "W d\n",
      "d W\n"
     ]
    }
   ],
   "source": [
    "s = \"Welcome to Python world\"\n",
    "print(s)\n",
    "print(len(s))\n",
    "print(s[0],s[22])\n",
    "print(s[-1],s[-23])"
   ]
  },
  {
   "cell_type": "code",
   "execution_count": 29,
   "id": "cae33aa8",
   "metadata": {},
   "outputs": [
    {
     "name": "stdout",
     "output_type": "stream",
     "text": [
      "\n",
      "0\n"
     ]
    }
   ],
   "source": [
    "w = \"\" # Null string\n",
    "print(w)\n",
    "print(len(w))"
   ]
  },
  {
   "cell_type": "markdown",
   "id": "2e0659d7",
   "metadata": {},
   "source": [
    "#### Indexing Rules\n",
    "\n",
    "1) From left to right -> String indexes range from 0 to len(str)-1.\n",
    "\n",
    "2) From right to left -> String indexes range from -1 to -len(str)"
   ]
  },
  {
   "cell_type": "markdown",
   "id": "f195d8da",
   "metadata": {},
   "source": [
    "#### 1) upper()\n",
    "upper() - It converts string into upper case"
   ]
  },
  {
   "cell_type": "code",
   "execution_count": 11,
   "id": "da0f5b6d",
   "metadata": {},
   "outputs": [
    {
     "name": "stdout",
     "output_type": "stream",
     "text": [
      "HELLO\n",
      "WELCOME\n",
      "PYTHON 324 #%*\n"
     ]
    }
   ],
   "source": [
    "s1 = \"Hello\"\n",
    "s2 = \"welcome\"\n",
    "s3 = \"Python 324 #%*\"\n",
    "print(s1.upper())\n",
    "print(s2.upper())\n",
    "print(s3.upper())"
   ]
  },
  {
   "cell_type": "markdown",
   "id": "059df0fd",
   "metadata": {},
   "source": [
    "#### 2) lower()\n",
    "It converts the string into lower case"
   ]
  },
  {
   "cell_type": "code",
   "execution_count": 14,
   "id": "84a828dc",
   "metadata": {},
   "outputs": [
    {
     "name": "stdout",
     "output_type": "stream",
     "text": [
      "hello\n",
      "google\n",
      "welcome\n",
      "python 324 #%*\n"
     ]
    }
   ],
   "source": [
    "s1 = \"Hello\"\n",
    "s2 = \"WELCOME\"\n",
    "s3 = \"Python 324 #%*\"\n",
    "print(s1.lower())\n",
    "print(\"Google\".lower())\n",
    "print(s2.lower())\n",
    "print(s3.lower())"
   ]
  },
  {
   "cell_type": "code",
   "execution_count": 16,
   "id": "90a033fe",
   "metadata": {},
   "outputs": [
    {
     "name": "stdout",
     "output_type": "stream",
     "text": [
      "INDIA\n",
      "india\n"
     ]
    }
   ],
   "source": [
    "d = \"INDIA\"\n",
    "d1 = d.lower()\n",
    "print(d)\n",
    "print(d1)"
   ]
  },
  {
   "cell_type": "markdown",
   "id": "54f230e1",
   "metadata": {},
   "source": [
    "#### 3) isupper()\n",
    "Returns True, if the string contains atleast 1 uppercase and no lowercase characters,otherwise False."
   ]
  },
  {
   "cell_type": "code",
   "execution_count": 21,
   "id": "09da1cb9",
   "metadata": {},
   "outputs": [
    {
     "name": "stdout",
     "output_type": "stream",
     "text": [
      "False\n",
      "True\n",
      "True\n",
      "True\n",
      "False\n"
     ]
    }
   ],
   "source": [
    "s1,s2 = \"Hello\", \"WELCOME\"\n",
    "s3,s4 = \"TOM JERRY\" ,\"HELLO587\"\n",
    "s5 = \"INDIA %*& 1n23\"\n",
    "print(s1.isupper())\n",
    "print(s2.isupper())\n",
    "print(s3.isupper())\n",
    "print(s4.isupper())\n",
    "print(s5.isupper())"
   ]
  },
  {
   "cell_type": "markdown",
   "id": "55be61ea",
   "metadata": {},
   "source": [
    "#### 4) islower()\n",
    "Returns True, if the string contains atleast 1 lowercase and no uppercase characters,otherwise False."
   ]
  },
  {
   "cell_type": "code",
   "execution_count": 23,
   "id": "85d45fe4",
   "metadata": {},
   "outputs": [
    {
     "name": "stdout",
     "output_type": "stream",
     "text": [
      "False\n",
      "True\n",
      "True\n",
      "True\n",
      "False\n"
     ]
    }
   ],
   "source": [
    "s1,s2 = \"Hello\", \"welcome\"\n",
    "s3,s4 = \"tom and jerry\" ,\"hello587\"\n",
    "s5 = \"google %*& 123J\"\n",
    "print(s1.islower())\n",
    "print(s2.islower())\n",
    "print(s3.islower())\n",
    "print(s4.islower())\n",
    "print(s5.islower())"
   ]
  },
  {
   "cell_type": "markdown",
   "id": "92b41a93",
   "metadata": {},
   "source": [
    "#### 5) islapha()\n",
    "Returns True if the string contains only alphabets, otherwise False"
   ]
  },
  {
   "cell_type": "code",
   "execution_count": 32,
   "id": "b1331900",
   "metadata": {},
   "outputs": [
    {
     "name": "stdout",
     "output_type": "stream",
     "text": [
      "True\n",
      "True\n",
      "False\n",
      "False\n",
      "False\n"
     ]
    }
   ],
   "source": [
    "s1,s2 = \"Hello\", \"wElComE\"\n",
    "s3,s4 = \"tom and jerry\" ,\"hello587\"\n",
    "s5 = \"google %*& 123J\"\n",
    "print(s1.isalpha())\n",
    "print(s2.isalpha())\n",
    "print(s3.isalpha())\n",
    "print(s4.isalpha())\n",
    "print(s5.isalpha())"
   ]
  },
  {
   "cell_type": "markdown",
   "id": "18478ccc",
   "metadata": {},
   "source": [
    "#### 6) isspace()\n",
    "Returns True, if the string contains only space charcaters, otherwise False"
   ]
  },
  {
   "cell_type": "code",
   "execution_count": 33,
   "id": "4764e6e1",
   "metadata": {},
   "outputs": [
    {
     "name": "stdout",
     "output_type": "stream",
     "text": [
      "True\n",
      "False\n",
      "False\n",
      "False\n",
      "False\n"
     ]
    }
   ],
   "source": [
    "s1 = \"      \"\n",
    "s2 = \"     4      \"\n",
    "s3 = \"         j  \"\n",
    "s4 = \" @          \"\n",
    "s5 = \"\"   # null string\n",
    "print(s1.isspace())\n",
    "print(s2.isspace())\n",
    "print(s3.isspace())\n",
    "print(s4.isspace())\n",
    "print(s5.isspace())"
   ]
  },
  {
   "cell_type": "markdown",
   "id": "3434f383",
   "metadata": {},
   "source": [
    "#### 6) isalnum()\n",
    "Returns True, if string contains only alphabet or numbers or a combination of them, otherwise False"
   ]
  },
  {
   "cell_type": "code",
   "execution_count": 35,
   "id": "b0d97d03",
   "metadata": {},
   "outputs": [
    {
     "name": "stdout",
     "output_type": "stream",
     "text": [
      "True\n",
      "True\n",
      "False\n",
      "False\n",
      "False\n",
      "False\n",
      "False\n",
      "True\n"
     ]
    }
   ],
   "source": [
    "s1,s2 = \"23\",\"laptop\"\n",
    "s3,s4 = \"324 123\",\"hp_laptop\"\n",
    "s5,s6 = \"324 hello\",\"lap@@top\"\n",
    "s7,s8 = \"2132Meta&^Google\",\"2132MetaGoogle\"\n",
    "print(s1.isalnum())\n",
    "print(s2.isalnum())\n",
    "print(s3.isalnum())\n",
    "print(s4.isalnum())\n",
    "print(s5.isalnum())\n",
    "print(s6.isalnum())\n",
    "print(s7.isalnum())\n",
    "print(s8.isalnum())"
   ]
  },
  {
   "cell_type": "markdown",
   "id": "96692b52",
   "metadata": {},
   "source": [
    "#### 7) isdigit()\n",
    "Returns True if the string contains only digit (0-9), otherwise False"
   ]
  },
  {
   "cell_type": "code",
   "execution_count": 38,
   "id": "4bea8d69",
   "metadata": {},
   "outputs": [
    {
     "name": "stdout",
     "output_type": "stream",
     "text": [
      "True\n",
      "False\n",
      "False\n",
      "False\n",
      "False\n"
     ]
    }
   ],
   "source": [
    "s1,s2 = \"342890\",\"1232.121\"\n",
    "s3 = \"324python\"\n",
    "s4 = \"324@!%&\"\n",
    "s5 = \"34 45\"\n",
    "print(s1.isdigit())\n",
    "print(s2.isdigit())\n",
    "print(s3.isdigit())\n",
    "print(s4.isdigit())\n",
    "print(s5.isdigit())"
   ]
  },
  {
   "cell_type": "markdown",
   "id": "6c57f481",
   "metadata": {},
   "source": [
    "#### strip(), lstrip(), rstrip()\n",
    "lstrip() - Removes extra space from left end<br>\n",
    "rstrip() - Removes extra space from right end<br>\n",
    "strip() - Removes extra space from both(left and right) end<br>"
   ]
  },
  {
   "cell_type": "code",
   "execution_count": 52,
   "id": "250ddd91",
   "metadata": {},
   "outputs": [
    {
     "name": "stdout",
     "output_type": "stream",
     "text": [
      "Learing Python    from scratch     \n",
      "  Learing Python    from scratch\n",
      "Learing Python    from scratch\n"
     ]
    }
   ],
   "source": [
    "s = \"  Learing Python    from scratch     \"\n",
    "print(s.lstrip())\n",
    "print(s.rstrip())\n",
    "print(s.strip())"
   ]
  },
  {
   "cell_type": "markdown",
   "id": "912751e9",
   "metadata": {},
   "source": [
    "#### startswith(), endswith()\n",
    "startswith() - Returns True if the string starts with the given substring, otherwise False<br>\n",
    "endswith() - Returns True if the string ends with the given substring, otherwise False"
   ]
  },
  {
   "cell_type": "code",
   "execution_count": 51,
   "id": "ef2d1ae0",
   "metadata": {},
   "outputs": [
    {
     "name": "stdout",
     "output_type": "stream",
     "text": [
      "True\n",
      "False\n",
      "False\n",
      "True\n",
      "True\n",
      "False\n",
      "False\n",
      "Russia vs. Ukraine war has impacted the global stock market \n"
     ]
    }
   ],
   "source": [
    "s = \"Russia vs. Ukraine war has impacted the global stock market \"\n",
    "print(s.startswith('Russ'))\n",
    "print(s.startswith('impact'))\n",
    "print(s.startswith('r'))\n",
    "print(s.lower().startswith('r'))\n",
    "print(s.endswith('ket '))\n",
    "print(s.endswith('market'))\n",
    "print(s.endswith('stock'))\n",
    "print(s)"
   ]
  },
  {
   "cell_type": "markdown",
   "id": "fdf27cc4",
   "metadata": {},
   "source": [
    "#### capitalize(), title(), swapcase()\n",
    "\n",
    "capitalize() - Capitalizes, the first alphabet of the entire string.<br>\n",
    "title() - Capitalizes, the first alphabet of the each word in the string.<br>\n",
    "swapcase() - Converts upper case characters to lowercase and vice-versa.<br>"
   ]
  },
  {
   "cell_type": "code",
   "execution_count": 54,
   "id": "3d8532ba",
   "metadata": {},
   "outputs": [
    {
     "name": "stdout",
     "output_type": "stream",
     "text": [
      "String methods in python 567\n",
      "String Methods In Python 567\n",
      "STRING METHODS IN PYTHON 567\n"
     ]
    }
   ],
   "source": [
    "t = \"string methods in python 567\"\n",
    "print(t.capitalize())\n",
    "print(t.title())\n",
    "print(t.upper())"
   ]
  },
  {
   "cell_type": "code",
   "execution_count": 55,
   "id": "2836a098",
   "metadata": {},
   "outputs": [
    {
     "name": "stdout",
     "output_type": "stream",
     "text": [
      "WeLcOmE To pYThOn\n"
     ]
    }
   ],
   "source": [
    "d = \"wElCoMe tO PytHoN\"\n",
    "print(d.swapcase())"
   ]
  },
  {
   "cell_type": "markdown",
   "id": "cb9950fb",
   "metadata": {},
   "source": [
    "#### count()\n",
    "Returns the number of times a substring occurs in a string. Returns frequency of the substring"
   ]
  },
  {
   "cell_type": "code",
   "execution_count": 60,
   "id": "dd295de9",
   "metadata": {},
   "outputs": [
    {
     "name": "stdout",
     "output_type": "stream",
     "text": [
      "6\n",
      "10\n",
      "2\n",
      "0\n"
     ]
    }
   ],
   "source": [
    "s = \"Python, Data  Science applied on differnt datasets cOntainting meaningful data\"\n",
    "print(s.count('i'))\n",
    "print(s.count(' '))\n",
    "print(s.count('on'))\n",
    "print(s.count('yz'))"
   ]
  },
  {
   "cell_type": "markdown",
   "id": "809bbf5e",
   "metadata": {},
   "source": [
    "#### index() and find()\n",
    "1) index() - Returns the index of the first occurence of the substring from the left. If subtrsing is not found, it returns an error \n",
    "\n",
    "2) find() - Returns the index of the first occurence of the substring from the left. If subtrsing is not found, it returns -1"
   ]
  },
  {
   "cell_type": "code",
   "execution_count": 81,
   "id": "12329ad5",
   "metadata": {},
   "outputs": [
    {
     "name": "stdout",
     "output_type": "stream",
     "text": [
      "4\n",
      "on\n",
      "on\n",
      "7\n"
     ]
    },
    {
     "ename": "ValueError",
     "evalue": "substring not found",
     "output_type": "error",
     "traceback": [
      "\u001b[1;31m---------------------------------------------------------------------------\u001b[0m",
      "\u001b[1;31mValueError\u001b[0m                                Traceback (most recent call last)",
      "\u001b[1;32m<ipython-input-81-d5bec44f8aa8>\u001b[0m in \u001b[0;36m<module>\u001b[1;34m\u001b[0m\n\u001b[0;32m      4\u001b[0m \u001b[0mprint\u001b[0m\u001b[1;33m(\u001b[0m\u001b[0ms\u001b[0m\u001b[1;33m[\u001b[0m\u001b[1;36m7\u001b[0m\u001b[1;33m:\u001b[0m\u001b[1;36m9\u001b[0m\u001b[1;33m]\u001b[0m\u001b[1;33m)\u001b[0m\u001b[1;33m\u001b[0m\u001b[1;33m\u001b[0m\u001b[0m\n\u001b[0;32m      5\u001b[0m \u001b[0mprint\u001b[0m\u001b[1;33m(\u001b[0m\u001b[0ms\u001b[0m\u001b[1;33m.\u001b[0m\u001b[0mindex\u001b[0m\u001b[1;33m(\u001b[0m\u001b[1;34m'on'\u001b[0m\u001b[1;33m,\u001b[0m\u001b[1;36m5\u001b[0m\u001b[1;33m)\u001b[0m\u001b[1;33m)\u001b[0m\u001b[1;33m\u001b[0m\u001b[1;33m\u001b[0m\u001b[0m\n\u001b[1;32m----> 6\u001b[1;33m \u001b[0mprint\u001b[0m\u001b[1;33m(\u001b[0m\u001b[0ms\u001b[0m\u001b[1;33m.\u001b[0m\u001b[0mindex\u001b[0m\u001b[1;33m(\u001b[0m\u001b[1;34m'on'\u001b[0m\u001b[1;33m,\u001b[0m\u001b[1;36m5\u001b[0m\u001b[1;33m,\u001b[0m\u001b[1;36m6\u001b[0m\u001b[1;33m)\u001b[0m\u001b[1;33m)\u001b[0m\u001b[1;33m\u001b[0m\u001b[1;33m\u001b[0m\u001b[0m\n\u001b[0m",
      "\u001b[1;31mValueError\u001b[0m: substring not found"
     ]
    }
   ],
   "source": [
    "s = \"Python on Cloud\"\n",
    "print(s.index('on'))\n",
    "print(s[4:6])\n",
    "print(s[7:9])\n",
    "print(s.index('on',5))\n",
    "print(s.index('on',5,6))"
   ]
  },
  {
   "cell_type": "code",
   "execution_count": 82,
   "id": "c3e09630",
   "metadata": {},
   "outputs": [
    {
     "name": "stdout",
     "output_type": "stream",
     "text": [
      "r\n",
      "riate and bivariate analysis\n",
      "12\n",
      "var\n",
      "var\n",
      "32\n"
     ]
    },
    {
     "ename": "ValueError",
     "evalue": "substring not found",
     "output_type": "error",
     "traceback": [
      "\u001b[1;31m---------------------------------------------------------------------------\u001b[0m",
      "\u001b[1;31mValueError\u001b[0m                                Traceback (most recent call last)",
      "\u001b[1;32m<ipython-input-82-22d58ab5af02>\u001b[0m in \u001b[0;36m<module>\u001b[1;34m\u001b[0m\n\u001b[0;32m      6\u001b[0m \u001b[0mprint\u001b[0m\u001b[1;33m(\u001b[0m\u001b[0mw\u001b[0m\u001b[1;33m[\u001b[0m\u001b[1;36m32\u001b[0m\u001b[1;33m:\u001b[0m\u001b[1;36m35\u001b[0m\u001b[1;33m]\u001b[0m\u001b[1;33m)\u001b[0m\u001b[1;33m\u001b[0m\u001b[1;33m\u001b[0m\u001b[0m\n\u001b[0;32m      7\u001b[0m \u001b[0mprint\u001b[0m\u001b[1;33m(\u001b[0m\u001b[0mw\u001b[0m\u001b[1;33m.\u001b[0m\u001b[0mindex\u001b[0m\u001b[1;33m(\u001b[0m\u001b[1;34m'var'\u001b[0m\u001b[1;33m,\u001b[0m\u001b[1;36m19\u001b[0m\u001b[1;33m)\u001b[0m\u001b[1;33m)\u001b[0m\u001b[1;33m\u001b[0m\u001b[1;33m\u001b[0m\u001b[0m\n\u001b[1;32m----> 8\u001b[1;33m \u001b[0mprint\u001b[0m\u001b[1;33m(\u001b[0m\u001b[0mw\u001b[0m\u001b[1;33m.\u001b[0m\u001b[0mindex\u001b[0m\u001b[1;33m(\u001b[0m\u001b[1;34m'var'\u001b[0m\u001b[1;33m,\u001b[0m\u001b[1;36m19\u001b[0m\u001b[1;33m,\u001b[0m\u001b[1;36m30\u001b[0m\u001b[1;33m)\u001b[0m\u001b[1;33m)\u001b[0m\u001b[1;33m\u001b[0m\u001b[1;33m\u001b[0m\u001b[0m\n\u001b[0m",
      "\u001b[1;31mValueError\u001b[0m: substring not found"
     ]
    }
   ],
   "source": [
    "w = \"Statistics for univariate and bivariate analysis\"\n",
    "print(w[20])\n",
    "print(w[20:]) # start=20, step=1\n",
    "print(w[20:].index('var'))\n",
    "print(w[18:21])\n",
    "print(w[32:35])\n",
    "print(w.index('var',19))\n",
    "print(w.index('var',19,30))"
   ]
  },
  {
   "cell_type": "code",
   "execution_count": 68,
   "id": "af3f0672",
   "metadata": {},
   "outputs": [
    {
     "name": "stdout",
     "output_type": "stream",
     "text": [
      "18\n",
      "12\n",
      "32\n",
      "6\n",
      "4\n"
     ]
    },
    {
     "ename": "ValueError",
     "evalue": "substring not found",
     "output_type": "error",
     "traceback": [
      "\u001b[1;31m---------------------------------------------------------------------------\u001b[0m",
      "\u001b[1;31mValueError\u001b[0m                                Traceback (most recent call last)",
      "\u001b[1;32m<ipython-input-68-746dbf4f6249>\u001b[0m in \u001b[0;36m<module>\u001b[1;34m\u001b[0m\n\u001b[0;32m      5\u001b[0m \u001b[0mprint\u001b[0m\u001b[1;33m(\u001b[0m\u001b[0mw\u001b[0m\u001b[1;33m.\u001b[0m\u001b[0mindex\u001b[0m\u001b[1;33m(\u001b[0m\u001b[1;34m'tics'\u001b[0m\u001b[1;33m)\u001b[0m\u001b[1;33m)\u001b[0m\u001b[1;33m\u001b[0m\u001b[1;33m\u001b[0m\u001b[0m\n\u001b[0;32m      6\u001b[0m \u001b[0mprint\u001b[0m\u001b[1;33m(\u001b[0m\u001b[0mw\u001b[0m\u001b[1;33m.\u001b[0m\u001b[0mindex\u001b[0m\u001b[1;33m(\u001b[0m\u001b[1;34m'i'\u001b[0m\u001b[1;33m)\u001b[0m\u001b[1;33m)\u001b[0m\u001b[1;33m\u001b[0m\u001b[1;33m\u001b[0m\u001b[0m\n\u001b[1;32m----> 7\u001b[1;33m \u001b[0mprint\u001b[0m\u001b[1;33m(\u001b[0m\u001b[0mw\u001b[0m\u001b[1;33m.\u001b[0m\u001b[0mindex\u001b[0m\u001b[1;33m(\u001b[0m\u001b[1;34m'then'\u001b[0m\u001b[1;33m)\u001b[0m\u001b[1;33m)\u001b[0m\u001b[1;33m\u001b[0m\u001b[1;33m\u001b[0m\u001b[0m\n\u001b[0m",
      "\u001b[1;31mValueError\u001b[0m: substring not found"
     ]
    }
   ],
   "source": [
    "w = \"Statistics for univariate and bivariate analysis\"\n",
    "print(w.index('var'))\n",
    "print(w[20:].index('var'))\n",
    "print(w.index('var',19)) \n",
    "# search the index of var starting from index 19\n",
    "print(w.index('tics'))\n",
    "print(w.index('i'))\n",
    "print(w.index('then'))"
   ]
  },
  {
   "cell_type": "code",
   "execution_count": 63,
   "id": "c95bae45",
   "metadata": {},
   "outputs": [
    {
     "name": "stdout",
     "output_type": "stream",
     "text": [
      "18\n",
      "6\n",
      "-1\n"
     ]
    }
   ],
   "source": [
    "w = \"Statistics for univariate and biariate analysis\"\n",
    "print(w.find('var'))\n",
    "print(w.find('tics'))\n",
    "print(w.find('then'))"
   ]
  },
  {
   "cell_type": "markdown",
   "id": "13dc5258",
   "metadata": {},
   "source": [
    "#### replace(s1,s2)\n",
    "1) Replaces the subtring s1 in the original string with s2.<br>\n",
    "2) By default, it replaces all the occurences of s1 with s2<br>\n",
    "3) If s1 is not a substring in the original string, it returns original string"
   ]
  },
  {
   "cell_type": "code",
   "execution_count": 85,
   "id": "84b7bc59",
   "metadata": {},
   "outputs": [
    {
     "name": "stdout",
     "output_type": "stream",
     "text": [
      "Learning Data Science and AI after Python\n",
      "Learning ML and Statistics after Python\n",
      "Learzizg ML azd AI after Pythoz\n",
      "Learzizg ML and AI after Python\n",
      "Learzing ML and AI after Python\n",
      "Learning ML and AI after Python\n"
     ]
    }
   ],
   "source": [
    "s = \"Learning ML and AI after Python\"\n",
    "print(s.replace('ML','Data Science'))\n",
    "print(s.replace('AI','Statistics'))\n",
    "print(s.replace('n','z'))\n",
    "print(s.replace('n','z',2))\n",
    "print(s.replace('n','z',1))\n",
    "print(s.replace('where','hello'))"
   ]
  },
  {
   "cell_type": "code",
   "execution_count": null,
   "id": "2ea758fe",
   "metadata": {},
   "outputs": [],
   "source": []
  },
  {
   "cell_type": "code",
   "execution_count": null,
   "id": "cb53154c",
   "metadata": {},
   "outputs": [],
   "source": [
    "# int, float, bool, str, None, complex"
   ]
  },
  {
   "cell_type": "code",
   "execution_count": null,
   "id": "b774c4c4",
   "metadata": {},
   "outputs": [],
   "source": [
    "# List, Tuple, Set, Dict"
   ]
  },
  {
   "cell_type": "code",
   "execution_count": 90,
   "id": "a4ed4de7",
   "metadata": {},
   "outputs": [
    {
     "name": "stdout",
     "output_type": "stream",
     "text": [
      "<class 'list'>\n",
      "[12, 'Hello']\n"
     ]
    }
   ],
   "source": [
    "a = [4,5,False,12,\"Hello\"]\n",
    "print(type(a))\n",
    "print(a[3:])"
   ]
  },
  {
   "cell_type": "markdown",
   "id": "4f3f8ef1",
   "metadata": {},
   "source": [
    "#### split()\n",
    "1) It returns a list<br>\n",
    "2) By default it splits based on empty space<br>\n",
    "3) Removes the entity based on which split has been applied.<br>"
   ]
  },
  {
   "cell_type": "code",
   "execution_count": 96,
   "id": "28b98943",
   "metadata": {},
   "outputs": [
    {
     "name": "stdout",
     "output_type": "stream",
     "text": [
      "['Wel', 'ome to ', 'anada    and ', 'olombo']\n",
      "['Welcome', 'to', 'canada', 'and', 'colombo']\n",
      "['Welcome', 'to', 'canada', '', '', '', 'and', 'colombo']\n"
     ]
    }
   ],
   "source": [
    "g = \"Welcome to canada    and colombo\"\n",
    "print(g.split('c'))\n",
    "print(g.split())\n",
    "print(g.split(' '))"
   ]
  },
  {
   "cell_type": "code",
   "execution_count": 97,
   "id": "89634de5",
   "metadata": {},
   "outputs": [
    {
     "name": "stdout",
     "output_type": "stream",
     "text": [
      "['FIFA', 'World', 'Cup', '2022', 'is', 'scheduled', 'in', 'the', 'month', 'of', 'Nov', 'and', 'Dec', 'in', 'Qatar']\n",
      "['FIFA W', 'rld Cup 2022 is scheduled in the m', 'nth ', 'f N', 'v and Dec in Qatar']\n"
     ]
    }
   ],
   "source": [
    "w = \"FIFA World Cup 2022 is scheduled in the month of Nov and Dec in Qatar\"\n",
    "w1 = w.split()\n",
    "w2 = w.split('o')\n",
    "print(w1)\n",
    "print(w2)"
   ]
  },
  {
   "cell_type": "code",
   "execution_count": 98,
   "id": "c573ef5c",
   "metadata": {},
   "outputs": [
    {
     "name": "stdout",
     "output_type": "stream",
     "text": [
      "['India', 'has', 'more', 'than', '80', 'unicorn', 'startups', 'as', 'of', '2022']\n"
     ]
    }
   ],
   "source": [
    "w = \"India has more than 80 unicorn startups as of 2022\"\n",
    "w1 = w.split()\n",
    "print(w1)"
   ]
  },
  {
   "cell_type": "code",
   "execution_count": 105,
   "id": "660de122",
   "metadata": {},
   "outputs": [
    {
     "name": "stdout",
     "output_type": "stream",
     "text": [
      "India\n",
      "nd\n",
      "corn\n",
      "['has', 'more', 'than']\n",
      "ptas\n"
     ]
    }
   ],
   "source": [
    "print(w1[0])\n",
    "print(w1[0][1:3])\n",
    "print(w1[5][3:])\n",
    "print(w1[1:4])\n",
    "print(w1[-4][-2::-2])"
   ]
  },
  {
   "cell_type": "code",
   "execution_count": 106,
   "id": "34f4f613",
   "metadata": {},
   "outputs": [],
   "source": [
    "# String Immutability\n",
    "# String concatenation"
   ]
  },
  {
   "cell_type": "code",
   "execution_count": null,
   "id": "85d91d4d",
   "metadata": {},
   "outputs": [],
   "source": [
    "# List methods\n",
    "# Dict methods\n",
    "# Set methods"
   ]
  }
 ],
 "metadata": {
  "kernelspec": {
   "display_name": "Python 3",
   "language": "python",
   "name": "python3"
  },
  "language_info": {
   "codemirror_mode": {
    "name": "ipython",
    "version": 3
   },
   "file_extension": ".py",
   "mimetype": "text/x-python",
   "name": "python",
   "nbconvert_exporter": "python",
   "pygments_lexer": "ipython3",
   "version": "3.8.8"
  }
 },
 "nbformat": 4,
 "nbformat_minor": 5
}
