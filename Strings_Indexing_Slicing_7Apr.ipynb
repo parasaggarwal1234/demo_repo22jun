{
 "cells": [
  {
   "cell_type": "code",
   "execution_count": 1,
   "id": "df299ccd",
   "metadata": {},
   "outputs": [
    {
     "name": "stdout",
     "output_type": "stream",
     "text": [
      "Welcome to Python\n"
     ]
    },
    {
     "data": {
      "text/plain": [
       "str"
      ]
     },
     "execution_count": 1,
     "metadata": {},
     "output_type": "execute_result"
    }
   ],
   "source": [
    "w = \"Welcome to Python\"\n",
    "print(w)\n",
    "type(w)"
   ]
  },
  {
   "cell_type": "markdown",
   "id": "98ef68ed",
   "metadata": {},
   "source": [
    "<img src=\"string_slicing.png\">"
   ]
  },
  {
   "cell_type": "markdown",
   "id": "33b3c18f",
   "metadata": {},
   "source": [
    "#### Indexing\n",
    "Fetching a character at a particular index \n",
    "\n",
    "Syntax -> variable_name[index]\n",
    "\n",
    "1) Indexing starts from left to right from 0 towards postive numbers<br>\n",
    "2) Indexing starts from right to left from -1 towards negative numbers"
   ]
  },
  {
   "cell_type": "code",
   "execution_count": 3,
   "id": "ca407e91",
   "metadata": {},
   "outputs": [
    {
     "name": "stdout",
     "output_type": "stream",
     "text": [
      "Welcome to Python\n",
      "W\n",
      "e\n",
      "m\n",
      "P\n",
      "l l\n"
     ]
    }
   ],
   "source": [
    "print(w)\n",
    "print(w[0])\n",
    "print(w[1])\n",
    "print(w[5])\n",
    "print(w[-6])\n",
    "print(w[2],w[-15])"
   ]
  },
  {
   "cell_type": "markdown",
   "id": "2ceff524",
   "metadata": {},
   "source": [
    "<img src=\"string_slicing.png\">"
   ]
  },
  {
   "cell_type": "code",
   "execution_count": 9,
   "id": "9dd2c2eb",
   "metadata": {},
   "outputs": [
    {
     "name": "stdout",
     "output_type": "stream",
     "text": [
      "t\n",
      "o\n",
      "y\n",
      "--------\n",
      "y\n",
      "o\n",
      "t\n"
     ]
    }
   ],
   "source": [
    "a = \"toy\"\n",
    "print(a[0])\n",
    "print(a[1])\n",
    "print(a[2])\n",
    "print('--------')\n",
    "print(a[-1])\n",
    "print(a[-2])\n",
    "print(a[-3])"
   ]
  },
  {
   "cell_type": "code",
   "execution_count": 11,
   "id": "33a9b2dd",
   "metadata": {},
   "outputs": [
    {
     "ename": "IndexError",
     "evalue": "string index out of range",
     "output_type": "error",
     "traceback": [
      "\u001b[1;31m---------------------------------------------------------------------------\u001b[0m",
      "\u001b[1;31mIndexError\u001b[0m                                Traceback (most recent call last)",
      "\u001b[1;32m<ipython-input-11-712131ea4ecd>\u001b[0m in \u001b[0;36m<module>\u001b[1;34m\u001b[0m\n\u001b[0;32m      1\u001b[0m \u001b[0ma\u001b[0m \u001b[1;33m=\u001b[0m \u001b[1;34m\"toy\"\u001b[0m\u001b[1;33m\u001b[0m\u001b[1;33m\u001b[0m\u001b[0m\n\u001b[1;32m----> 2\u001b[1;33m \u001b[0mprint\u001b[0m\u001b[1;33m(\u001b[0m\u001b[0ma\u001b[0m\u001b[1;33m[\u001b[0m\u001b[1;33m-\u001b[0m\u001b[1;36m7\u001b[0m\u001b[1;33m]\u001b[0m\u001b[1;33m)\u001b[0m\u001b[1;33m\u001b[0m\u001b[1;33m\u001b[0m\u001b[0m\n\u001b[0m",
      "\u001b[1;31mIndexError\u001b[0m: string index out of range"
     ]
    }
   ],
   "source": [
    "a = \"toy\"\n",
    "print(a[-7])"
   ]
  },
  {
   "cell_type": "code",
   "execution_count": 4,
   "id": "0f6b2101",
   "metadata": {},
   "outputs": [
    {
     "name": "stdout",
     "output_type": "stream",
     "text": [
      "Welcome to Python\n"
     ]
    }
   ],
   "source": [
    "s = \"Welcome to Python\"\n",
    "print(s)"
   ]
  },
  {
   "cell_type": "markdown",
   "id": "4945b0be",
   "metadata": {},
   "source": [
    "### Slicing\n",
    "\n",
    "Extracting a part of the string is referred to as slicing\n",
    "\n",
    "Syntax -> <br>\n",
    "s = \"Text based data\"<br>\n",
    "<b>s[start:end:step]</b><br>\n",
    "\n",
    "\n",
    "<b>1) start: </b>- Index from where slicing starts<br>\n",
    "<b>2) end: </b>- Index where slicing ends.<br>\n",
    "<b>3) step: </b>-Number of characters to jump while slicing. Default value is +1\n",
    "\n",
    "a) All parameters are optional<br>\n",
    "b) Slicing can be performed <br>\n",
    "i) from left to right or<br>\n",
    "ii) from right to left<br>"
   ]
  },
  {
   "cell_type": "markdown",
   "id": "82d861a7",
   "metadata": {},
   "source": [
    "### Left to Right slicing\n",
    "\n",
    "1) Step size has to be a positive number.<br>\n",
    "2) Slicing is performed till index <b>end-1</b> if end is mentioned, otherwise till right end.<br>\n",
    "3) If start is not mnetioned, then its default value is 0 (if slicing direction is from left to right)."
   ]
  },
  {
   "cell_type": "markdown",
   "id": "c9bc0bf9",
   "metadata": {},
   "source": [
    "<img src=\"string_slicing.png\">"
   ]
  },
  {
   "cell_type": "code",
   "execution_count": 15,
   "id": "f50a51c4",
   "metadata": {},
   "outputs": [
    {
     "name": "stdout",
     "output_type": "stream",
     "text": [
      "come\n",
      "come \n",
      "me to Pyt\n",
      "o Python\n",
      "Python\n",
      "Welco\n"
     ]
    }
   ],
   "source": [
    "print(s[3:7])  # start = 3, end=7, step=1\n",
    "print(s[3:8])  # start =3, end=8, step=1\n",
    "print(s[5:14]) # start=5, end=14, step=1\n",
    "print(s[9:])  # start=9\n",
    "print(s[11:]) # start=11\n",
    "print(s[:5])  # end=5"
   ]
  },
  {
   "cell_type": "markdown",
   "id": "2a9ebaa9",
   "metadata": {},
   "source": [
    "<img src=\"string_slicing.png\">"
   ]
  },
  {
   "cell_type": "code",
   "execution_count": 17,
   "id": "d6a3d95a",
   "metadata": {},
   "outputs": [
    {
     "name": "stdout",
     "output_type": "stream",
     "text": [
      "ome to P\n",
      "elcome t\n",
      "come t\n",
      "lco\n",
      "l\n"
     ]
    }
   ],
   "source": [
    "print(s[4:-5])   # start= 4, end=-5, step=1\n",
    "print(s[-16:9])  # start= -16, end=9, step=1\n",
    "print(s[-14:-8]) # start = 14, end=-8, step=1\n",
    "print(s[2:-12])\n",
    "print(s[2])"
   ]
  },
  {
   "cell_type": "markdown",
   "id": "f94b3a6b",
   "metadata": {},
   "source": [
    "<img src=\"string_slicing.png\">"
   ]
  },
  {
   "cell_type": "code",
   "execution_count": 24,
   "id": "c9133fec",
   "metadata": {},
   "outputs": [
    {
     "name": "stdout",
     "output_type": "stream",
     "text": [
      "cm oP\n",
      "le \n",
      "o  t\n",
      "lmtPh\n",
      "et y\n",
      "Welcome to Python\n",
      "Welcome to Python\n"
     ]
    }
   ],
   "source": [
    "print(s[3:13:2])  # start= 3, end=13, step=2\n",
    "print(s[-15:-4:4]) # start=-15,end=-4,step=4\n",
    "print(s[4:-3:3]) \n",
    "print(s[2:-2:3])\n",
    "print(s[-11:14:2])\n",
    "print(s[:]) # step=+1\n",
    "print(s[::]) # step=+1"
   ]
  },
  {
   "cell_type": "markdown",
   "id": "2f9c8b23",
   "metadata": {},
   "source": [
    "### Right to Left slicing\n",
    "1) Step size has to be a negative number.<br>\n",
    "2) Slicing is performed till index <b>end+1</b> if end is mentioned, otherwise till left end.<br>"
   ]
  },
  {
   "cell_type": "markdown",
   "id": "14822f72",
   "metadata": {},
   "source": [
    "<img src=\"string_slicing.png\">"
   ]
  },
  {
   "cell_type": "code",
   "execution_count": 32,
   "id": "116276c4",
   "metadata": {},
   "outputs": [
    {
     "name": "stdout",
     "output_type": "stream",
     "text": [
      "\n",
      "tyP ot em\n",
      "Po mc\n",
      "\n",
      "yoe\n",
      "\n",
      "h e\n"
     ]
    }
   ],
   "source": [
    "print(s[13:4]) # start= 13, end=4, step=+1\n",
    "print(s[13:4:-1]) # start=13, end=4, step=-1\n",
    "print(s[-6:-16:-2]) \n",
    "print(s[-12:13:-3])  # no output\n",
    "print(s[-5:3:-3]) # yoe\n",
    "print(s[-7:3:2]) # no output\n",
    "print(s[14:-14:-4]) # h_e"
   ]
  },
  {
   "cell_type": "markdown",
   "id": "eb5d8f83",
   "metadata": {},
   "source": [
    "<img src=\"string_slicing.png\">"
   ]
  },
  {
   "cell_type": "code",
   "execution_count": 35,
   "id": "c3f365a1",
   "metadata": {},
   "outputs": [
    {
     "name": "stdout",
     "output_type": "stream",
     "text": [
      "teol\n",
      "\n",
      "  o\n"
     ]
    }
   ],
   "source": [
    "print(s[-9:-17:-2]) # teol\n",
    "print(s[11:-1:-3])\n",
    "print(s[-7:2:-3]) # __o"
   ]
  },
  {
   "cell_type": "markdown",
   "id": "fec9296a",
   "metadata": {},
   "source": [
    "#### Note\n",
    "1) If the combined direction of start:end and step are opposite, there is no output"
   ]
  },
  {
   "cell_type": "markdown",
   "id": "ebaff423",
   "metadata": {},
   "source": [
    "### Special case\n",
    "\n",
    "1) When start and/or end is absent(not mentioned) but step size is mentioned, then slicing direction is governed by step size<br>\n",
    "a) If step size is positive=> Left to Right slicing is performed<br>\n",
    "b) If step size is negative=> Right to Left slicing is performed"
   ]
  },
  {
   "cell_type": "markdown",
   "id": "0b245833",
   "metadata": {},
   "source": [
    "#### a) When start is absent, end and step are present"
   ]
  },
  {
   "cell_type": "markdown",
   "id": "f80fa2c7",
   "metadata": {},
   "source": [
    "<img src=\"string_slicing.png\">"
   ]
  },
  {
   "cell_type": "code",
   "execution_count": 39,
   "id": "c3cca265",
   "metadata": {},
   "outputs": [
    {
     "name": "stdout",
     "output_type": "stream",
     "text": [
      "Wceo\n",
      "nhy t\n",
      "nt  \n",
      "Wloe\n"
     ]
    }
   ],
   "source": [
    "print(s[:12:3])   #  end=12, step=3\n",
    "print(s[:-11:-2]) # end=-11, step=-2\n",
    "print(s[:4:-3])   # end=4,step=-3 \n",
    "print(s[:-9:2])   #"
   ]
  },
  {
   "cell_type": "markdown",
   "id": "8aeeeab4",
   "metadata": {},
   "source": [
    "#### b) When end is absent, start and step are present"
   ]
  },
  {
   "cell_type": "markdown",
   "id": "f61a613f",
   "metadata": {},
   "source": [
    "<img src=\"string_slicing.png\">"
   ]
  },
  {
   "cell_type": "code",
   "execution_count": 44,
   "id": "5a2b7c46",
   "metadata": {},
   "outputs": [
    {
     "name": "stdout",
     "output_type": "stream",
     "text": [
      "ceoyo\n",
      "yhn\n",
      "y teolW\n",
      "yoecW\n"
     ]
    }
   ],
   "source": [
    "print(s[3::3])  # ceoyo\n",
    "print(s[-5::2]) # yhn\n",
    "print(s[12::-2]) # y_teolW\n",
    "print(s[-5::-3]) # yoecW"
   ]
  },
  {
   "cell_type": "markdown",
   "id": "3a862edc",
   "metadata": {},
   "source": [
    "#### c) When both the start and end are absent, but step size is present"
   ]
  },
  {
   "cell_type": "markdown",
   "id": "5390a888",
   "metadata": {},
   "source": [
    "<img src=\"string_slicing.png\">"
   ]
  },
  {
   "cell_type": "code",
   "execution_count": 46,
   "id": "47feb8d3",
   "metadata": {},
   "outputs": [
    {
     "name": "stdout",
     "output_type": "stream",
     "text": [
      "Wceoyo\n",
      "nytoW\n"
     ]
    }
   ],
   "source": [
    "print(w[::3]) # Wceoyo\n",
    "print(w[::-4]) # nytoW"
   ]
  },
  {
   "cell_type": "markdown",
   "id": "1f56434b",
   "metadata": {},
   "source": [
    "#### Reverse a string"
   ]
  },
  {
   "cell_type": "markdown",
   "id": "376abf83",
   "metadata": {},
   "source": [
    "<img src=\"string_slicing.png\">"
   ]
  },
  {
   "cell_type": "code",
   "execution_count": 47,
   "id": "33c5801e",
   "metadata": {},
   "outputs": [
    {
     "name": "stdout",
     "output_type": "stream",
     "text": [
      "nohtyP ot emocleW\n"
     ]
    }
   ],
   "source": [
    "print(s[::-1])"
   ]
  },
  {
   "cell_type": "code",
   "execution_count": 49,
   "id": "9671bbc4",
   "metadata": {},
   "outputs": [
    {
     "name": "stdout",
     "output_type": "stream",
     "text": [
      "Welcome to Python\n",
      "Welcome to Python\n"
     ]
    }
   ],
   "source": [
    "print(s[::])\n",
    "print(s[::1])"
   ]
  },
  {
   "cell_type": "markdown",
   "id": "e7f28b45",
   "metadata": {},
   "source": [
    "<img src=\"string_slicing2.png\">"
   ]
  },
  {
   "cell_type": "code",
   "execution_count": 51,
   "id": "d1329919",
   "metadata": {},
   "outputs": [
    {
     "name": "stdout",
     "output_type": "stream",
     "text": [
      "Learning ML and AI after Python\n"
     ]
    }
   ],
   "source": [
    "s1 = \"Learning ML and AI after Python\"\n",
    "print(s1)"
   ]
  },
  {
   "cell_type": "code",
   "execution_count": null,
   "id": "27521c65",
   "metadata": {},
   "outputs": [],
   "source": []
  }
 ],
 "metadata": {
  "kernelspec": {
   "display_name": "Python 3",
   "language": "python",
   "name": "python3"
  },
  "language_info": {
   "codemirror_mode": {
    "name": "ipython",
    "version": 3
   },
   "file_extension": ".py",
   "mimetype": "text/x-python",
   "name": "python",
   "nbconvert_exporter": "python",
   "pygments_lexer": "ipython3",
   "version": "3.8.8"
  }
 },
 "nbformat": 4,
 "nbformat_minor": 5
}
