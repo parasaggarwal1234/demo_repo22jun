{
 "cells": [
  {
   "cell_type": "markdown",
   "id": "9f67adf2",
   "metadata": {},
   "source": [
    "#### Tuples\n",
    "\n",
    "1) Tuple elements are represented in () and the elements are separated by comma.<br>\n",
    "2) Tuple is also an ordered collection of elements of same or different data types<br>\n",
    "3) Tuple is Immutable(cant be changed)<br>\n",
    "4) Indexing and slicing is allowed<br>\n",
    "5) Dupliacte elements are allowed<br>"
   ]
  },
  {
   "cell_type": "markdown",
   "id": "4705778a",
   "metadata": {},
   "source": [
    "#### Create Empty Tuples"
   ]
  },
  {
   "cell_type": "code",
   "execution_count": 3,
   "id": "e9c8133b",
   "metadata": {},
   "outputs": [
    {
     "name": "stdout",
     "output_type": "stream",
     "text": [
      "()\n",
      "()\n",
      "<class 'tuple'>\n",
      "<class 'tuple'>\n"
     ]
    }
   ],
   "source": [
    "t1 = ()\n",
    "t2 = tuple()\n",
    "print(t1)\n",
    "print(t2)\n",
    "print(type(t1))\n",
    "print(type(t2))"
   ]
  },
  {
   "cell_type": "code",
   "execution_count": 7,
   "id": "370bc9d1",
   "metadata": {},
   "outputs": [
    {
     "name": "stdout",
     "output_type": "stream",
     "text": [
      "(12, 13, 14, 15, 56, 13) 6\n",
      "('Hello', False, 67.23, 34, None) 5\n"
     ]
    }
   ],
   "source": [
    "w1 = (12,13,14,15,56,13)\n",
    "w2 = ('Hello',False,67.23,34,None)\n",
    "print(w1,len(w1))\n",
    "print(w2,len(w2))"
   ]
  },
  {
   "cell_type": "markdown",
   "id": "4d0ee940",
   "metadata": {},
   "source": [
    "#### Tuple Indexing and Slicing\n",
    "Indexing and slicing follows the same pattern as with lists"
   ]
  },
  {
   "cell_type": "code",
   "execution_count": 10,
   "id": "da1b9067",
   "metadata": {},
   "outputs": [
    {
     "name": "stdout",
     "output_type": "stream",
     "text": [
      "10\n",
      "15\n",
      "17\n",
      "16\n"
     ]
    }
   ],
   "source": [
    "q1 = (10,14,12,14,15,16,17)\n",
    "print(q1[0])\n",
    "print(q1[4])\n",
    "print(q1[-1])\n",
    "print(q1[-2])"
   ]
  },
  {
   "cell_type": "code",
   "execution_count": 13,
   "id": "9dafc665",
   "metadata": {},
   "outputs": [
    {
     "name": "stdout",
     "output_type": "stream",
     "text": [
      "(10, 14, 12, 14, 15, 16, 17)\n",
      "(14, 15, 16)\n",
      "(17, 15, 12)\n",
      "(17, 15, 12, 10)\n"
     ]
    }
   ],
   "source": [
    "print(q1)\n",
    "print(q1[3:6])\n",
    "print(q1[-1:-6:-2])\n",
    "print(q1[-1::-2])"
   ]
  },
  {
   "cell_type": "markdown",
   "id": "73d59327",
   "metadata": {},
   "source": [
    "#### Iteration in Tuple\n",
    "Is is also same like that of list"
   ]
  },
  {
   "cell_type": "code",
   "execution_count": 15,
   "id": "8d3029c9",
   "metadata": {},
   "outputs": [
    {
     "name": "stdout",
     "output_type": "stream",
     "text": [
      "10\n",
      "20\n",
      "30\n",
      "40\n",
      "50\n"
     ]
    }
   ],
   "source": [
    "r1 = (10,20,30,40,50)\n",
    "# Method 1, Element wise iteration\n",
    "for i in r1:  # i corresponds to each element of the tuple r1\n",
    "    print(i)"
   ]
  },
  {
   "cell_type": "code",
   "execution_count": 18,
   "id": "7b0b11aa",
   "metadata": {},
   "outputs": [
    {
     "name": "stdout",
     "output_type": "stream",
     "text": [
      "0 10\n",
      "1 20\n",
      "2 30\n",
      "3 40\n",
      "4 50\n"
     ]
    }
   ],
   "source": [
    "r1 = (10,20,30,40,50)\n",
    "# Method 2, Index wise iteration\n",
    "for i in range(len(r1)):  # i corresponds to the tuple index\n",
    "    print(i,r1[i])"
   ]
  },
  {
   "cell_type": "code",
   "execution_count": 22,
   "id": "867c4eb5",
   "metadata": {},
   "outputs": [
    {
     "name": "stdout",
     "output_type": "stream",
     "text": [
      "10\n",
      "20\n",
      "30\n",
      "40\n",
      "50\n"
     ]
    }
   ],
   "source": [
    "r1 = (10,20,30,40,50)\n",
    "# Method 3, using while loop\n",
    "i = 0\n",
    "while i <len(r1):\n",
    "    print(r1[i])\n",
    "    i += 1"
   ]
  },
  {
   "cell_type": "markdown",
   "id": "95923803",
   "metadata": {},
   "source": [
    "#### Tuple is Immutable"
   ]
  },
  {
   "cell_type": "code",
   "execution_count": 25,
   "id": "10b431da",
   "metadata": {},
   "outputs": [
    {
     "name": "stdout",
     "output_type": "stream",
     "text": [
      "('Hello', 45, 23.89, 'Python', 'Java', 'AWS')\n",
      "Java\n"
     ]
    },
    {
     "ename": "TypeError",
     "evalue": "'tuple' object does not support item assignment",
     "output_type": "error",
     "traceback": [
      "\u001b[1;31m---------------------------------------------------------------------------\u001b[0m",
      "\u001b[1;31mTypeError\u001b[0m                                 Traceback (most recent call last)",
      "\u001b[1;32m<ipython-input-25-b78ab21d9ff4>\u001b[0m in \u001b[0;36m<module>\u001b[1;34m\u001b[0m\n\u001b[0;32m      2\u001b[0m \u001b[0mprint\u001b[0m\u001b[1;33m(\u001b[0m\u001b[0ma1\u001b[0m\u001b[1;33m)\u001b[0m\u001b[1;33m\u001b[0m\u001b[1;33m\u001b[0m\u001b[0m\n\u001b[0;32m      3\u001b[0m \u001b[0mprint\u001b[0m\u001b[1;33m(\u001b[0m\u001b[0ma1\u001b[0m\u001b[1;33m[\u001b[0m\u001b[1;36m4\u001b[0m\u001b[1;33m]\u001b[0m\u001b[1;33m)\u001b[0m\u001b[1;33m\u001b[0m\u001b[1;33m\u001b[0m\u001b[0m\n\u001b[1;32m----> 4\u001b[1;33m \u001b[0ma1\u001b[0m\u001b[1;33m[\u001b[0m\u001b[1;36m4\u001b[0m\u001b[1;33m]\u001b[0m \u001b[1;33m=\u001b[0m \u001b[1;34m'Azure'\u001b[0m\u001b[1;33m\u001b[0m\u001b[1;33m\u001b[0m\u001b[0m\n\u001b[0m\u001b[0;32m      5\u001b[0m \u001b[0mprint\u001b[0m\u001b[1;33m(\u001b[0m\u001b[0ma1\u001b[0m\u001b[1;33m)\u001b[0m\u001b[1;33m\u001b[0m\u001b[1;33m\u001b[0m\u001b[0m\n",
      "\u001b[1;31mTypeError\u001b[0m: 'tuple' object does not support item assignment"
     ]
    }
   ],
   "source": [
    "a1 = ('Hello',45,23.89,'Python','Java','AWS')\n",
    "print(a1)\n",
    "print(a1[4])\n",
    "a1[4] = 'Azure'\n",
    "print(a1)"
   ]
  },
  {
   "cell_type": "markdown",
   "id": "cb9f80bb",
   "metadata": {},
   "source": [
    "#### Tuple Methods\n",
    "\n",
    "1) <b>index(element)</b> - Returns the index of the first occurence of the element from the left\n",
    "\n",
    "2) <b>count(element)</b> - Returns the count of the element passed as argument"
   ]
  },
  {
   "cell_type": "code",
   "execution_count": 26,
   "id": "57b52731",
   "metadata": {},
   "outputs": [
    {
     "name": "stdout",
     "output_type": "stream",
     "text": [
      "Index method\n",
      "1\n",
      "4\n",
      "5\n",
      "Count method\n",
      "4\n",
      "2\n",
      "1\n"
     ]
    }
   ],
   "source": [
    "a = (10,20,30,40,50,15,10,20,30,20,40,20,25)\n",
    "print('Index method')\n",
    "print(a.index(20))\n",
    "print(a.index(50))\n",
    "print(a.index(15))\n",
    "\n",
    "print('Count method')\n",
    "print(a.count(20))\n",
    "print(a.count(30))\n",
    "print(a.count(15))"
   ]
  },
  {
   "cell_type": "markdown",
   "id": "626e2b7e",
   "metadata": {},
   "source": [
    "#### Make changes to a tuple"
   ]
  },
  {
   "cell_type": "code",
   "execution_count": 30,
   "id": "e8452f68",
   "metadata": {},
   "outputs": [
    {
     "name": "stdout",
     "output_type": "stream",
     "text": [
      "('Ankit', 'Harsh', 'Shreya', 'Ujjwal', 'Mohit')\n"
     ]
    }
   ],
   "source": [
    "e_name = ('Ankit','Harsh','Shreya','Mahima','Mohit')\n",
    "e_name = list(e_name)\n",
    "e_name[3] = 'Ujjwal'\n",
    "e_name = tuple(e_name)\n",
    "print(e_name)"
   ]
  },
  {
   "cell_type": "code",
   "execution_count": 32,
   "id": "30c47df4",
   "metadata": {},
   "outputs": [
    {
     "name": "stdout",
     "output_type": "stream",
     "text": [
      "['Ankit', 'Harsh', 'Shreya', 'Ujjwal', 'Mahima', 'Mohit']\n"
     ]
    }
   ],
   "source": [
    "e_name = ('Ankit','Harsh','Shreya','Mahima','Mohit')\n",
    "e_name = list(e_name)\n",
    "e_name.insert(3,'Ujjwal')\n",
    "print(e_name)"
   ]
  },
  {
   "cell_type": "code",
   "execution_count": null,
   "id": "18adfcb0",
   "metadata": {},
   "outputs": [],
   "source": []
  },
  {
   "cell_type": "markdown",
   "id": "8ee56947",
   "metadata": {},
   "source": [
    "### Comprehensions\n",
    "We can have list, set an dict comprehensions"
   ]
  },
  {
   "cell_type": "markdown",
   "id": "0566d691",
   "metadata": {},
   "source": [
    "#### List Comprehension\n",
    "It is a shorthand syntax to create a list"
   ]
  },
  {
   "cell_type": "code",
   "execution_count": 1,
   "id": "2f4e9d9c",
   "metadata": {},
   "outputs": [
    {
     "name": "stdout",
     "output_type": "stream",
     "text": [
      "[1, 2, 3, 4, 5, 6]\n"
     ]
    }
   ],
   "source": [
    "r = []\n",
    "for i in range(1,7):\n",
    "    r.append(i)\n",
    "print(r)"
   ]
  },
  {
   "cell_type": "code",
   "execution_count": 34,
   "id": "099be0fd",
   "metadata": {},
   "outputs": [
    {
     "name": "stdout",
     "output_type": "stream",
     "text": [
      "[1, 2, 3, 4, 5, 6]\n"
     ]
    }
   ],
   "source": [
    "r = [i for i in range(1,7)]\n",
    "print(r)"
   ]
  },
  {
   "cell_type": "code",
   "execution_count": 36,
   "id": "7a283529",
   "metadata": {},
   "outputs": [
    {
     "name": "stdout",
     "output_type": "stream",
     "text": [
      "[1, 4, 9, 16, 25, 36]\n"
     ]
    }
   ],
   "source": [
    "r = [i**2 for i in range(1,7)]\n",
    "print(r)"
   ]
  },
  {
   "cell_type": "code",
   "execution_count": 37,
   "id": "31a6f961",
   "metadata": {},
   "outputs": [
    {
     "name": "stdout",
     "output_type": "stream",
     "text": [
      "[2, 4, 6, 8]\n"
     ]
    }
   ],
   "source": [
    "r = []\n",
    "for i in range(1,10): # i=1,2,3,...,9\n",
    "    if i%2==0:\n",
    "        r.append(i)\n",
    "print(r)"
   ]
  },
  {
   "cell_type": "markdown",
   "id": "893b3765",
   "metadata": {},
   "source": [
    "#### If in list comprehension"
   ]
  },
  {
   "cell_type": "code",
   "execution_count": 39,
   "id": "4deea3fd",
   "metadata": {},
   "outputs": [
    {
     "name": "stdout",
     "output_type": "stream",
     "text": [
      "[2, 4, 6, 8]\n"
     ]
    }
   ],
   "source": [
    "r = [i for i in range(1,10) if i%2==0]\n",
    "print(r)"
   ]
  },
  {
   "cell_type": "markdown",
   "id": "5cc95650",
   "metadata": {},
   "source": [
    "#### if-else using List comprehension"
   ]
  },
  {
   "cell_type": "code",
   "execution_count": 40,
   "id": "bb96f02d",
   "metadata": {},
   "outputs": [
    {
     "name": "stdout",
     "output_type": "stream",
     "text": [
      "[-2, 5, 0, 7, 2, 9, 4, 11, 6]\n"
     ]
    }
   ],
   "source": [
    "r = []\n",
    "for i in range(1,10):\n",
    "    if i%2==0:\n",
    "        r.append(i+3)\n",
    "    else:\n",
    "        r.append(i-3)\n",
    "print(r)"
   ]
  },
  {
   "cell_type": "code",
   "execution_count": 41,
   "id": "e98808fd",
   "metadata": {},
   "outputs": [
    {
     "name": "stdout",
     "output_type": "stream",
     "text": [
      "[-2, 5, 0, 7, 2, 9, 4, 11, 6]\n"
     ]
    }
   ],
   "source": [
    "r = [i+3 if i%2==0 else i-3 for i in range(1,10)]\n",
    "print(r)"
   ]
  },
  {
   "cell_type": "code",
   "execution_count": 42,
   "id": "f2685814",
   "metadata": {},
   "outputs": [
    {
     "name": "stdout",
     "output_type": "stream",
     "text": [
      "[2, 5, 30, 10, 12, 60, 17, 20, 90]\n"
     ]
    }
   ],
   "source": [
    "w = [i*2 if i%3==0 else i//2 for i in range(5,50,5)]\n",
    " # i = 5,10,15,20,25,30,35,40,45,50\n",
    "print(w) # [2,5,30,10,12,60,17,20,90]"
   ]
  },
  {
   "cell_type": "markdown",
   "id": "55dcc3eb",
   "metadata": {},
   "source": [
    "#### Using nested for loop inside list comprehension"
   ]
  },
  {
   "cell_type": "code",
   "execution_count": 43,
   "id": "609f5545",
   "metadata": {},
   "outputs": [
    {
     "name": "stdout",
     "output_type": "stream",
     "text": [
      "[20, 18, 36, 35, 32, 27, 54]\n"
     ]
    }
   ],
   "source": [
    "d = []\n",
    "for i in range(5,10):  # i=5,6,7,8,9\n",
    "    for j in range(3,7):  # 3,4,5,6\n",
    "        if (i+j)%3==0:\n",
    "            d.append(i*j)\n",
    "print(d)\n",
    "\n",
    "# i=5, j=3 i+j=8,not appended\n",
    "# i=5, j=4, i+j=9,append = 20\n",
    "# i=5,j=5, i+j=10,not appended\n",
    "# i=5,j=6, i+j=11,not appended"
   ]
  },
  {
   "cell_type": "code",
   "execution_count": 45,
   "id": "056519d1",
   "metadata": {},
   "outputs": [
    {
     "name": "stdout",
     "output_type": "stream",
     "text": [
      "[20, 18, 36, 35, 32, 27, 54]\n"
     ]
    }
   ],
   "source": [
    "res = [i*j for i in range(5,10) for j in range(3,7) if (i+j)%3==0]\n",
    "print(res)"
   ]
  },
  {
   "cell_type": "code",
   "execution_count": null,
   "id": "df677384",
   "metadata": {},
   "outputs": [],
   "source": []
  },
  {
   "cell_type": "markdown",
   "id": "932a4374",
   "metadata": {},
   "source": [
    "#### Dict Comprehension\n",
    "It is a shorthand syntax to create a dict"
   ]
  },
  {
   "cell_type": "code",
   "execution_count": 46,
   "id": "1a8c4b43",
   "metadata": {},
   "outputs": [
    {
     "name": "stdout",
     "output_type": "stream",
     "text": [
      "{2: 6, 4: 7, 6: 8}\n"
     ]
    }
   ],
   "source": [
    "d = {i*2 : i+5 for i in range(1,4)} # i=1,2,3\n",
    "print(d)"
   ]
  },
  {
   "cell_type": "code",
   "execution_count": 48,
   "id": "777e4dc5",
   "metadata": {},
   "outputs": [
    {
     "name": "stdout",
     "output_type": "stream",
     "text": [
      "{6: 216, 8: 512}\n"
     ]
    }
   ],
   "source": [
    "d1 = {i: i**3 for i in range(5,9) if i%2==0}\n",
    "print(d1)"
   ]
  },
  {
   "cell_type": "code",
   "execution_count": 50,
   "id": "2ae4f38a",
   "metadata": {},
   "outputs": [
    {
     "name": "stdout",
     "output_type": "stream",
     "text": [
      "A\n",
      "65\n"
     ]
    }
   ],
   "source": [
    "# ASCII numbers\n",
    "# A-Z = 65-90\n",
    "# a-z = 97-122\n",
    "print(chr(65))\n",
    "print(ord('A'))"
   ]
  },
  {
   "cell_type": "code",
   "execution_count": 56,
   "id": "3f90b5d7",
   "metadata": {},
   "outputs": [
    {
     "name": "stdout",
     "output_type": "stream",
     "text": [
      "{65: 'a', 66: 'b', 67: 'c', 68: 'd'}\n",
      "{'A': 65, 'B': 66, 'C': 67, 'D': 68}\n"
     ]
    }
   ],
   "source": [
    "res1 = {ord(i) : i.lower() for i in \"ABCD\"}\n",
    "res2 = {i : ord(i) for i in \"ABCD\"}\n",
    "print(res1)\n",
    "print(res2)"
   ]
  },
  {
   "cell_type": "markdown",
   "id": "6695a482",
   "metadata": {},
   "source": [
    "#### Q) Using Dict comprehension\n",
    "1) Populate a dict with the lower case vowles as the keys and \n",
    "the corresponding ACSII number of the upper case vowels using dict comprehension\n",
    "\n",
    "Q2) d = [12,23,34,23,12,12,45,34,45,56,34,34,23,12,56]\n",
    "Count the elements of the list using a dict where the keys are list elements,\n",
    "and the count should be their values.\n",
    "The result should be like:\n",
    "{12:4,23:3,34:4,45:2,56:2}\n",
    "\n",
    "2) names = ['A','B','C','B','D','A','C','B','D','D','B','A','C','B','D]<br>\n",
    "marks = [87,95,80,72,68,83,57,64,89,95,91,80,70,74,73]\n",
    "Find the sum of marks of the students and display them as a dict.<br>\n",
    "{'A':sum_of_A_marks ,'B':sum_of_B_marks,'C':sum_of_C_marks, 'D':sum_of_D_marks}"
   ]
  },
  {
   "cell_type": "code",
   "execution_count": 59,
   "id": "670741e4",
   "metadata": {},
   "outputs": [
    {
     "name": "stdout",
     "output_type": "stream",
     "text": [
      "15 15\n"
     ]
    }
   ],
   "source": [
    "names = ['A','B','C','B','D','A','C','B','D','D','B','A','C','B','D']\n",
    "marks = [87,95,80,72,68,83,57,64,89,95,91,80,70,74,73]\n",
    "print(len(names),len(marks))"
   ]
  },
  {
   "cell_type": "code",
   "execution_count": null,
   "id": "23d1cded",
   "metadata": {},
   "outputs": [],
   "source": [
    "# Dummy  \n",
    "# {'A':234,'B':313,'C':340,'D':343}"
   ]
  }
 ],
 "metadata": {
  "kernelspec": {
   "display_name": "Python 3",
   "language": "python",
   "name": "python3"
  },
  "language_info": {
   "codemirror_mode": {
    "name": "ipython",
    "version": 3
   },
   "file_extension": ".py",
   "mimetype": "text/x-python",
   "name": "python",
   "nbconvert_exporter": "python",
   "pygments_lexer": "ipython3",
   "version": "3.8.8"
  }
 },
 "nbformat": 4,
 "nbformat_minor": 5
}
